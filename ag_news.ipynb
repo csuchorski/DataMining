{
 "cells": [
  {
   "cell_type": "code",
   "execution_count": null,
   "metadata": {},
   "outputs": [],
   "source": [
    "from datasets import load_dataset\n",
    "\n",
    "dataset = load_dataset(\"ag_news\")\n",
    "train_data = dataset['train']\n",
    "\n",
    "import pandas as pd\n",
    "df = pd.DataFrame(train_data)\n"
   ]
  },
  {
   "cell_type": "code",
   "execution_count": null,
   "metadata": {},
   "outputs": [],
   "source": [
    "df = df.groupby('label').apply(lambda x: x.sample(1000)).reset_index(drop=True)\n"
   ]
  },
  {
   "cell_type": "code",
   "execution_count": null,
   "metadata": {},
   "outputs": [],
   "source": [
    "from sklearn.feature_extraction.text import TfidfVectorizer\n",
    "\n",
    "vectorizer = TfidfVectorizer(max_features=1000)\n",
    "X_tfidf = vectorizer.fit_transform(df['text'])\n"
   ]
  },
  {
   "cell_type": "code",
   "execution_count": null,
   "metadata": {},
   "outputs": [],
   "source": [
    "from sentence_transformers import SentenceTransformer\n",
    "\n",
    "model = SentenceTransformer('all-MiniLM-L12-v2')\n",
    "X_sbert = model.encode(df['text'], show_progress_bar=True)\n"
   ]
  },
  {
   "cell_type": "code",
   "execution_count": null,
   "metadata": {},
   "outputs": [],
   "source": [
    "from sklearn.decomposition import PCA\n",
    "from sklearn.manifold import TSNE\n",
    "import umap\n",
    "import plotly.express as px\n",
    "\n",
    "X_tfidf_pca = PCA(n_components=3).fit_transform(X_tfidf.toarray())\n",
    "X_sbert_pca = PCA(n_components=3).fit_transform(X_sbert)\n",
    "\n",
    "X_tfidf_tsne = TSNE(n_components=3, perplexity=30).fit_transform(X_tfidf.toarray())\n",
    "X_sbert_tsne = TSNE(n_components=3, perplexity=30).fit_transform(X_sbert)\n",
    "\n",
    "X_tfidf_umap = umap.UMAP(n_components=3).fit_transform(X_tfidf.toarray())\n",
    "X_sbert_umap = umap.UMAP(n_components=3).fit_transform(X_sbert)\n",
    "\n",
    "df[\"label_name\"] = df[\"label\"].map({\n",
    "    0: \"World\", 1: \"Sports\", 2: \"Business\", 3: \"Sci/Tech\"\n",
    "})\n",
    "\n"
   ]
  },
  {
   "cell_type": "code",
   "execution_count": 72,
   "metadata": {},
   "outputs": [
    {
     "data": {
      "application/vnd.plotly.v1+json": {
       "config": {
        "plotlyServerURL": "https://plot.ly"
       },
       "data": [
        {
         "hovertemplate": "color=World<br>x=%{x}<br>y=%{y}<extra></extra>",
         "legendgroup": "World",
         "marker": {
          "color": "#636efa",
          "symbol": "circle"
         },
         "mode": "markers",
         "name": "World",
         "showlegend": true,
         "type": "scattergl",
         "x": {
          "bdata": "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",
          "dtype": "f8"
         },
         "xaxis": "x",
         "y": {
          "bdata": "UVcMciC7nj8DmXhnZtmnP6eL/J8uYqg/awYvwa5Ooz9qXmkapi6iP98bRhvKraE/SjQ4K3xHyL/N6PBjPSjBP6bz+OWtgKi/uZA99tT1sD+tO0Twna1Xv/+ZrIxpZsE/ciMAzFHzqj8xlqhi9xfCP5T226iH/Io/tWWjpovDoD8HtT8W5Z+tvwWjeJ3WMqI/wxjYh0LOsr9ZLCHsYFu1vybMrbc4HbO/WAY/drcRwL/VE9DPPMqtP8q27S08ebO/+zrWXfd4jT9CnTL+XAzLvxsqt3pvT2C/v+wNZPeRl79z06alWUyQvyef0gEla5m/CxALpg2RyL95R7YN/Cy0vyx68feQMLW/0fDwPqgps7/vJWOhaZSdP8x6U9z3DYa/V1jILC+asb/PktFI6za/vw5MNt0PwbC/HDSNzY8Gsb/6WEpQSVitP2aHmX6c0Ya/PhJzxW24sb8BO+YbPgeRv9X7yuUvk3A/JphE74PDr79CVe0mbTalv/NW5pJU7aQ/dCsRZik0qz81f6ssysuaP661q8ll6a+/P4dWKWOKsr+UGUX1hdt2Pz90o/3aUJO//8lOCqErr7/qf/SBCpXQP6xjvd1WrqI/E66HrZ7zs79uVommH/+ivz49pR12prk/lcFag9Drrr8Gs4zgFXaIPx9sGvvLP7e/TXpVUKEhqr8OTzDQJrqUP2Lnzds04qa/Rf71s710qj9Yo/wVDISkP97XFo2PBbM/8AZYNe5aur/8TUUFAxjHv28owralAJs/D3ASOdNdtL+Uu3kTslemvxEXZhRlwLM/ETGPhjzppr/VE5vcd56pvyxT3PdoIZa/kxMP5GdZu78KnnlNKteuv0avKFurr6G/0lJd5EOssr9VPsvhE5qhv0z1kHbGx84/+Z8K9HUKob8UQFbIzxmmv5he3iBPl6u/d669qaFgtD+uCWh2ANlCv6q4AsU6sae/EkgRBBf1jb9v1OmJrrG1v0jQffksZry/OkUEKDpxyb+0naaHr6CbvzJ5aq+S0qe/S+aBLcOUr78XULIlxnqNP7D/po/fiKk/XJWpgmcwuz8RzDxy4xDCv8XEoIrqD6K/AHeP5GC4wL9nPDy9vkqiv4sDXjiko8M/xzKVk1ZLp78XzUfMlWO4v+tt9CPjM8C/iCrLDUrYtL+jDgws7jKpP+8xiw/o06Y/7vyV0NNbsb/UFC9m4oJ1vyaVYgh2G5u/ZNeLON0JkL+qDU4tdpGxPyWv+rr/qse/rIQSJ+xDrL/mOP9PqAiZPzZTOabsh36/3IWT6G+9oz8Jc5YSEQavvwVE8YdqGq2//KxHOFuPqL9zHFCsGD6lvwKe6VeJD7Y/1hBCgsp00L+JtEep3Wyvv1HST2lbMrQ/nYRTIa/1sL9TE2RkUOmTP1QuN/86J8c/kbYu7tQjx78ubJDwoxy3vw3/rxUWdLI/Y/44p14xwL/AZoZhFkiVv6t+zZd64La/JqYgaoFVnr91Pwy6wzy6v6pbviLuFLK/N7j8GyOlsj8IZ0GRM9J3v0jo2H/h+KK/pdnk3L4Iq79iTBfTjaLTP2CEFo7G5q+/A7NtbqwYoT9uYs9rBW3Dv7nHkH4wPKk/2E7qHvIqo78+/wu6CVCQPxI91317D2s/r/bWHow9tL86MqHySqvHv6YWX8koG8y/UfPS2m4zaL8efg7zr7arv99n4GcTCbC/bvW+jgJpsr8pR8jJI3ayv2DyFwzcfKg/6h9G8qu8vL8PfODnmc/EP5h2JVQSY8K/QUyKWfMprj+jIxJ7HxHDP6gcQA494W0/BU8xWuUMpr/7rIviAIaYv7ss7XH0NKC/wOozF43FvD+1NxJBAZPMP1PqHF230MU/omGZU0j0uD+SoHMh2Q/Ev66MVtxplbK/QCFoUXEvq7+g5VWgqL2zv6ifPAshh5W/YWSLhf15wj86DqAmtfSqv6iNb0iuWYQ/UNbP2yZPnT+zkRZvO0SWvzSpaaHVCpm/k/d5snYXtL8Kl3Tylg+Sv7zvBy1HcaS/sgd1wm1mtr8XFuOMEgK9v9q0E/dq8LK/W3SOrup8oT/cRM4RYFGxv1ypSr/8G48/tEutYQMxyb+SUgCA6ca7vwCYC6frjrK//Milc4Ffpj/vVI4hpoqev1QWI1qdX6K/L7WbGXJdsr8VjAqoM/vEv6tL2wanQ5A/ol0rxEM0rT8EifQRwzapPymM9VIDh7a/fi9FmMs+uD9M9I9jQZ2Cvy6OGyWp0MO/f4f+fpkqtL8UGwTVM+HBP4tQCNFX45O/FsAUlXjNpr92rd8Da4aUPwjZOwLyfLK/MNTxPkbajj8nbJ1WCNW2v6qKVtR7cLG/Bk99NgBcmT9LVs1H74ebv3UQXnwuq7W/8KP6R1WFoL9g81DR5s+uv5UCZrGcWr+/0LwAolfSs7/gHXoZ/XWyvyex7Fbq4aa/RZsiHUvgsj/Ff++eF67Lv/s+j/Vhc3k/bmTwnTKzsL8hPqFPTt7JvwN2E/8wJcm/hPEYjcnP3T9+qJrEu11wP3cKWWb6R4K/nZqNG782mr82iOmGz1STv9nQh3afYqa/DEjUgBs2nr+ErhwUQU3FP1dhCJ2aU6C/tC0dS9vuwr9alXybim64v1XFmB/UgbO/KxaPiBqopL9iLj9bFei9v55PdykgRsK/rm3UY013mr9ZG8MCujGMP6Kx+ANy0qa/xlDHZRXnjb8Cydo+6nSxP3NFHJUQcbK/39pfw7rpn78Mc/ih8aW2v6N55N4EoZs//8Tk1lPKsb8Tjyoj5wSYP31bFFWkfrS/7Aagsiojyr8xiRMKfFqTPyXr3RWiC62/pGraV0VWtr/2GcREF0qzv0lkolYgjrS/TMBo0DDZqb/lw76PoO2dvzwdpFY0z76/0JtDux9SqL/yWMzE6eMXP1hjRGAcDXU/0EN+2rTYj79RGCr8WZ2TvzAc38Z/Q6g/leIxGQYVo79LQF6aCxCnP1iLNXbhRKm/Ng8IlxJQbz8OIeZxc2+0v999qQCW9nm/wDaaKMZroj8zIxJCo5ijP5d/QI+iZ5G/BOTyYDwgrL82Fni7BkXCv+dPUD9q7Ja/kYNqWEw6iT/FFPHLwPiEPxvCpBSnD7A/2DeccTF1mL8XiiJWwvhiv6CjX83VoLO/Er8xYknqnj9xJyqHbrvAvz8lhYXS9bm/ZtqoZD9oqD9ayJ/S5RC1vwsi/wvnNbs/sGvileWip78wMUuTimqgvx7zuUhVRtQ/xaNgLPSisb8pa444o/Szv4BnO18MbmY/1ZR164TfxT+2crBxE4XEvxhm0M3wmpG/YI3cPri2tb+fKhMG5N+5P4vY6cKf67S/wJ79YZrr0T9ldG6+53Z2v3xByg3nTnu/ocYIbySBmD+sydlhgLVOv64bBTjeR7W/6kJ6IaH4wr9OTRpKmqGiv94gH11YA6u/9Y85XwM6xb+wDbQryvvBv0wmkmnPQK6/3ilv71t+yT/euHPymS6pP19qwJWLdqk/s3+S2NFhqr8QuwD15+6wP2URFGl766m//RvE8sd0s7+oqlHL1m6iv8XsnqwlyLO/Ouhsdwi/or975SlR1XqBP3LBS9B0Z7a/9Zy0UtEvgj8QBHhZ3nJxP373DkXdBr6/TdlfLGsuqj/qjupbRT+nP9bshFv2hJa/y4w7wef4pD/UyNMgskTBvwdTJ4hdAYW/v25kYyg4sL/rF+5oXE6mvw2Kl2HmgqW/aqprh4G1ur9kQdLvfMugP0KXVvkdeLC/lyF21h1Sr7+kHM7mjdR8P0IytqRNUZU/xhOcrSBohD/UOeGq8C+zv7sMVKQG17e/wV61Yf3it7/sxj2tJfXCP2neL9iV8oA/7ZObLZp0sr+Rkn0Mb7NxPwDt+cUp08C/mmnjCckjpT8QJSGKyF6jvzSRU7gvsbi/ORQkGDlQwz/uX9p+MRDCv/K/h/btqpE/6Li2i/D7oT8MSZwOUO+GvzcsSQ0g3ba/TADo5Xats7/erdhqvhmpPzPwUwkjD22/00obGgiStT8bP9ruamCjv6N9BwC4vLC/YL4gEUNdnD8gtbmVHPDEvzZZFd0vdLK/Wqie36Xgmb8Auhvs7n2xP8ZUQzB7v42/KuVFvP1ejT8sgTIbo9+RvwgjjmkGcYu/LXlTy/m8pr8d75cc/h20vzTI/jXgv5e/P9jSYZ2Ysz9OBkUzho27v+Dj7OVl77G/kEwmsY0vyb8FpVgJimW2v97r26QQiai/oxvnhfRJkr8UsPodlNHQvya/y3LHpLy/Seqj7x2huL9KPqMD4nuOPzQgdufk8Ly/2LYjJbSTw799tt8SULN9v7kgk8SPDI0/hXK4i3hEo7+rJzNWoJKtP1j89QVAxJ4/gjfrbhxJgj/Bh7gqrsGRv8S/l6U+Fqy/FJ5z7p2apL9g2O9B1YquP6l0/vWW2Ms/7d1MpaFkYj9kKonfhiuyv5yQMAG8V6U/Qq+F6cY6j7//Ni4FTGydP0xVEeUAhc0/PNQHRLoJxT/QlZ08Ox6nP9a6MiSYm6g/1HRq/QOltb/mdPgKYwunv3auyc8tgqM/KDjuwIXelr/aZu+zk8+Uv2I+phsIY7S/c4UvX9tZlb+KTSr7Bb+Cv4L3oBO2Dpo/QtZpTggdpL8h1eQse0jDv/G9q1H6Lnw/vUHaatb8xj9n3H6YEy+mPwu8YN3Wo7a/XliiYpzem79hqg9/7kqXP/LOj4n2ibS/dKi1CuZ0aD96Gxk3XlO1v01FQHQ1dps/sy5ZAZfzgT+qNJEPBgiqv/El+r2Ev4W/IGttm8sYt78GhW3xvmvOP3GzJJjovas/zksmI+kuvL+O8qusdtWuv8fZ0o1ptsY/jIXq3uTVs7/tvikHRcKpvzDZTq5p/pG/9xlc3roRu78p+jxRQrDGvxKBCzxC5oY/zHl1Efy/qL8S+OSYssSrPzCG4d9VK8M/2eYvjjrbnb/eRzLnZgzRP1IMhGF/Hqm/unklhzGvqr8W8TEbZ5KAPxGHKDg3B7m/SXGXdWGMsT9C28w+ey2tv8xbtXpuUWG/xKJFo/b/rr/x2EBXnxKOP9O77/eiN8I//89Gmok+ib8Elnk3dVm9v+TVyotluLG/ZgHjSKq2sL/RR5tXHiluvx1V/v7kt8S/AMgSVfzHvL/foI32V9i+v7qKb6iUwnA/cVhLAatEtb80EUDbSB1gv994OzPh/pA/iQJ/7yJYmb/EW2k5193Ev8cbGFJ3K74//2pm2Y9Utb/VuzIZJpeFP03O6i0LyXQ/qPhwydC6rL/R+ho5UKm1v9qSCeNIXng/pjz2UK9Gqr9qTOB7cn6pv6nnBCMMUZq/fioQP3fXsr+VV2dPLgarv7CPonNBDJe/yHYhj1UPqb+qiHbfQkOhv+HxD9DLpL+/eAf1XEEvq786XzmlJ2ljv6UubrR/Nb+/R7uZ7/BLmb/ZvbNpxA53P+NPpITyqMU/H1+Xp0IKTz/Xtt03k0yVP48nV6mBhJ+/HZey9c0dqr/d0HvJKm2vv2EjsdKY0J4/6alr3WDAUD+rhoDXPc6wvzqffe3t/bM/5nM+RNXcwL+6Voe1aivNv812wVL+5ae/2HPDGuKrvr9pA0hdeLNWP/O39azw9rE/NrI0oGgvsb9ZH8ogQa20v7iKfFuku66/yXtutiodlb/JrZP2MkvBv/3hkpIvt6m/srXtr1y1jT/IZd8pXjmiP667T4YVAK4/swSPnKhgub+MnCpTQvmSP3THAxmbJcC/Fv4cZOR4gz+HKfb9wkeov4bDGoDn6KA/aY5KdnvhvT/5I8e4R1Sfv1qnR9dcJIO/L+tMRh/UyL++i8GwVYSAP46/sqgllWc/Gag3ub3es7+3WGTQ6EKyv2EwMv33Aq6/Qxo39htlor8MqpAlaS3Bv33KUfDt2Zs/sUhQs/jidj8/r3Zl9Dm2vyRX1hAepFC/6dxGaMRHi7+Thu+EXwOnv+o81ejLQ6E/4JbknsINuL+VKmEium6kv5kEXC0WbJu/BwUNPYAHsr9vGgkWQV6sv/MaKAxNbrK/Z1GKgXKCtb8LBVC0KO6tv85KmHzW3bO/jqKBxIsFxj9k4ClaW0u3v8tdTwv2z42/KUOvsVI5Rz/5gPd5h31Jv/0RoGiimac/p2w+Q7hvxb/C6ZG2gguGvzPIW+OQDVM/f8dtbbjosb+K8h5SEsvBv/BWq2FRKJ+/EEWn2XHJo7/8q9GHYq+cvy5ShVakEaS/mdc/5J4Dob9YvDKCEDi1v/OVY4dnPra/e7BYqXPSq7/zFWBM2unCP3dWDKBoC28/QnBMxfN6or8MrOrYInOSvzgEtsI7Sqw/S4hxcLFoub+VOebCQfqqv6nK7Y5s3p0/9gcWZKCKoT+OV9y1vsy3v8sA4IstFay/YnOkUdPOwr89bxuC24ilv8gQNdrF2YE/pnvySFJoZL9NvKFbr1q1P775WLqepJK/kw5SgORSor8keWggNUqvvzw35NcI2oi/FypGf5U7rL9WBzD8Pdaqv3F36TKu47Q/wLOR483AsL/+IMce5i65v+GVoHOo8LQ/H9TnTcyotb/V0B2JGF2ov8QXGMnbIJM/8vCESSZNwL/jVuJntsG6P1EVH3wC7oU/CHbaQy2Mh7+MQ7uq0Z+xvxbsSCkjnom/DGjfC69Ckr/tAN8xQFaRP0VOPoYmjMA/fzk8Q31ouT8klCD208tgv3er7yLNw6U/GkI+znqkoT/4ZfrKdEuSv2RrMQWAJLG/F5gu3Jebrb9Pinhi51qzv6e4EVL4BKq/x4aY09R+qr9UPBdJFFSavyOivo2OqJG/fCuHjswPvz/iQ9de5vWwvxgfhB0fYLO/soEolr4Lur85O/ulhbubP+F0FCeCVqW/ptLoBRNsuT/5HBve7je2v6AQIh6J/py/sxAjRcN0wb8jKxDlxm+/v93k9Db72qe/vfoqUbW0vz+sgoMbGAxjP7X946k9iLY/oFBHsze5nz9OZO8totTEvxn+94/NK7e//VKCfImMsL/nfWyYG+6+vw+Q6iXepqS/fhODs2/dsL/eWkALzOuwv8qSoNX5DKe/sQEtcx34mD8YrXQbA4ajv1ZHZUJmvZG/SAKuO1MGt78jZ9GSMxRov7H6nl/qWb4/qpKjNvuLfz/vldsGZOCZvwxPYQg4ebu/xkFCb5jkmj92tNFU3DSBv2plwQ0jirq/7J0XulsDpL9Ndcwx/zjDv651krVAN5C/d2zsw2cOur8xJrWIrVSEP9ZpDpM6GqC/QjHvOi3zjL/nsSUUfZhoP41aHTK2/LK/hdDymnR5tz90cmrAgNvFP//od/+8J5s/5jKHhrMKoL8uIGXpUCCSPx4YKjnG5oG/XDQ5mVBZhD/FvKVpVTPAv+H41KNbfLW/UHFglRiko7/qGH8qJE6DPw1qU3sOlqa/2v5NnBMKsL/ObNZGDe+vv3odFjYlF22/tHFW4+M3g7/dSKrzUUSxvxSK0PfnlLO/7V3w7GIQcD8qAx4aQp2Hv/LFsrXiPn0/0xPOdT80ur97kJvGyEejP/ZhUgIOtcq/+KAOgRIipb8Ad+Z7FUubP0qheIhWva2/sIu68T5Hkj95J7CXnZK2P+/Z4H1QHau/pPpEvOdCn7+9xOabFhjBvxv4icZuwJU/Bq34IHG/qr/5RS2j0OCwP79w7oV1k6S/99302wr/mb/NjMDZPfjIv5FxerI+dIy/SMXVmN6InL/+Sccx4Cauv6b2MuI4wpk/HIxgbmG5or+9yTvt/6eMP85dWVTYCMg/SeiYRRPBpr8DFaVvbdmsv8ctozF5f6U/KV/Xx+CmrD9saAS8rQ+4v4ugFfvO5r2/IfnRHHTbpD+7ASPeMmSkvwiTUvK4maq/rkXJyu9Jlz/75qahDwGdv711o7De3b0/jX6yMi9rv78y5J8e552lv6Jymf+4YI6/8aP3HvTlvT+QuoEBCOquv+qTKk+zeMC/jFuM7kglw7+KTv+hUK+ov1wt5iin6YO/kYr0dXNAxb9wGZ1GiKizP/n2ATzPoJS/2c12V9aStT/IVlNP/tKjv9vdoakGLcO/CcnHVtyzgL9jyyAFdCa0v1CWIgSLs4W/AeTiNAbKoL+Xt5YYQyaZv0eOZKhKtaG/G7iwvSEpnj9LKJ3iR6awv5eY1SrDHXY/O4F0zkDSgL+4byb3hLR8v9l/UmBpf6Q/xBSRDQi41T9r+d5qJSbDvyHmPAmSLnE/yoM8V/aSij96zfXuOaalv2TObTy+47O/WU9yAoqAor8VNVXJfyejv1BLbhay56O/RMxZOKatX7+BiLSt94e6P0gAOPG/ScA/aarmLqUlpL9822Ydz4Jlv87bjzr0gLe/V4IZyvzSwr9aw2p59abAP/0BrKbftKa/0Dt83EIvsT9PI0Bo7DSEP7YoW2enkrs/ATqy5tWZZr+YCRgK3GmyP3Cu/9+XnKS/jRhsU6qxv7+jGT7Z4Yyiv117gSRD9W8/Gabwz/JcsL8ASDlemtq4v9ZkFg4q8Go/rTQIg4/YsD97y0M+sxWgv3gqiF1oI6I/sXk3LEOZnz+8G+o6fRCdvw73n3lHYrQ/vmlZVbUfwT9Iv3QMJP6XvxpbY6Zl17W/d4/sDdYrmr/uOOmazBasPyKsI8HnUbO/1wCKgcfqq7+Pt15w5Rmwv4i0ce6H8Mk/stOrQVvbvr/Vb5E0dzimPx2S3E0aS8q/L+VDRfHrcj+uuS2DX2apP/sxl66kPcW/p+6uG4ZUsr/T2EcWHzGUv+Ciq9vJlbO/9dGBmAllt78C1PhANLWJP0UEs6WyErC/FvegSKdEtL8/GjE8VLihP8e3vcDx0oQ/Tw4gW9Ckh79oeRWSzdyCv6jlF/bC2cC/Jf8METwmdT/e2kP4nPGBv0EK5Z9qPae/V4eHGOYRnL+X5jDTqkOpPzBep2GjbLK/ZcoL7YdezL9Iw1wO+mS5v9ZkwshpuqE/97WP7CtKqT9l/7ER+z3Dv83Uv6xczb+/6MjMduGds7/6JCuDHJmnv1ECVX0FmIm/MJvUtYRBxD/kWNfURsqlv+9rjWqm160/5/m1zfHUsb8GbvKG5yypvxHUudraqLW/sAUOM3SjiL/zR8VxKfe2P/RY/krtU7Y/Q8dEtXPver+9joa5YJCSP4oQ69ViVsS/VSn2yfpxzD9J6GLIR9Cuv9ae0hyBeK2/w5nK/oE4lT9uZxIHypy+P9VMxHf3v7S/86+9mijhpT+gqo0Cz928v9Kn+ahO0ZS/PfaenSsdt7/Q/H8GWPaOv5leMam28II/24CoAKI7sL/9APcVzv6UPxhA2Mil/5M/wWOWyspjxL9ye3o3wC+Mv661+H+sgaO/D5nFcZOSmL8SQWyOFQPKv5UOHK3gmco/r7f5lURtpj+FcN5zybK3vzYEqDeTgqY/k0fP9mhcsb+ZXV6rSHOpv6wDZLe01JW/J2OT0CtFxr9wOZ21IC+2v+dtXcqt1MU/mBbONcBLrb/X9Onersukv/7GbBrw7ZS/kQa3JJqlxL/qrKlr+Ma4v+GR58+WQXC/99o00SUl1T/A5bZM6HCIv9ejbAq26Lg/3BhI4wkYQj9JzURclTmhv7SVJnCHNr4/8nmc8Ceft7/JEUfxCjmVP2qV+62GyKs/AhaRlb84s7/57lpD3JS7v8v1rnOphIm/v9bIb6Nktb9jIJ/MdXKtv4sONZUlg0Q/oMBu0Xterb/91U2QK+6wv4ZvrODGGso/eI6lg+qYvb/apQ/Wtlu2v/BsAsVkHM2/MsQEXMexpL9O1w6V382eP0BybttRraa/z3ddtYqFoD9eb2BY5+u9vyrnTj8krG0/1yDPeVNUoL88bD8z9SORv8SqxtpCf0k/sCTd2vwskD/zOyJKPhyDvxAdabclz6+/aw2g28kRoD+FHUWdzTO7v+I2JzsCh7E/bBYUGq8bsb/gw9ixaKnCv7NBMh6oYqm/t8mzGfE6Pz8aFS9lZYCzv4w1u5okQbO/tfC+ALO/sr87b+2czjjIv2cJs17+3qm/987L/beqqr/rJE1icTKYP5pyfMeEBr0/rhT7FXyYzD8sLnYj2+Wpv7UM+UPLQ5Y/cs6Vos5cpr99Sdmrj+KQv+y3uAf1krO/eLnZhxBetL9HqGcphs61PwliFnet97S/vi4XTdkauz/XG/ohZCSlv/n0fr3mIsM/nw7dLJYXoj8L3l3wwLJ2v+FxemhDWKk/hPtPBKuOhD/o+692O9m9v3oPtNAGn8Q/vtf4/aeNkL9DOxPijxzHvytgx/Oxen4/g8iP2TvUgT/bbvarbJKaP9aAOoa+65a/k9N+TuCznL8GyCnpwuqDv+OEi75J7JG/OoASJty6vj+lTs0zt36lPzQ81Xjfp7S/DICMTb6nxb+Y59jmVqywv0nS7hzcmqE/r6JnZhpSk7+kV+HUnGO3P41rEneNqLA/AsyrW3jhxb9a29TJkVmgP/hZJiiKgp2/9AjkSGgLir8QdVnvPgaBP6l5w7RIn3s/nmTrY+5Klj9UQigEcT3Fv3nj0j/01sq/YTxpc0P5kT8e8uSOZYyMP8IRYBcFGq+/OeHxLMhTsb9X7YRI8Olgv83e2TY8KG8/NPv4Ny1rkr8d0fo/k1edv6Udbufva3+/pz0JxYMCo78F07HL8aGlv1UzSDh7/Z6/uTWfCEHSoL9/5idkoOu2P3r6PiRm17C/2yy8xQQrp78=",
          "dtype": "f8"
         },
         "yaxis": "y"
        },
        {
         "hovertemplate": "color=Sports<br>x=%{x}<br>y=%{y}<extra></extra>",
         "legendgroup": "Sports",
         "marker": {
          "color": "#EF553B",
          "symbol": "circle"
         },
         "mode": "markers",
         "name": "Sports",
         "showlegend": true,
         "type": "scattergl",
         "x": {
          "bdata": "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",
          "dtype": "f8"
         },
         "xaxis": "x",
         "y": {
          "bdata": "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",
          "dtype": "f8"
         },
         "yaxis": "y"
        },
        {
         "hovertemplate": "color=Business<br>x=%{x}<br>y=%{y}<extra></extra>",
         "legendgroup": "Business",
         "marker": {
          "color": "#00cc96",
          "symbol": "circle"
         },
         "mode": "markers",
         "name": "Business",
         "showlegend": true,
         "type": "scattergl",
         "x": {
          "bdata": "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",
          "dtype": "f8"
         },
         "xaxis": "x",
         "y": {
          "bdata": "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",
          "dtype": "f8"
         },
         "yaxis": "y"
        },
        {
         "hovertemplate": "color=Sci/Tech<br>x=%{x}<br>y=%{y}<extra></extra>",
         "legendgroup": "Sci/Tech",
         "marker": {
          "color": "#ab63fa",
          "symbol": "circle"
         },
         "mode": "markers",
         "name": "Sci/Tech",
         "showlegend": true,
         "type": "scattergl",
         "x": {
          "bdata": "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",
          "dtype": "f8"
         },
         "xaxis": "x",
         "y": {
          "bdata": "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",
          "dtype": "f8"
         },
         "yaxis": "y"
        }
       ],
       "layout": {
        "legend": {
         "title": {
          "text": "color"
         },
         "tracegroupgap": 0
        },
        "template": {
         "data": {
          "bar": [
           {
            "error_x": {
             "color": "#2a3f5f"
            },
            "error_y": {
             "color": "#2a3f5f"
            },
            "marker": {
             "line": {
              "color": "#E5ECF6",
              "width": 0.5
             },
             "pattern": {
              "fillmode": "overlay",
              "size": 10,
              "solidity": 0.2
             }
            },
            "type": "bar"
           }
          ],
          "barpolar": [
           {
            "marker": {
             "line": {
              "color": "#E5ECF6",
              "width": 0.5
             },
             "pattern": {
              "fillmode": "overlay",
              "size": 10,
              "solidity": 0.2
             }
            },
            "type": "barpolar"
           }
          ],
          "carpet": [
           {
            "aaxis": {
             "endlinecolor": "#2a3f5f",
             "gridcolor": "white",
             "linecolor": "white",
             "minorgridcolor": "white",
             "startlinecolor": "#2a3f5f"
            },
            "baxis": {
             "endlinecolor": "#2a3f5f",
             "gridcolor": "white",
             "linecolor": "white",
             "minorgridcolor": "white",
             "startlinecolor": "#2a3f5f"
            },
            "type": "carpet"
           }
          ],
          "choropleth": [
           {
            "colorbar": {
             "outlinewidth": 0,
             "ticks": ""
            },
            "type": "choropleth"
           }
          ],
          "contour": [
           {
            "colorbar": {
             "outlinewidth": 0,
             "ticks": ""
            },
            "colorscale": [
             [
              0,
              "#0d0887"
             ],
             [
              0.1111111111111111,
              "#46039f"
             ],
             [
              0.2222222222222222,
              "#7201a8"
             ],
             [
              0.3333333333333333,
              "#9c179e"
             ],
             [
              0.4444444444444444,
              "#bd3786"
             ],
             [
              0.5555555555555556,
              "#d8576b"
             ],
             [
              0.6666666666666666,
              "#ed7953"
             ],
             [
              0.7777777777777778,
              "#fb9f3a"
             ],
             [
              0.8888888888888888,
              "#fdca26"
             ],
             [
              1,
              "#f0f921"
             ]
            ],
            "type": "contour"
           }
          ],
          "contourcarpet": [
           {
            "colorbar": {
             "outlinewidth": 0,
             "ticks": ""
            },
            "type": "contourcarpet"
           }
          ],
          "heatmap": [
           {
            "colorbar": {
             "outlinewidth": 0,
             "ticks": ""
            },
            "colorscale": [
             [
              0,
              "#0d0887"
             ],
             [
              0.1111111111111111,
              "#46039f"
             ],
             [
              0.2222222222222222,
              "#7201a8"
             ],
             [
              0.3333333333333333,
              "#9c179e"
             ],
             [
              0.4444444444444444,
              "#bd3786"
             ],
             [
              0.5555555555555556,
              "#d8576b"
             ],
             [
              0.6666666666666666,
              "#ed7953"
             ],
             [
              0.7777777777777778,
              "#fb9f3a"
             ],
             [
              0.8888888888888888,
              "#fdca26"
             ],
             [
              1,
              "#f0f921"
             ]
            ],
            "type": "heatmap"
           }
          ],
          "histogram": [
           {
            "marker": {
             "pattern": {
              "fillmode": "overlay",
              "size": 10,
              "solidity": 0.2
             }
            },
            "type": "histogram"
           }
          ],
          "histogram2d": [
           {
            "colorbar": {
             "outlinewidth": 0,
             "ticks": ""
            },
            "colorscale": [
             [
              0,
              "#0d0887"
             ],
             [
              0.1111111111111111,
              "#46039f"
             ],
             [
              0.2222222222222222,
              "#7201a8"
             ],
             [
              0.3333333333333333,
              "#9c179e"
             ],
             [
              0.4444444444444444,
              "#bd3786"
             ],
             [
              0.5555555555555556,
              "#d8576b"
             ],
             [
              0.6666666666666666,
              "#ed7953"
             ],
             [
              0.7777777777777778,
              "#fb9f3a"
             ],
             [
              0.8888888888888888,
              "#fdca26"
             ],
             [
              1,
              "#f0f921"
             ]
            ],
            "type": "histogram2d"
           }
          ],
          "histogram2dcontour": [
           {
            "colorbar": {
             "outlinewidth": 0,
             "ticks": ""
            },
            "colorscale": [
             [
              0,
              "#0d0887"
             ],
             [
              0.1111111111111111,
              "#46039f"
             ],
             [
              0.2222222222222222,
              "#7201a8"
             ],
             [
              0.3333333333333333,
              "#9c179e"
             ],
             [
              0.4444444444444444,
              "#bd3786"
             ],
             [
              0.5555555555555556,
              "#d8576b"
             ],
             [
              0.6666666666666666,
              "#ed7953"
             ],
             [
              0.7777777777777778,
              "#fb9f3a"
             ],
             [
              0.8888888888888888,
              "#fdca26"
             ],
             [
              1,
              "#f0f921"
             ]
            ],
            "type": "histogram2dcontour"
           }
          ],
          "mesh3d": [
           {
            "colorbar": {
             "outlinewidth": 0,
             "ticks": ""
            },
            "type": "mesh3d"
           }
          ],
          "parcoords": [
           {
            "line": {
             "colorbar": {
              "outlinewidth": 0,
              "ticks": ""
             }
            },
            "type": "parcoords"
           }
          ],
          "pie": [
           {
            "automargin": true,
            "type": "pie"
           }
          ],
          "scatter": [
           {
            "fillpattern": {
             "fillmode": "overlay",
             "size": 10,
             "solidity": 0.2
            },
            "type": "scatter"
           }
          ],
          "scatter3d": [
           {
            "line": {
             "colorbar": {
              "outlinewidth": 0,
              "ticks": ""
             }
            },
            "marker": {
             "colorbar": {
              "outlinewidth": 0,
              "ticks": ""
             }
            },
            "type": "scatter3d"
           }
          ],
          "scattercarpet": [
           {
            "marker": {
             "colorbar": {
              "outlinewidth": 0,
              "ticks": ""
             }
            },
            "type": "scattercarpet"
           }
          ],
          "scattergeo": [
           {
            "marker": {
             "colorbar": {
              "outlinewidth": 0,
              "ticks": ""
             }
            },
            "type": "scattergeo"
           }
          ],
          "scattergl": [
           {
            "marker": {
             "colorbar": {
              "outlinewidth": 0,
              "ticks": ""
             }
            },
            "type": "scattergl"
           }
          ],
          "scattermap": [
           {
            "marker": {
             "colorbar": {
              "outlinewidth": 0,
              "ticks": ""
             }
            },
            "type": "scattermap"
           }
          ],
          "scattermapbox": [
           {
            "marker": {
             "colorbar": {
              "outlinewidth": 0,
              "ticks": ""
             }
            },
            "type": "scattermapbox"
           }
          ],
          "scatterpolar": [
           {
            "marker": {
             "colorbar": {
              "outlinewidth": 0,
              "ticks": ""
             }
            },
            "type": "scatterpolar"
           }
          ],
          "scatterpolargl": [
           {
            "marker": {
             "colorbar": {
              "outlinewidth": 0,
              "ticks": ""
             }
            },
            "type": "scatterpolargl"
           }
          ],
          "scatterternary": [
           {
            "marker": {
             "colorbar": {
              "outlinewidth": 0,
              "ticks": ""
             }
            },
            "type": "scatterternary"
           }
          ],
          "surface": [
           {
            "colorbar": {
             "outlinewidth": 0,
             "ticks": ""
            },
            "colorscale": [
             [
              0,
              "#0d0887"
             ],
             [
              0.1111111111111111,
              "#46039f"
             ],
             [
              0.2222222222222222,
              "#7201a8"
             ],
             [
              0.3333333333333333,
              "#9c179e"
             ],
             [
              0.4444444444444444,
              "#bd3786"
             ],
             [
              0.5555555555555556,
              "#d8576b"
             ],
             [
              0.6666666666666666,
              "#ed7953"
             ],
             [
              0.7777777777777778,
              "#fb9f3a"
             ],
             [
              0.8888888888888888,
              "#fdca26"
             ],
             [
              1,
              "#f0f921"
             ]
            ],
            "type": "surface"
           }
          ],
          "table": [
           {
            "cells": {
             "fill": {
              "color": "#EBF0F8"
             },
             "line": {
              "color": "white"
             }
            },
            "header": {
             "fill": {
              "color": "#C8D4E3"
             },
             "line": {
              "color": "white"
             }
            },
            "type": "table"
           }
          ]
         },
         "layout": {
          "annotationdefaults": {
           "arrowcolor": "#2a3f5f",
           "arrowhead": 0,
           "arrowwidth": 1
          },
          "autotypenumbers": "strict",
          "coloraxis": {
           "colorbar": {
            "outlinewidth": 0,
            "ticks": ""
           }
          },
          "colorscale": {
           "diverging": [
            [
             0,
             "#8e0152"
            ],
            [
             0.1,
             "#c51b7d"
            ],
            [
             0.2,
             "#de77ae"
            ],
            [
             0.3,
             "#f1b6da"
            ],
            [
             0.4,
             "#fde0ef"
            ],
            [
             0.5,
             "#f7f7f7"
            ],
            [
             0.6,
             "#e6f5d0"
            ],
            [
             0.7,
             "#b8e186"
            ],
            [
             0.8,
             "#7fbc41"
            ],
            [
             0.9,
             "#4d9221"
            ],
            [
             1,
             "#276419"
            ]
           ],
           "sequential": [
            [
             0,
             "#0d0887"
            ],
            [
             0.1111111111111111,
             "#46039f"
            ],
            [
             0.2222222222222222,
             "#7201a8"
            ],
            [
             0.3333333333333333,
             "#9c179e"
            ],
            [
             0.4444444444444444,
             "#bd3786"
            ],
            [
             0.5555555555555556,
             "#d8576b"
            ],
            [
             0.6666666666666666,
             "#ed7953"
            ],
            [
             0.7777777777777778,
             "#fb9f3a"
            ],
            [
             0.8888888888888888,
             "#fdca26"
            ],
            [
             1,
             "#f0f921"
            ]
           ],
           "sequentialminus": [
            [
             0,
             "#0d0887"
            ],
            [
             0.1111111111111111,
             "#46039f"
            ],
            [
             0.2222222222222222,
             "#7201a8"
            ],
            [
             0.3333333333333333,
             "#9c179e"
            ],
            [
             0.4444444444444444,
             "#bd3786"
            ],
            [
             0.5555555555555556,
             "#d8576b"
            ],
            [
             0.6666666666666666,
             "#ed7953"
            ],
            [
             0.7777777777777778,
             "#fb9f3a"
            ],
            [
             0.8888888888888888,
             "#fdca26"
            ],
            [
             1,
             "#f0f921"
            ]
           ]
          },
          "colorway": [
           "#636efa",
           "#EF553B",
           "#00cc96",
           "#ab63fa",
           "#FFA15A",
           "#19d3f3",
           "#FF6692",
           "#B6E880",
           "#FF97FF",
           "#FECB52"
          ],
          "font": {
           "color": "#2a3f5f"
          },
          "geo": {
           "bgcolor": "white",
           "lakecolor": "white",
           "landcolor": "#E5ECF6",
           "showlakes": true,
           "showland": true,
           "subunitcolor": "white"
          },
          "hoverlabel": {
           "align": "left"
          },
          "hovermode": "closest",
          "mapbox": {
           "style": "light"
          },
          "paper_bgcolor": "white",
          "plot_bgcolor": "#E5ECF6",
          "polar": {
           "angularaxis": {
            "gridcolor": "white",
            "linecolor": "white",
            "ticks": ""
           },
           "bgcolor": "#E5ECF6",
           "radialaxis": {
            "gridcolor": "white",
            "linecolor": "white",
            "ticks": ""
           }
          },
          "scene": {
           "xaxis": {
            "backgroundcolor": "#E5ECF6",
            "gridcolor": "white",
            "gridwidth": 2,
            "linecolor": "white",
            "showbackground": true,
            "ticks": "",
            "zerolinecolor": "white"
           },
           "yaxis": {
            "backgroundcolor": "#E5ECF6",
            "gridcolor": "white",
            "gridwidth": 2,
            "linecolor": "white",
            "showbackground": true,
            "ticks": "",
            "zerolinecolor": "white"
           },
           "zaxis": {
            "backgroundcolor": "#E5ECF6",
            "gridcolor": "white",
            "gridwidth": 2,
            "linecolor": "white",
            "showbackground": true,
            "ticks": "",
            "zerolinecolor": "white"
           }
          },
          "shapedefaults": {
           "line": {
            "color": "#2a3f5f"
           }
          },
          "ternary": {
           "aaxis": {
            "gridcolor": "white",
            "linecolor": "white",
            "ticks": ""
           },
           "baxis": {
            "gridcolor": "white",
            "linecolor": "white",
            "ticks": ""
           },
           "bgcolor": "#E5ECF6",
           "caxis": {
            "gridcolor": "white",
            "linecolor": "white",
            "ticks": ""
           }
          },
          "title": {
           "x": 0.05
          },
          "xaxis": {
           "automargin": true,
           "gridcolor": "white",
           "linecolor": "white",
           "ticks": "",
           "title": {
            "standoff": 15
           },
           "zerolinecolor": "white",
           "zerolinewidth": 2
          },
          "yaxis": {
           "automargin": true,
           "gridcolor": "white",
           "linecolor": "white",
           "ticks": "",
           "title": {
            "standoff": 15
           },
           "zerolinecolor": "white",
           "zerolinewidth": 2
          }
         }
        },
        "title": {
         "text": "TF-IDF PCA"
        },
        "xaxis": {
         "anchor": "y",
         "domain": [
          0,
          1
         ],
         "title": {
          "text": "x"
         }
        },
        "yaxis": {
         "anchor": "x",
         "domain": [
          0,
          1
         ],
         "title": {
          "text": "y"
         }
        }
       }
      }
     },
     "metadata": {},
     "output_type": "display_data"
    },
    {
     "data": {
      "application/vnd.plotly.v1+json": {
       "config": {
        "plotlyServerURL": "https://plot.ly"
       },
       "data": [
        {
         "hovertemplate": "color=World<br>x=%{x}<br>y=%{y}<extra></extra>",
         "legendgroup": "World",
         "marker": {
          "color": "#636efa",
          "symbol": "circle"
         },
         "mode": "markers",
         "name": "World",
         "showlegend": true,
         "type": "scattergl",
         "x": {
          "bdata": "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",
          "dtype": "f4"
         },
         "xaxis": "x",
         "y": {
          "bdata": "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",
          "dtype": "f4"
         },
         "yaxis": "y"
        },
        {
         "hovertemplate": "color=Sports<br>x=%{x}<br>y=%{y}<extra></extra>",
         "legendgroup": "Sports",
         "marker": {
          "color": "#EF553B",
          "symbol": "circle"
         },
         "mode": "markers",
         "name": "Sports",
         "showlegend": true,
         "type": "scattergl",
         "x": {
          "bdata": "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",
          "dtype": "f4"
         },
         "xaxis": "x",
         "y": {
          "bdata": "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",
          "dtype": "f4"
         },
         "yaxis": "y"
        },
        {
         "hovertemplate": "color=Business<br>x=%{x}<br>y=%{y}<extra></extra>",
         "legendgroup": "Business",
         "marker": {
          "color": "#00cc96",
          "symbol": "circle"
         },
         "mode": "markers",
         "name": "Business",
         "showlegend": true,
         "type": "scattergl",
         "x": {
          "bdata": "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",
          "dtype": "f4"
         },
         "xaxis": "x",
         "y": {
          "bdata": "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",
          "dtype": "f4"
         },
         "yaxis": "y"
        },
        {
         "hovertemplate": "color=Sci/Tech<br>x=%{x}<br>y=%{y}<extra></extra>",
         "legendgroup": "Sci/Tech",
         "marker": {
          "color": "#ab63fa",
          "symbol": "circle"
         },
         "mode": "markers",
         "name": "Sci/Tech",
         "showlegend": true,
         "type": "scattergl",
         "x": {
          "bdata": "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",
          "dtype": "f4"
         },
         "xaxis": "x",
         "y": {
          "bdata": "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",
          "dtype": "f4"
         },
         "yaxis": "y"
        }
       ],
       "layout": {
        "legend": {
         "title": {
          "text": "color"
         },
         "tracegroupgap": 0
        },
        "template": {
         "data": {
          "bar": [
           {
            "error_x": {
             "color": "#2a3f5f"
            },
            "error_y": {
             "color": "#2a3f5f"
            },
            "marker": {
             "line": {
              "color": "#E5ECF6",
              "width": 0.5
             },
             "pattern": {
              "fillmode": "overlay",
              "size": 10,
              "solidity": 0.2
             }
            },
            "type": "bar"
           }
          ],
          "barpolar": [
           {
            "marker": {
             "line": {
              "color": "#E5ECF6",
              "width": 0.5
             },
             "pattern": {
              "fillmode": "overlay",
              "size": 10,
              "solidity": 0.2
             }
            },
            "type": "barpolar"
           }
          ],
          "carpet": [
           {
            "aaxis": {
             "endlinecolor": "#2a3f5f",
             "gridcolor": "white",
             "linecolor": "white",
             "minorgridcolor": "white",
             "startlinecolor": "#2a3f5f"
            },
            "baxis": {
             "endlinecolor": "#2a3f5f",
             "gridcolor": "white",
             "linecolor": "white",
             "minorgridcolor": "white",
             "startlinecolor": "#2a3f5f"
            },
            "type": "carpet"
           }
          ],
          "choropleth": [
           {
            "colorbar": {
             "outlinewidth": 0,
             "ticks": ""
            },
            "type": "choropleth"
           }
          ],
          "contour": [
           {
            "colorbar": {
             "outlinewidth": 0,
             "ticks": ""
            },
            "colorscale": [
             [
              0,
              "#0d0887"
             ],
             [
              0.1111111111111111,
              "#46039f"
             ],
             [
              0.2222222222222222,
              "#7201a8"
             ],
             [
              0.3333333333333333,
              "#9c179e"
             ],
             [
              0.4444444444444444,
              "#bd3786"
             ],
             [
              0.5555555555555556,
              "#d8576b"
             ],
             [
              0.6666666666666666,
              "#ed7953"
             ],
             [
              0.7777777777777778,
              "#fb9f3a"
             ],
             [
              0.8888888888888888,
              "#fdca26"
             ],
             [
              1,
              "#f0f921"
             ]
            ],
            "type": "contour"
           }
          ],
          "contourcarpet": [
           {
            "colorbar": {
             "outlinewidth": 0,
             "ticks": ""
            },
            "type": "contourcarpet"
           }
          ],
          "heatmap": [
           {
            "colorbar": {
             "outlinewidth": 0,
             "ticks": ""
            },
            "colorscale": [
             [
              0,
              "#0d0887"
             ],
             [
              0.1111111111111111,
              "#46039f"
             ],
             [
              0.2222222222222222,
              "#7201a8"
             ],
             [
              0.3333333333333333,
              "#9c179e"
             ],
             [
              0.4444444444444444,
              "#bd3786"
             ],
             [
              0.5555555555555556,
              "#d8576b"
             ],
             [
              0.6666666666666666,
              "#ed7953"
             ],
             [
              0.7777777777777778,
              "#fb9f3a"
             ],
             [
              0.8888888888888888,
              "#fdca26"
             ],
             [
              1,
              "#f0f921"
             ]
            ],
            "type": "heatmap"
           }
          ],
          "histogram": [
           {
            "marker": {
             "pattern": {
              "fillmode": "overlay",
              "size": 10,
              "solidity": 0.2
             }
            },
            "type": "histogram"
           }
          ],
          "histogram2d": [
           {
            "colorbar": {
             "outlinewidth": 0,
             "ticks": ""
            },
            "colorscale": [
             [
              0,
              "#0d0887"
             ],
             [
              0.1111111111111111,
              "#46039f"
             ],
             [
              0.2222222222222222,
              "#7201a8"
             ],
             [
              0.3333333333333333,
              "#9c179e"
             ],
             [
              0.4444444444444444,
              "#bd3786"
             ],
             [
              0.5555555555555556,
              "#d8576b"
             ],
             [
              0.6666666666666666,
              "#ed7953"
             ],
             [
              0.7777777777777778,
              "#fb9f3a"
             ],
             [
              0.8888888888888888,
              "#fdca26"
             ],
             [
              1,
              "#f0f921"
             ]
            ],
            "type": "histogram2d"
           }
          ],
          "histogram2dcontour": [
           {
            "colorbar": {
             "outlinewidth": 0,
             "ticks": ""
            },
            "colorscale": [
             [
              0,
              "#0d0887"
             ],
             [
              0.1111111111111111,
              "#46039f"
             ],
             [
              0.2222222222222222,
              "#7201a8"
             ],
             [
              0.3333333333333333,
              "#9c179e"
             ],
             [
              0.4444444444444444,
              "#bd3786"
             ],
             [
              0.5555555555555556,
              "#d8576b"
             ],
             [
              0.6666666666666666,
              "#ed7953"
             ],
             [
              0.7777777777777778,
              "#fb9f3a"
             ],
             [
              0.8888888888888888,
              "#fdca26"
             ],
             [
              1,
              "#f0f921"
             ]
            ],
            "type": "histogram2dcontour"
           }
          ],
          "mesh3d": [
           {
            "colorbar": {
             "outlinewidth": 0,
             "ticks": ""
            },
            "type": "mesh3d"
           }
          ],
          "parcoords": [
           {
            "line": {
             "colorbar": {
              "outlinewidth": 0,
              "ticks": ""
             }
            },
            "type": "parcoords"
           }
          ],
          "pie": [
           {
            "automargin": true,
            "type": "pie"
           }
          ],
          "scatter": [
           {
            "fillpattern": {
             "fillmode": "overlay",
             "size": 10,
             "solidity": 0.2
            },
            "type": "scatter"
           }
          ],
          "scatter3d": [
           {
            "line": {
             "colorbar": {
              "outlinewidth": 0,
              "ticks": ""
             }
            },
            "marker": {
             "colorbar": {
              "outlinewidth": 0,
              "ticks": ""
             }
            },
            "type": "scatter3d"
           }
          ],
          "scattercarpet": [
           {
            "marker": {
             "colorbar": {
              "outlinewidth": 0,
              "ticks": ""
             }
            },
            "type": "scattercarpet"
           }
          ],
          "scattergeo": [
           {
            "marker": {
             "colorbar": {
              "outlinewidth": 0,
              "ticks": ""
             }
            },
            "type": "scattergeo"
           }
          ],
          "scattergl": [
           {
            "marker": {
             "colorbar": {
              "outlinewidth": 0,
              "ticks": ""
             }
            },
            "type": "scattergl"
           }
          ],
          "scattermap": [
           {
            "marker": {
             "colorbar": {
              "outlinewidth": 0,
              "ticks": ""
             }
            },
            "type": "scattermap"
           }
          ],
          "scattermapbox": [
           {
            "marker": {
             "colorbar": {
              "outlinewidth": 0,
              "ticks": ""
             }
            },
            "type": "scattermapbox"
           }
          ],
          "scatterpolar": [
           {
            "marker": {
             "colorbar": {
              "outlinewidth": 0,
              "ticks": ""
             }
            },
            "type": "scatterpolar"
           }
          ],
          "scatterpolargl": [
           {
            "marker": {
             "colorbar": {
              "outlinewidth": 0,
              "ticks": ""
             }
            },
            "type": "scatterpolargl"
           }
          ],
          "scatterternary": [
           {
            "marker": {
             "colorbar": {
              "outlinewidth": 0,
              "ticks": ""
             }
            },
            "type": "scatterternary"
           }
          ],
          "surface": [
           {
            "colorbar": {
             "outlinewidth": 0,
             "ticks": ""
            },
            "colorscale": [
             [
              0,
              "#0d0887"
             ],
             [
              0.1111111111111111,
              "#46039f"
             ],
             [
              0.2222222222222222,
              "#7201a8"
             ],
             [
              0.3333333333333333,
              "#9c179e"
             ],
             [
              0.4444444444444444,
              "#bd3786"
             ],
             [
              0.5555555555555556,
              "#d8576b"
             ],
             [
              0.6666666666666666,
              "#ed7953"
             ],
             [
              0.7777777777777778,
              "#fb9f3a"
             ],
             [
              0.8888888888888888,
              "#fdca26"
             ],
             [
              1,
              "#f0f921"
             ]
            ],
            "type": "surface"
           }
          ],
          "table": [
           {
            "cells": {
             "fill": {
              "color": "#EBF0F8"
             },
             "line": {
              "color": "white"
             }
            },
            "header": {
             "fill": {
              "color": "#C8D4E3"
             },
             "line": {
              "color": "white"
             }
            },
            "type": "table"
           }
          ]
         },
         "layout": {
          "annotationdefaults": {
           "arrowcolor": "#2a3f5f",
           "arrowhead": 0,
           "arrowwidth": 1
          },
          "autotypenumbers": "strict",
          "coloraxis": {
           "colorbar": {
            "outlinewidth": 0,
            "ticks": ""
           }
          },
          "colorscale": {
           "diverging": [
            [
             0,
             "#8e0152"
            ],
            [
             0.1,
             "#c51b7d"
            ],
            [
             0.2,
             "#de77ae"
            ],
            [
             0.3,
             "#f1b6da"
            ],
            [
             0.4,
             "#fde0ef"
            ],
            [
             0.5,
             "#f7f7f7"
            ],
            [
             0.6,
             "#e6f5d0"
            ],
            [
             0.7,
             "#b8e186"
            ],
            [
             0.8,
             "#7fbc41"
            ],
            [
             0.9,
             "#4d9221"
            ],
            [
             1,
             "#276419"
            ]
           ],
           "sequential": [
            [
             0,
             "#0d0887"
            ],
            [
             0.1111111111111111,
             "#46039f"
            ],
            [
             0.2222222222222222,
             "#7201a8"
            ],
            [
             0.3333333333333333,
             "#9c179e"
            ],
            [
             0.4444444444444444,
             "#bd3786"
            ],
            [
             0.5555555555555556,
             "#d8576b"
            ],
            [
             0.6666666666666666,
             "#ed7953"
            ],
            [
             0.7777777777777778,
             "#fb9f3a"
            ],
            [
             0.8888888888888888,
             "#fdca26"
            ],
            [
             1,
             "#f0f921"
            ]
           ],
           "sequentialminus": [
            [
             0,
             "#0d0887"
            ],
            [
             0.1111111111111111,
             "#46039f"
            ],
            [
             0.2222222222222222,
             "#7201a8"
            ],
            [
             0.3333333333333333,
             "#9c179e"
            ],
            [
             0.4444444444444444,
             "#bd3786"
            ],
            [
             0.5555555555555556,
             "#d8576b"
            ],
            [
             0.6666666666666666,
             "#ed7953"
            ],
            [
             0.7777777777777778,
             "#fb9f3a"
            ],
            [
             0.8888888888888888,
             "#fdca26"
            ],
            [
             1,
             "#f0f921"
            ]
           ]
          },
          "colorway": [
           "#636efa",
           "#EF553B",
           "#00cc96",
           "#ab63fa",
           "#FFA15A",
           "#19d3f3",
           "#FF6692",
           "#B6E880",
           "#FF97FF",
           "#FECB52"
          ],
          "font": {
           "color": "#2a3f5f"
          },
          "geo": {
           "bgcolor": "white",
           "lakecolor": "white",
           "landcolor": "#E5ECF6",
           "showlakes": true,
           "showland": true,
           "subunitcolor": "white"
          },
          "hoverlabel": {
           "align": "left"
          },
          "hovermode": "closest",
          "mapbox": {
           "style": "light"
          },
          "paper_bgcolor": "white",
          "plot_bgcolor": "#E5ECF6",
          "polar": {
           "angularaxis": {
            "gridcolor": "white",
            "linecolor": "white",
            "ticks": ""
           },
           "bgcolor": "#E5ECF6",
           "radialaxis": {
            "gridcolor": "white",
            "linecolor": "white",
            "ticks": ""
           }
          },
          "scene": {
           "xaxis": {
            "backgroundcolor": "#E5ECF6",
            "gridcolor": "white",
            "gridwidth": 2,
            "linecolor": "white",
            "showbackground": true,
            "ticks": "",
            "zerolinecolor": "white"
           },
           "yaxis": {
            "backgroundcolor": "#E5ECF6",
            "gridcolor": "white",
            "gridwidth": 2,
            "linecolor": "white",
            "showbackground": true,
            "ticks": "",
            "zerolinecolor": "white"
           },
           "zaxis": {
            "backgroundcolor": "#E5ECF6",
            "gridcolor": "white",
            "gridwidth": 2,
            "linecolor": "white",
            "showbackground": true,
            "ticks": "",
            "zerolinecolor": "white"
           }
          },
          "shapedefaults": {
           "line": {
            "color": "#2a3f5f"
           }
          },
          "ternary": {
           "aaxis": {
            "gridcolor": "white",
            "linecolor": "white",
            "ticks": ""
           },
           "baxis": {
            "gridcolor": "white",
            "linecolor": "white",
            "ticks": ""
           },
           "bgcolor": "#E5ECF6",
           "caxis": {
            "gridcolor": "white",
            "linecolor": "white",
            "ticks": ""
           }
          },
          "title": {
           "x": 0.05
          },
          "xaxis": {
           "automargin": true,
           "gridcolor": "white",
           "linecolor": "white",
           "ticks": "",
           "title": {
            "standoff": 15
           },
           "zerolinecolor": "white",
           "zerolinewidth": 2
          },
          "yaxis": {
           "automargin": true,
           "gridcolor": "white",
           "linecolor": "white",
           "ticks": "",
           "title": {
            "standoff": 15
           },
           "zerolinecolor": "white",
           "zerolinewidth": 2
          }
         }
        },
        "title": {
         "text": "SBERT PCA"
        },
        "xaxis": {
         "anchor": "y",
         "domain": [
          0,
          1
         ],
         "title": {
          "text": "x"
         }
        },
        "yaxis": {
         "anchor": "x",
         "domain": [
          0,
          1
         ],
         "title": {
          "text": "y"
         }
        }
       }
      }
     },
     "metadata": {},
     "output_type": "display_data"
    }
   ],
   "source": [
    "px.scatter(x=X_tfidf_pca[:,0], y=X_tfidf_pca[:,1], color=df[\"label_name\"], title=\"TF-IDF PCA\").show()\n",
    "px.scatter(x=X_sbert_pca[:,0], y=X_sbert_pca[:,1], color=df[\"label_name\"], title=\"SBERT PCA\").show()\n"
   ]
  },
  {
   "cell_type": "code",
   "execution_count": 73,
   "metadata": {},
   "outputs": [
    {
     "data": {
      "application/vnd.plotly.v1+json": {
       "config": {
        "plotlyServerURL": "https://plot.ly"
       },
       "data": [
        {
         "hovertemplate": "color=World<br>x=%{x}<br>y=%{y}<extra></extra>",
         "legendgroup": "World",
         "marker": {
          "color": "#636efa",
          "symbol": "circle"
         },
         "mode": "markers",
         "name": "World",
         "showlegend": true,
         "type": "scattergl",
         "x": {
          "bdata": "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",
          "dtype": "f4"
         },
         "xaxis": "x",
         "y": {
          "bdata": "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",
          "dtype": "f4"
         },
         "yaxis": "y"
        },
        {
         "hovertemplate": "color=Sports<br>x=%{x}<br>y=%{y}<extra></extra>",
         "legendgroup": "Sports",
         "marker": {
          "color": "#EF553B",
          "symbol": "circle"
         },
         "mode": "markers",
         "name": "Sports",
         "showlegend": true,
         "type": "scattergl",
         "x": {
          "bdata": "GxlZPbCMCMF9bDDBECdowR0K0cAPZbHB6E7NwP0ZucFys5vAkzaWwblhSsGHlU3BylOPwUe9sz8bUMrBedpwwYtlZsEKcGTB/+e4wTV2QsBafWXBwXIPQg57CcEcrILBFb8JQgV4q8HHa+m/yuVHwDd/hcH/RanBI1Q5QAyOisHR6gLBEP3VPyZP0MBngtzAgXddwaFjo8G1ugnBHwQpwes6sMHHmqnBmg4uQTYBwr81ruZAU+ZdwQoRqcCyFKnBZlq/wXVqksCAVpPBNqKnQNPAYcH7dKS/15GOwcZRc8E6vcS+Hb2PwY5XxMGBMn3BuNGMvpXb4cE37AfBYHJqv7dtnsDK2MjAVM54wVjzm8HbVqzB3eqHwWFtIEGt29U/aCllwVAux8HDvZTBMmQiQI+ttsH/ixNCd4/FvtjxY8F+TdLBro5ewf0FucF26pbBPMXEPqt/KkIIkDnAsbPFwQ298MG8OYzB+1p3wYeinsHffwtAan0AQYeYdMERjxTBd2fhwdQF48ByLuHAEj1VwRUmb8F5DMDB5S/4wWCdJr5DYj3BU1YEwMaU+cABHILBABDCv6jYdMA7RnTByC5IwROLzcAyLp3BTqOkP5fmtcF93J/BhUgSwVtGicHp4Y/B0DWRP6/7ZcE5r6LBYzENQp6lrcA05CvBtefnwTEbX8GwPEjBda4fwLCkw8HIFJFANGnZwBFQj8EsFhDBM/YrQUgu58C2YNRASw7mPw6rvT+t6WDBPuL6vwaz/j/JGYm/iS3AwUO3gcGQnxHBtvGkwZ6DjMFGPgzBk9/FPl+8qj8kGwNBlGZzwJnWGD/0DBlCkR+hwDoBMsFNSvk/WXVZwahRh8FYSaDBYj8SweK/xMFL6a+/TAWswbM9XcFMCmjB9ry3wbXqD0BA0LbBl2XDPvv1eMGylfdBY6aXwd0/KMDlVKdATAnIwTyj1sFabnDBCYeGv+Xys8FvSgTC0u+bwPyr7sDi5bK/LE1jwRoq28DmxJ7BtpK1wPQQgcEGnbXBohiBwfHeFsFA5ZHAeYuowT/gncBfDHHBBrWLwX5LfcEwwzw/GDRGPlrensHr90/BVThzwT1ylcF79mvAzQxOwWcefcHpXmTBWjx3wYeymcFkznzA3i3SwY/zScEGERnApR4UwYmwEMFOQtjAvLCSwRsA5sCFdeLA2b1OwLT1qsEaeQTB23arQGsd5sETtCTBjY1fweYlaMGFSr/BQ/fDwZ99LMBUkwNB87SkwaSwD8Eg6IRAFPCVwLh81cEP/lrBGkoEvxHen8CXA73ALtdLwXPYhcAW+YTBaUKvwe2hhcEgnVbB/66ZwQ6vXMEIdbHAbYC2Pyf8s8F42pTBOjtawbe3Q8HKuCdBYjk/wK45u8FGgo8+G04NwSj0OkDrdA5CPFKQQA8L5MEbxj7BA4PZweOPUcFV0a+/V2uJwOEm38EoxbLBIJ1wv9J7bsGVol7Ay6ebwcSUlsH9r4W/TemRwNRykcCvRwHBTW+qwScMncHzoxTBnA4Xwaw11sD3F0vBO41IwexhfMG0AOXBc10wwdvoE8H6h8zB2e+PweqAgMHULznB7iwAQtu7NsHSmzLCGFPdPy1e1sF4qvlBtlDLQTvaqcH/hw7BONmFwZIIFcHod9fAZhTCwTSiYcGYcrfBEzp2wbcEk78w+13BPi+IwarwkMEAKXlAHGCFQCRIRD/LezPCNvhqwR2tBsHnVVjBND55wcSsOMGgzT/BYTGFwNOvLcHasya+GLO9QM9ShcHIfY++ZzZDv74dm8HVL4vBmwMtQZpRnMFYzJXBIucUwMaSk8C5Dq7Btn4MwY/Nc7+lwarBC0rTPzhf58AcwrHB17zVwHUS9EBiwE/BRcMmwYiqc8EAlJXBvKanwTdaksBvlsZAeLNOwUYIsz9k/du/rAtewWB3qcFwQTbAag0AwdeSvj5HnrrBBxv5QApoT8HIibPAH77HP58DRsG917TBGhrwwO/H28Gcp6ZA/A/Ev/OPA0E+B9HBN8oMwZIf8b+sN5PBL8GRwHrQBr98z13Bpue+PpneHsFv4/bAu5/swaO7k8D/7y/BOsJqwRr/CsFbjQrBgSThQFwSmcF7WbvBX7TtQDoOiMEgoaHBD452wd/Y1cGN5v0/2YGfwaw/bMGc9SxB1qdvwRi9Ob4iiOfA/NNqwarvcb7KwJTBM+UfwT5dlMGECyLAJA0GQYcv7MFw04hA0DL9wTjYkcHy9ZfB8b9awebW88HpxljBGNGmvwa4RMHeNoPBzcRYwRaHH0KR3SLBPuxfwaRfhsHcLiLBCw/DQPwdVcDKHShBOYhzwSgodcHVJVRADylNweR0r8GQdRrBTzOlweJzMMFo4cXB7z2XwTYWosHvI2LAc0FTwFsltMH/LbPApIw+wSX9fL6llrHBpyCtwSjNMEEqKNjBk57KwA6CjMFmuUjBgSLrwKeqo8HfCQ/BWEInwfWJuMFji3vBv5SRwLNFW8HkgUzBjJ1IwQnLssCEq2fB/l2jwT18rsAR7u3ACGYgQmAawEAZ1IbBNJQPwDt4EEGzF4TBrwtzwQ58eMBj1GTBaVBYwY/lp8E8NMbB+4X+QJcjib8zHonBJ8W3P/v9ZMDJnQTBPrRAweVzJcDZ1UPAK7QZwZwkHsGQYWJAJRIcwAgbncEbeDvAdPwTQqSLskD1O0rBJD2AwA7nCcCyWyRC0bTawUYaK8HIP1bBHxwBwaOZVcFLVw5BFr94QCrmJMHogTfAuaKHP/+kk0AFKYNAuM40wSdk9r/gtaTB55ahwXFHhMFsplLB0+uGwftFkMHr7/FBz5JaQAWgeEEl5c/BpCizv5+HjsGqwo/BUrwIwWF6W7/JYtPAeo6awadRxMGNGWJAebYNQTKzmsHKuwnAsCeXv0D6qsDLTNHAhtEUQqiSssDNtgHBuUiAQbNbKcGgs8HB4WyUwfKgpcCGNXLBbG+WwfOvt8HJuLvBgQqIwaTNpMF7t7/B38CmwY1iIsHOyzvBsOdywKt1C0LHzYzBXjJ+wFgOfMFcKX/AMUaVwVGn9EGRuonBU5PbwKEmpL83kknAiWxLwdqtTcCuvoG/HQ8UwQK2kMA72JLB1W2Dweb7v8GEXp2+2f0awYK2Wb/BZinB+KPCvRa5xb92mj9AyZVNwThsucHFD8DB+eqWwSwFMEGh4pC7XRLAwMdpqcF8V6U/ZsqAwce4LsFuY5TBNy+GwR3Svb9AvIZATmfPP6/2GcFgt43BPdakwLNvY8GuwprA790SwX136cAm9J7B0yK8P6brB7/IIWi/ve6eQPj8MEE8ReLByJ2Jwfgde8G1jQrBLK6YwYoUUMH+2GTBtWR4wazpgMAjKL/BdUDRwVeSj8GGZzzApoQewN8hp8DjZ7HB08+twVoAesFdFjHBgVvXQIjfTMDPvIXBku22P3ppzL9TkoTB4Y9YwQr+ZMHXVpe/3XsAQGyR/8CrFIfBVEAiQFtvjcHkrVXBEKt7wOhgAMJcN6K/dBZ4wep988DEgADBfSEyQaLxID8OCgbB/eWcwcNetz9DqOW/hpMMQNWl5cHZK5vAM7SRPw0hJsFcxzrBA/wrvh4bLkGnH57BzlHtwZert8H5vHzBDL0Mwc5EScC4Pnw/lAgswSqDnkBLO6vBpZazwSpCg8GROHHBr1ohP4Mru8GDzIbBGYxpwbKnNMAXUJPBtYljwSUgFcD5fMbAqia8wcfMxsAj7CJClDaSwF/desHjbOHB5zzTweDtlb8ET2RAADkLwDS6AUEvuQzAOF/awZgRwsEXKK/AaxiJwUQpXj+Dfrc+mPwHQsLMiMHjj4vB04SPwbWNo8H7vG3BDXtTQGNm0r+zmLLAIarUwRIbSb/KgiPA7WYRwRSVpsBqTKfBTNzJwdAygsGZC8/Br/2nwU/yxsEOhgDC6GKSwRTsSUDWzBvBYhESQkWA9MCPoenAaRePPynr48AQyps+dX5TvyJbpsFjktHBGuUMwbqYx8GdJV7BxyuPQSuKscG0+exAOUd0wfEnscFOAnPA7kI/wEu7DUCgOxBBHvpZwUlfo0AuvCBCKRg6wXK6LMFClgBCPQXIv4x1/8DBmC/BQ4CIvwhgOMFsLcfBn5QhwZ+CwMASZpzBjU+CP9MtrMHH5OK/6qkDwtJPbMGOpWDB3z0MQsQzAcHpp4c/lYVFwYq+cEAvxLPB3ac9QMLjpkBN6bDANRdYwVk+Az8CD1fB69ojwaz/+sB8Iv3Bd/7AwVlo3sHnRdS//QYOwZeVncHaIX7B++71QGx+Y0HnnlTBjb0+QPvAgMCDSBtAahFvwcLZQ8HH27vAeh9qwDopZcFC+2rBrV7gwBnRGsGhlj7Bj++lwXBfvcFtrZnBsFxpP9zGk0AG8LLAiDdDQB5hUMF+/ffBJ9odwck3hcHsFQDAOwf5wG1Mr8GoWsXBZUHzwFXY18AfENI/MjvQwW6drkBiNUjB4IhhPzfxpsHi3p3BrZLRweyaN8FFBow/++T3wI/NtsGiBuvAgpEJv1P5pMHeO69AKEOjv11WUcHU64y+OuarwdMxpMFfYKPBfK5KwDhF98BJ+FjBZsuGwXaNckAjnBlBXsvPwdcEXsHeB9pAv2C1wG3jkME9XqzBRXohwTTc7MBfPYbB/8L1QB8V+MCQv6vBuHdcwRNpTsFJr9+/pfpnvtLgyMCrE4rBIPqOwdDR3EAhgt7ALwh0wRW1CMB6m65AfEyJwfYGuMEux6HAq1IAwO1iM8EYmATBTcexwFzdycD155TBw591wSksXMFBB6HAH/uVwKnHa0Af2pVAPZ/qQLwQhsEULozBJen0wc81Hr84jMs9ZA2bwJ8LkUAv9bjA6QGSwdhkPMDSuTjAQDRMwRl59UEUOUvBRWuivybUKsFxGQPBEdgrwpX7PMG27enAXmjuPkJFEsGO73LBWLVkQLn2isESJiZBILA9wSH8K8C9KbXAewyAQYrercHlWxTBz3qSwR7KsT5CnXHB6/j/wCdWpcHxzoXBcKysv5tAp8DLu+NAU6oXwdcufsDfDxJBXwg9wcmXV8GD9qbBDp+pvnBP7z8E9avBnE71wNabQr9aKsdARc7swdM4A0ESz1PBZz2cwQ56aME6tGHBQTDAwI+ue8BcyINAP8sWQuBQUcCefMfBwHvRwT9vNkFPRYrB7LNwwa1EXsFqcYvBQzNCwEzYhL9ogTBAZ9GzwSGxlcD/W0LBsfPdwHhoEsFPAqTBr7UAwMQtcMBZWgvBefE7wHf9pcG6epFAI91nQHeolsDGhmDAPRvWwEqg4ME3nurBkdtHwdYiMcESZeNAJI4+QBWIf8EXWirBXpmuwQ==",
          "dtype": "f4"
         },
         "xaxis": "x",
         "y": {
          "bdata": "Rngywnzb08HZLobBEnlxwcn+jsH9WL7B2EIuwnJb1cAHNfPBbilBwNJ1f8EmvwXChqwVQex27r/pJVfBcqOzQZ9dqT8uqwDCUin6wRJoAMIgNdTB+h6xwSpq3MFe5yfBmGXkvuACDsFQW8DBLXyfwP44q8GBaOrAGheCwEQOk0GLexnCmmsUwkdp3cCycgfC76V/waKVBECJVCBBtoMXwQGWJsF7bBPBv7MLwtLY3sA3gPXBJTZ8QRUIA8GPBb9BbnXAwIPH8j9Bdw7Cx+njQSEtTsE8KeE9lhoJQb+9B0DBPxNBqm0Vwqoym8EWsb1Bm9DdwBRTrMGBNgDCjWjmwBq43MClzJy/qj1aPm9MukEK/6dBCi0WwmcjDcCgcLbBJygLwUb9Z8Hmh5xAm+orwhwMkb5oIq/BNzyNwdP0GMEmufjBvAcFwu7HEsF5Z9zBVKSlwN3aj797x4xBYn5gwRjCfr8N/mZBDF1vwQxnq8GLmMTBHmxpwVfrykB31yG/vD2MQRbARkF8wrfAQOvpwTVmV0AnPZ5BVJ3+wS1yzMHvJhjB7AfEwWblE8JZk5tAvjctwrbOc0BrlsdAZI0Wwo7RPsFVppzBY2PyPkVO+MAedZJBQoMIwvJwp0GSDrpBIFIwwkDHCMJB/LLBe6S8wThd0cHMzAPCQzSuPQKDGcJFB2g/WLktwQweusD3WrlBHWg6QL51EcKCFpHBuMpYwbmCgcGSmZjBcEePQIBeH8AfBwpBCnckwo/8AMIF6t7BJmatQf/eucG6qNQ+YfSGwf+mxEDcQKTBu2ARQYaRUEG9mIzBNrz3wapqhMHEQCDBmymkwdOaWcF2G4bBqSz3wYUThUGnqMlA8eUZQSpjicFfl9/BASXZwOa/NMHGViFB4CzaQCKarMEUv8PAadAJwKWyFsJMYOfAGBzQwfYxpcEO0qHBTEOfQaIYnMEpfGHB3fX/wZYRAMIv3pVBKfePQZYorcEPRRPC3t+CQfDAlsE4w8DBIGSwwRnVzkHc/4HBfPAZwnmB18BJerPB8a/+wOhiLcIP4bfBoo+Fwf9s+0BpCSzCF2oNwUH05kGiOpDBFLXRwTyKpsFkJOzBhsn6v9tspMEp42HAWkk/wZjcdMEVqfDBhEYjvHdTU8A3lajAntl0wfm8VcHpDYnBrbOFwVwG0sGQ4yjBdGlCwQ9OXUHnh+XBslDpwMOtCsKWm6XBydXfwbAt7UDWSd3Bj5QPQY83X8GFEcfBU5XjvmQerMFczHHB0vwBQVb6qcGxtl3BlET9P3T4wMEKm3nBMCTuQO65LMIdaoA/lOCpwGWry8G77AfCI4jvPgN93kAk0SzC+0imwfkHLEF0WdM/+/wgwdJJusHuS/TA6h92wWxr8MFXZtvBCyqvwWpnDsF7hsBAFVtcwaZ+vcHvn2zBTbkPQcuxX8HN5+/AG9E3wu9htsG/DJQ/dCYdwjs9x0GaSNvBZrjVwGQgTEFuCTPC8wkBwQaxXcHYuNnBV0nyPyqOFkI5vgHCxL6EQbc+7cEVNYnBE79AwBE3CsElkAHCU6n5wcn3lcFFmJ9Bx3aLP3zH78DtGD/Bp2wfv4GmycHGULTBGp8+wdU7BcK2B5HAYkZ/wX9zzcAxWto+HB/LQfa0zz+gXYzBO6CmwFZ+BMHXzA7AItjawfZ/mMCtSSjA67erwTXQgEFXPIHAQne1QUVmIsJrWazB1mWywVLFp8F7eOjBXdJVweFResE2ZATCI/iAQct9vkGppPzBYrkYwnvVhUE/guXBAUA8wYC4LMGpTcHBcuVPwYF/WcEkT77BljOqwW7kJcIfpKbB657LwZVJ2MFREY1AYX+4wCqdBMEn7LJBIdfZwIw1sMGnxQ/CoHqFwZ3ZFsIJfH3B12qvwWNtjsFgg3xB0wmMQBLeP8Gd7VbBFcxrQE1It8EZ0IPBtMKwQNokG8GKE4hBroK6wOdKhkCe/9nBdWQcwozgIMDfWmxAKzIHQayV9T9S4wjCZCBAQQGLB8IzZ3xBn3LbwW6rA8Lbg0lBGAKGwZ6CesEOBYzBOne/wdQ92z+X3xxBQ6T3wdIv/cEItJ/BXeBQwch/EsHKCU5AIUiNQBe5w8EVTjlBQJp4QFzjxMEf+LnBXYjMwTQYikGoLj/BVsfCwUSHRkBMHWfBbV2uv2S5O8HOKeE+882ZweGMjkBsJZJBncPhQHmlf8HCx7PBYrIbwi4RiEFeNO7BoPgHwjlvScBIwgbAFxZFwQb17MHPm3jBqnHoweIBBcLqZA7CZHSpwcoE58A1k4fBTTvmv9pov8FD/8VASufAQQASh8Ao1z7B2ZogwgC0BcKrwdq/Y3GHQWMBzEG8K2bBjnDjwasANsDmwo1BwmfVwbr0e0C/Q6XBQaCQwBq7isGjUJFBmvcMQW8Bz8HEBD6/Afo/wbzGDcEZNvDB79jLwWTWEUC/QJVBo0vFweZLDz8mTsbBiim2wI1rkMCA47BA87Uvwb7uUcFpqqzBYWoJwpYKgkGNbQzCE5+ZP9RvGcGlxI7AKcGWwb1iv8FYBZdBFIANwohEtsEPo4bBAaD+wTeuHML50qZAUNjAQV7th0HXcIrBjGYFwiqvAsKxJaY/1g8NwvIlz8H/iBPCXA2kwV+gt8FnXJjAEsL7wdgRrUGjCfZAJXWlQJ2YC8EZTFfAWawPwcP52sGGwQbBUeX7P1FSyMDbbJrBSmgkv7MJ3EFNPfXBVYE4wDxE9ME2bdHBwg8DwOEJpEFbjnHBN9MKQRxpG8LQUD3BeOaLQbqZNsK381PBwVcYwghEFUHQy2DBaE6gwNHj4j5XvijBZ2+BQdvr38GZSyrBu6gKwtfhq0EQGL7B9L17QUKUtD6b5qHBjzLQwdjmhMGpnfFAB/sPwkYl2cEYPyXC8GwWQfsvDcFTPv/Ag3QnwIAuIML01FBBxnsmwu9NFr4Vzlo/xa/fQawTtcE/UMxByoGOwIJJmsHCCTTBeT9EQao/jsG+i49BVrv0QAhrMUHgy8lAzyqdwXpUPcH8E4DAyp9zwTAXDMLWh21BWscSwhWYIcBkvJ5A5G4VwkhaIkAm6S1BDU3XwbFcMMKgSD7CYstmQRH4gsCck/E/68WhQc4Kp0GksyTCpD00wNnAQMCpWQvCj/krwpITLMLG1pW/lBfgwEX89b8CmaJBWngAwXQs/cAEPwnC8ItFQTA+QcFcfQTBXpeOQZYFFcJG9ItBBzjQwWwCI8L5FPDBuvknQQu/6sG4483B7sc7wOMmokDbDarBliYRwqpYm8DOKM3BSmHKweHMJD+g8prBgxXVwAAc7sHPePXB8u5LwV4/uEAxUADCW45XvVddBcLg//jBMTgPwhysm8FyMoNBgNwMwkoG+MD8XCbCP8JxwZpGxcES9I7BB4WUwc6recGmoALCHt1uwXE3FMLitIfBZSf+wRvdjEAbbgPCPzzLwXn//sDADNi+IPAlwmB9MUB4LRfCFwsAwrf70UAk4vXBXGZJweoCmEEuDBvCA87NQI8vqcHtTIfBdZMowX23ykCDZ4lARDqAQQjskcHIg4bAaHYtwiSJrkFaqCTCHugQwi+A+MH8zSHBlQ0vQWlHnMEMyZVBFxEBwoByVcCgi/k/bf0zwLG0LcIq56/BRgQaQFVgmMEZQZBAxngRQaxaKEGs7MDBwQoswVSbfcGnYAzCKn+5QTjyIsJK+5E/CEBswUcqMcDZcC3CvOe2QY4lM8GkcMm+G6UOwswFs8FSWwXC4OEEQh+Pxr6S7XPAnd+SwTYEwUD3qOM9ZfXIwB09+sHByvxAN/ABQWCjmsHuC87BYT+swNXfNEAXCB1ATRbXwHJQH8EWcUfBgSLCwA6zlMGnPjTBqgEqQZl6D8KV2snBwvFnwBF8DcEhwLlBCIUEQpskCUELCIdBRQeJQfJ34cE1eQ/Bszc9wZWuMMJJV6/BXyWcP5baiUFoziHCnTHxQBM9p8EFfu7BMsPIwCHBE0JH9ZVBNsEAwpqrE8GRswzBfJojwlZqIMFa5jPBzYgVQeDu8r1c1P3AW+mNwD6tKcLE/abBRXWYQIkXvMFzyarBILRNwIUEaEDzl5q/TS0XwSGf8b709y3BQjQKwsxsiL1iIn3BhKfnwNufvr8CGEo/b2Edwk+WmUFeCjDCdb23wPNGm8FTKnJBHzgbwQKi08GDcvXB24uqwespAMCzWKJB747RwZ/e1sFtOJ1BXbPbvr9QOEG1uEVAyDQCQbvVBsKaYwfCScqLwbNSgcEScZM/nvfrwbjTtEHj+sJBtb7aQf3rCsI0GSrCn9aqwW1UYME7aB/CaDQfQXhexMGvEm/Bj8jlwb86a0CxmujBY5UYwtNercH0XorAjJgbwVEOrUAkkiTB9NA8wXzdJsGeDI9BpLyLwQ3Bwr8PK/XBgTmVP+auSb4MPji/QXxRwVmGf0BzGNjBUj2Mwea8EcLVdMLBK+DRwbpF6cGxT5HBbVczwgaDtcE2kALCQkWbwetHpUCZWyDCdW9LP9RDt8FVpErAFepDQaafUUFsrIPBzov2waWY3EDwaivCya39wfYVYrtzx2FBTrmKwZJgM8B5ouDBq6aXQEJmBsJqz8vBJdOKwXyiFkADIRfCslMUwSpyvcCCofjBwdXbwS/H7cFxJg7Cv8sHwnUR6j+FQV/Aj/0EwqgHucEdD9rBEbZ7wXOissEcDq7BELNbwORMnsF2DSbBuutjPxZZ8sE2GwLC/kdjQOxKyEGocFbBKK9hwRs9s0G3yA3CWR2swbaiK0GRRnjA1WvkwVzfysFeCezB3kYcwjw3+8Hksi3CjEEPwiNUFUK1E85BB4u1wdTTG8Lg9v6/uMYywiFktcEnNv5BOYLEQTqj2sHO6w7B4lfTwZlbf8DJ2tPBRvq7wSOxFcKTcsPALo2owVVpJkH1tTbClKQIwdlzusFxsTvA9ms3wKZsBcHS5VrBs/vvwfu/i8EobaNBFmuawVascMFvc6w/L03SwbH+kcGVMJbBFmYdwSgbUcHNbYE/6zyJwccbyz+P99PBaCGJQGk/MsK3j2hAMJCwwafwm0HvlmTB03PiQBMMNMKMJhBC0aeHv90/GsJ+pg3COzv6wRubNMFl+ULBIZNRwfeVDsL/sQ3CMujqwRSyJ8Iif9XB8PSlvhTlisFkkwnB2LEEQXpqScH/omvBXItUwVcqn0CxMwvBT8cnwYRy+8GFFpfAW4sfwWPeJsLwfD/BNsP0wJ+WP8E+Ei9AxGArwaOjnMEhRFLATvnfwbupTcDZYOzBrC8Lwg+45cEQa4vAzXbfwRWvBsKBsj7A6FU4QX9ZRcH3ULjBSaz9wR/QbMGzwJHB1G9kwA==",
          "dtype": "f4"
         },
         "yaxis": "y"
        },
        {
         "hovertemplate": "color=Business<br>x=%{x}<br>y=%{y}<extra></extra>",
         "legendgroup": "Business",
         "marker": {
          "color": "#00cc96",
          "symbol": "circle"
         },
         "mode": "markers",
         "name": "Business",
         "showlegend": true,
         "type": "scattergl",
         "x": {
          "bdata": "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",
          "dtype": "f4"
         },
         "xaxis": "x",
         "y": {
          "bdata": "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",
          "dtype": "f4"
         },
         "yaxis": "y"
        },
        {
         "hovertemplate": "color=Sci/Tech<br>x=%{x}<br>y=%{y}<extra></extra>",
         "legendgroup": "Sci/Tech",
         "marker": {
          "color": "#ab63fa",
          "symbol": "circle"
         },
         "mode": "markers",
         "name": "Sci/Tech",
         "showlegend": true,
         "type": "scattergl",
         "x": {
          "bdata": "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",
          "dtype": "f4"
         },
         "xaxis": "x",
         "y": {
          "bdata": "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",
          "dtype": "f4"
         },
         "yaxis": "y"
        }
       ],
       "layout": {
        "legend": {
         "title": {
          "text": "color"
         },
         "tracegroupgap": 0
        },
        "template": {
         "data": {
          "bar": [
           {
            "error_x": {
             "color": "#2a3f5f"
            },
            "error_y": {
             "color": "#2a3f5f"
            },
            "marker": {
             "line": {
              "color": "#E5ECF6",
              "width": 0.5
             },
             "pattern": {
              "fillmode": "overlay",
              "size": 10,
              "solidity": 0.2
             }
            },
            "type": "bar"
           }
          ],
          "barpolar": [
           {
            "marker": {
             "line": {
              "color": "#E5ECF6",
              "width": 0.5
             },
             "pattern": {
              "fillmode": "overlay",
              "size": 10,
              "solidity": 0.2
             }
            },
            "type": "barpolar"
           }
          ],
          "carpet": [
           {
            "aaxis": {
             "endlinecolor": "#2a3f5f",
             "gridcolor": "white",
             "linecolor": "white",
             "minorgridcolor": "white",
             "startlinecolor": "#2a3f5f"
            },
            "baxis": {
             "endlinecolor": "#2a3f5f",
             "gridcolor": "white",
             "linecolor": "white",
             "minorgridcolor": "white",
             "startlinecolor": "#2a3f5f"
            },
            "type": "carpet"
           }
          ],
          "choropleth": [
           {
            "colorbar": {
             "outlinewidth": 0,
             "ticks": ""
            },
            "type": "choropleth"
           }
          ],
          "contour": [
           {
            "colorbar": {
             "outlinewidth": 0,
             "ticks": ""
            },
            "colorscale": [
             [
              0,
              "#0d0887"
             ],
             [
              0.1111111111111111,
              "#46039f"
             ],
             [
              0.2222222222222222,
              "#7201a8"
             ],
             [
              0.3333333333333333,
              "#9c179e"
             ],
             [
              0.4444444444444444,
              "#bd3786"
             ],
             [
              0.5555555555555556,
              "#d8576b"
             ],
             [
              0.6666666666666666,
              "#ed7953"
             ],
             [
              0.7777777777777778,
              "#fb9f3a"
             ],
             [
              0.8888888888888888,
              "#fdca26"
             ],
             [
              1,
              "#f0f921"
             ]
            ],
            "type": "contour"
           }
          ],
          "contourcarpet": [
           {
            "colorbar": {
             "outlinewidth": 0,
             "ticks": ""
            },
            "type": "contourcarpet"
           }
          ],
          "heatmap": [
           {
            "colorbar": {
             "outlinewidth": 0,
             "ticks": ""
            },
            "colorscale": [
             [
              0,
              "#0d0887"
             ],
             [
              0.1111111111111111,
              "#46039f"
             ],
             [
              0.2222222222222222,
              "#7201a8"
             ],
             [
              0.3333333333333333,
              "#9c179e"
             ],
             [
              0.4444444444444444,
              "#bd3786"
             ],
             [
              0.5555555555555556,
              "#d8576b"
             ],
             [
              0.6666666666666666,
              "#ed7953"
             ],
             [
              0.7777777777777778,
              "#fb9f3a"
             ],
             [
              0.8888888888888888,
              "#fdca26"
             ],
             [
              1,
              "#f0f921"
             ]
            ],
            "type": "heatmap"
           }
          ],
          "histogram": [
           {
            "marker": {
             "pattern": {
              "fillmode": "overlay",
              "size": 10,
              "solidity": 0.2
             }
            },
            "type": "histogram"
           }
          ],
          "histogram2d": [
           {
            "colorbar": {
             "outlinewidth": 0,
             "ticks": ""
            },
            "colorscale": [
             [
              0,
              "#0d0887"
             ],
             [
              0.1111111111111111,
              "#46039f"
             ],
             [
              0.2222222222222222,
              "#7201a8"
             ],
             [
              0.3333333333333333,
              "#9c179e"
             ],
             [
              0.4444444444444444,
              "#bd3786"
             ],
             [
              0.5555555555555556,
              "#d8576b"
             ],
             [
              0.6666666666666666,
              "#ed7953"
             ],
             [
              0.7777777777777778,
              "#fb9f3a"
             ],
             [
              0.8888888888888888,
              "#fdca26"
             ],
             [
              1,
              "#f0f921"
             ]
            ],
            "type": "histogram2d"
           }
          ],
          "histogram2dcontour": [
           {
            "colorbar": {
             "outlinewidth": 0,
             "ticks": ""
            },
            "colorscale": [
             [
              0,
              "#0d0887"
             ],
             [
              0.1111111111111111,
              "#46039f"
             ],
             [
              0.2222222222222222,
              "#7201a8"
             ],
             [
              0.3333333333333333,
              "#9c179e"
             ],
             [
              0.4444444444444444,
              "#bd3786"
             ],
             [
              0.5555555555555556,
              "#d8576b"
             ],
             [
              0.6666666666666666,
              "#ed7953"
             ],
             [
              0.7777777777777778,
              "#fb9f3a"
             ],
             [
              0.8888888888888888,
              "#fdca26"
             ],
             [
              1,
              "#f0f921"
             ]
            ],
            "type": "histogram2dcontour"
           }
          ],
          "mesh3d": [
           {
            "colorbar": {
             "outlinewidth": 0,
             "ticks": ""
            },
            "type": "mesh3d"
           }
          ],
          "parcoords": [
           {
            "line": {
             "colorbar": {
              "outlinewidth": 0,
              "ticks": ""
             }
            },
            "type": "parcoords"
           }
          ],
          "pie": [
           {
            "automargin": true,
            "type": "pie"
           }
          ],
          "scatter": [
           {
            "fillpattern": {
             "fillmode": "overlay",
             "size": 10,
             "solidity": 0.2
            },
            "type": "scatter"
           }
          ],
          "scatter3d": [
           {
            "line": {
             "colorbar": {
              "outlinewidth": 0,
              "ticks": ""
             }
            },
            "marker": {
             "colorbar": {
              "outlinewidth": 0,
              "ticks": ""
             }
            },
            "type": "scatter3d"
           }
          ],
          "scattercarpet": [
           {
            "marker": {
             "colorbar": {
              "outlinewidth": 0,
              "ticks": ""
             }
            },
            "type": "scattercarpet"
           }
          ],
          "scattergeo": [
           {
            "marker": {
             "colorbar": {
              "outlinewidth": 0,
              "ticks": ""
             }
            },
            "type": "scattergeo"
           }
          ],
          "scattergl": [
           {
            "marker": {
             "colorbar": {
              "outlinewidth": 0,
              "ticks": ""
             }
            },
            "type": "scattergl"
           }
          ],
          "scattermap": [
           {
            "marker": {
             "colorbar": {
              "outlinewidth": 0,
              "ticks": ""
             }
            },
            "type": "scattermap"
           }
          ],
          "scattermapbox": [
           {
            "marker": {
             "colorbar": {
              "outlinewidth": 0,
              "ticks": ""
             }
            },
            "type": "scattermapbox"
           }
          ],
          "scatterpolar": [
           {
            "marker": {
             "colorbar": {
              "outlinewidth": 0,
              "ticks": ""
             }
            },
            "type": "scatterpolar"
           }
          ],
          "scatterpolargl": [
           {
            "marker": {
             "colorbar": {
              "outlinewidth": 0,
              "ticks": ""
             }
            },
            "type": "scatterpolargl"
           }
          ],
          "scatterternary": [
           {
            "marker": {
             "colorbar": {
              "outlinewidth": 0,
              "ticks": ""
             }
            },
            "type": "scatterternary"
           }
          ],
          "surface": [
           {
            "colorbar": {
             "outlinewidth": 0,
             "ticks": ""
            },
            "colorscale": [
             [
              0,
              "#0d0887"
             ],
             [
              0.1111111111111111,
              "#46039f"
             ],
             [
              0.2222222222222222,
              "#7201a8"
             ],
             [
              0.3333333333333333,
              "#9c179e"
             ],
             [
              0.4444444444444444,
              "#bd3786"
             ],
             [
              0.5555555555555556,
              "#d8576b"
             ],
             [
              0.6666666666666666,
              "#ed7953"
             ],
             [
              0.7777777777777778,
              "#fb9f3a"
             ],
             [
              0.8888888888888888,
              "#fdca26"
             ],
             [
              1,
              "#f0f921"
             ]
            ],
            "type": "surface"
           }
          ],
          "table": [
           {
            "cells": {
             "fill": {
              "color": "#EBF0F8"
             },
             "line": {
              "color": "white"
             }
            },
            "header": {
             "fill": {
              "color": "#C8D4E3"
             },
             "line": {
              "color": "white"
             }
            },
            "type": "table"
           }
          ]
         },
         "layout": {
          "annotationdefaults": {
           "arrowcolor": "#2a3f5f",
           "arrowhead": 0,
           "arrowwidth": 1
          },
          "autotypenumbers": "strict",
          "coloraxis": {
           "colorbar": {
            "outlinewidth": 0,
            "ticks": ""
           }
          },
          "colorscale": {
           "diverging": [
            [
             0,
             "#8e0152"
            ],
            [
             0.1,
             "#c51b7d"
            ],
            [
             0.2,
             "#de77ae"
            ],
            [
             0.3,
             "#f1b6da"
            ],
            [
             0.4,
             "#fde0ef"
            ],
            [
             0.5,
             "#f7f7f7"
            ],
            [
             0.6,
             "#e6f5d0"
            ],
            [
             0.7,
             "#b8e186"
            ],
            [
             0.8,
             "#7fbc41"
            ],
            [
             0.9,
             "#4d9221"
            ],
            [
             1,
             "#276419"
            ]
           ],
           "sequential": [
            [
             0,
             "#0d0887"
            ],
            [
             0.1111111111111111,
             "#46039f"
            ],
            [
             0.2222222222222222,
             "#7201a8"
            ],
            [
             0.3333333333333333,
             "#9c179e"
            ],
            [
             0.4444444444444444,
             "#bd3786"
            ],
            [
             0.5555555555555556,
             "#d8576b"
            ],
            [
             0.6666666666666666,
             "#ed7953"
            ],
            [
             0.7777777777777778,
             "#fb9f3a"
            ],
            [
             0.8888888888888888,
             "#fdca26"
            ],
            [
             1,
             "#f0f921"
            ]
           ],
           "sequentialminus": [
            [
             0,
             "#0d0887"
            ],
            [
             0.1111111111111111,
             "#46039f"
            ],
            [
             0.2222222222222222,
             "#7201a8"
            ],
            [
             0.3333333333333333,
             "#9c179e"
            ],
            [
             0.4444444444444444,
             "#bd3786"
            ],
            [
             0.5555555555555556,
             "#d8576b"
            ],
            [
             0.6666666666666666,
             "#ed7953"
            ],
            [
             0.7777777777777778,
             "#fb9f3a"
            ],
            [
             0.8888888888888888,
             "#fdca26"
            ],
            [
             1,
             "#f0f921"
            ]
           ]
          },
          "colorway": [
           "#636efa",
           "#EF553B",
           "#00cc96",
           "#ab63fa",
           "#FFA15A",
           "#19d3f3",
           "#FF6692",
           "#B6E880",
           "#FF97FF",
           "#FECB52"
          ],
          "font": {
           "color": "#2a3f5f"
          },
          "geo": {
           "bgcolor": "white",
           "lakecolor": "white",
           "landcolor": "#E5ECF6",
           "showlakes": true,
           "showland": true,
           "subunitcolor": "white"
          },
          "hoverlabel": {
           "align": "left"
          },
          "hovermode": "closest",
          "mapbox": {
           "style": "light"
          },
          "paper_bgcolor": "white",
          "plot_bgcolor": "#E5ECF6",
          "polar": {
           "angularaxis": {
            "gridcolor": "white",
            "linecolor": "white",
            "ticks": ""
           },
           "bgcolor": "#E5ECF6",
           "radialaxis": {
            "gridcolor": "white",
            "linecolor": "white",
            "ticks": ""
           }
          },
          "scene": {
           "xaxis": {
            "backgroundcolor": "#E5ECF6",
            "gridcolor": "white",
            "gridwidth": 2,
            "linecolor": "white",
            "showbackground": true,
            "ticks": "",
            "zerolinecolor": "white"
           },
           "yaxis": {
            "backgroundcolor": "#E5ECF6",
            "gridcolor": "white",
            "gridwidth": 2,
            "linecolor": "white",
            "showbackground": true,
            "ticks": "",
            "zerolinecolor": "white"
           },
           "zaxis": {
            "backgroundcolor": "#E5ECF6",
            "gridcolor": "white",
            "gridwidth": 2,
            "linecolor": "white",
            "showbackground": true,
            "ticks": "",
            "zerolinecolor": "white"
           }
          },
          "shapedefaults": {
           "line": {
            "color": "#2a3f5f"
           }
          },
          "ternary": {
           "aaxis": {
            "gridcolor": "white",
            "linecolor": "white",
            "ticks": ""
           },
           "baxis": {
            "gridcolor": "white",
            "linecolor": "white",
            "ticks": ""
           },
           "bgcolor": "#E5ECF6",
           "caxis": {
            "gridcolor": "white",
            "linecolor": "white",
            "ticks": ""
           }
          },
          "title": {
           "x": 0.05
          },
          "xaxis": {
           "automargin": true,
           "gridcolor": "white",
           "linecolor": "white",
           "ticks": "",
           "title": {
            "standoff": 15
           },
           "zerolinecolor": "white",
           "zerolinewidth": 2
          },
          "yaxis": {
           "automargin": true,
           "gridcolor": "white",
           "linecolor": "white",
           "ticks": "",
           "title": {
            "standoff": 15
           },
           "zerolinecolor": "white",
           "zerolinewidth": 2
          }
         }
        },
        "title": {
         "text": "TF-IDF TSNE"
        },
        "xaxis": {
         "anchor": "y",
         "domain": [
          0,
          1
         ],
         "title": {
          "text": "x"
         }
        },
        "yaxis": {
         "anchor": "x",
         "domain": [
          0,
          1
         ],
         "title": {
          "text": "y"
         }
        }
       }
      }
     },
     "metadata": {},
     "output_type": "display_data"
    },
    {
     "data": {
      "application/vnd.plotly.v1+json": {
       "config": {
        "plotlyServerURL": "https://plot.ly"
       },
       "data": [
        {
         "hovertemplate": "color=World<br>x=%{x}<br>y=%{y}<extra></extra>",
         "legendgroup": "World",
         "marker": {
          "color": "#636efa",
          "symbol": "circle"
         },
         "mode": "markers",
         "name": "World",
         "showlegend": true,
         "type": "scattergl",
         "x": {
          "bdata": "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",
          "dtype": "f4"
         },
         "xaxis": "x",
         "y": {
          "bdata": "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",
          "dtype": "f4"
         },
         "yaxis": "y"
        },
        {
         "hovertemplate": "color=Sports<br>x=%{x}<br>y=%{y}<extra></extra>",
         "legendgroup": "Sports",
         "marker": {
          "color": "#EF553B",
          "symbol": "circle"
         },
         "mode": "markers",
         "name": "Sports",
         "showlegend": true,
         "type": "scattergl",
         "x": {
          "bdata": "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",
          "dtype": "f4"
         },
         "xaxis": "x",
         "y": {
          "bdata": "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",
          "dtype": "f4"
         },
         "yaxis": "y"
        },
        {
         "hovertemplate": "color=Business<br>x=%{x}<br>y=%{y}<extra></extra>",
         "legendgroup": "Business",
         "marker": {
          "color": "#00cc96",
          "symbol": "circle"
         },
         "mode": "markers",
         "name": "Business",
         "showlegend": true,
         "type": "scattergl",
         "x": {
          "bdata": "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",
          "dtype": "f4"
         },
         "xaxis": "x",
         "y": {
          "bdata": "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",
          "dtype": "f4"
         },
         "yaxis": "y"
        },
        {
         "hovertemplate": "color=Sci/Tech<br>x=%{x}<br>y=%{y}<extra></extra>",
         "legendgroup": "Sci/Tech",
         "marker": {
          "color": "#ab63fa",
          "symbol": "circle"
         },
         "mode": "markers",
         "name": "Sci/Tech",
         "showlegend": true,
         "type": "scattergl",
         "x": {
          "bdata": "hM/1weocqsHTVfPBFiK6wWAJecEBUyTBFAzEwXoHBMJZue5ApjEEwYcKI8FjmMfBsnfmwWHWs0ARh9zBiUqwwVVxMb8iVZJAQMuwP8+AisEfb2JAiFe5wRbvgsGgOey81fTxwWHSAMFUl/DB0qyLwWgdLEG/9uzBa/BLwRbg2cHdkbvBuALkweAsW788LOTB9t7DwSOLMUAs7PrBE1XjwaoA7z+Ne4zBkyzQwY8JkMFeXqfBcalgwekqLMEUFvXBJAd8wRMGNcDE8NvBz5CQwdALnMH00ofBpZvNwU9wUcHRWZrBiOvgwf7t5MFgTmW/EuUtQWdltsH2jajBfdjgvt60rMGmSBvB2eT2wQ6O/MGOeefBsLKwwS3qkcF9Nt2/OretwYpDYMF+fEdAuQFbwXLafsFPVERBIqDcwfZMiD0UTIPBbAD9wVhwkcGSw7TB5j4EwrLLV8FX3btA36+Kwd6vkcE+S7zAvbknQcjK88GrlYbBV1GYwaBs8cHYPuRAVneqwVhh3ECDxL6/4+QpQHe4zsEaeaTBCur9wUCS4D+9lQ1BZl2kwbeIusHV+l7BJ0mDwTxR7790w6DBaOH5P2Rb9sELwMDBEeDoQHqbN8Ei683B/R/DQLxlPcFoPsvAtB2+wRywx8G0jqJANGR5wGTCL8B3hifBVAXKwWK0rMEXVJTB5z8BwV+ZucFfa+2/x7QwwdtF+cE2uiBAR6rOwW0YcsGiDoPAsWyZwJ0KSsHCew/CphUWwaM1zcGII8LBAASdwbW388HdgwXChftiwVGnfkD6RbLBl/nNwXqnxsEzsNXBFudKv6YmzMHO4m1ANqBSwXkk0UAU547BLXvHwbC/oMGDfH7BaVGfwXBpdMES7IDBRda7wTQg+0BQQo/BPE/YwaxkxMGzKPLBczBdwU8ODkB5rSjAV43DwCrgpkB+n7nBt4AhwWp69sHm7c3BzaNywddK9EAxsFBAA5nhwR5AH0GMpM7B37CrwXUPnsH1UFfBKBmnwZJrk8GJzcHBHNyqQEyAEMEX5bvBblRXQFoXPcFBx/HBS+pwwMOh8cEFsQvBdkrnwZdNAcI2BtTBCqPTwcFBjcHAD6tATmjBQDFhQMF0j6DA49kqweoVr8F3jWLB5uSVwYjRqME7U8LBt0Fqwc0GIEEWJK7B8J8ewWbtYMF76HXB9pirwTsLxcGY+d/B30i/wWK35MFbnpdA+AvowaJYjsHm4IfBYqaMQHK37sDOVADCtaDhwWPCpcFx8cdBkcEywZ7gVMAct6HByViCwbUgLEEcItHBE/Vwwfh6KMFCSbTBFe8lvwgiB0EN5E/BtzVIQMSRoMFCKbBA+L3XwXgOJcFMSv9Ax839wf+KTEAQrfzBbq3hwcdYoMH2F7jBPN6TwRXQjsHozNXBdiBuQDOfY0GfFpnBtODFwdczT8ABwaC/erCpQGWF5sGRIOzB59OowcjZv8Gvwb/B+nlZwUGoq8EPqPnBqCLawaQ2ZcFkb9rAShDcwRYvqcHGYivBPFnZwYNWhsGFGhfBy8SMQNY0ssFb+UNAnMfvwXOa28EgSYrBhGjxPlQG2cEXJbjBsPCqwawurcASfBzBvY5/wS+3c8EKZjzADfiJwXAtzcEkJWrB+DDUwUKElMEazPrBiDU2wKMK6MA4n0PB7c4Cwrzf6sEImffAGJ5YwJqfQMGrcr/BXFDLwZyM0sGr5JbBMsB7wZSr48CYCc7BOgr1wXD+6kC+PNTB5R3EwabME8Ei8HBAW8ekwFbypcGx/9DBOVCmwATo9cFM8VHBe9z1wfJ33sBe1u/BWITUwTxLosFT/RPBIwOHwZV58MG6W8nB1OrvwSDjn8HgmXlAgJCbwYAenMET5+/B3Imov4G3/cEppHHBhtEiwYykkEDihcvBBY+pQL2I8MCxY86/nLQSQPsVrMEi4MXBLC2NwVnMDMFKft3AAYyowdwx2MGVq8XBAquov4QETsGyXtzAXDG8wVcFAcLC7jfBM31uwaQyG0DVKly/fcW0wYbYiMGex8/BiYOWwKWsxsF11z9BKhIwwccDwsEXCynBZBafwfbjwMHtfmzBtPoxwZV6SsEqQyE+flXJwFJ138FWkfLB8IFdQarTosFy+xtBCesZwfVpsb86hnLBDhTVPz3HccErW/nA4P/AwQB/zcEdlg3A/ErOwYYtC0D9Nv3Beg83wT6/k8EdzK4/T7WFwdqWJkBEvgDCXDHYwd/J1MFSZ9nAl1e+wRKKxT/dhv2/NgbPwYM8mcEm3qm/z1aYwRb8osHg497By2ucwdnVKsEyunpA4SDBwSIPYMDblcTB02MYweTDwMF1w0lB4pw6QcVUscH/hZHBWfuCwdP44D9ldhdB3mBewRZrBMIPBobBnVEkwS0qPMEMkQzA7BfVwanko8ElRJs+3bC3weTx1b8HaLbB3fmJwSuZ7cFof+PB3Xn7wbOc+7+pLMe/Yyn1wQn+scFvZOTAJyMgwXa2Kb4bM6NA1IChvzgjpMCBEGbBvKWzwTeRjUAVTFDBTOLgwUHOqcFN64rBaz2RwaCwg8FgSt2/3UAzQPLCssEWeALABXDkwTLVW0FjeNzBeqH/v8kVnsAm/6fAiPJ3wU69y8FvDWM/CD/xwc0z7cHDtAw/s14YweJ0w8E1GIrBJXCIwfIlp8H9t7HB+MqzwSkU88EaeAY+sKz/QFW0wcF/NFXArwaAwWhPI8HSU5rB5/JZwcP0PUGojx1BXR2aQHoo3cFKUfTBMeePwVrSh8HST9fBy/PMwSVg88GeYO3BzSC4wJaKlcGpJNk/IIzdwYMlvz/vqf1AG8YewU7adcFjnZZA06W4QIpKn8EHN7vB3v++wdL7nMFCpMA/7q+uwewlv8EvmmbBPggQwsD1FMFOGFDBiUa0wX2QUcFUg+xAR9a/wW1NrMFQXl7BiTfavxFaA8Je0PvBxDYewHORoMGnHODAzevmP5hlHMHX6tPB+fnOwObjocGATl/BBhKKwRb+8EDLcx/BmeCwwej6XcFRMJPBAb3jwIKQ5MEGq7y/mKfhwcwKC8INoNtAR6wGwke/2cH0k4/B6O7zwXpMm8FNoq7BSN9+P7tnxcHpQ83Bg3ilwbwO17+Uk5XBJGKFwags1cEzqPHBnUPvweapHsCChHDBCm3pwWkSmMD0FN/BpCi0wQhHAMGeIK/AFYRkvr+46cFiYq7Bf3yXQD1kqcGpAcrBAYrEwK2OR0Gq38DBf75qwaPGKcFPGsrBt6COwQFnP8GHETbBO6nzwe0ivcGanKDBeyjqwMZkkcGUqcnBwz6CwTp9CD67kAZAldG+wdNj4MG0ZDhB7el4wYyMhsFOr9/B1L/uwYa2OcHElV7BHYjJwQYWmsG5sLDBd1WkwWqP+8GawSzBCx3UwbAL+MElfbTB/6qlwZF42MEvzdnBlfyYwTmywEBdWp/B3DkBwtw5AsKGKeNAG2/AwfktwMFMhhFAbCR5wROScsHrdJTBFZqYwcnDvEBvYI3BBfKlwJW95cE+Y/3BOM6RwcsT8cGkcc/B90zWwUobRsCe/FvBY4HHwancQcG3d6fBwpbOwTIILUGxtsrBB1GmwW/ancEThgxAkKz2wXkjVMHwVpI/aOefwURKm8GBI/XBiEGGwQBxt8F31aVAwrPVwXIyTEHkN4vBU4WQwaFklEALVOXBvoDIwCR9KMHf/59A0IBnQAJr0T8ffPjBdj2Gwa/ZusHXOF4/xxdPwTvun8HjaABAXZLCwX7FvMEq+EvBEZ4Pwf3u6MGwEkbBGoK/wUqiy8FeV/7BUJRnwHgtYMCVtihAh16FwRH/kMHrytjBSs7zwRTbWMFNXiBAGA2nQM/sAcJuf6nBHg6TQJrMAkFlQyTAYEXvwR6r3T6Ry2vBvefvwfqyzMDQNybB63uHwdhvZ8Eem9vA9pOQwSQG1cGXwru/YU5PwRIBhb8EoIvBtO18wah6BcIoInPBG1XqwWQRRECAy9/B8S27wXyUfsEzoH1BjC+hwZ5vcsHf/k/B7Ur2wSgt88GYdh3BJpJwwXK9OsHW78TBr4KFwfz9R0CV0ybBCW8XQVuzqMHsK2XBu9VTwZRIasGH+NnBFWzewUW8yMEDF5HArPTywUjlnMGHdcLBIjUFwgU7BkA/CsrB73POwTJHosGfiZbByIEpwbhNIMELfaHBG/33wfm2yMHEoac7Zw/LwK6lgcHIn7jB/oqowT1WIcHgqSXBDBWwQLmAq8EgLaTBzBijwZq42cH2TfO/rhfrwEpEOsFA6ePBtgJ9QAENJsB8kMDBY2BxweUBi0BCEcS/ReiawXlNq8FJeXO/lm3GwJ0mRkDpJbbBRHzvwRUjtsEOQ92/sOmowWdUqsE1HaTAw4fovTjXN8GdpLDBll19wWcRMMHs9/zBlb4GwjhhlUCy8UPBcU+vwY30ycF5ibc/vqI7wDR2KMFtgtfBHiaywYkWnsBwMtTBUTi3wabptsHgJRPBwtpJQLd+rcFludfBoq/8wNRl9z+HP7hALza7vw8QmMFW6tnBfOvLQECLrT+Thu7A2VykwXx5osF4KgDANBSqwfyD7MG+XrJAtpB4wUTzo8EPVpjBubfrwQbVU8EYhzjBG+ABv1o2E8FSGXjBM50SwrTSRD9og67A2tJbwctEr8G5WaG9r6hdQL92wsHgv6XBuRe4QLsSjMF/bUq+ikmnwbYygsGx4CzB+eh3wSPQ8sFaRu/BQdWyP5sqccEMZr4/5ATmwXvU+MFxLJvBO971wWkX/sByDbdAcwRlQOkAs8E/vZBBAXynQB8XX8HA5XFA7HyqPeXNCUDTEx7Bgj+UwdXzqMFmrIrBJwJRQd99uMEptQHCKfevwQIWnsGcCO3BQQ0Fwv++TMF/2JpA8FZEwSvuacFgfKzBUEj2wczqn0AxBgbBfhTWwaEBAMI176dAikiMwMwdz8Ea46vBS8ehwUr/WcHlr6vBPDuFwYX0+8Euf27BacqpwYG0nME6WG9A+mkswf8U5sFukMY/pNOUQLr9LMG7aaPB9eqdQFeBuT8CI+LBIce4v/+mjMGzUrrBafHAwQmjrsHmM/XA1ZNMv77aScHRp5bBi2rAwUWp7sEB9r7B9PeewaST5cFBIhpAxkCwv4Tn8EDMjvHBkdKewSN9D8KBu0xBM7dXwSLi0UDUlv1AKje/wYH5dMEeoavBco6+vqS35MGycejBC4vawRD0JMH3sWY+8k0Xwcvpx8DM1X/B2cYRQEtojL9mCLXBFHuYwU72OEEzmLXBjqWVwb4ZjMF1fcbBITPfwYh618GsU1fBz/oEwS0LscHC7o3B8t5bQBElpkDELJrBPZF1QA==",
          "dtype": "f4"
         },
         "xaxis": "x",
         "y": {
          "bdata": "5XLrwJHulEF5FDfBm32NQX9oaEHdLlRB/+/EQLVchEAO9JLAFDvwQYAzmUGwD9hAYKr1QCWttb5lMAzBIJOYQeEXcD9N4A3ARCzDQMx7QEAxWdTAmErMQDqYvUEFUnhACVrvPxq7UcGHASHAbq+9PN7zFT77ZTfBv47VQYwqWkAmZ4BBgPNjwP6YtcEk50VBrOL0v6XTtEA1AQRBPcWpQEPbTMFwMh1B/KwEQYBLqL5J4EhBKhX3PsbprUGZmr7AKHRwQZ2avbykBQDA6PIIQZYmVUG7krNBEtZ0QK2jwkGtBlpBN2FaQZ7eTkFgPZhAgQqNwKr/Vb5DvJRANanLwD+6uUD/RAVCPnUWwDAA0z9gnXpA29wiwV6qgUE+cSVASV45QTHM00FTRjNALArpQLYBEMFzJTfA6eMLwZgOlj1GVpNAfLYgQeHaU0DmoPs9IMkHQAKp7ECCDbrAOPp8QGjZu0FoS0/B8ItWwCqSGEHZBFlBykCpQQGY+kAYw2vAqsIGQaA8m78iBoZABwGUP2NLMEFQsTRBCPqDwNnZPUAHiem+AtKIPw9BKUH2gHRAeX+RQDkyaL90YzlB/D9GwV8lk79voG/AanhCQMo40EGz9jlBgnaKwMl7mkF4jCpAJCKwQRnyor9YMLVAAvRgwZF1H8HK0u1B3MRSwI8UM8Ciom1BQcxjwcCzIkC0rPrAOPGTQb6+qkAx4fc/H8p3QThB40H/l01AKPW4wSIo2kEhqSlAtzCmQZqddkFTI6BAFVE7wPX1hEHudaXAi94vwG/0AT6vn5jAPjA8QX/4skFd2rpAB7mJwQ4IvkFHQZDATdCjQbrlkb1WikVBrH+eQXMjUEEGuw/BUYn+QIiA4EFoq6ZBI1qUP5ssssA27Y1BJQNGQYBQl0ERlYe/KG2iQbkZDUHzMkBBkWBGwbNoUj9QNEi/WoVWQHBZkT6UV9JAt2uTQYxijMBMTwo/+kndQJgIJsDsmWRBmMq8QJRJVsBnK9FBKZ0QwED0SEGkerNAQQ7rP6XzjsGi5hJBllGMQDxt90Ezmm1B3tuzv94PfEH8ZZ1BoVboQC8kYEF7e1dBXVGMQCr+xUFOF5fAh0vdQOtQ90Hh21jBZlxNQQU7g0GqB/u/2GP7P+L2kUCTzxVBVuRzQTdAt7920HxBJ2acwYqk1UFBT2dB77RYQbPUv0A049NAMoMQQbSG3b95oERAQpzKQJ6pU0E92p1B8Y6PwJ+ZK8CcWN5A6wUewLB4McGneabACROqQYeL48Bv10hB44HHQRfvFj4FlKZADf3iQaN0OkBnwHxBFIJ5QO1pwr8Y8rFB2DN4QNBHLkBJ1adARimQQbIfJEFekvc/Cc/JwIvCjz/xn4RBGSffQNFqWUGFqy1Blo90QXbVYUGoCME/BPYWv+6YgUG0s9K94iuFQA4ZLcCi7IRAd12VQAuOIkE7jE9BFe0+wPSdkEEJUZ1ApVGhQHG2xsDtlxdBztRZQL3dEkE7VR1Bz4DawB0ShUE1ye5BQlFhQdQDjT9TAJTBDviyP2cAD0FPdNJAsi8LQRIrq0A9PX1A+uIMwXiHzkDxgiFBum5eQXKQM0GLVn7BvPjOQd1o20CnO0BA1xleQXMAtUG++W1BselsQafsJkFl3wHB6izBv5dt8kFRi7ZAjuAbQW35uEDDDw5BlQIBwd+z4UG9O6NBrO5tQZxRaUEhoQLBJ8+UQSZQ90GtTQdBjyUaQV2bjcDfgnpAVJ2xQSt/2kEsrJLA7qOHwQSSVMCbMF9BbhWJwUZKQL9hIG1A1XfawMEXR8GgwVDAdTz4wDWE0j9zUzBBf1GAQQix70DeoT/ARXXhQCLpEEFStyJAfNkNQcHa7z/1LZG/Sm1yQOhe+8D1Bb5BseRWwZ8KqsDh3oNAt9qdwFk5eEFpG0BA5LCQQXi+Sr7yLFpBVNWgQazhpEEqLPdAvAmQwEdOk0GRsUlBqDbDQFr12kG1UUTB80qmQQH9BsHW6cZBCPzQv4t8BUD7K12/FcK2QFNgaUEaA0FB0lBmwSgEMEFd9v2/5zeqQUNXB0HT6o5BXe43QfOHQEEv+ghBu53aQcp/wUEoIDy+nGM1vyC9vUAdJzfBOZCsP2vUSkFWWzvAqXNjQc6nJ0A/4ClBBhWLQU8NqEH64PlBZJdxQGtagEBPhVtBQPo9QVu4y0B7apQ/vNSJQcPtx0EVd9bA3zfNQWKIFMHw2m3A0tihP2sCYEGWHynAJr0HQfSpfsCcSmBBmAufQFCNb0Dxb7o/bN5cQQ+D8kDXOOpArh4RQRgupkFo93vAyNNTQekGjMG9g5lAc5CewbM9S7/0jL1BIP4AwgxCVEGcpgTAE/IpwcA/+MH5/7zB37l2P0MrPMBTjllB4R6hQQAqm0HEDlxBRDYNQMq2kEEeNhfBIN8bweJIj0CY7xhB+1q8QXKxwUCI6XtAgb8FPxCvu0ApjvG+K5yHvkonb0F0b2bBbk+fQVHjq0CcVSM/wWHbwB+NUcEGW6RB8HxTQSrzysCXRz1B465bwFr9i0HYMOC/ev84wJRvkkF/FCVAX7ZZP92zsj7WqlBBRfYkwLT4tMD8jRJBpD5ZQTBqhz9HUaBB4ptCQTxL/ECXUX7Am810QRvXqEC5W7FAtjphQV+EoEF6Dp5Bn6PGQZPXHkD/tqJBltpuQFvo1z9W1wDBqQCjv+alqECbuG3AlQqhQXyLjEDKXxhBZxbCQUt+f8BCZKvA+OSUQEF0mEHwtX9ASCl9QeR7skH8QzhB73KjQUUqND7C5CRAHCzwQU4j50CooNm/24tsQUTHnkCPhKXA5da9QYrigEHSNXDAEQ9nwDkE9T+LyzdAkUChwEovhj/CHc+//Q9+QZykdL83Kb1B85KPv+vEN8AsuNtB7igxQVYWqEGwN5e/FrP1QLyIh0GxbxdBR4zkwLLg8r4In0PAZWlCPgEgt0GjcXbBxXJevmeEe8EEioZAtECvP/3TM0HZTihA6nhuQRZViMDvIx5BCVOVwFA/fr5iiFxBZYvhQWbG2ECAiDvBEVBHQZI2KL/lnPBAJ1+kwHia0kBTq2zADO2QwLQHOEFWuAdBkYgJwT1YK0HRxzVBzLOwQLV/v0Bya2pBWozjQOG9DEBf43tBXQLfQGykEj9tN6lBhpKRwADqccEf8bNAJqubwMCnkUF1PILBdbH8wNF220DgKyA/SK49P6Mxc0FoSHtBl8f5v2LrE8BOTaxArd3+v0klrkGHzbo/IdsiQWufPEHuQpZAlQHBwCnwuECAkypAZXLPQdaiykEdkLo/x3mwQfKzmMDsO4E/CZOkwNjBvUAxdIzAI8Ilv9DxWEHpe18/RxtPQW7Sx0F6vgJBmv8wQELQhkBEiCJBOUWPQb5ywsCnxtlBemYnQJC0fj87PjI+urEzQVgRrD8bFONA56ZuQNJCXcCoqM/AegWUP0zD6D2tZng/y6o9QeRE7UBQRY1AMoJtQUEfMEHsFrjAk3+HQDSju0BPXUtB9ZNqwQ+d5kA0X31BF23ZQKVmC0GC519BZd9pQaDji8DRzqJB1zGpv+3KNUHnUMM/pibVQCeZ08DhKzRA0ZQjwZ0CyUEJ1wxBRgFvQWzVM8GM3kFBzZDLQOh7UUA1ORhB27T9vxQfRr94zwRB+V3NQKL+vcDXhcdBLtuVwF+tEUHkbohBm3UmQSEz3kGxU9DAVQyxvwyYRMAV1XS/902dQY5WSEGHjDDB/nLdQA86ZUFixsTA6A+1QX6qjUH6HFO/YumfQCbXjED5kkBBYuKUv7C3V0E6SXFByR+QwTnNW0FjzKO/F3uaQZo+VEFghQxBBcmOP8gB+kFNkHBAVfCLwDLIZEC0hpFBtuoHwOr0kcD8TgbBv1qDQTK4k8BrxrpBsktkQLs4JEHRhQRCtBqvwIJDykFPwzXBtHTcQJP/CkElCDvB1Op5QMT2iECs3o9Bee22wFqtN8BiJMZB5PMTwJoSF8C80LTAWIEuQXBJNkFHFIJBzC2OQaMBhkFKlVe/0f6NwF1cvMB6Pq9AzZNjQUldhkAihqZBsubiQPojikDoZvFB5sOjv+0yYkGw66RBKN5LQGieo0CjpWlBCikOQSutFcDm2czAmBJbvq7/E0CNDKxBlfSNQGYBqkCfyBZBaZAzwQIlaEENzX9BBzwgQRyDlcEe3gHBd3TPvnTOqUFjBe3Ap5JEQK9+wkFZfYlARXkVQCd/A0JLQ8RBwZWZwPMWT0ExEaNB2/VMQSubo0DAIuXAvcYQQFggoEBb2ndAEoV3QPwHHsHcsa1A89STQSDi00BrQdw+sLvcwGIb7cCrO+HAZv6QQIXZ/sEeXhnBptQIQR9OmsBzAS9AOIgdP47Oj0C6oF3BzRuxQLH5B0LuioRBWfY1QQW9iMFOM4DA94WlQK4lNj/azmw/C3eiQRRCe0F0E51AxKQTwTGSZ0GlZdPAFu2cQcxVgcHS+uFA5jy9QToh6UA1U9lBgb3BwEMdpcBgJSDB3a1oQNkwAcB3AI1Ar44uP6058L0hn5FBJonNv8e9jMCr/7hBbNn3wOZ/8UA7fmRB1SmBQY/kHkFvimq+wZooQAdyqkFp8n9BcfqPQGN1lUHRKUvBwPCRwcVIfcDxSyxBYTWnv0VMmz8f729B1g6sP5wnhD7777S/uykWQXGGz0CCPtxAgGdaP1cRHUGc4aw//F6pQUDD7788NixBCTeaQRnL3EDePRZBTyhswPjiH0E2a0PANA3jQPUfBcH/GL1AhBx7v9NsDUGK+cY/U3f9v0xssUCyuxzB0aARwD7YdkDmN8RBFfahP8cohkDxgOVBHmODQQfslcDiNsdBtEKrwCHV2L5IZ5pA3PGoQOnEVkG/PeFAfFADPwoQ4kGBMErAQBI8wVMPukGn/VdBdb7uQH+1S0FlBV5Bqn/DQM+ii79zPOBA/a+hQMEvx76Ox7tAaUdCQcMkVsEouJo/E2d8QdCGxz8XimlB+74mP2CJmT9MnJu/1tumQdL4i78zqwo/e8Y8PktcpEH+lFpBIeR/wNQe7L9U8A7B6iRCvqDdyEGRjSpBMA5OQRlHlEHV1/lBgxKgP3aNwUGGVI5Bu7CIQLA7qL9sWMPAFFEuQfrQ7L88E4lA0UMyQf46mD+m9qpABXwuQTWpKUDCIWu/H++4QcIAy8Cs2PRAMaGIQIB6x0FDd45BNWFfwRxZxEChA3ZAX/k0QdFPkkBWPDLBn3dMwSr4DEDirMRBv0TVPzGnCMGXaJI/JvSSQUhvW8Az5YBBfbjRQVW6NUHwjCxBPThUQTwdJUH57zZBaBR8QWehVL5F02NBbNafP53/x0CvzFlB/7AMwQ==",
          "dtype": "f4"
         },
         "yaxis": "y"
        }
       ],
       "layout": {
        "legend": {
         "title": {
          "text": "color"
         },
         "tracegroupgap": 0
        },
        "template": {
         "data": {
          "bar": [
           {
            "error_x": {
             "color": "#2a3f5f"
            },
            "error_y": {
             "color": "#2a3f5f"
            },
            "marker": {
             "line": {
              "color": "#E5ECF6",
              "width": 0.5
             },
             "pattern": {
              "fillmode": "overlay",
              "size": 10,
              "solidity": 0.2
             }
            },
            "type": "bar"
           }
          ],
          "barpolar": [
           {
            "marker": {
             "line": {
              "color": "#E5ECF6",
              "width": 0.5
             },
             "pattern": {
              "fillmode": "overlay",
              "size": 10,
              "solidity": 0.2
             }
            },
            "type": "barpolar"
           }
          ],
          "carpet": [
           {
            "aaxis": {
             "endlinecolor": "#2a3f5f",
             "gridcolor": "white",
             "linecolor": "white",
             "minorgridcolor": "white",
             "startlinecolor": "#2a3f5f"
            },
            "baxis": {
             "endlinecolor": "#2a3f5f",
             "gridcolor": "white",
             "linecolor": "white",
             "minorgridcolor": "white",
             "startlinecolor": "#2a3f5f"
            },
            "type": "carpet"
           }
          ],
          "choropleth": [
           {
            "colorbar": {
             "outlinewidth": 0,
             "ticks": ""
            },
            "type": "choropleth"
           }
          ],
          "contour": [
           {
            "colorbar": {
             "outlinewidth": 0,
             "ticks": ""
            },
            "colorscale": [
             [
              0,
              "#0d0887"
             ],
             [
              0.1111111111111111,
              "#46039f"
             ],
             [
              0.2222222222222222,
              "#7201a8"
             ],
             [
              0.3333333333333333,
              "#9c179e"
             ],
             [
              0.4444444444444444,
              "#bd3786"
             ],
             [
              0.5555555555555556,
              "#d8576b"
             ],
             [
              0.6666666666666666,
              "#ed7953"
             ],
             [
              0.7777777777777778,
              "#fb9f3a"
             ],
             [
              0.8888888888888888,
              "#fdca26"
             ],
             [
              1,
              "#f0f921"
             ]
            ],
            "type": "contour"
           }
          ],
          "contourcarpet": [
           {
            "colorbar": {
             "outlinewidth": 0,
             "ticks": ""
            },
            "type": "contourcarpet"
           }
          ],
          "heatmap": [
           {
            "colorbar": {
             "outlinewidth": 0,
             "ticks": ""
            },
            "colorscale": [
             [
              0,
              "#0d0887"
             ],
             [
              0.1111111111111111,
              "#46039f"
             ],
             [
              0.2222222222222222,
              "#7201a8"
             ],
             [
              0.3333333333333333,
              "#9c179e"
             ],
             [
              0.4444444444444444,
              "#bd3786"
             ],
             [
              0.5555555555555556,
              "#d8576b"
             ],
             [
              0.6666666666666666,
              "#ed7953"
             ],
             [
              0.7777777777777778,
              "#fb9f3a"
             ],
             [
              0.8888888888888888,
              "#fdca26"
             ],
             [
              1,
              "#f0f921"
             ]
            ],
            "type": "heatmap"
           }
          ],
          "histogram": [
           {
            "marker": {
             "pattern": {
              "fillmode": "overlay",
              "size": 10,
              "solidity": 0.2
             }
            },
            "type": "histogram"
           }
          ],
          "histogram2d": [
           {
            "colorbar": {
             "outlinewidth": 0,
             "ticks": ""
            },
            "colorscale": [
             [
              0,
              "#0d0887"
             ],
             [
              0.1111111111111111,
              "#46039f"
             ],
             [
              0.2222222222222222,
              "#7201a8"
             ],
             [
              0.3333333333333333,
              "#9c179e"
             ],
             [
              0.4444444444444444,
              "#bd3786"
             ],
             [
              0.5555555555555556,
              "#d8576b"
             ],
             [
              0.6666666666666666,
              "#ed7953"
             ],
             [
              0.7777777777777778,
              "#fb9f3a"
             ],
             [
              0.8888888888888888,
              "#fdca26"
             ],
             [
              1,
              "#f0f921"
             ]
            ],
            "type": "histogram2d"
           }
          ],
          "histogram2dcontour": [
           {
            "colorbar": {
             "outlinewidth": 0,
             "ticks": ""
            },
            "colorscale": [
             [
              0,
              "#0d0887"
             ],
             [
              0.1111111111111111,
              "#46039f"
             ],
             [
              0.2222222222222222,
              "#7201a8"
             ],
             [
              0.3333333333333333,
              "#9c179e"
             ],
             [
              0.4444444444444444,
              "#bd3786"
             ],
             [
              0.5555555555555556,
              "#d8576b"
             ],
             [
              0.6666666666666666,
              "#ed7953"
             ],
             [
              0.7777777777777778,
              "#fb9f3a"
             ],
             [
              0.8888888888888888,
              "#fdca26"
             ],
             [
              1,
              "#f0f921"
             ]
            ],
            "type": "histogram2dcontour"
           }
          ],
          "mesh3d": [
           {
            "colorbar": {
             "outlinewidth": 0,
             "ticks": ""
            },
            "type": "mesh3d"
           }
          ],
          "parcoords": [
           {
            "line": {
             "colorbar": {
              "outlinewidth": 0,
              "ticks": ""
             }
            },
            "type": "parcoords"
           }
          ],
          "pie": [
           {
            "automargin": true,
            "type": "pie"
           }
          ],
          "scatter": [
           {
            "fillpattern": {
             "fillmode": "overlay",
             "size": 10,
             "solidity": 0.2
            },
            "type": "scatter"
           }
          ],
          "scatter3d": [
           {
            "line": {
             "colorbar": {
              "outlinewidth": 0,
              "ticks": ""
             }
            },
            "marker": {
             "colorbar": {
              "outlinewidth": 0,
              "ticks": ""
             }
            },
            "type": "scatter3d"
           }
          ],
          "scattercarpet": [
           {
            "marker": {
             "colorbar": {
              "outlinewidth": 0,
              "ticks": ""
             }
            },
            "type": "scattercarpet"
           }
          ],
          "scattergeo": [
           {
            "marker": {
             "colorbar": {
              "outlinewidth": 0,
              "ticks": ""
             }
            },
            "type": "scattergeo"
           }
          ],
          "scattergl": [
           {
            "marker": {
             "colorbar": {
              "outlinewidth": 0,
              "ticks": ""
             }
            },
            "type": "scattergl"
           }
          ],
          "scattermap": [
           {
            "marker": {
             "colorbar": {
              "outlinewidth": 0,
              "ticks": ""
             }
            },
            "type": "scattermap"
           }
          ],
          "scattermapbox": [
           {
            "marker": {
             "colorbar": {
              "outlinewidth": 0,
              "ticks": ""
             }
            },
            "type": "scattermapbox"
           }
          ],
          "scatterpolar": [
           {
            "marker": {
             "colorbar": {
              "outlinewidth": 0,
              "ticks": ""
             }
            },
            "type": "scatterpolar"
           }
          ],
          "scatterpolargl": [
           {
            "marker": {
             "colorbar": {
              "outlinewidth": 0,
              "ticks": ""
             }
            },
            "type": "scatterpolargl"
           }
          ],
          "scatterternary": [
           {
            "marker": {
             "colorbar": {
              "outlinewidth": 0,
              "ticks": ""
             }
            },
            "type": "scatterternary"
           }
          ],
          "surface": [
           {
            "colorbar": {
             "outlinewidth": 0,
             "ticks": ""
            },
            "colorscale": [
             [
              0,
              "#0d0887"
             ],
             [
              0.1111111111111111,
              "#46039f"
             ],
             [
              0.2222222222222222,
              "#7201a8"
             ],
             [
              0.3333333333333333,
              "#9c179e"
             ],
             [
              0.4444444444444444,
              "#bd3786"
             ],
             [
              0.5555555555555556,
              "#d8576b"
             ],
             [
              0.6666666666666666,
              "#ed7953"
             ],
             [
              0.7777777777777778,
              "#fb9f3a"
             ],
             [
              0.8888888888888888,
              "#fdca26"
             ],
             [
              1,
              "#f0f921"
             ]
            ],
            "type": "surface"
           }
          ],
          "table": [
           {
            "cells": {
             "fill": {
              "color": "#EBF0F8"
             },
             "line": {
              "color": "white"
             }
            },
            "header": {
             "fill": {
              "color": "#C8D4E3"
             },
             "line": {
              "color": "white"
             }
            },
            "type": "table"
           }
          ]
         },
         "layout": {
          "annotationdefaults": {
           "arrowcolor": "#2a3f5f",
           "arrowhead": 0,
           "arrowwidth": 1
          },
          "autotypenumbers": "strict",
          "coloraxis": {
           "colorbar": {
            "outlinewidth": 0,
            "ticks": ""
           }
          },
          "colorscale": {
           "diverging": [
            [
             0,
             "#8e0152"
            ],
            [
             0.1,
             "#c51b7d"
            ],
            [
             0.2,
             "#de77ae"
            ],
            [
             0.3,
             "#f1b6da"
            ],
            [
             0.4,
             "#fde0ef"
            ],
            [
             0.5,
             "#f7f7f7"
            ],
            [
             0.6,
             "#e6f5d0"
            ],
            [
             0.7,
             "#b8e186"
            ],
            [
             0.8,
             "#7fbc41"
            ],
            [
             0.9,
             "#4d9221"
            ],
            [
             1,
             "#276419"
            ]
           ],
           "sequential": [
            [
             0,
             "#0d0887"
            ],
            [
             0.1111111111111111,
             "#46039f"
            ],
            [
             0.2222222222222222,
             "#7201a8"
            ],
            [
             0.3333333333333333,
             "#9c179e"
            ],
            [
             0.4444444444444444,
             "#bd3786"
            ],
            [
             0.5555555555555556,
             "#d8576b"
            ],
            [
             0.6666666666666666,
             "#ed7953"
            ],
            [
             0.7777777777777778,
             "#fb9f3a"
            ],
            [
             0.8888888888888888,
             "#fdca26"
            ],
            [
             1,
             "#f0f921"
            ]
           ],
           "sequentialminus": [
            [
             0,
             "#0d0887"
            ],
            [
             0.1111111111111111,
             "#46039f"
            ],
            [
             0.2222222222222222,
             "#7201a8"
            ],
            [
             0.3333333333333333,
             "#9c179e"
            ],
            [
             0.4444444444444444,
             "#bd3786"
            ],
            [
             0.5555555555555556,
             "#d8576b"
            ],
            [
             0.6666666666666666,
             "#ed7953"
            ],
            [
             0.7777777777777778,
             "#fb9f3a"
            ],
            [
             0.8888888888888888,
             "#fdca26"
            ],
            [
             1,
             "#f0f921"
            ]
           ]
          },
          "colorway": [
           "#636efa",
           "#EF553B",
           "#00cc96",
           "#ab63fa",
           "#FFA15A",
           "#19d3f3",
           "#FF6692",
           "#B6E880",
           "#FF97FF",
           "#FECB52"
          ],
          "font": {
           "color": "#2a3f5f"
          },
          "geo": {
           "bgcolor": "white",
           "lakecolor": "white",
           "landcolor": "#E5ECF6",
           "showlakes": true,
           "showland": true,
           "subunitcolor": "white"
          },
          "hoverlabel": {
           "align": "left"
          },
          "hovermode": "closest",
          "mapbox": {
           "style": "light"
          },
          "paper_bgcolor": "white",
          "plot_bgcolor": "#E5ECF6",
          "polar": {
           "angularaxis": {
            "gridcolor": "white",
            "linecolor": "white",
            "ticks": ""
           },
           "bgcolor": "#E5ECF6",
           "radialaxis": {
            "gridcolor": "white",
            "linecolor": "white",
            "ticks": ""
           }
          },
          "scene": {
           "xaxis": {
            "backgroundcolor": "#E5ECF6",
            "gridcolor": "white",
            "gridwidth": 2,
            "linecolor": "white",
            "showbackground": true,
            "ticks": "",
            "zerolinecolor": "white"
           },
           "yaxis": {
            "backgroundcolor": "#E5ECF6",
            "gridcolor": "white",
            "gridwidth": 2,
            "linecolor": "white",
            "showbackground": true,
            "ticks": "",
            "zerolinecolor": "white"
           },
           "zaxis": {
            "backgroundcolor": "#E5ECF6",
            "gridcolor": "white",
            "gridwidth": 2,
            "linecolor": "white",
            "showbackground": true,
            "ticks": "",
            "zerolinecolor": "white"
           }
          },
          "shapedefaults": {
           "line": {
            "color": "#2a3f5f"
           }
          },
          "ternary": {
           "aaxis": {
            "gridcolor": "white",
            "linecolor": "white",
            "ticks": ""
           },
           "baxis": {
            "gridcolor": "white",
            "linecolor": "white",
            "ticks": ""
           },
           "bgcolor": "#E5ECF6",
           "caxis": {
            "gridcolor": "white",
            "linecolor": "white",
            "ticks": ""
           }
          },
          "title": {
           "x": 0.05
          },
          "xaxis": {
           "automargin": true,
           "gridcolor": "white",
           "linecolor": "white",
           "ticks": "",
           "title": {
            "standoff": 15
           },
           "zerolinecolor": "white",
           "zerolinewidth": 2
          },
          "yaxis": {
           "automargin": true,
           "gridcolor": "white",
           "linecolor": "white",
           "ticks": "",
           "title": {
            "standoff": 15
           },
           "zerolinecolor": "white",
           "zerolinewidth": 2
          }
         }
        },
        "title": {
         "text": "SBERT TSNE"
        },
        "xaxis": {
         "anchor": "y",
         "domain": [
          0,
          1
         ],
         "title": {
          "text": "x"
         }
        },
        "yaxis": {
         "anchor": "x",
         "domain": [
          0,
          1
         ],
         "title": {
          "text": "y"
         }
        }
       }
      }
     },
     "metadata": {},
     "output_type": "display_data"
    }
   ],
   "source": [
    "px.scatter(x=X_tfidf_tsne[:,0], y=X_tfidf_tsne[:,1], color=df[\"label_name\"], title=\"TF-IDF TSNE\").show()\n",
    "px.scatter(x=X_sbert_tsne[:,0], y=X_sbert_tsne[:,1], color=df[\"label_name\"], title=\"SBERT TSNE\").show()"
   ]
  },
  {
   "cell_type": "code",
   "execution_count": 69,
   "metadata": {},
   "outputs": [
    {
     "data": {
      "application/vnd.plotly.v1+json": {
       "config": {
        "plotlyServerURL": "https://plot.ly"
       },
       "data": [
        {
         "hovertemplate": "color=World<br>x=%{x}<br>y=%{y}<extra></extra>",
         "legendgroup": "World",
         "marker": {
          "color": "#636efa",
          "symbol": "circle"
         },
         "mode": "markers",
         "name": "World",
         "showlegend": true,
         "type": "scattergl",
         "x": {
          "bdata": "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",
          "dtype": "f4"
         },
         "xaxis": "x",
         "y": {
          "bdata": "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",
          "dtype": "f4"
         },
         "yaxis": "y"
        },
        {
         "hovertemplate": "color=Sports<br>x=%{x}<br>y=%{y}<extra></extra>",
         "legendgroup": "Sports",
         "marker": {
          "color": "#EF553B",
          "symbol": "circle"
         },
         "mode": "markers",
         "name": "Sports",
         "showlegend": true,
         "type": "scattergl",
         "x": {
          "bdata": "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",
          "dtype": "f4"
         },
         "xaxis": "x",
         "y": {
          "bdata": "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",
          "dtype": "f4"
         },
         "yaxis": "y"
        },
        {
         "hovertemplate": "color=Business<br>x=%{x}<br>y=%{y}<extra></extra>",
         "legendgroup": "Business",
         "marker": {
          "color": "#00cc96",
          "symbol": "circle"
         },
         "mode": "markers",
         "name": "Business",
         "showlegend": true,
         "type": "scattergl",
         "x": {
          "bdata": "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",
          "dtype": "f4"
         },
         "xaxis": "x",
         "y": {
          "bdata": "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",
          "dtype": "f4"
         },
         "yaxis": "y"
        },
        {
         "hovertemplate": "color=Sci/Tech<br>x=%{x}<br>y=%{y}<extra></extra>",
         "legendgroup": "Sci/Tech",
         "marker": {
          "color": "#ab63fa",
          "symbol": "circle"
         },
         "mode": "markers",
         "name": "Sci/Tech",
         "showlegend": true,
         "type": "scattergl",
         "x": {
          "bdata": "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",
          "dtype": "f4"
         },
         "xaxis": "x",
         "y": {
          "bdata": "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",
          "dtype": "f4"
         },
         "yaxis": "y"
        }
       ],
       "layout": {
        "legend": {
         "title": {
          "text": "color"
         },
         "tracegroupgap": 0
        },
        "template": {
         "data": {
          "bar": [
           {
            "error_x": {
             "color": "#2a3f5f"
            },
            "error_y": {
             "color": "#2a3f5f"
            },
            "marker": {
             "line": {
              "color": "#E5ECF6",
              "width": 0.5
             },
             "pattern": {
              "fillmode": "overlay",
              "size": 10,
              "solidity": 0.2
             }
            },
            "type": "bar"
           }
          ],
          "barpolar": [
           {
            "marker": {
             "line": {
              "color": "#E5ECF6",
              "width": 0.5
             },
             "pattern": {
              "fillmode": "overlay",
              "size": 10,
              "solidity": 0.2
             }
            },
            "type": "barpolar"
           }
          ],
          "carpet": [
           {
            "aaxis": {
             "endlinecolor": "#2a3f5f",
             "gridcolor": "white",
             "linecolor": "white",
             "minorgridcolor": "white",
             "startlinecolor": "#2a3f5f"
            },
            "baxis": {
             "endlinecolor": "#2a3f5f",
             "gridcolor": "white",
             "linecolor": "white",
             "minorgridcolor": "white",
             "startlinecolor": "#2a3f5f"
            },
            "type": "carpet"
           }
          ],
          "choropleth": [
           {
            "colorbar": {
             "outlinewidth": 0,
             "ticks": ""
            },
            "type": "choropleth"
           }
          ],
          "contour": [
           {
            "colorbar": {
             "outlinewidth": 0,
             "ticks": ""
            },
            "colorscale": [
             [
              0,
              "#0d0887"
             ],
             [
              0.1111111111111111,
              "#46039f"
             ],
             [
              0.2222222222222222,
              "#7201a8"
             ],
             [
              0.3333333333333333,
              "#9c179e"
             ],
             [
              0.4444444444444444,
              "#bd3786"
             ],
             [
              0.5555555555555556,
              "#d8576b"
             ],
             [
              0.6666666666666666,
              "#ed7953"
             ],
             [
              0.7777777777777778,
              "#fb9f3a"
             ],
             [
              0.8888888888888888,
              "#fdca26"
             ],
             [
              1,
              "#f0f921"
             ]
            ],
            "type": "contour"
           }
          ],
          "contourcarpet": [
           {
            "colorbar": {
             "outlinewidth": 0,
             "ticks": ""
            },
            "type": "contourcarpet"
           }
          ],
          "heatmap": [
           {
            "colorbar": {
             "outlinewidth": 0,
             "ticks": ""
            },
            "colorscale": [
             [
              0,
              "#0d0887"
             ],
             [
              0.1111111111111111,
              "#46039f"
             ],
             [
              0.2222222222222222,
              "#7201a8"
             ],
             [
              0.3333333333333333,
              "#9c179e"
             ],
             [
              0.4444444444444444,
              "#bd3786"
             ],
             [
              0.5555555555555556,
              "#d8576b"
             ],
             [
              0.6666666666666666,
              "#ed7953"
             ],
             [
              0.7777777777777778,
              "#fb9f3a"
             ],
             [
              0.8888888888888888,
              "#fdca26"
             ],
             [
              1,
              "#f0f921"
             ]
            ],
            "type": "heatmap"
           }
          ],
          "histogram": [
           {
            "marker": {
             "pattern": {
              "fillmode": "overlay",
              "size": 10,
              "solidity": 0.2
             }
            },
            "type": "histogram"
           }
          ],
          "histogram2d": [
           {
            "colorbar": {
             "outlinewidth": 0,
             "ticks": ""
            },
            "colorscale": [
             [
              0,
              "#0d0887"
             ],
             [
              0.1111111111111111,
              "#46039f"
             ],
             [
              0.2222222222222222,
              "#7201a8"
             ],
             [
              0.3333333333333333,
              "#9c179e"
             ],
             [
              0.4444444444444444,
              "#bd3786"
             ],
             [
              0.5555555555555556,
              "#d8576b"
             ],
             [
              0.6666666666666666,
              "#ed7953"
             ],
             [
              0.7777777777777778,
              "#fb9f3a"
             ],
             [
              0.8888888888888888,
              "#fdca26"
             ],
             [
              1,
              "#f0f921"
             ]
            ],
            "type": "histogram2d"
           }
          ],
          "histogram2dcontour": [
           {
            "colorbar": {
             "outlinewidth": 0,
             "ticks": ""
            },
            "colorscale": [
             [
              0,
              "#0d0887"
             ],
             [
              0.1111111111111111,
              "#46039f"
             ],
             [
              0.2222222222222222,
              "#7201a8"
             ],
             [
              0.3333333333333333,
              "#9c179e"
             ],
             [
              0.4444444444444444,
              "#bd3786"
             ],
             [
              0.5555555555555556,
              "#d8576b"
             ],
             [
              0.6666666666666666,
              "#ed7953"
             ],
             [
              0.7777777777777778,
              "#fb9f3a"
             ],
             [
              0.8888888888888888,
              "#fdca26"
             ],
             [
              1,
              "#f0f921"
             ]
            ],
            "type": "histogram2dcontour"
           }
          ],
          "mesh3d": [
           {
            "colorbar": {
             "outlinewidth": 0,
             "ticks": ""
            },
            "type": "mesh3d"
           }
          ],
          "parcoords": [
           {
            "line": {
             "colorbar": {
              "outlinewidth": 0,
              "ticks": ""
             }
            },
            "type": "parcoords"
           }
          ],
          "pie": [
           {
            "automargin": true,
            "type": "pie"
           }
          ],
          "scatter": [
           {
            "fillpattern": {
             "fillmode": "overlay",
             "size": 10,
             "solidity": 0.2
            },
            "type": "scatter"
           }
          ],
          "scatter3d": [
           {
            "line": {
             "colorbar": {
              "outlinewidth": 0,
              "ticks": ""
             }
            },
            "marker": {
             "colorbar": {
              "outlinewidth": 0,
              "ticks": ""
             }
            },
            "type": "scatter3d"
           }
          ],
          "scattercarpet": [
           {
            "marker": {
             "colorbar": {
              "outlinewidth": 0,
              "ticks": ""
             }
            },
            "type": "scattercarpet"
           }
          ],
          "scattergeo": [
           {
            "marker": {
             "colorbar": {
              "outlinewidth": 0,
              "ticks": ""
             }
            },
            "type": "scattergeo"
           }
          ],
          "scattergl": [
           {
            "marker": {
             "colorbar": {
              "outlinewidth": 0,
              "ticks": ""
             }
            },
            "type": "scattergl"
           }
          ],
          "scattermap": [
           {
            "marker": {
             "colorbar": {
              "outlinewidth": 0,
              "ticks": ""
             }
            },
            "type": "scattermap"
           }
          ],
          "scattermapbox": [
           {
            "marker": {
             "colorbar": {
              "outlinewidth": 0,
              "ticks": ""
             }
            },
            "type": "scattermapbox"
           }
          ],
          "scatterpolar": [
           {
            "marker": {
             "colorbar": {
              "outlinewidth": 0,
              "ticks": ""
             }
            },
            "type": "scatterpolar"
           }
          ],
          "scatterpolargl": [
           {
            "marker": {
             "colorbar": {
              "outlinewidth": 0,
              "ticks": ""
             }
            },
            "type": "scatterpolargl"
           }
          ],
          "scatterternary": [
           {
            "marker": {
             "colorbar": {
              "outlinewidth": 0,
              "ticks": ""
             }
            },
            "type": "scatterternary"
           }
          ],
          "surface": [
           {
            "colorbar": {
             "outlinewidth": 0,
             "ticks": ""
            },
            "colorscale": [
             [
              0,
              "#0d0887"
             ],
             [
              0.1111111111111111,
              "#46039f"
             ],
             [
              0.2222222222222222,
              "#7201a8"
             ],
             [
              0.3333333333333333,
              "#9c179e"
             ],
             [
              0.4444444444444444,
              "#bd3786"
             ],
             [
              0.5555555555555556,
              "#d8576b"
             ],
             [
              0.6666666666666666,
              "#ed7953"
             ],
             [
              0.7777777777777778,
              "#fb9f3a"
             ],
             [
              0.8888888888888888,
              "#fdca26"
             ],
             [
              1,
              "#f0f921"
             ]
            ],
            "type": "surface"
           }
          ],
          "table": [
           {
            "cells": {
             "fill": {
              "color": "#EBF0F8"
             },
             "line": {
              "color": "white"
             }
            },
            "header": {
             "fill": {
              "color": "#C8D4E3"
             },
             "line": {
              "color": "white"
             }
            },
            "type": "table"
           }
          ]
         },
         "layout": {
          "annotationdefaults": {
           "arrowcolor": "#2a3f5f",
           "arrowhead": 0,
           "arrowwidth": 1
          },
          "autotypenumbers": "strict",
          "coloraxis": {
           "colorbar": {
            "outlinewidth": 0,
            "ticks": ""
           }
          },
          "colorscale": {
           "diverging": [
            [
             0,
             "#8e0152"
            ],
            [
             0.1,
             "#c51b7d"
            ],
            [
             0.2,
             "#de77ae"
            ],
            [
             0.3,
             "#f1b6da"
            ],
            [
             0.4,
             "#fde0ef"
            ],
            [
             0.5,
             "#f7f7f7"
            ],
            [
             0.6,
             "#e6f5d0"
            ],
            [
             0.7,
             "#b8e186"
            ],
            [
             0.8,
             "#7fbc41"
            ],
            [
             0.9,
             "#4d9221"
            ],
            [
             1,
             "#276419"
            ]
           ],
           "sequential": [
            [
             0,
             "#0d0887"
            ],
            [
             0.1111111111111111,
             "#46039f"
            ],
            [
             0.2222222222222222,
             "#7201a8"
            ],
            [
             0.3333333333333333,
             "#9c179e"
            ],
            [
             0.4444444444444444,
             "#bd3786"
            ],
            [
             0.5555555555555556,
             "#d8576b"
            ],
            [
             0.6666666666666666,
             "#ed7953"
            ],
            [
             0.7777777777777778,
             "#fb9f3a"
            ],
            [
             0.8888888888888888,
             "#fdca26"
            ],
            [
             1,
             "#f0f921"
            ]
           ],
           "sequentialminus": [
            [
             0,
             "#0d0887"
            ],
            [
             0.1111111111111111,
             "#46039f"
            ],
            [
             0.2222222222222222,
             "#7201a8"
            ],
            [
             0.3333333333333333,
             "#9c179e"
            ],
            [
             0.4444444444444444,
             "#bd3786"
            ],
            [
             0.5555555555555556,
             "#d8576b"
            ],
            [
             0.6666666666666666,
             "#ed7953"
            ],
            [
             0.7777777777777778,
             "#fb9f3a"
            ],
            [
             0.8888888888888888,
             "#fdca26"
            ],
            [
             1,
             "#f0f921"
            ]
           ]
          },
          "colorway": [
           "#636efa",
           "#EF553B",
           "#00cc96",
           "#ab63fa",
           "#FFA15A",
           "#19d3f3",
           "#FF6692",
           "#B6E880",
           "#FF97FF",
           "#FECB52"
          ],
          "font": {
           "color": "#2a3f5f"
          },
          "geo": {
           "bgcolor": "white",
           "lakecolor": "white",
           "landcolor": "#E5ECF6",
           "showlakes": true,
           "showland": true,
           "subunitcolor": "white"
          },
          "hoverlabel": {
           "align": "left"
          },
          "hovermode": "closest",
          "mapbox": {
           "style": "light"
          },
          "paper_bgcolor": "white",
          "plot_bgcolor": "#E5ECF6",
          "polar": {
           "angularaxis": {
            "gridcolor": "white",
            "linecolor": "white",
            "ticks": ""
           },
           "bgcolor": "#E5ECF6",
           "radialaxis": {
            "gridcolor": "white",
            "linecolor": "white",
            "ticks": ""
           }
          },
          "scene": {
           "xaxis": {
            "backgroundcolor": "#E5ECF6",
            "gridcolor": "white",
            "gridwidth": 2,
            "linecolor": "white",
            "showbackground": true,
            "ticks": "",
            "zerolinecolor": "white"
           },
           "yaxis": {
            "backgroundcolor": "#E5ECF6",
            "gridcolor": "white",
            "gridwidth": 2,
            "linecolor": "white",
            "showbackground": true,
            "ticks": "",
            "zerolinecolor": "white"
           },
           "zaxis": {
            "backgroundcolor": "#E5ECF6",
            "gridcolor": "white",
            "gridwidth": 2,
            "linecolor": "white",
            "showbackground": true,
            "ticks": "",
            "zerolinecolor": "white"
           }
          },
          "shapedefaults": {
           "line": {
            "color": "#2a3f5f"
           }
          },
          "ternary": {
           "aaxis": {
            "gridcolor": "white",
            "linecolor": "white",
            "ticks": ""
           },
           "baxis": {
            "gridcolor": "white",
            "linecolor": "white",
            "ticks": ""
           },
           "bgcolor": "#E5ECF6",
           "caxis": {
            "gridcolor": "white",
            "linecolor": "white",
            "ticks": ""
           }
          },
          "title": {
           "x": 0.05
          },
          "xaxis": {
           "automargin": true,
           "gridcolor": "white",
           "linecolor": "white",
           "ticks": "",
           "title": {
            "standoff": 15
           },
           "zerolinecolor": "white",
           "zerolinewidth": 2
          },
          "yaxis": {
           "automargin": true,
           "gridcolor": "white",
           "linecolor": "white",
           "ticks": "",
           "title": {
            "standoff": 15
           },
           "zerolinecolor": "white",
           "zerolinewidth": 2
          }
         }
        },
        "title": {
         "text": "TF-IDF UMAP"
        },
        "xaxis": {
         "anchor": "y",
         "domain": [
          0,
          1
         ],
         "title": {
          "text": "x"
         }
        },
        "yaxis": {
         "anchor": "x",
         "domain": [
          0,
          1
         ],
         "title": {
          "text": "y"
         }
        }
       }
      }
     },
     "metadata": {},
     "output_type": "display_data"
    },
    {
     "data": {
      "application/vnd.plotly.v1+json": {
       "config": {
        "plotlyServerURL": "https://plot.ly"
       },
       "data": [
        {
         "hovertemplate": "color=World<br>x=%{x}<br>y=%{y}<extra></extra>",
         "legendgroup": "World",
         "marker": {
          "color": "#636efa",
          "symbol": "circle"
         },
         "mode": "markers",
         "name": "World",
         "showlegend": true,
         "type": "scattergl",
         "x": {
          "bdata": "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",
          "dtype": "f4"
         },
         "xaxis": "x",
         "y": {
          "bdata": "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",
          "dtype": "f4"
         },
         "yaxis": "y"
        },
        {
         "hovertemplate": "color=Sports<br>x=%{x}<br>y=%{y}<extra></extra>",
         "legendgroup": "Sports",
         "marker": {
          "color": "#EF553B",
          "symbol": "circle"
         },
         "mode": "markers",
         "name": "Sports",
         "showlegend": true,
         "type": "scattergl",
         "x": {
          "bdata": "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",
          "dtype": "f4"
         },
         "xaxis": "x",
         "y": {
          "bdata": "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",
          "dtype": "f4"
         },
         "yaxis": "y"
        },
        {
         "hovertemplate": "color=Business<br>x=%{x}<br>y=%{y}<extra></extra>",
         "legendgroup": "Business",
         "marker": {
          "color": "#00cc96",
          "symbol": "circle"
         },
         "mode": "markers",
         "name": "Business",
         "showlegend": true,
         "type": "scattergl",
         "x": {
          "bdata": "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",
          "dtype": "f4"
         },
         "xaxis": "x",
         "y": {
          "bdata": "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",
          "dtype": "f4"
         },
         "yaxis": "y"
        },
        {
         "hovertemplate": "color=Sci/Tech<br>x=%{x}<br>y=%{y}<extra></extra>",
         "legendgroup": "Sci/Tech",
         "marker": {
          "color": "#ab63fa",
          "symbol": "circle"
         },
         "mode": "markers",
         "name": "Sci/Tech",
         "showlegend": true,
         "type": "scattergl",
         "x": {
          "bdata": "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",
          "dtype": "f4"
         },
         "xaxis": "x",
         "y": {
          "bdata": "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",
          "dtype": "f4"
         },
         "yaxis": "y"
        }
       ],
       "layout": {
        "legend": {
         "title": {
          "text": "color"
         },
         "tracegroupgap": 0
        },
        "template": {
         "data": {
          "bar": [
           {
            "error_x": {
             "color": "#2a3f5f"
            },
            "error_y": {
             "color": "#2a3f5f"
            },
            "marker": {
             "line": {
              "color": "#E5ECF6",
              "width": 0.5
             },
             "pattern": {
              "fillmode": "overlay",
              "size": 10,
              "solidity": 0.2
             }
            },
            "type": "bar"
           }
          ],
          "barpolar": [
           {
            "marker": {
             "line": {
              "color": "#E5ECF6",
              "width": 0.5
             },
             "pattern": {
              "fillmode": "overlay",
              "size": 10,
              "solidity": 0.2
             }
            },
            "type": "barpolar"
           }
          ],
          "carpet": [
           {
            "aaxis": {
             "endlinecolor": "#2a3f5f",
             "gridcolor": "white",
             "linecolor": "white",
             "minorgridcolor": "white",
             "startlinecolor": "#2a3f5f"
            },
            "baxis": {
             "endlinecolor": "#2a3f5f",
             "gridcolor": "white",
             "linecolor": "white",
             "minorgridcolor": "white",
             "startlinecolor": "#2a3f5f"
            },
            "type": "carpet"
           }
          ],
          "choropleth": [
           {
            "colorbar": {
             "outlinewidth": 0,
             "ticks": ""
            },
            "type": "choropleth"
           }
          ],
          "contour": [
           {
            "colorbar": {
             "outlinewidth": 0,
             "ticks": ""
            },
            "colorscale": [
             [
              0,
              "#0d0887"
             ],
             [
              0.1111111111111111,
              "#46039f"
             ],
             [
              0.2222222222222222,
              "#7201a8"
             ],
             [
              0.3333333333333333,
              "#9c179e"
             ],
             [
              0.4444444444444444,
              "#bd3786"
             ],
             [
              0.5555555555555556,
              "#d8576b"
             ],
             [
              0.6666666666666666,
              "#ed7953"
             ],
             [
              0.7777777777777778,
              "#fb9f3a"
             ],
             [
              0.8888888888888888,
              "#fdca26"
             ],
             [
              1,
              "#f0f921"
             ]
            ],
            "type": "contour"
           }
          ],
          "contourcarpet": [
           {
            "colorbar": {
             "outlinewidth": 0,
             "ticks": ""
            },
            "type": "contourcarpet"
           }
          ],
          "heatmap": [
           {
            "colorbar": {
             "outlinewidth": 0,
             "ticks": ""
            },
            "colorscale": [
             [
              0,
              "#0d0887"
             ],
             [
              0.1111111111111111,
              "#46039f"
             ],
             [
              0.2222222222222222,
              "#7201a8"
             ],
             [
              0.3333333333333333,
              "#9c179e"
             ],
             [
              0.4444444444444444,
              "#bd3786"
             ],
             [
              0.5555555555555556,
              "#d8576b"
             ],
             [
              0.6666666666666666,
              "#ed7953"
             ],
             [
              0.7777777777777778,
              "#fb9f3a"
             ],
             [
              0.8888888888888888,
              "#fdca26"
             ],
             [
              1,
              "#f0f921"
             ]
            ],
            "type": "heatmap"
           }
          ],
          "histogram": [
           {
            "marker": {
             "pattern": {
              "fillmode": "overlay",
              "size": 10,
              "solidity": 0.2
             }
            },
            "type": "histogram"
           }
          ],
          "histogram2d": [
           {
            "colorbar": {
             "outlinewidth": 0,
             "ticks": ""
            },
            "colorscale": [
             [
              0,
              "#0d0887"
             ],
             [
              0.1111111111111111,
              "#46039f"
             ],
             [
              0.2222222222222222,
              "#7201a8"
             ],
             [
              0.3333333333333333,
              "#9c179e"
             ],
             [
              0.4444444444444444,
              "#bd3786"
             ],
             [
              0.5555555555555556,
              "#d8576b"
             ],
             [
              0.6666666666666666,
              "#ed7953"
             ],
             [
              0.7777777777777778,
              "#fb9f3a"
             ],
             [
              0.8888888888888888,
              "#fdca26"
             ],
             [
              1,
              "#f0f921"
             ]
            ],
            "type": "histogram2d"
           }
          ],
          "histogram2dcontour": [
           {
            "colorbar": {
             "outlinewidth": 0,
             "ticks": ""
            },
            "colorscale": [
             [
              0,
              "#0d0887"
             ],
             [
              0.1111111111111111,
              "#46039f"
             ],
             [
              0.2222222222222222,
              "#7201a8"
             ],
             [
              0.3333333333333333,
              "#9c179e"
             ],
             [
              0.4444444444444444,
              "#bd3786"
             ],
             [
              0.5555555555555556,
              "#d8576b"
             ],
             [
              0.6666666666666666,
              "#ed7953"
             ],
             [
              0.7777777777777778,
              "#fb9f3a"
             ],
             [
              0.8888888888888888,
              "#fdca26"
             ],
             [
              1,
              "#f0f921"
             ]
            ],
            "type": "histogram2dcontour"
           }
          ],
          "mesh3d": [
           {
            "colorbar": {
             "outlinewidth": 0,
             "ticks": ""
            },
            "type": "mesh3d"
           }
          ],
          "parcoords": [
           {
            "line": {
             "colorbar": {
              "outlinewidth": 0,
              "ticks": ""
             }
            },
            "type": "parcoords"
           }
          ],
          "pie": [
           {
            "automargin": true,
            "type": "pie"
           }
          ],
          "scatter": [
           {
            "fillpattern": {
             "fillmode": "overlay",
             "size": 10,
             "solidity": 0.2
            },
            "type": "scatter"
           }
          ],
          "scatter3d": [
           {
            "line": {
             "colorbar": {
              "outlinewidth": 0,
              "ticks": ""
             }
            },
            "marker": {
             "colorbar": {
              "outlinewidth": 0,
              "ticks": ""
             }
            },
            "type": "scatter3d"
           }
          ],
          "scattercarpet": [
           {
            "marker": {
             "colorbar": {
              "outlinewidth": 0,
              "ticks": ""
             }
            },
            "type": "scattercarpet"
           }
          ],
          "scattergeo": [
           {
            "marker": {
             "colorbar": {
              "outlinewidth": 0,
              "ticks": ""
             }
            },
            "type": "scattergeo"
           }
          ],
          "scattergl": [
           {
            "marker": {
             "colorbar": {
              "outlinewidth": 0,
              "ticks": ""
             }
            },
            "type": "scattergl"
           }
          ],
          "scattermap": [
           {
            "marker": {
             "colorbar": {
              "outlinewidth": 0,
              "ticks": ""
             }
            },
            "type": "scattermap"
           }
          ],
          "scattermapbox": [
           {
            "marker": {
             "colorbar": {
              "outlinewidth": 0,
              "ticks": ""
             }
            },
            "type": "scattermapbox"
           }
          ],
          "scatterpolar": [
           {
            "marker": {
             "colorbar": {
              "outlinewidth": 0,
              "ticks": ""
             }
            },
            "type": "scatterpolar"
           }
          ],
          "scatterpolargl": [
           {
            "marker": {
             "colorbar": {
              "outlinewidth": 0,
              "ticks": ""
             }
            },
            "type": "scatterpolargl"
           }
          ],
          "scatterternary": [
           {
            "marker": {
             "colorbar": {
              "outlinewidth": 0,
              "ticks": ""
             }
            },
            "type": "scatterternary"
           }
          ],
          "surface": [
           {
            "colorbar": {
             "outlinewidth": 0,
             "ticks": ""
            },
            "colorscale": [
             [
              0,
              "#0d0887"
             ],
             [
              0.1111111111111111,
              "#46039f"
             ],
             [
              0.2222222222222222,
              "#7201a8"
             ],
             [
              0.3333333333333333,
              "#9c179e"
             ],
             [
              0.4444444444444444,
              "#bd3786"
             ],
             [
              0.5555555555555556,
              "#d8576b"
             ],
             [
              0.6666666666666666,
              "#ed7953"
             ],
             [
              0.7777777777777778,
              "#fb9f3a"
             ],
             [
              0.8888888888888888,
              "#fdca26"
             ],
             [
              1,
              "#f0f921"
             ]
            ],
            "type": "surface"
           }
          ],
          "table": [
           {
            "cells": {
             "fill": {
              "color": "#EBF0F8"
             },
             "line": {
              "color": "white"
             }
            },
            "header": {
             "fill": {
              "color": "#C8D4E3"
             },
             "line": {
              "color": "white"
             }
            },
            "type": "table"
           }
          ]
         },
         "layout": {
          "annotationdefaults": {
           "arrowcolor": "#2a3f5f",
           "arrowhead": 0,
           "arrowwidth": 1
          },
          "autotypenumbers": "strict",
          "coloraxis": {
           "colorbar": {
            "outlinewidth": 0,
            "ticks": ""
           }
          },
          "colorscale": {
           "diverging": [
            [
             0,
             "#8e0152"
            ],
            [
             0.1,
             "#c51b7d"
            ],
            [
             0.2,
             "#de77ae"
            ],
            [
             0.3,
             "#f1b6da"
            ],
            [
             0.4,
             "#fde0ef"
            ],
            [
             0.5,
             "#f7f7f7"
            ],
            [
             0.6,
             "#e6f5d0"
            ],
            [
             0.7,
             "#b8e186"
            ],
            [
             0.8,
             "#7fbc41"
            ],
            [
             0.9,
             "#4d9221"
            ],
            [
             1,
             "#276419"
            ]
           ],
           "sequential": [
            [
             0,
             "#0d0887"
            ],
            [
             0.1111111111111111,
             "#46039f"
            ],
            [
             0.2222222222222222,
             "#7201a8"
            ],
            [
             0.3333333333333333,
             "#9c179e"
            ],
            [
             0.4444444444444444,
             "#bd3786"
            ],
            [
             0.5555555555555556,
             "#d8576b"
            ],
            [
             0.6666666666666666,
             "#ed7953"
            ],
            [
             0.7777777777777778,
             "#fb9f3a"
            ],
            [
             0.8888888888888888,
             "#fdca26"
            ],
            [
             1,
             "#f0f921"
            ]
           ],
           "sequentialminus": [
            [
             0,
             "#0d0887"
            ],
            [
             0.1111111111111111,
             "#46039f"
            ],
            [
             0.2222222222222222,
             "#7201a8"
            ],
            [
             0.3333333333333333,
             "#9c179e"
            ],
            [
             0.4444444444444444,
             "#bd3786"
            ],
            [
             0.5555555555555556,
             "#d8576b"
            ],
            [
             0.6666666666666666,
             "#ed7953"
            ],
            [
             0.7777777777777778,
             "#fb9f3a"
            ],
            [
             0.8888888888888888,
             "#fdca26"
            ],
            [
             1,
             "#f0f921"
            ]
           ]
          },
          "colorway": [
           "#636efa",
           "#EF553B",
           "#00cc96",
           "#ab63fa",
           "#FFA15A",
           "#19d3f3",
           "#FF6692",
           "#B6E880",
           "#FF97FF",
           "#FECB52"
          ],
          "font": {
           "color": "#2a3f5f"
          },
          "geo": {
           "bgcolor": "white",
           "lakecolor": "white",
           "landcolor": "#E5ECF6",
           "showlakes": true,
           "showland": true,
           "subunitcolor": "white"
          },
          "hoverlabel": {
           "align": "left"
          },
          "hovermode": "closest",
          "mapbox": {
           "style": "light"
          },
          "paper_bgcolor": "white",
          "plot_bgcolor": "#E5ECF6",
          "polar": {
           "angularaxis": {
            "gridcolor": "white",
            "linecolor": "white",
            "ticks": ""
           },
           "bgcolor": "#E5ECF6",
           "radialaxis": {
            "gridcolor": "white",
            "linecolor": "white",
            "ticks": ""
           }
          },
          "scene": {
           "xaxis": {
            "backgroundcolor": "#E5ECF6",
            "gridcolor": "white",
            "gridwidth": 2,
            "linecolor": "white",
            "showbackground": true,
            "ticks": "",
            "zerolinecolor": "white"
           },
           "yaxis": {
            "backgroundcolor": "#E5ECF6",
            "gridcolor": "white",
            "gridwidth": 2,
            "linecolor": "white",
            "showbackground": true,
            "ticks": "",
            "zerolinecolor": "white"
           },
           "zaxis": {
            "backgroundcolor": "#E5ECF6",
            "gridcolor": "white",
            "gridwidth": 2,
            "linecolor": "white",
            "showbackground": true,
            "ticks": "",
            "zerolinecolor": "white"
           }
          },
          "shapedefaults": {
           "line": {
            "color": "#2a3f5f"
           }
          },
          "ternary": {
           "aaxis": {
            "gridcolor": "white",
            "linecolor": "white",
            "ticks": ""
           },
           "baxis": {
            "gridcolor": "white",
            "linecolor": "white",
            "ticks": ""
           },
           "bgcolor": "#E5ECF6",
           "caxis": {
            "gridcolor": "white",
            "linecolor": "white",
            "ticks": ""
           }
          },
          "title": {
           "x": 0.05
          },
          "xaxis": {
           "automargin": true,
           "gridcolor": "white",
           "linecolor": "white",
           "ticks": "",
           "title": {
            "standoff": 15
           },
           "zerolinecolor": "white",
           "zerolinewidth": 2
          },
          "yaxis": {
           "automargin": true,
           "gridcolor": "white",
           "linecolor": "white",
           "ticks": "",
           "title": {
            "standoff": 15
           },
           "zerolinecolor": "white",
           "zerolinewidth": 2
          }
         }
        },
        "title": {
         "text": "SBERT UMAP"
        },
        "xaxis": {
         "anchor": "y",
         "domain": [
          0,
          1
         ],
         "title": {
          "text": "x"
         }
        },
        "yaxis": {
         "anchor": "x",
         "domain": [
          0,
          1
         ],
         "title": {
          "text": "y"
         }
        }
       }
      }
     },
     "metadata": {},
     "output_type": "display_data"
    }
   ],
   "source": [
    "px.scatter(x=X_tfidf_umap[:,0], y=X_tfidf_umap[:,1], color=df[\"label_name\"], title=\"TF-IDF UMAP\").show()\n",
    "px.scatter(x=X_sbert_umap[:,0], y=X_sbert_umap[:,1], color=df[\"label_name\"], title=\"SBERT UMAP\").show()"
   ]
  },
  {
   "cell_type": "code",
   "execution_count": null,
   "metadata": {},
   "outputs": [],
   "source": [
    "from pathlib import Path\n",
    "\n",
    "import kagglehub\n",
    "import numpy as np\n",
    "import pandas as pd\n",
    "import plotly.express as px\n",
    "import plotly.io as pio\n",
    "import torch\n",
    "from PIL import Image\n",
    "from numpy.typing import NDArray\n",
    "from sklearn import cluster\n",
    "from sklearn.decomposition import PCA\n",
    "from sklearn.manifold import TSNE\n",
    "from sklearn.mixture import GaussianMixture\n",
    "from sklearn.neighbors import NearestNeighbors\n",
    "from tqdm import tqdm\n",
    "from transformers import AutoFeatureExtractor, AutoModel\n",
    "from umap import UMAP\n",
    "from sklearn.metrics.cluster import adjusted_rand_score"
   ]
  },
  {
   "cell_type": "code",
   "execution_count": 67,
   "metadata": {},
   "outputs": [],
   "source": [
    "def project_vectors(data: NDArray, technique: str = \"tsne\", **options) -> NDArray:\n",
    "    if technique == \"pca\":\n",
    "        transformer = PCA(**options)\n",
    "    elif technique == \"tsne\":\n",
    "        transformer = TSNE(**options)\n",
    "    elif technique == \"umap\":\n",
    "        transformer = UMAP(**options)\n",
    "    else:\n",
    "        raise ValueError(\n",
    "            f\"Invalid technique: {technique}. Choose from 'pca', 'tsne', or 'umap'.\"\n",
    "        )\n",
    "\n",
    "    transformed_data = transformer.fit_transform(data)\n",
    "    return transformed_data"
   ]
  },
  {
   "cell_type": "code",
   "execution_count": 65,
   "metadata": {},
   "outputs": [],
   "source": [
    "def plot_embeddings(embeddings: NDArray,\n",
    "                    clustering_results: NDArray,\n",
    "                    symbol: str = \"class\",\n",
    "                    color: str = \"clustering_results\",\n",
    "                    reduction_techniques: str = \"tsne\",\n",
    "                    classes: list[str] = df[\"label\"],\n",
    "                    text: list[str] = df[\"text\"],\n",
    "                    plot_3d: bool = False):\n",
    "    if embeddings.shape[1] > 2:\n",
    "        reduced_embeddings = project_vectors(embeddings, technique=reduction_techniques,\n",
    "                                             n_components=3 if plot_3d else 2, random_state=6)\n",
    "        print(f\"Reduced embeddings from {embeddings.shape[1]} to {reduced_embeddings.shape[1]}\")\n",
    "    else:\n",
    "        reduced_embeddings = embeddings\n",
    "\n",
    "    reduced_embeddings = embeddings\n",
    "    df = pd.DataFrame({\n",
    "        \"x\": reduced_embeddings[:, 0],\n",
    "        \"y\": reduced_embeddings[:, 1],\n",
    "        \"class\": classes,\n",
    "        \"text\": list(map(str, text)),\n",
    "        \"clustering_results\": clustering_results\n",
    "    })\n",
    "\n",
    "    if plot_3d:\n",
    "        df[\"z\"] = reduced_embeddings[:, 2]\n",
    "\n",
    "    df = df.astype({\n",
    "        \"class\": \"category\",\n",
    "        \"clustering_results\": \"category\"\n",
    "    })\n",
    "    if plot_3d:\n",
    "        fig = px.scatter_3d(df, x=\"x\", y=\"y\", z=\"z\", color=color, symbol=symbol,\n",
    "                            title=f\"{reduction_techniques} reduction technique. Visualization of Image Embeddings\")\n",
    "    else:\n",
    "        fig = px.scatter(df, x=\"x\", y=\"y\", color=color, symbol=symbol,\n",
    "                         title=f\"{reduction_techniques} reduction technique. Visualization of Image Embeddings\")\n",
    "\n",
    "    fig.update_traces(textfont_size=25, marker=dict(size=3))\n",
    "    fig.update_layout(template=\"plotly\")\n",
    "    fig.show()\n"
   ]
  },
  {
   "cell_type": "code",
   "execution_count": null,
   "metadata": {},
   "outputs": [],
   "source": [
    "\n",
    "\n",
    "def cluster_embeddings(embeddings: NDArray, algorithm_name: str = 'KMeans', **kwargs):\n",
    "    \"\"\"\n",
    "    Clusters embeddings using a specified clustering algorithm from sklearn.\n",
    "    \n",
    "    Parameters:\n",
    "    -----------\n",
    "    embeddings : numpy.ndarray\n",
    "        The embeddings to cluster, shape (n_samples, n_features)\n",
    "    algorithm_name : str\n",
    "        Name of the clustering algorithm to use (must be available in sklearn.cluster\n",
    "        or be GaussianMixture)\n",
    "    **kwargs : \n",
    "        Additional parameters to pass to the clustering algorithm\n",
    "        \n",
    "    Returns:\n",
    "    --------\n",
    "    labels : numpy.ndarray\n",
    "        Cluster labels for each embedding, shape (n_samples,)\n",
    "    model : object\n",
    "        The fitted clustering model\n",
    "    \"\"\"\n",
    "    if not isinstance(embeddings, np.ndarray):\n",
    "        raise TypeError(\"Embeddings must be a numpy array\")\n",
    "\n",
    "    if len(embeddings.shape) != 2:\n",
    "        raise ValueError(f\"Embeddings must be 2D array, got shape {embeddings.shape}\")\n",
    "\n",
    "    if algorithm_name == 'GaussianMixture':\n",
    "        algorithm_class = GaussianMixture\n",
    "    else:\n",
    "        try:\n",
    "            algorithm_class = getattr(cluster, algorithm_name)\n",
    "        except AttributeError:\n",
    "            raise ValueError(f\"Algorithm '{algorithm_name}' not found in sklearn.cluster or is not GaussianMixture\")\n",
    "\n",
    "    model = algorithm_class(**kwargs)\n",
    "\n",
    "    if hasattr(model, 'fit_predict'):\n",
    "        labels = model.fit_predict(embeddings)\n",
    "    elif hasattr(model, 'fit') and hasattr(model, 'predict'):\n",
    "\n",
    "        model.fit(embeddings)\n",
    "        labels = model.predict(embeddings)\n",
    "    else:\n",
    "        raise ValueError(f\"Algorithm '{algorithm_name}' does not support required methods\")\n",
    "\n",
    "    return labels, model\n"
   ]
  },
  {
   "cell_type": "code",
   "execution_count": 71,
   "metadata": {},
   "outputs": [
    {
     "name": "stdout",
     "output_type": "stream",
     "text": [
      "Reduced embeddings from 384 to 2\n"
     ]
    },
    {
     "data": {
      "application/vnd.plotly.v1+json": {
       "config": {
        "plotlyServerURL": "https://plot.ly"
       },
       "data": [
        {
         "hovertemplate": "class=0<br>x=%{x}<br>y=%{y}<extra></extra>",
         "legendgroup": "0",
         "marker": {
          "color": "#636efa",
          "size": 3,
          "symbol": "circle"
         },
         "mode": "markers",
         "name": "0",
         "showlegend": true,
         "textfont": {
          "size": 25
         },
         "type": "scattergl",
         "x": {
          "bdata": "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",
          "dtype": "f4"
         },
         "xaxis": "x",
         "y": {
          "bdata": "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",
          "dtype": "f4"
         },
         "yaxis": "y"
        },
        {
         "hovertemplate": "class=1<br>x=%{x}<br>y=%{y}<extra></extra>",
         "legendgroup": "1",
         "marker": {
          "color": "#EF553B",
          "size": 3,
          "symbol": "diamond"
         },
         "mode": "markers",
         "name": "1",
         "showlegend": true,
         "textfont": {
          "size": 25
         },
         "type": "scattergl",
         "x": {
          "bdata": "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",
          "dtype": "f4"
         },
         "xaxis": "x",
         "y": {
          "bdata": "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",
          "dtype": "f4"
         },
         "yaxis": "y"
        },
        {
         "hovertemplate": "class=2<br>x=%{x}<br>y=%{y}<extra></extra>",
         "legendgroup": "2",
         "marker": {
          "color": "#00cc96",
          "size": 3,
          "symbol": "square"
         },
         "mode": "markers",
         "name": "2",
         "showlegend": true,
         "textfont": {
          "size": 25
         },
         "type": "scattergl",
         "x": {
          "bdata": "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",
          "dtype": "f4"
         },
         "xaxis": "x",
         "y": {
          "bdata": "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",
          "dtype": "f4"
         },
         "yaxis": "y"
        },
        {
         "hovertemplate": "class=3<br>x=%{x}<br>y=%{y}<extra></extra>",
         "legendgroup": "3",
         "marker": {
          "color": "#ab63fa",
          "size": 3,
          "symbol": "x"
         },
         "mode": "markers",
         "name": "3",
         "showlegend": true,
         "textfont": {
          "size": 25
         },
         "type": "scattergl",
         "x": {
          "bdata": "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",
          "dtype": "f4"
         },
         "xaxis": "x",
         "y": {
          "bdata": "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",
          "dtype": "f4"
         },
         "yaxis": "y"
        }
       ],
       "layout": {
        "legend": {
         "title": {
          "text": "class"
         },
         "tracegroupgap": 0
        },
        "template": {
         "data": {
          "bar": [
           {
            "error_x": {
             "color": "#2a3f5f"
            },
            "error_y": {
             "color": "#2a3f5f"
            },
            "marker": {
             "line": {
              "color": "#E5ECF6",
              "width": 0.5
             },
             "pattern": {
              "fillmode": "overlay",
              "size": 10,
              "solidity": 0.2
             }
            },
            "type": "bar"
           }
          ],
          "barpolar": [
           {
            "marker": {
             "line": {
              "color": "#E5ECF6",
              "width": 0.5
             },
             "pattern": {
              "fillmode": "overlay",
              "size": 10,
              "solidity": 0.2
             }
            },
            "type": "barpolar"
           }
          ],
          "carpet": [
           {
            "aaxis": {
             "endlinecolor": "#2a3f5f",
             "gridcolor": "white",
             "linecolor": "white",
             "minorgridcolor": "white",
             "startlinecolor": "#2a3f5f"
            },
            "baxis": {
             "endlinecolor": "#2a3f5f",
             "gridcolor": "white",
             "linecolor": "white",
             "minorgridcolor": "white",
             "startlinecolor": "#2a3f5f"
            },
            "type": "carpet"
           }
          ],
          "choropleth": [
           {
            "colorbar": {
             "outlinewidth": 0,
             "ticks": ""
            },
            "type": "choropleth"
           }
          ],
          "contour": [
           {
            "colorbar": {
             "outlinewidth": 0,
             "ticks": ""
            },
            "colorscale": [
             [
              0,
              "#0d0887"
             ],
             [
              0.1111111111111111,
              "#46039f"
             ],
             [
              0.2222222222222222,
              "#7201a8"
             ],
             [
              0.3333333333333333,
              "#9c179e"
             ],
             [
              0.4444444444444444,
              "#bd3786"
             ],
             [
              0.5555555555555556,
              "#d8576b"
             ],
             [
              0.6666666666666666,
              "#ed7953"
             ],
             [
              0.7777777777777778,
              "#fb9f3a"
             ],
             [
              0.8888888888888888,
              "#fdca26"
             ],
             [
              1,
              "#f0f921"
             ]
            ],
            "type": "contour"
           }
          ],
          "contourcarpet": [
           {
            "colorbar": {
             "outlinewidth": 0,
             "ticks": ""
            },
            "type": "contourcarpet"
           }
          ],
          "heatmap": [
           {
            "colorbar": {
             "outlinewidth": 0,
             "ticks": ""
            },
            "colorscale": [
             [
              0,
              "#0d0887"
             ],
             [
              0.1111111111111111,
              "#46039f"
             ],
             [
              0.2222222222222222,
              "#7201a8"
             ],
             [
              0.3333333333333333,
              "#9c179e"
             ],
             [
              0.4444444444444444,
              "#bd3786"
             ],
             [
              0.5555555555555556,
              "#d8576b"
             ],
             [
              0.6666666666666666,
              "#ed7953"
             ],
             [
              0.7777777777777778,
              "#fb9f3a"
             ],
             [
              0.8888888888888888,
              "#fdca26"
             ],
             [
              1,
              "#f0f921"
             ]
            ],
            "type": "heatmap"
           }
          ],
          "histogram": [
           {
            "marker": {
             "pattern": {
              "fillmode": "overlay",
              "size": 10,
              "solidity": 0.2
             }
            },
            "type": "histogram"
           }
          ],
          "histogram2d": [
           {
            "colorbar": {
             "outlinewidth": 0,
             "ticks": ""
            },
            "colorscale": [
             [
              0,
              "#0d0887"
             ],
             [
              0.1111111111111111,
              "#46039f"
             ],
             [
              0.2222222222222222,
              "#7201a8"
             ],
             [
              0.3333333333333333,
              "#9c179e"
             ],
             [
              0.4444444444444444,
              "#bd3786"
             ],
             [
              0.5555555555555556,
              "#d8576b"
             ],
             [
              0.6666666666666666,
              "#ed7953"
             ],
             [
              0.7777777777777778,
              "#fb9f3a"
             ],
             [
              0.8888888888888888,
              "#fdca26"
             ],
             [
              1,
              "#f0f921"
             ]
            ],
            "type": "histogram2d"
           }
          ],
          "histogram2dcontour": [
           {
            "colorbar": {
             "outlinewidth": 0,
             "ticks": ""
            },
            "colorscale": [
             [
              0,
              "#0d0887"
             ],
             [
              0.1111111111111111,
              "#46039f"
             ],
             [
              0.2222222222222222,
              "#7201a8"
             ],
             [
              0.3333333333333333,
              "#9c179e"
             ],
             [
              0.4444444444444444,
              "#bd3786"
             ],
             [
              0.5555555555555556,
              "#d8576b"
             ],
             [
              0.6666666666666666,
              "#ed7953"
             ],
             [
              0.7777777777777778,
              "#fb9f3a"
             ],
             [
              0.8888888888888888,
              "#fdca26"
             ],
             [
              1,
              "#f0f921"
             ]
            ],
            "type": "histogram2dcontour"
           }
          ],
          "mesh3d": [
           {
            "colorbar": {
             "outlinewidth": 0,
             "ticks": ""
            },
            "type": "mesh3d"
           }
          ],
          "parcoords": [
           {
            "line": {
             "colorbar": {
              "outlinewidth": 0,
              "ticks": ""
             }
            },
            "type": "parcoords"
           }
          ],
          "pie": [
           {
            "automargin": true,
            "type": "pie"
           }
          ],
          "scatter": [
           {
            "fillpattern": {
             "fillmode": "overlay",
             "size": 10,
             "solidity": 0.2
            },
            "type": "scatter"
           }
          ],
          "scatter3d": [
           {
            "line": {
             "colorbar": {
              "outlinewidth": 0,
              "ticks": ""
             }
            },
            "marker": {
             "colorbar": {
              "outlinewidth": 0,
              "ticks": ""
             }
            },
            "type": "scatter3d"
           }
          ],
          "scattercarpet": [
           {
            "marker": {
             "colorbar": {
              "outlinewidth": 0,
              "ticks": ""
             }
            },
            "type": "scattercarpet"
           }
          ],
          "scattergeo": [
           {
            "marker": {
             "colorbar": {
              "outlinewidth": 0,
              "ticks": ""
             }
            },
            "type": "scattergeo"
           }
          ],
          "scattergl": [
           {
            "marker": {
             "colorbar": {
              "outlinewidth": 0,
              "ticks": ""
             }
            },
            "type": "scattergl"
           }
          ],
          "scattermap": [
           {
            "marker": {
             "colorbar": {
              "outlinewidth": 0,
              "ticks": ""
             }
            },
            "type": "scattermap"
           }
          ],
          "scattermapbox": [
           {
            "marker": {
             "colorbar": {
              "outlinewidth": 0,
              "ticks": ""
             }
            },
            "type": "scattermapbox"
           }
          ],
          "scatterpolar": [
           {
            "marker": {
             "colorbar": {
              "outlinewidth": 0,
              "ticks": ""
             }
            },
            "type": "scatterpolar"
           }
          ],
          "scatterpolargl": [
           {
            "marker": {
             "colorbar": {
              "outlinewidth": 0,
              "ticks": ""
             }
            },
            "type": "scatterpolargl"
           }
          ],
          "scatterternary": [
           {
            "marker": {
             "colorbar": {
              "outlinewidth": 0,
              "ticks": ""
             }
            },
            "type": "scatterternary"
           }
          ],
          "surface": [
           {
            "colorbar": {
             "outlinewidth": 0,
             "ticks": ""
            },
            "colorscale": [
             [
              0,
              "#0d0887"
             ],
             [
              0.1111111111111111,
              "#46039f"
             ],
             [
              0.2222222222222222,
              "#7201a8"
             ],
             [
              0.3333333333333333,
              "#9c179e"
             ],
             [
              0.4444444444444444,
              "#bd3786"
             ],
             [
              0.5555555555555556,
              "#d8576b"
             ],
             [
              0.6666666666666666,
              "#ed7953"
             ],
             [
              0.7777777777777778,
              "#fb9f3a"
             ],
             [
              0.8888888888888888,
              "#fdca26"
             ],
             [
              1,
              "#f0f921"
             ]
            ],
            "type": "surface"
           }
          ],
          "table": [
           {
            "cells": {
             "fill": {
              "color": "#EBF0F8"
             },
             "line": {
              "color": "white"
             }
            },
            "header": {
             "fill": {
              "color": "#C8D4E3"
             },
             "line": {
              "color": "white"
             }
            },
            "type": "table"
           }
          ]
         },
         "layout": {
          "annotationdefaults": {
           "arrowcolor": "#2a3f5f",
           "arrowhead": 0,
           "arrowwidth": 1
          },
          "autotypenumbers": "strict",
          "coloraxis": {
           "colorbar": {
            "outlinewidth": 0,
            "ticks": ""
           }
          },
          "colorscale": {
           "diverging": [
            [
             0,
             "#8e0152"
            ],
            [
             0.1,
             "#c51b7d"
            ],
            [
             0.2,
             "#de77ae"
            ],
            [
             0.3,
             "#f1b6da"
            ],
            [
             0.4,
             "#fde0ef"
            ],
            [
             0.5,
             "#f7f7f7"
            ],
            [
             0.6,
             "#e6f5d0"
            ],
            [
             0.7,
             "#b8e186"
            ],
            [
             0.8,
             "#7fbc41"
            ],
            [
             0.9,
             "#4d9221"
            ],
            [
             1,
             "#276419"
            ]
           ],
           "sequential": [
            [
             0,
             "#0d0887"
            ],
            [
             0.1111111111111111,
             "#46039f"
            ],
            [
             0.2222222222222222,
             "#7201a8"
            ],
            [
             0.3333333333333333,
             "#9c179e"
            ],
            [
             0.4444444444444444,
             "#bd3786"
            ],
            [
             0.5555555555555556,
             "#d8576b"
            ],
            [
             0.6666666666666666,
             "#ed7953"
            ],
            [
             0.7777777777777778,
             "#fb9f3a"
            ],
            [
             0.8888888888888888,
             "#fdca26"
            ],
            [
             1,
             "#f0f921"
            ]
           ],
           "sequentialminus": [
            [
             0,
             "#0d0887"
            ],
            [
             0.1111111111111111,
             "#46039f"
            ],
            [
             0.2222222222222222,
             "#7201a8"
            ],
            [
             0.3333333333333333,
             "#9c179e"
            ],
            [
             0.4444444444444444,
             "#bd3786"
            ],
            [
             0.5555555555555556,
             "#d8576b"
            ],
            [
             0.6666666666666666,
             "#ed7953"
            ],
            [
             0.7777777777777778,
             "#fb9f3a"
            ],
            [
             0.8888888888888888,
             "#fdca26"
            ],
            [
             1,
             "#f0f921"
            ]
           ]
          },
          "colorway": [
           "#636efa",
           "#EF553B",
           "#00cc96",
           "#ab63fa",
           "#FFA15A",
           "#19d3f3",
           "#FF6692",
           "#B6E880",
           "#FF97FF",
           "#FECB52"
          ],
          "font": {
           "color": "#2a3f5f"
          },
          "geo": {
           "bgcolor": "white",
           "lakecolor": "white",
           "landcolor": "#E5ECF6",
           "showlakes": true,
           "showland": true,
           "subunitcolor": "white"
          },
          "hoverlabel": {
           "align": "left"
          },
          "hovermode": "closest",
          "mapbox": {
           "style": "light"
          },
          "paper_bgcolor": "white",
          "plot_bgcolor": "#E5ECF6",
          "polar": {
           "angularaxis": {
            "gridcolor": "white",
            "linecolor": "white",
            "ticks": ""
           },
           "bgcolor": "#E5ECF6",
           "radialaxis": {
            "gridcolor": "white",
            "linecolor": "white",
            "ticks": ""
           }
          },
          "scene": {
           "xaxis": {
            "backgroundcolor": "#E5ECF6",
            "gridcolor": "white",
            "gridwidth": 2,
            "linecolor": "white",
            "showbackground": true,
            "ticks": "",
            "zerolinecolor": "white"
           },
           "yaxis": {
            "backgroundcolor": "#E5ECF6",
            "gridcolor": "white",
            "gridwidth": 2,
            "linecolor": "white",
            "showbackground": true,
            "ticks": "",
            "zerolinecolor": "white"
           },
           "zaxis": {
            "backgroundcolor": "#E5ECF6",
            "gridcolor": "white",
            "gridwidth": 2,
            "linecolor": "white",
            "showbackground": true,
            "ticks": "",
            "zerolinecolor": "white"
           }
          },
          "shapedefaults": {
           "line": {
            "color": "#2a3f5f"
           }
          },
          "ternary": {
           "aaxis": {
            "gridcolor": "white",
            "linecolor": "white",
            "ticks": ""
           },
           "baxis": {
            "gridcolor": "white",
            "linecolor": "white",
            "ticks": ""
           },
           "bgcolor": "#E5ECF6",
           "caxis": {
            "gridcolor": "white",
            "linecolor": "white",
            "ticks": ""
           }
          },
          "title": {
           "x": 0.05
          },
          "xaxis": {
           "automargin": true,
           "gridcolor": "white",
           "linecolor": "white",
           "ticks": "",
           "title": {
            "standoff": 15
           },
           "zerolinecolor": "white",
           "zerolinewidth": 2
          },
          "yaxis": {
           "automargin": true,
           "gridcolor": "white",
           "linecolor": "white",
           "ticks": "",
           "title": {
            "standoff": 15
           },
           "zerolinecolor": "white",
           "zerolinewidth": 2
          }
         }
        },
        "title": {
         "text": "pca reduction technique. Visualization of Image Embeddings"
        },
        "xaxis": {
         "anchor": "y",
         "domain": [
          0,
          1
         ],
         "title": {
          "text": "x"
         }
        },
        "yaxis": {
         "anchor": "x",
         "domain": [
          0,
          1
         ],
         "title": {
          "text": "y"
         }
        }
       }
      }
     },
     "metadata": {},
     "output_type": "display_data"
    }
   ],
   "source": [
    "plot_embeddings(X_sbert, 0, symbol=\"class\", reduction_techniques=\"pca\", color=\"class\")"
   ]
  }
 ],
 "metadata": {
  "kernelspec": {
   "display_name": ".venv",
   "language": "python",
   "name": "python3"
  },
  "language_info": {
   "codemirror_mode": {
    "name": "ipython",
    "version": 3
   },
   "file_extension": ".py",
   "mimetype": "text/x-python",
   "name": "python",
   "nbconvert_exporter": "python",
   "pygments_lexer": "ipython3",
   "version": "3.12.3"
  }
 },
 "nbformat": 4,
 "nbformat_minor": 2
}
