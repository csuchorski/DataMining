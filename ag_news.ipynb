{
 "cells": [
  {
   "cell_type": "code",
   "execution_count": 18,
   "metadata": {},
   "outputs": [],
   "source": [
    "from datasets import load_dataset\n",
    "\n",
    "dataset = load_dataset(\"ag_news\")\n",
    "train_data = dataset['train']\n",
    "\n",
    "import pandas as pd\n",
    "df = pd.DataFrame(train_data)\n"
   ]
  },
  {
   "cell_type": "code",
   "execution_count": 38,
   "metadata": {},
   "outputs": [
    {
     "name": "stderr",
     "output_type": "stream",
     "text": [
      "/tmp/ipykernel_4375/372778625.py:3: DeprecationWarning:\n",
      "\n",
      "DataFrameGroupBy.apply operated on the grouping columns. This behavior is deprecated, and in a future version of pandas the grouping columns will be excluded from the operation. Either pass `include_groups=False` to exclude the groupings or explicitly select the grouping columns after groupby to silence this warning.\n",
      "\n"
     ]
    }
   ],
   "source": [
    "from sklearn.model_selection import train_test_split\n",
    "\n",
    "df = df.groupby('label').apply(lambda x: x.sample(1250)).reset_index(drop=True)\n",
    "X = df['text']\n",
    "y = df['label']"
   ]
  },
  {
   "cell_type": "code",
   "execution_count": 33,
   "metadata": {},
   "outputs": [],
   "source": [
    "from sklearn.feature_extraction.text import TfidfVectorizer\n",
    "\n",
    "vectorizer = TfidfVectorizer(max_features=1000)\n",
    "X_tfidf = vectorizer.fit_transform(X)\n"
   ]
  },
  {
   "cell_type": "code",
   "execution_count": null,
   "metadata": {},
   "outputs": [
    {
     "data": {
      "application/vnd.jupyter.widget-view+json": {
       "model_id": "2f853d3db4d74d46bf5d958f25363146",
       "version_major": 2,
       "version_minor": 0
      },
      "text/plain": [
       "Batches:   0%|          | 0/157 [00:00<?, ?it/s]"
      ]
     },
     "metadata": {},
     "output_type": "display_data"
    }
   ],
   "source": [
    "from sentence_transformers import SentenceTransformer\n",
    "\n",
    "model = SentenceTransformer('all-MiniLM-L12-v2')\n",
    "X_sbert = model.encode(X, show_progress_bar=True)\n"
   ]
  },
  {
   "cell_type": "code",
   "execution_count": 23,
   "metadata": {},
   "outputs": [],
   "source": [
    "import numpy as np\n",
    "#np.save(\"sbert_embeddings.npy\", X_sbert)"
   ]
  },
  {
   "cell_type": "code",
   "execution_count": 24,
   "metadata": {},
   "outputs": [],
   "source": [
    "df[\"label_name\"] = df[\"label\"].map({\n",
    "    0: \"World\", 1: \"Sports\", 2: \"Business\", 3: \"Sci/Tech\"\n",
    "})\n",
    "\n"
   ]
  },
  {
   "cell_type": "code",
   "execution_count": 25,
   "metadata": {},
   "outputs": [],
   "source": [
    "from pathlib import Path\n",
    "\n",
    "import kagglehub\n",
    "import pandas as pd\n",
    "import plotly.express as px\n",
    "import plotly.io as pio\n",
    "import torch\n",
    "from PIL import Image\n",
    "from numpy.typing import NDArray\n",
    "from sklearn import cluster\n",
    "from sklearn.decomposition import PCA\n",
    "from sklearn.manifold import TSNE\n",
    "from sklearn.mixture import GaussianMixture\n",
    "from sklearn.neighbors import NearestNeighbors\n",
    "from tqdm import tqdm\n",
    "from transformers import AutoFeatureExtractor, AutoModel\n",
    "from umap import UMAP\n",
    "from sklearn.metrics.cluster import adjusted_rand_score"
   ]
  },
  {
   "cell_type": "code",
   "execution_count": 30,
   "metadata": {},
   "outputs": [],
   "source": [
    "def project_vectors(data: NDArray, technique: str = \"tsne\", **options) -> NDArray:\n",
    "    if technique == \"pca\":\n",
    "        transformer = PCA(**options)\n",
    "    elif technique == \"tsne\":\n",
    "        transformer = TSNE(**options)\n",
    "    elif technique == \"umap\":\n",
    "        transformer = UMAP(**options)\n",
    "    else:\n",
    "        raise ValueError(\n",
    "            f\"Invalid technique: {technique}. Choose from 'pca', 'tsne', or 'umap'.\"\n",
    "        )\n",
    "\n",
    "    transformed_data = transformer.fit_transform(data)\n",
    "    return transformed_data"
   ]
  },
  {
   "cell_type": "code",
   "execution_count": 35,
   "metadata": {},
   "outputs": [],
   "source": [
    "def plot_embeddings(embeddings: NDArray,\n",
    "                    clustering_results: NDArray,\n",
    "                    symbol: str = \"class\",\n",
    "                    color: str = \"clustering_results\",\n",
    "                    reduction_techniques: str = \"tsne\",\n",
    "                    classes: list[str] = y,\n",
    "                    text: list[str] = X,\n",
    "                    plot_3d: bool = False):\n",
    "    if embeddings.shape[1] > 2:\n",
    "        reduced_embeddings = project_vectors(embeddings, technique=reduction_techniques,\n",
    "                                             n_components=3 if plot_3d else 2, random_state=6)\n",
    "        print(f\"Reduced embeddings from {embeddings.shape[1]} to {reduced_embeddings.shape[1]}\")\n",
    "    else:\n",
    "        reduced_embeddings = embeddings\n",
    "\n",
    "    df = pd.DataFrame({\n",
    "        \"x\": reduced_embeddings[:, 0],\n",
    "        \"y\": reduced_embeddings[:, 1],\n",
    "        \"class\": classes,\n",
    "        \"text\": list(map(str, text)),\n",
    "        \"clustering_results\": clustering_results\n",
    "    })\n",
    "\n",
    "    if plot_3d:\n",
    "        df[\"z\"] = reduced_embeddings[:, 2]\n",
    "\n",
    "    df = df.astype({\n",
    "        \"class\": \"category\",\n",
    "        \"clustering_results\": \"category\"\n",
    "    })\n",
    "    if plot_3d:\n",
    "        fig = px.scatter_3d(df, x=\"x\", y=\"y\", z=\"z\", color=color, symbol=symbol,\n",
    "                            title=f\"{reduction_techniques} reduction technique. Visualization of Image Embeddings\")\n",
    "    else:\n",
    "        fig = px.scatter(df, x=\"x\", y=\"y\", color=color, symbol=symbol,\n",
    "                         title=f\"{reduction_techniques} reduction technique. Visualization of Image Embeddings\")\n",
    "\n",
    "    fig.update_traces(textfont_size=25, marker=dict(size=3))\n",
    "    fig.update_layout(template=\"plotly\")\n",
    "    fig.show()\n"
   ]
  },
  {
   "cell_type": "code",
   "execution_count": 36,
   "metadata": {},
   "outputs": [
    {
     "name": "stdout",
     "output_type": "stream",
     "text": [
      "Reduced embeddings from 1000 to 2\n"
     ]
    },
    {
     "data": {
      "application/vnd.plotly.v1+json": {
       "config": {
        "plotlyServerURL": "https://plot.ly"
       },
       "data": [
        {
         "hovertemplate": "class=0<br>x=%{x}<br>y=%{y}<extra></extra>",
         "legendgroup": "0",
         "marker": {
          "color": "#636efa",
          "size": 3,
          "symbol": "circle"
         },
         "mode": "markers",
         "name": "0",
         "showlegend": true,
         "textfont": {
          "size": 25
         },
         "type": "scattergl",
         "x": {
          "bdata": "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",
          "dtype": "f8"
         },
         "xaxis": "x",
         "y": {
          "bdata": "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",
          "dtype": "f8"
         },
         "yaxis": "y"
        },
        {
         "hovertemplate": "class=1<br>x=%{x}<br>y=%{y}<extra></extra>",
         "legendgroup": "1",
         "marker": {
          "color": "#EF553B",
          "size": 3,
          "symbol": "diamond"
         },
         "mode": "markers",
         "name": "1",
         "showlegend": true,
         "textfont": {
          "size": 25
         },
         "type": "scattergl",
         "x": {
          "bdata": "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",
          "dtype": "f8"
         },
         "xaxis": "x",
         "y": {
          "bdata": "HIxoLNACdz+/oQTI+8uDv8YHJS6hRKC/z78GF4C0wj9Bx1GbcRqdP1SHtJwjSaI/6A9MLA82lD99Na9YKEmGvzd71mTlKXa/HxtHBNxuqb/4f4d7XfW2P8nV44rx/LW/PnaMKKAVpT/TfEkcHQyoPwAPK2SDi7I/vVBYPcLZuD/Nza26t9SKP0sefbMfcJO/CqakGYLKlD84cYm8eFuhP/NO4HVfYqC/k2OPKYgHcL9BAe1/msSpP1ylOl7Nj0W/jpwlqPU/iz8gvTgM/mrDv6h4NK2dZ8E/VHMXOHL/XD9pEj5oHPDCv1WEQjiwMs0/CahtjrB80T/2HQ3/tkyTP6GPBYOCDHu/W+nBFH10w79Qq8JIHL21P6smk1z2tcM/4e36eQewlT/Nb7cH6MeyP1CcB2rpX80/o7+XRs+Wxb94n4xkrjvJv4vPBvmuLmi/A5Rj7rVGqz/zEkyBoKCdv19mDWhSXp2/WxZoK4vRwT+p7nbtJOGev6MiUZt226U/u5J4OUf1sj9PxBq4+Qe3vxJnz69iass/qiKSC3T2tD/MOG6aHAC8P2S27DZGXJK/C1210FaLyD/k0D28rH1Kv1BqZQ+VU5U/C9TW5DUlwD/74BUT8dS/P0DHR7lp2bI/ZTnLafSMsL9lWxosyIW9P36IgiQXhNE/E2sc/yAPyD+xHnSbJZq/P+NZtb574MM/IQO+m0EtlT9pZrhuXGXGPyIXfJYPwY6/k001PBmExj9tcXTbsjeuvwHy0scWC6I/nwaQA8Yqzz9dexFftf3BP2NXfuJSvK8/k9YkBjBmnT/mlH2GTU7PP78/rcYJ3cC/Xhh3BIedeL8CzA7hPyHHPwk7XtsSW7I/nMzt4OUCv7/39YrydLajv0HMrSAi06Q/0X8tZKnWuz849S7HzymiP+zlK7njTLg/VWPVp4oKtD89YpsZRxc2vyrSj/6Hv7e/vprf4VoauT9K6Nba9x+iP9919/K1yJ8/Pn028Mi3sj/o5+ngk2ClP8CqaqKqusE/jkiw3hwywb+XxS8wO2zIP2AtFniKApo/XuqrZzHW0D9jcitgi56zP65q7qSmrbE/D7InXpWJcj+bwE6F39Wlv/eKLYfKU6o/683uP1svtj9MqPtppvl8v2xFrkx4Frw/CEID14ELmj+8ajCH0Zd1P8AeoLw4dLg/p5NAFPI1pT/BowIFtFvVP659cle4Ha0/L2M5bl+zvz+JSzbDfCJkPwHlwRGpqcI/zUQefB4GjD+DCmpubWFzPzgyT0EAM8M/1ip8Lhpiwz8EtrIzDWBwP6KTfh0eiMG/zro02hUImL/4VMZtSiWrv4TzVQSuCrw/flBXkNPyoz+lS7+at4bEP2hm+H3TpLo/idbWKA+glT90YvYLzv+5P5T0clkz+J6/T0cGGJTSgb+EuNF0Mbidvy3Sww84UcU/KeDyPSijvD/8YbErNBrIP2filpE3PLa/z2Mu/gWzuT8CghA6lYWev6qmvl0saqY/ee+sYY2OV7/QuarAU0WTP/AFRHvc8LQ/pw5eppWrrz/dadVdIqCgP7qsgwN4i6o/CrSvy08AeL9K0Ot4z5C/v3XHTo3quLY/DY6ui6XTsT/fVUhI8kmkP3G/2EnLLMQ/YrHyuqQDtD/7J81u1Nq0PxFp5p/lEKw/tFkjKpc9uT8NgClio+6gv3s2PxWBRD6/+YDEaVRunj8j/6HWMvS2P2fifI2CRr6/BI38jP9mtT/0GVqakqXAP4EPNhnIvm2/0bF0t5Vtuj9AmCfIVcK7v1d/C5lc7ak/AmwZbsccxz8nS+GKNDibP58XQoZuy8Y/rTk+Ue6ytb+kOw0NVh3OPxFdlzdngLS/bI5z1n0Ttj+QsNdoFNDCP5U0g68evKO/poUEDo/njT+HEXtmGu6wP2iwb+xRtq8/W7Qj28LPtT8zb3i/3xvGP05W5kbZBaU/7/Yequjqtz8zudzI2manv+YMkpBrAKa/qkqdiwDoxz/kuOL9wsVTvwdY/+ic66c/02YRWvDDsr911ZDarMONvzL39EZsMq4/9BUJrTnGtT+mPCTm6ZqYP7T/oxiTSJ4/Pzff+OV3lT/SERhIEsFuP2PGYrWPsMK/JenhHn6Kpj8zkem/jPG1P0x04KHRPa8/yWsTrlBGXD8BV+ZyVP2Jv9Tio0sZd60/ukjrKGDulb/cD3Sd3+Frv7LJapcRbpo/Q2R8axDMnD+ENELEu7XOP7VgjHPjjay/pEQ6jaVcrL/z439GMK6nP+LmrvueaLw/u4cOvAsyub8dkMJq6lmqv1sleej2HIU/tnmmJDAEyT9Uug23U0W8P61QLdecocU/0NupjJAorT9gwR6Z5j3JP00GPOEXcZO/+1UIPFXwcL+miaCzVO6Nv1IvH8XM/oQ/FcuK1CsVAj/oWWYrUweZP9KlhVNhOrQ/xcGqQPwPdT+VcTLRIRLFP8b1U+N5yKw/iPatwFyeoD/QES9PQGvGP/t6kLNigpg/eCZpjvMerj9VKPsEsa2wP4QcFCbLNHS/B0Fcq9rMuT/TboGZzTixPypGBkM4E6s/z9y8WYhhtT+if0wgRXKYv9Rw5mtN57U/1L+68oSwnz/ahb9xnqadP3446KgGecU/mnKc9atwvT+F7XN/39G1v+TDW+FpUL4/jNOMxipHxD/kQTLxOeLEP+piYAcmL4U/mA+uwXLeo7+a1cbFamuTP2SBz75aDXo/yAr0I7jcnD/C9VdVW3ilP8zowgZgVsw/8JaSOpmdvj9/wi02H02rPzfEj04cY6K//E8CVyV/cz/c3i72MWTAvwaZF1feA6U/ER9SEJ2gnD92xs+Z65mGP2Q+V8nAX9E/H1JJAqXhoD9/c+Oe72OiP7yx23SYFMY/jrizo2Rsnz/X5Sv94E+dv9ji0pkOBLi/obgfgxQWwD8GHboVuPi8PyPeDzv1cpi//SNzD2xMij9S7i8UUYa0Px9h4sCcIKq/Xbyimv7YmL8inhr+xSnKP+t+No3IEYC/Onf46gG5er/vC+NSv2WwPxbjD/pjfLu/JV9PYixOkL981uC855muvzpYmT6n5bk/DJT4L40soj8aHMX6Ni3KP8UrjCUSVaq/WemCj3Z5wz95NLxwwxq7PwW0zVPYkLm/bia8YhTflz8UfuLmEZCTv/jtb1nUP5s/Hocw5pl7oT+W772X/6m+Pxm+vRGTicA/8ToZK7R7kj8SEMFdry98P8udwKtHTLc/3q19iQ0Avz/58Vm+N7+tP018V4WGp8A/v6oqcq6CwD+pUoMwnHK9P/UxLW8IsIC/imVNdogitT/XscyU5Dy6P8n385N4FsG/CAFHya/uoD/tgszYFu2aPz9Dtthb6He/a8utsshAwT/vSQ9dVfJlPydnEvPBD7m/9Tx3a8MGuD+OMj53nkjMPzioWmAem3m/90IY5pblxD/Nf8aiT7fIP6fY1W/GDL0/8ZFvcPBunz8XuiGGVmSsP6a5I5TXO70/1g2OPuhKxj9fz/hEdNihP3y4tz1DGr4/nBmskjKmd79tn/qKExmeP1cZ0o61WqQ/644SpR4YdT93BuJeUxDKP9BM08lRCrk/aBmahtv+gj85Ibyar26QvyUGCkFbfXE/7wdaOcLecj9yqyLMXCXAPwDs4x0wYYE/G1h+LbPbmT/RUNLHpoOPP8+csONXAsE/u8uDkR0Ktz+moP4RZkqnPzrXaiFmVsI/cEyC8rzMsD+lKvQVAx3CP7VY8fDzI8M/slhQgQOBvT9ElIyxs3e0P040JE+jCYY/Tk1xPpOXwr/jEkfz2SJmP+iOAuq5KJI/zjiELRyFuj8PJ+Nxw6uUvzIFWl/w7aQ/5x6SXeW50j+3CmgP0LysP+0zVmBTS7E/e9yOIjlVzD/EOSY8eXKnv/kOTKTsK6U/ubSXDo+2tD992Yh0xuaZvw5FhDcTIKK/roBLiU87rD8TXjPbJOG4PwFD1DD67rG/Wl4e/Yi3pz/8NbVjx5KcP7op2SxQo20/51x0J4WUsr8K2rI7MSulPyGYZOy94qW/cWSZDP4esL+aPurz9r54v0uo8LOPQKC/k+bnqAljpz/Q1sZeekaoP7HinwCZ1cY/5nrWtmuEmj/LYIXLdNe9PwwQJUVkS5M/w3dbD9ryoz/6OfRO9q+6P1oQB+vhR9E/nM3MzGJ0i7+n9horHnm7vyEEheb7V7Q/0u5LXITkqj+yq3LZg1+4P8ecjGO3y7G/h8dU/xkinj/ceiWd+W2EP3vVZqRfq8k/pQikUno1bj8II6uQ6oG7v6IMCTD2QKS/4TyQRziLxz9RKWJ8D4LDP6YyB6oWQpg/Uy4QtAW4kL9rdiAsIe+uP3LE+ft/oay/l8u/gGQ0tz/826d4CwbAPwpMbpeEecw/51sw3ALUZT+/fWUWWdnAPyK72bvZ9LU/NAcJBN/tZD8wKVWUDvnFP5UEEuTs5qA/uTIcDhqPmr9D4WLZq6quP0ssI1jmoYe/ogwv+E9tsT8WsIfxyBtsv56dTa4tQaU/9CvbFSB3sT/qK7pKzBOqPwl1V+GDuYs/zRVIByGYhT9o+q+iNvadvw5vLEYi5LM/1LOnMJd2iT/UmUyugf+5P3Gt3HllYMA/Q172XCMMeL/MxLGyhCO2P5Qn/GFsdKg/ytM4OWKJ0j8GuGMNUM3BP4g3SgcW2Ls/vn4z1nhYoD/Y6qTK6XqpP122uqtMlsY/wH/Ww4cWpb+W2J136OGeP/LF/ckhwJ4/jpdVy4UIuD9giVxkotuVPyxx5YRlxKG/YxkOdYGsmj9jhjnJRuavP72vPgSPL2O/a9HBHHeoxj/QYYAH3X6PP7ytFryTbpu/s2A8GeSEpz96h6d4oBimP9L8G6OyA7g/C4/J4P6xvT+pH1m8ZjetPxMQl1deTbO/U7UwKJQswT/GOELfJ3nLP3PsgO7pCpM/9gmEmwLQsj9VnLsSH/CMv6WA3YVIgpw/4J0Smt7ypT9NJ2EadYaqPxN/7mtVXK0/HHH3qK0aqT8et93QozunPzrtoPfzHFg/fqgEj2HXlz9PsIJvCAWkv8qEZYSqpYy/qEH6n22arD8PB5DOJoe/PwZ/AbQU1LQ/lLIN4JtUsT/FqQJh9yaNP9qEIUQ8q6o/S58okJInsj9w/oO0et7KP3Duau9Qhbo/QF5S3bFzor+uJvSjhqe+P9GnbgnpPaU/GgI70aZsqr9cZjwDupmpv5JSrFPEH6U/jp7gXCjcsz9pLPIgGEmjv+aybPEA2qk/b7LnC3gnv79j61V72KOqv+uhGeol2KQ/g24xSDRHvj+qDumPxi2mP3Hv3pxg8c0/O/ijhEbiqD+GbcxPFhWRv/whYxXWp7A/YH2jJUgXuD+oUH4TKDm8P8Xmggkl260/+m2wZlBjsT/8HpcvruiyP0Utsvqi6bk/bnDQqVuXpT8b7XdnSy2jv8t1mCuWz8I/Y9A9Ib5+jL9dcRB5r6tIP/zi65lxTdQ/XnznNhxYtz+AJqKqSEaXv3BhEHXBv7g/OQYqXAwAwD9HGMwa2waCv8+28JXTdK6/qNDUfJQAsb8tO88Lgs3DPxyRGIKgoom/7B8KExMjrb8N6+GboRmzP+nniKNviqc/6X6/z9ummL/syVcKWn24P40fO8a93bU/6fufJPwxnT8SOY0IEtdsP/4LHYArQrO/COOMWni1vb8p9bybtwLBP/zBlyyckLM/qImMnG1omD9Qo1KkfXCrP9c2LJ/aVo2/PSmgUdoWxT9guHPVz3O0P4Bs75+yp8G/myw4y2AHaj8f7zlOWR7Ivzg6lhmf4LA/W4DosjZPmT/avmhmIcTFP9/QuUaiwsI/4d0AoenLwb++SuA3yLKuv77sbEocq60/QU6rsgX5m78WOp3qhXmfP7GGGD2YicY/eLm4B9/1pj9XB1ydJly1P/Q7QAL+dc0/B7fjkUv6wr+Y//CgEOO7PykzlHdn4s8/V7R7S62knT9Flh1dHt7QPxQS1JTDzsE/sp+Cp0tUyD8D9E8PNUGNv/b4dWSb2qA/kcfJLTrKrj+irwl/RoGlPz324NII9qM/PD3RN2POwT+qp8p3YwSwv5q9ZFIW+Hq/HC5jBKNEsT/LuIpogiK0P5QARSvjbbI/D1tDRDKXkz88VkxFOiPPP1TEsc8a+ZS/W8unUnc7sD87m5I0B/K5P96QWLTVa7M/wwRfPwLsvD9wjpsgx6fAPxFccC7jfro/1Y8E90gHwj/sJeXGj5+3P1I3YFZS2cO/WVg5PFmbnD8fEqinSvyWv9XZpFfDiZE/1GrzZao+u78H0eKsJDqyvwwd+a6bUsA/Pzk/bIEEkL+cpp5UKWe/PwSXU6uMN76/Kle8aOcGqT8C3jUGbOq4Py520nJ19Za/qVMha3NPoz9nTDzOSOKgv9kpU6E5s7o/yXdTnrssyz83a2dfkw2Pv2qopFISXZS/T2vcrhFJlj9OLP+sCD/EP84R8wva76e/3kXOtWSjoz9u37LxRQiePzh6JzQ4p1U/DkXclIulvD/6hAh3NDa3P31BgRrRu7c/L+I3HuP2kz+iIHsLOiuwPykv0bS6cag/6/27nbJZZb9dXr3+J4yqP1p19ljRHLM/Selyw4F6oz/KXtLuZ2ajvyrp8szHNLc/Qqzp82TAsL9TrsRbfBOPPxXwUS/rNpY/QeCuZeHDwj87PwaJ+dKWvwourE3i9XC/OwT8t/eRtb8XahOR2IvCPz17jrkpo7o/HALwfIaPqD8J9C0+Tk+Vv4MPuPKHTKk/tCvgK8pesj+4UO+KrYi0P03wggg6Q5e/uNG2r1scvb++Lrg3sPqiP8WNP58CNYy/fN1lYswojT8YuLBdeJbGPzshnLrUjZg/ypftANdYlz/CvkrxXzm2P1y9giIgO5s/Np78rHKSsT9qvo77NDDAP0l6OpIpO8c/uiNwUH3Kjz8uiwhuUPOxP2VThijOmco/MFytkuLhmz8kRBrRxhu3v1/8qLIqGZ0/MbxxjZJVyj/2bypuqMe+v/YnlvG57pI/Ypnz+3DvoD9StchVSH5nP3V0CwUg9JW/3czkOMcvoT9oVQSZfIipv97o9KTtJcY/EAH55CjZdr9wr701hcm8P/EMC32/EW2/B5r1St2mwr9ZM4HXUJi0P2sVxIu/isI/1WTe5sWks7+H2NJ0gh6wP5cmgWgTvr0/VUSsn5D6NL+J9kY2yXRtvwDi0rCGnrw/TJ1Ao6a3n78jjD14ycehPzj+mujnNpm/feNBKubrj7895vSsfMujv2IknKNpH6A/BasBviJ0vT9KWIkU49KoP6z+6UtTZ4C/BdCJlxuVo7+6si6GNk5JP2rXnw0bP8A/rlatlLCfwz/ocWCp5xuyP7atqdGCPpW/L8fOeSZImj8DNrSa0+SEv9BE+1b7j7o/5TT94oMewz802pb9ZF6evzPhC9yfGLI/zbuveYASsD/vaS5Rt/qlP/qxWSpl+rI/zvb/7Uz5oT/NoLYSRtWhP9gyOv/p1LE/DY8s9PQCnj+XOOLHFgxzP9bo2QyIiMA/icCq+6URab+/ljdGvwK+P/anSSiQZ8M/jaljozaIvT8KU0WwgPSMP8QoMEi6eKA/1NRGAuopo79buTNipbTCP0P7kCs1hq8/Af4eUuEcsj9pjYGtfypCPyW4qZ7DtsC/Lo4Wmg3knz+DBp7Pwtt5Pywt1NH+sow/9v559SHjyD9de7a0bjKxPz7QC5K5qsU/s9oZ8j7EmD8YPmNHcx6OP2Rc0TmnlsI/JmHDpuhdjz+hjeaQzAyTv6V9YNooAbW/GwGuPthLpT//J1hzHOHGPzdp4P8+IJu/TsbVI38uZT8SEJMCHtLBP5MLa+Mwhb0/rYp6P3nsar9KzNHkjmq3P28WklQhXrM/DXsQp4h/nj8pZ/kx9Sq+P+jC/i4L1Ji/FtCW/muRuj9R17PWEwO3P4ocUqSBf8Q/cqC74L+Zr7+DufkL+Jmwvz08Jkb+xKw/jZs7cy56hL8AGzW8jCnCP5W3u63hi54//jGoc0KYmb9hBNNMsB+uP566RhaUwbK/y3nnHOzUfj8kumhBA86bvy9TziwsdqQ/5Kv/SF7Yvb/2XEzkuB+IP1i0zF2rBKM/Qk7xz2FvkD/6M+I3i62NPwM3iWBan7Y/gRobWPtYp7+W76mUj3Wovyinjvfxc80/wsuQYaPOoD/ldR6QNdCvP1ZPJo2mNIU/h9muZO27sz/DY174ZCHFP+A9uGUoNsU//7tlh6kKwT+DY+GTJUinP3Rbfi0tuaG/1itEV97elj9j/4u9V3TFPwMO3vQwAMU/Odo3FkeVr7/0m35z27OnvzdGGw4JB8E/6bcIIttGnz+6EcBbKQF9v/YaQ2Q4Mrg/jDZ0/n+9s7+1GpaZFrumP2rKOuzIyqw/NwKBAj0GmT+f5gbWbd6dP4pyKVrKjr4/iY9u6AICfr8zib84eYW2P7vlEE21j6Y/W9wyeIF3dr+CD0GPwCeqP9L7Vjahj7K/qivtFbMuyT/ZsE4cHGx3vxafbr+md7o/JM0N2obhaD+C5B2L6VvAP00Nm0BwJ8C/MjiFrt8rcj85+BAXN9+oP3k2OmZrPKC/mCe8iwNjuj8aS2EXpZy7P5EPwAdbLKg/x5NTWNRShj+wrSU+qZuuPx0eSYj0yLy/yfSAMikWk79WIBiQPAOZP4vGfHzmwcs/r8pF9B+TyD9VsD6fReZ/Pz6iHyLT0Lk/af86QbCycT/dWZVtFZuTPz+/hAQaGdE/UGRaIbKTpj9Kfv3DCAyuv2Km+TabT8Y/ZGqt23WUyD+IniI1CIWgv/5MmOI7CbI/2laKgv9Sj7/Iu/sT0iiyPy5h2sSAVrU/yulFIiJtur+p5c38Fg1dP5RbUyGH96A/sxOPp7WZkD/OaTdNhUbJP2YOsNnednG/Xn40wUAjwj+W7OBkVhvBP992WwiKVZ6/XBxJ/CTFo7/9n4ocW5rBP4M34fxAHdg/9vcysJ5bvD/yBnCA5xC3Pz/VcRMW/C0/Ng92eNlduj8vUQIwZZ+zPyb45NysPZs/sBZhUMG5i78uL26WSI3BP1ubhStdYMg/7WpyC1mssz+sBr/wUMFzP5ym862Rtaw/xWN8F8PzuL+0cBXt2FCVPx3geqBlFJK/bZDCJ2l/oz8YD+D9rCDDP73H5pAWPKM/3Z0kxK3WoL8zXv7/8YmoP6uej0vwCq8/EZXIzEH5bj8pBOyCsXq5PyPz5USqpGm/3mnpCH3tvj9BXNfcPyO7P9a/DQ2Awro/HPYYGCEZxz8SrypbMXCwvwIaQR1Uhl6/sWATn2ShlD/Dr9l+du2zP8tcF+tKg8M/WnA7pEFpwD8di+5nMbexv8xoFrtQDKo/ysCJ2XEYsz/QyQJsC8G3vzTBMXSiT6o/p4fEcMhlkT/M6F/W2GfaPxW7/lhI/L4/1Cm+mcjGor/uXCMpBrHOP91agAS4sJ0/tSwr5k3n0T8AqHe3eoeOPyM790bFVLa/kK8M8OC/tT+IxsJiuYqyP8cMO+o+7Ms/ZvCR7oBMpj8y6ovnQMRzP1+36+30VZM/fiTi44Vmpb9/CLEbPE2HPx/pc/fQN68/jA/MU2Kbpj9xSUgGuiSkP/zwKS5/AXu/D2RcISFcaj+m7Cz208SKPzOyZIQshcS/ilbarQ+Osj/ob8OFQc7HP8wQelKrJsA/Hc9XboNApr+l7aljui9fv0WtnBILsGU/wHdAtp7mqD9LJicnZEPAv8Kdq3jBp40/ijMLR8fZoj8qYlEDqHKOv2yzHJLxcbg/A12udZ1Xgb9NeJCOM/qdP/1ekDXHu4y/1CH0pVNzr78dEi0V1HC4P4reNJrexKM/Oh/FtgR1yD8p3tyQbI12v9yDwdDwQ0y/6KmFBjUMiL+Gu+2eHGeXv54EEthPuZm/wCoWiDc2ar/zzh7W1PGHP9wlzG27PZg/3cgcfYO8wD9j6+kerwCbv3nAiCAzTpM/Cfsqb8DZoD8b0SaMcj2XP/ELyHWdl64/Tc3DOzbdwj9oJq67wPTEPytBc23ekbk/NPEcAPl1yL9tlc971KOnv94d/39DEcc/N1YJB6Othr+0O2XGexTAP2991TadS6U/G6fASuwpt79ICzZdD/KevyTKEoB0w6Q/sHTJNwtIiD99OxIrMIPGPyra4VtKXro/FXyz6ca3jz8RIMGa1Kqdvwrb1MFC4bE/rwAlLPmiwz9IiUD/P227P8TwtsNoSrc/wfwCc3enuz+7h4DECb+zv71TciM0+5g/pzoNqSEGqj+hcazYECbFP8fhtHyc6ro/Ks3xjWLAsT+gArzS8J6VP+Cgfw5Ulqk/fWQNf+J/oj880orge0i0P1KhVJWlIMU/H8WBV3LWsL+HQZTuUMmbP6rxnEWQMIs/a8c0Igogsb9Gvw5G8wmyP9+y9dNp5bI/aCye/UcfpT+dPb0VtvqpP73kf9LUDJG/3YyHv5fooj+D2JZC3Qy1Px5H+mZBBbW/vmO6vAw+gj9dUhwmvGDXP59fRLNsMKA/I7n/QFdYxb9pbp84dp7OP2uhcJk8GIi/PgZ2ZJdMor8TNfo3uNSrP6WgZGTBkbA/G866Z3QypD+L8UWPaD7FPxzCgFSL280/MR974BZjqT/48Rad/dtyP0HU/aCN0Y0/DmFSXcjbrz/4VFxF2T6cPykrfQbAFLu/cLNwD5B5rj+Oc2LqXYysv28Y/aEocKE/IdZFSyAS0D/u6rtWBcewP/FGV1wDvso/R/Z6gkA4hb+1021IRlGYv75Pl0YMqHA/8lADUI0LpT+Zfg4Dav2nP8y7qlWA06w/EHDhzpWFvb/ZUW07jHCzP83TKRRMkaM/ktwLD/OvrD/ZQ3Fxdy+bv3Ve4epaLrE/N/ZQ8oKAkL+sLSOKngC8P7qjph6CMqG/gKWGG2mWuj8pnNr1v9GzP3QoxrLhzpA/YYBZTK4Rp7/yrpsAPtPFPzWD71YowLM/Q8244a2ciz94tHYAt0WeP/aVaUrQyss/4+RCz7mLpj/YH4D+Sz+7v9JxwhmaCMA/MMplL3KR0T+IXMEzpuCQP1N/lVcBNrE/UKdn3vAQrD/kDk8gKzW4PzpukoxsIbI/R/1HOtqta78HMnJRlFmiP3KcXI3doL8/3byFI0GNrz9LFRIm0A+5v4oOvo0rS7w/yt1MfD/SkL+Vi6FPYNOaPybca1Qw/XW/mB8ATGqZhj8o3IhlNoadP3/c2AO8yLI/HE0Tb2JjsT9dEIeS1qi4P4T8g/1KOJO/uHCyeKJLrj/kL7UBVsnBv3L2nwKQpqA/B1x4TE51vD+KjCN2gjXEPzaQLVQYWJk/sxpu5OAuuD9gMIcpZPZ1P7tdlNAWure/PZBHRq03pj8i8Aroo+OPP+FIten6fqg/8uK8+YA0jj+V97jWCmunv4kWXY3Z4pG/p/uMGlprYT9jzJQ+wGW8P73UxkxN08U/KWga/MbNk7/My3lTC6yrP1TtWw7Yjqe/nqSoiYSBlD+nfVdRbp2mv5gWPsznRbI/fGs82DMdlD9jki4grzTJP7qOAuPgZrA/Selft8dypD/IDYwZGxHCPzSdJyRlsKC/FpEAAP+FlD8LIE1yJYPBP4u8AA5BYLE//uAcqacIoj959B5Fpw3RP4XwAP0hXrU/udFmk1CDiT/5HtRX0KuJP/9/gYeU07M/cV35nTDRsj8dU1cyXNacPzdhYHfyYau/61le3dH9uz+T0ubwVSPDP2Tp8FlZ5LO/G3wS8oV9oj/XNQmAkUCyP9161Exd1sY/+j282Fldrr/gfZjRwXqiv9TJFpNtr60/XdYiz4wArT+FjC/aU0tavxmDOpBi7r0/QNJGbmcmwT+am982kh7LP8R6OE/O06E/8HmOVNTMtj/bi7SWyrSEv3btIDEFSsQ/0/CBfzlzhr+S5HdIxP2xP5vh1ue9mqA/K78sxE1vyz/yUAsVBmSCv2zkk4HjRcQ/UeQn2h3HkT+ns5TleZ3JPzdX4Hjopaq/lALsDLETsT8QrUEzmFjIP9Ow62b96Ls/N8JdnNEfoD8+d70YEMe1P8gxmCe7gba/BHYQiJxMtL827NvTqHO6P5REHLauXso/HXmmdMZBtD/5krZP2NG2P1DF8LUMlaC/cShK6IUKpL9RAr13N8qVP9udWXqbFZk/zavBZVF/0z+dXwT0V6++v7Tf4AsE5Z8/bWPRVhU7sT/rEtYBAUnHvzZJbWGZm6W/9TU1O1vIpj/oRgVa9X7EP47Q/08aD7S/QwwqAOXCk7+lcmqrt2e+v3p6D84j8aE/i6k5+FVxpr9KSWTQISzAv/SGm0m7B6u//b+Merugmz9IPm85kkHBP4+A6RUAD7o/REg+RJqlnj9UOL25f/6wP6jEqgHLyrO/Kb+oVmo2uT/QNDZtnlmlPyvScWot5cg/Lq5uZGj2pz+4Q6spDASrP2Bc+5YzuMo/HMqTmRd5gj8gEU5ro027v022jFNEd5s/Mo1RTn3cyD/FNRuqJqDRP5tEbrTyu8Y/FW95ptlBkj+muZQCO6y4vxM8Ay0ZW3o/o2Bn+SwOkz/e7qwS/CLBP+Od4tm7dNI/amoHYoHAk7+qpSqkFmalvx0xKr/ddMI/P6KZQCm8uj+Xr7z3YDXBPyRUCaCm6ng/cmmYr8KxqT9pU0KG+pt1P03YngdUmGA/HUAWhuKZvT9ZwiyNxR+VP6dEaeM8jME/o9kco1Qywb9r2jCGmzelv7Lu+l1TyY0/qPx0HyHErj965NMfCzq2PyFM4pi53Ii/BqZ+8KJeuj9FSD92HpaMP9/8iath9Z8/X9W9EbSXkz/s/y9+CRCVPzIYsGLZNrc/zjA8Iuozzz9/RLYFSofQP5L+ruyaP8c/Jqh8bYITk78vm6YOWRi2P7rfof3f/NM/kx7+gL0Kv785oLgK1261v2XM3UQ44ai/GBLSlSL6tb/ElPpB16LDPwMSczUag70/AaK3CSPiob/be3YCu6+hPwatu5SipYg/y1EiWlROtz/EiBgr2vrIP9GF9ckIqJW/Yb4sZDMXuj9O5A4NHEi1P+UCdGriH5M/qLKh6k1jxz9wXfAU5HiqPwNosqVHVZa/R8pPQT6Mrb8ybb+NSMOrP+HpQ/5APs0/LFNZ/6zvqz+TO5vo2VzOP3yg39SEYaQ/rx7QWejgsb+q9q67fPi6P+nUizGRT68/FldGDc7Grj+jsgbsTojDPxQONG2v5nS/OXOBXIXVhL+Fk7S8MtKTPxSR9I8He7C/icKg87E5rD8RXAJl8WW2P4i0003IvK0/1N10bp+0qT90AFxRBByGP17Pv47Og7A/h51E/wxkdj8KclpEMNGiPyKGy8bH64C/ultlKSS0tT8tcfig0dS1Pw==",
          "dtype": "f8"
         },
         "yaxis": "y"
        },
        {
         "hovertemplate": "class=2<br>x=%{x}<br>y=%{y}<extra></extra>",
         "legendgroup": "2",
         "marker": {
          "color": "#00cc96",
          "size": 3,
          "symbol": "square"
         },
         "mode": "markers",
         "name": "2",
         "showlegend": true,
         "textfont": {
          "size": 25
         },
         "type": "scattergl",
         "x": {
          "bdata": "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",
          "dtype": "f8"
         },
         "xaxis": "x",
         "y": {
          "bdata": "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",
          "dtype": "f8"
         },
         "yaxis": "y"
        },
        {
         "hovertemplate": "class=3<br>x=%{x}<br>y=%{y}<extra></extra>",
         "legendgroup": "3",
         "marker": {
          "color": "#ab63fa",
          "size": 3,
          "symbol": "x"
         },
         "mode": "markers",
         "name": "3",
         "showlegend": true,
         "textfont": {
          "size": 25
         },
         "type": "scattergl",
         "x": {
          "bdata": "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",
          "dtype": "f8"
         },
         "xaxis": "x",
         "y": {
          "bdata": "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",
          "dtype": "f8"
         },
         "yaxis": "y"
        }
       ],
       "layout": {
        "legend": {
         "title": {
          "text": "class"
         },
         "tracegroupgap": 0
        },
        "template": {
         "data": {
          "bar": [
           {
            "error_x": {
             "color": "#2a3f5f"
            },
            "error_y": {
             "color": "#2a3f5f"
            },
            "marker": {
             "line": {
              "color": "#E5ECF6",
              "width": 0.5
             },
             "pattern": {
              "fillmode": "overlay",
              "size": 10,
              "solidity": 0.2
             }
            },
            "type": "bar"
           }
          ],
          "barpolar": [
           {
            "marker": {
             "line": {
              "color": "#E5ECF6",
              "width": 0.5
             },
             "pattern": {
              "fillmode": "overlay",
              "size": 10,
              "solidity": 0.2
             }
            },
            "type": "barpolar"
           }
          ],
          "carpet": [
           {
            "aaxis": {
             "endlinecolor": "#2a3f5f",
             "gridcolor": "white",
             "linecolor": "white",
             "minorgridcolor": "white",
             "startlinecolor": "#2a3f5f"
            },
            "baxis": {
             "endlinecolor": "#2a3f5f",
             "gridcolor": "white",
             "linecolor": "white",
             "minorgridcolor": "white",
             "startlinecolor": "#2a3f5f"
            },
            "type": "carpet"
           }
          ],
          "choropleth": [
           {
            "colorbar": {
             "outlinewidth": 0,
             "ticks": ""
            },
            "type": "choropleth"
           }
          ],
          "contour": [
           {
            "colorbar": {
             "outlinewidth": 0,
             "ticks": ""
            },
            "colorscale": [
             [
              0,
              "#0d0887"
             ],
             [
              0.1111111111111111,
              "#46039f"
             ],
             [
              0.2222222222222222,
              "#7201a8"
             ],
             [
              0.3333333333333333,
              "#9c179e"
             ],
             [
              0.4444444444444444,
              "#bd3786"
             ],
             [
              0.5555555555555556,
              "#d8576b"
             ],
             [
              0.6666666666666666,
              "#ed7953"
             ],
             [
              0.7777777777777778,
              "#fb9f3a"
             ],
             [
              0.8888888888888888,
              "#fdca26"
             ],
             [
              1,
              "#f0f921"
             ]
            ],
            "type": "contour"
           }
          ],
          "contourcarpet": [
           {
            "colorbar": {
             "outlinewidth": 0,
             "ticks": ""
            },
            "type": "contourcarpet"
           }
          ],
          "heatmap": [
           {
            "colorbar": {
             "outlinewidth": 0,
             "ticks": ""
            },
            "colorscale": [
             [
              0,
              "#0d0887"
             ],
             [
              0.1111111111111111,
              "#46039f"
             ],
             [
              0.2222222222222222,
              "#7201a8"
             ],
             [
              0.3333333333333333,
              "#9c179e"
             ],
             [
              0.4444444444444444,
              "#bd3786"
             ],
             [
              0.5555555555555556,
              "#d8576b"
             ],
             [
              0.6666666666666666,
              "#ed7953"
             ],
             [
              0.7777777777777778,
              "#fb9f3a"
             ],
             [
              0.8888888888888888,
              "#fdca26"
             ],
             [
              1,
              "#f0f921"
             ]
            ],
            "type": "heatmap"
           }
          ],
          "histogram": [
           {
            "marker": {
             "pattern": {
              "fillmode": "overlay",
              "size": 10,
              "solidity": 0.2
             }
            },
            "type": "histogram"
           }
          ],
          "histogram2d": [
           {
            "colorbar": {
             "outlinewidth": 0,
             "ticks": ""
            },
            "colorscale": [
             [
              0,
              "#0d0887"
             ],
             [
              0.1111111111111111,
              "#46039f"
             ],
             [
              0.2222222222222222,
              "#7201a8"
             ],
             [
              0.3333333333333333,
              "#9c179e"
             ],
             [
              0.4444444444444444,
              "#bd3786"
             ],
             [
              0.5555555555555556,
              "#d8576b"
             ],
             [
              0.6666666666666666,
              "#ed7953"
             ],
             [
              0.7777777777777778,
              "#fb9f3a"
             ],
             [
              0.8888888888888888,
              "#fdca26"
             ],
             [
              1,
              "#f0f921"
             ]
            ],
            "type": "histogram2d"
           }
          ],
          "histogram2dcontour": [
           {
            "colorbar": {
             "outlinewidth": 0,
             "ticks": ""
            },
            "colorscale": [
             [
              0,
              "#0d0887"
             ],
             [
              0.1111111111111111,
              "#46039f"
             ],
             [
              0.2222222222222222,
              "#7201a8"
             ],
             [
              0.3333333333333333,
              "#9c179e"
             ],
             [
              0.4444444444444444,
              "#bd3786"
             ],
             [
              0.5555555555555556,
              "#d8576b"
             ],
             [
              0.6666666666666666,
              "#ed7953"
             ],
             [
              0.7777777777777778,
              "#fb9f3a"
             ],
             [
              0.8888888888888888,
              "#fdca26"
             ],
             [
              1,
              "#f0f921"
             ]
            ],
            "type": "histogram2dcontour"
           }
          ],
          "mesh3d": [
           {
            "colorbar": {
             "outlinewidth": 0,
             "ticks": ""
            },
            "type": "mesh3d"
           }
          ],
          "parcoords": [
           {
            "line": {
             "colorbar": {
              "outlinewidth": 0,
              "ticks": ""
             }
            },
            "type": "parcoords"
           }
          ],
          "pie": [
           {
            "automargin": true,
            "type": "pie"
           }
          ],
          "scatter": [
           {
            "fillpattern": {
             "fillmode": "overlay",
             "size": 10,
             "solidity": 0.2
            },
            "type": "scatter"
           }
          ],
          "scatter3d": [
           {
            "line": {
             "colorbar": {
              "outlinewidth": 0,
              "ticks": ""
             }
            },
            "marker": {
             "colorbar": {
              "outlinewidth": 0,
              "ticks": ""
             }
            },
            "type": "scatter3d"
           }
          ],
          "scattercarpet": [
           {
            "marker": {
             "colorbar": {
              "outlinewidth": 0,
              "ticks": ""
             }
            },
            "type": "scattercarpet"
           }
          ],
          "scattergeo": [
           {
            "marker": {
             "colorbar": {
              "outlinewidth": 0,
              "ticks": ""
             }
            },
            "type": "scattergeo"
           }
          ],
          "scattergl": [
           {
            "marker": {
             "colorbar": {
              "outlinewidth": 0,
              "ticks": ""
             }
            },
            "type": "scattergl"
           }
          ],
          "scattermap": [
           {
            "marker": {
             "colorbar": {
              "outlinewidth": 0,
              "ticks": ""
             }
            },
            "type": "scattermap"
           }
          ],
          "scattermapbox": [
           {
            "marker": {
             "colorbar": {
              "outlinewidth": 0,
              "ticks": ""
             }
            },
            "type": "scattermapbox"
           }
          ],
          "scatterpolar": [
           {
            "marker": {
             "colorbar": {
              "outlinewidth": 0,
              "ticks": ""
             }
            },
            "type": "scatterpolar"
           }
          ],
          "scatterpolargl": [
           {
            "marker": {
             "colorbar": {
              "outlinewidth": 0,
              "ticks": ""
             }
            },
            "type": "scatterpolargl"
           }
          ],
          "scatterternary": [
           {
            "marker": {
             "colorbar": {
              "outlinewidth": 0,
              "ticks": ""
             }
            },
            "type": "scatterternary"
           }
          ],
          "surface": [
           {
            "colorbar": {
             "outlinewidth": 0,
             "ticks": ""
            },
            "colorscale": [
             [
              0,
              "#0d0887"
             ],
             [
              0.1111111111111111,
              "#46039f"
             ],
             [
              0.2222222222222222,
              "#7201a8"
             ],
             [
              0.3333333333333333,
              "#9c179e"
             ],
             [
              0.4444444444444444,
              "#bd3786"
             ],
             [
              0.5555555555555556,
              "#d8576b"
             ],
             [
              0.6666666666666666,
              "#ed7953"
             ],
             [
              0.7777777777777778,
              "#fb9f3a"
             ],
             [
              0.8888888888888888,
              "#fdca26"
             ],
             [
              1,
              "#f0f921"
             ]
            ],
            "type": "surface"
           }
          ],
          "table": [
           {
            "cells": {
             "fill": {
              "color": "#EBF0F8"
             },
             "line": {
              "color": "white"
             }
            },
            "header": {
             "fill": {
              "color": "#C8D4E3"
             },
             "line": {
              "color": "white"
             }
            },
            "type": "table"
           }
          ]
         },
         "layout": {
          "annotationdefaults": {
           "arrowcolor": "#2a3f5f",
           "arrowhead": 0,
           "arrowwidth": 1
          },
          "autotypenumbers": "strict",
          "coloraxis": {
           "colorbar": {
            "outlinewidth": 0,
            "ticks": ""
           }
          },
          "colorscale": {
           "diverging": [
            [
             0,
             "#8e0152"
            ],
            [
             0.1,
             "#c51b7d"
            ],
            [
             0.2,
             "#de77ae"
            ],
            [
             0.3,
             "#f1b6da"
            ],
            [
             0.4,
             "#fde0ef"
            ],
            [
             0.5,
             "#f7f7f7"
            ],
            [
             0.6,
             "#e6f5d0"
            ],
            [
             0.7,
             "#b8e186"
            ],
            [
             0.8,
             "#7fbc41"
            ],
            [
             0.9,
             "#4d9221"
            ],
            [
             1,
             "#276419"
            ]
           ],
           "sequential": [
            [
             0,
             "#0d0887"
            ],
            [
             0.1111111111111111,
             "#46039f"
            ],
            [
             0.2222222222222222,
             "#7201a8"
            ],
            [
             0.3333333333333333,
             "#9c179e"
            ],
            [
             0.4444444444444444,
             "#bd3786"
            ],
            [
             0.5555555555555556,
             "#d8576b"
            ],
            [
             0.6666666666666666,
             "#ed7953"
            ],
            [
             0.7777777777777778,
             "#fb9f3a"
            ],
            [
             0.8888888888888888,
             "#fdca26"
            ],
            [
             1,
             "#f0f921"
            ]
           ],
           "sequentialminus": [
            [
             0,
             "#0d0887"
            ],
            [
             0.1111111111111111,
             "#46039f"
            ],
            [
             0.2222222222222222,
             "#7201a8"
            ],
            [
             0.3333333333333333,
             "#9c179e"
            ],
            [
             0.4444444444444444,
             "#bd3786"
            ],
            [
             0.5555555555555556,
             "#d8576b"
            ],
            [
             0.6666666666666666,
             "#ed7953"
            ],
            [
             0.7777777777777778,
             "#fb9f3a"
            ],
            [
             0.8888888888888888,
             "#fdca26"
            ],
            [
             1,
             "#f0f921"
            ]
           ]
          },
          "colorway": [
           "#636efa",
           "#EF553B",
           "#00cc96",
           "#ab63fa",
           "#FFA15A",
           "#19d3f3",
           "#FF6692",
           "#B6E880",
           "#FF97FF",
           "#FECB52"
          ],
          "font": {
           "color": "#2a3f5f"
          },
          "geo": {
           "bgcolor": "white",
           "lakecolor": "white",
           "landcolor": "#E5ECF6",
           "showlakes": true,
           "showland": true,
           "subunitcolor": "white"
          },
          "hoverlabel": {
           "align": "left"
          },
          "hovermode": "closest",
          "mapbox": {
           "style": "light"
          },
          "paper_bgcolor": "white",
          "plot_bgcolor": "#E5ECF6",
          "polar": {
           "angularaxis": {
            "gridcolor": "white",
            "linecolor": "white",
            "ticks": ""
           },
           "bgcolor": "#E5ECF6",
           "radialaxis": {
            "gridcolor": "white",
            "linecolor": "white",
            "ticks": ""
           }
          },
          "scene": {
           "xaxis": {
            "backgroundcolor": "#E5ECF6",
            "gridcolor": "white",
            "gridwidth": 2,
            "linecolor": "white",
            "showbackground": true,
            "ticks": "",
            "zerolinecolor": "white"
           },
           "yaxis": {
            "backgroundcolor": "#E5ECF6",
            "gridcolor": "white",
            "gridwidth": 2,
            "linecolor": "white",
            "showbackground": true,
            "ticks": "",
            "zerolinecolor": "white"
           },
           "zaxis": {
            "backgroundcolor": "#E5ECF6",
            "gridcolor": "white",
            "gridwidth": 2,
            "linecolor": "white",
            "showbackground": true,
            "ticks": "",
            "zerolinecolor": "white"
           }
          },
          "shapedefaults": {
           "line": {
            "color": "#2a3f5f"
           }
          },
          "ternary": {
           "aaxis": {
            "gridcolor": "white",
            "linecolor": "white",
            "ticks": ""
           },
           "baxis": {
            "gridcolor": "white",
            "linecolor": "white",
            "ticks": ""
           },
           "bgcolor": "#E5ECF6",
           "caxis": {
            "gridcolor": "white",
            "linecolor": "white",
            "ticks": ""
           }
          },
          "title": {
           "x": 0.05
          },
          "xaxis": {
           "automargin": true,
           "gridcolor": "white",
           "linecolor": "white",
           "ticks": "",
           "title": {
            "standoff": 15
           },
           "zerolinecolor": "white",
           "zerolinewidth": 2
          },
          "yaxis": {
           "automargin": true,
           "gridcolor": "white",
           "linecolor": "white",
           "ticks": "",
           "title": {
            "standoff": 15
           },
           "zerolinecolor": "white",
           "zerolinewidth": 2
          }
         }
        },
        "title": {
         "text": "pca reduction technique. Visualization of Image Embeddings"
        },
        "xaxis": {
         "anchor": "y",
         "domain": [
          0,
          1
         ],
         "title": {
          "text": "x"
         }
        },
        "yaxis": {
         "anchor": "x",
         "domain": [
          0,
          1
         ],
         "title": {
          "text": "y"
         }
        }
       }
      }
     },
     "metadata": {},
     "output_type": "display_data"
    },
    {
     "name": "stdout",
     "output_type": "stream",
     "text": [
      "Reduced embeddings from 384 to 2\n"
     ]
    },
    {
     "data": {
      "application/vnd.plotly.v1+json": {
       "config": {
        "plotlyServerURL": "https://plot.ly"
       },
       "data": [
        {
         "hovertemplate": "class=0<br>x=%{x}<br>y=%{y}<extra></extra>",
         "legendgroup": "0",
         "marker": {
          "color": "#636efa",
          "size": 3,
          "symbol": "circle"
         },
         "mode": "markers",
         "name": "0",
         "showlegend": true,
         "textfont": {
          "size": 25
         },
         "type": "scattergl",
         "x": {
          "bdata": "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",
          "dtype": "f4"
         },
         "xaxis": "x",
         "y": {
          "bdata": "wo63vkq2CL04NTS+sO+fPeMrjL7uhv+7ZcDCvnpnOL6yo6u+ujAavUjwCD6O7V++BwipvtZkpL6yrzM+8Q+EvqespL6oaGa9jup8vkoi2r4fdO69pFdMvjbd7L0+WYO+hn/KPKCzKL4+TWy9GgizvvTOTb7iVpy+Nu+YvnmpSrz0MxK+VvuhvIyukb5u03y+K2FzPbT70b4gOlW+1khmvkQJp77uNtm+DDq4vi5iZ742YKW+2LDWPTTBxL5BLEi++KXCvbBHtz5NqpS+4ZzSvlQkw76KPHa+3HXSvt/rgr794de+shmCvjnClr30QFi+Xs07PUa6z7xaBUm+4qrPvfRckb7+fUq+XkOZvtYUrb44sbO+Ho7Jvs6Ip760lIO+zsSzvkyXWb6QnV++5llivni7ob4eDxM+Re5rvku3hb6gMDQ8JHY8vWIuub2BVsC+utMsvrHQZ74pAIi9qsg7vvp4tb7YqNe+eEyuvhpNj76mtIy+FjnXvu0Khr4J0X++nwCWvsXLXb4eQbW+Z+n1vrz5ub7EQbG+BtOAvp4swr7KU+o9sKRVPq2lsL7CPu2+mVl/voBNlb2qfWq+kVFIvi/yoL41bmk+lC17vj75hr4O/he+AHmivoNEs73I1RK+1FcTvpI0h75oEy6+Koc6vuKnCb5gT3a+kM6evpaJX764A1i95mCEvsuP174yjPE94Ss+va5Fxb7g4cS+0s1gviNPJj5lVKK+4Eyxvb0XjL4HAWa+GGvmvnANmb6g4bS+vM66vWLcM758ddO+mBuQvtWbsL6RFIO+0qQxPqN5Jj2aL4++2H+vvnQ4hL21QQa+AK2svi4RJb6nIQG+0CSYvrhrDr2Id3K+TIGZvpeqjjxChMC+bKt9vhQfmb65mDS9KIKVvtJwor4IPWW+EhSxvihKmr5YYLC9F014vuO/M778w9i+dB6evoudkL0OtsW+bPtrvkgIfr7Ugcc9/ztEvtoJtr6Zmn69RiWjvIjDM76AgTe+FytoviUIlr2UgrC+pgrcvUDGZ75ifIK+7407vea4ab77eUS8ipJ+vppvuz4P7kS93q/0vlaLFL56FQ88ysFvPDg0vL6Akxa+DjaLvpV6IL5CuXS+LZiXvW1hQL5DwuC9IMLAvumKqb7g0UC92iatvq42kb4tA2O+QipCvnY2rr1QPoG958V/vRikor1flJO+7E6CvevIo77FHoa9kC/Vvs3tkL4njMW+DofHvtD5b72jgKK+HmWDvmX/BL6kXq29blLQvqpbx76EvTS+v30Rvpt/A74OadG+A2DMvnu0mr6mOKG+uJevvmohor5ma2O+oEOlvoU5vb0OqYo9z2SPvR5Hob536xA7pn+cvvWZVL5MfjG+75zQvi4Eqzx8ol29MkV5vjX7ob4Kvaq+7KmzvpSNpb47L7O+n6ahvphTOb7nVm2+SihkvlCSejx8gXq+7udlvgPjdb4KO4i9ukzNvoj6yL4NbY2+7TOKvREEb75Qgcy+C/6xvqo5jr49tLG+le0vvtSdar5ai8S+wEGlvvT8ub5+ymK+aH6MvnDZf74J+3S+oza6vgADUr7YGpG+h2R8vjUQaL7AR0i+/rFYPTOTtL7gS2S+oO+KvZmeib5v7P69d/PcPcGWFb44cFi9PSy6vqMz270gtp698vxevYwHar4k35e+GOYsvkzEj74Jyti9QzCyvmg9eb6uUsW96q+Kvv5tpr7Cg3C9q+qpvghuwr4B7mu+YOaPvqFzTju8CWY6/VoqvtzG/b0ahZ6+1JGOvjEJDL4VX4O9GMugvuqSh756vbI+AtySvg5qpL2A4j09lNJ9viat5b0bl4K+wrsuvaxrp75iMUm+0Nuwvjvb1b4eWDa+8+Ofvhofxr0L2rq+7IaGvvaffb6y5e68z184vjrPErzcNkm+Vzt/vlj/Sb7UE5e+X4TDvqLhTr7SdmS+51mLvEr5ib7S0qC+wkCxvkycAj5uvjW+zj6ZvmRH472Ek22+0txLvvymtb4h8eK+5tskvtTHm75a92C+aOvOvookOr7wv12+ayuYvlYAzL7T44C+8uqfvisgqb5apba+2DN4vp7gRL7E0lO+k+i0vv4aGb7Lbuq+LqDOvvsBLL6Uso2+0Wy3vmx8wL2xaJW+0RHHvhK12r73R7C+TNu5vs35pT052U2+wg6BvhLVdb4ocsK+DMG8vliuxr4YUWO+DKaBvumdnr6Yv7i9wHFTvirCcL4sdqm+4uMXvsdgXr5oF1s8ccIXvqDoj76ccqm+ipu6vTC/gr77pde9mXGzvmjbKL4+AK6+FKoMvtBOH77SiEK+F4XtvpQYL76PsMG+jD4kvBpvPj5QMGe+sn8nvnKMh76Olsa9Bm6xvozDjr6MnG6+BSChvrP2P77l392+G3S6vaVKmb5EupS+6kAKvtlnUL7BjKK+DvXWvnzjFD3WUaC+LC0KvrKrrb7S9re+H9HMvk7shL1LyYS+XzWhvYkMXr5IDJ6+//kkviZBerz1TcS+UkEavtHvTb4S7aC+2m6hvVznDr4+3ra+hISovmX+Tr4BPI++XX6avU8yfD7E8iW+55IMvq2Bi736TQ89lKtCPd6miL4wr3y+5ByQvcoL7L4s7aK+yhTIvh4fq77ioqu+ejMzvsCBQL6RCvG9/dObvg6TYL5C0tG+oslSvikVmb67+BS+WJzRvXWRrTwV3oG+3vyzvsWkyb6kvJC+zAnOvnOSDD0zyUC+uH3NPG8PVr6MBcq+I+ivvn5xEr5St4G+E1mYvbH0LL3tbIG9UWmKvlmUy70JYlm+dOpUvjrlib2kiba+GtPDvpmxHb4sBTO+t0GUvsJHN73C4Hm+lvIPvsUoOb5fPLe9woRDvp6ixL5yX5i++BOmvp8zOb5uFsG+ULlIvgOIAb79KQ++X8akvgjrtr22IVW+Kvxdvs5QCD7izBW+jpBgvgwCv77q1cu+R0OGvGhrw74iC6u+AlJLPmdXg76l4Oe9BNN8vk4Qhr7wf5G+kl+FPLePF75knFW+IXmlvu3chr5JI+W+qhyKvJCgrb5e/Ze+NNy3vBRdhj472CI9BsHJvnm7k77a6bC+QgPavfmXIz5iUrC9SrTuvThvbL7BLq2+b8grvhl1Jb4sJW6+Nj5svPVrKr4KMWy+KCOnvuLOWb0OlIe+IEq9vlI2Vr4Sd+K+ltDEvnKxf77VK6m+lCyfvlK7sb5wZXO+RsiGvkg7eL2MBYC+borevaKgIb4WMUG+Ki9gvvsUpL0e1cC+mj+8vdKIPr6A32O+dPQrvrjS175u7US++JeDvgDNsb3EjcW+5kW4vSArVL4kdm2+zXOHvlzTpL7mKIa+POS/viAIN747V+C8MriEvthEer5Ic3u+29CFvWfNwr6UNIq+z4Favqatq77K1Gq9auq+PSIyrb70Q6G+RuuXvtQli77XI0y+wwlVvuaRXL7RZ167Xc3EvZFKdb6a+bO+KP5JPWnjkj5pzXm+Z/wsvgp9pL3aGfS8Rqg4vfzayb64vJO+wAKKvkrfa77W30u+K+gBvsw/rr6UfDC+ge+kvgkWtD3urr2+Gl1yvVb+h779DIa+u4YQvrQPmr5cTYe+C6m+vTDYub2IjIS+oFeJvpgrvL7OX32+YJJDvkJy1b3HYme+4gbOutAa+T0Gh5W+FLIhvkLfvr5E75y+ysdmvVbctb3oX6y+DWeTvhfO675b4ay+jMb1vcyTIr6Bl82+rRuBvj4Cbb5m6o++fmulvs6uXL7UFa++Nlmbvj5frb6Zfei9DWWevQaxlL7l9Nu+qKLJvlQ/uL5HXqm+y/iYPTaL8TwykAW+EAu5u2zgpr6Mr6i+TP32usO6p75sCkm+iqiAvuXflb7p5gG76qXLvpN5tr66DGe+TAyUvlXfj74XbMu+D8KkvjiqjL7Gg1m+lMQnvjKvm76AofK9IiWvvkoxar5cyL+7Cyy0vsOozr6WFXo9fQalvp0srDz06b6+iy09vp9cib4wEUm+IrS9vj5woL4YO9C+CjKpvlrtvb6pCFC+hRVKvvwIz71eEMC+4GnHvdpMzb7unrq+0IKWPZIMob20sEG+VUlYPUpIUb6mPdS+Jya5vlRkzL3cnKe+RQCAvoCgpr4VKJG98++Dvk5ew74Or5++xwCLvsQQG75c3r++FTlfvnSctL6i9Va+VfHxPYBzgr4QesE9XzXGvrSrg77gaYm8GPyBvnZctL73zIC+ABjvvnjGe77air2+/rx5vvBoXb4Rta+90nCAvsMBw75dp6u+eIyeviKaPb7SKVW9Zpc4vs/FGr5fOAy+6LFkvqejqb6qUV69zEppvqSEkr6G466+zza0vkAvcr5g/uy9vQSuvt6sr77KYsa++IHRvvu08b2FVEC+oQmwvq03Mr5ptgq9bPjTvgrK5b5cZce+3PBPvihEv77jmdK+oRhfvoNexL4p6ye+EpR/vkbLh72Fp7i9dicDvgmxWL7Xlo++Zh1ZvoOSbb6Q9Ya+hlcnvnp81r5WqTa+nuSfvkAryj2dSpm+6Hz+vfDsSL5U77S+PGqlvsCOhr6UwUK+iyCBvh63UL7c86e9AxozPYhes75QzGu+I2HAvkUIub4iDOY9nKKAvCzeS74hkCO9FLy4PtFRd77ST0m+OQmRvh6xl747woq+gvyzvmaGCL5Nscm+fGuZPkZQ1r4qc4i+qGauvmzOfb4LA5a94iB5vHQnNb6k1mu+MlF/vrvzZr5Fy3i+QqujvD4jf71dqay+CHOYvQawmjyeOFG++Aq7vjOAU74NRLe+7yRnvkqZYb44DAS+B2c4vuyxz74Anhi9WjthPDg2lr4W9oO+djh8PFaJbr7eLb6+NAuSvqb+Gb5xxC2+AbSLvmYfkb4dMoe+ccCovgzVnr4ScLq+v9idvnZBgT7G+Yq+TxgFvvo0FL5jQNK+hxpYvuIppD62pRm+qbqqvvDBuL2aFNi+mcTRvhUml75Upa29yRAvvbSipL4B4co9dM0HPookLb7aiMy+OSkGviuTUD2BZdC+zRfIvo5RIb5RZKq+H39Mvm7KXT7IgKK+Mil6vgpxp74UXQq90CO/vuyysb76A36+6nvWvmxtyr6AL2O9w+0Tvpbns71rRyG+Z12avjllXL6SbKG+9kvXvtZdwb708/y98V5Su9lMur6Zf8C+RsimvfrJlb6WSb0+IOxovimu1L41whi+UC2WvlTTwL5MzUC+kDXGPLOLhb2/D5c9Xx7pvWsLCL6FKBi+DHYDv0Ncs77YWVS+5i4qvRDQt71W19G+txATPitejb6X+8O+DsHAvi4lLr503mS+ujS+vpFkVb5yEJ89UMygviueor6uiqm8npr6vcyYh75I38G+8M7WvrRkoL5sTzy+cuaZvozRsb3W8849Mg6Lvv7xvb7+HD2+TiwTvkski77RRUi958hRvuwFgL74JWm9QnckvhblfL6oAc29/j2+vgy8GL60dH6+UzDgvj6urr4MdDy+jhScvnqRc74xLbG+Fu26vioGaL56P22+/iOqvpt6wr1u88G+EhGTvgyEur6wUo2+iKjRPXp31D3/tRm+HobMvVZ3rL4ldY2+euJVvsvyo74x6YS+aUgWvs6Hv74FErW+XtdcvViSKb0H9HG+WJeSvvIYoL5RgcS+JT8wPRoDbr5yqHG+8v+jvpAzur54wEy+gOOzvgRjVr4WeNu96viqveBG57071z6+546yvvWwOb1QaqK+5S+5vuYRq76KCx+9MBOfvh2SuL3svsq+EuLUvmPa+L3lyMW+nFiivu5DQL6zVZW+hjLAvow2qL7Qaq++wlJnvkpvFL6cI8q+4w6nvo9/kL4v2P+91kf1vCCoOb73Tc2+hSCJvq04Jb4+7hC+jpGrvpYmaL73gRE9VsscvjzOLL48FbK9jb6pvv2Pgr0WdI6+xv9Kvq6SoL5AbW++pjArvkZLRz3oMsq97VVevtqhib6IkT++mtScvp82yb2Qc9e+gx09vqa9Ar4Cc7G+2zGrvqSRpLxys46+H2bWvsdTnz09PnO+AKySvQQNjr52yJ6+bOouvbkoXb4rT5S+prodvpDAjb76PZ6+4CCWvho4c75IBwC+nnOqvlsnRL4KtQO+V9JHvvBfqL6yQGM9xjFJvO8/X76HeHe+rBy8vgwvhr5es7a8plnlverIq77zoQm+KkXgPq7OG75+qJG+5Qh5vvGQpL52D7K+z+vWvjTxPr5bN5q+X5NlO/SJtr6vY3u+mvelvsRWx76nDhi+nBbDvu1Zb774u6m+HTb1PUNMwr0YIK6+SqasvsU2r75kttG+7xylvlZ4qL7ewo++8+wnvYpLqr6g/Lm+3thMvo4U2zwbFZW+NU9KvkiHrrxNSVS+uqEdvoWLGL79poY86+SFvi9A4b3eA4G+siTEvveSij1A/Ki+XOCBviqNyb7K/pq+XNI9vvKdbr72z7K+GCdSvhncW76S4w2+ClBWvkhq375d5gw+X03Uvo9air4FzZ2+hlRTvlZijb55NX2+titbvgepKb6aX1O+0PlHvjJrhr6LXzy9CPPNvkCUxb6+Va++AhufvIX2ub5qf3S+AIzEvswfkb5k1ra97iqjvlhwbr4Tvra9YEGkvlr5PL6D1z6+gAXEvW9qr7472oi+pH8nvqOxFb2SheS+HoFpvies0r4=",
          "dtype": "f4"
         },
         "yaxis": "y"
        },
        {
         "hovertemplate": "class=1<br>x=%{x}<br>y=%{y}<extra></extra>",
         "legendgroup": "1",
         "marker": {
          "color": "#EF553B",
          "size": 3,
          "symbol": "diamond"
         },
         "mode": "markers",
         "name": "1",
         "showlegend": true,
         "textfont": {
          "size": 25
         },
         "type": "scattergl",
         "x": {
          "bdata": "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",
          "dtype": "f4"
         },
         "xaxis": "x",
         "y": {
          "bdata": "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",
          "dtype": "f4"
         },
         "yaxis": "y"
        },
        {
         "hovertemplate": "class=2<br>x=%{x}<br>y=%{y}<extra></extra>",
         "legendgroup": "2",
         "marker": {
          "color": "#00cc96",
          "size": 3,
          "symbol": "square"
         },
         "mode": "markers",
         "name": "2",
         "showlegend": true,
         "textfont": {
          "size": 25
         },
         "type": "scattergl",
         "x": {
          "bdata": "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",
          "dtype": "f4"
         },
         "xaxis": "x",
         "y": {
          "bdata": "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",
          "dtype": "f4"
         },
         "yaxis": "y"
        },
        {
         "hovertemplate": "class=3<br>x=%{x}<br>y=%{y}<extra></extra>",
         "legendgroup": "3",
         "marker": {
          "color": "#ab63fa",
          "size": 3,
          "symbol": "x"
         },
         "mode": "markers",
         "name": "3",
         "showlegend": true,
         "textfont": {
          "size": 25
         },
         "type": "scattergl",
         "x": {
          "bdata": "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",
          "dtype": "f4"
         },
         "xaxis": "x",
         "y": {
          "bdata": "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",
          "dtype": "f4"
         },
         "yaxis": "y"
        }
       ],
       "layout": {
        "legend": {
         "title": {
          "text": "class"
         },
         "tracegroupgap": 0
        },
        "template": {
         "data": {
          "bar": [
           {
            "error_x": {
             "color": "#2a3f5f"
            },
            "error_y": {
             "color": "#2a3f5f"
            },
            "marker": {
             "line": {
              "color": "#E5ECF6",
              "width": 0.5
             },
             "pattern": {
              "fillmode": "overlay",
              "size": 10,
              "solidity": 0.2
             }
            },
            "type": "bar"
           }
          ],
          "barpolar": [
           {
            "marker": {
             "line": {
              "color": "#E5ECF6",
              "width": 0.5
             },
             "pattern": {
              "fillmode": "overlay",
              "size": 10,
              "solidity": 0.2
             }
            },
            "type": "barpolar"
           }
          ],
          "carpet": [
           {
            "aaxis": {
             "endlinecolor": "#2a3f5f",
             "gridcolor": "white",
             "linecolor": "white",
             "minorgridcolor": "white",
             "startlinecolor": "#2a3f5f"
            },
            "baxis": {
             "endlinecolor": "#2a3f5f",
             "gridcolor": "white",
             "linecolor": "white",
             "minorgridcolor": "white",
             "startlinecolor": "#2a3f5f"
            },
            "type": "carpet"
           }
          ],
          "choropleth": [
           {
            "colorbar": {
             "outlinewidth": 0,
             "ticks": ""
            },
            "type": "choropleth"
           }
          ],
          "contour": [
           {
            "colorbar": {
             "outlinewidth": 0,
             "ticks": ""
            },
            "colorscale": [
             [
              0,
              "#0d0887"
             ],
             [
              0.1111111111111111,
              "#46039f"
             ],
             [
              0.2222222222222222,
              "#7201a8"
             ],
             [
              0.3333333333333333,
              "#9c179e"
             ],
             [
              0.4444444444444444,
              "#bd3786"
             ],
             [
              0.5555555555555556,
              "#d8576b"
             ],
             [
              0.6666666666666666,
              "#ed7953"
             ],
             [
              0.7777777777777778,
              "#fb9f3a"
             ],
             [
              0.8888888888888888,
              "#fdca26"
             ],
             [
              1,
              "#f0f921"
             ]
            ],
            "type": "contour"
           }
          ],
          "contourcarpet": [
           {
            "colorbar": {
             "outlinewidth": 0,
             "ticks": ""
            },
            "type": "contourcarpet"
           }
          ],
          "heatmap": [
           {
            "colorbar": {
             "outlinewidth": 0,
             "ticks": ""
            },
            "colorscale": [
             [
              0,
              "#0d0887"
             ],
             [
              0.1111111111111111,
              "#46039f"
             ],
             [
              0.2222222222222222,
              "#7201a8"
             ],
             [
              0.3333333333333333,
              "#9c179e"
             ],
             [
              0.4444444444444444,
              "#bd3786"
             ],
             [
              0.5555555555555556,
              "#d8576b"
             ],
             [
              0.6666666666666666,
              "#ed7953"
             ],
             [
              0.7777777777777778,
              "#fb9f3a"
             ],
             [
              0.8888888888888888,
              "#fdca26"
             ],
             [
              1,
              "#f0f921"
             ]
            ],
            "type": "heatmap"
           }
          ],
          "histogram": [
           {
            "marker": {
             "pattern": {
              "fillmode": "overlay",
              "size": 10,
              "solidity": 0.2
             }
            },
            "type": "histogram"
           }
          ],
          "histogram2d": [
           {
            "colorbar": {
             "outlinewidth": 0,
             "ticks": ""
            },
            "colorscale": [
             [
              0,
              "#0d0887"
             ],
             [
              0.1111111111111111,
              "#46039f"
             ],
             [
              0.2222222222222222,
              "#7201a8"
             ],
             [
              0.3333333333333333,
              "#9c179e"
             ],
             [
              0.4444444444444444,
              "#bd3786"
             ],
             [
              0.5555555555555556,
              "#d8576b"
             ],
             [
              0.6666666666666666,
              "#ed7953"
             ],
             [
              0.7777777777777778,
              "#fb9f3a"
             ],
             [
              0.8888888888888888,
              "#fdca26"
             ],
             [
              1,
              "#f0f921"
             ]
            ],
            "type": "histogram2d"
           }
          ],
          "histogram2dcontour": [
           {
            "colorbar": {
             "outlinewidth": 0,
             "ticks": ""
            },
            "colorscale": [
             [
              0,
              "#0d0887"
             ],
             [
              0.1111111111111111,
              "#46039f"
             ],
             [
              0.2222222222222222,
              "#7201a8"
             ],
             [
              0.3333333333333333,
              "#9c179e"
             ],
             [
              0.4444444444444444,
              "#bd3786"
             ],
             [
              0.5555555555555556,
              "#d8576b"
             ],
             [
              0.6666666666666666,
              "#ed7953"
             ],
             [
              0.7777777777777778,
              "#fb9f3a"
             ],
             [
              0.8888888888888888,
              "#fdca26"
             ],
             [
              1,
              "#f0f921"
             ]
            ],
            "type": "histogram2dcontour"
           }
          ],
          "mesh3d": [
           {
            "colorbar": {
             "outlinewidth": 0,
             "ticks": ""
            },
            "type": "mesh3d"
           }
          ],
          "parcoords": [
           {
            "line": {
             "colorbar": {
              "outlinewidth": 0,
              "ticks": ""
             }
            },
            "type": "parcoords"
           }
          ],
          "pie": [
           {
            "automargin": true,
            "type": "pie"
           }
          ],
          "scatter": [
           {
            "fillpattern": {
             "fillmode": "overlay",
             "size": 10,
             "solidity": 0.2
            },
            "type": "scatter"
           }
          ],
          "scatter3d": [
           {
            "line": {
             "colorbar": {
              "outlinewidth": 0,
              "ticks": ""
             }
            },
            "marker": {
             "colorbar": {
              "outlinewidth": 0,
              "ticks": ""
             }
            },
            "type": "scatter3d"
           }
          ],
          "scattercarpet": [
           {
            "marker": {
             "colorbar": {
              "outlinewidth": 0,
              "ticks": ""
             }
            },
            "type": "scattercarpet"
           }
          ],
          "scattergeo": [
           {
            "marker": {
             "colorbar": {
              "outlinewidth": 0,
              "ticks": ""
             }
            },
            "type": "scattergeo"
           }
          ],
          "scattergl": [
           {
            "marker": {
             "colorbar": {
              "outlinewidth": 0,
              "ticks": ""
             }
            },
            "type": "scattergl"
           }
          ],
          "scattermap": [
           {
            "marker": {
             "colorbar": {
              "outlinewidth": 0,
              "ticks": ""
             }
            },
            "type": "scattermap"
           }
          ],
          "scattermapbox": [
           {
            "marker": {
             "colorbar": {
              "outlinewidth": 0,
              "ticks": ""
             }
            },
            "type": "scattermapbox"
           }
          ],
          "scatterpolar": [
           {
            "marker": {
             "colorbar": {
              "outlinewidth": 0,
              "ticks": ""
             }
            },
            "type": "scatterpolar"
           }
          ],
          "scatterpolargl": [
           {
            "marker": {
             "colorbar": {
              "outlinewidth": 0,
              "ticks": ""
             }
            },
            "type": "scatterpolargl"
           }
          ],
          "scatterternary": [
           {
            "marker": {
             "colorbar": {
              "outlinewidth": 0,
              "ticks": ""
             }
            },
            "type": "scatterternary"
           }
          ],
          "surface": [
           {
            "colorbar": {
             "outlinewidth": 0,
             "ticks": ""
            },
            "colorscale": [
             [
              0,
              "#0d0887"
             ],
             [
              0.1111111111111111,
              "#46039f"
             ],
             [
              0.2222222222222222,
              "#7201a8"
             ],
             [
              0.3333333333333333,
              "#9c179e"
             ],
             [
              0.4444444444444444,
              "#bd3786"
             ],
             [
              0.5555555555555556,
              "#d8576b"
             ],
             [
              0.6666666666666666,
              "#ed7953"
             ],
             [
              0.7777777777777778,
              "#fb9f3a"
             ],
             [
              0.8888888888888888,
              "#fdca26"
             ],
             [
              1,
              "#f0f921"
             ]
            ],
            "type": "surface"
           }
          ],
          "table": [
           {
            "cells": {
             "fill": {
              "color": "#EBF0F8"
             },
             "line": {
              "color": "white"
             }
            },
            "header": {
             "fill": {
              "color": "#C8D4E3"
             },
             "line": {
              "color": "white"
             }
            },
            "type": "table"
           }
          ]
         },
         "layout": {
          "annotationdefaults": {
           "arrowcolor": "#2a3f5f",
           "arrowhead": 0,
           "arrowwidth": 1
          },
          "autotypenumbers": "strict",
          "coloraxis": {
           "colorbar": {
            "outlinewidth": 0,
            "ticks": ""
           }
          },
          "colorscale": {
           "diverging": [
            [
             0,
             "#8e0152"
            ],
            [
             0.1,
             "#c51b7d"
            ],
            [
             0.2,
             "#de77ae"
            ],
            [
             0.3,
             "#f1b6da"
            ],
            [
             0.4,
             "#fde0ef"
            ],
            [
             0.5,
             "#f7f7f7"
            ],
            [
             0.6,
             "#e6f5d0"
            ],
            [
             0.7,
             "#b8e186"
            ],
            [
             0.8,
             "#7fbc41"
            ],
            [
             0.9,
             "#4d9221"
            ],
            [
             1,
             "#276419"
            ]
           ],
           "sequential": [
            [
             0,
             "#0d0887"
            ],
            [
             0.1111111111111111,
             "#46039f"
            ],
            [
             0.2222222222222222,
             "#7201a8"
            ],
            [
             0.3333333333333333,
             "#9c179e"
            ],
            [
             0.4444444444444444,
             "#bd3786"
            ],
            [
             0.5555555555555556,
             "#d8576b"
            ],
            [
             0.6666666666666666,
             "#ed7953"
            ],
            [
             0.7777777777777778,
             "#fb9f3a"
            ],
            [
             0.8888888888888888,
             "#fdca26"
            ],
            [
             1,
             "#f0f921"
            ]
           ],
           "sequentialminus": [
            [
             0,
             "#0d0887"
            ],
            [
             0.1111111111111111,
             "#46039f"
            ],
            [
             0.2222222222222222,
             "#7201a8"
            ],
            [
             0.3333333333333333,
             "#9c179e"
            ],
            [
             0.4444444444444444,
             "#bd3786"
            ],
            [
             0.5555555555555556,
             "#d8576b"
            ],
            [
             0.6666666666666666,
             "#ed7953"
            ],
            [
             0.7777777777777778,
             "#fb9f3a"
            ],
            [
             0.8888888888888888,
             "#fdca26"
            ],
            [
             1,
             "#f0f921"
            ]
           ]
          },
          "colorway": [
           "#636efa",
           "#EF553B",
           "#00cc96",
           "#ab63fa",
           "#FFA15A",
           "#19d3f3",
           "#FF6692",
           "#B6E880",
           "#FF97FF",
           "#FECB52"
          ],
          "font": {
           "color": "#2a3f5f"
          },
          "geo": {
           "bgcolor": "white",
           "lakecolor": "white",
           "landcolor": "#E5ECF6",
           "showlakes": true,
           "showland": true,
           "subunitcolor": "white"
          },
          "hoverlabel": {
           "align": "left"
          },
          "hovermode": "closest",
          "mapbox": {
           "style": "light"
          },
          "paper_bgcolor": "white",
          "plot_bgcolor": "#E5ECF6",
          "polar": {
           "angularaxis": {
            "gridcolor": "white",
            "linecolor": "white",
            "ticks": ""
           },
           "bgcolor": "#E5ECF6",
           "radialaxis": {
            "gridcolor": "white",
            "linecolor": "white",
            "ticks": ""
           }
          },
          "scene": {
           "xaxis": {
            "backgroundcolor": "#E5ECF6",
            "gridcolor": "white",
            "gridwidth": 2,
            "linecolor": "white",
            "showbackground": true,
            "ticks": "",
            "zerolinecolor": "white"
           },
           "yaxis": {
            "backgroundcolor": "#E5ECF6",
            "gridcolor": "white",
            "gridwidth": 2,
            "linecolor": "white",
            "showbackground": true,
            "ticks": "",
            "zerolinecolor": "white"
           },
           "zaxis": {
            "backgroundcolor": "#E5ECF6",
            "gridcolor": "white",
            "gridwidth": 2,
            "linecolor": "white",
            "showbackground": true,
            "ticks": "",
            "zerolinecolor": "white"
           }
          },
          "shapedefaults": {
           "line": {
            "color": "#2a3f5f"
           }
          },
          "ternary": {
           "aaxis": {
            "gridcolor": "white",
            "linecolor": "white",
            "ticks": ""
           },
           "baxis": {
            "gridcolor": "white",
            "linecolor": "white",
            "ticks": ""
           },
           "bgcolor": "#E5ECF6",
           "caxis": {
            "gridcolor": "white",
            "linecolor": "white",
            "ticks": ""
           }
          },
          "title": {
           "x": 0.05
          },
          "xaxis": {
           "automargin": true,
           "gridcolor": "white",
           "linecolor": "white",
           "ticks": "",
           "title": {
            "standoff": 15
           },
           "zerolinecolor": "white",
           "zerolinewidth": 2
          },
          "yaxis": {
           "automargin": true,
           "gridcolor": "white",
           "linecolor": "white",
           "ticks": "",
           "title": {
            "standoff": 15
           },
           "zerolinecolor": "white",
           "zerolinewidth": 2
          }
         }
        },
        "title": {
         "text": "pca reduction technique. Visualization of Image Embeddings"
        },
        "xaxis": {
         "anchor": "y",
         "domain": [
          0,
          1
         ],
         "title": {
          "text": "x"
         }
        },
        "yaxis": {
         "anchor": "x",
         "domain": [
          0,
          1
         ],
         "title": {
          "text": "y"
         }
        }
       }
      }
     },
     "metadata": {},
     "output_type": "display_data"
    }
   ],
   "source": [
    "plot_embeddings(X_tfidf.toarray(), 0, symbol=\"class\", reduction_techniques=\"pca\", color=\"class\")\n",
    "plot_embeddings(X_sbert, 0, symbol=\"class\", reduction_techniques=\"pca\", color=\"class\")\n"
   ]
  },
  {
   "cell_type": "code",
   "execution_count": 37,
   "metadata": {},
   "outputs": [
    {
     "name": "stdout",
     "output_type": "stream",
     "text": [
      "Reduced embeddings from 1000 to 2\n"
     ]
    },
    {
     "data": {
      "application/vnd.plotly.v1+json": {
       "config": {
        "plotlyServerURL": "https://plot.ly"
       },
       "data": [
        {
         "hovertemplate": "class=0<br>x=%{x}<br>y=%{y}<extra></extra>",
         "legendgroup": "0",
         "marker": {
          "color": "#636efa",
          "size": 3,
          "symbol": "circle"
         },
         "mode": "markers",
         "name": "0",
         "showlegend": true,
         "textfont": {
          "size": 25
         },
         "type": "scattergl",
         "x": {
          "bdata": "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",
          "dtype": "f4"
         },
         "xaxis": "x",
         "y": {
          "bdata": "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",
          "dtype": "f4"
         },
         "yaxis": "y"
        },
        {
         "hovertemplate": "class=1<br>x=%{x}<br>y=%{y}<extra></extra>",
         "legendgroup": "1",
         "marker": {
          "color": "#EF553B",
          "size": 3,
          "symbol": "diamond"
         },
         "mode": "markers",
         "name": "1",
         "showlegend": true,
         "textfont": {
          "size": 25
         },
         "type": "scattergl",
         "x": {
          "bdata": "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",
          "dtype": "f4"
         },
         "xaxis": "x",
         "y": {
          "bdata": "+fkXQTpDwkGAuNbBFE4uwYN2zkEfeKXBq+erwF9XDcJoIB5BPO6UQKdS5cEI8D/CzAv1wU7GCMLhpBXCAsmHwUNcDsFJu0RBOPiYwQ+PScHyJCXBBu0WwWP6KMGqQdDBar3MQev2WcCNbe1AztmEwHB3usB2sRfAWVCrwaqQO0E47DvBbQAVQYmROcIk9P5BRhqswQJ/FsJss5/BuqwXwLNFtb8cLznCeLr0wd0HK8L0ULLAIW0fwXbOr8FkoATCGBHwwHsMo8Gx3P/AqhDmwUZt70CLZ5LAryD+QJ+hq8FvpYnBPrRYQVzMt0DSj0XBtZMewuN3o0C/K2jBA8cxwTSye0CE5b7ASmT2wXRkYsBAcuVAXVWtwAusgsHmT36/+tApwsAO5sDM9gTCWiE8wXcVNcIOXCG/8yCowOW1NsGYSJPBa8o5wjefJMGbrbFAgt4CwRwyM8LoUvvBdU9lwQAX+sFh3TXCj2O+wKV9DMLmiL3An/glPpo0NcLojs/BOkwnweaNEMGSiFTBEpZkwc6ou8GrrijBkS2KQXQmMcIumpjBR6SawSbzuMH7yvfBkTiowUjn8sE/6qbBF7kHwv+bNMIxQSvCYiAkwktRnsFn6IDBg7YRwmFlJMLF877B+8AuQlYjL8LAWxbBKzD4waRLIsHv1cTAdEMFwjSRLUE7HVdBokYjwTFeUcEmLknBas82watibkGjfavBJw8KQlrGbkH4WRTBxJENQq63YsDXPDRBu+2nQNI3L8Le7JPBiEQpP36/McKERMtA/4LCQQyXa8EbgMzB8UElwu5rpMF5ydXBoFIuwZ2knsEECFTBRumjwQOfMkFUEwXA6yaqwTFXcUEkt5/Ad8bHwC5DqMHTdgNBXYncwESdMcFgk9HBs8QwwsSW+8EiqtTA2VBaQU+GLML/3ZvANmvYwR3XIcKSXYNA7EmpwGatUkEsdDDCKgubwbm1+MBGDMzBHswewodxx8E3ZYhBADpGwQwKdL+3ZC/C/MpGwIKhIcLb2r9BblIuwnoqQUFfhgjC0XtZQYcyH0FsgfTAfbjuQPg0hsHLggzBen8swpnJUMFU0NNBWTVNwobzTMLk+QbC8i4YwW4NRsIlWI/BBVePwba8M8IChRvA6FyHQeI9NcGcV9PB+RHpwDORusB/6xnBqzmAwcL/g8GCSwnBANbTQVX0KcIMOrZBGx7+wVMu5MFkxglBzjenwbn4rsHV5MJBOBRGwdvabcEORmvBQ3NXwQzCgkAoZBnBE4owwoOOLcKM1ZbBXA40wY3ZWUFtmm5A2uwywQdB9sAT9gNCm3yVwQtpB8GC7QXCpJfXwQsjLEFKgA/BVbn3wXartEHWcQ/CqdBcwUtyP8Efi17BBSJjQP+iEMKRa8nAyzkgwosuDMJtacnB21EdQkxmJcGrahBCui1wQSjbSEFT+V1BMpUEwn0aN8APjU5B6D2KwaUmisGazCPCypa/QOqrrMFD/ZvBKdgmwc5OXsHxVzPCCMHrQLR1LUDNG/TBAI/EQaEEesDNOFjBzjrgQExOW8GrK8nABZkyQCIaZsFNG9nAV5DmwBHLz8HdNtPBpakewQ/gQME3uRjC2kYawgqJG8KgZ9RBMrrwwatF0cFeMjFBgDijwfuRhcEqsgJBw6mNwXX0hMFrrdDAtsCXQaRPU8FbkQjCvtUwwLfYs0GdAhDBrCxOQkxURsKrOoBCaQCuQDy3b8HSYFDB1QwNwoVhNMJyYylBPMAGQn+RMMH6uyXC9AkIwsoPSUHrtAvBx1hyQd3AbcAE+4PBMYczwiZ9xMBBpDRC5SFBQkZC+0EuboVAhc0BwlzoNkCpo4nBy/vHwOK16MEDyjTBq2HgwX0TV8Gh8KfAkrkIQU5Fu0E4NLlBCrvQwC9rvsFPYbw+EFGowaS2B8LTRqPBK9cswuEmS8EU3jPCBGDfwZqwSsH2KsTBcZYIwt/N78GsHuTA0EXqwI0Kc0GDwDnAg0FTvkpqHsJiAGpBxWl+wHfmAEGFH19A3NUnwGKJYcFN2wDCdX98wWS6D8EQSBZBfhtmQWBq9sGoP4tCOeBQQATas8DsbQ1C2i0dQlphMsLh1AZB7YAtwcBCDcJJ8YjAxVDYwG+z8sEFJrrBgYQBwo3w88D4OinBRgCnwRR7DcHbAPzBg2X8wUBLAMKYpLbAe9jYQMwZDsHKhDFAyPH3wc1eOEAL4FvBnyk/QR765UB/TGnBxo8aQZjO38Bq1cbApuI6QYJ4usBq6KFAN/L+QEf1OkHpxBtB3SWgwZeQMsAwXBvCniVJwRfRkUB/9eDAbvKzweSId8F2s9LBDY1DwqgDxMGuSl/B0cqpwUZIlcFYdW3BKr2XwbWvGcHvjinBHwiywSedecF/FNVAYLGYQRrMP8L7wsjAY3fBwedZ/MEdprhBhbJjQWa4H8L5JEfBXomWwXJn+MHoarNAXey9wbJNMkFJrXDB05W0wZ3BAEH9y4HB/ITJQQI/TcETpCvCJDWEwd7O68CXzSRB7yHAQQ9tFMIvIozAvUpjwZdJQEHMQ8+//LIAwQT6vsFXF6zBJ+9yQSkQ5MB7fJ7BESIWP07ZDMJPHk8+FOetwYDB7j4McY/BxDgEwp/Ht8H1ZDnBFjABwhWDBUFvBCrCSzcjQesSB0HkxKfBtV3Nwc2PvEDsbiXCUxzGwZI+rcE9vyvC3PAIwpPgvMF4JeNAfM+QwTCdHsFHCkbBS0B0wTu3h0E+FGvBL0/BwFwPwEEX2itA8+fewUY97kFmVbhBCD4twuoMqMA8NgfCgeqWwVT4zUCMp5xBC+03QY3PvEFOzBxBGuEIQeD98sHJuxjB6mhtQcAiB0H3ppfBwdEywUECCsE16STBx0w+wKBJ+8H8EwjBAj7IQChzzMAhA0DC4B/oQBfIpsEfWA9Cx3fywSsPXcAG68lA6tjCwTmmBcGuQkpBF2HoQKPppcFg9IjAkzkGwl0UlcCuzPVBKPrEwRaLIsB5VUhBpBmIwSV+csFqmQHCp6IBQqxGCcKg4jRBWt2rwY7pZ8Jvn8W/w1y8wYUWNcLMWOLAfwUIwl7faj85g95AA5z6wVWx0EFuKMDBkpKVwBw3R8F8xJnB79wNwuIgK8Gzr9nAWARlwD3xBcIs/t0/nfMtwq6X8EFSIN3B4r/xwGjAvMGoUWvA/U33wV3sucHsj+M+7hKcwSbA10HiAFDBi7INQdMD9T6lw/NAfnDmwdNXDMLJeK7BfNClwSWmWEGTrTvAq6ZhwbX0ccHGSwPCVg5RwOVDBMG0LsXACIy8wJ+Px8GUqudAh/KzwLiHqMAmfaJB8fbAwE4ItcEYRe29ogstwgxWzcGtfBLCqT0Awnt+HsDFhabBHL2KwUa/0MEynDVAX7WfwUZ7CkFW35NAFvYZQJyiuMFWXC9BXT0fwpPOr76jK7HBIpTCwTU0H8Kea51BUNaKQW0j1cFjLA5C1F7ywWrHHcEDgqZAu3oxwCQ63kCUThVBTO2Rwc7SCsFYQyJBcsHJwTBv/0Dun0hBJ6A1PdPgIMKnAR1BqfYAwovee8DiFxXCCw/rQTQ198DC8g/BPw9FQUxRK8LhAyLB29HIQUwFBsKRHbbBY2MuwfvtC8L2DAfBgy5owRWuJsFbexNBI9hywRxmxkF4d8LAsaT6QCnOOcL4UA5B+WMDwbjfJMFJa/LBgeMlQuvlBcJlEOzA7bcHwTm8jEC044HBECc7QTm6br6qRlRBDbKgwQIwkkB2S6fBijh+wZFbEcESF75A6nalQZ2dtEDvPoFAhiR0wcw8v0FWzPnBZE7ewcssvMENoubBkR4ywrb1Rj4VAEzC7HgtwbOyx8GMqhjCJ/SXwZhINEEa9vHBKuupv2qSn0D+YCFCeNRKQRIV7cA/LhPBMHClPwyYCkJDhcvAMGsiQQe0dsHhw22+HSQHQLb2BEI3b87BsxQLQfvBRMF7VAlBphZowXthHkHezF3BCFdOwLl6DUDNjKQ97tWxQOgbEMENRMXBu3ANwVIlhMHEiwDC86GKQBs5xb8P+5DB1EPhwbrMrsEjTY/BGn41wmTRK8HSUqo/TLmPwbb31EG2+WrAY90Jwa/lLcHYAtxBRWtbwTFXFEHtv0vBSCcdwsY8kEE6cR/CEhVUQQpiL8Jccn/BFDszweLuNcKdd9zBt+xNwL0Vt0GoQwPCHdsuwhBON8KQd23AbiNhwX8Uu8Ai3RpBJEmqQOg4EEE3YR3BSefsQaeHh8FV9VjAulcnwsZmw8FKgq3ADFaPwQ+yJMFAhxhBDFwkwm1kCEFoZRPBV7Yxwp8GE8IR4CvCCVK1QUOpE0EdUYbBZwLwwXj5KUH2cBBCgB6NwdTbu0GDCAZB91lxQb5LcsFwIrnB9NeHweedtkErl5LBla6rwHTewj7lWwzC8I2OQaEyVcJnrPzAmzLuQMzKDkFh1rjB4J2UwVplH8Cho6fB4jEIwRKuyUFEUVZBr8wSwmUQu8GJtzPCmEYxwiFZwMCvqGJBT+qUwaHmokAkOybBZtwYwUimF8E4ljHCsgksQfV5PD6/8mJBtAoOwLs1N8IC/ZdB3grrwXgjiEKSd5bBVt8Vwfo5OcIg0wDCXawjwAc8d8E6QeHB2IH/wdm/dMHlGB9BTn5WwcCdisGrhMVAn7eGwf0ZXcFgwQnCTyKdwDO5eMGBLFU/BVAdwgC2icBVhghCL4MDQpiCMsJDsmtBVdz2wQZnEEHf9SfCYIc8wlPMYMG+m7PBMeIHwQgQ0sGY1PC/u3pxwbiyxkG3uS3CoJIQwcpoY8IydC/C7N4gwXKzCUEUAy/CtX0CQVrxjUGttOu/NKkrwYBBoMF7crzBTcCrwZguRsFEFeRAN3erQX4Hl0FbO4vBD1RBwhrGL8LsJr/BtTIIQkncG8G1rDtBy2czwl0llz9od5zBGrZOQVQoAsIVTzRCxE07wSOpk8Fp3S/B/pqZQf7R9cGzjPrBZ76lwb3dqsGXs8LBAQ7/wek/AsK9PjnCaKEMQnV3zMFq47E/vWbfv5y3FcJs+StBPk7YQYpsKMKoRjLCxCX9wbz5vMAFPkBB7Zj/wcSXpsEAYgRBIMfFwTqBOMBybYDBbwmsQeTV80EVlTzCJHUKwtLDvMALv7TBXJ5BQZgyPsG6ypvBvcMjwkzdZsJG+O5AuBYdwmqZLsDAdvlAORyXwWKYqcCnTHLBFzXSwRsUe8H1ZlZBqr41wm1p6sDcdqPB7WCxQFiK6UDWeRzARB+UPe+fMsKW28jBgodCP7FHHcDPFBLC0d6GQT0wCcK6DKvBltrtP/FRvMEe1QdCdKD/QTj8G0HAopTBLkAIwjJ2YcGvNEY/OMG5wDFcBsIrQlPBgWu8wfRrEUG3nCfC2BYxwtrtXUJ1qixA8oGIwevKCEF5B53BywErwZNvskDBoRLAxzv3wPhjVMGDpCZB5B7kwRbmk8Ek3gfCk/ChwfdyyT8cE8zAiYIgwrfxAcKrHiVBGaPXwaIdFcKwofjAE+AlwhQZDcIk2VVB2iI+wmUCUUAG+mXBSJWewVrDosHNiDbCPyEhQpu3cMFXb6zBJ6CNQHShGMFRLutBChE1QQ37msEQYSvCHrCSQEUGLkH6uG1B0I14wZD4IMLsEeDBxXsswS2JNcBdx65B0Fbywd2eXMH2yDrCqweGQC5FC8JGeVvBI/fdwRU3QMEiSsLBlxTEwch0QcHWdyXAsL4PwQilqMHNaCvCvQXfwaJ/q8HbZC0/+6Q2wXX3QcAO1pTB9FPfwTYybEBXFSXCEk8bwaj+3kAH1yJBZGVcQXqF/UEh/NBAoe3SQNf4PsKIRS3BTrE/wkuKOcJQtgJBpbohP0xmA8LR2bTBTqn3wffL68C+si3C8u2xwRagOEFZWR5C09LvwY5ZK8L/zs7BjdcswW9gHMHkR9zA8xcLQkdlW8CbT4DAl/q3QCKQN0EuVebBxtqvQcKCx0Cw8C/CNX0wwXACF8La8NnBiDY6wSklR8EtG6PBGOmFwREcj8GPxa5BVn9twdBcCcKvxbnAiACqwawTDsKS9yjCqosMwgAMAUENn85Azu3pQe4P2MBAl1hAnyhDwpQXKD+7DhtBNu1PwceUqcHp8EnBzaV8QKqEwMHp6hHAwj/1wZ8e5sDdJ/LAsH2lwLj1fkBg3p7AOc2RQV4hI8HaNzdBursIwnVIIsHZX9rBS/bDwCMrUcCPBUrCoptBQdQhR8C0vgJC+dvWQN80ZcCUAoJBhCWHPv+c8cCTi7vBktwSQbfYhkEodiNB6dN+QKvEDsFtRgnC3PonwLh5EcLY0mDBcx+PwYpojcFQqo3BHQX0Qe9fE8GWiWjCqvZ0QN9oD8I4+nXAgSnWQGHymUFM+Q7BMnJdwrBFGcG4/WZAnXGbP0A/EEHR8fbA3gvSwWmIrj+MygpBzihOv9dH9cGjSM1BJrUXQZ7nNMKpZ6HBnUpSQWbLXUG7WYs9jXUXQSeescGex57B719zQDy24cCS0aTBG2SHQI7Pi8B3WCLBDqGgQKA0u8EchhDB/kZiwTDfHEFzwCLC+qcywlCd08HgKBG+FhPQwdZUR8KakrHBTlknQUlix8GOH73BSGSFQUnu+sHtCwjBBnIbwiObHEGQf2lAOXJ6wcAx3cAx7sBAOLTHwfwicEAipV/BFpkowtEp2EDMh8bB+B4mwVQ6RkI=",
          "dtype": "f4"
         },
         "yaxis": "y"
        },
        {
         "hovertemplate": "class=2<br>x=%{x}<br>y=%{y}<extra></extra>",
         "legendgroup": "2",
         "marker": {
          "color": "#00cc96",
          "size": 3,
          "symbol": "square"
         },
         "mode": "markers",
         "name": "2",
         "showlegend": true,
         "textfont": {
          "size": 25
         },
         "type": "scattergl",
         "x": {
          "bdata": "dmVXQoniKELzB19C9mSOQvk02sCPpTNCcv0ZQVj5FMG3B1JCris4QrjdJ0LNooFCCwUmQnC2IUJ/AEJCK0NqQpm0IkKJdzBAb4TSQE70R0IAF0RB9ExMQqDIgcCFJ8xBGgyGwa5uKUJWTyHBJNBpQty4hEIXc+FBeM2BQiMuY0J8Q+NBzSQZQoajPcHYnydCyXk1QjKhhEIHmClC86ThQDvrWEKLQ4BC1ZuTQF5u70GOCT9C2oEcQqrHtEEajAlBu3ZVQqslhUIVGezAzGWZQXS+N8AbU6lBKyEIQldnVkK+AbNBRSZuP0QHsT9QYEJCVE8MQqI7UUKfnaFB1TwIQKBmfkJd7IZAOKpeQjHB3sDofgNCbMGBQs/j50At9IZCjWXCQUuGX0LIGX9CbrNfQqMJv8FXZF5CReARQjdeRUKgqkZC9wsmQhk2Vr6r2oVCQgSDQsDNT0KPvptAnLWBQmS3gUL0dURB+GVwQhz5V0I98mtCIVvtQW6Roj9N34lBcS8AQfJNsUFuhrBADPxhQfAxBUDUg75BTuf8P184z0F4kFtCe7txQc4/PT+ki1lCNsq8QZXw6EGCYVFCvnuRQpwaekGcFcdAEH3zQb4VR0EGAkpC5KdnQkjKpkE/AtFBX1V5QiNN7UGrLsdBubx3QsTmx0GZ8oNCY2vPQPBLDr/WzRhBlkAmQvEEmMHaoplAAjt2Qgptt0GPi3e+zoqmQfrkz0ETwLhAP/qSQo6wEULcbYrAIdcrQqnMg0J3yzrAATdIQqjeV0IcWnBC0fB8QWOhQ0GIsPvAaTNQQoDV1EFVxXVCl5E1QQD5PELr9IK9T4/HQUkCMkI4FQhBNjvRwAU5xkAim0xCnkwrQlXCM8Eg7wBCDP9nwcKH4EFGoIVC+366QUWNJ8Jiy6lB7h6RQXdSn0HSr3PB+KdzwJ14hEJuXLRB8LQEQv5VjEKRvWjAoGqdwOKxgUKwI4hCPimrwOD3SUK+2BBCks23QGUVxUFKCmpCkk2ZQUuajkKXFkpCxfQpQjaIgEEEfd5BBieXQbRAQcEm6qdB9UZMQiOfkz5I2hlCQaGWv+e7HkKbJH3AkM/6wBSwKkKHG1FCjlxDQutfgUIcm0lCDWJRQcaYZUJaZ2ZCdBDmQFI/I0Lq94LBktsXQiF2okB5ck9CiBMzQiMYSELmF05CPJY1QkDAD0LaCthBlmqHQmYZCUFEObJBsoknQkq0i0K+p4BCpAWHvyXnDsHWt45CnY/8QTFTTkIZn19CCTpNQhhbi0HG2bpBQ/V4Qkh6jUJHImFCYjZBwVgZDEKxpHBCLxhxQlHfRcK9jVpC7SECQrOPLEFfBFZCCvBMwIpehkJPiRBCuxY8Qjwemb4W+VQ/cZb3wDurQ8BcBZFAukcCQt5SLkFh8WRB33IzQsYoL8INehhCReWzwLbQeUII6SdCaeSeQPHWLUIH+KfAw4R+wddMx8EsCJpARy97Qip7k0GB4JZAnE/rvh2NQkIibw2/EJFswTRgUEJPqLU+ANtRQsb0X0Kh/ZBBk5aowB3aEUHWKRtChoJMQtBeKkLKdklC1iBnQm4OqMCUesVBTiSEQXCuNUJoBC1CEhhFQmz9JUJkjWJCF2Q8QpPJ0kExcVpCTRbewMlAekJKDYVCGK5OQpKagkJB+YtCRpggQmGkZ8I4sAVBCOEQwsk8TkIgjZ/AO0pwwUJ1qEDCukpCQ/PqwfA+RELAxDtC159sQSWNoUALVZ5AQ9NGQmjZjUGLziPBz2SNQtjdikL9+JXB3oOBQsVtY7+H2y1C3V6IQl/xSULiru9BfeGmwMNcTkKuIpJCFu94QZfLS0JbT1lCISRnQjXsHEIA+wJB+us1QkmWSkJQA6tAwrMrQnp8S0Kol8NBubw7Qle7YUKUW3DBqE4hQeojtEFpQK9Bi8cJQXEesL58TRFB3VsPwb+UqL8mO1lCSQxUQtaIEUKo4he/CdEyQs++JUK/u4NAU/AIQsGHH0Jbc4FCaiMtQmwCkkEQRLhBNLUMwtQ6K8HhT5RBd4qNQh8B50D0+QRCXVEnQmdiKcJ7XthBEDiEQtWWjUFnKpJBzWAmQm+apEFmD1xBVw+DQoG9p8ADxMrByiuOQhhfCcFNho1CnesYQkqXZkEcTgJC9IldQo7Jt0G61cNAxslsQSLtjkKQFBRCAOxgQqDg1EEeGajAVPoaQrvsgUGWZE9Cyj9kQrLQ5EH6/11CZkfcQZ0bPkGDTo9CHxq1QCwIVMIdKt3BAP3SwNovEEIiSRtBqhcGwse1u0AIAbrBqhMtQoY3IkIjZQTCfgXpQRcKpMHtwtpBiswxQk8nRkLdvUxC5wxyQtBlucBf6cRBqYXEwKIjWkLlR37BogbFQc98EUJpQlVC13KCQrIBF0JNPGZC+0ERQk0gVEJsm6zBj3nXQV0FSUKQbcdAmakXQjV7NkJRGi1CY9IQQn8UGkID/RJC4E5Nwe+CTEKvzlBCVksFQqwhcUKjA4rBNkKEQvnyKEKbRIJCILiOQnQfskF08zPBRYCXQKiGA0H9knxCyVVLQpTlYUKioYNCvviSQE8gQkEiB0BB704awIUeFcH4WdFBOjhjQnTrhUJnoB9CICcBQsQJCkHtmLDBBpTjQepzor+FJzpCP6OHwM+UhkKh84BCeRbPQXf/mkGwQYNCBfZFQmY8zMH9KXVC4luUQXuccUH/w9RBVJryQPtEMEKgNKi/GKKbQVNkGkG9g1tCAkbRQckuZkKV9YVCF/jxwfQ1PUGAE99AlqZnQlchq8FIV2RCiXrnQE46a0G+7KNAWllbQDLRZ0IFm11CRnE9QTrvJ0KVpopBr1pewiTYXkJSOm5BzEk8QqsOGsGrWFhCQ7+IQn5OEUKUMivB/y9OQq9iEUI8tYJC8StKQleUdkLjKSFBv9JnQurKsEHAXUtCguxoQi9i6EH7hzZCiLCLQlhFN0JTWmxC8dBmQtDbrUEwtWRCralMQqG3ikIZq1FC7KzjP1DncUIUOBJC/L3hQUyMaULxF7NB/FgMv12uVEDnvtpBwaW3QF1VFUFida9AK1gGwnUkQULxeZpAv8w0Qmh8LsH4H87A+eEjQhRsd0KQrBvAVf7YQRpfgsEIUYHBnoi2Qd47PELu+qLAR4gBQpMe0EEXSUjBEvwzQiC1EEIbRYw/VjijwJIwtEGQCZC/unCHQhjdQEL8VkFCSqbXQU0M/j/b9XtC1/lGQmvQdsH9+FdCxidjQkwl3r/NyVtC3j0+QsU9FkLTiOa/K6xDQi/OjEJpQ28/GEM2QqU8V8EOdTBBbYgWQjoSfUJCaoJCzwgOwpv/+0GokjNCrZJ4QakG3UGwPmBBt3qBQt7810GgMl9CsitVQO9fTr9KSd1B2XpIQiVP/kGxBc9B6UZqQlcve8HYtR/CliAUQrBV4EHOLGFC62bVQLaVfULwyIpCGgwDwYj2j0IRol9CSpdRQvPUmMCTUyzBrCFxQi9vi0G2XsbASc1QQmCofEJRFo9Cd70rQdhwwD5xceJBBotzQZgud8EXrl5BU+aVQb1D2EG0JVBCZVOAQhAWgkLQdDlB200Yv5C9OELsRWZC4TbhQCQmXUGaIolCGPpBQmbheUIlSFTCR0oCQqJ1V0I5XGU/BvFaQXXcOELO8xZC/6dNQs6+J0LdGURC5eUfv05DH0FwD5JCEW5DQcSzmkHpfQzCNPktQlH6QkJbR0nBHDwnQdzFoEBOo0tCSyJlQqLiN8LqwCxBzBCCQU0LgEKFtQBCC30aQvFzK0LnaENBsIp1Qtwxy0F1krhBhQU2QqWhm0CauL5ACCM8QkyY00E5SBRCFhRtQB1sjEKyHFdBcPLzQIDYW0H60YVCLYyIQpEBF0LVgVdCpAtcwRWWlD/HFVRA1XyCQmGqzkH7GZBBSyKCQqgA4UER6zfAANlXQbaVI0IqwmhBaOSNQsjPd76Z1eBBFEnAQXG/zkFTPu9B0cGEQlP4YUKzj3pCm3k6v/yD4EEWV7ZBsZU5wjApnUH3R7lA5bSsQSa/mEHF22PAh6RHQhcW1UAnbX+/3dXDQdTIocBj019Cma5NQu2T00GY+15CnbwEQh/dJEJgO+VAT+CTwH9AJ0KpIeNBTAIyQkO7RELKUoXA3014QrUGSUI6TAlBHSxGQkOXakH4p/dAMHrJwXJ1dEG2MVZCzkQeQtKkcEJDnRBCv8NkQnfKP0FKNVhCvNRoQMJHR0I64uNB84mswa0U7EEdXnrBbY9JQuTfkEIALXZB3EuEQuv7jUIL6y5C7kH8vtmpSsKK44RC0uWAQlEJQUIwx39CBAoWQonXxr9lY21BELLPQX+hwEG/sehBPXOnQVs/LUJzVEhBijiLQcWhD0LNCw7BpRVqQrpmTkIMeJ6+kCnsQfVvZULkmmRC7EaCQvS6hUI7AjtB4JHzQXZYJkJ5wRw++ASMQhwKgEL+xyRBxAxrQqTO7sGIpGdCGARQQpxee0L57m5Cw64SQeI/aEK+dCRCCAEWQrKvgED5xunB9/t2QuQ+tUGS9lfC9ucHQt4BJ0DjdHdCTpA8QmLbikJ1EYBBiTRAQlD/K8IOsIJCU4FvwUcscMJzdadBtjmDQhpRv7+G4SdCGH8kQsuzaUFWbWxCgn8LQFt4qEBuKGVB31ZgQjs0fUH4oUJC5aRQQjPJbMKQOa9A1LqEQoOabkI/CYRCqJ1sQokx80FXF2NCDg2Ev3BqvT9wLYNCzESBQh7AX0C92jBCCJpfQhB14sH/mTtC+RoWQufuNUGKLhpCPyh1Qq0OFkKlqWxCojkxQvl6hEIoLHNCbOR3Qkn8bEKWZAhCTEchwV3pgUKCoqW/0l6LQiR/mL/6z6XA15sBQge9DkIkfg5CYMEQQmuIvb7FKhhCtmRLQqqeZELBeF1CAIt/Qkm0iECdMJFCT9J4wFyOcEKKf0xCC0nyQZngusFp8VxCsyEsQr8RosCmAgZBMFzwP6TKOELbGb2/90SpQUvblMAFXYFCJ7eYQSFCFUIl2bPB/XqCQoAm5UFlYGtCQCBhQUAIbEIO5oRCFkIyQlmiCMLI1+NB6VWZvgzxZEDHaD/BWG6CQpPSD0JJ6qpB4pQLQuiJT8BeiE9Bo0ffwHgKg0LbqE1Ciuu2wZalUkKdRyxCSf5BQpgCPULneSVCjpLLPceEVEIj/RNBg7LowA6tAEL2TItCC1KEQo3v2kGsYBxBxmc2QtdgXULEDEdCnoouQfGrQ0J7UnlC/bN7QjSgdEJnCYVC44ABQrLl9UA6nyBCpmBZQbMeQ0JDxzpCCs1YQrv2wUHsVsZAKO+CQqhaE0ESTDhCrsRuQh52W0FnBixCYVWQQtJN1MF530tChLN2QaapcEIzSWxCU1pkwe3h+kE20ehAEqSHQmZvNUEeb2ZBmmdmQtKZAcEZDVJC2xxXQluhMEJ/b1lCyGBEwYf2osCK4ibBed1rwOl4OULJQIHAk8N1Qi4YMUDCmdNBaU/SwIt4ZkIwco8/zgssQkd4rsFNhWFAzgwwQpFGjUIzuZnA4Xk7Qppc0r8Syx7AQEvFQUXBTELQNYJC6ZJIQdbBO0GotGdCMiEcQIClxkAkSX1C0mUuQhoRJEEYJ4tC8Q5iQXyvSUKEbuHAKhAbQnKgij8sPERCgBeAQeGEV7+pPjHBqBREQj/DnsCe+QFAJMaBQsnZj0HkoytCg61jQo1/hEIz+DvAcqnqQdkooUEITwZCna23QWI32EHO901CjIT/QTcDA0IVfwJBEBKIQZzZgkJVESLAs75PQiwiEkIr67RBoZNVQgM1hEH6EWFBTO0BwTGWuMG+nw5C2qyBQo0PuUGlaTRB1tpiQZxFSELYkERCYvm4QKs3j0JvVIhBcIMMQmDt30H8GOC+MSAoQfarF0J+UYJCbYEyQfrAWEKkqelBmkS+QZibn8CTExpC0sxjQZOBV8FVQXVCeQRyQt4zQ8HXWolBvI7iQQjgUEJ4jy9BftBWQrWQJ0F7bQlCI+2UQOPudUJLCYxCTSzbQRnarUGW905BVuaDQvFoZEK3HgpBcEs3QlAkUUIgGCJC7ShXQrSPKULlRZXAmpYbQlscK8D7pANCXHoXQlGReUIYq1BCN2poQUjaJ0KjaP/Am0s1QvLkM0IJXVBCgWVUQpJOhEIuO05CHJztwS/2QUJAkYFCYL+AQtkcfkJc2GVCcUICwPKK2UGfPW1C16d3wZ4Vb0IONMvBtqFswFxUC8E/yKFBq54+wfEqA0LQ4yxCetLXQV+dM0J5G49CGsVFQdyGT0K25D/AUcApQQ7bsUFj7HVCw2GjQQxT90HSDolCu4KtwZnrVkEEl49BXIZLQugPJkIq0BZAd8AAQlqAd0IioolBXc4QQKg8dUJRnIY+69YnQvJiYkLIT2VCGY2Cv/MIP0LRHiI/6ZzjQDWbsMAq6SNCTtaRQITyhULERRhCd4kTQkFahULLJIVCGeV4QmWLVUKBKorA8/kNwr6aEUKkK0XC/MmjwDYS40FRW9BB68nUQekpNELHjoJClgeyQSKgkUFizztCSoYoQhZBJkLkivpBgoS9Qf4KDMHl+lhC008zQrkkyEHZqKnAU4CQQJ7wl0Fr6FlCCw5/QoIy6EFc7qBAmm3wQY/yW0JAJwdCNzNvQlZNoUHtU7TBUoW2Qbet0MBfGf9AqwRMPgo2TsA=",
          "dtype": "f4"
         },
         "xaxis": "x",
         "y": {
          "bdata": "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",
          "dtype": "f4"
         },
         "yaxis": "y"
        },
        {
         "hovertemplate": "class=3<br>x=%{x}<br>y=%{y}<extra></extra>",
         "legendgroup": "3",
         "marker": {
          "color": "#ab63fa",
          "size": 3,
          "symbol": "x"
         },
         "mode": "markers",
         "name": "3",
         "showlegend": true,
         "textfont": {
          "size": 25
         },
         "type": "scattergl",
         "x": {
          "bdata": "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",
          "dtype": "f4"
         },
         "xaxis": "x",
         "y": {
          "bdata": "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",
          "dtype": "f4"
         },
         "yaxis": "y"
        }
       ],
       "layout": {
        "legend": {
         "title": {
          "text": "class"
         },
         "tracegroupgap": 0
        },
        "template": {
         "data": {
          "bar": [
           {
            "error_x": {
             "color": "#2a3f5f"
            },
            "error_y": {
             "color": "#2a3f5f"
            },
            "marker": {
             "line": {
              "color": "#E5ECF6",
              "width": 0.5
             },
             "pattern": {
              "fillmode": "overlay",
              "size": 10,
              "solidity": 0.2
             }
            },
            "type": "bar"
           }
          ],
          "barpolar": [
           {
            "marker": {
             "line": {
              "color": "#E5ECF6",
              "width": 0.5
             },
             "pattern": {
              "fillmode": "overlay",
              "size": 10,
              "solidity": 0.2
             }
            },
            "type": "barpolar"
           }
          ],
          "carpet": [
           {
            "aaxis": {
             "endlinecolor": "#2a3f5f",
             "gridcolor": "white",
             "linecolor": "white",
             "minorgridcolor": "white",
             "startlinecolor": "#2a3f5f"
            },
            "baxis": {
             "endlinecolor": "#2a3f5f",
             "gridcolor": "white",
             "linecolor": "white",
             "minorgridcolor": "white",
             "startlinecolor": "#2a3f5f"
            },
            "type": "carpet"
           }
          ],
          "choropleth": [
           {
            "colorbar": {
             "outlinewidth": 0,
             "ticks": ""
            },
            "type": "choropleth"
           }
          ],
          "contour": [
           {
            "colorbar": {
             "outlinewidth": 0,
             "ticks": ""
            },
            "colorscale": [
             [
              0,
              "#0d0887"
             ],
             [
              0.1111111111111111,
              "#46039f"
             ],
             [
              0.2222222222222222,
              "#7201a8"
             ],
             [
              0.3333333333333333,
              "#9c179e"
             ],
             [
              0.4444444444444444,
              "#bd3786"
             ],
             [
              0.5555555555555556,
              "#d8576b"
             ],
             [
              0.6666666666666666,
              "#ed7953"
             ],
             [
              0.7777777777777778,
              "#fb9f3a"
             ],
             [
              0.8888888888888888,
              "#fdca26"
             ],
             [
              1,
              "#f0f921"
             ]
            ],
            "type": "contour"
           }
          ],
          "contourcarpet": [
           {
            "colorbar": {
             "outlinewidth": 0,
             "ticks": ""
            },
            "type": "contourcarpet"
           }
          ],
          "heatmap": [
           {
            "colorbar": {
             "outlinewidth": 0,
             "ticks": ""
            },
            "colorscale": [
             [
              0,
              "#0d0887"
             ],
             [
              0.1111111111111111,
              "#46039f"
             ],
             [
              0.2222222222222222,
              "#7201a8"
             ],
             [
              0.3333333333333333,
              "#9c179e"
             ],
             [
              0.4444444444444444,
              "#bd3786"
             ],
             [
              0.5555555555555556,
              "#d8576b"
             ],
             [
              0.6666666666666666,
              "#ed7953"
             ],
             [
              0.7777777777777778,
              "#fb9f3a"
             ],
             [
              0.8888888888888888,
              "#fdca26"
             ],
             [
              1,
              "#f0f921"
             ]
            ],
            "type": "heatmap"
           }
          ],
          "histogram": [
           {
            "marker": {
             "pattern": {
              "fillmode": "overlay",
              "size": 10,
              "solidity": 0.2
             }
            },
            "type": "histogram"
           }
          ],
          "histogram2d": [
           {
            "colorbar": {
             "outlinewidth": 0,
             "ticks": ""
            },
            "colorscale": [
             [
              0,
              "#0d0887"
             ],
             [
              0.1111111111111111,
              "#46039f"
             ],
             [
              0.2222222222222222,
              "#7201a8"
             ],
             [
              0.3333333333333333,
              "#9c179e"
             ],
             [
              0.4444444444444444,
              "#bd3786"
             ],
             [
              0.5555555555555556,
              "#d8576b"
             ],
             [
              0.6666666666666666,
              "#ed7953"
             ],
             [
              0.7777777777777778,
              "#fb9f3a"
             ],
             [
              0.8888888888888888,
              "#fdca26"
             ],
             [
              1,
              "#f0f921"
             ]
            ],
            "type": "histogram2d"
           }
          ],
          "histogram2dcontour": [
           {
            "colorbar": {
             "outlinewidth": 0,
             "ticks": ""
            },
            "colorscale": [
             [
              0,
              "#0d0887"
             ],
             [
              0.1111111111111111,
              "#46039f"
             ],
             [
              0.2222222222222222,
              "#7201a8"
             ],
             [
              0.3333333333333333,
              "#9c179e"
             ],
             [
              0.4444444444444444,
              "#bd3786"
             ],
             [
              0.5555555555555556,
              "#d8576b"
             ],
             [
              0.6666666666666666,
              "#ed7953"
             ],
             [
              0.7777777777777778,
              "#fb9f3a"
             ],
             [
              0.8888888888888888,
              "#fdca26"
             ],
             [
              1,
              "#f0f921"
             ]
            ],
            "type": "histogram2dcontour"
           }
          ],
          "mesh3d": [
           {
            "colorbar": {
             "outlinewidth": 0,
             "ticks": ""
            },
            "type": "mesh3d"
           }
          ],
          "parcoords": [
           {
            "line": {
             "colorbar": {
              "outlinewidth": 0,
              "ticks": ""
             }
            },
            "type": "parcoords"
           }
          ],
          "pie": [
           {
            "automargin": true,
            "type": "pie"
           }
          ],
          "scatter": [
           {
            "fillpattern": {
             "fillmode": "overlay",
             "size": 10,
             "solidity": 0.2
            },
            "type": "scatter"
           }
          ],
          "scatter3d": [
           {
            "line": {
             "colorbar": {
              "outlinewidth": 0,
              "ticks": ""
             }
            },
            "marker": {
             "colorbar": {
              "outlinewidth": 0,
              "ticks": ""
             }
            },
            "type": "scatter3d"
           }
          ],
          "scattercarpet": [
           {
            "marker": {
             "colorbar": {
              "outlinewidth": 0,
              "ticks": ""
             }
            },
            "type": "scattercarpet"
           }
          ],
          "scattergeo": [
           {
            "marker": {
             "colorbar": {
              "outlinewidth": 0,
              "ticks": ""
             }
            },
            "type": "scattergeo"
           }
          ],
          "scattergl": [
           {
            "marker": {
             "colorbar": {
              "outlinewidth": 0,
              "ticks": ""
             }
            },
            "type": "scattergl"
           }
          ],
          "scattermap": [
           {
            "marker": {
             "colorbar": {
              "outlinewidth": 0,
              "ticks": ""
             }
            },
            "type": "scattermap"
           }
          ],
          "scattermapbox": [
           {
            "marker": {
             "colorbar": {
              "outlinewidth": 0,
              "ticks": ""
             }
            },
            "type": "scattermapbox"
           }
          ],
          "scatterpolar": [
           {
            "marker": {
             "colorbar": {
              "outlinewidth": 0,
              "ticks": ""
             }
            },
            "type": "scatterpolar"
           }
          ],
          "scatterpolargl": [
           {
            "marker": {
             "colorbar": {
              "outlinewidth": 0,
              "ticks": ""
             }
            },
            "type": "scatterpolargl"
           }
          ],
          "scatterternary": [
           {
            "marker": {
             "colorbar": {
              "outlinewidth": 0,
              "ticks": ""
             }
            },
            "type": "scatterternary"
           }
          ],
          "surface": [
           {
            "colorbar": {
             "outlinewidth": 0,
             "ticks": ""
            },
            "colorscale": [
             [
              0,
              "#0d0887"
             ],
             [
              0.1111111111111111,
              "#46039f"
             ],
             [
              0.2222222222222222,
              "#7201a8"
             ],
             [
              0.3333333333333333,
              "#9c179e"
             ],
             [
              0.4444444444444444,
              "#bd3786"
             ],
             [
              0.5555555555555556,
              "#d8576b"
             ],
             [
              0.6666666666666666,
              "#ed7953"
             ],
             [
              0.7777777777777778,
              "#fb9f3a"
             ],
             [
              0.8888888888888888,
              "#fdca26"
             ],
             [
              1,
              "#f0f921"
             ]
            ],
            "type": "surface"
           }
          ],
          "table": [
           {
            "cells": {
             "fill": {
              "color": "#EBF0F8"
             },
             "line": {
              "color": "white"
             }
            },
            "header": {
             "fill": {
              "color": "#C8D4E3"
             },
             "line": {
              "color": "white"
             }
            },
            "type": "table"
           }
          ]
         },
         "layout": {
          "annotationdefaults": {
           "arrowcolor": "#2a3f5f",
           "arrowhead": 0,
           "arrowwidth": 1
          },
          "autotypenumbers": "strict",
          "coloraxis": {
           "colorbar": {
            "outlinewidth": 0,
            "ticks": ""
           }
          },
          "colorscale": {
           "diverging": [
            [
             0,
             "#8e0152"
            ],
            [
             0.1,
             "#c51b7d"
            ],
            [
             0.2,
             "#de77ae"
            ],
            [
             0.3,
             "#f1b6da"
            ],
            [
             0.4,
             "#fde0ef"
            ],
            [
             0.5,
             "#f7f7f7"
            ],
            [
             0.6,
             "#e6f5d0"
            ],
            [
             0.7,
             "#b8e186"
            ],
            [
             0.8,
             "#7fbc41"
            ],
            [
             0.9,
             "#4d9221"
            ],
            [
             1,
             "#276419"
            ]
           ],
           "sequential": [
            [
             0,
             "#0d0887"
            ],
            [
             0.1111111111111111,
             "#46039f"
            ],
            [
             0.2222222222222222,
             "#7201a8"
            ],
            [
             0.3333333333333333,
             "#9c179e"
            ],
            [
             0.4444444444444444,
             "#bd3786"
            ],
            [
             0.5555555555555556,
             "#d8576b"
            ],
            [
             0.6666666666666666,
             "#ed7953"
            ],
            [
             0.7777777777777778,
             "#fb9f3a"
            ],
            [
             0.8888888888888888,
             "#fdca26"
            ],
            [
             1,
             "#f0f921"
            ]
           ],
           "sequentialminus": [
            [
             0,
             "#0d0887"
            ],
            [
             0.1111111111111111,
             "#46039f"
            ],
            [
             0.2222222222222222,
             "#7201a8"
            ],
            [
             0.3333333333333333,
             "#9c179e"
            ],
            [
             0.4444444444444444,
             "#bd3786"
            ],
            [
             0.5555555555555556,
             "#d8576b"
            ],
            [
             0.6666666666666666,
             "#ed7953"
            ],
            [
             0.7777777777777778,
             "#fb9f3a"
            ],
            [
             0.8888888888888888,
             "#fdca26"
            ],
            [
             1,
             "#f0f921"
            ]
           ]
          },
          "colorway": [
           "#636efa",
           "#EF553B",
           "#00cc96",
           "#ab63fa",
           "#FFA15A",
           "#19d3f3",
           "#FF6692",
           "#B6E880",
           "#FF97FF",
           "#FECB52"
          ],
          "font": {
           "color": "#2a3f5f"
          },
          "geo": {
           "bgcolor": "white",
           "lakecolor": "white",
           "landcolor": "#E5ECF6",
           "showlakes": true,
           "showland": true,
           "subunitcolor": "white"
          },
          "hoverlabel": {
           "align": "left"
          },
          "hovermode": "closest",
          "mapbox": {
           "style": "light"
          },
          "paper_bgcolor": "white",
          "plot_bgcolor": "#E5ECF6",
          "polar": {
           "angularaxis": {
            "gridcolor": "white",
            "linecolor": "white",
            "ticks": ""
           },
           "bgcolor": "#E5ECF6",
           "radialaxis": {
            "gridcolor": "white",
            "linecolor": "white",
            "ticks": ""
           }
          },
          "scene": {
           "xaxis": {
            "backgroundcolor": "#E5ECF6",
            "gridcolor": "white",
            "gridwidth": 2,
            "linecolor": "white",
            "showbackground": true,
            "ticks": "",
            "zerolinecolor": "white"
           },
           "yaxis": {
            "backgroundcolor": "#E5ECF6",
            "gridcolor": "white",
            "gridwidth": 2,
            "linecolor": "white",
            "showbackground": true,
            "ticks": "",
            "zerolinecolor": "white"
           },
           "zaxis": {
            "backgroundcolor": "#E5ECF6",
            "gridcolor": "white",
            "gridwidth": 2,
            "linecolor": "white",
            "showbackground": true,
            "ticks": "",
            "zerolinecolor": "white"
           }
          },
          "shapedefaults": {
           "line": {
            "color": "#2a3f5f"
           }
          },
          "ternary": {
           "aaxis": {
            "gridcolor": "white",
            "linecolor": "white",
            "ticks": ""
           },
           "baxis": {
            "gridcolor": "white",
            "linecolor": "white",
            "ticks": ""
           },
           "bgcolor": "#E5ECF6",
           "caxis": {
            "gridcolor": "white",
            "linecolor": "white",
            "ticks": ""
           }
          },
          "title": {
           "x": 0.05
          },
          "xaxis": {
           "automargin": true,
           "gridcolor": "white",
           "linecolor": "white",
           "ticks": "",
           "title": {
            "standoff": 15
           },
           "zerolinecolor": "white",
           "zerolinewidth": 2
          },
          "yaxis": {
           "automargin": true,
           "gridcolor": "white",
           "linecolor": "white",
           "ticks": "",
           "title": {
            "standoff": 15
           },
           "zerolinecolor": "white",
           "zerolinewidth": 2
          }
         }
        },
        "title": {
         "text": "tsne reduction technique. Visualization of Image Embeddings"
        },
        "xaxis": {
         "anchor": "y",
         "domain": [
          0,
          1
         ],
         "title": {
          "text": "x"
         }
        },
        "yaxis": {
         "anchor": "x",
         "domain": [
          0,
          1
         ],
         "title": {
          "text": "y"
         }
        }
       }
      }
     },
     "metadata": {},
     "output_type": "display_data"
    },
    {
     "name": "stdout",
     "output_type": "stream",
     "text": [
      "Reduced embeddings from 384 to 2\n"
     ]
    },
    {
     "data": {
      "application/vnd.plotly.v1+json": {
       "config": {
        "plotlyServerURL": "https://plot.ly"
       },
       "data": [
        {
         "hovertemplate": "class=0<br>x=%{x}<br>y=%{y}<extra></extra>",
         "legendgroup": "0",
         "marker": {
          "color": "#636efa",
          "size": 3,
          "symbol": "circle"
         },
         "mode": "markers",
         "name": "0",
         "showlegend": true,
         "textfont": {
          "size": 25
         },
         "type": "scattergl",
         "x": {
          "bdata": "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",
          "dtype": "f4"
         },
         "xaxis": "x",
         "y": {
          "bdata": "STkqwkjZs8GmNAnCaQKmQBzr4MFMiVnCZI1cwggDgcH/hunBHfulwQ5KI0HEoA7CbhRqwqIxbcKnH1tB1bNEwjTJ6sHHJQrC5TQ7wuK6C8LRX6XBz/5uwXw9OcLxTMfBJA+kwR5e/MHMV0hA1+Rnwvku2MGKof7BWyhNwlmRp8HhbnLB/vN7wYSfX8JnokjC3lSXwTo3CcLQCujB7Vc7wkNDYcL4XSPCO1FewtpB0sG92rbBRWoDQSLhQ8K5HBbCFT+xwZEwbUKwaXfCT4Nbwp5IYMLD3FHCxzQAwkIN1MEv2DjCX5hXwi8WZMH3uUXC6pwUwTxnnMEmpifC7iiVwa/+NMIuIPbB8lN1wk5DGsKhJXTC1fsGwrf5ccJvkU3CWbYowvWRT8INrirCcemrwcK+FsKO1XxBqU82wjNPQcITbJFBBEObwRgDC8Fq+nfC7g8VwmYYM8JOXU5AJrx4wYMmXsKYn3TCkz8IwrZ4gMKRAkfCPsJ2ws/e38FEvNTB2cUswn7MVMKa60PCYGoSwoWDFcKHvzPCo69RwlmF48FqLd5AeVh3QoRQcMIcpx7CEHPbwdMS8cHTPzfCZaZ/wpNPecI1xZZBCHcTwm/lBcJ0N9TBZ3lowh2FwMGpSOvBQGHEwZwgYMK1wW7Be1wDwhicscFZ5xvCJGEhwoJ+B8KzSc7B6ekIwiZ+CsKz+jFC3P0MwvCkSsL4CXPC1Yq1wRplMEFpLHjC7NFzwVtDM8JaOLPBCdIswrNfssEjCWDCEBSewHWEUcHbtR7CXecUwpyNKcLM8i3Cy3mzQNCJqEFMsVfCRmkPwnZCDMJ/GkfCsQ0lwjExJ8JdbbDBwR9bwg64gEAdRETCI28OwhzQisEb5hvC/lLVwdDkdsIhdobBbLYiwtDNDMKDZUrCi/h7wi1OKsLZ2ue/K5YHwupgDcLOvxjCGKYcwpmywsHQSoDCYBEnwjOLWsLOsE9BZ84kwp0UQsJZaK8+hfSjwReey8Ei88fBM+wTwsvM08GylzzC37DQwUENmsFGLtjB0C9zwexyE8I08qTBy2lzwqPWYEIA7gDB+8FwwoRLMEDzh0zBqlC9wWrj9sGrfdvBv+pKwnlTT8JU6H3BN9AQwrLdwcGNHXLBX0cwwtcsCMIMNGfBEOqqwXB2LMLXOQPCzUa2wY1KPMLls2HB12tUwde1FMFI1WrCGvWpwaqTOcLjohPCc0ptwl0lS8KUXWHC5ogBwnhBiz5nGf3BtiF4wnx2S8KCMw7C8HATwi2ILMKR4F3CTqdKwosxDcL5PWfCvaMNwhhG7cHPSSTCLrlWwn+bbMIyzhXCrVvzwTNx4MEs4KpAmP8fwnp05sEFP4fBnEIwworbKsJG9PTBWw8cwiBglkEaMUfAIAdZwk+G3sEHkm7CC63FwVaeHMInnHjCjKxnwqToJsKGdILCiE20wVj0FcEl8/3B+PoBwj+aDMJ9TZ7BcsZ6wtVYIcInnGfC2AZjwYhgB8LYs0rC48Yzwn8rFML/pDTC3HaEv3UaQsLgnULC10Lswfvp8sFQeejBhJVPwm1LQcI4QRLCLQbjwaIAAcJk3ybCnw+XwUrmMsIVjiTCcdECQpw3c8IQy0fCLhsXwih2gcI1qDHCiqNFQc9RD8FvxsbBD3/awRGCCcK1vcbBrlIiQNeh1MG/0AbCJiaowZ9QM8IYhtjBTzNcwtJhKsItzKrBSxuAwphhI8JSx63BUTtowiRcgMJ91RPCWmtcwrB7w0EHJpfBK8g8woH808BiQw/CirGEwhR2DMIlVQHBR8XqwUCPYMK7EHBCuc4RwuaTcsFs5qFBOXM0wtqRosC0SCnCyMfYwSDHMcJR+FrCtqZDwjtPYsJr3SXCBxdLwuRoWMLJJzXCczlawjDy8cHsLlDCQR1fwpKUzMHZ6A/COE9UwoO7NcKrn3TC32sPwoecgsIkgQLCq2SvwEfhJMKIJl7C0U8BwjVNXEG2vS/C/iFwwkQKB8KhDtXBtvcPwqJsM8L32RjCfbTywXB0R8Kq/obCrWN8wk+qDcIBaC/CWznswb+5eMJNTdvBKzsbwvAjGsLVwyTCiBDcwb3LesFatNHB5IQ5wn9w/8G5BAHCUvZkwhKs/ME7oP3BjZ8awhXBCMIhiDbCmCIkwhYvJMLTkuLBMnZSwsGlsMFY7NjBvM8WwpDCQsJM5xXC/YbdwWG3dsKI29rBBqD0wU/SesLeDHXBVuyewXW1SMJBGV3CXAlxwTdtRMLktJ3BjbobwR0hcsLhbx7Csv2AwcK9T8I2ta/BPINdwnu0X8EmPBTCw11GwjcuDcLFaQPC9O5wwqAOZcLVW/rBjqpbwU7sfEG2HybCa4u0wW8fQcIeljDCSqXDwS75asKO3ULCELd1wrov88HBnHzCzPm0wZl+QsLjoFHC7eiuwWxD+MHsc3/CBZcowr8DtkH80LXBi09FwZ0jCMKlwmrCduyAwrGoyj9Ztx3CBQtAwWC93cEvQyzCrEkLwfV4kcEgrBzCf0MXwrNuKsKWqH/CCg/TwZ4mf8Kp5QrCS1kbwi0qI8JJzDnCwsitwQHhIkF8AkbBUZgNwmk7kcFV1SfB1nZKP2TNB8LJmFDCa7kzwsP3CsLuAjbCwtNxwro3ZcI9MEPChe55wbp9JsKIPMvB4wAcwndgH8J7AYDCIrqswahmsMHJxLPB2mADwicPmMEocnnCNN5dwhh/E8LwpxrCHc8vws+ZhsFqqrfBl1+WQeSwOcLbDlfCF0Ikwthv+cHiVX3CIQs1woibcsF8zA3BclQbwnP2NMKYpVXCBi2LwWb6JsFGfXzCbj+DwgGpEcLiu9jBy29IwrtUKMJ+81PChE4Lwp7pVsJ+mYLAxDP9wQ3dbcKU0UXCmeAbwkC4ScL7b4jCack3wpAvHMKrD2XCvnw2wvgDtsF50i7C/WvxwVfZ4UHxL5HBO/YEwlOlecL25X/C1Vu4wTbjE8IeSkbCszOVQMlMUMJwtczBHsnYwVUXHMLxS0fCq+gWwmgWmsELJkbCWZQywttJasLepN7BFxwLwt2Uw8FBH6PB19h6wdYQ0UH0wHnB5wZQws+X5MFrKjzCKiCGwYmN2UFWXp7B+MUlwuq+FcJrWj7C6SbdwSnJcsERSxnCz5msweuGTsEzLbTBCvtqwvjWKsFi9xXCVrQdwlkz5sHdlXDCX0B4wp7R5sFm9sXBqw8Kwh33QsLdvZzBLZ38wZCUtsGy1xTCetDlwWb2ssHd4+fBbkJgwqacKML0ixzC5ObrwUWqicF6CEbCNDPrwd3zB8JndhHC5VNowvzZv8EAXi3C55dfwoRAX8L6qvHBl8S5wdEvaMIKE1XCcIojwvMtQMIwqszBG6Y/woz/BMIc1dLBGOLKwdA/gcJmZ3TCZ1DbwRnxBcLueSjCBBVDP9apY8L/7i7CSLFbwsM3ScKf79fBFXHfwcCIgsKYOZ/BdcCCwAQmzsGNj37C0f8BwfL+A0IXoKPBxwDMwYJ+C8G4AynCpMidwXeFBMLnOSbCEU5FwqksDMJHCSnCaNMywruwXcJCm/HB9m5PwrLO5UBIZwfC/7SqvQ9o+MEFk2HCvb4KwhGHGMJHhhHC9nVrwd553cEUlgDCvnz+wQDvLMIb50PC2eFGwm7swsEU4QfCy+eTwZAKRUFl8kDCKYBawo6wE8L4LU3C74vVwdiQ2cGOCnPCmhz+wdX7LcKpB4HB9ghmwhugXsJO+EbCRToiwnWGsMHnOjrCO5S+wboD7cH6GF7CqxEbwkcwesJLiozBUSaSwWrEEMITax3CzREIwvNMZMKlgzPCvCCYwQM1sME7rwjCZRARwswjY8JM4X3CeKdcwT+1HcLUghPCsdsvwjYFqMEhJB+/ddeBwsLQd8JLytHBj/44wpsmaMKmLCTC/JhTwr2XX8LySD/C2j1OwfIdNsLfYNrBDMbgwdpoQ8KJ8AnCxC9ZwkWpJcKR1hZCHVQ5wvMKx0HVtRvCQcvPwUddGcIMpzTCOrEXwjWhNcKRNEbCouh1wje1CMJrO0DC+cLcwcw9S8ISPSPCDSxmwhQ/FMKpekPCNZPIQVMuQkCkKN7BEHDXQF1yCcLxdGvCD+IswtvTyMBxRibCWpcUwlIQccLRg01BmxZ7wj5WbsLErgbCmr7kwf+Z3sFw1oHCPjdBwuUiE8KMWrPBnbm7QQlBsMFqhkM/XoZ7wnCD/MFromzB4OoYwpXiJ8IXcQHCoL3cwSGaoMHLeP7BSDtfwv4dFcIm+vjBxePdwG7HOsKmWyvCYgbowdJjlMFhrAnAnkzCwfQOCcILrwfCwFROwtaJVsIS4vbB42Eowg75esLJO1vCRKkfwqB7isF2eXbBMaxewpRoVsLTJ4DCyOotwpGK0sGyQVnCBi1gwgr5KsJ80p3AcHFcwpSnDsLQCzfCPWhZwonBNcIu7x/CBvW5wXh8BcJjGRjCjecfwganhcByWrjBiuj+wdx4FsKkpA7CBhjwwW34tsG3V+fBVS4hwp8chcKv0xrCFmIzwt1e7EGuMQnCRdYqwhMJYMLqRmrCSycdwo8LBsIx+z3Cxsm6wdCtUsIhCIvB/hH7QVH0NcJhBzTCGNMvwhoPa8JR6qtAwKpHwewm/MGIP1NBOPr+QWXP08G8B1bCAQt2wtH49cFsElbCQso2wkp/58H7UinCjSdhQnGuPMLIy1XCtJ1LwqSAzMHr1ffBBA4WwZ192sEof1TCVMl3wlFT1sE7L/zBK/ZOwUzcy8GSW4LC+oFrwST6FsL0IFfBFbBowsd9yMFHGIHC9saawaap78F0yGfBy+NOwkLTZ8IAYKrBhJwEwf5Je8Lgm3fCrSOzwK56iMLgHh/CWM5qwkvSJMGQKBHC/24zwnvnJsJ7zwDCuLcYwv/2JMJ8DkHCMmXXwYdrPkIsACfCRvZYwoUqeMIQBADC8ZAOwha/YUJ5UoPCg9Z7wlzeGcJPoWrCKj98wij8WsKRhK3BPGMawtmbsMEbRABCalD/Qd1yisETNXjC6+HaweY9GUGDFhnCdPgfwopsD8IRzErCiCjowfQ5l0Eun97BJd3dwev5I8Ip3WvBHZ6BwhO7DsJfJKTBy/pxwrmobcKhDc3BgFP9wRo3KMI+gVHCIWzXweZKAsKVLo7BJZxnwrHHbcLL69DBQlS4wPETa8KMiy7CSdcywg2FQcLnPWxCEqswwtKfGcKLJWrCcp4TwmwsVMLLnrHBy9+xwXJO8sFcTI3BDqhDwj8bR8EZPrPBKOAmwsgTesItdwPCqihCwqCK+MEZa4DC/UFcQScPL8ISt4DCm35/wmY3v8EqiMTBcoVDwp+sR8Ix1O8/jLljwgwxhsI3s6c+m15FwXLzxsFupGrCIjlqwh8tI8IJbs7B9PNpwuWLcsGmGU1B3+UxwkR+GcKZrrfBhk2kwFWQT8IZ1qHB7tPtwYKQ7sEsd7vBCFQ6wj0K5MEYg/LBBLZqwqKacsJbi0jCklINwja6FsLfilHCi78cwn9sXsKvqRPCMnNewuYJaMK/S0zCFedwwvCkD8K/kkrCJuE6wvOhH8IWJ9LBfiveQFxp7j4MJm3C4vYcwlrgNcLlN1/C+5XVwULVcMLHKfjBNyb/wcglfcIstzHC0B/4wH+NtMH2z0TCIn6FwlQ1esKURhTCU8WgwZK03cEjSc7BssM0wmYWWcKTUAzCoQsxwkok48GHbcvBERAXwo4z78Aj+7HBzZ+Bwr287z7eGoHCUrVIwquUFcL/k3nBnOxlwoCgtz7A4iTCGqslwsJRAsKDRAHC8IsWwgu2RML9ZdnBoKtowmjY+8E7XGzCKbMIwkq27cGNBYDCV0Y6whEvp8GrY83B6G9QwSeZqcHVEmjCwg44whVPZMJMvezAjC5wwnLO3cHoukxBnBAfwhBEtsGtakHCv+FjwvrWFsIUl9bBifXWwdZhX8LTBDLCJ+vBwfM3JkKsJ5/BDcUqwpOEgMJVOXLBvKYywn2aMcLy9RrCd+aXQIcbycEG34HCWLjbwZqjnEDf3gHC6sNXwrmCJ0ElERPCgv9LwLwJeMIs033CNryywY6VuMHTBVbCQJXNwZ2SRcIV5CbC9/E/wjyGSsKCV2HBBco0wnMTRcIc0VnCYjZNwi6wOcK62mfBBp9DwiV7V8K7asDBgxIWwuA0F8L2vKXBTZ4dwsn+g8I6kU/C1d9iQiq0JsLY9ezB0MP6wcPYgMLjnRPCJjtJwsp7NMLMMlPCAnLbQH8UV8KRPFrC2zCFwo1KeMJ8XCDC0euAwlCa78G8PyTCdmyowOiopMF6OSbC7IBlwpH0GMJQCnzCfpV2wucXasKsGf7B1NWnwYOXGMJ23B7C9NWJwR9ocsHQE17C+kWywa54yMGow+XB5ntZwk+gXcEdGatB1lttwiY1YsHDKNLBjDd9wrzKR8Gt+w3C4c7Twe4HIMJj11zCQb3swTRU2MEJCezBNrk3wjb/LcLofnPB5aXLwY3IFcLW8YnBPnJ6wtb82MF3GyTClXBzwcK0AcKH6IzBpO2WwQR8wMHsRl3BgZziwVTe/8EoY6e/9oQnwrcfTcK6SifC/bq8wc3yWsKzcTnCliMPwqrZa8LqHTjCmGorwk5T4sGaeMvANyEgwpJ6UMKGiuvBjpMRws9BZ8LPynbCb7U3whQU6MHXKXLCE7gxwv7jD8I=",
          "dtype": "f4"
         },
         "yaxis": "y"
        },
        {
         "hovertemplate": "class=1<br>x=%{x}<br>y=%{y}<extra></extra>",
         "legendgroup": "1",
         "marker": {
          "color": "#EF553B",
          "size": 3,
          "symbol": "diamond"
         },
         "mode": "markers",
         "name": "1",
         "showlegend": true,
         "textfont": {
          "size": 25
         },
         "type": "scattergl",
         "x": {
          "bdata": "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",
          "dtype": "f4"
         },
         "xaxis": "x",
         "y": {
          "bdata": "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",
          "dtype": "f4"
         },
         "yaxis": "y"
        },
        {
         "hovertemplate": "class=2<br>x=%{x}<br>y=%{y}<extra></extra>",
         "legendgroup": "2",
         "marker": {
          "color": "#00cc96",
          "size": 3,
          "symbol": "square"
         },
         "mode": "markers",
         "name": "2",
         "showlegend": true,
         "textfont": {
          "size": 25
         },
         "type": "scattergl",
         "x": {
          "bdata": "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",
          "dtype": "f4"
         },
         "xaxis": "x",
         "y": {
          "bdata": "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",
          "dtype": "f4"
         },
         "yaxis": "y"
        },
        {
         "hovertemplate": "class=3<br>x=%{x}<br>y=%{y}<extra></extra>",
         "legendgroup": "3",
         "marker": {
          "color": "#ab63fa",
          "size": 3,
          "symbol": "x"
         },
         "mode": "markers",
         "name": "3",
         "showlegend": true,
         "textfont": {
          "size": 25
         },
         "type": "scattergl",
         "x": {
          "bdata": "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",
          "dtype": "f4"
         },
         "xaxis": "x",
         "y": {
          "bdata": "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",
          "dtype": "f4"
         },
         "yaxis": "y"
        }
       ],
       "layout": {
        "legend": {
         "title": {
          "text": "class"
         },
         "tracegroupgap": 0
        },
        "template": {
         "data": {
          "bar": [
           {
            "error_x": {
             "color": "#2a3f5f"
            },
            "error_y": {
             "color": "#2a3f5f"
            },
            "marker": {
             "line": {
              "color": "#E5ECF6",
              "width": 0.5
             },
             "pattern": {
              "fillmode": "overlay",
              "size": 10,
              "solidity": 0.2
             }
            },
            "type": "bar"
           }
          ],
          "barpolar": [
           {
            "marker": {
             "line": {
              "color": "#E5ECF6",
              "width": 0.5
             },
             "pattern": {
              "fillmode": "overlay",
              "size": 10,
              "solidity": 0.2
             }
            },
            "type": "barpolar"
           }
          ],
          "carpet": [
           {
            "aaxis": {
             "endlinecolor": "#2a3f5f",
             "gridcolor": "white",
             "linecolor": "white",
             "minorgridcolor": "white",
             "startlinecolor": "#2a3f5f"
            },
            "baxis": {
             "endlinecolor": "#2a3f5f",
             "gridcolor": "white",
             "linecolor": "white",
             "minorgridcolor": "white",
             "startlinecolor": "#2a3f5f"
            },
            "type": "carpet"
           }
          ],
          "choropleth": [
           {
            "colorbar": {
             "outlinewidth": 0,
             "ticks": ""
            },
            "type": "choropleth"
           }
          ],
          "contour": [
           {
            "colorbar": {
             "outlinewidth": 0,
             "ticks": ""
            },
            "colorscale": [
             [
              0,
              "#0d0887"
             ],
             [
              0.1111111111111111,
              "#46039f"
             ],
             [
              0.2222222222222222,
              "#7201a8"
             ],
             [
              0.3333333333333333,
              "#9c179e"
             ],
             [
              0.4444444444444444,
              "#bd3786"
             ],
             [
              0.5555555555555556,
              "#d8576b"
             ],
             [
              0.6666666666666666,
              "#ed7953"
             ],
             [
              0.7777777777777778,
              "#fb9f3a"
             ],
             [
              0.8888888888888888,
              "#fdca26"
             ],
             [
              1,
              "#f0f921"
             ]
            ],
            "type": "contour"
           }
          ],
          "contourcarpet": [
           {
            "colorbar": {
             "outlinewidth": 0,
             "ticks": ""
            },
            "type": "contourcarpet"
           }
          ],
          "heatmap": [
           {
            "colorbar": {
             "outlinewidth": 0,
             "ticks": ""
            },
            "colorscale": [
             [
              0,
              "#0d0887"
             ],
             [
              0.1111111111111111,
              "#46039f"
             ],
             [
              0.2222222222222222,
              "#7201a8"
             ],
             [
              0.3333333333333333,
              "#9c179e"
             ],
             [
              0.4444444444444444,
              "#bd3786"
             ],
             [
              0.5555555555555556,
              "#d8576b"
             ],
             [
              0.6666666666666666,
              "#ed7953"
             ],
             [
              0.7777777777777778,
              "#fb9f3a"
             ],
             [
              0.8888888888888888,
              "#fdca26"
             ],
             [
              1,
              "#f0f921"
             ]
            ],
            "type": "heatmap"
           }
          ],
          "histogram": [
           {
            "marker": {
             "pattern": {
              "fillmode": "overlay",
              "size": 10,
              "solidity": 0.2
             }
            },
            "type": "histogram"
           }
          ],
          "histogram2d": [
           {
            "colorbar": {
             "outlinewidth": 0,
             "ticks": ""
            },
            "colorscale": [
             [
              0,
              "#0d0887"
             ],
             [
              0.1111111111111111,
              "#46039f"
             ],
             [
              0.2222222222222222,
              "#7201a8"
             ],
             [
              0.3333333333333333,
              "#9c179e"
             ],
             [
              0.4444444444444444,
              "#bd3786"
             ],
             [
              0.5555555555555556,
              "#d8576b"
             ],
             [
              0.6666666666666666,
              "#ed7953"
             ],
             [
              0.7777777777777778,
              "#fb9f3a"
             ],
             [
              0.8888888888888888,
              "#fdca26"
             ],
             [
              1,
              "#f0f921"
             ]
            ],
            "type": "histogram2d"
           }
          ],
          "histogram2dcontour": [
           {
            "colorbar": {
             "outlinewidth": 0,
             "ticks": ""
            },
            "colorscale": [
             [
              0,
              "#0d0887"
             ],
             [
              0.1111111111111111,
              "#46039f"
             ],
             [
              0.2222222222222222,
              "#7201a8"
             ],
             [
              0.3333333333333333,
              "#9c179e"
             ],
             [
              0.4444444444444444,
              "#bd3786"
             ],
             [
              0.5555555555555556,
              "#d8576b"
             ],
             [
              0.6666666666666666,
              "#ed7953"
             ],
             [
              0.7777777777777778,
              "#fb9f3a"
             ],
             [
              0.8888888888888888,
              "#fdca26"
             ],
             [
              1,
              "#f0f921"
             ]
            ],
            "type": "histogram2dcontour"
           }
          ],
          "mesh3d": [
           {
            "colorbar": {
             "outlinewidth": 0,
             "ticks": ""
            },
            "type": "mesh3d"
           }
          ],
          "parcoords": [
           {
            "line": {
             "colorbar": {
              "outlinewidth": 0,
              "ticks": ""
             }
            },
            "type": "parcoords"
           }
          ],
          "pie": [
           {
            "automargin": true,
            "type": "pie"
           }
          ],
          "scatter": [
           {
            "fillpattern": {
             "fillmode": "overlay",
             "size": 10,
             "solidity": 0.2
            },
            "type": "scatter"
           }
          ],
          "scatter3d": [
           {
            "line": {
             "colorbar": {
              "outlinewidth": 0,
              "ticks": ""
             }
            },
            "marker": {
             "colorbar": {
              "outlinewidth": 0,
              "ticks": ""
             }
            },
            "type": "scatter3d"
           }
          ],
          "scattercarpet": [
           {
            "marker": {
             "colorbar": {
              "outlinewidth": 0,
              "ticks": ""
             }
            },
            "type": "scattercarpet"
           }
          ],
          "scattergeo": [
           {
            "marker": {
             "colorbar": {
              "outlinewidth": 0,
              "ticks": ""
             }
            },
            "type": "scattergeo"
           }
          ],
          "scattergl": [
           {
            "marker": {
             "colorbar": {
              "outlinewidth": 0,
              "ticks": ""
             }
            },
            "type": "scattergl"
           }
          ],
          "scattermap": [
           {
            "marker": {
             "colorbar": {
              "outlinewidth": 0,
              "ticks": ""
             }
            },
            "type": "scattermap"
           }
          ],
          "scattermapbox": [
           {
            "marker": {
             "colorbar": {
              "outlinewidth": 0,
              "ticks": ""
             }
            },
            "type": "scattermapbox"
           }
          ],
          "scatterpolar": [
           {
            "marker": {
             "colorbar": {
              "outlinewidth": 0,
              "ticks": ""
             }
            },
            "type": "scatterpolar"
           }
          ],
          "scatterpolargl": [
           {
            "marker": {
             "colorbar": {
              "outlinewidth": 0,
              "ticks": ""
             }
            },
            "type": "scatterpolargl"
           }
          ],
          "scatterternary": [
           {
            "marker": {
             "colorbar": {
              "outlinewidth": 0,
              "ticks": ""
             }
            },
            "type": "scatterternary"
           }
          ],
          "surface": [
           {
            "colorbar": {
             "outlinewidth": 0,
             "ticks": ""
            },
            "colorscale": [
             [
              0,
              "#0d0887"
             ],
             [
              0.1111111111111111,
              "#46039f"
             ],
             [
              0.2222222222222222,
              "#7201a8"
             ],
             [
              0.3333333333333333,
              "#9c179e"
             ],
             [
              0.4444444444444444,
              "#bd3786"
             ],
             [
              0.5555555555555556,
              "#d8576b"
             ],
             [
              0.6666666666666666,
              "#ed7953"
             ],
             [
              0.7777777777777778,
              "#fb9f3a"
             ],
             [
              0.8888888888888888,
              "#fdca26"
             ],
             [
              1,
              "#f0f921"
             ]
            ],
            "type": "surface"
           }
          ],
          "table": [
           {
            "cells": {
             "fill": {
              "color": "#EBF0F8"
             },
             "line": {
              "color": "white"
             }
            },
            "header": {
             "fill": {
              "color": "#C8D4E3"
             },
             "line": {
              "color": "white"
             }
            },
            "type": "table"
           }
          ]
         },
         "layout": {
          "annotationdefaults": {
           "arrowcolor": "#2a3f5f",
           "arrowhead": 0,
           "arrowwidth": 1
          },
          "autotypenumbers": "strict",
          "coloraxis": {
           "colorbar": {
            "outlinewidth": 0,
            "ticks": ""
           }
          },
          "colorscale": {
           "diverging": [
            [
             0,
             "#8e0152"
            ],
            [
             0.1,
             "#c51b7d"
            ],
            [
             0.2,
             "#de77ae"
            ],
            [
             0.3,
             "#f1b6da"
            ],
            [
             0.4,
             "#fde0ef"
            ],
            [
             0.5,
             "#f7f7f7"
            ],
            [
             0.6,
             "#e6f5d0"
            ],
            [
             0.7,
             "#b8e186"
            ],
            [
             0.8,
             "#7fbc41"
            ],
            [
             0.9,
             "#4d9221"
            ],
            [
             1,
             "#276419"
            ]
           ],
           "sequential": [
            [
             0,
             "#0d0887"
            ],
            [
             0.1111111111111111,
             "#46039f"
            ],
            [
             0.2222222222222222,
             "#7201a8"
            ],
            [
             0.3333333333333333,
             "#9c179e"
            ],
            [
             0.4444444444444444,
             "#bd3786"
            ],
            [
             0.5555555555555556,
             "#d8576b"
            ],
            [
             0.6666666666666666,
             "#ed7953"
            ],
            [
             0.7777777777777778,
             "#fb9f3a"
            ],
            [
             0.8888888888888888,
             "#fdca26"
            ],
            [
             1,
             "#f0f921"
            ]
           ],
           "sequentialminus": [
            [
             0,
             "#0d0887"
            ],
            [
             0.1111111111111111,
             "#46039f"
            ],
            [
             0.2222222222222222,
             "#7201a8"
            ],
            [
             0.3333333333333333,
             "#9c179e"
            ],
            [
             0.4444444444444444,
             "#bd3786"
            ],
            [
             0.5555555555555556,
             "#d8576b"
            ],
            [
             0.6666666666666666,
             "#ed7953"
            ],
            [
             0.7777777777777778,
             "#fb9f3a"
            ],
            [
             0.8888888888888888,
             "#fdca26"
            ],
            [
             1,
             "#f0f921"
            ]
           ]
          },
          "colorway": [
           "#636efa",
           "#EF553B",
           "#00cc96",
           "#ab63fa",
           "#FFA15A",
           "#19d3f3",
           "#FF6692",
           "#B6E880",
           "#FF97FF",
           "#FECB52"
          ],
          "font": {
           "color": "#2a3f5f"
          },
          "geo": {
           "bgcolor": "white",
           "lakecolor": "white",
           "landcolor": "#E5ECF6",
           "showlakes": true,
           "showland": true,
           "subunitcolor": "white"
          },
          "hoverlabel": {
           "align": "left"
          },
          "hovermode": "closest",
          "mapbox": {
           "style": "light"
          },
          "paper_bgcolor": "white",
          "plot_bgcolor": "#E5ECF6",
          "polar": {
           "angularaxis": {
            "gridcolor": "white",
            "linecolor": "white",
            "ticks": ""
           },
           "bgcolor": "#E5ECF6",
           "radialaxis": {
            "gridcolor": "white",
            "linecolor": "white",
            "ticks": ""
           }
          },
          "scene": {
           "xaxis": {
            "backgroundcolor": "#E5ECF6",
            "gridcolor": "white",
            "gridwidth": 2,
            "linecolor": "white",
            "showbackground": true,
            "ticks": "",
            "zerolinecolor": "white"
           },
           "yaxis": {
            "backgroundcolor": "#E5ECF6",
            "gridcolor": "white",
            "gridwidth": 2,
            "linecolor": "white",
            "showbackground": true,
            "ticks": "",
            "zerolinecolor": "white"
           },
           "zaxis": {
            "backgroundcolor": "#E5ECF6",
            "gridcolor": "white",
            "gridwidth": 2,
            "linecolor": "white",
            "showbackground": true,
            "ticks": "",
            "zerolinecolor": "white"
           }
          },
          "shapedefaults": {
           "line": {
            "color": "#2a3f5f"
           }
          },
          "ternary": {
           "aaxis": {
            "gridcolor": "white",
            "linecolor": "white",
            "ticks": ""
           },
           "baxis": {
            "gridcolor": "white",
            "linecolor": "white",
            "ticks": ""
           },
           "bgcolor": "#E5ECF6",
           "caxis": {
            "gridcolor": "white",
            "linecolor": "white",
            "ticks": ""
           }
          },
          "title": {
           "x": 0.05
          },
          "xaxis": {
           "automargin": true,
           "gridcolor": "white",
           "linecolor": "white",
           "ticks": "",
           "title": {
            "standoff": 15
           },
           "zerolinecolor": "white",
           "zerolinewidth": 2
          },
          "yaxis": {
           "automargin": true,
           "gridcolor": "white",
           "linecolor": "white",
           "ticks": "",
           "title": {
            "standoff": 15
           },
           "zerolinecolor": "white",
           "zerolinewidth": 2
          }
         }
        },
        "title": {
         "text": "tsne reduction technique. Visualization of Image Embeddings"
        },
        "xaxis": {
         "anchor": "y",
         "domain": [
          0,
          1
         ],
         "title": {
          "text": "x"
         }
        },
        "yaxis": {
         "anchor": "x",
         "domain": [
          0,
          1
         ],
         "title": {
          "text": "y"
         }
        }
       }
      }
     },
     "metadata": {},
     "output_type": "display_data"
    }
   ],
   "source": [
    "plot_embeddings(X_tfidf.toarray(), 0, symbol=\"class\", reduction_techniques=\"tsne\", color=\"class\")\n",
    "plot_embeddings(X_sbert, 0, symbol=\"class\", reduction_techniques=\"tsne\", color=\"class\")"
   ]
  },
  {
   "cell_type": "code",
   "execution_count": 58,
   "metadata": {},
   "outputs": [
    {
     "name": "stderr",
     "output_type": "stream",
     "text": [
      "/home/cezary/DataMining/.venv/lib/python3.12/site-packages/sklearn/utils/deprecation.py:151: FutureWarning:\n",
      "\n",
      "'force_all_finite' was renamed to 'ensure_all_finite' in 1.6 and will be removed in 1.8.\n",
      "\n",
      "/home/cezary/DataMining/.venv/lib/python3.12/site-packages/sklearn/utils/deprecation.py:151: FutureWarning:\n",
      "\n",
      "'force_all_finite' was renamed to 'ensure_all_finite' in 1.6 and will be removed in 1.8.\n",
      "\n"
     ]
    },
    {
     "data": {
      "application/vnd.plotly.v1+json": {
       "config": {
        "plotlyServerURL": "https://plot.ly"
       },
       "data": [
        {
         "hovertemplate": "class=0<br>x=%{x}<br>y=%{y}<extra></extra>",
         "legendgroup": "0",
         "marker": {
          "color": "#636efa",
          "size": 3,
          "symbol": "circle"
         },
         "mode": "markers",
         "name": "0",
         "showlegend": true,
         "textfont": {
          "size": 25
         },
         "type": "scattergl",
         "x": {
          "bdata": "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",
          "dtype": "f4"
         },
         "xaxis": "x",
         "y": {
          "bdata": "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",
          "dtype": "f4"
         },
         "yaxis": "y"
        },
        {
         "hovertemplate": "class=1<br>x=%{x}<br>y=%{y}<extra></extra>",
         "legendgroup": "1",
         "marker": {
          "color": "#EF553B",
          "size": 3,
          "symbol": "diamond"
         },
         "mode": "markers",
         "name": "1",
         "showlegend": true,
         "textfont": {
          "size": 25
         },
         "type": "scattergl",
         "x": {
          "bdata": "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",
          "dtype": "f4"
         },
         "xaxis": "x",
         "y": {
          "bdata": "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",
          "dtype": "f4"
         },
         "yaxis": "y"
        },
        {
         "hovertemplate": "class=2<br>x=%{x}<br>y=%{y}<extra></extra>",
         "legendgroup": "2",
         "marker": {
          "color": "#00cc96",
          "size": 3,
          "symbol": "square"
         },
         "mode": "markers",
         "name": "2",
         "showlegend": true,
         "textfont": {
          "size": 25
         },
         "type": "scattergl",
         "x": {
          "bdata": "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",
          "dtype": "f4"
         },
         "xaxis": "x",
         "y": {
          "bdata": "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",
          "dtype": "f4"
         },
         "yaxis": "y"
        },
        {
         "hovertemplate": "class=3<br>x=%{x}<br>y=%{y}<extra></extra>",
         "legendgroup": "3",
         "marker": {
          "color": "#ab63fa",
          "size": 3,
          "symbol": "x"
         },
         "mode": "markers",
         "name": "3",
         "showlegend": true,
         "textfont": {
          "size": 25
         },
         "type": "scattergl",
         "x": {
          "bdata": "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",
          "dtype": "f4"
         },
         "xaxis": "x",
         "y": {
          "bdata": "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",
          "dtype": "f4"
         },
         "yaxis": "y"
        }
       ],
       "layout": {
        "legend": {
         "title": {
          "text": "class"
         },
         "tracegroupgap": 0
        },
        "template": {
         "data": {
          "bar": [
           {
            "error_x": {
             "color": "#2a3f5f"
            },
            "error_y": {
             "color": "#2a3f5f"
            },
            "marker": {
             "line": {
              "color": "#E5ECF6",
              "width": 0.5
             },
             "pattern": {
              "fillmode": "overlay",
              "size": 10,
              "solidity": 0.2
             }
            },
            "type": "bar"
           }
          ],
          "barpolar": [
           {
            "marker": {
             "line": {
              "color": "#E5ECF6",
              "width": 0.5
             },
             "pattern": {
              "fillmode": "overlay",
              "size": 10,
              "solidity": 0.2
             }
            },
            "type": "barpolar"
           }
          ],
          "carpet": [
           {
            "aaxis": {
             "endlinecolor": "#2a3f5f",
             "gridcolor": "white",
             "linecolor": "white",
             "minorgridcolor": "white",
             "startlinecolor": "#2a3f5f"
            },
            "baxis": {
             "endlinecolor": "#2a3f5f",
             "gridcolor": "white",
             "linecolor": "white",
             "minorgridcolor": "white",
             "startlinecolor": "#2a3f5f"
            },
            "type": "carpet"
           }
          ],
          "choropleth": [
           {
            "colorbar": {
             "outlinewidth": 0,
             "ticks": ""
            },
            "type": "choropleth"
           }
          ],
          "contour": [
           {
            "colorbar": {
             "outlinewidth": 0,
             "ticks": ""
            },
            "colorscale": [
             [
              0,
              "#0d0887"
             ],
             [
              0.1111111111111111,
              "#46039f"
             ],
             [
              0.2222222222222222,
              "#7201a8"
             ],
             [
              0.3333333333333333,
              "#9c179e"
             ],
             [
              0.4444444444444444,
              "#bd3786"
             ],
             [
              0.5555555555555556,
              "#d8576b"
             ],
             [
              0.6666666666666666,
              "#ed7953"
             ],
             [
              0.7777777777777778,
              "#fb9f3a"
             ],
             [
              0.8888888888888888,
              "#fdca26"
             ],
             [
              1,
              "#f0f921"
             ]
            ],
            "type": "contour"
           }
          ],
          "contourcarpet": [
           {
            "colorbar": {
             "outlinewidth": 0,
             "ticks": ""
            },
            "type": "contourcarpet"
           }
          ],
          "heatmap": [
           {
            "colorbar": {
             "outlinewidth": 0,
             "ticks": ""
            },
            "colorscale": [
             [
              0,
              "#0d0887"
             ],
             [
              0.1111111111111111,
              "#46039f"
             ],
             [
              0.2222222222222222,
              "#7201a8"
             ],
             [
              0.3333333333333333,
              "#9c179e"
             ],
             [
              0.4444444444444444,
              "#bd3786"
             ],
             [
              0.5555555555555556,
              "#d8576b"
             ],
             [
              0.6666666666666666,
              "#ed7953"
             ],
             [
              0.7777777777777778,
              "#fb9f3a"
             ],
             [
              0.8888888888888888,
              "#fdca26"
             ],
             [
              1,
              "#f0f921"
             ]
            ],
            "type": "heatmap"
           }
          ],
          "histogram": [
           {
            "marker": {
             "pattern": {
              "fillmode": "overlay",
              "size": 10,
              "solidity": 0.2
             }
            },
            "type": "histogram"
           }
          ],
          "histogram2d": [
           {
            "colorbar": {
             "outlinewidth": 0,
             "ticks": ""
            },
            "colorscale": [
             [
              0,
              "#0d0887"
             ],
             [
              0.1111111111111111,
              "#46039f"
             ],
             [
              0.2222222222222222,
              "#7201a8"
             ],
             [
              0.3333333333333333,
              "#9c179e"
             ],
             [
              0.4444444444444444,
              "#bd3786"
             ],
             [
              0.5555555555555556,
              "#d8576b"
             ],
             [
              0.6666666666666666,
              "#ed7953"
             ],
             [
              0.7777777777777778,
              "#fb9f3a"
             ],
             [
              0.8888888888888888,
              "#fdca26"
             ],
             [
              1,
              "#f0f921"
             ]
            ],
            "type": "histogram2d"
           }
          ],
          "histogram2dcontour": [
           {
            "colorbar": {
             "outlinewidth": 0,
             "ticks": ""
            },
            "colorscale": [
             [
              0,
              "#0d0887"
             ],
             [
              0.1111111111111111,
              "#46039f"
             ],
             [
              0.2222222222222222,
              "#7201a8"
             ],
             [
              0.3333333333333333,
              "#9c179e"
             ],
             [
              0.4444444444444444,
              "#bd3786"
             ],
             [
              0.5555555555555556,
              "#d8576b"
             ],
             [
              0.6666666666666666,
              "#ed7953"
             ],
             [
              0.7777777777777778,
              "#fb9f3a"
             ],
             [
              0.8888888888888888,
              "#fdca26"
             ],
             [
              1,
              "#f0f921"
             ]
            ],
            "type": "histogram2dcontour"
           }
          ],
          "mesh3d": [
           {
            "colorbar": {
             "outlinewidth": 0,
             "ticks": ""
            },
            "type": "mesh3d"
           }
          ],
          "parcoords": [
           {
            "line": {
             "colorbar": {
              "outlinewidth": 0,
              "ticks": ""
             }
            },
            "type": "parcoords"
           }
          ],
          "pie": [
           {
            "automargin": true,
            "type": "pie"
           }
          ],
          "scatter": [
           {
            "fillpattern": {
             "fillmode": "overlay",
             "size": 10,
             "solidity": 0.2
            },
            "type": "scatter"
           }
          ],
          "scatter3d": [
           {
            "line": {
             "colorbar": {
              "outlinewidth": 0,
              "ticks": ""
             }
            },
            "marker": {
             "colorbar": {
              "outlinewidth": 0,
              "ticks": ""
             }
            },
            "type": "scatter3d"
           }
          ],
          "scattercarpet": [
           {
            "marker": {
             "colorbar": {
              "outlinewidth": 0,
              "ticks": ""
             }
            },
            "type": "scattercarpet"
           }
          ],
          "scattergeo": [
           {
            "marker": {
             "colorbar": {
              "outlinewidth": 0,
              "ticks": ""
             }
            },
            "type": "scattergeo"
           }
          ],
          "scattergl": [
           {
            "marker": {
             "colorbar": {
              "outlinewidth": 0,
              "ticks": ""
             }
            },
            "type": "scattergl"
           }
          ],
          "scattermap": [
           {
            "marker": {
             "colorbar": {
              "outlinewidth": 0,
              "ticks": ""
             }
            },
            "type": "scattermap"
           }
          ],
          "scattermapbox": [
           {
            "marker": {
             "colorbar": {
              "outlinewidth": 0,
              "ticks": ""
             }
            },
            "type": "scattermapbox"
           }
          ],
          "scatterpolar": [
           {
            "marker": {
             "colorbar": {
              "outlinewidth": 0,
              "ticks": ""
             }
            },
            "type": "scatterpolar"
           }
          ],
          "scatterpolargl": [
           {
            "marker": {
             "colorbar": {
              "outlinewidth": 0,
              "ticks": ""
             }
            },
            "type": "scatterpolargl"
           }
          ],
          "scatterternary": [
           {
            "marker": {
             "colorbar": {
              "outlinewidth": 0,
              "ticks": ""
             }
            },
            "type": "scatterternary"
           }
          ],
          "surface": [
           {
            "colorbar": {
             "outlinewidth": 0,
             "ticks": ""
            },
            "colorscale": [
             [
              0,
              "#0d0887"
             ],
             [
              0.1111111111111111,
              "#46039f"
             ],
             [
              0.2222222222222222,
              "#7201a8"
             ],
             [
              0.3333333333333333,
              "#9c179e"
             ],
             [
              0.4444444444444444,
              "#bd3786"
             ],
             [
              0.5555555555555556,
              "#d8576b"
             ],
             [
              0.6666666666666666,
              "#ed7953"
             ],
             [
              0.7777777777777778,
              "#fb9f3a"
             ],
             [
              0.8888888888888888,
              "#fdca26"
             ],
             [
              1,
              "#f0f921"
             ]
            ],
            "type": "surface"
           }
          ],
          "table": [
           {
            "cells": {
             "fill": {
              "color": "#EBF0F8"
             },
             "line": {
              "color": "white"
             }
            },
            "header": {
             "fill": {
              "color": "#C8D4E3"
             },
             "line": {
              "color": "white"
             }
            },
            "type": "table"
           }
          ]
         },
         "layout": {
          "annotationdefaults": {
           "arrowcolor": "#2a3f5f",
           "arrowhead": 0,
           "arrowwidth": 1
          },
          "autotypenumbers": "strict",
          "coloraxis": {
           "colorbar": {
            "outlinewidth": 0,
            "ticks": ""
           }
          },
          "colorscale": {
           "diverging": [
            [
             0,
             "#8e0152"
            ],
            [
             0.1,
             "#c51b7d"
            ],
            [
             0.2,
             "#de77ae"
            ],
            [
             0.3,
             "#f1b6da"
            ],
            [
             0.4,
             "#fde0ef"
            ],
            [
             0.5,
             "#f7f7f7"
            ],
            [
             0.6,
             "#e6f5d0"
            ],
            [
             0.7,
             "#b8e186"
            ],
            [
             0.8,
             "#7fbc41"
            ],
            [
             0.9,
             "#4d9221"
            ],
            [
             1,
             "#276419"
            ]
           ],
           "sequential": [
            [
             0,
             "#0d0887"
            ],
            [
             0.1111111111111111,
             "#46039f"
            ],
            [
             0.2222222222222222,
             "#7201a8"
            ],
            [
             0.3333333333333333,
             "#9c179e"
            ],
            [
             0.4444444444444444,
             "#bd3786"
            ],
            [
             0.5555555555555556,
             "#d8576b"
            ],
            [
             0.6666666666666666,
             "#ed7953"
            ],
            [
             0.7777777777777778,
             "#fb9f3a"
            ],
            [
             0.8888888888888888,
             "#fdca26"
            ],
            [
             1,
             "#f0f921"
            ]
           ],
           "sequentialminus": [
            [
             0,
             "#0d0887"
            ],
            [
             0.1111111111111111,
             "#46039f"
            ],
            [
             0.2222222222222222,
             "#7201a8"
            ],
            [
             0.3333333333333333,
             "#9c179e"
            ],
            [
             0.4444444444444444,
             "#bd3786"
            ],
            [
             0.5555555555555556,
             "#d8576b"
            ],
            [
             0.6666666666666666,
             "#ed7953"
            ],
            [
             0.7777777777777778,
             "#fb9f3a"
            ],
            [
             0.8888888888888888,
             "#fdca26"
            ],
            [
             1,
             "#f0f921"
            ]
           ]
          },
          "colorway": [
           "#636efa",
           "#EF553B",
           "#00cc96",
           "#ab63fa",
           "#FFA15A",
           "#19d3f3",
           "#FF6692",
           "#B6E880",
           "#FF97FF",
           "#FECB52"
          ],
          "font": {
           "color": "#2a3f5f"
          },
          "geo": {
           "bgcolor": "white",
           "lakecolor": "white",
           "landcolor": "#E5ECF6",
           "showlakes": true,
           "showland": true,
           "subunitcolor": "white"
          },
          "hoverlabel": {
           "align": "left"
          },
          "hovermode": "closest",
          "mapbox": {
           "style": "light"
          },
          "paper_bgcolor": "white",
          "plot_bgcolor": "#E5ECF6",
          "polar": {
           "angularaxis": {
            "gridcolor": "white",
            "linecolor": "white",
            "ticks": ""
           },
           "bgcolor": "#E5ECF6",
           "radialaxis": {
            "gridcolor": "white",
            "linecolor": "white",
            "ticks": ""
           }
          },
          "scene": {
           "xaxis": {
            "backgroundcolor": "#E5ECF6",
            "gridcolor": "white",
            "gridwidth": 2,
            "linecolor": "white",
            "showbackground": true,
            "ticks": "",
            "zerolinecolor": "white"
           },
           "yaxis": {
            "backgroundcolor": "#E5ECF6",
            "gridcolor": "white",
            "gridwidth": 2,
            "linecolor": "white",
            "showbackground": true,
            "ticks": "",
            "zerolinecolor": "white"
           },
           "zaxis": {
            "backgroundcolor": "#E5ECF6",
            "gridcolor": "white",
            "gridwidth": 2,
            "linecolor": "white",
            "showbackground": true,
            "ticks": "",
            "zerolinecolor": "white"
           }
          },
          "shapedefaults": {
           "line": {
            "color": "#2a3f5f"
           }
          },
          "ternary": {
           "aaxis": {
            "gridcolor": "white",
            "linecolor": "white",
            "ticks": ""
           },
           "baxis": {
            "gridcolor": "white",
            "linecolor": "white",
            "ticks": ""
           },
           "bgcolor": "#E5ECF6",
           "caxis": {
            "gridcolor": "white",
            "linecolor": "white",
            "ticks": ""
           }
          },
          "title": {
           "x": 0.05
          },
          "xaxis": {
           "automargin": true,
           "gridcolor": "white",
           "linecolor": "white",
           "ticks": "",
           "title": {
            "standoff": 15
           },
           "zerolinecolor": "white",
           "zerolinewidth": 2
          },
          "yaxis": {
           "automargin": true,
           "gridcolor": "white",
           "linecolor": "white",
           "ticks": "",
           "title": {
            "standoff": 15
           },
           "zerolinecolor": "white",
           "zerolinewidth": 2
          }
         }
        },
        "title": {
         "text": "umap reduction technique. Visualization of Image Embeddings"
        },
        "xaxis": {
         "anchor": "y",
         "domain": [
          0,
          1
         ],
         "title": {
          "text": "x"
         }
        },
        "yaxis": {
         "anchor": "x",
         "domain": [
          0,
          1
         ],
         "title": {
          "text": "y"
         }
        }
       }
      }
     },
     "metadata": {},
     "output_type": "display_data"
    },
    {
     "data": {
      "application/vnd.plotly.v1+json": {
       "config": {
        "plotlyServerURL": "https://plot.ly"
       },
       "data": [
        {
         "hovertemplate": "class=0<br>x=%{x}<br>y=%{y}<extra></extra>",
         "legendgroup": "0",
         "marker": {
          "color": "#636efa",
          "size": 3,
          "symbol": "circle"
         },
         "mode": "markers",
         "name": "0",
         "showlegend": true,
         "textfont": {
          "size": 25
         },
         "type": "scattergl",
         "x": {
          "bdata": "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",
          "dtype": "f4"
         },
         "xaxis": "x",
         "y": {
          "bdata": "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",
          "dtype": "f4"
         },
         "yaxis": "y"
        },
        {
         "hovertemplate": "class=1<br>x=%{x}<br>y=%{y}<extra></extra>",
         "legendgroup": "1",
         "marker": {
          "color": "#EF553B",
          "size": 3,
          "symbol": "diamond"
         },
         "mode": "markers",
         "name": "1",
         "showlegend": true,
         "textfont": {
          "size": 25
         },
         "type": "scattergl",
         "x": {
          "bdata": "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",
          "dtype": "f4"
         },
         "xaxis": "x",
         "y": {
          "bdata": "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",
          "dtype": "f4"
         },
         "yaxis": "y"
        },
        {
         "hovertemplate": "class=2<br>x=%{x}<br>y=%{y}<extra></extra>",
         "legendgroup": "2",
         "marker": {
          "color": "#00cc96",
          "size": 3,
          "symbol": "square"
         },
         "mode": "markers",
         "name": "2",
         "showlegend": true,
         "textfont": {
          "size": 25
         },
         "type": "scattergl",
         "x": {
          "bdata": "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",
          "dtype": "f4"
         },
         "xaxis": "x",
         "y": {
          "bdata": "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",
          "dtype": "f4"
         },
         "yaxis": "y"
        },
        {
         "hovertemplate": "class=3<br>x=%{x}<br>y=%{y}<extra></extra>",
         "legendgroup": "3",
         "marker": {
          "color": "#ab63fa",
          "size": 3,
          "symbol": "x"
         },
         "mode": "markers",
         "name": "3",
         "showlegend": true,
         "textfont": {
          "size": 25
         },
         "type": "scattergl",
         "x": {
          "bdata": "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",
          "dtype": "f4"
         },
         "xaxis": "x",
         "y": {
          "bdata": "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",
          "dtype": "f4"
         },
         "yaxis": "y"
        }
       ],
       "layout": {
        "legend": {
         "title": {
          "text": "class"
         },
         "tracegroupgap": 0
        },
        "template": {
         "data": {
          "bar": [
           {
            "error_x": {
             "color": "#2a3f5f"
            },
            "error_y": {
             "color": "#2a3f5f"
            },
            "marker": {
             "line": {
              "color": "#E5ECF6",
              "width": 0.5
             },
             "pattern": {
              "fillmode": "overlay",
              "size": 10,
              "solidity": 0.2
             }
            },
            "type": "bar"
           }
          ],
          "barpolar": [
           {
            "marker": {
             "line": {
              "color": "#E5ECF6",
              "width": 0.5
             },
             "pattern": {
              "fillmode": "overlay",
              "size": 10,
              "solidity": 0.2
             }
            },
            "type": "barpolar"
           }
          ],
          "carpet": [
           {
            "aaxis": {
             "endlinecolor": "#2a3f5f",
             "gridcolor": "white",
             "linecolor": "white",
             "minorgridcolor": "white",
             "startlinecolor": "#2a3f5f"
            },
            "baxis": {
             "endlinecolor": "#2a3f5f",
             "gridcolor": "white",
             "linecolor": "white",
             "minorgridcolor": "white",
             "startlinecolor": "#2a3f5f"
            },
            "type": "carpet"
           }
          ],
          "choropleth": [
           {
            "colorbar": {
             "outlinewidth": 0,
             "ticks": ""
            },
            "type": "choropleth"
           }
          ],
          "contour": [
           {
            "colorbar": {
             "outlinewidth": 0,
             "ticks": ""
            },
            "colorscale": [
             [
              0,
              "#0d0887"
             ],
             [
              0.1111111111111111,
              "#46039f"
             ],
             [
              0.2222222222222222,
              "#7201a8"
             ],
             [
              0.3333333333333333,
              "#9c179e"
             ],
             [
              0.4444444444444444,
              "#bd3786"
             ],
             [
              0.5555555555555556,
              "#d8576b"
             ],
             [
              0.6666666666666666,
              "#ed7953"
             ],
             [
              0.7777777777777778,
              "#fb9f3a"
             ],
             [
              0.8888888888888888,
              "#fdca26"
             ],
             [
              1,
              "#f0f921"
             ]
            ],
            "type": "contour"
           }
          ],
          "contourcarpet": [
           {
            "colorbar": {
             "outlinewidth": 0,
             "ticks": ""
            },
            "type": "contourcarpet"
           }
          ],
          "heatmap": [
           {
            "colorbar": {
             "outlinewidth": 0,
             "ticks": ""
            },
            "colorscale": [
             [
              0,
              "#0d0887"
             ],
             [
              0.1111111111111111,
              "#46039f"
             ],
             [
              0.2222222222222222,
              "#7201a8"
             ],
             [
              0.3333333333333333,
              "#9c179e"
             ],
             [
              0.4444444444444444,
              "#bd3786"
             ],
             [
              0.5555555555555556,
              "#d8576b"
             ],
             [
              0.6666666666666666,
              "#ed7953"
             ],
             [
              0.7777777777777778,
              "#fb9f3a"
             ],
             [
              0.8888888888888888,
              "#fdca26"
             ],
             [
              1,
              "#f0f921"
             ]
            ],
            "type": "heatmap"
           }
          ],
          "histogram": [
           {
            "marker": {
             "pattern": {
              "fillmode": "overlay",
              "size": 10,
              "solidity": 0.2
             }
            },
            "type": "histogram"
           }
          ],
          "histogram2d": [
           {
            "colorbar": {
             "outlinewidth": 0,
             "ticks": ""
            },
            "colorscale": [
             [
              0,
              "#0d0887"
             ],
             [
              0.1111111111111111,
              "#46039f"
             ],
             [
              0.2222222222222222,
              "#7201a8"
             ],
             [
              0.3333333333333333,
              "#9c179e"
             ],
             [
              0.4444444444444444,
              "#bd3786"
             ],
             [
              0.5555555555555556,
              "#d8576b"
             ],
             [
              0.6666666666666666,
              "#ed7953"
             ],
             [
              0.7777777777777778,
              "#fb9f3a"
             ],
             [
              0.8888888888888888,
              "#fdca26"
             ],
             [
              1,
              "#f0f921"
             ]
            ],
            "type": "histogram2d"
           }
          ],
          "histogram2dcontour": [
           {
            "colorbar": {
             "outlinewidth": 0,
             "ticks": ""
            },
            "colorscale": [
             [
              0,
              "#0d0887"
             ],
             [
              0.1111111111111111,
              "#46039f"
             ],
             [
              0.2222222222222222,
              "#7201a8"
             ],
             [
              0.3333333333333333,
              "#9c179e"
             ],
             [
              0.4444444444444444,
              "#bd3786"
             ],
             [
              0.5555555555555556,
              "#d8576b"
             ],
             [
              0.6666666666666666,
              "#ed7953"
             ],
             [
              0.7777777777777778,
              "#fb9f3a"
             ],
             [
              0.8888888888888888,
              "#fdca26"
             ],
             [
              1,
              "#f0f921"
             ]
            ],
            "type": "histogram2dcontour"
           }
          ],
          "mesh3d": [
           {
            "colorbar": {
             "outlinewidth": 0,
             "ticks": ""
            },
            "type": "mesh3d"
           }
          ],
          "parcoords": [
           {
            "line": {
             "colorbar": {
              "outlinewidth": 0,
              "ticks": ""
             }
            },
            "type": "parcoords"
           }
          ],
          "pie": [
           {
            "automargin": true,
            "type": "pie"
           }
          ],
          "scatter": [
           {
            "fillpattern": {
             "fillmode": "overlay",
             "size": 10,
             "solidity": 0.2
            },
            "type": "scatter"
           }
          ],
          "scatter3d": [
           {
            "line": {
             "colorbar": {
              "outlinewidth": 0,
              "ticks": ""
             }
            },
            "marker": {
             "colorbar": {
              "outlinewidth": 0,
              "ticks": ""
             }
            },
            "type": "scatter3d"
           }
          ],
          "scattercarpet": [
           {
            "marker": {
             "colorbar": {
              "outlinewidth": 0,
              "ticks": ""
             }
            },
            "type": "scattercarpet"
           }
          ],
          "scattergeo": [
           {
            "marker": {
             "colorbar": {
              "outlinewidth": 0,
              "ticks": ""
             }
            },
            "type": "scattergeo"
           }
          ],
          "scattergl": [
           {
            "marker": {
             "colorbar": {
              "outlinewidth": 0,
              "ticks": ""
             }
            },
            "type": "scattergl"
           }
          ],
          "scattermap": [
           {
            "marker": {
             "colorbar": {
              "outlinewidth": 0,
              "ticks": ""
             }
            },
            "type": "scattermap"
           }
          ],
          "scattermapbox": [
           {
            "marker": {
             "colorbar": {
              "outlinewidth": 0,
              "ticks": ""
             }
            },
            "type": "scattermapbox"
           }
          ],
          "scatterpolar": [
           {
            "marker": {
             "colorbar": {
              "outlinewidth": 0,
              "ticks": ""
             }
            },
            "type": "scatterpolar"
           }
          ],
          "scatterpolargl": [
           {
            "marker": {
             "colorbar": {
              "outlinewidth": 0,
              "ticks": ""
             }
            },
            "type": "scatterpolargl"
           }
          ],
          "scatterternary": [
           {
            "marker": {
             "colorbar": {
              "outlinewidth": 0,
              "ticks": ""
             }
            },
            "type": "scatterternary"
           }
          ],
          "surface": [
           {
            "colorbar": {
             "outlinewidth": 0,
             "ticks": ""
            },
            "colorscale": [
             [
              0,
              "#0d0887"
             ],
             [
              0.1111111111111111,
              "#46039f"
             ],
             [
              0.2222222222222222,
              "#7201a8"
             ],
             [
              0.3333333333333333,
              "#9c179e"
             ],
             [
              0.4444444444444444,
              "#bd3786"
             ],
             [
              0.5555555555555556,
              "#d8576b"
             ],
             [
              0.6666666666666666,
              "#ed7953"
             ],
             [
              0.7777777777777778,
              "#fb9f3a"
             ],
             [
              0.8888888888888888,
              "#fdca26"
             ],
             [
              1,
              "#f0f921"
             ]
            ],
            "type": "surface"
           }
          ],
          "table": [
           {
            "cells": {
             "fill": {
              "color": "#EBF0F8"
             },
             "line": {
              "color": "white"
             }
            },
            "header": {
             "fill": {
              "color": "#C8D4E3"
             },
             "line": {
              "color": "white"
             }
            },
            "type": "table"
           }
          ]
         },
         "layout": {
          "annotationdefaults": {
           "arrowcolor": "#2a3f5f",
           "arrowhead": 0,
           "arrowwidth": 1
          },
          "autotypenumbers": "strict",
          "coloraxis": {
           "colorbar": {
            "outlinewidth": 0,
            "ticks": ""
           }
          },
          "colorscale": {
           "diverging": [
            [
             0,
             "#8e0152"
            ],
            [
             0.1,
             "#c51b7d"
            ],
            [
             0.2,
             "#de77ae"
            ],
            [
             0.3,
             "#f1b6da"
            ],
            [
             0.4,
             "#fde0ef"
            ],
            [
             0.5,
             "#f7f7f7"
            ],
            [
             0.6,
             "#e6f5d0"
            ],
            [
             0.7,
             "#b8e186"
            ],
            [
             0.8,
             "#7fbc41"
            ],
            [
             0.9,
             "#4d9221"
            ],
            [
             1,
             "#276419"
            ]
           ],
           "sequential": [
            [
             0,
             "#0d0887"
            ],
            [
             0.1111111111111111,
             "#46039f"
            ],
            [
             0.2222222222222222,
             "#7201a8"
            ],
            [
             0.3333333333333333,
             "#9c179e"
            ],
            [
             0.4444444444444444,
             "#bd3786"
            ],
            [
             0.5555555555555556,
             "#d8576b"
            ],
            [
             0.6666666666666666,
             "#ed7953"
            ],
            [
             0.7777777777777778,
             "#fb9f3a"
            ],
            [
             0.8888888888888888,
             "#fdca26"
            ],
            [
             1,
             "#f0f921"
            ]
           ],
           "sequentialminus": [
            [
             0,
             "#0d0887"
            ],
            [
             0.1111111111111111,
             "#46039f"
            ],
            [
             0.2222222222222222,
             "#7201a8"
            ],
            [
             0.3333333333333333,
             "#9c179e"
            ],
            [
             0.4444444444444444,
             "#bd3786"
            ],
            [
             0.5555555555555556,
             "#d8576b"
            ],
            [
             0.6666666666666666,
             "#ed7953"
            ],
            [
             0.7777777777777778,
             "#fb9f3a"
            ],
            [
             0.8888888888888888,
             "#fdca26"
            ],
            [
             1,
             "#f0f921"
            ]
           ]
          },
          "colorway": [
           "#636efa",
           "#EF553B",
           "#00cc96",
           "#ab63fa",
           "#FFA15A",
           "#19d3f3",
           "#FF6692",
           "#B6E880",
           "#FF97FF",
           "#FECB52"
          ],
          "font": {
           "color": "#2a3f5f"
          },
          "geo": {
           "bgcolor": "white",
           "lakecolor": "white",
           "landcolor": "#E5ECF6",
           "showlakes": true,
           "showland": true,
           "subunitcolor": "white"
          },
          "hoverlabel": {
           "align": "left"
          },
          "hovermode": "closest",
          "mapbox": {
           "style": "light"
          },
          "paper_bgcolor": "white",
          "plot_bgcolor": "#E5ECF6",
          "polar": {
           "angularaxis": {
            "gridcolor": "white",
            "linecolor": "white",
            "ticks": ""
           },
           "bgcolor": "#E5ECF6",
           "radialaxis": {
            "gridcolor": "white",
            "linecolor": "white",
            "ticks": ""
           }
          },
          "scene": {
           "xaxis": {
            "backgroundcolor": "#E5ECF6",
            "gridcolor": "white",
            "gridwidth": 2,
            "linecolor": "white",
            "showbackground": true,
            "ticks": "",
            "zerolinecolor": "white"
           },
           "yaxis": {
            "backgroundcolor": "#E5ECF6",
            "gridcolor": "white",
            "gridwidth": 2,
            "linecolor": "white",
            "showbackground": true,
            "ticks": "",
            "zerolinecolor": "white"
           },
           "zaxis": {
            "backgroundcolor": "#E5ECF6",
            "gridcolor": "white",
            "gridwidth": 2,
            "linecolor": "white",
            "showbackground": true,
            "ticks": "",
            "zerolinecolor": "white"
           }
          },
          "shapedefaults": {
           "line": {
            "color": "#2a3f5f"
           }
          },
          "ternary": {
           "aaxis": {
            "gridcolor": "white",
            "linecolor": "white",
            "ticks": ""
           },
           "baxis": {
            "gridcolor": "white",
            "linecolor": "white",
            "ticks": ""
           },
           "bgcolor": "#E5ECF6",
           "caxis": {
            "gridcolor": "white",
            "linecolor": "white",
            "ticks": ""
           }
          },
          "title": {
           "x": 0.05
          },
          "xaxis": {
           "automargin": true,
           "gridcolor": "white",
           "linecolor": "white",
           "ticks": "",
           "title": {
            "standoff": 15
           },
           "zerolinecolor": "white",
           "zerolinewidth": 2
          },
          "yaxis": {
           "automargin": true,
           "gridcolor": "white",
           "linecolor": "white",
           "ticks": "",
           "title": {
            "standoff": 15
           },
           "zerolinecolor": "white",
           "zerolinewidth": 2
          }
         }
        },
        "title": {
         "text": "umap reduction technique. Visualization of Image Embeddings"
        },
        "xaxis": {
         "anchor": "y",
         "domain": [
          0,
          1
         ],
         "title": {
          "text": "x"
         }
        },
        "yaxis": {
         "anchor": "x",
         "domain": [
          0,
          1
         ],
         "title": {
          "text": "y"
         }
        }
       }
      }
     },
     "metadata": {},
     "output_type": "display_data"
    }
   ],
   "source": [
    "X_umap_tfidf = project_vectors(X_tfidf.toarray(), technique=\"umap\", n_components=2)\n",
    "X_umap_sbert = project_vectors(X_sbert, technique=\"umap\", n_components=2)\n",
    "\n",
    "plot_embeddings(X_umap_tfidf, 0, symbol=\"class\", reduction_techniques=\"umap\", color=\"class\")\n",
    "plot_embeddings(X_umap_sbert, 0, symbol=\"class\", reduction_techniques=\"umap\", color=\"class\")"
   ]
  },
  {
   "cell_type": "code",
   "execution_count": 62,
   "metadata": {},
   "outputs": [],
   "source": [
    "from typing import Tuple\n",
    "from sklearn.neighbors import KNeighborsClassifier\n",
    "from sklearn.metrics import accuracy_score\n",
    "from sklearn.metrics import f1_score\n",
    "\n",
    "def classify_knn(X_train, X_test, y_train, y_test) -> Tuple[float, float]:\n",
    "    knn_classifier = KNeighborsClassifier(n_neighbors=5, metric='cosine')\n",
    "    knn_classifier.fit(X_train, y_train)\n",
    "    y_pred = knn_classifier.predict(X_test)\n",
    "    return f1_score(y_test, y_pred, average=\"weighted\"), accuracy_score(y_test, y_pred)\n"
   ]
  },
  {
   "cell_type": "code",
   "execution_count": 63,
   "metadata": {},
   "outputs": [],
   "source": [
    "X_full_sbert_train, X_full_sbert_test, y_full_sbert_train, y_full_sbert_test = train_test_split(X_sbert,y,test_size=0.2, random_state=42)\n",
    "X_full_tfidf_train, X_full_tfidf_test, y_full_tfidf_train, y_full_tfidf_test = train_test_split(X_tfidf,y,test_size=0.2, random_state=42)\n",
    "X_umap_sbert_train, X_umap_sbert_test, y_umap_sbert_train, y_umap_sbert_test = train_test_split(X_umap_sbert, y, test_size=0.2, random_state=42)\n",
    "X_umap_tfidf_train, X_umap_tfidf_test, y_umap_tfidf_train, y_umap_tfidf_test = train_test_split(X_umap_tfidf, y, test_size=0.2, random_state=42)"
   ]
  },
  {
   "cell_type": "code",
   "execution_count": 64,
   "metadata": {},
   "outputs": [
    {
     "name": "stdout",
     "output_type": "stream",
     "text": [
      "Full SBERT -> F1 Score: 0.9024, Accuracy: 0.9030\n",
      "Full TF-IDF -> F1 Score: 0.7832, Accuracy: 0.7850\n",
      "UMAP + SBERT -> F1 Score: 0.7539, Accuracy: 0.7560\n",
      "UMAP + TF-IDF -> F1 Score: 0.5688, Accuracy: 0.5810\n"
     ]
    }
   ],
   "source": [
    "f1, acc = classify_knn(X_full_sbert_train, X_full_sbert_test, y_full_sbert_train, y_full_sbert_test)\n",
    "print(f\"Full SBERT -> F1 Score: {f1:.4f}, Accuracy: {acc:.4f}\")\n",
    "\n",
    "f1, acc = classify_knn(X_full_tfidf_train, X_full_tfidf_test, y_full_tfidf_train, y_full_tfidf_test)\n",
    "print(f\"Full TF-IDF -> F1 Score: {f1:.4f}, Accuracy: {acc:.4f}\")\n",
    "\n",
    "f1, acc = classify_knn(X_umap_sbert_train, X_umap_sbert_test, y_umap_sbert_train, y_umap_sbert_test)\n",
    "print(f\"UMAP + SBERT -> F1 Score: {f1:.4f}, Accuracy: {acc:.4f}\")\n",
    "\n",
    "f1, acc = classify_knn(X_umap_tfidf_train, X_umap_tfidf_test, y_umap_tfidf_train, y_umap_tfidf_test)\n",
    "print(f\"UMAP + TF-IDF -> F1 Score: {f1:.4f}, Accuracy: {acc:.4f}\")\n",
    "\n",
    "\n"
   ]
  },
  {
   "cell_type": "code",
   "execution_count": null,
   "metadata": {},
   "outputs": [],
   "source": [
    "import xgboost as xgb\n",
    "\n",
    "def classify_xgboost(X_train, X_test, y_train, y_test):\n",
    "    xgb_classifier = xgb.XGBRFClassifier(max_depth=5, random_state=42)\n",
    "    xgb_classifier.fit(X_train, y_train)\n",
    "    y_pred = xgb_classifier.predict(X_test)\n",
    "    return f1_score(y_test, y_pred, average=\"weighted\"), accuracy_score(y_test, y_pred)\n"
   ]
  },
  {
   "cell_type": "code",
   "execution_count": 66,
   "metadata": {},
   "outputs": [
    {
     "name": "stdout",
     "output_type": "stream",
     "text": [
      "[XGBoost] Full SBERT -> F1 Score: 0.7953, Accuracy: 0.7960\n",
      "[XGBoost] Full TF-IDF -> F1 Score: 0.6369, Accuracy: 0.6270\n",
      "[XGBoost] UMAP + SBERT -> F1 Score: 0.8862, Accuracy: 0.8870\n",
      "[XGBoost] UMAP + TF-IDF -> F1 Score: 0.7679, Accuracy: 0.7690\n"
     ]
    }
   ],
   "source": [
    "f1, acc = classify_xgboost(X_full_sbert_train, X_full_sbert_test, y_full_sbert_train, y_full_sbert_test)\n",
    "print(f\"[XGBoost] Full SBERT -> F1 Score: {f1:.4f}, Accuracy: {acc:.4f}\")\n",
    "\n",
    "f1, acc = classify_xgboost(X_full_tfidf_train, X_full_tfidf_test, y_full_tfidf_train, y_full_tfidf_test)\n",
    "print(f\"[XGBoost] Full TF-IDF -> F1 Score: {f1:.4f}, Accuracy: {acc:.4f}\")\n",
    "\n",
    "f1, acc = classify_xgboost(X_umap_sbert_train, X_umap_sbert_test, y_umap_sbert_train, y_umap_sbert_test)\n",
    "print(f\"[XGBoost] UMAP + SBERT -> F1 Score: {f1:.4f}, Accuracy: {acc:.4f}\")\n",
    "\n",
    "f1, acc = classify_xgboost(X_umap_tfidf_train, X_umap_tfidf_test, y_umap_tfidf_train, y_umap_tfidf_test)\n",
    "print(f\"[XGBoost] UMAP + TF-IDF -> F1 Score: {f1:.4f}, Accuracy: {acc:.4f}\")\n"
   ]
  },
  {
   "cell_type": "code",
   "execution_count": null,
   "metadata": {},
   "outputs": [
    {
     "name": "stdout",
     "output_type": "stream",
     "text": [
      "  Model   Feature Set  F1 Score  Accuracy\n",
      "    KNN    Full SBERT  0.902434     0.903\n",
      "    KNN   Full TF-IDF  0.783205     0.785\n",
      "    KNN  UMAP + SBERT  0.753902     0.756\n",
      "    KNN UMAP + TF-IDF  0.568809     0.581\n",
      "XGBoost    Full SBERT  0.795331     0.796\n",
      "XGBoost   Full TF-IDF  0.636861     0.627\n",
      "XGBoost  UMAP + SBERT  0.886184     0.887\n",
      "XGBoost UMAP + TF-IDF  0.767923     0.769\n"
     ]
    }
   ],
   "source": [
    "results = []\n",
    "\n",
    "# knn\n",
    "f1, acc = classify_knn(X_full_sbert_train, X_full_sbert_test, y_full_sbert_train, y_full_sbert_test)\n",
    "results.append((\"KNN\", \"Full SBERT\", f1, acc))\n",
    "\n",
    "f1, acc = classify_knn(X_full_tfidf_train, X_full_tfidf_test, y_full_tfidf_train, y_full_tfidf_test)\n",
    "results.append((\"KNN\", \"Full TF-IDF\", f1, acc))\n",
    "\n",
    "f1, acc = classify_knn(X_umap_sbert_train, X_umap_sbert_test, y_umap_sbert_train, y_umap_sbert_test)\n",
    "results.append((\"KNN\", \"UMAP + SBERT\", f1, acc))\n",
    "\n",
    "f1, acc = classify_knn(X_umap_tfidf_train, X_umap_tfidf_test, y_umap_tfidf_train, y_umap_tfidf_test)\n",
    "results.append((\"KNN\", \"UMAP + TF-IDF\", f1, acc))\n",
    "\n",
    "# xgb\n",
    "f1, acc = classify_xgboost(X_full_sbert_train, X_full_sbert_test, y_full_sbert_train, y_full_sbert_test)\n",
    "results.append((\"XGBoost\", \"Full SBERT\", f1, acc))\n",
    "\n",
    "f1, acc = classify_xgboost(X_full_tfidf_train, X_full_tfidf_test, y_full_tfidf_train, y_full_tfidf_test)\n",
    "results.append((\"XGBoost\", \"Full TF-IDF\", f1, acc))\n",
    "\n",
    "f1, acc = classify_xgboost(X_umap_sbert_train, X_umap_sbert_test, y_umap_sbert_train, y_umap_sbert_test)\n",
    "results.append((\"XGBoost\", \"UMAP + SBERT\", f1, acc))\n",
    "\n",
    "f1, acc = classify_xgboost(X_umap_tfidf_train, X_umap_tfidf_test, y_umap_tfidf_train, y_umap_tfidf_test)\n",
    "results.append((\"XGBoost\", \"UMAP + TF-IDF\", f1, acc))\n",
    "\n",
    "\n",
    "\n",
    "\n"
   ]
  },
  {
   "cell_type": "code",
   "execution_count": null,
   "metadata": {},
   "outputs": [
    {
     "name": "stdout",
     "output_type": "stream",
     "text": [
      "  Model          Data  F1 Score  Accuracy\n",
      "    KNN    Full SBERT  0.902434     0.903\n",
      "XGBoost  UMAP + SBERT  0.886184     0.887\n",
      "XGBoost    Full SBERT  0.795331     0.796\n",
      "    KNN   Full TF-IDF  0.783205     0.785\n",
      "XGBoost UMAP + TF-IDF  0.767923     0.769\n",
      "    KNN  UMAP + SBERT  0.753902     0.756\n",
      "XGBoost   Full TF-IDF  0.636861     0.627\n",
      "    KNN UMAP + TF-IDF  0.568809     0.581\n"
     ]
    }
   ],
   "source": [
    "df = pd.DataFrame(results, columns=[\"Model\", \"Data\", \"F1 Score\", \"Accuracy\"])\n",
    "\n",
    "print(df.sort_values(by=\"F1 Score\", ascending=False).to_string(index=False))"
   ]
  },
  {
   "cell_type": "code",
   "execution_count": 15,
   "metadata": {},
   "outputs": [],
   "source": [
    "\n",
    "\n",
    "def cluster_embeddings(embeddings: NDArray, algorithm_name: str = 'KMeans', **kwargs):\n",
    "    \"\"\"\n",
    "    Clusters embeddings using a specified clustering algorithm from sklearn.\n",
    "    \n",
    "    Parameters:\n",
    "    -----------\n",
    "    embeddings : numpy.ndarray\n",
    "        The embeddings to cluster, shape (n_samples, n_features)\n",
    "    algorithm_name : str\n",
    "        Name of the clustering algorithm to use (must be available in sklearn.cluster\n",
    "        or be GaussianMixture)\n",
    "    **kwargs : \n",
    "        Additional parameters to pass to the clustering algorithm\n",
    "        \n",
    "    Returns:\n",
    "    --------\n",
    "    labels : numpy.ndarray\n",
    "        Cluster labels for each embedding, shape (n_samples,)\n",
    "    model : object\n",
    "        The fitted clustering model\n",
    "    \"\"\"\n",
    "    if not isinstance(embeddings, np.ndarray):\n",
    "        raise TypeError(\"Embeddings must be a numpy array\")\n",
    "\n",
    "    if len(embeddings.shape) != 2:\n",
    "        raise ValueError(f\"Embeddings must be 2D array, got shape {embeddings.shape}\")\n",
    "\n",
    "    if algorithm_name == 'GaussianMixture':\n",
    "        algorithm_class = GaussianMixture\n",
    "    else:\n",
    "        try:\n",
    "            algorithm_class = getattr(cluster, algorithm_name)\n",
    "        except AttributeError:\n",
    "            raise ValueError(f\"Algorithm '{algorithm_name}' not found in sklearn.cluster or is not GaussianMixture\")\n",
    "\n",
    "    model = algorithm_class(**kwargs)\n",
    "\n",
    "    if hasattr(model, 'fit_predict'):\n",
    "        labels = model.fit_predict(embeddings)\n",
    "    elif hasattr(model, 'fit') and hasattr(model, 'predict'):\n",
    "\n",
    "        model.fit(embeddings)\n",
    "        labels = model.predict(embeddings)\n",
    "    else:\n",
    "        raise ValueError(f\"Algorithm '{algorithm_name}' does not support required methods\")\n",
    "\n",
    "    return labels, model\n"
   ]
  },
  {
   "cell_type": "code",
   "execution_count": null,
   "metadata": {},
   "outputs": [],
   "source": []
  }
 ],
 "metadata": {
  "kernelspec": {
   "display_name": ".venv",
   "language": "python",
   "name": "python3"
  },
  "language_info": {
   "codemirror_mode": {
    "name": "ipython",
    "version": 3
   },
   "file_extension": ".py",
   "mimetype": "text/x-python",
   "name": "python",
   "nbconvert_exporter": "python",
   "pygments_lexer": "ipython3",
   "version": "3.12.3"
  }
 },
 "nbformat": 4,
 "nbformat_minor": 2
}
