{
  "cells": [
    {
      "cell_type": "markdown",
      "metadata": {
        "id": "l1Hr_mZZ8vhL"
      },
      "source": [
        "# Project authors: Cezary Suchorski, Michał Żarnowski\n",
        "\n",
        "Graph dataset source:"
      ]
    },
    {
      "cell_type": "code",
      "execution_count": 8,
      "metadata": {},
      "outputs": [],
      "source": [
        "from datasets import load_dataset\n",
        "\n",
        "ds = load_dataset(\"stanfordnlp/imdb\")\n",
        "train_reviews = ds['train']['text']\n",
        "train_labels = ds['train']['label']\n",
        "test_reviews = ds['test']['text']\n",
        "test_labels = ds['test']['label']"
      ]
    },
    {
      "cell_type": "code",
      "execution_count": 55,
      "metadata": {},
      "outputs": [],
      "source": [
        "import re\n",
        "import string\n",
        "\n",
        "def preprocess_text(text):\n",
        "    # 1. Lowercase the text\n",
        "    text = text.lower()\n",
        "    \n",
        "    # 2. Remove HTML tags\n",
        "    text = re.sub(r\"<.*?>\", \"\", text)\n",
        "    \n",
        "    # 3. Remove URLs\n",
        "    text = re.sub(r\"http\\S+|www\\S+\", \"\", text)\n",
        "    \n",
        "    # 4. Remove punctuation (except emoticons or domain-specific things if needed)\n",
        "    text = text.translate(str.maketrans(\"\", \"\", string.punctuation))\n",
        "    \n",
        "    # 5. Remove numbers (optional)\n",
        "    text = re.sub(r\"\\d+\", \"\", text)\n",
        "    \n",
        "    # 6. Remove extra whitespace\n",
        "    text = re.sub(r\"\\s+\", \" \", text).strip()\n",
        "    \n",
        "    return text\n"
      ]
    },
    {
      "cell_type": "code",
      "execution_count": null,
      "metadata": {},
      "outputs": [],
      "source": [
        "train_reviews_clean = [preprocess_text(review) for review in train_reviews]"
      ]
    },
    {
      "cell_type": "code",
      "execution_count": null,
      "metadata": {},
      "outputs": [
        {
          "data": {
            "application/vnd.jupyter.widget-view+json": {
              "model_id": "de19d4174c2649c0abe4ff24a7423909",
              "version_major": 2,
              "version_minor": 0
            },
            "text/plain": [
              "Batches:   0%|          | 0/782 [00:00<?, ?it/s]"
            ]
          },
          "metadata": {},
          "output_type": "display_data"
        }
      ],
      "source": [
        "from sentence_transformers import SentenceTransformer\n",
        "model = SentenceTransformer(\"all-MiniLM-L6-v2\")\n",
        "clean_embeddings = model.encode(train_reviews_clean, batch_size=32, show_progress_bar=True)\n",
        "train_embeddings = model.encode(train_reviews, batch_size=32, show_progress_bar=True)\n",
        "test_embeddings = model.encode(test_reviews, batch_size=32, show_progress_bar=True)\n",
        "\n"
      ]
    },
    {
      "cell_type": "code",
      "execution_count": null,
      "metadata": {},
      "outputs": [],
      "source": [
        "import numpy as np\n",
        "np.save('train_embeddings.npy', train_embeddings)\n",
        "np.save('test_embeddings.npy', test_embeddings)\n",
        "np.save('clean_embeddings.npy', clean_embeddings)"
      ]
    },
    {
      "cell_type": "code",
      "execution_count": 29,
      "metadata": {},
      "outputs": [],
      "source": [
        "from numpy.typing import NDArray\n",
        "import pandas as pd\n",
        "import plotly.express as px\n",
        "from sklearn.decomposition import PCA\n",
        "from sklearn.manifold import TSNE\n",
        "from umap import UMAP\n",
        "from sklearn.cluster import KMeans\n",
        "import plotly.io as pio\n",
        "pio.renderers.default = \"browser\""
      ]
    },
    {
      "cell_type": "code",
      "execution_count": 13,
      "metadata": {},
      "outputs": [],
      "source": [
        "def project_vectors(data: NDArray, technique: str = \"tsne\", **options) -> NDArray:\n",
        "    if technique == \"pca\":\n",
        "        transformer = PCA(**options)\n",
        "    elif technique == \"tsne\":\n",
        "        transformer = TSNE(**options)\n",
        "    elif technique == \"umap\":\n",
        "        transformer = UMAP(**options)\n",
        "    else:\n",
        "        raise ValueError(\n",
        "            f\"Invalid technique: {technique}. Choose from 'pca', 'tsne', or 'umap'.\"\n",
        "        )\n",
        "\n",
        "    transformed_data = transformer.fit_transform(data)\n",
        "    return transformed_data"
      ]
    },
    {
      "cell_type": "code",
      "execution_count": null,
      "metadata": {},
      "outputs": [],
      "source": [
        "tsne_embeddings = project_vectors(clean_embeddings, technique='tsne', n_components=2, random_state=0, perplexity=5)\n"
      ]
    },
    {
      "cell_type": "code",
      "execution_count": null,
      "metadata": {},
      "outputs": [],
      "source": [
        "pca_embeddings = project_vectors(clean_embeddings, technique='pca', n_components=2, random_state=2)"
      ]
    },
    {
      "cell_type": "code",
      "execution_count": null,
      "metadata": {},
      "outputs": [],
      "source": [
        "\n",
        "umap_embeddings = project_vectors(clean_embeddings, technique='umap', n_components=2, random_state=2)"
      ]
    },
    {
      "cell_type": "code",
      "execution_count": null,
      "metadata": {},
      "outputs": [
        {
          "data": {
            "text/html": [
              "<div>\n",
              "<style scoped>\n",
              "    .dataframe tbody tr th:only-of-type {\n",
              "        vertical-align: middle;\n",
              "    }\n",
              "\n",
              "    .dataframe tbody tr th {\n",
              "        vertical-align: top;\n",
              "    }\n",
              "\n",
              "    .dataframe thead th {\n",
              "        text-align: right;\n",
              "    }\n",
              "</style>\n",
              "<table border=\"1\" class=\"dataframe\">\n",
              "  <thead>\n",
              "    <tr style=\"text-align: right;\">\n",
              "      <th></th>\n",
              "      <th>x</th>\n",
              "      <th>y</th>\n",
              "      <th>review</th>\n",
              "      <th>sentiment</th>\n",
              "    </tr>\n",
              "  </thead>\n",
              "  <tbody>\n",
              "    <tr>\n",
              "      <th>0</th>\n",
              "      <td>-35.365406</td>\n",
              "      <td>16.689461</td>\n",
              "      <td>i rented i am curiousyellow from my video stor...</td>\n",
              "      <td>0</td>\n",
              "    </tr>\n",
              "    <tr>\n",
              "      <th>1</th>\n",
              "      <td>-35.997746</td>\n",
              "      <td>16.456532</td>\n",
              "      <td>i am curious yellow is a risible and pretentio...</td>\n",
              "      <td>0</td>\n",
              "    </tr>\n",
              "    <tr>\n",
              "      <th>2</th>\n",
              "      <td>-26.846764</td>\n",
              "      <td>-10.993340</td>\n",
              "      <td>if only to avoid making this type of film in t...</td>\n",
              "      <td>0</td>\n",
              "    </tr>\n",
              "    <tr>\n",
              "      <th>3</th>\n",
              "      <td>-36.712471</td>\n",
              "      <td>15.454796</td>\n",
              "      <td>this film was probably inspired by godards mas...</td>\n",
              "      <td>0</td>\n",
              "    </tr>\n",
              "    <tr>\n",
              "      <th>4</th>\n",
              "      <td>-35.809547</td>\n",
              "      <td>18.088961</td>\n",
              "      <td>oh brotherafter hearing about this ridiculous ...</td>\n",
              "      <td>0</td>\n",
              "    </tr>\n",
              "    <tr>\n",
              "      <th>...</th>\n",
              "      <td>...</td>\n",
              "      <td>...</td>\n",
              "      <td>...</td>\n",
              "      <td>...</td>\n",
              "    </tr>\n",
              "    <tr>\n",
              "      <th>24995</th>\n",
              "      <td>71.471939</td>\n",
              "      <td>-37.167122</td>\n",
              "      <td>a hit at the time but now better categorised a...</td>\n",
              "      <td>1</td>\n",
              "    </tr>\n",
              "    <tr>\n",
              "      <th>24996</th>\n",
              "      <td>71.538696</td>\n",
              "      <td>-37.048618</td>\n",
              "      <td>i love this movie like no other another time i...</td>\n",
              "      <td>1</td>\n",
              "    </tr>\n",
              "    <tr>\n",
              "      <th>24997</th>\n",
              "      <td>71.550247</td>\n",
              "      <td>-36.977451</td>\n",
              "      <td>this film and its sequel barry mckenzie holds ...</td>\n",
              "      <td>1</td>\n",
              "    </tr>\n",
              "    <tr>\n",
              "      <th>24998</th>\n",
              "      <td>71.644272</td>\n",
              "      <td>-36.552311</td>\n",
              "      <td>the adventures of barry mckenzie started life ...</td>\n",
              "      <td>1</td>\n",
              "    </tr>\n",
              "    <tr>\n",
              "      <th>24999</th>\n",
              "      <td>71.617691</td>\n",
              "      <td>-36.670551</td>\n",
              "      <td>the story centers around barry mckenzie who mu...</td>\n",
              "      <td>1</td>\n",
              "    </tr>\n",
              "  </tbody>\n",
              "</table>\n",
              "<p>25000 rows × 4 columns</p>\n",
              "</div>"
            ],
            "text/plain": [
              "               x          y  \\\n",
              "0     -35.365406  16.689461   \n",
              "1     -35.997746  16.456532   \n",
              "2     -26.846764 -10.993340   \n",
              "3     -36.712471  15.454796   \n",
              "4     -35.809547  18.088961   \n",
              "...          ...        ...   \n",
              "24995  71.471939 -37.167122   \n",
              "24996  71.538696 -37.048618   \n",
              "24997  71.550247 -36.977451   \n",
              "24998  71.644272 -36.552311   \n",
              "24999  71.617691 -36.670551   \n",
              "\n",
              "                                                  review  sentiment  \n",
              "0      i rented i am curiousyellow from my video stor...          0  \n",
              "1      i am curious yellow is a risible and pretentio...          0  \n",
              "2      if only to avoid making this type of film in t...          0  \n",
              "3      this film was probably inspired by godards mas...          0  \n",
              "4      oh brotherafter hearing about this ridiculous ...          0  \n",
              "...                                                  ...        ...  \n",
              "24995  a hit at the time but now better categorised a...          1  \n",
              "24996  i love this movie like no other another time i...          1  \n",
              "24997  this film and its sequel barry mckenzie holds ...          1  \n",
              "24998  the adventures of barry mckenzie started life ...          1  \n",
              "24999  the story centers around barry mckenzie who mu...          1  \n",
              "\n",
              "[25000 rows x 4 columns]"
            ]
          },
          "execution_count": 61,
          "metadata": {},
          "output_type": "execute_result"
        }
      ],
      "source": [
        "tsne_df = pd.DataFrame(tsne_embeddings, columns=[\"x\", \"y\"])\n",
        "tsne_df[\"review\"] = train_reviews_clean\n",
        "tsne_df[\"sentiment\"] = train_labels\n",
        "tsne_df"
      ]
    },
    {
      "cell_type": "code",
      "execution_count": 68,
      "metadata": {},
      "outputs": [],
      "source": [
        "fig = px.scatter(tsne_df, x=\"x\", y=\"y\", color = \"sentiment\",hover_data=[\"review\"]) \n",
        "fig.update_traces(marker=dict(size=6, opacity=0.7))\n",
        "fig.update_layout(template=\"plotly\")\n",
        "\n",
        "fig.show()"
      ]
    }
  ],
  "metadata": {
    "accelerator": "GPU",
    "colab": {
      "gpuType": "T4",
      "provenance": []
    },
    "kernelspec": {
      "display_name": ".venv",
      "language": "python",
      "name": "python3"
    },
    "language_info": {
      "codemirror_mode": {
        "name": "ipython",
        "version": 3
      },
      "file_extension": ".py",
      "mimetype": "text/x-python",
      "name": "python",
      "nbconvert_exporter": "python",
      "pygments_lexer": "ipython3",
      "version": "3.12.3"
    }
  },
  "nbformat": 4,
  "nbformat_minor": 0
}
