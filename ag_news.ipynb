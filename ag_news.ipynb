{
 "cells": [
  {
   "cell_type": "code",
   "execution_count": 23,
   "metadata": {},
   "outputs": [],
   "source": [
    "from datasets import load_dataset\n",
    "\n",
    "dataset = load_dataset(\"ag_news\")\n",
    "train_data = dataset['train']\n",
    "\n",
    "import pandas as pd\n",
    "df = pd.DataFrame(train_data)\n"
   ]
  },
  {
   "cell_type": "code",
   "execution_count": 24,
   "metadata": {},
   "outputs": [
    {
     "name": "stderr",
     "output_type": "stream",
     "text": [
      "/tmp/ipykernel_20546/1472204820.py:1: DeprecationWarning:\n",
      "\n",
      "DataFrameGroupBy.apply operated on the grouping columns. This behavior is deprecated, and in a future version of pandas the grouping columns will be excluded from the operation. Either pass `include_groups=False` to exclude the groupings or explicitly select the grouping columns after groupby to silence this warning.\n",
      "\n"
     ]
    }
   ],
   "source": [
    "df_sampled = df.groupby('label').apply(lambda x: x.sample(1000)).reset_index(drop=True)\n"
   ]
  },
  {
   "cell_type": "code",
   "execution_count": 25,
   "metadata": {},
   "outputs": [],
   "source": [
    "from sklearn.feature_extraction.text import TfidfVectorizer\n",
    "\n",
    "vectorizer = TfidfVectorizer(max_features=1000)\n",
    "X_tfidf = vectorizer.fit_transform(df_sampled['text'])\n"
   ]
  },
  {
   "cell_type": "code",
   "execution_count": 26,
   "metadata": {},
   "outputs": [
    {
     "data": {
      "application/vnd.jupyter.widget-view+json": {
       "model_id": "fdb0a5270bf4446b99bdaebe186a04b4",
       "version_major": 2,
       "version_minor": 0
      },
      "text/plain": [
       "Batches:   0%|          | 0/125 [00:00<?, ?it/s]"
      ]
     },
     "metadata": {},
     "output_type": "display_data"
    }
   ],
   "source": [
    "from sentence_transformers import SentenceTransformer\n",
    "\n",
    "model = SentenceTransformer('all-MiniLM-L12-v2')\n",
    "X_sbert = model.encode(df_sampled['text'], show_progress_bar=True)\n"
   ]
  },
  {
   "cell_type": "code",
   "execution_count": 27,
   "metadata": {},
   "outputs": [
    {
     "name": "stderr",
     "output_type": "stream",
     "text": [
      "/home/cezary/DataMining/.venv/lib/python3.12/site-packages/sklearn/utils/deprecation.py:151: FutureWarning:\n",
      "\n",
      "'force_all_finite' was renamed to 'ensure_all_finite' in 1.6 and will be removed in 1.8.\n",
      "\n",
      "/home/cezary/DataMining/.venv/lib/python3.12/site-packages/sklearn/utils/deprecation.py:151: FutureWarning:\n",
      "\n",
      "'force_all_finite' was renamed to 'ensure_all_finite' in 1.6 and will be removed in 1.8.\n",
      "\n"
     ]
    }
   ],
   "source": [
    "from sklearn.decomposition import PCA\n",
    "from sklearn.manifold import TSNE\n",
    "import umap\n",
    "import plotly.express as px\n",
    "\n",
    "X_tfidf_pca = PCA(n_components=2).fit_transform(X_tfidf.toarray())\n",
    "X_sbert_pca = PCA(n_components=2).fit_transform(X_sbert)\n",
    "\n",
    "X_tfidf_tsne = TSNE(n_components=2, perplexity=30).fit_transform(X_tfidf.toarray())\n",
    "X_sbert_tsne = TSNE(n_components=2, perplexity=30).fit_transform(X_sbert)\n",
    "\n",
    "X_tfidf_umap = umap.UMAP(n_components=2).fit_transform(X_tfidf.toarray())\n",
    "X_sbert_umap = umap.UMAP(n_components=2).fit_transform(X_sbert)\n",
    "\n",
    "df_sampled[\"label_name\"] = df_sampled[\"label\"].map({\n",
    "    0: \"World\", 1: \"Sports\", 2: \"Business\", 3: \"Sci/Tech\"\n",
    "})\n",
    "\n"
   ]
  },
  {
   "cell_type": "code",
   "execution_count": 28,
   "metadata": {},
   "outputs": [
    {
     "data": {
      "application/vnd.plotly.v1+json": {
       "config": {
        "plotlyServerURL": "https://plot.ly"
       },
       "data": [
        {
         "hovertemplate": "color=World<br>x=%{x}<br>y=%{y}<extra></extra>",
         "legendgroup": "World",
         "marker": {
          "color": "#636efa",
          "symbol": "circle"
         },
         "mode": "markers",
         "name": "World",
         "showlegend": true,
         "type": "scattergl",
         "x": {
          "bdata": "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",
          "dtype": "f8"
         },
         "xaxis": "x",
         "y": {
          "bdata": "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",
          "dtype": "f8"
         },
         "yaxis": "y"
        },
        {
         "hovertemplate": "color=Sports<br>x=%{x}<br>y=%{y}<extra></extra>",
         "legendgroup": "Sports",
         "marker": {
          "color": "#EF553B",
          "symbol": "circle"
         },
         "mode": "markers",
         "name": "Sports",
         "showlegend": true,
         "type": "scattergl",
         "x": {
          "bdata": "qPpFcHNZuL9q5dsfZrKsvzbmwKIOn7K/0TZnHFFDq7+0PK88geetvziP+qMB6oe/hxlezh9fmr9ocBUQh6mjv9JoGxwdiLu/VfR8/54mnb/IDgiMqQKvv84We7cSVqO/X9pvgHY+wb8RAvnDb2+2v1fGvjgpzJg/yEe0rhBUsb/fB6hnk8yCP85dnb8UN4g/ROb2V10wsL81EdwNiq9tPxS+5zref6e/UWjMNQ2DtL+0iIHq3ah9v6o/djqHv7G/ENZI/LG1sr+uyqSdMaeov/rShzClRbG/+HA4NuXJo79e9BBKccS2v+1sXCvZgma/mgJKoz6Ssb8YYYNPAqRmP0tZeDWt7bG/XI5yy5FSsL9PpzW8lvuyv1c4DGrWRJS/eCYUEyFxsr9xEGapl0mqv/ZXzqbdPKy/rkjg+GU5w7+DRfWnwJaov9KRlDgX0bG/XuPD7xH6b7+5xx3tKIKjv1gXoyX6TpS/me3CytIgsL9idYxLgaidvxHF88VMRsC/2gxXd5Wem7/sEfntvUbUP4jdgC15PbO/waCZ0KRPqL8EdOuYWbKSvwbMsk4omKm/GbPXeVeAbD8ccawXu0myv1RgiNGcBK2/mKjdLQ27sr//v3BNklmsv3bZ5HgmVbm/WpfVeBDet79QZyiO7EOkv3679m6uhq+/tv3snZd4rr9QIL55beypv+pSma0cyrO/UvlbaosEsr8OcIDHjliiv8MhiFjCmri/D1O32K2Mgb9h7r4ZhjKhv2gKsoF5bam/eAymquFWk7+7vP+duV2yvxT5EYeJwYK/br5238vwn7/c3Zz0gXmev8FIJ0xzGqe/sfY44an2s7/u9hegN4qzvxInPmtv63A/rd4En2PXp79+hOKS1YjAv1M2A+XqI5y/K/N6Fn5ygb/yHvleuaOhv1M2e4A4E7i/k9SpvC4ut7/CVSC4rMuyvyiSJ/4K/bS/Ztw0y8/mq7//d9+3g1W5v3cjKJBwhLC/wHBG+NuNsL/g4AgZWrSEv7YaO0yueqC/EoX2/1lT0D+OXukCJs63v/7LuelHN6a/HsleLtxJr79wT1D/5pawv5POMSpZf7O/QtoIlv7r1D/YiYLUAteDv5NbZ3uhjp2/FqHcI7GWkb9M7t3DIU+xvxBQ3Fpse62/CNEm+3wcpr8SQbbTKXi9v7i0F3TFM8C/XQ2jPzKbiT8P0ncH1dCrvwYo1DvPlHq/Gra6x6a1pb+cXyyjdAWwvwoWPnD4jpi/MbnPBIH9ob8xT1HJXfOqvzC3GoMJT7O/HIHXNy+is7+4wBF6xLmvvwKIt91Dt6S/ZOe8NzUzl78md8qC1walvxChAwROMLW/vuQ4GvCvi79n3hgDEyl7P33KmXfDqrK/PUZdTnSvtL8/kH7ZrzODv/bFAKyuFrS/jpwM03y3tr+2X0jBjlh+v7yLFliAsJo/pE478j/Rpr8lNLmV3cGwv/3Y3S5QVZy/cwhJYFFfsr+py1ShIli4v4lFeCpc3bC/0rXDwFsRmr8+UNfAv8+ov+TxG+ifHrW/XorIQuwKtr+NZb13N6Kqv9QZ5WfaR4K/y6fpSfodsL+6vQmHrleRv48rAIGH64g/OdQtIb7Xnr/oag7q7sy2v+VC4hs9YMC/yIE19X4Rob9O7mGm1mOiv+M7yzv/JKa/l/eGqbgzm7+JhO1JDiqwv1YKR0vnH7m/9g+a6G2sb7++cWYB7jK6v7gBDWsXO7u/rt1464pitr9AhYRHcSqmv6YOIuZ/CIG/V6+zrEfUtb+5JUme4qquv9O8YqM1RaK/NX9NQL3xjj8JLnWoAGiSv5VP+AR+Jbe/HLegFdsasb+sFJImCTSxvwDSYlghPtE/UVwxRw5cfr8UDJC9KFq4v4623mn5BLe/dOnDYhj3qj9dWP1q9h6gv6PknDl/Xra//DsO7eqXtL+17JlXZiW0v08oTPkW+6K/ze35hpGCp7+gRFFwLxC6v5NKknAo2bK/x1gsbggDs79h7d+9nlK0v8wo/YN6ibO/CPZX3QwEzz/NNyacZOa1v6dZVRQI9qG/QAepFGfhpb+++2Pzpyeev4Vf/Shw97C/WyOGdaY1rr9GDwDku4myv+eUDVVjobW/0lW7qp1ArL8m2JHrxkKzv5+bVADilqW/B0xpe6cZrb8BTriTdRSrv4jwBgPq+qi/6o0i+iNMpr9ubFEKY1qwv0wbAh6D47a/jI6BlhlPpL8FWHJcNcCzv7VZSGUThqO/WpZQET6dq78bSRCNyXC4v7AEt8inaJS/Ml8kIf+Lt79wGVLbcW6rv/kC1D20cqu/jruAkwf9r78NAx7vF12dv71TNXCWrra/tDyRwm8xsL8GaUvsGoiwvwVxKldqj9E/OeltCehcm7+Wol5af8J4v5Yutre6McC/Y4J5I4q3tr9OoMLkNQG2v0yZwdmeerO/Q7iYUjqQrL/iDO3+d6m1v2AVlNQjQKG/SMajSycQq7+vEFBwb8aiv81YMmsxRba/6jsKMYWJvr/gr+mXPC+xv0Ft8x6eX6C/+Gc777b8nL9QleoMyWejvzwVorryDaq/n5RxWK07tL8XgN8Us+qnv/oECfp8YbO/PmYptexWkL/nW3wbOSOMv0vflkkh9rS/eoLVi0CjrL9V5X41VVyyv5BGLrgRtMG/XouoHjSQqL+yDAqMj1mlv5FVp1GnT62/UW4VS7scnb/gL8dcjmC1v98HJvuKcaK/D6ySnLqsnL+roP4+7jC5vzJMTbC4rbe/z+o0iZgwlb+lpX5NRFu2v8takcyAebm/HutbNTXngL+q+qdd3Yekv0O3Nr0qUZy/8BWYa1Gxsb8oL0YfPfuzv1ndjfWDMLO/2h1Llqd0kL8t1bi3V2q6v5UovOO17a6/AsN+v1RQsL8P78Sr5j23v4IqYlJ5Ha2/6VDqhuN+s7/JM8HKLEmvv78JYmTwHLC/Q38BXAYVwr/Pm0q/rZyjv1gxaKPiZYi/wjS9ZZAZt7/2fB7kTWauv5dg4Nprapu/rAT+sRyYr780cazHPQK9v/5BKX3nubS/sF/qK+8Oo79C1kOytD6av9HNjDe65aq/yit0wtUxpr8MxHEyVYSiv4Os1oaHzrC/ktkNITQHpL8878Q9k6q0vzSfN98Awrq/sGekJUxYpL9XiECXhuKxv4tC4k/B5Km/S14OVQg6mL/TRjy6dM24v3OnjJPFHqS/0Ss1N7qMsL9rg3B8QCKYv8AIFYk9cKq/Wi/CwCmdsL/gCSg/bXqQv+gYtmW75aK/vGc8dp+xir9asuKxX2nVPxgfzarViaK/2uyipP0Vpr8aOioXbMiTv0WcQ7eo56K/CtRKiolPrr9e5HEEamu4v5LiMzs1kau/H90fjfmMsD8DC2SL6YSvvz8YujhwarK/j0tD2aNkv79WV5Wjr+2mv6QwTSXmZHy/5RMzYt9Crb/mxGL7NT6Tv/fPlkLWC7S/twsyr3s+qb+QKU+hi7G2v5LJ4oyLtqm/alWbdxyVuL/YPEVLr7ebv5CBikna8qC/I9JYnw+Jr7/a/Up2s8Gtv9WrBWukmb6/YuXUd1pRnL+otgUDjNqnv7P8cfoGw5+/+s+Bx+zckj+hu0fng+i2v34HkVv2V7W/rIYhO/w8qb+gzVihfr+gv1aP3uIDdHi/il+OXCGvrr/vCKq6mtGuvyPEy+PwhqS/GsMOsKZlqb8N+sW35YewvwRwmAhXcrC/sK2wf95ucL9BWWSGGruxv7x2hHDLJa6/2rxI0TxYtL+0GKtvTWmkv7a7XG10iLW/cKi3z0xZsr91NkDbPZaQv3kqnsk9VtA/GhfGT7UmpL8cWmwid8qrv4KxlQFbyrG/8cKcznnopr8UG1/FeZqsvzDGvhVfL5y/q4Yo1vLUsL+TPYALH0V+P96lmIgN9bC/J00o2zo8rr+H/cuxXUqgv3V9V4tiBry/4bZ2sGhNpL8ueQLJFWabvx5QKJ2V5bC/8WnLZkX3pL803KDk9/mlv80arjB5Oqy/gJ4pLP2JiL/OG7lSwbuwvy2y/oCIxLa/hsCqUijJo7+cH6JT/kOEv29BStnyd7W/rkPgtpKZmb9PQLYPNHt/PzkXe/6nkqy/VFMmoglRr79p6aS4oXGxv7xqanS4UbS/IqBf2zh2s78w3/pRcm7Bv/2TnhN7Yry/zcJ7qJ+otL/CxMIiyLKxv1fs8CK1WrS/rrOU+UUjmL/Mng+7uaWsv9aNxjo69bC/S/qsqi8EsL+NvJda7nmrvztVrN47JaG/EeCgYY/Nn7/cp5Au/l6iv29cFHDGbZm/c3Rk6gtWlr9KB6Z6o4+jv4D42GYLcrO/GpzzPOwEsL+qGDC75ZWmv10DVaNkU7C/tYXlYIjmcr/rkMCMHMy5vxg+LnfR16y/8L2gEUbXrb9zaqxUNYmvv0+wOJzWfiO/FqXr3naPob9a9eO+Ujm6v5iWxrRUBrK/Hm1dvezzRr++WRy9pqi8v9XDFigBzq+/uOVVWqNVr7+ciBilORCxv5KeUHPTgaC/UYRQ5Zcutr9TAsaW3Nqav/OeoSEtiKm/SyWlg8xHoL/wCyoS20+bv26XYaI2NLe/lza3r9sFsb8jKaoI+Q6gvzj1pm/GrLG/m3Ka2jW0tb+3VNF9tFFPP2OQsMbAp6K/FREeluEosr/FA41ZU2aov9p34HJ+3bC/C9Wje5Uht79wlvS3vzuqv6mwd092NY2/cX9whAHHtL/vacULl3uAv5XvmaKp6bS/RP7uUvfAir9BKyt7HKKmv4JbqnvwIKO/MKOXLBauqr/SlnG55AiQvx9YPSpwKoO/pSn9imn+sL8RhJ2rILSuvwW5+iM+q7G/QofqRWndnb8qyFdwHF50P/3yWf9Sy6y/w5+pLyA2rr/XMTnpMwacv5pWEFElsaa/VTffevAvpr+aY9Pm6jmov2lzKboRhLm/rLb5MFZ0lL9/OgHGzjWbv0PSkpsGErI/hcjjDYvI0z9wGnSVWdi2v++UPMtqLp+/17Kaglrbs78gNVnE/c6Kv2JLA5qmdJ6/txBcdL6Eyz+ir0BsCvuuvzsINZpeXrS/qsLFh/MxtL+uX99idPLBvxcZAxYwS5+/H4CYPo0bq787QDuzd7+vv7on8Aakf6i/u8yVeOsksr96rb84M+i5v+wcqoM3UrO/1OYjKeEfo7/fdlPR0Y/JP+MrvWQhl7O/gep9deFpoz/2ozCM8pirv6riTK0wFI+/rsFK8uWFs79e57mFwe2Xv/VDWNJDOLa/9kgIN9ORrb/cKdobo9Kuv+C02owvaqC//QVPcHqCt78i4bTx6nyhP+I71Ib7GXs/I1sj3w0iqL9+oI+XlsenvxiJ6rFHcre/BrF8YsENrb/BkysQvQizvysiCl4ayre/0/vJ1+9kqr/Ul7mAlfK0vz7Q39tEAZu/nmBGFvyrtr+6xwrnJ3mgv1kBvleNSKK/3lOMmZkhuL/Y81Am4M+ivwg081EtJau/CyeMKl5Npr9wNSNOBFC7vyNbq6RZx6m/hi1i40mTsL+IMNex7OOzv/zkKnJnvLe/anFdMLPlu7/JFL2DqpeZv64yL/rQFbO/PdDX2AfFtL9qU6MhsOybv+vWBXqURJa/pRzapa/+nb/5+dmAOCeLvwVeuMtkB7O/rMBAYZlKtb+tKyitnrO5v5NDZaLjrp+/RXLq7Y38nr/yG+T3keOav6pw+ImfmLC/431hU9XupL8x99q2Nnmlv7uGDrCUCKK/zhqyKS5rm7+IVIEu73Wjv27HFV+RqK+/GZrAiy6eob+rInF+37Kwv8XrC2p48rW/X0df+B6mrr/3/GTKJbe4v+L/yw8T8q2/Yld2wpUfl78W1D5O7Cuxvz79QjH8eKO/dxnjOHhErL8l8a4bdSKjv+BbnSycCKS/R6W0edw4ub8n1uCxX8dxvzFYXTxFvK0/NHt9kp+Glj8nmbJnDO+gv9oaxIfcrbK/SOT4xsMyu7+y5Gy8oze3v8L5EuCccK+/dz+yikAjkr+xyUp24D61vyzsK7W9iq+/+Dl2IfGJtr/ZkuQ9Lx2zv3JFsx/EE7C/CCiEyTLnsL8GeXhj0YOnP1Vjr6EEq6S/0O/IyhMRpL/m4Atenga3v33to56l+bW/TAZer4Nnpb+DRjsamcm4vzNHCTFZqbm/7vgaXVd8t78gxHw48k11P+63sOL4bra/SasZVZuznb/fWHfqSJx2v6oeTk2am66/IZkNOKRIi7+3qRljU32sv/5JYf11urG/Bjhh4oz0s79PrisGa/Wcv+mRI1buALa/ehMzA8IKt78mtzSt1RaxvwjnmZv5kKm/sgEhcFjgqb9asQTLN26zvzmui4L7Yqu/bnSEeN7jvL8xBhayhpmfv452y+8bTMK/cy3iSAtzt79VlurKYya2v5a4G3YvjL+/ldb0V/gstL+Scvb6YRqsv92W0s/p7KG/jkqT2D0Dnr8ZdCRfvC26v4bicaJFc6C/xVgPBPE7uL+l3kMZhP+2v4wFmGZVQbW/PCr0QP5ks78zrLDINT24v4TGxCWt0JO/xW4N4EyTsb91yXQ3TdWVvxNAqYQroII/4itz0MoSsr8LyEBcybOzv6CfAAGMtMG/WicU2DAGmr9Np/PUcivWP8acHSKIhLe/R7E9PS6Mdr/KW5+lvjaev0NeYsbAldc/Szt410MTub8knoDONvqJv8sVlnKQjqi/1omY6Gcfs78yuEY9tNm7v0SB2GJdura/EyZKiMQarb/CJ7vQUZ+2v7SBQcIxTpW/Jh+Z6FxNi7+EgD0FB02evyyE32S8/qC/HzwPnXJRnr+9LPM0oWugv9EByo8pRZu/HygLPzEBsL9cIZxygGmwv0tvc0mNG6i/FWb4QtLmuL+ceTEEFzu1v9fRWnv9eqS/VmPYpj/5oL+bFNLInA25v6eP5kOD2KK/9TXrjvl7o7+bHucfGCOqv18nTXB7toW/PcFPS8HP1D84ZzRcw3ugP1ipZB1fUKa/c1CTVA3sqL/DAD9r4/qnv4FabBsipKG/+f1UVRLHn79Ijjqj2HWsvzdju70mE6e/RqU//4rjt7+WAbyVqrSpv24JhdqZFaK/vQp6WuWHr7/SuGQs6DW1v0PsWnypN7O/aRE5cOFXqL8GWMOnli2zv1L/1HLHWLW/5nyibzuxa78REBpU9LSIv35sHNfm14O/3bafz/XboL8zWxP45nS1v+7+faTw45e/OhO/4KL4jr+BxGhVzUyov7b86K00yKa/9PSy5EiTmL/JmLLGMr28v8vjPHdukay/M17Xqzgltb8U1w05ADuvv4WLdL6ya7G/Pw/Z+dF5pr9h7EcyA42ov0h6YBilNYa/P1qXearkrb8rX6uLR1Oxv5rD8O7LmKG/EC+Tozjkq79nFbwGuaq4vytz4Y+OpKC/JV/DOb4vsb8S4hoWVR+5v9S0ASgUfrC/Bu6Oxpnuo79ayK6SW6mJv3szo5xVaKm/VPsIVA+ssr9f8S8rXWGxv5aP7ci786K/AOQf+Wp/r789GYY6Jk6nvw5Ma/DFS0m/X6Fc2+PQj7+rsrmqm+Oiv85ntC6erKO/ptNgSlrzob9V4ASV39awv5rTgbj/+ru/xYcEjYh1sr/bulINBH+4vzYL5Kw2pbS/yQsLoTn4sb+8a9xemSK7vwv5Dty7p7m/xafUVrV0uL+WPIqvy4Ksv6QgZ2/nHtA/ZkC+hneosL8ftQCRUzycv5u0wd+UZ8G/UsvLfW2esr9sMcL71TGkv83PhkCUF7a/lMr1mIYtlD+U/69KnMGlv7D3Wr3qaJa/vOFIggYFyz8hrvP2CnKnvwtwK9QwQLC/yg+7dc50o79tnTS/lButvwgPAh58FrK/WapSqIsior/dDzEgGzWIv884b6Ci2sG/Efbvo0XVr78pfxeJTCS6P3CeTPFrEaG/TXlQxgFduD9dOuNpuQOzvxDmOlXlTbu/ksqJJpSEsb/ACwaJUUOqv/VTVHQlA5K/24gNxpV4rb/kr1/uk3S0v4T6v4qO8Ku/j6pQke58pr8JDLOGfjapv+IMdgZO2bq/w1mM0dYB1z+qqhGyBPa2vySnTKk9o6+/2fkqFPtrsb+xpZn401Wjv+vWJYzG8V+/XLyjOX38sL+xA7sudBW2v+v6QcJeuaC/uUrYI+7Ntb9PPFmzZiy5v9GIjk/W2q4/qFtpIvF9rr8cLtTDMqZ0v2H0L5walre/Jtvmx+Lpv79Porzp/byOv83MJC1hP7C/b3ivy8nXZr/YnxpTwZCpv3JwXHiNXrK/AqYc2Yt0tL8k5sF+KjOgv+tcl4xMxKu/vthvaDGtkD/KKpO+LoGkvxZYoEvCC7O/w4LmKF6uqL+vq/qVGPNqv1P1ZQG38rW/8sUEItoaqr/bzpFpPk3JP+5NqU8qtNE/GbkLvh3jsb+lqYdxtFGlv8UWpsUnVbK/Yd9M+9gloL8mGcLYtrylv1fLSMqKerC/gu/Xm5CccT9IILeIQ66rv37JFAa7zba/hi83kUOdtr8bb1I+zN+bvz7XUE5Ugqi/3BIW1y5ipL8ZkAsGAn6Qv22W3UhmK6y/CQHyAGL1sr/zC8UkKQCrv9Q1dERgFEy/gC2qvYEOrb876WlWseCiv8ETYP9osKu/0C6S5l5+tr8tTaRJN4q3v83jmpJLdLG/Ts88gsD5rr8N+a0hYaC0v9u8d9ANUqi/NYxxNJAAnb8XAyyWIKqRv98APRIZHIa/0VbEJI7nsb864dx5hSOwv/k0x20k2b6/S+oPI8uNq7+pvoyXpZ+Wv+JciyYIXK6/hir3IHX8sL/+mX5DeWyov6kVxU84R7W/3wNY+5Mwsr8DzJGAZzC+v3JMJxoBQ3y/jG+HkG67t78yLwy5Im6Hv3z4TkVYeou/CHyLbFr9q78FRIU3EcWlv0Rkng2c07C/BJ9EtDLflr/EwfIqmYOyv0U+TSNjLrC/7PcXGLFVtr9J0A0taSClv7F20hj9V6a/wtEDI/dytL9wxxGJftycvxRb1ctv8LO/gaWNZV/nnb/+q0jROwO6v2yUhz7xUK6/Jubl01bMrL+2C8Z/wNGQP1Bu3citaWc/jLtL914ghr9SE3lLcumWvzxuiovKYbC/Qb39F7ldkb9na32tosmyv4dXf+OfFaE/oAyhJ52PkL862mIVBN6uvwW7M6fLYra/Zdg2DJUnir+dJxRcJ4+2vxa6/30M0bS/isTGppWUq79DiQhdO+iov0hXMz8IP6e/iB9cCYy0sr9BCE6ZaYqovwLlhgVA4Y2/Lfg1Mj+wob+iv6GLht6JvzZdGpWYWqy/IaXa6MP0jb8V5bLwuN+nvxHHtoa8A7W//gk/9+NisL9PHNep6RGlvxBuA0gZdr6/+No6GUoztb8ZAzcuRq2sv3quez66b6q/1NvSYOyltL8g6bIWyNu1vwlCSNDimpm/Wjou7lutsL/Cva/yQlqGv9AKCiNPLrm/rA1wlO50ur+obWeo2cGgv9PCC7uN1Z4/UctBMU6xtr+cgqeVXaC0v1+wqYr9v7O/YTfy1n4kqb8e5KHYjgGaP8VE23z2qbS/PAPDm1qCdD9Lhio+4UWyvzx7Ym6qgXI/h3ACFQxZrr9YhyVsCNu4v4T6xfCuQLq/4QBwd40Jnb+//34reZi4v/akspUbWKW/Oo90MJaLqb/ZoaGVebWxv7LquXl7ZLG/sj7dzTDGrL/sE2jjVtyuv+Zw/G6x+c0/MseOvCQCs7+pwDRy75N9v4HkSBuHT6a/Frh6iFuKqr9gvnoeFLqwv9u7jcY1VrG/4qg6EJ5Zqr+IXwKrCJCxv/5OdyuGLrC/4fWDrR7Evb91Z2ma8Fiev0Lrdh7A6JK/5PPfQDEGv79oTT0f/kagv2cvfA8SKay/qKed+8xjqr+R5vpRp8OWv8gaFLwR1qC/IXeDX/oDsr+D6VXWA1Orv2YwNay7uLW/Cz0zZz+7uL+mlCy82qmjvx8Vyyi937W/mrXpComour+CxZOqr1+bv5ovWmzSlJY/Pkij/DBNsL8FILbBzGOzv7y8EChwrq6/0Oz2PAd1gT+utzQdP/Cyv5mjfi0UTJ+/J1c6vq7Cob+1jri34mPTP1CQzKLKK6+/G081tCTlsr/9GDol/Lynv1+cvFR4/Zu/unphoyQ9pr9CQRZaNnSrv48s6gW4ppi/WCuPiyrKsb+WH7NiRz6qv0Ulrjx1o4a/JPuRksUGlr9Mg53ZTRmmvw16fPDAwp2/PNGzpAtEo7+7m38GPT67vydLCG+9IbG/4B0VtsIsob/cpKsHunqzv+ktg+lvoJs/Puqo/2wntL/wUsEvy2awv4ajLU7G4aq/QuPM8KdIob9Oiujownirv+xU3u5D2Z+/XkJ+dOu+rr8XwgmhAPO0v/R2Ek/u052/RZD46SJWtL8D0mOX7J3UP7TgkVXba6u/ET34JrjkrL+x+eJ4rhG2v7yDzZWTX6O/t9nRh1gQa7/OKijtp+64v30Tgje7oba/ipWNAzEoo7/Ol6ZvNB+7v/jvejXb/qC/2i0Jgkbotr/NvfpLUHOxvxmDiIVhxqC/3nPqIA45o78cioHggOTVP5iKITrKuGe/6ZMHY0hYtL9o6PDBsk6fv3te5EqpuZi/20oqqP8lm7/7Zjuu4T2jv6qhD9oTDb+/HXZfwxfuuL9aJXwA7b21v3ZYDt5CnrS/BQEW9lfZur8=",
          "dtype": "f8"
         },
         "xaxis": "x",
         "y": {
          "bdata": "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",
          "dtype": "f8"
         },
         "yaxis": "y"
        },
        {
         "hovertemplate": "color=Business<br>x=%{x}<br>y=%{y}<extra></extra>",
         "legendgroup": "Business",
         "marker": {
          "color": "#00cc96",
          "symbol": "circle"
         },
         "mode": "markers",
         "name": "Business",
         "showlegend": true,
         "type": "scattergl",
         "x": {
          "bdata": "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",
          "dtype": "f8"
         },
         "xaxis": "x",
         "y": {
          "bdata": "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",
          "dtype": "f8"
         },
         "yaxis": "y"
        },
        {
         "hovertemplate": "color=Sci/Tech<br>x=%{x}<br>y=%{y}<extra></extra>",
         "legendgroup": "Sci/Tech",
         "marker": {
          "color": "#ab63fa",
          "symbol": "circle"
         },
         "mode": "markers",
         "name": "Sci/Tech",
         "showlegend": true,
         "type": "scattergl",
         "x": {
          "bdata": "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",
          "dtype": "f8"
         },
         "xaxis": "x",
         "y": {
          "bdata": "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",
          "dtype": "f8"
         },
         "yaxis": "y"
        }
       ],
       "layout": {
        "legend": {
         "title": {
          "text": "color"
         },
         "tracegroupgap": 0
        },
        "template": {
         "data": {
          "bar": [
           {
            "error_x": {
             "color": "#2a3f5f"
            },
            "error_y": {
             "color": "#2a3f5f"
            },
            "marker": {
             "line": {
              "color": "#E5ECF6",
              "width": 0.5
             },
             "pattern": {
              "fillmode": "overlay",
              "size": 10,
              "solidity": 0.2
             }
            },
            "type": "bar"
           }
          ],
          "barpolar": [
           {
            "marker": {
             "line": {
              "color": "#E5ECF6",
              "width": 0.5
             },
             "pattern": {
              "fillmode": "overlay",
              "size": 10,
              "solidity": 0.2
             }
            },
            "type": "barpolar"
           }
          ],
          "carpet": [
           {
            "aaxis": {
             "endlinecolor": "#2a3f5f",
             "gridcolor": "white",
             "linecolor": "white",
             "minorgridcolor": "white",
             "startlinecolor": "#2a3f5f"
            },
            "baxis": {
             "endlinecolor": "#2a3f5f",
             "gridcolor": "white",
             "linecolor": "white",
             "minorgridcolor": "white",
             "startlinecolor": "#2a3f5f"
            },
            "type": "carpet"
           }
          ],
          "choropleth": [
           {
            "colorbar": {
             "outlinewidth": 0,
             "ticks": ""
            },
            "type": "choropleth"
           }
          ],
          "contour": [
           {
            "colorbar": {
             "outlinewidth": 0,
             "ticks": ""
            },
            "colorscale": [
             [
              0,
              "#0d0887"
             ],
             [
              0.1111111111111111,
              "#46039f"
             ],
             [
              0.2222222222222222,
              "#7201a8"
             ],
             [
              0.3333333333333333,
              "#9c179e"
             ],
             [
              0.4444444444444444,
              "#bd3786"
             ],
             [
              0.5555555555555556,
              "#d8576b"
             ],
             [
              0.6666666666666666,
              "#ed7953"
             ],
             [
              0.7777777777777778,
              "#fb9f3a"
             ],
             [
              0.8888888888888888,
              "#fdca26"
             ],
             [
              1,
              "#f0f921"
             ]
            ],
            "type": "contour"
           }
          ],
          "contourcarpet": [
           {
            "colorbar": {
             "outlinewidth": 0,
             "ticks": ""
            },
            "type": "contourcarpet"
           }
          ],
          "heatmap": [
           {
            "colorbar": {
             "outlinewidth": 0,
             "ticks": ""
            },
            "colorscale": [
             [
              0,
              "#0d0887"
             ],
             [
              0.1111111111111111,
              "#46039f"
             ],
             [
              0.2222222222222222,
              "#7201a8"
             ],
             [
              0.3333333333333333,
              "#9c179e"
             ],
             [
              0.4444444444444444,
              "#bd3786"
             ],
             [
              0.5555555555555556,
              "#d8576b"
             ],
             [
              0.6666666666666666,
              "#ed7953"
             ],
             [
              0.7777777777777778,
              "#fb9f3a"
             ],
             [
              0.8888888888888888,
              "#fdca26"
             ],
             [
              1,
              "#f0f921"
             ]
            ],
            "type": "heatmap"
           }
          ],
          "histogram": [
           {
            "marker": {
             "pattern": {
              "fillmode": "overlay",
              "size": 10,
              "solidity": 0.2
             }
            },
            "type": "histogram"
           }
          ],
          "histogram2d": [
           {
            "colorbar": {
             "outlinewidth": 0,
             "ticks": ""
            },
            "colorscale": [
             [
              0,
              "#0d0887"
             ],
             [
              0.1111111111111111,
              "#46039f"
             ],
             [
              0.2222222222222222,
              "#7201a8"
             ],
             [
              0.3333333333333333,
              "#9c179e"
             ],
             [
              0.4444444444444444,
              "#bd3786"
             ],
             [
              0.5555555555555556,
              "#d8576b"
             ],
             [
              0.6666666666666666,
              "#ed7953"
             ],
             [
              0.7777777777777778,
              "#fb9f3a"
             ],
             [
              0.8888888888888888,
              "#fdca26"
             ],
             [
              1,
              "#f0f921"
             ]
            ],
            "type": "histogram2d"
           }
          ],
          "histogram2dcontour": [
           {
            "colorbar": {
             "outlinewidth": 0,
             "ticks": ""
            },
            "colorscale": [
             [
              0,
              "#0d0887"
             ],
             [
              0.1111111111111111,
              "#46039f"
             ],
             [
              0.2222222222222222,
              "#7201a8"
             ],
             [
              0.3333333333333333,
              "#9c179e"
             ],
             [
              0.4444444444444444,
              "#bd3786"
             ],
             [
              0.5555555555555556,
              "#d8576b"
             ],
             [
              0.6666666666666666,
              "#ed7953"
             ],
             [
              0.7777777777777778,
              "#fb9f3a"
             ],
             [
              0.8888888888888888,
              "#fdca26"
             ],
             [
              1,
              "#f0f921"
             ]
            ],
            "type": "histogram2dcontour"
           }
          ],
          "mesh3d": [
           {
            "colorbar": {
             "outlinewidth": 0,
             "ticks": ""
            },
            "type": "mesh3d"
           }
          ],
          "parcoords": [
           {
            "line": {
             "colorbar": {
              "outlinewidth": 0,
              "ticks": ""
             }
            },
            "type": "parcoords"
           }
          ],
          "pie": [
           {
            "automargin": true,
            "type": "pie"
           }
          ],
          "scatter": [
           {
            "fillpattern": {
             "fillmode": "overlay",
             "size": 10,
             "solidity": 0.2
            },
            "type": "scatter"
           }
          ],
          "scatter3d": [
           {
            "line": {
             "colorbar": {
              "outlinewidth": 0,
              "ticks": ""
             }
            },
            "marker": {
             "colorbar": {
              "outlinewidth": 0,
              "ticks": ""
             }
            },
            "type": "scatter3d"
           }
          ],
          "scattercarpet": [
           {
            "marker": {
             "colorbar": {
              "outlinewidth": 0,
              "ticks": ""
             }
            },
            "type": "scattercarpet"
           }
          ],
          "scattergeo": [
           {
            "marker": {
             "colorbar": {
              "outlinewidth": 0,
              "ticks": ""
             }
            },
            "type": "scattergeo"
           }
          ],
          "scattergl": [
           {
            "marker": {
             "colorbar": {
              "outlinewidth": 0,
              "ticks": ""
             }
            },
            "type": "scattergl"
           }
          ],
          "scattermap": [
           {
            "marker": {
             "colorbar": {
              "outlinewidth": 0,
              "ticks": ""
             }
            },
            "type": "scattermap"
           }
          ],
          "scattermapbox": [
           {
            "marker": {
             "colorbar": {
              "outlinewidth": 0,
              "ticks": ""
             }
            },
            "type": "scattermapbox"
           }
          ],
          "scatterpolar": [
           {
            "marker": {
             "colorbar": {
              "outlinewidth": 0,
              "ticks": ""
             }
            },
            "type": "scatterpolar"
           }
          ],
          "scatterpolargl": [
           {
            "marker": {
             "colorbar": {
              "outlinewidth": 0,
              "ticks": ""
             }
            },
            "type": "scatterpolargl"
           }
          ],
          "scatterternary": [
           {
            "marker": {
             "colorbar": {
              "outlinewidth": 0,
              "ticks": ""
             }
            },
            "type": "scatterternary"
           }
          ],
          "surface": [
           {
            "colorbar": {
             "outlinewidth": 0,
             "ticks": ""
            },
            "colorscale": [
             [
              0,
              "#0d0887"
             ],
             [
              0.1111111111111111,
              "#46039f"
             ],
             [
              0.2222222222222222,
              "#7201a8"
             ],
             [
              0.3333333333333333,
              "#9c179e"
             ],
             [
              0.4444444444444444,
              "#bd3786"
             ],
             [
              0.5555555555555556,
              "#d8576b"
             ],
             [
              0.6666666666666666,
              "#ed7953"
             ],
             [
              0.7777777777777778,
              "#fb9f3a"
             ],
             [
              0.8888888888888888,
              "#fdca26"
             ],
             [
              1,
              "#f0f921"
             ]
            ],
            "type": "surface"
           }
          ],
          "table": [
           {
            "cells": {
             "fill": {
              "color": "#EBF0F8"
             },
             "line": {
              "color": "white"
             }
            },
            "header": {
             "fill": {
              "color": "#C8D4E3"
             },
             "line": {
              "color": "white"
             }
            },
            "type": "table"
           }
          ]
         },
         "layout": {
          "annotationdefaults": {
           "arrowcolor": "#2a3f5f",
           "arrowhead": 0,
           "arrowwidth": 1
          },
          "autotypenumbers": "strict",
          "coloraxis": {
           "colorbar": {
            "outlinewidth": 0,
            "ticks": ""
           }
          },
          "colorscale": {
           "diverging": [
            [
             0,
             "#8e0152"
            ],
            [
             0.1,
             "#c51b7d"
            ],
            [
             0.2,
             "#de77ae"
            ],
            [
             0.3,
             "#f1b6da"
            ],
            [
             0.4,
             "#fde0ef"
            ],
            [
             0.5,
             "#f7f7f7"
            ],
            [
             0.6,
             "#e6f5d0"
            ],
            [
             0.7,
             "#b8e186"
            ],
            [
             0.8,
             "#7fbc41"
            ],
            [
             0.9,
             "#4d9221"
            ],
            [
             1,
             "#276419"
            ]
           ],
           "sequential": [
            [
             0,
             "#0d0887"
            ],
            [
             0.1111111111111111,
             "#46039f"
            ],
            [
             0.2222222222222222,
             "#7201a8"
            ],
            [
             0.3333333333333333,
             "#9c179e"
            ],
            [
             0.4444444444444444,
             "#bd3786"
            ],
            [
             0.5555555555555556,
             "#d8576b"
            ],
            [
             0.6666666666666666,
             "#ed7953"
            ],
            [
             0.7777777777777778,
             "#fb9f3a"
            ],
            [
             0.8888888888888888,
             "#fdca26"
            ],
            [
             1,
             "#f0f921"
            ]
           ],
           "sequentialminus": [
            [
             0,
             "#0d0887"
            ],
            [
             0.1111111111111111,
             "#46039f"
            ],
            [
             0.2222222222222222,
             "#7201a8"
            ],
            [
             0.3333333333333333,
             "#9c179e"
            ],
            [
             0.4444444444444444,
             "#bd3786"
            ],
            [
             0.5555555555555556,
             "#d8576b"
            ],
            [
             0.6666666666666666,
             "#ed7953"
            ],
            [
             0.7777777777777778,
             "#fb9f3a"
            ],
            [
             0.8888888888888888,
             "#fdca26"
            ],
            [
             1,
             "#f0f921"
            ]
           ]
          },
          "colorway": [
           "#636efa",
           "#EF553B",
           "#00cc96",
           "#ab63fa",
           "#FFA15A",
           "#19d3f3",
           "#FF6692",
           "#B6E880",
           "#FF97FF",
           "#FECB52"
          ],
          "font": {
           "color": "#2a3f5f"
          },
          "geo": {
           "bgcolor": "white",
           "lakecolor": "white",
           "landcolor": "#E5ECF6",
           "showlakes": true,
           "showland": true,
           "subunitcolor": "white"
          },
          "hoverlabel": {
           "align": "left"
          },
          "hovermode": "closest",
          "mapbox": {
           "style": "light"
          },
          "paper_bgcolor": "white",
          "plot_bgcolor": "#E5ECF6",
          "polar": {
           "angularaxis": {
            "gridcolor": "white",
            "linecolor": "white",
            "ticks": ""
           },
           "bgcolor": "#E5ECF6",
           "radialaxis": {
            "gridcolor": "white",
            "linecolor": "white",
            "ticks": ""
           }
          },
          "scene": {
           "xaxis": {
            "backgroundcolor": "#E5ECF6",
            "gridcolor": "white",
            "gridwidth": 2,
            "linecolor": "white",
            "showbackground": true,
            "ticks": "",
            "zerolinecolor": "white"
           },
           "yaxis": {
            "backgroundcolor": "#E5ECF6",
            "gridcolor": "white",
            "gridwidth": 2,
            "linecolor": "white",
            "showbackground": true,
            "ticks": "",
            "zerolinecolor": "white"
           },
           "zaxis": {
            "backgroundcolor": "#E5ECF6",
            "gridcolor": "white",
            "gridwidth": 2,
            "linecolor": "white",
            "showbackground": true,
            "ticks": "",
            "zerolinecolor": "white"
           }
          },
          "shapedefaults": {
           "line": {
            "color": "#2a3f5f"
           }
          },
          "ternary": {
           "aaxis": {
            "gridcolor": "white",
            "linecolor": "white",
            "ticks": ""
           },
           "baxis": {
            "gridcolor": "white",
            "linecolor": "white",
            "ticks": ""
           },
           "bgcolor": "#E5ECF6",
           "caxis": {
            "gridcolor": "white",
            "linecolor": "white",
            "ticks": ""
           }
          },
          "title": {
           "x": 0.05
          },
          "xaxis": {
           "automargin": true,
           "gridcolor": "white",
           "linecolor": "white",
           "ticks": "",
           "title": {
            "standoff": 15
           },
           "zerolinecolor": "white",
           "zerolinewidth": 2
          },
          "yaxis": {
           "automargin": true,
           "gridcolor": "white",
           "linecolor": "white",
           "ticks": "",
           "title": {
            "standoff": 15
           },
           "zerolinecolor": "white",
           "zerolinewidth": 2
          }
         }
        },
        "title": {
         "text": "TF-IDF PCA"
        },
        "xaxis": {
         "anchor": "y",
         "domain": [
          0,
          1
         ],
         "title": {
          "text": "x"
         }
        },
        "yaxis": {
         "anchor": "x",
         "domain": [
          0,
          1
         ],
         "title": {
          "text": "y"
         }
        }
       }
      }
     },
     "metadata": {},
     "output_type": "display_data"
    },
    {
     "data": {
      "application/vnd.plotly.v1+json": {
       "config": {
        "plotlyServerURL": "https://plot.ly"
       },
       "data": [
        {
         "hovertemplate": "color=World<br>x=%{x}<br>y=%{y}<extra></extra>",
         "legendgroup": "World",
         "marker": {
          "color": "#636efa",
          "symbol": "circle"
         },
         "mode": "markers",
         "name": "World",
         "showlegend": true,
         "type": "scattergl",
         "x": {
          "bdata": "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",
          "dtype": "f4"
         },
         "xaxis": "x",
         "y": {
          "bdata": "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",
          "dtype": "f4"
         },
         "yaxis": "y"
        },
        {
         "hovertemplate": "color=Sports<br>x=%{x}<br>y=%{y}<extra></extra>",
         "legendgroup": "Sports",
         "marker": {
          "color": "#EF553B",
          "symbol": "circle"
         },
         "mode": "markers",
         "name": "Sports",
         "showlegend": true,
         "type": "scattergl",
         "x": {
          "bdata": "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",
          "dtype": "f4"
         },
         "xaxis": "x",
         "y": {
          "bdata": "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",
          "dtype": "f4"
         },
         "yaxis": "y"
        },
        {
         "hovertemplate": "color=Business<br>x=%{x}<br>y=%{y}<extra></extra>",
         "legendgroup": "Business",
         "marker": {
          "color": "#00cc96",
          "symbol": "circle"
         },
         "mode": "markers",
         "name": "Business",
         "showlegend": true,
         "type": "scattergl",
         "x": {
          "bdata": "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",
          "dtype": "f4"
         },
         "xaxis": "x",
         "y": {
          "bdata": "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",
          "dtype": "f4"
         },
         "yaxis": "y"
        },
        {
         "hovertemplate": "color=Sci/Tech<br>x=%{x}<br>y=%{y}<extra></extra>",
         "legendgroup": "Sci/Tech",
         "marker": {
          "color": "#ab63fa",
          "symbol": "circle"
         },
         "mode": "markers",
         "name": "Sci/Tech",
         "showlegend": true,
         "type": "scattergl",
         "x": {
          "bdata": "z/mgvmauvL7daTq9hKQ2PbyoI75+U9C84PJXu4H3Qb6KO428UF87PccAFr1tx0K+i/wbvguVUL7q96s99J4avtgIgb6jA7++SdQKvvLYKL7YHN68f4OKvpt8h778dy89dGu+veRUArxjTnm+hFP2vBOJA75ikcE987t0vr9uG72/KH49BYAFvuKb473W6cu9kn7WvmyZlj3kIrq98ywKvs9UU74AE5y+OR/+PKPvM751CTu+49Z9vr11sj2A+OO5E/Ucvn+Zcb7+EfG916UKvk1kTr7pj06+PQgKvSJnbTzrMIW++Nm3vV6ToDyTgSo+hwV5vrL5yT07fWS++G6BvjAi5r3ZJFq+UVCTvu2Rwb7IspC+seuDvsgTAb583wM9B4h2vtnlmr7aryu++8CKvnOwYr6Ee6294R0dvuY2wjzEjIW94FS+vZlgdL7ba36+uunjPDsBfr0xOTm+tdYhvt8k8zwAqjq+IGCKvvcgu76Ii1m+4xmTvtNuL72nGZy+tt4jvlRU9LwUcWI9yKrqu3+4JD77GZu+QTuCvgF2Vb5ecYu+nqXYvRUyF74eTPM8GxAAvs8Tlb7Gy7499/vSvvyrgL4uMfE9wL2MumcLaL77o66+gQgtvrItIL5LHJC+dYC2vuE+Yj5aZVu+iDC6vYHJHL5BLYm+ERSevhILmr1roW+9RweLvgi2qL0eiXY9vNOGPBFUKL4J3UK+B7SgvgPtj76jvoG+gATVPX9wdL5rapS+x7kBvje+db19ilC+iODFPXNHm757VK++q/2hvoCVYzpSwgM9ynWxPS/kSz1bbJ2+dS6Pvv3YP770zMS9yWqSvsryuL1xHAG+Ch0OPasEN77TWly+2ZCLvoqa5jxTD/g8PZVGvp14dr4WyoA9cf54PcpT0L5V1sy+K3dcvjUwZr7AFVo7DS82vjDdqDxVrA++sIOfPezXkz2ZWBq+ydgcvodFYr7Mpem9zJVsvCXHrb6bAyO+NmG9vNDHUjv72oq+ukgOvlflAb0gj6++vb6qvnhoDr6Rcaa+NQK7vnxfw75anai+mHazu2/KhL4VFIy+S/Ztvi8Ier7flA4+lZ50vVaARL5I2s+7CcqKvsh0Mj3ezsY81eseviTLDD16IZ6+ULnkvTu2Y73Umo89OJSxvp45gr7zA0g9fReUvub4sr2yqZ29Zw0Ivpnx1DyYdUS+OFwLPXhZmr5AhLI6FiJFPX3llb6AuJe6M1Z0vgmdhr47pyK99wCvvrUSLL1cb5w9IMnWvdocyT3Voj49yBqovFhsQL70afG9KdOIvrBqpL3SIpy+waY5vqsLyr6jbhC9lEcqvKqyub2dMbi+VTRJvicqmL4NT2i+ox9BveUNvr5ZQ3W+M0hjvj9dLb7cEJ6+xVM1viDEartI0fq94yOOvjclar6C29A8w6ahvmd9Hj6d31++hdGTvhuxh74tTmm+IWKOvsUyTb1FYYe+uWyPvv4mD76MU9o9Fgg2PvQ+DrwBiCi+zeVdvqs5S75z+6O+J0W7vsIawj3JL2u+K9J3vnRrgL6N6pK+NYKHvmt5Er0UgaG90595vvNDVL77n5C+B7OCPuh3+r2Euyy+E68fvgQMsb4K6Z6+IaJcvlNBfL48sUu+vnaBvh/6gb4c0Bw9ojRQPfDqOzsroo2+mcOKvhVlNz3ObqC8EGRUParSHT6RiJ6+qSGbvtejLb7wbn09mOmavXAyeDzZJVa+J6QtPplJXb4MYSo8c1BGvsNNVb7R+CC+sJvMPQPmiz2beWG+DUlYvgXdYL7qxZ6+Djhdvj34H75pP049952Cviynyr3tpki+kEyHvvt7fL4mjfq8yR2IvhZ7QDwggRE9wFnnvUB/rL2MOyO+MtSOPbtWNb7HyTu9svAhvrPhNL6N4ZW+1NQOvizRCz5p5iq+OEmRuyDl/LvwGrg6P7MFPR8UgL5mJ8O9HmGYPfU6B76cGQi8EDDCvc6/3TwK8jI9/nqZvrcZVb7n0l++awSJvj/oU765VgK+7gebvv4f3D1d8Jy+xPzCvWfXPr4cgKS98i+evtMGL7672E++gsS4vDDCqj3M2wo9aVCmvpfirj3vGXO94Ecnu77l8bw95wG9CTtUvkdiXL7fNxu9OX+FvvaG4bzUopW+t1eFvrMEaL7LnIG+twmRvvNbT75cw1G+8HSivjXgor7fwnm+EV9yvmVDE77CqrC9m5NzvuPrFL4FQJ2+Lbm2votnSr7w0ZA6rSpLvgurzzzy/I09a5D1PHaKlr2AKxA+Z66gvtFkJL5pMo++o5ltvmqYMb6Dfdm+OAOKuy23XL6g+bw7swgFvtqgJL4zqAO+jEwlPbCXrL6Pcku+NgPGvUb/Nb56Lo2958R5vrdUer3RjRy+6ryFvsxnuT1tKnq+89e/vuedhL56PMI9XY4FPbPqir7y9fe9NlTGvfkclL4XH4++foSYvWfKTr509Sq8steCvo/kdb7fL5++BCOavZ4xK74vHzy+LALOPRY0qb1Fqje+J6ZrvS9erb5J4ae+MljfvUhO5b0Maju+s1scvW2Qlb7rb+q+j36gvma1/r3xJqi+Wea7vmbR5r3630m+StmUvt9ghr7tF5O+IwURvooKmr3NbyY+wL7Su/qx5b2JN6U9iYNMvoBgnb0JP4y+xNaMvnS4cryh8IW+bbi1vhkFkL59QIO+bPsBPr6WM752Qoq+SrSgvu8JVL0ayr69e6xVvn55Pz2hyJC+H3Mfvkwi3b1fF36+ETm8vtH4kr4t/gS9sSWZvgOYNL7cYbA9r8hSvhx2RL6OsaM9rS6yvmL/xrxYM1u+9zkGvtd1Eb4D7Ke+L55kvltNh75Ozfi98+9tvlJZM75ENzq+pJNCvgN9ir7hki6+h2RIvSFIcr7devE8TzgvvuMRP74FfTO+7X41vgYDsL3Juzu+axsFvbRNk71YOZ49canDPPONfb7moka+8882vpVeWb45MqC+JapbvqEkQr4Szjm+BFYIPpPLd70rm1i+wGvwvTTjVb5tES2+fS8Nvq3wcb7+rfY9NsPBveDV2T0fn2S+qBbdPHKTnb46ntw9l4Lxvg8LGD5jIUK+3/KhPXEFKb3XiXS+pb5WvlT+0D1J6xC+kn1WvkEhKr3GPvK9A2g9vWANBz6ZkSm+xdyWvuebgr5RHZS+n4p9vZOnWr4QxnM9kvchPMgDQrwrTR+9YNVEvFy3TT2C2RO+OCEvvm0AX737W3u+3bE4vkZH7b1Yl9y9X72wvkQ3i73viia+Jhm2vTe1ob7wIbq9rGm0vs+KKr3i2+692SaUvsmKcr4YnZo94/9ovpAjPbyVG6C+I4+APRcwE72Gg1s9Kr3IPRGjUr74MZ++z5CAvs78hb2Ghsy9GSgnvnc6YL2R41u+4UlyvRDdLrvac0E9EIq0vk/O3L6FDlq+CxBvvimpir73SGS+7c88vvunG76qsyQ+8uOzviiKQb6j4C2+y8bBvozQkL1mAk2+T/V3vr11L75lrBA+NS6gvk1Ui76w4cy9aE+8veVTWr6ZgYK+44gQvlNshr7Rvpi+7EcjPEDx/zxfPJW+0KK4vdv1ab7Jl0C+JQBsviNmNL6I8429ZfKNvm/eDr45RHa+bCPsPVfnRL5QzSC+Af6lvgChSr4UgY6++kbTvfBrkL7itsw8VBhIvs+8p75Xhj++gPuVvYfkfr59wmm+7SJevuBnt77Qgue8bXkevs5EMz2gpwi7JUJjvRSc470b6HO+gyt0vk7Dnb0LvHO+UVQnvsSlFb7GsfI9qrqAvBWuTb582p6+giycvmBP2rrP0yq9c+oBPo8Oir5rtHq+NWt7viEmN751fUq+HCMfPM2e276mw5S+cqs3PGsTYL6nBlq+urjHvqgXt73NrjC+et6Cvi7uET0STxm+3AU/vhdMtDxohjG+JYwjvjHkG75jSmW+Lo3avecGjb7/5jm+8qaQvVLZmb4OSoU9pRG2vlnGUb77sXK+FdIevtdSGr4sOL89Ee0tvpWijb4yI6C+b3wQvtsrMb6HKn6+HEThvcI7sL45lUu+fyWYviJqLb7iHcS9PH6TO8iF3r24NIq9fUSRvl39K75RRJ2+eTZfvj2bBb5POgO+VYVwviUC+DyA7Se6wxWevhM0Zb5QjJm+vDMWvncDnb5Cv4K9mo6evuA+oT1nNKG+oYtovncMYL7S40W+zDVQvhVEtD2JlrO+hUC+PLtlO77/OV++evTrvR6n8T2JrIO+lTJavm2kH74Vbnm+jk7vvREIF71Dh6i+5kXAvFekDD7wG+Y6Iuu3PR1cZr4fNWi+MR6Ovp/ESr2QfLu9suvwveYs5r1A5fk9FEc8vmWKSL4KUr+9RNnwvWnvj77w4ue9qQhcvt/ObL7DNWe9z9mdPJ0ui75SSYe87mwTvg9Mm75e2BI9KXwzvlvOrb7fQXq+1MkivsCgYbvDRW6+kcVTvmDQM757H0E9bXq+vrPAaL4SnMY9an4WPZG8Ib5W5t09MvcFvnknDr7uQJY98rfTvWJsM77mqEq+WG5dPMBbgz0U96Y9ALtgPAB+gr7ivFK+s/5rvoYoJr739jY+m8xbvX7ur70g1IS8ht7+veBd8L0pPKi+HaWTvuRx1b4LRcK+y5yUvhOLWr1JzL6+p/e3vs+3cT6e2se9Sk8hPVOXkL5eTh++TRiMvtLezL1gqRy7e/V4vkA10b0d8SW+kuvwvXudSb4XQJa+dl6jvl4Jnr6nLlO+yu8wPU1sPb4wlue9LGDtvRc2S74/O5u+b+MLvqgPvjviyMC+X4l4vrB5oL6t6C++BUSWvo/clL7HdhW+9ehavipoP76DCiq+jIMPvmOnJr1GJJm88myBvoONiL79Q6G+bxqZvt66273oHpM9brSCvh6OaD3ChK69xsTdvVfmAr6qv6i+HhqTvoOfNL0cHpq9JVuYvulZBL6N3ma+DO26O/pyGb4xC2i+5vi7PXZF670Oqdk9l+ApvggTbrzUGwy+lIqlPSzoEbw6mI89hKLcvu1Hdr2dAyi9ge+evr2RGr7ME5G+elKMvieCNb7qXs+9CZdMvsV8Zb42oMc9Z9Egvpt6hL6Zj6i+DnAevrs7G76IGl++VbIcvnDPzD1ICN47PEFdvJ26s77dDEC+gVpLvVeCzb4Hwmq+5xIrPRdkib4VjYm+mIGmu0DthjvlEYG+W/3Lvt1ocr4cBd28fypxvkrIuD1QuhK7nooNvmRfqbwO/+q9/cqOvty+072brL++dU9Ivs/uvL6SXZ69lPo+vjyN0r087ai8ONGgvpJCMb5REky+BnXivXghjrxpHjK+pViFPLxfjr58CuK9XQAsvg==",
          "dtype": "f4"
         },
         "xaxis": "x",
         "y": {
          "bdata": "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",
          "dtype": "f4"
         },
         "yaxis": "y"
        }
       ],
       "layout": {
        "legend": {
         "title": {
          "text": "color"
         },
         "tracegroupgap": 0
        },
        "template": {
         "data": {
          "bar": [
           {
            "error_x": {
             "color": "#2a3f5f"
            },
            "error_y": {
             "color": "#2a3f5f"
            },
            "marker": {
             "line": {
              "color": "#E5ECF6",
              "width": 0.5
             },
             "pattern": {
              "fillmode": "overlay",
              "size": 10,
              "solidity": 0.2
             }
            },
            "type": "bar"
           }
          ],
          "barpolar": [
           {
            "marker": {
             "line": {
              "color": "#E5ECF6",
              "width": 0.5
             },
             "pattern": {
              "fillmode": "overlay",
              "size": 10,
              "solidity": 0.2
             }
            },
            "type": "barpolar"
           }
          ],
          "carpet": [
           {
            "aaxis": {
             "endlinecolor": "#2a3f5f",
             "gridcolor": "white",
             "linecolor": "white",
             "minorgridcolor": "white",
             "startlinecolor": "#2a3f5f"
            },
            "baxis": {
             "endlinecolor": "#2a3f5f",
             "gridcolor": "white",
             "linecolor": "white",
             "minorgridcolor": "white",
             "startlinecolor": "#2a3f5f"
            },
            "type": "carpet"
           }
          ],
          "choropleth": [
           {
            "colorbar": {
             "outlinewidth": 0,
             "ticks": ""
            },
            "type": "choropleth"
           }
          ],
          "contour": [
           {
            "colorbar": {
             "outlinewidth": 0,
             "ticks": ""
            },
            "colorscale": [
             [
              0,
              "#0d0887"
             ],
             [
              0.1111111111111111,
              "#46039f"
             ],
             [
              0.2222222222222222,
              "#7201a8"
             ],
             [
              0.3333333333333333,
              "#9c179e"
             ],
             [
              0.4444444444444444,
              "#bd3786"
             ],
             [
              0.5555555555555556,
              "#d8576b"
             ],
             [
              0.6666666666666666,
              "#ed7953"
             ],
             [
              0.7777777777777778,
              "#fb9f3a"
             ],
             [
              0.8888888888888888,
              "#fdca26"
             ],
             [
              1,
              "#f0f921"
             ]
            ],
            "type": "contour"
           }
          ],
          "contourcarpet": [
           {
            "colorbar": {
             "outlinewidth": 0,
             "ticks": ""
            },
            "type": "contourcarpet"
           }
          ],
          "heatmap": [
           {
            "colorbar": {
             "outlinewidth": 0,
             "ticks": ""
            },
            "colorscale": [
             [
              0,
              "#0d0887"
             ],
             [
              0.1111111111111111,
              "#46039f"
             ],
             [
              0.2222222222222222,
              "#7201a8"
             ],
             [
              0.3333333333333333,
              "#9c179e"
             ],
             [
              0.4444444444444444,
              "#bd3786"
             ],
             [
              0.5555555555555556,
              "#d8576b"
             ],
             [
              0.6666666666666666,
              "#ed7953"
             ],
             [
              0.7777777777777778,
              "#fb9f3a"
             ],
             [
              0.8888888888888888,
              "#fdca26"
             ],
             [
              1,
              "#f0f921"
             ]
            ],
            "type": "heatmap"
           }
          ],
          "histogram": [
           {
            "marker": {
             "pattern": {
              "fillmode": "overlay",
              "size": 10,
              "solidity": 0.2
             }
            },
            "type": "histogram"
           }
          ],
          "histogram2d": [
           {
            "colorbar": {
             "outlinewidth": 0,
             "ticks": ""
            },
            "colorscale": [
             [
              0,
              "#0d0887"
             ],
             [
              0.1111111111111111,
              "#46039f"
             ],
             [
              0.2222222222222222,
              "#7201a8"
             ],
             [
              0.3333333333333333,
              "#9c179e"
             ],
             [
              0.4444444444444444,
              "#bd3786"
             ],
             [
              0.5555555555555556,
              "#d8576b"
             ],
             [
              0.6666666666666666,
              "#ed7953"
             ],
             [
              0.7777777777777778,
              "#fb9f3a"
             ],
             [
              0.8888888888888888,
              "#fdca26"
             ],
             [
              1,
              "#f0f921"
             ]
            ],
            "type": "histogram2d"
           }
          ],
          "histogram2dcontour": [
           {
            "colorbar": {
             "outlinewidth": 0,
             "ticks": ""
            },
            "colorscale": [
             [
              0,
              "#0d0887"
             ],
             [
              0.1111111111111111,
              "#46039f"
             ],
             [
              0.2222222222222222,
              "#7201a8"
             ],
             [
              0.3333333333333333,
              "#9c179e"
             ],
             [
              0.4444444444444444,
              "#bd3786"
             ],
             [
              0.5555555555555556,
              "#d8576b"
             ],
             [
              0.6666666666666666,
              "#ed7953"
             ],
             [
              0.7777777777777778,
              "#fb9f3a"
             ],
             [
              0.8888888888888888,
              "#fdca26"
             ],
             [
              1,
              "#f0f921"
             ]
            ],
            "type": "histogram2dcontour"
           }
          ],
          "mesh3d": [
           {
            "colorbar": {
             "outlinewidth": 0,
             "ticks": ""
            },
            "type": "mesh3d"
           }
          ],
          "parcoords": [
           {
            "line": {
             "colorbar": {
              "outlinewidth": 0,
              "ticks": ""
             }
            },
            "type": "parcoords"
           }
          ],
          "pie": [
           {
            "automargin": true,
            "type": "pie"
           }
          ],
          "scatter": [
           {
            "fillpattern": {
             "fillmode": "overlay",
             "size": 10,
             "solidity": 0.2
            },
            "type": "scatter"
           }
          ],
          "scatter3d": [
           {
            "line": {
             "colorbar": {
              "outlinewidth": 0,
              "ticks": ""
             }
            },
            "marker": {
             "colorbar": {
              "outlinewidth": 0,
              "ticks": ""
             }
            },
            "type": "scatter3d"
           }
          ],
          "scattercarpet": [
           {
            "marker": {
             "colorbar": {
              "outlinewidth": 0,
              "ticks": ""
             }
            },
            "type": "scattercarpet"
           }
          ],
          "scattergeo": [
           {
            "marker": {
             "colorbar": {
              "outlinewidth": 0,
              "ticks": ""
             }
            },
            "type": "scattergeo"
           }
          ],
          "scattergl": [
           {
            "marker": {
             "colorbar": {
              "outlinewidth": 0,
              "ticks": ""
             }
            },
            "type": "scattergl"
           }
          ],
          "scattermap": [
           {
            "marker": {
             "colorbar": {
              "outlinewidth": 0,
              "ticks": ""
             }
            },
            "type": "scattermap"
           }
          ],
          "scattermapbox": [
           {
            "marker": {
             "colorbar": {
              "outlinewidth": 0,
              "ticks": ""
             }
            },
            "type": "scattermapbox"
           }
          ],
          "scatterpolar": [
           {
            "marker": {
             "colorbar": {
              "outlinewidth": 0,
              "ticks": ""
             }
            },
            "type": "scatterpolar"
           }
          ],
          "scatterpolargl": [
           {
            "marker": {
             "colorbar": {
              "outlinewidth": 0,
              "ticks": ""
             }
            },
            "type": "scatterpolargl"
           }
          ],
          "scatterternary": [
           {
            "marker": {
             "colorbar": {
              "outlinewidth": 0,
              "ticks": ""
             }
            },
            "type": "scatterternary"
           }
          ],
          "surface": [
           {
            "colorbar": {
             "outlinewidth": 0,
             "ticks": ""
            },
            "colorscale": [
             [
              0,
              "#0d0887"
             ],
             [
              0.1111111111111111,
              "#46039f"
             ],
             [
              0.2222222222222222,
              "#7201a8"
             ],
             [
              0.3333333333333333,
              "#9c179e"
             ],
             [
              0.4444444444444444,
              "#bd3786"
             ],
             [
              0.5555555555555556,
              "#d8576b"
             ],
             [
              0.6666666666666666,
              "#ed7953"
             ],
             [
              0.7777777777777778,
              "#fb9f3a"
             ],
             [
              0.8888888888888888,
              "#fdca26"
             ],
             [
              1,
              "#f0f921"
             ]
            ],
            "type": "surface"
           }
          ],
          "table": [
           {
            "cells": {
             "fill": {
              "color": "#EBF0F8"
             },
             "line": {
              "color": "white"
             }
            },
            "header": {
             "fill": {
              "color": "#C8D4E3"
             },
             "line": {
              "color": "white"
             }
            },
            "type": "table"
           }
          ]
         },
         "layout": {
          "annotationdefaults": {
           "arrowcolor": "#2a3f5f",
           "arrowhead": 0,
           "arrowwidth": 1
          },
          "autotypenumbers": "strict",
          "coloraxis": {
           "colorbar": {
            "outlinewidth": 0,
            "ticks": ""
           }
          },
          "colorscale": {
           "diverging": [
            [
             0,
             "#8e0152"
            ],
            [
             0.1,
             "#c51b7d"
            ],
            [
             0.2,
             "#de77ae"
            ],
            [
             0.3,
             "#f1b6da"
            ],
            [
             0.4,
             "#fde0ef"
            ],
            [
             0.5,
             "#f7f7f7"
            ],
            [
             0.6,
             "#e6f5d0"
            ],
            [
             0.7,
             "#b8e186"
            ],
            [
             0.8,
             "#7fbc41"
            ],
            [
             0.9,
             "#4d9221"
            ],
            [
             1,
             "#276419"
            ]
           ],
           "sequential": [
            [
             0,
             "#0d0887"
            ],
            [
             0.1111111111111111,
             "#46039f"
            ],
            [
             0.2222222222222222,
             "#7201a8"
            ],
            [
             0.3333333333333333,
             "#9c179e"
            ],
            [
             0.4444444444444444,
             "#bd3786"
            ],
            [
             0.5555555555555556,
             "#d8576b"
            ],
            [
             0.6666666666666666,
             "#ed7953"
            ],
            [
             0.7777777777777778,
             "#fb9f3a"
            ],
            [
             0.8888888888888888,
             "#fdca26"
            ],
            [
             1,
             "#f0f921"
            ]
           ],
           "sequentialminus": [
            [
             0,
             "#0d0887"
            ],
            [
             0.1111111111111111,
             "#46039f"
            ],
            [
             0.2222222222222222,
             "#7201a8"
            ],
            [
             0.3333333333333333,
             "#9c179e"
            ],
            [
             0.4444444444444444,
             "#bd3786"
            ],
            [
             0.5555555555555556,
             "#d8576b"
            ],
            [
             0.6666666666666666,
             "#ed7953"
            ],
            [
             0.7777777777777778,
             "#fb9f3a"
            ],
            [
             0.8888888888888888,
             "#fdca26"
            ],
            [
             1,
             "#f0f921"
            ]
           ]
          },
          "colorway": [
           "#636efa",
           "#EF553B",
           "#00cc96",
           "#ab63fa",
           "#FFA15A",
           "#19d3f3",
           "#FF6692",
           "#B6E880",
           "#FF97FF",
           "#FECB52"
          ],
          "font": {
           "color": "#2a3f5f"
          },
          "geo": {
           "bgcolor": "white",
           "lakecolor": "white",
           "landcolor": "#E5ECF6",
           "showlakes": true,
           "showland": true,
           "subunitcolor": "white"
          },
          "hoverlabel": {
           "align": "left"
          },
          "hovermode": "closest",
          "mapbox": {
           "style": "light"
          },
          "paper_bgcolor": "white",
          "plot_bgcolor": "#E5ECF6",
          "polar": {
           "angularaxis": {
            "gridcolor": "white",
            "linecolor": "white",
            "ticks": ""
           },
           "bgcolor": "#E5ECF6",
           "radialaxis": {
            "gridcolor": "white",
            "linecolor": "white",
            "ticks": ""
           }
          },
          "scene": {
           "xaxis": {
            "backgroundcolor": "#E5ECF6",
            "gridcolor": "white",
            "gridwidth": 2,
            "linecolor": "white",
            "showbackground": true,
            "ticks": "",
            "zerolinecolor": "white"
           },
           "yaxis": {
            "backgroundcolor": "#E5ECF6",
            "gridcolor": "white",
            "gridwidth": 2,
            "linecolor": "white",
            "showbackground": true,
            "ticks": "",
            "zerolinecolor": "white"
           },
           "zaxis": {
            "backgroundcolor": "#E5ECF6",
            "gridcolor": "white",
            "gridwidth": 2,
            "linecolor": "white",
            "showbackground": true,
            "ticks": "",
            "zerolinecolor": "white"
           }
          },
          "shapedefaults": {
           "line": {
            "color": "#2a3f5f"
           }
          },
          "ternary": {
           "aaxis": {
            "gridcolor": "white",
            "linecolor": "white",
            "ticks": ""
           },
           "baxis": {
            "gridcolor": "white",
            "linecolor": "white",
            "ticks": ""
           },
           "bgcolor": "#E5ECF6",
           "caxis": {
            "gridcolor": "white",
            "linecolor": "white",
            "ticks": ""
           }
          },
          "title": {
           "x": 0.05
          },
          "xaxis": {
           "automargin": true,
           "gridcolor": "white",
           "linecolor": "white",
           "ticks": "",
           "title": {
            "standoff": 15
           },
           "zerolinecolor": "white",
           "zerolinewidth": 2
          },
          "yaxis": {
           "automargin": true,
           "gridcolor": "white",
           "linecolor": "white",
           "ticks": "",
           "title": {
            "standoff": 15
           },
           "zerolinecolor": "white",
           "zerolinewidth": 2
          }
         }
        },
        "title": {
         "text": "SBERT PCA"
        },
        "xaxis": {
         "anchor": "y",
         "domain": [
          0,
          1
         ],
         "title": {
          "text": "x"
         }
        },
        "yaxis": {
         "anchor": "x",
         "domain": [
          0,
          1
         ],
         "title": {
          "text": "y"
         }
        }
       }
      }
     },
     "metadata": {},
     "output_type": "display_data"
    }
   ],
   "source": [
    "px.scatter(x=X_tfidf_pca[:,0], y=X_tfidf_pca[:,1], color=df_sampled[\"label_name\"], title=\"TF-IDF PCA\").show()\n",
    "px.scatter(x=X_sbert_pca[:,0], y=X_sbert_pca[:,1], color=df_sampled[\"label_name\"], title=\"SBERT PCA\").show()\n"
   ]
  },
  {
   "cell_type": "code",
   "execution_count": 29,
   "metadata": {},
   "outputs": [
    {
     "data": {
      "application/vnd.plotly.v1+json": {
       "config": {
        "plotlyServerURL": "https://plot.ly"
       },
       "data": [
        {
         "hovertemplate": "color=World<br>x=%{x}<br>y=%{y}<extra></extra>",
         "legendgroup": "World",
         "marker": {
          "color": "#636efa",
          "symbol": "circle"
         },
         "mode": "markers",
         "name": "World",
         "showlegend": true,
         "type": "scattergl",
         "x": {
          "bdata": "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",
          "dtype": "f4"
         },
         "xaxis": "x",
         "y": {
          "bdata": "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",
          "dtype": "f4"
         },
         "yaxis": "y"
        },
        {
         "hovertemplate": "color=Sports<br>x=%{x}<br>y=%{y}<extra></extra>",
         "legendgroup": "Sports",
         "marker": {
          "color": "#EF553B",
          "symbol": "circle"
         },
         "mode": "markers",
         "name": "Sports",
         "showlegend": true,
         "type": "scattergl",
         "x": {
          "bdata": "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",
          "dtype": "f4"
         },
         "xaxis": "x",
         "y": {
          "bdata": "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",
          "dtype": "f4"
         },
         "yaxis": "y"
        },
        {
         "hovertemplate": "color=Business<br>x=%{x}<br>y=%{y}<extra></extra>",
         "legendgroup": "Business",
         "marker": {
          "color": "#00cc96",
          "symbol": "circle"
         },
         "mode": "markers",
         "name": "Business",
         "showlegend": true,
         "type": "scattergl",
         "x": {
          "bdata": "AdURQkJn5kGJaIVCpv+cQSHpKULZqW1CBbWhPuP1YEJK2VnCQC8QQsYsEEKC/p9B61+LQoM+gUJJveI94l8BQvTgdUGM8yJCQ5rCQc+VwUH7gXVCQZ8MwawL0EE/UK5AW/z/QW2z1cBvjXlC/4N+Qji/nkE4dgZCcvbQwdwBGEILeIxCNuEHQsTxn0EKzWdCOFcZQjUJPELMd0pCp4J6QqeQWkI8yn9CMA+OQktdUkLiBwNCsm5cQW/3V0KHGiRC+H5OQniY2EEQ689BDmt0QrOiG0F0W3tCRrInQtZ8TkLDq49BusJOQnWXPEIqRIRCnxtNQi+0HEL2bQRCO+58QqAFjkLz2QhCRqUoQgQmG0J1Nc5AgUjMwHYa+0HbH35Cy9BuP1SeB8GWheFBe1tMQTpxqUEn/4NCTJZPQu1WIUIcTnNC4ytzQjVDiEIX3CJC474HQG9R7UGwCFpBXN+DQsd/rcC/V1NC79KMQgKxdEIfci5Cfo5FQn0SB0JgKZxBo2JDQhxfGUJzRJZB2npxQUdkjEJW/IRCfQXtQVVyxUF1XjtCvXNDQnKJqsBk86BAh9UkQvgxXUESGeHAk//7QUv0KUI8d0VB7gFEQpVNuEFNsZ1B/GoDQv9VgkLVYghCk/xEQTMlyEFw6jFCKyn0QX3t70G8zXNBBUo6QkpGg0LxTlpCBMpgwjzTEUE9KqNB8kpaQb3mPEGbgDbBxMBAQgnzlkAiOI4/lTLEwVUcD0LTywZCfpCywaXyQEIpXva/MdKKQqvgOkK2fdlBxKPOQHJV+UGilDpCAhyAQjsLMkJ43oJBoWCCQc8xGkJ8deBBvkNmQqTU1L9LjupBwDUUQdbONEEJh4dC4hUdQqzIfEJe/nnB3CYCQomxgEJhTzhCfueMQsgoQULbINVBY0tgQlINoEGUgRJC3fJXwVrMTUGVrRFC1o7GQc6hSEItgTlCtHNBQjcfP0JmHstBuT46QflJOkLVqpFBvKImwWfZgEJxZuNBY76UwYs5eUIXeyRCuSL5QEwkHEHrQ+1BqhBMQvyyhkL5EopCNi+AQvxLikIhL99B5vRSQoiDDEJJ4VNBhyW9wGZm0MAk1YdC6gh/QmjqF0G1EMNBmVhewg7oiEJ4mixCZoBvQhYyJELnLQBCSfY3QrmlD0J1TotCUPK9wM0I10HycB1B64NGQshrD0FopHhByjjMQQRMKEJqIafAB+53QpyOvkG5W2bCaVaPQTHLj0BaOMZBNP9oQlwY2EFaOVlCUOC+QGC8gUJwuo9BI7vYQdsvhkE87jBC6gonQlOSZEKLaqZA3NFIwrpSMkJZE7NAnnqGQnpsZEL5cqpBLbD5QIeKPEKoPplB57nGQQcpZEJWYsVB6UVLQhctSEJy2UhCRR+jwEEiW0I+pglC3qshQgrgA0Ks6VhCDOM9wXL22UHmlbZB3ahHQsq+zUGu/D9CiMgJQmjyg0ICrihCQ+uTQRa2/EG3hIVC0DTPQJCtH8GPge5B4VCJQTdzjkGjuO9BGgSFQpOL3EFHtWtCeyJ9QiUjZUKueYxC8JdvQstVKUHBntRBR9LhwNUNhkFZqfpB7fkoQmxBKkKa9RtCppUCQtb96cDeYCBClXxlQizj9UH6FopBZSbfQZGPeUEiUH1CZw8KQh4cEEK43YBCh5dkwtPyJ0LkC1FBm4ROQo1LRULu7YZCbbB1QkLCd0FQHItBjEp+QtnHusAk1H1CnHAZQtwB30FKnkpB17SBQnX6CkDCvSRCj9UJQk/Z2EH7PJ3APYKsQKfVeUILajjAOzyEQkJEi0HCXypCAtdpQMg7j0HeKM1BAMsQQtwJMUJY9xRCyTXFwWH+lUHrAAQ/GqUtQsueikJKG4NCRxaNQoKjdUKt1iNCEUChQZubFsHEwCRCMjaMQnALD8FebINCNH8TQiuiZkKv0FnC07o5QoYve0L9VddB3rbfQeWM6kGTOn5CYjTHQbIem0AZmSxCRb54QglsTT/JdDFCnk2NQqRlbUJssBNCnDLtQU2pGUK6kDtCoxslQqADhULXyZtBuIeLQWR8hkKpWepB4fZOQkOyfUKNY3lC0lk6QiWZHkJoVoBCGok9QaldJ0LdnPdBoZ5/QnLL3kEud4FC8fwEwZ1daUH0M3FBFEpLQlyeE0JxVUVB0rciQjBBPsABvQBC8KBdQngahELYYblBsxRDQSD/E78aie1AYlSKQojCHULiGYBCQ5s/QUFYNELjJs9BVI2twcGCOkEXJIRBMZs6QkV++UGBASZCgAs1QhsvskBDp3dCoSlsQJriO0GZDwVCdE+YQBw6+kFvDmxCuSWewQw+b0KRZuTBu61FQgtKcEBrl31CAViFQolvc0KHz4NCWjYjQi/FLUIfeDBBbvqDQkVEeUIjo2hBSVgEQkBXU0I/MFdBKQOlQDArgEIi+fvARRgyQpPJgUIUkQFC5KkrQq/Ng0EcNvFB1ENpQqWSgEKQtDtC7wU8QsZC8UGFUhbBn6c9QimIrcHvr4tBQotlQnpbjUIkDCZClZLQQZ4p0ECnCuRBm6qgQWtShELCZUdCOC30QVdFx0HrUOU/r7jZQdgrC0FyryZCpFjQQC/v2EF5wRRC5yi7QdyRKEIpGYFCXqOrQWGeaMGG4idChEWRP6W/MkITQIhClCSAQiAilkFq5NBBIIOZQcuTXMDf5YdCaMWHQtneMUENCONB2HScQbYt2EEzyUJCXqjiQUoSwkD12DfA+xbFQXlpS0L5cAfBVQR6Qtpen8DCY0tCbbxBwl7TMEIOABBCtwKPQjZ1k0F0PFtCQCoZwlrRiUJuv49CpWtXwZe4J0KZDtlBjA3BQRFJNELwbgdC4SNIQuKvkkF5lThCLvGdPxp8hEJPKLjAGBpCQns4TUJ9LEBCovzEQDNB0UH7/4FCSIaIQf22gkJbXO5AmlUTQiuHSkG9Lt1BvxVxwYBFeUEOUB9C4vVTQh2jL0KGwqFBY99hQP9WYsBjQttBhER4QkixakLuZURCBul0QvRNUULT5AtC/ggHQkt3G0KIk6DBKzrsQbW1nEGk4E5CjiWIQvURqUEL5oBCZRH7QTQ6hELSkxpCYzF5Qai7+kFANC9CCxE4QlGEjUJ4OZpBS1CKQhnpJEIzT8FBIFxwQitjTUImEXJC8m2uwcd/JEIiXo5CwQFWQl/ck0ENwG1CTxpPQhgeEUHuYj9C6bHrQQhxzEF1pBVCzmgjQWH8ikJ6RHZAdVh/Qs5uNkKwDCRCjZp6QjcYKEL/FThCzsD5wHYgKULk3ClCQoZHQpMDTUKk44VCgxWSQDKdiUK2e3VBiYG/QXGlwUHKB31CUd/xQTd5ob/GwnVCYwzkQfXYHkIrG4xA4JCJQqMcj0HqCvdBiS3YQRzpWUE8MFtCwjmIQkFoZkK7eI5B38/ZQS9y/kFbGOBB2ZaGQlweO0JhV5hA/CM5QCkQ4UEMLFVB6t60QUP3H8H0b9fBWQ8ZQjUaaMHCzUlBFEv4wMezdEHvPHdAVM51QgLyLELpzspBwOejQayWmUEW73pCqBykQcDQfUIcq1xCVNugwYp47j/ZVytBq6x1QqfxNUKCqEhCR941QmDTAEFqM4VBGZoHQqyng0I3bu1B7WgUQsnPMEL9ZSlCrA6FQWXRy0GuEr1BBi3RQSnMMUIfksdBmQ4vQTMG+UGJBsnA4iocQiIcWMJEvu6+hPdMQuJed0JjKvpBaD/PwZMJiUE174NCLi43Qv65e0IuBYNCSpIoQu71tUEvL4BCrXHjQU+peUIugAZCbDpEQnMqIELxdWVBMnU5QrxWWkHRAuJBGUI7QmJ4hEIOtqZBGLr1wCpW9MEl62ZC33kJQeHK5kFPdlRA+PFQQgxwUUJ49wRByfRRQZu9EEKeBm1CH96bQXAjT0IM9XZCT+cZQs9MEUJ8O1RBA+fpQTE7LULwPOHAIiJlQmSmhkKILZhB07PgQXq710FTIw9CP92CQrhRIEIdoatAMDs0Qrc8A0KfWNlBiushQpN3NEKgsavAeidewTWyKUJnropC1XYMQpALKkF8+BVCJcW6wGCnEMGZImxCyNDuQexxe0J1bIRCPfFkQtnwOUHADqRBeboPwUEOpkEYrthBleUaQo66CcHrlYRCqMqBwnVjIELKaY5AyBmPQv+fdUHKo3xCKpctwsO0X0LvWFJCus+nQergUUK5+3/CG/ADwiKWgULiG0tCTgSIQkKyXULtTYNCj930QdpwIUKTB0ZAIFaPQelC8EEx+GxBdeCNQkU4aUFl6nBByzxAQJgkOkEGRjJC24FXQhQ3iEIKMX9CPKI1QW4thEKhAitCZzE5Qi4lMUIUijlB661+Qg4VgkImryNBsPz2Qc6C1UElP2ZCNf8iQv9ulkHdXjZCXxYRQlZRHkLnO6o/Y+HiQTubeEJXAgPBgMIvQr+/i0Ff8RhCA0HmP7NzH0Lx79pBzWeWwO9Wh0GGTIFCH+yIQsnzH0JKGddBsnVOQoadTULe1nZB5gy7v7zb9cAH4ZBBAObwQUEWx0F0LU1C2gQgQpNLL0I1fVRC1ihmQsREPEJUXMtBmICyQdbDqcF2D1q+dsCEQoQe7kFcV/tBNfpkQRgahELXmn5Cj9f4QTQrk0FeBzpCesp3QvC/X0LBIS5CPpRJQqL6I8KSJo1CwDP1Qc7KgD80kSVBMhaGQZg3lEGKFWVA2EcvQFo+0UGwgwRCXcWdQE3wF0LHh5RBN2GhwRkUV0IWFIBC0NWBQhhZrEH95+lBAatrQqdoukG/5oRC9qm/QTeOAkL7YYXBGuSzv6aFVUKnPCxBDcSDQmesy0FsO0JCYg49QX9B4UEujVhBZJNDQpi3D8DDvo5Bnvs3QJewSEI3GS1C7v86Qs0BfUICGm5CgcEwQnF1aEIj0/NByAgMQq5ZdkFgublBxjUtQiKB3EEJm45CHhelQDLEDEIpvkVCTgMfQsigBEFauS9CcTZ+QmNNjEJrDIFC3WhtwdyIgUJ/c4dBlEmAQLpvwkHcvvpB7G55QqJsqEFloqJBoDOhQM0RiEK6tUNCrYjxQZuoNUJp9nNBjfBMQehhTUHF+mLCpwibQZ/RZUFom01CDhI/QoEzbkGWmExCOyc7QlnjOEILkXBBy3jsQWr7PELlzDdCB9eMQRo40UHisc1BYrN1QieZfcJcN0tCPEuAQjzgNUJv/vNB79jMQQ33Q0L/wUBCQ0uFQqoKtMCaQLRAtgzxQTvhQEL3ZzdBLsppQBi9p8GfBW5AZFYfQo0FvkEL92HAWAOIQjQmgUJk50pCMXp2QtyAbUKtTMJB96nZQb5jD0Gz8kNC6tOGQgvvb0FhUH1CCYaFQg==",
          "dtype": "f4"
         },
         "xaxis": "x",
         "y": {
          "bdata": "b3woQX1K/sFcyjVB7Sq5QUsEQEL9g89A1z8Jwa9LpEAYTuA+D7lCQnV6iUDPbobB7nRawFXKucFho69BMstNwM5OiEGbWQY/BnolQUwpDcIyXcDBNb8LQi+PXsEWmGrAXHsWwjuoYEJPO51A2NOnwQHEqUBJC7hAIg4FwSby1MBOkkhBe9pgwKNgccFsV1ZBzH2twYjRasH1iio/SwgXQeCeAsHkRL/Bgwq5wBTQ6UDiY7nAf1Kawag1m0BI5NDASXWvQD7WLUFy9CjCnpDrP4eMHcLCSMVAIH4IwhXO20GX3SxCIc6iwJUtg7/sU4JBsSuiP3ibNEJQ3UfBovmNP4OywcCg3W7B3Z+CwXect8EF7YJBRgF5wWwlBcFxf8fBgMcPwhQLTsHbBgLCyAs5wXgC1b7zzIFARYPgQCXTO0FEYIPALLfxQLdrAEELV6XBYHrswFrAukF8OU1CAU85QSsphEEZN5jBZlGNwKnyOT+L9RnCLOa+QKK4rb9Cw4DBZDtnwX3UNkJ5OBo/nmxqwOMFG0GG3ZFAO2mVwWVHA0IG2G9AVV89wQYRmkCBjZHBGK5CQn+xQcB8/qLBYpfZQA3NQ8E/3e7BGVY7wT1jqsDAYag/ykjMwWq4tMEYXZ1ABANsQnMWBkJgn3zBTHURwe6XPL8CV11BeemdwEqhOUExJAbBvbBSQZg050E3uhHB86+ywRkP+0GpDH1BHT1ZwZREjsE4ogBC6RYswlLMskCHWzzAX/AvwjOldUFTuILBXsq4wMQWb8FI6pHBXTHSQZKp1EAlqanBVQllQBGKT0F8qH3AVViswS60uMHx+EdBVLs2wbIVrUFs6pvAOqoXwvwuCEItRmpBCHs/Qh143UADABVCQ6uvwbU3WECmAILBZs5kQctpZkDaSrdA+1C1wArqFMH76l1Azd/Mv7Nc50H8EihBUgFKQDpU4UHw/wHCHAUQQWMBOcHFbFfBpWoMQqjoxr8AaazBShC/wRiqn8E9eYbAurOJwW6od74dyhDCWby7QQRZij/hHTjB4YCrwAnkUT5PVb3A/sK0wZbvJEFlDwxCXoIowSTe58BIit/B19ZQQYhAYUJoqYnAqk8iQRq/FsJlR7LBDGNaQWBNWkCPXrJBORSpwTikosEbJRbCqpLgwSPxPcHS0UhByTytQHl/4sCHPB3CHrFDPyXkpcHGjRxBdXM/QMdUA8FKqd5BpWuuwV4iAcJIXObAktkawjUSq8BOVAbC7lnxQIb5rMBbjCXBb09CQkX2HECltlhCnS8KwB7uhcAUZV9AbdJOwPr6LcH8u5HBQW01wv+R+EAJae++EwKxwSJVIUFe5/nAgsy4wWdHBcIT/T5A45jzwbVgab5cBfzBBX08vyA4gEEoDeDB3XGnwLeCMsE9WDfAJASkwYwTqsGdFyPBqJAQQjgSwcH87YM/2AfjwUFJ+cGM7sjAXzqyQMG1MkCqCy1CFAWLwck8FcJtkJRAQO+SwQE5X0GiJT1B/T3QQeht/MHBIX3BV3IYQcmE8kAtsxhB+8SIP7I6ssB02KfAKgjnQFp/EUJr8w9BrnzvwOf+xsG28U5A22cKQY7KhsG6aqjBjwvrQLStqcGKVVHBr8lVwINb50CXkzLBzURSQVDMWcFp8LPBaPrQP8wHL8EI6MXBlsPTwF0XgUCN3fHB9H/oQTXh+UBKnaJAB4uqwb1npUH9wNzBwgqcwSB6ZUKCWF4+KfjMQX0zzcGVeBZCQqaqwRKcoUEvFJVAfhyYv3m7GkGFSxzAxOASwZLwIr5utLJBN0MBPm5EZ0JrXyVBy8/BwVxpaMHtaz/BZjxwwXotcMHDzMpAf7AKwcTTiMG1ZiVBV9b1wR2GP0ElfLzBF0wWQWv8qkBZ591AhPokwdeyAUHcsU9BpuyCwNjzZ8EX14JBjcWFQd0ZSMACY1ZBPRK9QEDfqMF/gczArFqxQErKPUF2idHBKxdNwXlJlMFw5mdAW/+OQOXfr8Hnf11BEglywNri67/JhzTB+vUUQZtio8Ee0xLC3n8bQWFeq8HTXNzANEM2QbWyL0HLqCPBd3vkQe8jTkG74bXBog/3QBArpMFzBYRA8aBbQBd1JUFN5ZLBNCIkQRsRksE5jq7BNQvMwY15oUF98IvBbSsCQZNkM8H9FKRBTYbdQLB4S0GEqipBtPsawcXYlkB5kZ3BY2UXQnc18EEXU/vBXF2YwOT2qcFaSEZBPGRdwWciXUBJ8cjBSEwvwi+L8sHENAlClLSpwVLVvkD+Q5BA5fsTQQswRkJd1ejAL54JwoCGD0LwxqrBN2kKQIat4kGm4ezAfW9DQoLnSECK1CpCO/X2QLSNvkH6DrrBw2S7wZYWtcE8gqTBPxNMQQjjEcKA9tK/YW3OQFKOnsEIdlnA33vcwet0j8EI9I1AqjMYwbnKgEGmVhDC7Y5tQFqHncERjhbCdcWZQB58UsBKa2rBfrUIQD9QrkCvW5nAKykDweliAMFcjl1BxyHQP2/gkkAQrDbByaCtwBB5ocDWHc3AS//ywVENsMEyKSDBbPIdwYWdZUHY7+BAKi6ZwQUaBcKBLpLBoHQDQQE1a8AaY+nAuquvweW1/r9P1+pB25frvg6ugsHMlTlBL290PqTNxsE9KQ5Bisj9QXDJokCJMYvAhv6gwV1+LsIQi8rBunGwwVlL5sGbv3lBL0xyQfbkGEIWCyNBAlqGwec49sBU+yhBpxkAwsqrXcGE2SVCfH4lQcKc2kHWPr9Bkti+wf6XqUGT+eJBBY5oQW9kbcESfynBChuWwDUZQMHZlHHB9xrmQXmBKUGcdzvAberGwRl7dUFrdlg/Kqw3vzaZLEILs2vAPq+rQAv9bsGU4QpBjaOsQYYgzkBTN5HBJAUvQUnfmj+0zmtA68gRQmuNKMIf6CZBJMcrwSgOq8GPVEZCLvMgwXDW10GgWvfB1+GQvvBLHUF89zJCXrA1wRwQ+cHRfYfB35QowfcSXMHS5QXC3DTNwWft88B38DdBs2aNQS95yUGVuq4/kQggQRdBkj6HHTxCz+eAQcusaEFL+95BZexgQTfbqT6evLjBkTcGwTcfYUHAQT5C2WKJwIFpFcKmjHBB6+/cwW2f9sD5EZFAAI0tQZ4/KEDFeA3CK3vtQOFKRb6KWZPAIMYBQUUbM0I7uQPBXzuNwZnolcFr5R1BuhMnP5NCvUFPV8PAJbUswXC6N0AHkz1CVEceQrzhOkGFq4dA6fyxwXlEiMGhb9jAWm/FwQr+sD+9LKbAVBERwtiorcCKfkPB9GXoQf6RhUAn9ZZBviIDQmsOgkEDxpHBwV8HwTnlssGFwVdAbL9jweUXxcHPLjpBqsiAwGxuLUHJzii+qovjQNqUGsKFm6dAduLzwB4wTULD2XHB4EiJQJJ3OMES2yxCev3AwZmSRcDZyh9BLIt2QZEbHcKSjY7BD0/MwQD1sUAik0HCoBEGwsX7i0Ej2UTCAMKXwSq6McE6ZO3BXC0QwtdZVcEoWynBVLxFQWDG/z9VvYjBAXM0wVDmg8FstexA2fsswbTut8EuFkhAzSQKwiQgqEE9RMBBF/O/wTwKC0A403FBvak1QBrx88AoQMbBO550waP4gUHJs4zBKcKQwfcPKEHuS0bBPuySP69eSsCNkdNADAKDQRpqeUCDJyRBEFsawufAE8LVAwHBwxukPmVOe0GglFbBZDSZPqJQt8FeYk9ARXzqwRGyYEI7ZbTBM2p/wem/uMFe4GE/qyUeQPAQdD/PRrTB9OMqQIzDrsGBoqy/Xx29QMUvUcFFvbM+mOmoQNi8ssHmFOtBMSV3wOp2QkFA+1fBgZ8PwmPkCMLZ21dBxd11QafGI8EOSAzCBvwcQZ5Y2EEBkhBCbRcDwVhz2EBjs/e/9TSDweDo7EEMvclA2rmjwe4f3EAvV43AAiOGwfjcnj9COB7B2JBpwDXUVz7ZZvbB955IQfL8oMCR355BPKJWQYhYUEEb2QJCu6EsQpBIVEHeJjo/7upLQQ+070DD3whC4xfPwSHmNUKs+5PAuc5lwPlVGcKqoqtBR5NlQqPh2kGleaZAMo0UQkrpJ0Cq5zRBCMMswdt3EkLYEdzBIvodQoxIE8CJ4BdBFeYdQR1v3cF2Yh9B9MahQVntz0EeZYNBLFeTwMyCZsHc6K7BO/4Gwk8SLMB5RtxBuwbWwZZGhT/s255Bb4WGwaC7QUE6f0PB1x1LQYIvVEBeE6vBKeWPwbs5pMEPQ0LAgkcawm02mcGGUIDB794dQRfVY0EbZNC/Nw0NwvJhV0Ac77s/RE3MwGxtUUHe1LrBNTCOwdWAxMHL9QlBq7IFwv6qcMElf79BOB24wQnYy8FdY0nCZFsYwsqZ5cBH9iTBhwQjP63uQcGLxH7BlsRxwVuPXMDUww/CnLuEwRjWbkGE5qvBnVbpQBeLWsGpCChBRHTBQVCPH0FH0+xBACLUQMjoC0IX8f1AhEMiQfWcXsD/+QPCT5wpwd97SD+XvDzAFSgQQvHOqsEpTCrCjE2/vg9E+8GVFgZA/TlVwOkfZz/Ffd1BGVIlwcgr38BcDFZAFW6BQbksUUFZJ5fBUldLQTmqpcBr3+FAodUyQkMqlT/2nbfB6C/FvVYjDMCGys+/uU7nwMV4L8BahcpA/zPoQfnNl0GYamdB/5HkQdYDFMJohtvBa6MKQraLrcG7wiPBn2IgwkcxhUCefEjBLIYWQEDSksHZDBbBN+i/wTMFnUAu0qXBEnHBwcLwIkDIzobBB6rtQHAj+MFHsRtBIwEHwe5fWEGUqjBC4KjrwXQMKMGL/LLBbswDPWFQ8kDRcEnBDwHGwS5u+0Evw/TBR+lhwVMt6cHiNzlBo/QNwgwTzUD1EzW9a/67P8NswcFCFmxBOQplQebPKcGHs5fB6LGwQBACaMHv6aDBQvWRQM4x98F2AKnABIutwdHacjwQpW7BRZYvQZL3NkIywi1AWLONQaZLlcAM5b1AhL7JQQ+QBEEtrGxCoT5BQk1sukEhdIfBBi1uQYRe1cHlA3rBT/FrwUtyQkFcDPhAN7NkQSa1nD4ovlBBzy1YwYIhIUFJ4GtBndkLQoNUc8AimSXBqPc6wQBOcMADP7vArouIvonDT0DlrsXBYm+BQbsSxT9SOSBBHD5cwajRAsLbvSbCeEw6QRUAn0HheuZBmHZhwHL6HkGgiblBC0hAwQaTgEGPv4hBDuE3QMEqgEDe1pHBMfvAQUCIEMIUT0xB1GKJQYQA3kFonc7BnSBZQfh/Ib//shRATbkBQa4YQ0HvJS0/kdWGQOuR00CA2bpBtGonwuyirsGxfmfByVZOQIxkisFB94HA3MFVQQ==",
          "dtype": "f4"
         },
         "yaxis": "y"
        },
        {
         "hovertemplate": "color=Sci/Tech<br>x=%{x}<br>y=%{y}<extra></extra>",
         "legendgroup": "Sci/Tech",
         "marker": {
          "color": "#ab63fa",
          "symbol": "circle"
         },
         "mode": "markers",
         "name": "Sci/Tech",
         "showlegend": true,
         "type": "scattergl",
         "x": {
          "bdata": "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",
          "dtype": "f4"
         },
         "xaxis": "x",
         "y": {
          "bdata": "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",
          "dtype": "f4"
         },
         "yaxis": "y"
        }
       ],
       "layout": {
        "legend": {
         "title": {
          "text": "color"
         },
         "tracegroupgap": 0
        },
        "template": {
         "data": {
          "bar": [
           {
            "error_x": {
             "color": "#2a3f5f"
            },
            "error_y": {
             "color": "#2a3f5f"
            },
            "marker": {
             "line": {
              "color": "#E5ECF6",
              "width": 0.5
             },
             "pattern": {
              "fillmode": "overlay",
              "size": 10,
              "solidity": 0.2
             }
            },
            "type": "bar"
           }
          ],
          "barpolar": [
           {
            "marker": {
             "line": {
              "color": "#E5ECF6",
              "width": 0.5
             },
             "pattern": {
              "fillmode": "overlay",
              "size": 10,
              "solidity": 0.2
             }
            },
            "type": "barpolar"
           }
          ],
          "carpet": [
           {
            "aaxis": {
             "endlinecolor": "#2a3f5f",
             "gridcolor": "white",
             "linecolor": "white",
             "minorgridcolor": "white",
             "startlinecolor": "#2a3f5f"
            },
            "baxis": {
             "endlinecolor": "#2a3f5f",
             "gridcolor": "white",
             "linecolor": "white",
             "minorgridcolor": "white",
             "startlinecolor": "#2a3f5f"
            },
            "type": "carpet"
           }
          ],
          "choropleth": [
           {
            "colorbar": {
             "outlinewidth": 0,
             "ticks": ""
            },
            "type": "choropleth"
           }
          ],
          "contour": [
           {
            "colorbar": {
             "outlinewidth": 0,
             "ticks": ""
            },
            "colorscale": [
             [
              0,
              "#0d0887"
             ],
             [
              0.1111111111111111,
              "#46039f"
             ],
             [
              0.2222222222222222,
              "#7201a8"
             ],
             [
              0.3333333333333333,
              "#9c179e"
             ],
             [
              0.4444444444444444,
              "#bd3786"
             ],
             [
              0.5555555555555556,
              "#d8576b"
             ],
             [
              0.6666666666666666,
              "#ed7953"
             ],
             [
              0.7777777777777778,
              "#fb9f3a"
             ],
             [
              0.8888888888888888,
              "#fdca26"
             ],
             [
              1,
              "#f0f921"
             ]
            ],
            "type": "contour"
           }
          ],
          "contourcarpet": [
           {
            "colorbar": {
             "outlinewidth": 0,
             "ticks": ""
            },
            "type": "contourcarpet"
           }
          ],
          "heatmap": [
           {
            "colorbar": {
             "outlinewidth": 0,
             "ticks": ""
            },
            "colorscale": [
             [
              0,
              "#0d0887"
             ],
             [
              0.1111111111111111,
              "#46039f"
             ],
             [
              0.2222222222222222,
              "#7201a8"
             ],
             [
              0.3333333333333333,
              "#9c179e"
             ],
             [
              0.4444444444444444,
              "#bd3786"
             ],
             [
              0.5555555555555556,
              "#d8576b"
             ],
             [
              0.6666666666666666,
              "#ed7953"
             ],
             [
              0.7777777777777778,
              "#fb9f3a"
             ],
             [
              0.8888888888888888,
              "#fdca26"
             ],
             [
              1,
              "#f0f921"
             ]
            ],
            "type": "heatmap"
           }
          ],
          "histogram": [
           {
            "marker": {
             "pattern": {
              "fillmode": "overlay",
              "size": 10,
              "solidity": 0.2
             }
            },
            "type": "histogram"
           }
          ],
          "histogram2d": [
           {
            "colorbar": {
             "outlinewidth": 0,
             "ticks": ""
            },
            "colorscale": [
             [
              0,
              "#0d0887"
             ],
             [
              0.1111111111111111,
              "#46039f"
             ],
             [
              0.2222222222222222,
              "#7201a8"
             ],
             [
              0.3333333333333333,
              "#9c179e"
             ],
             [
              0.4444444444444444,
              "#bd3786"
             ],
             [
              0.5555555555555556,
              "#d8576b"
             ],
             [
              0.6666666666666666,
              "#ed7953"
             ],
             [
              0.7777777777777778,
              "#fb9f3a"
             ],
             [
              0.8888888888888888,
              "#fdca26"
             ],
             [
              1,
              "#f0f921"
             ]
            ],
            "type": "histogram2d"
           }
          ],
          "histogram2dcontour": [
           {
            "colorbar": {
             "outlinewidth": 0,
             "ticks": ""
            },
            "colorscale": [
             [
              0,
              "#0d0887"
             ],
             [
              0.1111111111111111,
              "#46039f"
             ],
             [
              0.2222222222222222,
              "#7201a8"
             ],
             [
              0.3333333333333333,
              "#9c179e"
             ],
             [
              0.4444444444444444,
              "#bd3786"
             ],
             [
              0.5555555555555556,
              "#d8576b"
             ],
             [
              0.6666666666666666,
              "#ed7953"
             ],
             [
              0.7777777777777778,
              "#fb9f3a"
             ],
             [
              0.8888888888888888,
              "#fdca26"
             ],
             [
              1,
              "#f0f921"
             ]
            ],
            "type": "histogram2dcontour"
           }
          ],
          "mesh3d": [
           {
            "colorbar": {
             "outlinewidth": 0,
             "ticks": ""
            },
            "type": "mesh3d"
           }
          ],
          "parcoords": [
           {
            "line": {
             "colorbar": {
              "outlinewidth": 0,
              "ticks": ""
             }
            },
            "type": "parcoords"
           }
          ],
          "pie": [
           {
            "automargin": true,
            "type": "pie"
           }
          ],
          "scatter": [
           {
            "fillpattern": {
             "fillmode": "overlay",
             "size": 10,
             "solidity": 0.2
            },
            "type": "scatter"
           }
          ],
          "scatter3d": [
           {
            "line": {
             "colorbar": {
              "outlinewidth": 0,
              "ticks": ""
             }
            },
            "marker": {
             "colorbar": {
              "outlinewidth": 0,
              "ticks": ""
             }
            },
            "type": "scatter3d"
           }
          ],
          "scattercarpet": [
           {
            "marker": {
             "colorbar": {
              "outlinewidth": 0,
              "ticks": ""
             }
            },
            "type": "scattercarpet"
           }
          ],
          "scattergeo": [
           {
            "marker": {
             "colorbar": {
              "outlinewidth": 0,
              "ticks": ""
             }
            },
            "type": "scattergeo"
           }
          ],
          "scattergl": [
           {
            "marker": {
             "colorbar": {
              "outlinewidth": 0,
              "ticks": ""
             }
            },
            "type": "scattergl"
           }
          ],
          "scattermap": [
           {
            "marker": {
             "colorbar": {
              "outlinewidth": 0,
              "ticks": ""
             }
            },
            "type": "scattermap"
           }
          ],
          "scattermapbox": [
           {
            "marker": {
             "colorbar": {
              "outlinewidth": 0,
              "ticks": ""
             }
            },
            "type": "scattermapbox"
           }
          ],
          "scatterpolar": [
           {
            "marker": {
             "colorbar": {
              "outlinewidth": 0,
              "ticks": ""
             }
            },
            "type": "scatterpolar"
           }
          ],
          "scatterpolargl": [
           {
            "marker": {
             "colorbar": {
              "outlinewidth": 0,
              "ticks": ""
             }
            },
            "type": "scatterpolargl"
           }
          ],
          "scatterternary": [
           {
            "marker": {
             "colorbar": {
              "outlinewidth": 0,
              "ticks": ""
             }
            },
            "type": "scatterternary"
           }
          ],
          "surface": [
           {
            "colorbar": {
             "outlinewidth": 0,
             "ticks": ""
            },
            "colorscale": [
             [
              0,
              "#0d0887"
             ],
             [
              0.1111111111111111,
              "#46039f"
             ],
             [
              0.2222222222222222,
              "#7201a8"
             ],
             [
              0.3333333333333333,
              "#9c179e"
             ],
             [
              0.4444444444444444,
              "#bd3786"
             ],
             [
              0.5555555555555556,
              "#d8576b"
             ],
             [
              0.6666666666666666,
              "#ed7953"
             ],
             [
              0.7777777777777778,
              "#fb9f3a"
             ],
             [
              0.8888888888888888,
              "#fdca26"
             ],
             [
              1,
              "#f0f921"
             ]
            ],
            "type": "surface"
           }
          ],
          "table": [
           {
            "cells": {
             "fill": {
              "color": "#EBF0F8"
             },
             "line": {
              "color": "white"
             }
            },
            "header": {
             "fill": {
              "color": "#C8D4E3"
             },
             "line": {
              "color": "white"
             }
            },
            "type": "table"
           }
          ]
         },
         "layout": {
          "annotationdefaults": {
           "arrowcolor": "#2a3f5f",
           "arrowhead": 0,
           "arrowwidth": 1
          },
          "autotypenumbers": "strict",
          "coloraxis": {
           "colorbar": {
            "outlinewidth": 0,
            "ticks": ""
           }
          },
          "colorscale": {
           "diverging": [
            [
             0,
             "#8e0152"
            ],
            [
             0.1,
             "#c51b7d"
            ],
            [
             0.2,
             "#de77ae"
            ],
            [
             0.3,
             "#f1b6da"
            ],
            [
             0.4,
             "#fde0ef"
            ],
            [
             0.5,
             "#f7f7f7"
            ],
            [
             0.6,
             "#e6f5d0"
            ],
            [
             0.7,
             "#b8e186"
            ],
            [
             0.8,
             "#7fbc41"
            ],
            [
             0.9,
             "#4d9221"
            ],
            [
             1,
             "#276419"
            ]
           ],
           "sequential": [
            [
             0,
             "#0d0887"
            ],
            [
             0.1111111111111111,
             "#46039f"
            ],
            [
             0.2222222222222222,
             "#7201a8"
            ],
            [
             0.3333333333333333,
             "#9c179e"
            ],
            [
             0.4444444444444444,
             "#bd3786"
            ],
            [
             0.5555555555555556,
             "#d8576b"
            ],
            [
             0.6666666666666666,
             "#ed7953"
            ],
            [
             0.7777777777777778,
             "#fb9f3a"
            ],
            [
             0.8888888888888888,
             "#fdca26"
            ],
            [
             1,
             "#f0f921"
            ]
           ],
           "sequentialminus": [
            [
             0,
             "#0d0887"
            ],
            [
             0.1111111111111111,
             "#46039f"
            ],
            [
             0.2222222222222222,
             "#7201a8"
            ],
            [
             0.3333333333333333,
             "#9c179e"
            ],
            [
             0.4444444444444444,
             "#bd3786"
            ],
            [
             0.5555555555555556,
             "#d8576b"
            ],
            [
             0.6666666666666666,
             "#ed7953"
            ],
            [
             0.7777777777777778,
             "#fb9f3a"
            ],
            [
             0.8888888888888888,
             "#fdca26"
            ],
            [
             1,
             "#f0f921"
            ]
           ]
          },
          "colorway": [
           "#636efa",
           "#EF553B",
           "#00cc96",
           "#ab63fa",
           "#FFA15A",
           "#19d3f3",
           "#FF6692",
           "#B6E880",
           "#FF97FF",
           "#FECB52"
          ],
          "font": {
           "color": "#2a3f5f"
          },
          "geo": {
           "bgcolor": "white",
           "lakecolor": "white",
           "landcolor": "#E5ECF6",
           "showlakes": true,
           "showland": true,
           "subunitcolor": "white"
          },
          "hoverlabel": {
           "align": "left"
          },
          "hovermode": "closest",
          "mapbox": {
           "style": "light"
          },
          "paper_bgcolor": "white",
          "plot_bgcolor": "#E5ECF6",
          "polar": {
           "angularaxis": {
            "gridcolor": "white",
            "linecolor": "white",
            "ticks": ""
           },
           "bgcolor": "#E5ECF6",
           "radialaxis": {
            "gridcolor": "white",
            "linecolor": "white",
            "ticks": ""
           }
          },
          "scene": {
           "xaxis": {
            "backgroundcolor": "#E5ECF6",
            "gridcolor": "white",
            "gridwidth": 2,
            "linecolor": "white",
            "showbackground": true,
            "ticks": "",
            "zerolinecolor": "white"
           },
           "yaxis": {
            "backgroundcolor": "#E5ECF6",
            "gridcolor": "white",
            "gridwidth": 2,
            "linecolor": "white",
            "showbackground": true,
            "ticks": "",
            "zerolinecolor": "white"
           },
           "zaxis": {
            "backgroundcolor": "#E5ECF6",
            "gridcolor": "white",
            "gridwidth": 2,
            "linecolor": "white",
            "showbackground": true,
            "ticks": "",
            "zerolinecolor": "white"
           }
          },
          "shapedefaults": {
           "line": {
            "color": "#2a3f5f"
           }
          },
          "ternary": {
           "aaxis": {
            "gridcolor": "white",
            "linecolor": "white",
            "ticks": ""
           },
           "baxis": {
            "gridcolor": "white",
            "linecolor": "white",
            "ticks": ""
           },
           "bgcolor": "#E5ECF6",
           "caxis": {
            "gridcolor": "white",
            "linecolor": "white",
            "ticks": ""
           }
          },
          "title": {
           "x": 0.05
          },
          "xaxis": {
           "automargin": true,
           "gridcolor": "white",
           "linecolor": "white",
           "ticks": "",
           "title": {
            "standoff": 15
           },
           "zerolinecolor": "white",
           "zerolinewidth": 2
          },
          "yaxis": {
           "automargin": true,
           "gridcolor": "white",
           "linecolor": "white",
           "ticks": "",
           "title": {
            "standoff": 15
           },
           "zerolinecolor": "white",
           "zerolinewidth": 2
          }
         }
        },
        "title": {
         "text": "TF-IDF TSNE"
        },
        "xaxis": {
         "anchor": "y",
         "domain": [
          0,
          1
         ],
         "title": {
          "text": "x"
         }
        },
        "yaxis": {
         "anchor": "x",
         "domain": [
          0,
          1
         ],
         "title": {
          "text": "y"
         }
        }
       }
      }
     },
     "metadata": {},
     "output_type": "display_data"
    },
    {
     "data": {
      "application/vnd.plotly.v1+json": {
       "config": {
        "plotlyServerURL": "https://plot.ly"
       },
       "data": [
        {
         "hovertemplate": "color=World<br>x=%{x}<br>y=%{y}<extra></extra>",
         "legendgroup": "World",
         "marker": {
          "color": "#636efa",
          "symbol": "circle"
         },
         "mode": "markers",
         "name": "World",
         "showlegend": true,
         "type": "scattergl",
         "x": {
          "bdata": "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",
          "dtype": "f4"
         },
         "xaxis": "x",
         "y": {
          "bdata": "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",
          "dtype": "f4"
         },
         "yaxis": "y"
        },
        {
         "hovertemplate": "color=Sports<br>x=%{x}<br>y=%{y}<extra></extra>",
         "legendgroup": "Sports",
         "marker": {
          "color": "#EF553B",
          "symbol": "circle"
         },
         "mode": "markers",
         "name": "Sports",
         "showlegend": true,
         "type": "scattergl",
         "x": {
          "bdata": "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",
          "dtype": "f4"
         },
         "xaxis": "x",
         "y": {
          "bdata": "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",
          "dtype": "f4"
         },
         "yaxis": "y"
        },
        {
         "hovertemplate": "color=Business<br>x=%{x}<br>y=%{y}<extra></extra>",
         "legendgroup": "Business",
         "marker": {
          "color": "#00cc96",
          "symbol": "circle"
         },
         "mode": "markers",
         "name": "Business",
         "showlegend": true,
         "type": "scattergl",
         "x": {
          "bdata": "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",
          "dtype": "f4"
         },
         "xaxis": "x",
         "y": {
          "bdata": "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",
          "dtype": "f4"
         },
         "yaxis": "y"
        },
        {
         "hovertemplate": "color=Sci/Tech<br>x=%{x}<br>y=%{y}<extra></extra>",
         "legendgroup": "Sci/Tech",
         "marker": {
          "color": "#ab63fa",
          "symbol": "circle"
         },
         "mode": "markers",
         "name": "Sci/Tech",
         "showlegend": true,
         "type": "scattergl",
         "x": {
          "bdata": "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",
          "dtype": "f4"
         },
         "xaxis": "x",
         "y": {
          "bdata": "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",
          "dtype": "f4"
         },
         "yaxis": "y"
        }
       ],
       "layout": {
        "legend": {
         "title": {
          "text": "color"
         },
         "tracegroupgap": 0
        },
        "template": {
         "data": {
          "bar": [
           {
            "error_x": {
             "color": "#2a3f5f"
            },
            "error_y": {
             "color": "#2a3f5f"
            },
            "marker": {
             "line": {
              "color": "#E5ECF6",
              "width": 0.5
             },
             "pattern": {
              "fillmode": "overlay",
              "size": 10,
              "solidity": 0.2
             }
            },
            "type": "bar"
           }
          ],
          "barpolar": [
           {
            "marker": {
             "line": {
              "color": "#E5ECF6",
              "width": 0.5
             },
             "pattern": {
              "fillmode": "overlay",
              "size": 10,
              "solidity": 0.2
             }
            },
            "type": "barpolar"
           }
          ],
          "carpet": [
           {
            "aaxis": {
             "endlinecolor": "#2a3f5f",
             "gridcolor": "white",
             "linecolor": "white",
             "minorgridcolor": "white",
             "startlinecolor": "#2a3f5f"
            },
            "baxis": {
             "endlinecolor": "#2a3f5f",
             "gridcolor": "white",
             "linecolor": "white",
             "minorgridcolor": "white",
             "startlinecolor": "#2a3f5f"
            },
            "type": "carpet"
           }
          ],
          "choropleth": [
           {
            "colorbar": {
             "outlinewidth": 0,
             "ticks": ""
            },
            "type": "choropleth"
           }
          ],
          "contour": [
           {
            "colorbar": {
             "outlinewidth": 0,
             "ticks": ""
            },
            "colorscale": [
             [
              0,
              "#0d0887"
             ],
             [
              0.1111111111111111,
              "#46039f"
             ],
             [
              0.2222222222222222,
              "#7201a8"
             ],
             [
              0.3333333333333333,
              "#9c179e"
             ],
             [
              0.4444444444444444,
              "#bd3786"
             ],
             [
              0.5555555555555556,
              "#d8576b"
             ],
             [
              0.6666666666666666,
              "#ed7953"
             ],
             [
              0.7777777777777778,
              "#fb9f3a"
             ],
             [
              0.8888888888888888,
              "#fdca26"
             ],
             [
              1,
              "#f0f921"
             ]
            ],
            "type": "contour"
           }
          ],
          "contourcarpet": [
           {
            "colorbar": {
             "outlinewidth": 0,
             "ticks": ""
            },
            "type": "contourcarpet"
           }
          ],
          "heatmap": [
           {
            "colorbar": {
             "outlinewidth": 0,
             "ticks": ""
            },
            "colorscale": [
             [
              0,
              "#0d0887"
             ],
             [
              0.1111111111111111,
              "#46039f"
             ],
             [
              0.2222222222222222,
              "#7201a8"
             ],
             [
              0.3333333333333333,
              "#9c179e"
             ],
             [
              0.4444444444444444,
              "#bd3786"
             ],
             [
              0.5555555555555556,
              "#d8576b"
             ],
             [
              0.6666666666666666,
              "#ed7953"
             ],
             [
              0.7777777777777778,
              "#fb9f3a"
             ],
             [
              0.8888888888888888,
              "#fdca26"
             ],
             [
              1,
              "#f0f921"
             ]
            ],
            "type": "heatmap"
           }
          ],
          "histogram": [
           {
            "marker": {
             "pattern": {
              "fillmode": "overlay",
              "size": 10,
              "solidity": 0.2
             }
            },
            "type": "histogram"
           }
          ],
          "histogram2d": [
           {
            "colorbar": {
             "outlinewidth": 0,
             "ticks": ""
            },
            "colorscale": [
             [
              0,
              "#0d0887"
             ],
             [
              0.1111111111111111,
              "#46039f"
             ],
             [
              0.2222222222222222,
              "#7201a8"
             ],
             [
              0.3333333333333333,
              "#9c179e"
             ],
             [
              0.4444444444444444,
              "#bd3786"
             ],
             [
              0.5555555555555556,
              "#d8576b"
             ],
             [
              0.6666666666666666,
              "#ed7953"
             ],
             [
              0.7777777777777778,
              "#fb9f3a"
             ],
             [
              0.8888888888888888,
              "#fdca26"
             ],
             [
              1,
              "#f0f921"
             ]
            ],
            "type": "histogram2d"
           }
          ],
          "histogram2dcontour": [
           {
            "colorbar": {
             "outlinewidth": 0,
             "ticks": ""
            },
            "colorscale": [
             [
              0,
              "#0d0887"
             ],
             [
              0.1111111111111111,
              "#46039f"
             ],
             [
              0.2222222222222222,
              "#7201a8"
             ],
             [
              0.3333333333333333,
              "#9c179e"
             ],
             [
              0.4444444444444444,
              "#bd3786"
             ],
             [
              0.5555555555555556,
              "#d8576b"
             ],
             [
              0.6666666666666666,
              "#ed7953"
             ],
             [
              0.7777777777777778,
              "#fb9f3a"
             ],
             [
              0.8888888888888888,
              "#fdca26"
             ],
             [
              1,
              "#f0f921"
             ]
            ],
            "type": "histogram2dcontour"
           }
          ],
          "mesh3d": [
           {
            "colorbar": {
             "outlinewidth": 0,
             "ticks": ""
            },
            "type": "mesh3d"
           }
          ],
          "parcoords": [
           {
            "line": {
             "colorbar": {
              "outlinewidth": 0,
              "ticks": ""
             }
            },
            "type": "parcoords"
           }
          ],
          "pie": [
           {
            "automargin": true,
            "type": "pie"
           }
          ],
          "scatter": [
           {
            "fillpattern": {
             "fillmode": "overlay",
             "size": 10,
             "solidity": 0.2
            },
            "type": "scatter"
           }
          ],
          "scatter3d": [
           {
            "line": {
             "colorbar": {
              "outlinewidth": 0,
              "ticks": ""
             }
            },
            "marker": {
             "colorbar": {
              "outlinewidth": 0,
              "ticks": ""
             }
            },
            "type": "scatter3d"
           }
          ],
          "scattercarpet": [
           {
            "marker": {
             "colorbar": {
              "outlinewidth": 0,
              "ticks": ""
             }
            },
            "type": "scattercarpet"
           }
          ],
          "scattergeo": [
           {
            "marker": {
             "colorbar": {
              "outlinewidth": 0,
              "ticks": ""
             }
            },
            "type": "scattergeo"
           }
          ],
          "scattergl": [
           {
            "marker": {
             "colorbar": {
              "outlinewidth": 0,
              "ticks": ""
             }
            },
            "type": "scattergl"
           }
          ],
          "scattermap": [
           {
            "marker": {
             "colorbar": {
              "outlinewidth": 0,
              "ticks": ""
             }
            },
            "type": "scattermap"
           }
          ],
          "scattermapbox": [
           {
            "marker": {
             "colorbar": {
              "outlinewidth": 0,
              "ticks": ""
             }
            },
            "type": "scattermapbox"
           }
          ],
          "scatterpolar": [
           {
            "marker": {
             "colorbar": {
              "outlinewidth": 0,
              "ticks": ""
             }
            },
            "type": "scatterpolar"
           }
          ],
          "scatterpolargl": [
           {
            "marker": {
             "colorbar": {
              "outlinewidth": 0,
              "ticks": ""
             }
            },
            "type": "scatterpolargl"
           }
          ],
          "scatterternary": [
           {
            "marker": {
             "colorbar": {
              "outlinewidth": 0,
              "ticks": ""
             }
            },
            "type": "scatterternary"
           }
          ],
          "surface": [
           {
            "colorbar": {
             "outlinewidth": 0,
             "ticks": ""
            },
            "colorscale": [
             [
              0,
              "#0d0887"
             ],
             [
              0.1111111111111111,
              "#46039f"
             ],
             [
              0.2222222222222222,
              "#7201a8"
             ],
             [
              0.3333333333333333,
              "#9c179e"
             ],
             [
              0.4444444444444444,
              "#bd3786"
             ],
             [
              0.5555555555555556,
              "#d8576b"
             ],
             [
              0.6666666666666666,
              "#ed7953"
             ],
             [
              0.7777777777777778,
              "#fb9f3a"
             ],
             [
              0.8888888888888888,
              "#fdca26"
             ],
             [
              1,
              "#f0f921"
             ]
            ],
            "type": "surface"
           }
          ],
          "table": [
           {
            "cells": {
             "fill": {
              "color": "#EBF0F8"
             },
             "line": {
              "color": "white"
             }
            },
            "header": {
             "fill": {
              "color": "#C8D4E3"
             },
             "line": {
              "color": "white"
             }
            },
            "type": "table"
           }
          ]
         },
         "layout": {
          "annotationdefaults": {
           "arrowcolor": "#2a3f5f",
           "arrowhead": 0,
           "arrowwidth": 1
          },
          "autotypenumbers": "strict",
          "coloraxis": {
           "colorbar": {
            "outlinewidth": 0,
            "ticks": ""
           }
          },
          "colorscale": {
           "diverging": [
            [
             0,
             "#8e0152"
            ],
            [
             0.1,
             "#c51b7d"
            ],
            [
             0.2,
             "#de77ae"
            ],
            [
             0.3,
             "#f1b6da"
            ],
            [
             0.4,
             "#fde0ef"
            ],
            [
             0.5,
             "#f7f7f7"
            ],
            [
             0.6,
             "#e6f5d0"
            ],
            [
             0.7,
             "#b8e186"
            ],
            [
             0.8,
             "#7fbc41"
            ],
            [
             0.9,
             "#4d9221"
            ],
            [
             1,
             "#276419"
            ]
           ],
           "sequential": [
            [
             0,
             "#0d0887"
            ],
            [
             0.1111111111111111,
             "#46039f"
            ],
            [
             0.2222222222222222,
             "#7201a8"
            ],
            [
             0.3333333333333333,
             "#9c179e"
            ],
            [
             0.4444444444444444,
             "#bd3786"
            ],
            [
             0.5555555555555556,
             "#d8576b"
            ],
            [
             0.6666666666666666,
             "#ed7953"
            ],
            [
             0.7777777777777778,
             "#fb9f3a"
            ],
            [
             0.8888888888888888,
             "#fdca26"
            ],
            [
             1,
             "#f0f921"
            ]
           ],
           "sequentialminus": [
            [
             0,
             "#0d0887"
            ],
            [
             0.1111111111111111,
             "#46039f"
            ],
            [
             0.2222222222222222,
             "#7201a8"
            ],
            [
             0.3333333333333333,
             "#9c179e"
            ],
            [
             0.4444444444444444,
             "#bd3786"
            ],
            [
             0.5555555555555556,
             "#d8576b"
            ],
            [
             0.6666666666666666,
             "#ed7953"
            ],
            [
             0.7777777777777778,
             "#fb9f3a"
            ],
            [
             0.8888888888888888,
             "#fdca26"
            ],
            [
             1,
             "#f0f921"
            ]
           ]
          },
          "colorway": [
           "#636efa",
           "#EF553B",
           "#00cc96",
           "#ab63fa",
           "#FFA15A",
           "#19d3f3",
           "#FF6692",
           "#B6E880",
           "#FF97FF",
           "#FECB52"
          ],
          "font": {
           "color": "#2a3f5f"
          },
          "geo": {
           "bgcolor": "white",
           "lakecolor": "white",
           "landcolor": "#E5ECF6",
           "showlakes": true,
           "showland": true,
           "subunitcolor": "white"
          },
          "hoverlabel": {
           "align": "left"
          },
          "hovermode": "closest",
          "mapbox": {
           "style": "light"
          },
          "paper_bgcolor": "white",
          "plot_bgcolor": "#E5ECF6",
          "polar": {
           "angularaxis": {
            "gridcolor": "white",
            "linecolor": "white",
            "ticks": ""
           },
           "bgcolor": "#E5ECF6",
           "radialaxis": {
            "gridcolor": "white",
            "linecolor": "white",
            "ticks": ""
           }
          },
          "scene": {
           "xaxis": {
            "backgroundcolor": "#E5ECF6",
            "gridcolor": "white",
            "gridwidth": 2,
            "linecolor": "white",
            "showbackground": true,
            "ticks": "",
            "zerolinecolor": "white"
           },
           "yaxis": {
            "backgroundcolor": "#E5ECF6",
            "gridcolor": "white",
            "gridwidth": 2,
            "linecolor": "white",
            "showbackground": true,
            "ticks": "",
            "zerolinecolor": "white"
           },
           "zaxis": {
            "backgroundcolor": "#E5ECF6",
            "gridcolor": "white",
            "gridwidth": 2,
            "linecolor": "white",
            "showbackground": true,
            "ticks": "",
            "zerolinecolor": "white"
           }
          },
          "shapedefaults": {
           "line": {
            "color": "#2a3f5f"
           }
          },
          "ternary": {
           "aaxis": {
            "gridcolor": "white",
            "linecolor": "white",
            "ticks": ""
           },
           "baxis": {
            "gridcolor": "white",
            "linecolor": "white",
            "ticks": ""
           },
           "bgcolor": "#E5ECF6",
           "caxis": {
            "gridcolor": "white",
            "linecolor": "white",
            "ticks": ""
           }
          },
          "title": {
           "x": 0.05
          },
          "xaxis": {
           "automargin": true,
           "gridcolor": "white",
           "linecolor": "white",
           "ticks": "",
           "title": {
            "standoff": 15
           },
           "zerolinecolor": "white",
           "zerolinewidth": 2
          },
          "yaxis": {
           "automargin": true,
           "gridcolor": "white",
           "linecolor": "white",
           "ticks": "",
           "title": {
            "standoff": 15
           },
           "zerolinecolor": "white",
           "zerolinewidth": 2
          }
         }
        },
        "title": {
         "text": "SBERT TSNE"
        },
        "xaxis": {
         "anchor": "y",
         "domain": [
          0,
          1
         ],
         "title": {
          "text": "x"
         }
        },
        "yaxis": {
         "anchor": "x",
         "domain": [
          0,
          1
         ],
         "title": {
          "text": "y"
         }
        }
       }
      }
     },
     "metadata": {},
     "output_type": "display_data"
    }
   ],
   "source": [
    "px.scatter(x=X_tfidf_tsne[:,0], y=X_tfidf_tsne[:,1], color=df_sampled[\"label_name\"], title=\"TF-IDF TSNE\").show()\n",
    "px.scatter(x=X_sbert_tsne[:,0], y=X_sbert_tsne[:,1], color=df_sampled[\"label_name\"], title=\"SBERT TSNE\").show()"
   ]
  },
  {
   "cell_type": "code",
   "execution_count": 30,
   "metadata": {},
   "outputs": [
    {
     "data": {
      "application/vnd.plotly.v1+json": {
       "config": {
        "plotlyServerURL": "https://plot.ly"
       },
       "data": [
        {
         "hovertemplate": "color=World<br>x=%{x}<br>y=%{y}<extra></extra>",
         "legendgroup": "World",
         "marker": {
          "color": "#636efa",
          "symbol": "circle"
         },
         "mode": "markers",
         "name": "World",
         "showlegend": true,
         "type": "scattergl",
         "x": {
          "bdata": "f1E+vmIujr+DRBQ/Rc+FPwAQY0C45iHAm2AvQFsq0b358oA/L7PDP9Z+FL66xNy91Z4eveS9dD9+rqs/dVlMv31POz+o3tA/i9sCv+YIPT8rOki/vUuIP1Kqmr+RZsI+DIgoQHeFBL+9Dcw/8/bVPlOLpT67lrs+MwoYPnmHij6eLda+RQ6CP7w6BMAKKJ8+/Q8HPx7Mwz+0oLM+YvSsvoQp0b66nuw+x7WHv0Ix67+N58O/Pqoyv+v5Sb8pqKI/SfEyPi5vO79+N9A94KsgQMS6Hr/gpDBAR/uwP8tVzD+Cceo/hwSlv+Btvj6ln5E/f2CCP0OjJED2FJg/akbKvS5bk79Mt7M++Af2vnIwib+9SBK/9ss6vvmpLD369hO/E5Nsv8J0bj+pVok/1NA6PzN98b59fYc/m1QJwHYNyL/jxQ/AhfguP5FNYT+r/4y/Lg6avbShoj+qV4+9UNovQMydV76BIWI+hC6zPV9/xb/rq2G7fKIwv6urLz/n/dY/EV/oPCSGUz+uga4/HE9+P2ZaI0AdfYc/8PECv7US2L/ZUs8/raYZQBl3tb0e02C9YMqFPw2h8b8A6Rg/jToSPwOugD+3uTjAcFcEQBW7Ib+EeyE+I8OQvu0LrD9V0R1Ap0guQBsCZz8GA0U/NbrLP8v7lbzNRfS/MboiQLxGlzyxIcO/Y2uaPgaj1b0HUYu/LsDGP5i7N7+Eci6/94lGP+GGir/ENFPAtZj0P7Pulb1zV0u/emyfP3RmRL9q6R5A0DEOPiIuND9T5l09tyeJQHkChD8NaSG/EHr5PW1HKkCx7nG/zpYhP9u2e0Akb0G/cRUHv3o/n7/IQwC/j2QbQGKRT7+Y6E0+PyW7P+wJFkB+aqY/fssYvpMpej6iVlVAql46wNd6Dr4yhsM/BsoMPyQJ2z62wyZATUY8v/SMXz9m527A1yQpQICPCcAvLoJAJ59dv9sPhj/PuUi//UfXvTzMT7+8wCK/ep68P4PQJb+j0UpAEYeGP5xw6765Py4+vQE2vzPBRT+PLnJAihM9v5ha+r6IT+E+WVEFwOiDIED9/nRAXl9wPcne9L9nUTq/Pf2Zvzy3uT7Ug8E/g/r+v41iXEC4Ek+/LHj4vY5vML+ZuRS/ZRBqvaYAZ796GKw/38JOv7NaAD/vjR0+3aPBv0tBHb8XLWY+vNZfv63ujb5cd1K/Gsgdvxbijj6IYdO/GEpMPjdd+D3mkwFAd3I4v8uWZTzTnA/AUAlFv0TGwT+RIni/RII1PzokfEAJ3ti/GWXlvUqIHsDwa+S6Smw5vx3lXL/94EI/k7x5QC70aD+/q6I/7IfYvQvHBEC0QFi+E50VvyzDcj8z5gFAqzKtPpKacsBUch3AU3Ijv/gXPL882Yw+0ic7P0y/cL/+PSBA3TNgv/DENr87aji/50mTvuUbYD+nbCdAddFcv+2JLkDKFPC+lnicPdSgZD9UTBG/CKWEPzcSWb97fyk/wWAYQEmNPrysXGY/PYEjQF3Xij+wCQ0/9zubPgvYnL6nKhTA7CcpvmNFOr8Ru8A/3z0OP7NQmT+sh4y/cglIP+nXuj6PuaY/P5lBwAjD8r+tAhZAdE8Lv1E1wD4ziYC/DWzyPpESwD/QLgBAL6QNvx0+PcCkDZQ9nFCoPoUI+b8x3CdAyCFlP5iOnD8ELl2/j4C6P3QLJ0DZMnM/ecF4QLDA3b6CNhw/GLPxvqt6m707QdY/FYq6v1ISgkAghx8/HequP3tWpD/5wAm+i+CrP1/5r75NHg2/F4S9Ph28hz8w2W2//GFLP3WbAr86wbo8rb8rP1ml8b60yVi/WrqnP1m+GMB7P5O/jV5lPw0H9j+rqVhAXVljQN5Ler+7n+8/63Anv2+TWT/11/m+GSaeviHSCT1zt4y/cG8Nv4l8Er9IQoa6UVO5PqE1C8AJdl6/IdN+P1bCHkBAvlG/atX2vwvlOb+1u8U/ZcCwPZTphj8STiM9wJjKvRBPJr4uOT+/tcT9vr7RXD/Nj40/hXI/Pp++IEBK/V5ABxuMv/KpL0CUTls/9mK/P5n0tz+AZHk/vd20PwHAQ77Hu4W+caZUv41NfMBzGhc9wVAqP0f6Kj5eQAe/+OHavnq11D+Nh68/zey1uzeFH0DTvilAotGgv2LGd0Bk3CXAVzqVvyBpWL+7NBe931GXQEAn4j9Y0hu833yoPl/ngD9XPS8/eoeAP7+VHb9+zoi/gCwvP0L2JkCuJtu/i9iZvg7wML/4PTO+WcasPnLVoz8M1kVAEi0HPjCUfb3FSXC//lh6vTWfKT3mS1VA2OO0v6uPgz/ZmRC/5/f0vrI2CD/VaWs9uKmMvclLLkBQANG+QZRyQHWkPT+rtd0+lllwP/J9FT/7hry+j2JzP1ZfxL/zdAZAzUMTv5xcTj9wTHa9HvQjQMIDsr0DIi1AiX0FP0m5wj64s7g/9G/BPxfGwz6u6ai83P2BvvqqvD9Y9ka+bD8oQPIUQT4f9ZK/YbmfP5uQn748JK6+cbWPvU5bIEDsrDs/IuYTwIYgOL9cYn3A0Uksv8TRCUDZghy/7UUrPkzwE78RNwS/LjC2P2RpKUAv7Ik+eT1UP4oxA7+7XBq/WVtCv8JMa79SXCA+zQzSv6aiQr4PlDe9AN8fQBKgcb/97e+/heXCv8CbUD9DNP6+i5HLvFL077624vy/3v4RQHosPD+lhCNAgJJhQPe8Vz+B5E4/52wVvoS8b7+Joka93YYcv1R/Gb9vXQFAsvLYvxkX7b7ijmq/tcEGQN72PT5eElQ/5cHVvTBFwz+xwkg/XgqfPgx8Ab+AnBNA4yKBv3cXyT9qa6k/LiyIvmURxD97SP2/nS4dP8P1Cr5AHFe/d8Ezv868U7/5Za49oLstwGXVtz4YW4Q/sUkvQDGtg79XwcU/QRDwPqFLAT/+9R5AdDqEP5U0tL9wKR8+86Utv/MyED9XTOg/hp6aQFLVzL+2H8Q/lw/5vkl85D65wnpAt4QsQJaEAr8uj56/XOzDP3meCT4UB6s/NOxgvp14K8CTTEI/6xLFP3V8ab+0d2hAhSebPiaW+D6YQy6/NvcaQNMfXr8jZqe/687gPxZA0TzJ3Iw/oUE1PxYs77+dATTA2RVEvua7FEDnqzO938K7vYkGq73mFiS/vPBTvwqYFD86zTm/1OarP1M3dL+Mghc9kKimP1XErL8JlIM+5yzDv2tkYEC2bYG+giLtv7dH37/x2c++iRz2v/BvnL4JNz2/rL1bPwXAZUBKqMa+DP2kvnT4Nj9LCSZA3PitPlfpXz+Fm4q+rKS2viAx3T55nvw+atgwQD/BoD+uLN29WK/kvpMNOT4Bsx9AyPNUPn1ciD+qUs8/8ZaSPWUNNUC8G0k/oMbMv3hCfj/hZrs/bVgDv6DsRj544NG+F0K7P0wxRr8OMZs/EGAqQDE3BkBWZMA/DiXJvWBmyj6B89w/46UsQMVsab/JmEe/epgfPipYK0B1xxk/1hS6PjXLsT9nG0g/HRzWPSqA7j5Ox3W/mD0qv00m2T2XKs0/956OPwO/qj7mKSA/ZYMMwJ7hI0Bjhha/1yhSPtSc9r+JBU2/u90oQEpLoj8aRx+9qAR/P2oMlT8Ab6m/BdHgvip/Tj/D8WO+emsgQNOSZD/RCXK/05Z4QNB9k7/77wu+q3AmPwynmj65vSVA1wlVv8yQTb+fm2NAa7h8wPA+pT9CNihAxY2Dvq8wxr4akyo+HZ/bPq6IxT20it6+S2GOPJvnnb0YEvy+CJ32vzmdtD7rHiNA2b7Uv1nvo7uhQixAFKw6v1Rtlz8Dww7AvJ9uviRkVT5CRM0/vlbwPmQvYj1PBlS+SnD4v2rpMj/PQ92/n8WVP+sGgL9HTVo/i7EHv3RDa7/Vu34/0boEv/kAtD5A3L0/B0R9P+/gZkDrU/W/KJWrPxaDa8DbC0+/IiQ2QPFNaUCEw4y+uTcFvrnG5z3NHbY+l9+gP8aKEj8TfZ6/hodiQPj0b0CPnu6+R0fSP1/xh78E1hU/sQbBvzO28L2ioHC9ic5kPyu/Wr+ZL4w98YWpP0jGvj9MUi4/wSrLPiwJKz5zTgO/nLGSv5iURT+BBC1AYEyQPsrKAMDzxShAfUGEPybxY78ySCtAJr9Bv/Givr+/N4i/oaHDP9mNKz9dKVZAIuRNv6S80z8n1F5A+exTv83TWr8cKEi/S9i1P4s32T+/cv++qgIdP+SvLLxr7pA+1pZsP5RYWj6kyBRARxTjPutH1jr8ckC/DrqVPm2IVb/OQdu+mt4WP/0QG788w/m+/h2dPVP5GEDQRKQ/qqwJPTLmvz8BCJQ+Nq+LP98PMr+skDA9CNNkQJbtd0CWwio/Fi97P31O1D8R+xS+Wn2hvjCXOj/kwC1Aah/Rv0Cb/r7mjbM+5bc9vaB+qT/KreK/mOlCv+0ZYEDGmyG/Ile5v94L+b/yiCu9gKArQJp4hj+2PQ6+0u4oQGtv775fOHS+ro8gQDAR2j8OWHK+p1/KvdRRfz+BQ6I+0VYUQApOGz2vxhhAK7jjvfpPHEBvJ7M9L0eDP5QD/74c+IE/6MV+v/Q1Rb/k/SQ+AuOuP4tIDsB9IjM/GXodvvfQ6r6LQVW/3S4jPIClM8BB/yA+Hef4PQ6Flz7UQTA+XBROv3ItxL6GMEa/a2G/vxTnzT7mCYVAbeCRPeXA/b5Yboi/WhSCv99/C7/rWAe+KiP9vpnyWED39CdAWCopP0A5hz+zBSa/SiojvhjOk73F2eO/7qZ9wAYgET8D6i++puTlv5GqgT+HDGO/m1nwvbllmL3mhGk/+rX0PtghNL/M20bAEVqCvxf3MD36sgM+HkhLProFMEAev/q+B/5ywNPIE78gt0C/xHQuQBUHhj/4qGU/kgoeP63PnT5U4wO/Ds6iPZ/LoT8AzUI+K/TGvzSnKL5PHKc/NHOBP2lk7L/J3v6/5ZMNv+XQAUC1hrM/NkQlPhcDxL/PsT6/d8+WP1Zh7L7Q2rA+czxHvrqPB79U8eG/uGYxv1mi+b+nagRA32tNv++x172k0U2/L/YWvrcKNr8VAPc/GpPnvZbDWUCIMLs9ahiRv/bMtD9ALME+p+IwvtYaHEDjokc9RbGGP8OCF7+WeYK/9ZBvv6fXHkCmwbi+cXxbQOQnFUAE2EO/sldNP3XUwj5MkaU/aOAhQJCZ0L5Buve/N54iv6cxuD+kMwK/PQkwQP0klL9YaI0+q4A7v0qpmz+nHtI/VUnEvwpAcj+MniO/JpYAQNGHMT/VfcQ/fnMkQJg99b+qg4e+9EMTP1zq7D5GN6o+2BAsQBzVxT96dHM/N0cDv1W79L71/S5AlqmqPg==",
          "dtype": "f4"
         },
         "xaxis": "x",
         "y": {
          "bdata": "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",
          "dtype": "f4"
         },
         "yaxis": "y"
        },
        {
         "hovertemplate": "color=Sports<br>x=%{x}<br>y=%{y}<extra></extra>",
         "legendgroup": "Sports",
         "marker": {
          "color": "#EF553B",
          "symbol": "circle"
         },
         "mode": "markers",
         "name": "Sports",
         "showlegend": true,
         "type": "scattergl",
         "x": {
          "bdata": "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",
          "dtype": "f4"
         },
         "xaxis": "x",
         "y": {
          "bdata": "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",
          "dtype": "f4"
         },
         "yaxis": "y"
        },
        {
         "hovertemplate": "color=Business<br>x=%{x}<br>y=%{y}<extra></extra>",
         "legendgroup": "Business",
         "marker": {
          "color": "#00cc96",
          "symbol": "circle"
         },
         "mode": "markers",
         "name": "Business",
         "showlegend": true,
         "type": "scattergl",
         "x": {
          "bdata": "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",
          "dtype": "f4"
         },
         "xaxis": "x",
         "y": {
          "bdata": "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",
          "dtype": "f4"
         },
         "yaxis": "y"
        },
        {
         "hovertemplate": "color=Sci/Tech<br>x=%{x}<br>y=%{y}<extra></extra>",
         "legendgroup": "Sci/Tech",
         "marker": {
          "color": "#ab63fa",
          "symbol": "circle"
         },
         "mode": "markers",
         "name": "Sci/Tech",
         "showlegend": true,
         "type": "scattergl",
         "x": {
          "bdata": "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",
          "dtype": "f4"
         },
         "xaxis": "x",
         "y": {
          "bdata": "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",
          "dtype": "f4"
         },
         "yaxis": "y"
        }
       ],
       "layout": {
        "legend": {
         "title": {
          "text": "color"
         },
         "tracegroupgap": 0
        },
        "template": {
         "data": {
          "bar": [
           {
            "error_x": {
             "color": "#2a3f5f"
            },
            "error_y": {
             "color": "#2a3f5f"
            },
            "marker": {
             "line": {
              "color": "#E5ECF6",
              "width": 0.5
             },
             "pattern": {
              "fillmode": "overlay",
              "size": 10,
              "solidity": 0.2
             }
            },
            "type": "bar"
           }
          ],
          "barpolar": [
           {
            "marker": {
             "line": {
              "color": "#E5ECF6",
              "width": 0.5
             },
             "pattern": {
              "fillmode": "overlay",
              "size": 10,
              "solidity": 0.2
             }
            },
            "type": "barpolar"
           }
          ],
          "carpet": [
           {
            "aaxis": {
             "endlinecolor": "#2a3f5f",
             "gridcolor": "white",
             "linecolor": "white",
             "minorgridcolor": "white",
             "startlinecolor": "#2a3f5f"
            },
            "baxis": {
             "endlinecolor": "#2a3f5f",
             "gridcolor": "white",
             "linecolor": "white",
             "minorgridcolor": "white",
             "startlinecolor": "#2a3f5f"
            },
            "type": "carpet"
           }
          ],
          "choropleth": [
           {
            "colorbar": {
             "outlinewidth": 0,
             "ticks": ""
            },
            "type": "choropleth"
           }
          ],
          "contour": [
           {
            "colorbar": {
             "outlinewidth": 0,
             "ticks": ""
            },
            "colorscale": [
             [
              0,
              "#0d0887"
             ],
             [
              0.1111111111111111,
              "#46039f"
             ],
             [
              0.2222222222222222,
              "#7201a8"
             ],
             [
              0.3333333333333333,
              "#9c179e"
             ],
             [
              0.4444444444444444,
              "#bd3786"
             ],
             [
              0.5555555555555556,
              "#d8576b"
             ],
             [
              0.6666666666666666,
              "#ed7953"
             ],
             [
              0.7777777777777778,
              "#fb9f3a"
             ],
             [
              0.8888888888888888,
              "#fdca26"
             ],
             [
              1,
              "#f0f921"
             ]
            ],
            "type": "contour"
           }
          ],
          "contourcarpet": [
           {
            "colorbar": {
             "outlinewidth": 0,
             "ticks": ""
            },
            "type": "contourcarpet"
           }
          ],
          "heatmap": [
           {
            "colorbar": {
             "outlinewidth": 0,
             "ticks": ""
            },
            "colorscale": [
             [
              0,
              "#0d0887"
             ],
             [
              0.1111111111111111,
              "#46039f"
             ],
             [
              0.2222222222222222,
              "#7201a8"
             ],
             [
              0.3333333333333333,
              "#9c179e"
             ],
             [
              0.4444444444444444,
              "#bd3786"
             ],
             [
              0.5555555555555556,
              "#d8576b"
             ],
             [
              0.6666666666666666,
              "#ed7953"
             ],
             [
              0.7777777777777778,
              "#fb9f3a"
             ],
             [
              0.8888888888888888,
              "#fdca26"
             ],
             [
              1,
              "#f0f921"
             ]
            ],
            "type": "heatmap"
           }
          ],
          "histogram": [
           {
            "marker": {
             "pattern": {
              "fillmode": "overlay",
              "size": 10,
              "solidity": 0.2
             }
            },
            "type": "histogram"
           }
          ],
          "histogram2d": [
           {
            "colorbar": {
             "outlinewidth": 0,
             "ticks": ""
            },
            "colorscale": [
             [
              0,
              "#0d0887"
             ],
             [
              0.1111111111111111,
              "#46039f"
             ],
             [
              0.2222222222222222,
              "#7201a8"
             ],
             [
              0.3333333333333333,
              "#9c179e"
             ],
             [
              0.4444444444444444,
              "#bd3786"
             ],
             [
              0.5555555555555556,
              "#d8576b"
             ],
             [
              0.6666666666666666,
              "#ed7953"
             ],
             [
              0.7777777777777778,
              "#fb9f3a"
             ],
             [
              0.8888888888888888,
              "#fdca26"
             ],
             [
              1,
              "#f0f921"
             ]
            ],
            "type": "histogram2d"
           }
          ],
          "histogram2dcontour": [
           {
            "colorbar": {
             "outlinewidth": 0,
             "ticks": ""
            },
            "colorscale": [
             [
              0,
              "#0d0887"
             ],
             [
              0.1111111111111111,
              "#46039f"
             ],
             [
              0.2222222222222222,
              "#7201a8"
             ],
             [
              0.3333333333333333,
              "#9c179e"
             ],
             [
              0.4444444444444444,
              "#bd3786"
             ],
             [
              0.5555555555555556,
              "#d8576b"
             ],
             [
              0.6666666666666666,
              "#ed7953"
             ],
             [
              0.7777777777777778,
              "#fb9f3a"
             ],
             [
              0.8888888888888888,
              "#fdca26"
             ],
             [
              1,
              "#f0f921"
             ]
            ],
            "type": "histogram2dcontour"
           }
          ],
          "mesh3d": [
           {
            "colorbar": {
             "outlinewidth": 0,
             "ticks": ""
            },
            "type": "mesh3d"
           }
          ],
          "parcoords": [
           {
            "line": {
             "colorbar": {
              "outlinewidth": 0,
              "ticks": ""
             }
            },
            "type": "parcoords"
           }
          ],
          "pie": [
           {
            "automargin": true,
            "type": "pie"
           }
          ],
          "scatter": [
           {
            "fillpattern": {
             "fillmode": "overlay",
             "size": 10,
             "solidity": 0.2
            },
            "type": "scatter"
           }
          ],
          "scatter3d": [
           {
            "line": {
             "colorbar": {
              "outlinewidth": 0,
              "ticks": ""
             }
            },
            "marker": {
             "colorbar": {
              "outlinewidth": 0,
              "ticks": ""
             }
            },
            "type": "scatter3d"
           }
          ],
          "scattercarpet": [
           {
            "marker": {
             "colorbar": {
              "outlinewidth": 0,
              "ticks": ""
             }
            },
            "type": "scattercarpet"
           }
          ],
          "scattergeo": [
           {
            "marker": {
             "colorbar": {
              "outlinewidth": 0,
              "ticks": ""
             }
            },
            "type": "scattergeo"
           }
          ],
          "scattergl": [
           {
            "marker": {
             "colorbar": {
              "outlinewidth": 0,
              "ticks": ""
             }
            },
            "type": "scattergl"
           }
          ],
          "scattermap": [
           {
            "marker": {
             "colorbar": {
              "outlinewidth": 0,
              "ticks": ""
             }
            },
            "type": "scattermap"
           }
          ],
          "scattermapbox": [
           {
            "marker": {
             "colorbar": {
              "outlinewidth": 0,
              "ticks": ""
             }
            },
            "type": "scattermapbox"
           }
          ],
          "scatterpolar": [
           {
            "marker": {
             "colorbar": {
              "outlinewidth": 0,
              "ticks": ""
             }
            },
            "type": "scatterpolar"
           }
          ],
          "scatterpolargl": [
           {
            "marker": {
             "colorbar": {
              "outlinewidth": 0,
              "ticks": ""
             }
            },
            "type": "scatterpolargl"
           }
          ],
          "scatterternary": [
           {
            "marker": {
             "colorbar": {
              "outlinewidth": 0,
              "ticks": ""
             }
            },
            "type": "scatterternary"
           }
          ],
          "surface": [
           {
            "colorbar": {
             "outlinewidth": 0,
             "ticks": ""
            },
            "colorscale": [
             [
              0,
              "#0d0887"
             ],
             [
              0.1111111111111111,
              "#46039f"
             ],
             [
              0.2222222222222222,
              "#7201a8"
             ],
             [
              0.3333333333333333,
              "#9c179e"
             ],
             [
              0.4444444444444444,
              "#bd3786"
             ],
             [
              0.5555555555555556,
              "#d8576b"
             ],
             [
              0.6666666666666666,
              "#ed7953"
             ],
             [
              0.7777777777777778,
              "#fb9f3a"
             ],
             [
              0.8888888888888888,
              "#fdca26"
             ],
             [
              1,
              "#f0f921"
             ]
            ],
            "type": "surface"
           }
          ],
          "table": [
           {
            "cells": {
             "fill": {
              "color": "#EBF0F8"
             },
             "line": {
              "color": "white"
             }
            },
            "header": {
             "fill": {
              "color": "#C8D4E3"
             },
             "line": {
              "color": "white"
             }
            },
            "type": "table"
           }
          ]
         },
         "layout": {
          "annotationdefaults": {
           "arrowcolor": "#2a3f5f",
           "arrowhead": 0,
           "arrowwidth": 1
          },
          "autotypenumbers": "strict",
          "coloraxis": {
           "colorbar": {
            "outlinewidth": 0,
            "ticks": ""
           }
          },
          "colorscale": {
           "diverging": [
            [
             0,
             "#8e0152"
            ],
            [
             0.1,
             "#c51b7d"
            ],
            [
             0.2,
             "#de77ae"
            ],
            [
             0.3,
             "#f1b6da"
            ],
            [
             0.4,
             "#fde0ef"
            ],
            [
             0.5,
             "#f7f7f7"
            ],
            [
             0.6,
             "#e6f5d0"
            ],
            [
             0.7,
             "#b8e186"
            ],
            [
             0.8,
             "#7fbc41"
            ],
            [
             0.9,
             "#4d9221"
            ],
            [
             1,
             "#276419"
            ]
           ],
           "sequential": [
            [
             0,
             "#0d0887"
            ],
            [
             0.1111111111111111,
             "#46039f"
            ],
            [
             0.2222222222222222,
             "#7201a8"
            ],
            [
             0.3333333333333333,
             "#9c179e"
            ],
            [
             0.4444444444444444,
             "#bd3786"
            ],
            [
             0.5555555555555556,
             "#d8576b"
            ],
            [
             0.6666666666666666,
             "#ed7953"
            ],
            [
             0.7777777777777778,
             "#fb9f3a"
            ],
            [
             0.8888888888888888,
             "#fdca26"
            ],
            [
             1,
             "#f0f921"
            ]
           ],
           "sequentialminus": [
            [
             0,
             "#0d0887"
            ],
            [
             0.1111111111111111,
             "#46039f"
            ],
            [
             0.2222222222222222,
             "#7201a8"
            ],
            [
             0.3333333333333333,
             "#9c179e"
            ],
            [
             0.4444444444444444,
             "#bd3786"
            ],
            [
             0.5555555555555556,
             "#d8576b"
            ],
            [
             0.6666666666666666,
             "#ed7953"
            ],
            [
             0.7777777777777778,
             "#fb9f3a"
            ],
            [
             0.8888888888888888,
             "#fdca26"
            ],
            [
             1,
             "#f0f921"
            ]
           ]
          },
          "colorway": [
           "#636efa",
           "#EF553B",
           "#00cc96",
           "#ab63fa",
           "#FFA15A",
           "#19d3f3",
           "#FF6692",
           "#B6E880",
           "#FF97FF",
           "#FECB52"
          ],
          "font": {
           "color": "#2a3f5f"
          },
          "geo": {
           "bgcolor": "white",
           "lakecolor": "white",
           "landcolor": "#E5ECF6",
           "showlakes": true,
           "showland": true,
           "subunitcolor": "white"
          },
          "hoverlabel": {
           "align": "left"
          },
          "hovermode": "closest",
          "mapbox": {
           "style": "light"
          },
          "paper_bgcolor": "white",
          "plot_bgcolor": "#E5ECF6",
          "polar": {
           "angularaxis": {
            "gridcolor": "white",
            "linecolor": "white",
            "ticks": ""
           },
           "bgcolor": "#E5ECF6",
           "radialaxis": {
            "gridcolor": "white",
            "linecolor": "white",
            "ticks": ""
           }
          },
          "scene": {
           "xaxis": {
            "backgroundcolor": "#E5ECF6",
            "gridcolor": "white",
            "gridwidth": 2,
            "linecolor": "white",
            "showbackground": true,
            "ticks": "",
            "zerolinecolor": "white"
           },
           "yaxis": {
            "backgroundcolor": "#E5ECF6",
            "gridcolor": "white",
            "gridwidth": 2,
            "linecolor": "white",
            "showbackground": true,
            "ticks": "",
            "zerolinecolor": "white"
           },
           "zaxis": {
            "backgroundcolor": "#E5ECF6",
            "gridcolor": "white",
            "gridwidth": 2,
            "linecolor": "white",
            "showbackground": true,
            "ticks": "",
            "zerolinecolor": "white"
           }
          },
          "shapedefaults": {
           "line": {
            "color": "#2a3f5f"
           }
          },
          "ternary": {
           "aaxis": {
            "gridcolor": "white",
            "linecolor": "white",
            "ticks": ""
           },
           "baxis": {
            "gridcolor": "white",
            "linecolor": "white",
            "ticks": ""
           },
           "bgcolor": "#E5ECF6",
           "caxis": {
            "gridcolor": "white",
            "linecolor": "white",
            "ticks": ""
           }
          },
          "title": {
           "x": 0.05
          },
          "xaxis": {
           "automargin": true,
           "gridcolor": "white",
           "linecolor": "white",
           "ticks": "",
           "title": {
            "standoff": 15
           },
           "zerolinecolor": "white",
           "zerolinewidth": 2
          },
          "yaxis": {
           "automargin": true,
           "gridcolor": "white",
           "linecolor": "white",
           "ticks": "",
           "title": {
            "standoff": 15
           },
           "zerolinecolor": "white",
           "zerolinewidth": 2
          }
         }
        },
        "title": {
         "text": "TF-IDF UMAP"
        },
        "xaxis": {
         "anchor": "y",
         "domain": [
          0,
          1
         ],
         "title": {
          "text": "x"
         }
        },
        "yaxis": {
         "anchor": "x",
         "domain": [
          0,
          1
         ],
         "title": {
          "text": "y"
         }
        }
       }
      }
     },
     "metadata": {},
     "output_type": "display_data"
    },
    {
     "data": {
      "application/vnd.plotly.v1+json": {
       "config": {
        "plotlyServerURL": "https://plot.ly"
       },
       "data": [
        {
         "hovertemplate": "color=World<br>x=%{x}<br>y=%{y}<extra></extra>",
         "legendgroup": "World",
         "marker": {
          "color": "#636efa",
          "symbol": "circle"
         },
         "mode": "markers",
         "name": "World",
         "showlegend": true,
         "type": "scattergl",
         "x": {
          "bdata": "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",
          "dtype": "f4"
         },
         "xaxis": "x",
         "y": {
          "bdata": "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",
          "dtype": "f4"
         },
         "yaxis": "y"
        },
        {
         "hovertemplate": "color=Sports<br>x=%{x}<br>y=%{y}<extra></extra>",
         "legendgroup": "Sports",
         "marker": {
          "color": "#EF553B",
          "symbol": "circle"
         },
         "mode": "markers",
         "name": "Sports",
         "showlegend": true,
         "type": "scattergl",
         "x": {
          "bdata": "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",
          "dtype": "f4"
         },
         "xaxis": "x",
         "y": {
          "bdata": "49DkQISAqEAg3ApBT6kMQX240UDz9AhB4tXcQGClqEAosgxBfJXnQCc8CEC44e5AUw7lQDpOCUFirstApYL5QMQYzkBdTvNADlDjQPCf+0DAHv5APxgTQYOgCEGoN8dAyiGjQI1B4UAsFadATZILQb72s0AS9QdB1d2aQM0OB0FwhQlB8MDdQPWd5EDXH+FArNK3QDA740Asd/NAclURQTmo/UAqWMRAxor+QBBC4kDvsQhBmI39QDjF3EARaqdAZkOvQLtIzECgRuFA6zUMQc1rEUHT095AbRPkQIS8rkDMBoBAYrfFQDwcBUG7T95AHx0PQbZyzUDG2gBBjmjpQBbms0BXQ99Ald8HQYddCUELVORAloLdQKxUtED21MZAI/qnQEPkuUBBHAlBwPHBQO+GsUCpVPdAQG/QQKye4UBOe8tABrPfQFWV3UDAwAtBMi64QOrI4UDRNQdB36W5QDWK3kD9wA9BhyATQegiDEHq0ttA7GyuQINTE0GG9QxBZ6ikQFJp3UD0p+pAw2vqQPLcrUDiVfJAO6HAQNpd/0AzDwlBiL3lQCJj90BTMM5A9Ie+QKVjs0ATRcVAun/iQN2Im0BM5+5ABPwMQBDT4EBUpfhATpS6QGEwvUA+8w1BvTniQK7TzEB9VuZA0grMQFXnDkFlmtFAT1z0QPptv0C+aaVAwrUQQfnD8kD4N+hAxC7sQCCKy0DN4QJBiukBQaet4kCWs8BAPf/rQCjJ20ACkL5ApFHqQC1dB0HwiclA3i6rQNct50AKKgJBBfjxQEzPAUHdEtJAXKqyQOwE8kD+reBAkCTBQPgxwECftA9BUnTsQJAtCkF6JA9BxLbRQOdtpED2p+1AHcPoQIRs1kB/ob9ACVvwQKRaEkG8YtxAR5UAQa0mzUAU1qhAYqQIQbMd50AxcPxAmN0NQSGlo0CSN+RAbFf5QHLVA0GYmg5BW3TmQIOoBUFApwtBmc3kQDyB8EDCh8pAQoDeQGnV5kAUjAJBhBK+QDNwB0F5KuVA47v8QPE040ARSflAcifjQNEw8EA9xrpAukWuQB0QskBbILhAbq+yQBVCA0E018hAPKfqQHu2q0Bk1wNBVtvyQDUe6UCnfqBAKQKoQPMOC0FN6QdBZiXgQPdqnUBm9PVAWWG+QCtyr0CewwxBf4oOQXhs0UBTIuVAIxu7QEYR8kDcgQ9Bp4DkQHDn8kDylgxBNYwMQfWop0C/QrRAb0uaQDWH/kBvcORAm78NQSU8DUHrbsZAVYLpQJ2mxkDDi6JAdjDPQB6nzkAu9O9AOTr/QOH39UBnu/dARiECQQx+E0G3lA9BZKfoQIP1C0E6iOhAK/oNQfHo0kDXN5tAskQQQUvSp0AyFORAMNnfQGNj20BZjw5B5xALQdEe4UA7ieJAoHzgQAcb4UBKTrNA1kfNQNG6ukDwiqxAmy2pQMbI40Dvv9tAQ/H2QKFumkDkMwZBvpATQVhx50DzTg1B+Q6iQPQS+UCcZOFAqDqoQLsoqkCIA6tA2rMOQVIV5kB+mvxADE+7QNZy5EAx0+xAhIb1QAevDUG9I91AoGIDQeCP3UAkJLVAwCzJQH7CAUErj+NAoMiFQPNOoUCEeOFAsXXiQJpB4EB8osRAB8bpQKlt7UB+PKJAL066QJgkB0H7QgdBeUWdQA9P+kCzodNAhoz0QMX6CUHTg99AOHjnQGBF3UC8lw9BX10AQWhvwEDzrL9AAjWjQC3wBkHSf8pAy1HQQLG6vUBM7MxA8QCbQJ+v4EBWVKZAzgASQW2i4kBd9+VA2eICQWj/4kAWGMFAWdsJQYmj7EAbTdJAqZ8CQelk5EBt7MlAPMMAQeTrpkCMTQ1Bw5fkQHhO1kDXiQFBQLHqQJXYCkHKKb1AZ+OwQNdDD0HMaa1AtHzFQMRHnEA8PQ9BfDXfQEOr80C3+fVABsTeQF8aC0HHMOFABdEQQfAn5kDkgBJBbdf5QMWUCEEuZuBAU47MQF6M4ECUeeZAjznsQD2Y1UCaWOFAsS0FQcDN90DdMMNAiUvLQArL1kBv5aZA6sS+QOygrkDpg+VApbvOQPuk40CWafZA9ygGQQcV5UC3+b1AVha5QLl9B0Gi9PZA76jMQA/+D0EAjwZBE7kKQRT4qUAYndxAyTOoQKet9EDWdQtBfd3kQD/VmkCll+VAWgGkQCS35EBNfOpAteyiQMsHAkHt8wBBVMH1QDux5EDvAhNBumnWQPqu40CCwPFAa1sOQeE9q0CneNxAYnwTQRn3mUAZMgVBaE+bQN13mkDPu/NAc8oCQcbQA0F+n8hApzO5QF5m3kDggOZAhuqbQMWyAEHaxgBByhijQCkc5EDutwZBCIHxQLoi9EDjs/lAYDT7QCrWzkC6YuNAaRgKQTITzUBelaxAn1/RQHFs4ECNdQ9BUC6rQLhJ/0Cl2N9ApYUFQZu460Bhu+JAMy4TQSN1nkCKZftAHELgQFatoUCGLwhBY2KmQEWC8EAb4eZAFuDPQArnDEFlwOZA9Hq8QGEr+kA/o99AQ3wBQf924UD9CwVB5x/LQA773UCFauNAxSbiQEblrkDJwu1AG974QCz+wkDXI9FAlp4QQfz61UD7l/lA0rXcQCxyAUEPCOVABJkAQchb20BYR+NAsj3cQMKKCEHfFs9AsTYAQX2I0kCPe+RANgDUQAzk4kDlwOFAYG8KQeb6pkAhN8FAIDXzQBjOvUA4nJlA3EzdQFCc3kAGjP9AwrLdQMPW0UAjarNAvc0TQQ9n2UChA9xApfbfQMCj40DfZcVAuWf7QEvr0EBZOqZAtvDgQJ8zwUAnrvhAXNP1QP4t7kC6H+5ACc0QQdTX+UAMZABB+MGmQOzh5UDfwelA9L7hQPlJx0AD+eRAHH/MQOKbmkDE7shAe4/bQIXVCkGInaRAD5OoQGpH5EBAk/NAnSwAQX87pkAmq/9AsRXgQI4P4kCJNgNBO4cMQcr93EBn5blAnzwIQRAR3kAq5+FAgon6QMY5vUAqvq1Ahj0CQWn5BEFbEgxBzp4AQZ4PDkHKCsJAA2r8QHxvCkGfVgpBIrefQBbnwUB/3/5A9Z+nQGs5CkHNxwpBe+bjQGSX3UBI0QlBmmUPQUetD0EJNchABAbjQEwD3UB+Qv1Au7kEQaXLBEGepQpBF2nmQJhq0UAVW89A/oK+QOthrUCiqA9Bk5YKQYes70Ay9Z9AlYIBQdsHw0BafepA8+CyQE4eDkEOegFBcGbhQKykD0FT9+BAGkipQEGQnUBUsPpAdfqhQL9QCkGbKwBBhWbtQAP1qEBiWhBB0cPCQD83r0AU44JAZD0IQUhW40Ae7qNAyfHsQEQuEUELJQpBMTgTQQBT+kCgPAVBfnHdQOLi90DWxAdB1kb3QI3mDUEhA55AzbShQOaE+UDs7MxAwfHnQP4B10ANgeNAZhgCQQZSD0E3KgxBYEz1QEcGo0ACk5tAXzzfQAoU3kBFNvxAmbvkQHx1wEBBuAhB85LhQEoZl0DBFMJA4XHoQI+M1EA0agFBTAPJQJt3D0FlRt1AL0bwQPl/u0ALSw5B0t37QK2As0BgnvxAbrn3QHgo+0Aj7qFAd/zLQN83DUHd9rZAuTvZQKjFz0BQSA1B4OsAQei07EB3L+tATubZQLXp/kDRMQNB8y/wQHex60DPce9AzOzWQPvLxUCeHd9Ac3O/QPRr3EC2J7NAyGXcQBog9EBZ86tAmgCmQG/x5kCpwLxANbupQNvN70DfMwFBPmL2QDAI/EBK1rdA/G0GQRkS40Aoh8xADeXoQGpG+0Bp0flA2XgBQaoTrUA4RLNAjaIGQQMa9UBljOFAkN2lQKQp4ECkradA6jacQA04z0A30t1Act/fQMxhEEH9Wr1A8JThQGD8AEF5ANxA06qkQMCDoEAwXd5AUg0MQbB6qUAn+A5B4gaeQHCUD0FpI+RAs/jsQDQ4BEGcv6pAdMQCQe5R4kBPneNAIH6gQG2t0EBAZqhA+vO/QJKb5kAQygRBQCQBQZwJ5UBJDddAFAcBQZYc2EBTpf1ABEzvQBXRBkGY8gRBLSEBQZRD/ECGGc5AImruQES85UAv2b5An0TAQCqpAUGMbeRAuIeaQFX7C0ExNLpAYNrhQPpoCUFci+ZAjEncQAzf20CIYgBBObjJQDfbqkC46dFA2d65QGmHE0GQCxJBoMXgQOzxEEHy3+BAgk2lQEtQqkAxLflAb+bgQHRjEEEdkt5AFDbOQPafoUC8cRNB/PQOQYOQ8UCVMhNBfG53QAzYzUA5kqVAPMXPQHfJDUHRFhBBkxYEQZM4sEAOL91ArGYCQdHw6ED7/gVBQa6gQBot00AqxPVANxwKQYrgs0ACtqdAGYm5QO2H40B4FeNAEAbpQC4sEUFMK+FAgb4PQbSx9EAubqxAKjQJQWgtDUGRRQZBPfkGQYDSAUHjGaJA0AAJQciCmUD2LdJABwT/QB/WEEEZ2QZB7mUDQdZK9UBon+RABGoTQc2Y90B3Je9At0rkQHIsA0G3ffBA4a7fQH76EEFK5gJBnsrFQDEA7UAVCPxAsErbQIyYm0DjhgNBFr4SQfrkrEBH8f5Akia8QAzYtEDBVMBAt8moQJGOyEAg2K9AU/j0QNpbrEA4lOFACfwAQVr7qkBIOgFBKWziQEPp70Cb19pAauq+QLCz30BdxN5AmFCoQA11uUBJ+dhAm8/eQKgiwUA/E+FAuNSnQK6wD0FYkqVAEKzQQLPuvkBJP89AG2HTQIXh9kBcLwBBBccEQag65UB6395AFEgEQZKW/UBIqghBVynOQGEa/UBv48ZAvJTEQCcl30Chws1AjJ/LQJ3z+kC1M/RA1KDnQDYCE0FQK7dAibi/QIABAEG+XrpAaj4DQV1OyEDpeeNAoTEBQcuj3kA++AJBngTlQHYH/0BQ4P5A5wjtQF/Z2kCtkAFBzCrlQCi4BkHinQFBqj7jQEDSC0HJPQtBRq8OQWzpD0FtgcNA3EENQdRsz0DqsvlAuzrhQJmdu0AFq/NAsx+8QCUa3UAsFaRAAtQKQTfawkDJmMRApLDEQBuF4EB7phBBZPn5QCfjv0AnPOdAvtbVQLOe+UC5v91AONP3QOEpDUFZmrxAeFPkQI2gqUCbBwFB187lQIU76kA/jN1AaDH+QBV/mEB0o+hAu5vjQGMfE0FxpwNBttPjQCqFp0CeqP1A2/jAQK94AUELHQ9BOLX9QPmr3EDLVwBBAhDrQHiQ5EB4HtpA2pOiQGpM5kB1vcFAhNQBQfzJtUB6tKFA6IgKQa/gnkC5EvdA0iPkQJACmUBpuadAWl3tQCbt30B2xQlB107KQEL31UDnWeNADN+nQA==",
          "dtype": "f4"
         },
         "yaxis": "y"
        },
        {
         "hovertemplate": "color=Business<br>x=%{x}<br>y=%{y}<extra></extra>",
         "legendgroup": "Business",
         "marker": {
          "color": "#00cc96",
          "symbol": "circle"
         },
         "mode": "markers",
         "name": "Business",
         "showlegend": true,
         "type": "scattergl",
         "x": {
          "bdata": "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",
          "dtype": "f4"
         },
         "xaxis": "x",
         "y": {
          "bdata": "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",
          "dtype": "f4"
         },
         "yaxis": "y"
        },
        {
         "hovertemplate": "color=Sci/Tech<br>x=%{x}<br>y=%{y}<extra></extra>",
         "legendgroup": "Sci/Tech",
         "marker": {
          "color": "#ab63fa",
          "symbol": "circle"
         },
         "mode": "markers",
         "name": "Sci/Tech",
         "showlegend": true,
         "type": "scattergl",
         "x": {
          "bdata": "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",
          "dtype": "f4"
         },
         "xaxis": "x",
         "y": {
          "bdata": "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",
          "dtype": "f4"
         },
         "yaxis": "y"
        }
       ],
       "layout": {
        "legend": {
         "title": {
          "text": "color"
         },
         "tracegroupgap": 0
        },
        "template": {
         "data": {
          "bar": [
           {
            "error_x": {
             "color": "#2a3f5f"
            },
            "error_y": {
             "color": "#2a3f5f"
            },
            "marker": {
             "line": {
              "color": "#E5ECF6",
              "width": 0.5
             },
             "pattern": {
              "fillmode": "overlay",
              "size": 10,
              "solidity": 0.2
             }
            },
            "type": "bar"
           }
          ],
          "barpolar": [
           {
            "marker": {
             "line": {
              "color": "#E5ECF6",
              "width": 0.5
             },
             "pattern": {
              "fillmode": "overlay",
              "size": 10,
              "solidity": 0.2
             }
            },
            "type": "barpolar"
           }
          ],
          "carpet": [
           {
            "aaxis": {
             "endlinecolor": "#2a3f5f",
             "gridcolor": "white",
             "linecolor": "white",
             "minorgridcolor": "white",
             "startlinecolor": "#2a3f5f"
            },
            "baxis": {
             "endlinecolor": "#2a3f5f",
             "gridcolor": "white",
             "linecolor": "white",
             "minorgridcolor": "white",
             "startlinecolor": "#2a3f5f"
            },
            "type": "carpet"
           }
          ],
          "choropleth": [
           {
            "colorbar": {
             "outlinewidth": 0,
             "ticks": ""
            },
            "type": "choropleth"
           }
          ],
          "contour": [
           {
            "colorbar": {
             "outlinewidth": 0,
             "ticks": ""
            },
            "colorscale": [
             [
              0,
              "#0d0887"
             ],
             [
              0.1111111111111111,
              "#46039f"
             ],
             [
              0.2222222222222222,
              "#7201a8"
             ],
             [
              0.3333333333333333,
              "#9c179e"
             ],
             [
              0.4444444444444444,
              "#bd3786"
             ],
             [
              0.5555555555555556,
              "#d8576b"
             ],
             [
              0.6666666666666666,
              "#ed7953"
             ],
             [
              0.7777777777777778,
              "#fb9f3a"
             ],
             [
              0.8888888888888888,
              "#fdca26"
             ],
             [
              1,
              "#f0f921"
             ]
            ],
            "type": "contour"
           }
          ],
          "contourcarpet": [
           {
            "colorbar": {
             "outlinewidth": 0,
             "ticks": ""
            },
            "type": "contourcarpet"
           }
          ],
          "heatmap": [
           {
            "colorbar": {
             "outlinewidth": 0,
             "ticks": ""
            },
            "colorscale": [
             [
              0,
              "#0d0887"
             ],
             [
              0.1111111111111111,
              "#46039f"
             ],
             [
              0.2222222222222222,
              "#7201a8"
             ],
             [
              0.3333333333333333,
              "#9c179e"
             ],
             [
              0.4444444444444444,
              "#bd3786"
             ],
             [
              0.5555555555555556,
              "#d8576b"
             ],
             [
              0.6666666666666666,
              "#ed7953"
             ],
             [
              0.7777777777777778,
              "#fb9f3a"
             ],
             [
              0.8888888888888888,
              "#fdca26"
             ],
             [
              1,
              "#f0f921"
             ]
            ],
            "type": "heatmap"
           }
          ],
          "histogram": [
           {
            "marker": {
             "pattern": {
              "fillmode": "overlay",
              "size": 10,
              "solidity": 0.2
             }
            },
            "type": "histogram"
           }
          ],
          "histogram2d": [
           {
            "colorbar": {
             "outlinewidth": 0,
             "ticks": ""
            },
            "colorscale": [
             [
              0,
              "#0d0887"
             ],
             [
              0.1111111111111111,
              "#46039f"
             ],
             [
              0.2222222222222222,
              "#7201a8"
             ],
             [
              0.3333333333333333,
              "#9c179e"
             ],
             [
              0.4444444444444444,
              "#bd3786"
             ],
             [
              0.5555555555555556,
              "#d8576b"
             ],
             [
              0.6666666666666666,
              "#ed7953"
             ],
             [
              0.7777777777777778,
              "#fb9f3a"
             ],
             [
              0.8888888888888888,
              "#fdca26"
             ],
             [
              1,
              "#f0f921"
             ]
            ],
            "type": "histogram2d"
           }
          ],
          "histogram2dcontour": [
           {
            "colorbar": {
             "outlinewidth": 0,
             "ticks": ""
            },
            "colorscale": [
             [
              0,
              "#0d0887"
             ],
             [
              0.1111111111111111,
              "#46039f"
             ],
             [
              0.2222222222222222,
              "#7201a8"
             ],
             [
              0.3333333333333333,
              "#9c179e"
             ],
             [
              0.4444444444444444,
              "#bd3786"
             ],
             [
              0.5555555555555556,
              "#d8576b"
             ],
             [
              0.6666666666666666,
              "#ed7953"
             ],
             [
              0.7777777777777778,
              "#fb9f3a"
             ],
             [
              0.8888888888888888,
              "#fdca26"
             ],
             [
              1,
              "#f0f921"
             ]
            ],
            "type": "histogram2dcontour"
           }
          ],
          "mesh3d": [
           {
            "colorbar": {
             "outlinewidth": 0,
             "ticks": ""
            },
            "type": "mesh3d"
           }
          ],
          "parcoords": [
           {
            "line": {
             "colorbar": {
              "outlinewidth": 0,
              "ticks": ""
             }
            },
            "type": "parcoords"
           }
          ],
          "pie": [
           {
            "automargin": true,
            "type": "pie"
           }
          ],
          "scatter": [
           {
            "fillpattern": {
             "fillmode": "overlay",
             "size": 10,
             "solidity": 0.2
            },
            "type": "scatter"
           }
          ],
          "scatter3d": [
           {
            "line": {
             "colorbar": {
              "outlinewidth": 0,
              "ticks": ""
             }
            },
            "marker": {
             "colorbar": {
              "outlinewidth": 0,
              "ticks": ""
             }
            },
            "type": "scatter3d"
           }
          ],
          "scattercarpet": [
           {
            "marker": {
             "colorbar": {
              "outlinewidth": 0,
              "ticks": ""
             }
            },
            "type": "scattercarpet"
           }
          ],
          "scattergeo": [
           {
            "marker": {
             "colorbar": {
              "outlinewidth": 0,
              "ticks": ""
             }
            },
            "type": "scattergeo"
           }
          ],
          "scattergl": [
           {
            "marker": {
             "colorbar": {
              "outlinewidth": 0,
              "ticks": ""
             }
            },
            "type": "scattergl"
           }
          ],
          "scattermap": [
           {
            "marker": {
             "colorbar": {
              "outlinewidth": 0,
              "ticks": ""
             }
            },
            "type": "scattermap"
           }
          ],
          "scattermapbox": [
           {
            "marker": {
             "colorbar": {
              "outlinewidth": 0,
              "ticks": ""
             }
            },
            "type": "scattermapbox"
           }
          ],
          "scatterpolar": [
           {
            "marker": {
             "colorbar": {
              "outlinewidth": 0,
              "ticks": ""
             }
            },
            "type": "scatterpolar"
           }
          ],
          "scatterpolargl": [
           {
            "marker": {
             "colorbar": {
              "outlinewidth": 0,
              "ticks": ""
             }
            },
            "type": "scatterpolargl"
           }
          ],
          "scatterternary": [
           {
            "marker": {
             "colorbar": {
              "outlinewidth": 0,
              "ticks": ""
             }
            },
            "type": "scatterternary"
           }
          ],
          "surface": [
           {
            "colorbar": {
             "outlinewidth": 0,
             "ticks": ""
            },
            "colorscale": [
             [
              0,
              "#0d0887"
             ],
             [
              0.1111111111111111,
              "#46039f"
             ],
             [
              0.2222222222222222,
              "#7201a8"
             ],
             [
              0.3333333333333333,
              "#9c179e"
             ],
             [
              0.4444444444444444,
              "#bd3786"
             ],
             [
              0.5555555555555556,
              "#d8576b"
             ],
             [
              0.6666666666666666,
              "#ed7953"
             ],
             [
              0.7777777777777778,
              "#fb9f3a"
             ],
             [
              0.8888888888888888,
              "#fdca26"
             ],
             [
              1,
              "#f0f921"
             ]
            ],
            "type": "surface"
           }
          ],
          "table": [
           {
            "cells": {
             "fill": {
              "color": "#EBF0F8"
             },
             "line": {
              "color": "white"
             }
            },
            "header": {
             "fill": {
              "color": "#C8D4E3"
             },
             "line": {
              "color": "white"
             }
            },
            "type": "table"
           }
          ]
         },
         "layout": {
          "annotationdefaults": {
           "arrowcolor": "#2a3f5f",
           "arrowhead": 0,
           "arrowwidth": 1
          },
          "autotypenumbers": "strict",
          "coloraxis": {
           "colorbar": {
            "outlinewidth": 0,
            "ticks": ""
           }
          },
          "colorscale": {
           "diverging": [
            [
             0,
             "#8e0152"
            ],
            [
             0.1,
             "#c51b7d"
            ],
            [
             0.2,
             "#de77ae"
            ],
            [
             0.3,
             "#f1b6da"
            ],
            [
             0.4,
             "#fde0ef"
            ],
            [
             0.5,
             "#f7f7f7"
            ],
            [
             0.6,
             "#e6f5d0"
            ],
            [
             0.7,
             "#b8e186"
            ],
            [
             0.8,
             "#7fbc41"
            ],
            [
             0.9,
             "#4d9221"
            ],
            [
             1,
             "#276419"
            ]
           ],
           "sequential": [
            [
             0,
             "#0d0887"
            ],
            [
             0.1111111111111111,
             "#46039f"
            ],
            [
             0.2222222222222222,
             "#7201a8"
            ],
            [
             0.3333333333333333,
             "#9c179e"
            ],
            [
             0.4444444444444444,
             "#bd3786"
            ],
            [
             0.5555555555555556,
             "#d8576b"
            ],
            [
             0.6666666666666666,
             "#ed7953"
            ],
            [
             0.7777777777777778,
             "#fb9f3a"
            ],
            [
             0.8888888888888888,
             "#fdca26"
            ],
            [
             1,
             "#f0f921"
            ]
           ],
           "sequentialminus": [
            [
             0,
             "#0d0887"
            ],
            [
             0.1111111111111111,
             "#46039f"
            ],
            [
             0.2222222222222222,
             "#7201a8"
            ],
            [
             0.3333333333333333,
             "#9c179e"
            ],
            [
             0.4444444444444444,
             "#bd3786"
            ],
            [
             0.5555555555555556,
             "#d8576b"
            ],
            [
             0.6666666666666666,
             "#ed7953"
            ],
            [
             0.7777777777777778,
             "#fb9f3a"
            ],
            [
             0.8888888888888888,
             "#fdca26"
            ],
            [
             1,
             "#f0f921"
            ]
           ]
          },
          "colorway": [
           "#636efa",
           "#EF553B",
           "#00cc96",
           "#ab63fa",
           "#FFA15A",
           "#19d3f3",
           "#FF6692",
           "#B6E880",
           "#FF97FF",
           "#FECB52"
          ],
          "font": {
           "color": "#2a3f5f"
          },
          "geo": {
           "bgcolor": "white",
           "lakecolor": "white",
           "landcolor": "#E5ECF6",
           "showlakes": true,
           "showland": true,
           "subunitcolor": "white"
          },
          "hoverlabel": {
           "align": "left"
          },
          "hovermode": "closest",
          "mapbox": {
           "style": "light"
          },
          "paper_bgcolor": "white",
          "plot_bgcolor": "#E5ECF6",
          "polar": {
           "angularaxis": {
            "gridcolor": "white",
            "linecolor": "white",
            "ticks": ""
           },
           "bgcolor": "#E5ECF6",
           "radialaxis": {
            "gridcolor": "white",
            "linecolor": "white",
            "ticks": ""
           }
          },
          "scene": {
           "xaxis": {
            "backgroundcolor": "#E5ECF6",
            "gridcolor": "white",
            "gridwidth": 2,
            "linecolor": "white",
            "showbackground": true,
            "ticks": "",
            "zerolinecolor": "white"
           },
           "yaxis": {
            "backgroundcolor": "#E5ECF6",
            "gridcolor": "white",
            "gridwidth": 2,
            "linecolor": "white",
            "showbackground": true,
            "ticks": "",
            "zerolinecolor": "white"
           },
           "zaxis": {
            "backgroundcolor": "#E5ECF6",
            "gridcolor": "white",
            "gridwidth": 2,
            "linecolor": "white",
            "showbackground": true,
            "ticks": "",
            "zerolinecolor": "white"
           }
          },
          "shapedefaults": {
           "line": {
            "color": "#2a3f5f"
           }
          },
          "ternary": {
           "aaxis": {
            "gridcolor": "white",
            "linecolor": "white",
            "ticks": ""
           },
           "baxis": {
            "gridcolor": "white",
            "linecolor": "white",
            "ticks": ""
           },
           "bgcolor": "#E5ECF6",
           "caxis": {
            "gridcolor": "white",
            "linecolor": "white",
            "ticks": ""
           }
          },
          "title": {
           "x": 0.05
          },
          "xaxis": {
           "automargin": true,
           "gridcolor": "white",
           "linecolor": "white",
           "ticks": "",
           "title": {
            "standoff": 15
           },
           "zerolinecolor": "white",
           "zerolinewidth": 2
          },
          "yaxis": {
           "automargin": true,
           "gridcolor": "white",
           "linecolor": "white",
           "ticks": "",
           "title": {
            "standoff": 15
           },
           "zerolinecolor": "white",
           "zerolinewidth": 2
          }
         }
        },
        "title": {
         "text": "SBERT UMAP"
        },
        "xaxis": {
         "anchor": "y",
         "domain": [
          0,
          1
         ],
         "title": {
          "text": "x"
         }
        },
        "yaxis": {
         "anchor": "x",
         "domain": [
          0,
          1
         ],
         "title": {
          "text": "y"
         }
        }
       }
      }
     },
     "metadata": {},
     "output_type": "display_data"
    }
   ],
   "source": [
    "px.scatter(x=X_tfidf_umap[:,0], y=X_tfidf_umap[:,1], color=df_sampled[\"label_name\"], title=\"TF-IDF UMAP\").show()\n",
    "px.scatter(x=X_sbert_umap[:,0], y=X_sbert_umap[:,1], color=df_sampled[\"label_name\"], title=\"SBERT UMAP\").show()"
   ]
  }
 ],
 "metadata": {
  "kernelspec": {
   "display_name": ".venv",
   "language": "python",
   "name": "python3"
  },
  "language_info": {
   "codemirror_mode": {
    "name": "ipython",
    "version": 3
   },
   "file_extension": ".py",
   "mimetype": "text/x-python",
   "name": "python",
   "nbconvert_exporter": "python",
   "pygments_lexer": "ipython3",
   "version": "3.12.3"
  }
 },
 "nbformat": 4,
 "nbformat_minor": 2
}
