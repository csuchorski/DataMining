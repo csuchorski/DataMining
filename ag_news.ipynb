{
 "cells": [
  {
   "cell_type": "code",
   "execution_count": 1,
   "metadata": {},
   "outputs": [],
   "source": [
    "from datasets import load_dataset\n",
    "\n",
    "dataset = load_dataset(\"ag_news\")\n",
    "train_data = dataset['train']\n",
    "\n",
    "import pandas as pd\n",
    "df = pd.DataFrame(train_data)\n"
   ]
  },
  {
   "cell_type": "code",
   "execution_count": 2,
   "metadata": {},
   "outputs": [],
   "source": [
    "# df = df.groupby('label').apply(lambda x: x.sample(1000)).reset_index(drop=True)\n"
   ]
  },
  {
   "cell_type": "code",
   "execution_count": 3,
   "metadata": {},
   "outputs": [],
   "source": [
    "from sklearn.feature_extraction.text import TfidfVectorizer\n",
    "\n",
    "vectorizer = TfidfVectorizer(max_features=1000)\n",
    "X_tfidf = vectorizer.fit_transform(df['text'])\n"
   ]
  },
  {
   "cell_type": "code",
   "execution_count": 4,
   "metadata": {},
   "outputs": [
    {
     "data": {
      "application/vnd.jupyter.widget-view+json": {
       "model_id": "dea89b85cb094e09866f5a248b601a45",
       "version_major": 2,
       "version_minor": 0
      },
      "text/plain": [
       "Batches:   0%|          | 0/3750 [00:00<?, ?it/s]"
      ]
     },
     "metadata": {},
     "output_type": "display_data"
    }
   ],
   "source": [
    "from sentence_transformers import SentenceTransformer\n",
    "\n",
    "model = SentenceTransformer('all-MiniLM-L12-v2')\n",
    "X_sbert = model.encode(df['text'], show_progress_bar=True)\n"
   ]
  },
  {
   "cell_type": "code",
   "execution_count": 6,
   "metadata": {},
   "outputs": [],
   "source": [
    "import numpy as np\n",
    "np.save(\"sbert_embeddings.npy\", X_sbert)"
   ]
  },
  {
   "cell_type": "code",
   "execution_count": 7,
   "metadata": {},
   "outputs": [],
   "source": [
    "df[\"label_name\"] = df[\"label\"].map({\n",
    "    0: \"World\", 1: \"Sports\", 2: \"Business\", 3: \"Sci/Tech\"\n",
    "})\n",
    "\n"
   ]
  },
  {
   "cell_type": "code",
   "execution_count": null,
   "metadata": {},
   "outputs": [],
   "source": [
    "from pathlib import Path\n",
    "\n",
    "import kagglehub\n",
    "import pandas as pd\n",
    "import plotly.express as px\n",
    "import plotly.io as pio\n",
    "import torch\n",
    "from PIL import Image\n",
    "from numpy.typing import NDArray\n",
    "from sklearn import cluster\n",
    "from sklearn.decomposition import PCA\n",
    "from sklearn.manifold import TSNE\n",
    "from sklearn.mixture import GaussianMixture\n",
    "from sklearn.neighbors import NearestNeighbors\n",
    "from tqdm import tqdm\n",
    "from transformers import AutoFeatureExtractor, AutoModel\n",
    "from umap import UMAP\n",
    "from sklearn.metrics.cluster import adjusted_rand_score"
   ]
  },
  {
   "cell_type": "code",
   "execution_count": null,
   "metadata": {},
   "outputs": [],
   "source": [
    "def project_vectors(data: NDArray, technique: str = \"tsne\", **options) -> NDArray:\n",
    "    if technique == \"pca\":\n",
    "        transformer = PCA(**options)\n",
    "    elif technique == \"tsne\":\n",
    "        transformer = TSNE(**options)\n",
    "    elif technique == \"umap\":\n",
    "        transformer = UMAP(**options)\n",
    "    else:\n",
    "        raise ValueError(\n",
    "            f\"Invalid technique: {technique}. Choose from 'pca', 'tsne', or 'umap'.\"\n",
    "        )\n",
    "\n",
    "    transformed_data = transformer.fit_transform(data)\n",
    "    return transformed_data"
   ]
  },
  {
   "cell_type": "code",
   "execution_count": null,
   "metadata": {},
   "outputs": [],
   "source": [
    "def plot_embeddings(embeddings: NDArray,\n",
    "                    clustering_results: NDArray,\n",
    "                    symbol: str = \"class\",\n",
    "                    color: str = \"clustering_results\",\n",
    "                    reduction_techniques: str = \"tsne\",\n",
    "                    classes: list[str] = df[\"label\"],\n",
    "                    text: list[str] = df[\"text\"],\n",
    "                    plot_3d: bool = False):\n",
    "    if embeddings.shape[1] > 2:\n",
    "        reduced_embeddings = project_vectors(embeddings, technique=reduction_techniques,\n",
    "                                             n_components=3 if plot_3d else 2, random_state=6)\n",
    "        print(f\"Reduced embeddings from {embeddings.shape[1]} to {reduced_embeddings.shape[1]}\")\n",
    "    else:\n",
    "        reduced_embeddings = embeddings\n",
    "\n",
    "    df = pd.DataFrame({\n",
    "        \"x\": reduced_embeddings[:, 0],\n",
    "        \"y\": reduced_embeddings[:, 1],\n",
    "        \"class\": classes,\n",
    "        \"text\": list(map(str, text)),\n",
    "        \"clustering_results\": clustering_results\n",
    "    })\n",
    "\n",
    "    if plot_3d:\n",
    "        df[\"z\"] = reduced_embeddings[:, 2]\n",
    "\n",
    "    df = df.astype({\n",
    "        \"class\": \"category\",\n",
    "        \"clustering_results\": \"category\"\n",
    "    })\n",
    "    if plot_3d:\n",
    "        fig = px.scatter_3d(df, x=\"x\", y=\"y\", z=\"z\", color=color, symbol=symbol,\n",
    "                            title=f\"{reduction_techniques} reduction technique. Visualization of Image Embeddings\")\n",
    "    else:\n",
    "        fig = px.scatter(df, x=\"x\", y=\"y\", color=color, symbol=symbol,\n",
    "                         title=f\"{reduction_techniques} reduction technique. Visualization of Image Embeddings\")\n",
    "\n",
    "    fig.update_traces(textfont_size=25, marker=dict(size=3))\n",
    "    fig.update_layout(template=\"plotly\")\n",
    "    fig.show()\n"
   ]
  },
  {
   "cell_type": "code",
   "execution_count": null,
   "metadata": {},
   "outputs": [
    {
     "name": "stdout",
     "output_type": "stream",
     "text": [
      "Reduced embeddings from 1000 to 2\n"
     ]
    },
    {
     "data": {
      "application/vnd.plotly.v1+json": {
       "config": {
        "plotlyServerURL": "https://plot.ly"
       },
       "data": [
        {
         "hovertemplate": "class=0<br>x=%{x}<br>y=%{y}<extra></extra>",
         "legendgroup": "0",
         "marker": {
          "color": "#636efa",
          "size": 3,
          "symbol": "circle"
         },
         "mode": "markers",
         "name": "0",
         "showlegend": true,
         "textfont": {
          "size": 25
         },
         "type": "scattergl",
         "x": {
          "bdata": "2Bsn2kL7pL/E09czGI27v8vohDerk6y/DL16Y2eckr/kdI71CQumv/zbgDg7XrG/O19i4Pxypb9bpCRrwb+8v4RajrNDlZW/P6kCpqHps7869Minrp+ev7YWm3aEy7C/MQtvuGYir78yesg97RytvxQ2z+9jtKy/quL9hZ0ysb8fdIz8Y6KZv2lVLyvzlaS/1iQ4kbezUL+gFt2HX+qXv/G83blK8p4/urGFXGESqj+on1+k/LOmv8QHwMwoA4k/xjCyKbjImb+glIV94QWdvx/E0c7TRaq/Yf2wLnmamr82t0y881qov512ag24Ao8/xOoa96Dxrz9jszkKiZmQPxs4DG6rwKI/R7OTwMjnob+tNueNUVCivxGpA3fSN4O/naOA9NJ8lD+63oqUc4qMv7PODihyPJs/opwi7zK2pz9f1KynVECrv0qC+yZFvHu/OL9IUWJKdL81lsq142d4P1De0SRl3qi/2si6q6f+oD/j0JoP1RGcvx9Vip+RpbK/UzFZWiv3sb/3gC+IDlCvv5EzOyjdGIY/Eyl4Ytsdeb/INhsTKVCIv2viSNlYWXO/fDq58Tn3oj+SwSJWdcvRPx+b7nUgB62/5K3UiBo3nj84tb2Vm8ijvzxGJA468bm/rZoTIcfbk7/nnCC8mVGbvznsK8UiRqI/Ge2n6qYPd78168H+biSwvx8WGQ9zUaG/28nLRffqfL9ffH5PzV6yv5Ttdw8yN6S/7LO29wxefL+YcHBXswuVv/m4Ny+MV7G/8jR+3Au8cT/yYXLGqWCZv7Pwlp1/irG/kt+/eLRilj8HDiFR6e6dP4ppVrgMKpq/wv7+R/n5nD958V4Y0EeQP2UffgjNcKa/U81DSkc1kz/j/NtF+RWRv0/XFQDBLNY/+RGYKID0mL8rjguY3Cmiv5Z2eNgXwHa/Wvr75n37q7+i51bkWSq1v0g9GFE/EZG/RTxOIVtuo7+hfOiWZsGiP1jHuD2tLqq/HQOmkWGRpr/xsSLOG0KSv1Z9bEywtJQ/+RcwAMc+lD9TIXtUBISwv87676ZyzbK/yioaK5Zsub96LbUYZ4OVv2MICKoRw4i/vdT3ofs5sj8ON8j1kONiv04DcvZhhcS/lFjthphImr+AbWfXgDKgP+LnEqan5qe/EQzgbijIrj/V+ETXFye0vzujXdQkd62/UbUtnS44t79ZGaK5DfKQvxrHn2TskIy/5CG3I9PxnL+zE2KZA3eov3+3Ra25Cqe/BKODNNIHrr+r1q8/uOuTvxDniwI6H7G/TQuUYuu7sr/wGoafdY62v6ELceDxYIC/lvWOzy10mr811fGmvvCVv+nEfVOMBZK/nt5rbVVHrr9V1xBGFkuOP0ncIk4k0Ly/gla2avPlmT/+ki69khySv9m5H90G8L6/cBJs5OHamr9mEGsd7g+DvwRUaWLV1ay/CCaTzss2qb+qlXoqWBqdv5dxPZdg0IS/oITnNk5yhr9m2gHEzJSsvy1Wkjb343g/pLlfvMsMsr8NE073Z59xP0JoBQgMyae/qf8bD/lfdL8/qzsnJzrEP8xEww4monw/BTUAFOpbpL9rlfZe/YSjv3CMDSmT1LS/h7/c6ly+jj8ozGhdbf6kv82otSvHf5O/O6f7GHZapD+dDnXitV+bv10X4UqILaq/drLGjjOMqb/Z5vmJOfVrvyiggPD+o6K/f0b2llVglj8R1VDmPLShv3hDYE+RSq6/XvQwDclVsL/h7e1aOQ68vwHo+GaqNK6/DS6hJgK7tr+5ietazu7WPwMGWYI0xZ+//7bIixhTor/FWZ3vdJ9gv6pLH3g29qG/u7Cs7r0yur+SA9VG6lC4v+x7CuOPIry/koiC/fOG0T90q6uHtfSpv2XnKN7Mw5a/NZI1asjrgr/n9LJ6z/mVP3ecWjHaLZK/7zA3a3Lkvb+PLiI2wh+SPxBki5uRjqG/dLgHyVe/mr9FDPLFCayEvx3HNv/OpnW/dJ2vf9qik78UTmgAc/Bxv7tdIo+2Gpm/kZMPEOwJdr8bzFaeTdWwPwl2y2+FeY0/EwE0TlSvqr905HryijSBv72tCjL5MZa/uC4BhPDAk79nT90jhRyGv9c9YV4Hy1w/tEJDWZqRob8VzRpJkLaSP3q0NGyHhYK/qtJwsaWKaz8xkK9CneOjv6RMIvRXXaq/P3uIxtWktL9mhkyj842Wv0d4a1kzaKo/6rnPdUyRq78Dh1wyMG6kv1m3y3jYtLa/3TitFueSAr9k6cOwn0q0vxFjoZEaHqa/+fXt3PVkiT/wrmkQgdqyvzpOn7yEx5I/m7oNQ1lFrL8V/LiZfu1wv2M62kuKPpC/QCk+kGm8kD9WVrrJ4j5vPySwK+ofo6Y/79U5fwzpor+WPnFXmwWUv3eo5qg0Aq6/VqjYw/RecL8roQ2Xzp2cP6V1i+SWTJ0/juAFbUlFvL9tecSbnY2lv1BN2E3JULC/f+BuwndKlL9gUfIrVmKBv7Ru58Qy46O/RwLtEpEM2z81JoD4VAGav4Vvp3CaC6G/V/j+9cyQiL/Atn7WsCaVv+pJ+TwusJK/9s3oJhuQkb9KTKeETsrRP756b+S53qK/joeRf8whs7/muFh1oZunv1/uJh1FW4C/8/THt1GcnL/atrxp/gSiP8Zh04bymYu/lFfAAySPkr/F0kgsLXCiv8UUVqoUrX6/l6H7fwFfaL8Kw0c+iMC1v6JcG5Qtpms/K2c6GHDtcT8I1EiTlWGGP0IwxBUuVKm/2oql2bJycL8zZKs2kxCavzP7miLp/ag/SShxaJRitr+1VGHoT4WnvxS70iGA+4U/Lc/TeYZVdb8eSljytY2MPyZumYa5ZaI/78971wv6cj8p2pvMq+mivwTXkf2pl6c/YSxSdJW+iz+T2E2PyWWRvzAEldynL62/MfLiYUdDkz8PIydHvu6Uv1yPBBB8AbC/aXs6/Aftm7/QR704AjaZvyh3SGBaxoe/oykWQe1Qnr/ZmGkdWa6/v+MM5u3hi6S/BiKcGt3pq7+xrQgQLrmlv579zjvwkqm/tZ8gN3izoD+4lqThsDWDv6FEFA1zGYe/ZMPh+kvbob982yeQs/uov+4wINkvM66/2UygIq1to7/3Khen/PmJv3ZS1XnxDpI/M4jz4V1vmr8qocKc6r2Fv+l7pQv66oe/d8U8WVj6pb8j70UBiXOqPwm33841ebi/+ta8iRiHgb+tC6l9Dc6Ov7CjkJbvHcK/+0tAoq8CmD/TluzXuq6jP5sxA7N/BaO/9TFCfvWm0z/ibrnhvAmjv8WBKhdPZpO/rlawO+1FkD+upWSh+JO9v7ZMqXCcjZk/E+HUP6P10T8IKrJBOKSZv8ltqa+gjmC/Zm0Dbh/Qpb9CvJuzeqqpv6oOSk5Wbn4/PodCUY86sD/Bw/dQc4mPvxblIVWufIc/YmS25Wzlqb90evo305qqvzsH1JzLW5Y/fouF4aeotr+bBAsH0lqtv4a+k6dhNqS/Qk+iAQGvmL/0odQhqYinv/FLQHziHpi/80giCQihmj82gLBi4WSRv0tZOvV+D5k/e7AUQntApL/y6uYv7A+uv4tGFnOxYqU/qomnGwtYpb8sOgEw8ZyuvxOYF9LOq3c/gDFfE17Gsr/MW6rk3dK0vyNhwquO74y/VhSChU5isb8MG9G7nb9kP/uo9zgfBHG/qNjQY0A9kj8xEI0kDqaQPz6rXmGLYZa/DeL9YaiXkz/cRY9Jn3miv6ZOHxi5OIk/FMCClrujXr/fbKGzzhKWvxIlqe1JCKq/5g/Y+jLelb90MwznrsygPwbp0ZJIhrE/tSLXczXzpr/W95yPz/m5vyqIwVuKb4W/utsLExZukb/LokMjU1WwvzOn6A6B1qe/uCksTKRJtr9YfLU0MwOXvxD9XKxmhqM/fMG5EMiItr/BgePhF4SiPwN9bHwebqu/Hyq8NB/Xor89P4m5tZG4v6iC/8/zgIg/Fr/Q1fM/mT9mqkXK2YS8v6ZVM59Q9qi/y/6hGPWutb+EmbsW8MOrv4Dms/nmEaA/5cu+zP/8qb9etC2o/cWAv+iRzV8mYYe/S5dzQxL4p7+v9Mpb4l6tv7GXqxCWfaW/Qh95q/TXpr/kQ9m/ZLWfP2Z9Yh1PP4C/IZbm7vm2mT8ol4Gk8R+SP8o+6Lf0ipm/ZFIshx51pr8JSNHMd16hP87ReLCenYi/w3dtHN7ddr82AF0cCyCQP2WsQPtaa2I/o6aXHrwznb+FBD0+Z72hv/x4AAVvyIy/kvz9fC/djr8DriOZoOisv0TqbFCz/rG/B7ujtgymob/72xTa0Lqjv/bmDLCRSa6/k3ClH9alij9eOBCsXJ2zv4TorEGFZ6K/eLo84SJioL8Zfo/s3BOQP673hTZfopO/riEYThsxer+a/XXjqOOyv/yKmRtvh9A/u/slFBKwoL9IUzVLqOxlv7ybwZ2CbrW/VyiuPCccoL8G5he/LNCWvydlsbeyTOI/21t+p55ht79ng98sOm2uv56AIgsiaKy/+H0v+ovGqj8GlymTsEqRv1gdcTQCPa6/9xcHcntNkj9mj5r1iE6Av+C7E5RAgoc/eKcBtOtCkL/gygWqbt4wv2wvUiUfzKK/7CJV6CgnjL8SbujnqiWav8SZarbfHqG/zRYXm/Ul0z+SPrD9fHamv6q7uOX04ZM/FcqaU8W/pr+gmCefVQyqv3FTDtGpfJ0/9gQOY8YWqb+HzMrmk9GBP9aBT6DejKm/orNlW3hBq7/sT4z4PxqXv6uLGyVSjKu/DSpB5/ymuT8IAZ8VG7O6v3m1sJdG0aK/r8UTqWuKiz9KDXzCrbqPv1Jk6ImXfbm/ZiKHf4/jjr+5SXJjBcOHP3UP6wANAJi/AYY6WRD7kT9xrTnHcA2mv7xw9LyEl6S/96yh23UFkL+LJ+U4vk61v7ToKnbs/7O/pTrNQ4ZomL9pGzZHiFnQP6uH5Eq4aqG/UI8pXOilib9a162YIXKqv1h7+U2qxIS/M2jQghD+sL8TTIJ09r5bP01ipheL5ae/jZhNY5l5mj/KiigSz+Opv7sLPA38Pra/i9e3NwxchT9WY0AGB8i1vzkU1w5teYs/IhHHIIVgmr+qdu2C5eShv9L2X37cmLS/4Lw5pV+Tqz/9MZFKsKaiP/QA4VUeAJi/yDraZN9Uj79pFv2f6nKUv/tYosj1iKe/fUMlMiVUm78IX5K5/xs4P8ZGjhxC+LS/wTCYTxmCkT+XErLUcMmiv89u9yEr1Jq/Z3kXgCtVlb8QHMJUgGu2v/09WJvJ9qy/M5tgiO7snb9N7L53KSShvxPj1dvRG0Y/E7g9H9ofhT8w+HiBoGN+P6PFyx7QPqS/h/DtQYMgmT9W+OkHGbaYv5ve533lK3g/xbnWbgwumD/pG533gsmsv/NB4RgkrrA/OCGq8pHngL91NwJ3hmmmv45MtP4hadA/Z0eomNtMo78nC9lcHzGivw0B5fSkEZG/hBzrs9Kboj89KzbfS76QPyIHC2KQ86K/guu6Bu1sq78wj/gJffmMP0qxhWzLD7i/rUqu4/KStr/xFzT5MJqgvyNbbd6vrqI/ySbawuoJrj+ExYwBje6KPyVXakDb5K6/dRL+K/udjj/qwnpZwVWwP9tFKCpziYi/X/D/Gtutmb9w1ojkEOmzP7MsPoXavJ+/m9noYJnYqb8gPKLtAPilv8suAbVqXqC/ukp3lgo4jL/+3cgTC7acv2a4zh+p35+/tpmnwomBqr8nZVN4QMFrP3ZYYgSuPLm/dOS2jh52uL+pcQiHU61qv8fc4D7bkqS/bvWegJ8pqr/f5F3pSB2DvwJdOH9i0KW/vigJrFyNiD/ms6sfKUWqP/vjCS/tqnu/z+aobkBvpb8FPv/1zUeyPxlzZ5/Tpam/Ad2N/JQOrr9nUtp2GTZgPy/waKQasqu/2hZN1/+yn7/ezrohAsGAP/rj6tMD7Ky/p1ab3mFKd78EUE8rks6Hv++TmWa/WJi/G6SugoWogD/teE7QCT+AP6qKk4HBopo/detCqj5Mhz84a3aYMkqZv71IhRLzuo4/kKzHwijN0D99zEmlHBuCP7O/Gi0Tq6C/H7VGdKTRob/cE/g38vuSv+Mj1z0ok6S/UeBZKhYgob8Eqdy7zGSbv/i02bllzIE/JmX94P82mz+nhGgF8VayvzmKF9MuhaO/NSXpOCgcX7/HDijwy15YPyHGuUwq55W/zV83Nj86kL+K8RTf5btiP67MpOMzmJW/Ee/UcJZhlD/vbTSueKe6v1uCSXT9jqe/0F7WM0Ypib9rGeSv6S+vv054rPEwDrG/zadq4fDQVD/VegAu+tNQP4yfYL3hUI+/VTn8YOBbvL983eJE+AyaPzjqeaGqrZA/J2Yd5p9qpr+fq60bqg8xv0WMG5miw5W/h0lZ0S4Tpb8OTAeQPgy8v2Ks+UZocmK/jDperpqSCr+wRWbY5GVjP37rM9UwTrO/mI0PJwZxg78+V8TzTCeJv/UUJKe+v7O/xdb4fQqDgr8LeYoAD0WuP8sJYhkSQrm/aXDFnIlegj+O4wcoj16avwZL6brA0qq/CCAu1StWsT+5GOoP/ECxv7ugv3F17Zq/9NihaLf5gL9rsV6xpHRiv03mirB5dXA/VPK8DoDXn79sptyClPmwv31zBV0AKbK/RCWq6nFMqL8qRg6ii6egv94KEDBghZC/LfBzkM6do7+xYxSSB3SJvyR2xTVYppY/4mlI7f5kmj/gyBNWCnqcPyTZsz1Jf42/LXbxMlGWdT88qfBu9BuTP98HnGFKVJK/DV3LhXkCtr839ddAPxplP59H3WtysoG/k0+p2NFVrT8wgJ82u2Wkv41fjgnOx6i/CB9OMztqqL+5KVtgqSOYP/i+Jc7uU6G/kf+Ikr3BtT+erg4ZpNGvP9lttGliK5Q/8tcG2/gXpr/Yqhut+uqpv0WJK9iWqrq/iJz6A4CWrb9+iS/jLTeiv/AtRI+f/6U/izL8r/CEqz8SEWr8RvmuP8LSbH3eRaG//y/JJTODcD/1cB9iQQSavzpaIWSBPny/qZIJmOmyp7/cee6ThpBHPzhMLotfj5K/3wt8uG8lpT8osThBHxqjvxrIPoTUKq6/vLhvHNpTpL/cj00M0JqXv8u0k4zk/pM/3Ll9DYO1sL8CZ04dmfelv21tNrulInK/iNYRT5fwrL/rGrwrzBaov0/HrFX1yZa/U9RG29SmoT8YS6Qz0K+kvx+ycoxbOKC/8e7uRei0l78MDpmhew+nv8TgjHJIHaU/CLXEkYXxqL8iwJE3S9zWPyTnhbrWNKa//nlbQzxgd79DlkwBk12cv6hTh/EDh3e/99mLXeH3pb/Qzd36HBxsP/5CIEPs4YM/Cs54BDrnpb+pAV4OlEaovx5G0vc/Kpq/y7GpJRqUkD9iqv0Ya/e5v0ADC711cI+/NwGvrQ9ypb/OqzcXEiyNv/mWnKe23n6/jQrksFtAfb/u5Dk502aiv8XCtVHmd5q/LxFsA4pmjD9G8smEHSeUv4WhSN3KH5C/COIfnZC/lr/Ctio9YX6bv8ruXR3L4lc/XBlAWxTatz/qXXAhYOHRP34KueeYLZq/qIGUH1ymor/BVu60KD2pv9GEz8iBUKW/+X4HH++BgD9ijoV1Sh+ovwMg258Ub3q/WJyT/N3wbb/QCv8CmkKRv0rhm38/t4G/4U7ffJN6gb/47ZMBSSOjP+bJuzmNM66/Szhw3Fh2rL/8nHcNOEquv9w9Cw2rQ88/qotO74q5gz8tHO3RgHKUP/rf8hFI7bG/Co6VRwYptb9eXl8BZ6OvPxNtUT7ZHXY/FhJsrHM9q79nGpl0AGeYvykNIXPCxpS/W36jmStRqb/1KfYl1rhhPwInuI3P/84/m4OjT9jpoT+lTkUsaYKNP7saZ4RIEJy/Lk3wlHk6uL89peDae4iTv4+QlS8ycbE/Q4pSHZJrsT9OiOnHIuydv3w+5R/H+Im/Bjg29Z8hs7+HmlCqBe6mv2SSeCrNzoC/k6ohK+ispL9avbtNRDeVv3rf6gG/zao/rIrgcc5zor+5TvVaVx+IP67hv++/RqK/3skYak3rk7/4JzYXCiuTv4Rkr28+KIA/03fCVk6stb9IEoGmUYGjP7aht/Sbz6m/EscSodhLer9Uf+XlGyigv6WaLmHgzbG/W6jA61mW1D+0znJI/GyrP8PtC7H1Tai/o5EG5efWoL+zd6+w2dV8PywfpAAgdqw/3bt3L8MrqL/pzexQ78iwv8kJWWXgQk6/uJFniKJkqr8mVbXKEpC3v/XTLAU+cLK/jHE4OycFk7+B59pjLhmNv14f/W0cgqE/yAfrP5VWsb+98ZeI3hnVP7pl92k/3X0/miBbV2Urur/dx//z2iiev+D/2AJf9rO/ncSzUnHzpr+SyWZ7J1q2vxvzQisIFIG/X39ivT5mrb9v1bX8dD2sv+zLkx12lKK/mm74rCfkYr8CfR67w92oP/BwUAXYNZe/BcBDEjqHrL9VqUYCNSyYv88rtTo/laS/HKGOgImgjr8RR2xsZiuNP/Eq9Mh5xbC/gBcPcPe/0D/K79jRTlepv7tnwxXMipG/xI/Xwnwzcr+RA+v8scqvv7Y5sJay4pC/jc00uPwUkL+10dfBWf2jP8kt07Iaccc//G++jRIztD+j5qRo5MKnvzNQdXnufMo/4n9lz8zHrb/wX6B2Kma0v/d3T4qFn6y/r+KjVM0Pmr9c5Oby8OB3v3x5OvP7cZI/uhVF0VYGaL+jB4MuI4Wxv7CmEC7JvZG/XhC3xnkgdj8XOOWEVFGmvygtSHNwtKi/mE31QLynn7/2Xohc5JmYv7bZozndwqq/najFjXRoob8+3eEZPiOiv/Nt2vBJ8aW/WD9XUf45gL9Go2WlrrervygGCUzhBKK/swmtmjrIeL8DbCq4KmJnv75lsnl7m6i/wfL5aljJs7+KXiq0J8OTP0TYXCNqE5G/q2hE5E/bnj8idlqtX6BjPwB/p8oVBpe//2A/X3nwsb8jC8t1uYV2vy3av2SA+re/bl3Ax50idj/3ZFa8TFqZPzTWZXQ997U/vnFBlJDhjb9BnVFc0pexv0l758dIkLe/RE1hTaBmob+QAXJvy4mtv+XJfXFIMKO/o8xUCAzHvb/uKiJzJiJov5nql6ceH4U/r9f1qOGirL+yqqfeL0Swv95MV8YXU7W/GOEL7CXppr/R9UEz7ZStv6MNp7ZqhKO/64BaB1+AkL+xQS1eH/Wvv5DqSu2B2ZS/t0fKGlGxrD/LE3eUne6xv50mzjV4uKy/FMzZvBw2tD/w0QZwhOqRP3bU9Jbgepm/CTsSgCMYjr+DXZ7kGoSmv5YvflORis0/+hYYPDZmpL9ueE1/LLWjP5pTXm2NC7i/Ni8+FLfKer9hQhUBUaWYvxbcOs/JeJ+/dsOSwpfDsb8AN+tm22mMP305DGl4xb6/3X3RRm1lnr+KQNS61tuTv15LRG/dh6G/5RQcY4LvqL/IBcYEHomJv0QamkALWJK/6L/3NfYqwL/xV5qw1QWdv/qT/26s/LS/0+qxcq/zqb9PIS6MewF4P+zCINeI+ry/+lk384nVYj/inF+l3iyov9PX8QAIi5S/VS1cfDfYt78LcGNU80WaP6/6/GvEHaq/IANsv0q7rT8uZhSQep+FPxCS5X5lI5i/ltLoA9uyl79BW1/M5y+Zv0XM6Ak/ssG/G8u+MPRirT+aSl9LhlyhPwrYFOyHdKe/hJhnGmo5kb9+QGCpcxevvyXEo5ofS3A/lAnX9dgbsr+qDT78uziuv2rajnGRorC/QVYK9Tk5h79phqPM8TSYvzRdwLkXyJG/0DJ/PXrFsb9i8LYcE9Nbv2GT6XUZrX4/iVGRFTLvsb96Rco6kZGZv1bcfdVu4a6/N8ciAJwomj80zXJb7Seyv4vju8i3QYU/RZ60OzSwkr+MYVs7IpyhP/sfuM8bJ7K/yEhiZZqdhL80v0cKOqaWv3LxGWVwiJS/T0ruxnJvkr85oHocU72jv907j93Gr7G/J/YztQwIw7/erapzij+kv/kbgfxhMbe/KFNsRglrkb94zS2+rqOSv4BaMuTbJJQ/LeQHngFosT/plurI+kmyv4DLhxwokHs/1xaaK1GWs7+R19AYjLOlv8LaQO4Dcq6/3hSUmt8+ob87JbuD4YaRv+xVk1d/pLW/cxpvuMbsgb+aZ6u9irKrvylkwsnsqtI/yOd8Yv26nr+KVpzR7DWxP3JG4oNW8KS/qY8biA2xrL/VSNVibuStv9iAdukeIIC/LHXhveoxd78E1zeCTIWSv9cLsCieFai/I7DdaxOys7+eghGTVjOrv7NV26V3S6G/zWuqLix7rj+Dt72z3ZuYvxBuL+Yl67i/lsJAAutDm7+z2TQvdFOrv9JfYrXQzZ4/lCLlOZrSkb+/i8MqgyumvxhqJT++e5a/FCOyzBznnb84aMh9WIexv9rOzW3vVKC/JEd1LS4Vob8rYlH3lWd3v2Rz8N7HyV0/OAL8b1J2q7/TD/OGehi1vz3NiiPDtqI/dT1GObFGdT+aMTA+AXyYvxOlG8raNq+/kRkOre2enr90gfUlu3idvxIqpjxgEqO/Eh2b/HGmOr/dpgmfvg6aPwkey6xiJV6/gNT0HopVkj8jcx2+4Veuv4bsEc2PAKU/aCLiIpKxmb8=",
          "dtype": "f8"
         },
         "xaxis": "x",
         "y": {
          "bdata": "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",
          "dtype": "f8"
         },
         "yaxis": "y"
        },
        {
         "hovertemplate": "class=1<br>x=%{x}<br>y=%{y}<extra></extra>",
         "legendgroup": "1",
         "marker": {
          "color": "#EF553B",
          "size": 3,
          "symbol": "diamond"
         },
         "mode": "markers",
         "name": "1",
         "showlegend": true,
         "textfont": {
          "size": 25
         },
         "type": "scattergl",
         "x": {
          "bdata": "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",
          "dtype": "f8"
         },
         "xaxis": "x",
         "y": {
          "bdata": "FplbSAz6Xr/ajWyMPz3HvxqGecR4ecY/r/SZoZSGtj+qCd4dEqLCP8/V1b7EiZe/Robgz7u2oL+77PGJ1+p4Pw5XSA10xoQ/KE6nNAKFwD/Rr66h0FLBP4frRuF/cJU/08U5AKk+jr+UbDhUbziOP18k1ajRH78/UomHxVpirj9WWytFBzLBP8YRZoRofJM/JAhbrCbsfr8sthyZbX2+v+riAtGl0cY/eTLtb0ywsL8+GXM2IAqzvwXS2+c7VKI/aqdm1dnkzj+j2DY1sYq6P7vBXdPxgMY/BzSysBgvWr9lAr4XZuO2P/1pIj/Mj8O/qVnmCKnHwD+4pWQkKYSUP5baUs0Q2sa/agWhbQ7Kur/pCB7PHdHGP1vyTu5zErs/mxj/4mrBkT/+dpDUkmKzPzxMf57cHr8/hlEe1i/wvT91gxcSXKp0P82DzHPAwZ6/mUrOjqK/jT9SxAljjWTOPxdePozwo4e/EhxmH2Eifj+DdJmXBZjSP3csfdkCRL8/w/zQTlufh78yz4fh8G+/v+skAqH7rqU/vzVjvo/FjL9Cqrr79Haav77EBI3SwL+/I5YRji3rk79tBYN2wTK4P0h02q6oL3a/ZK9slo9ulL/9Eao6MZOov3YDZnCJEKY/BKHOlfga0T/h0oQrCuTFv1VIyYqxIcQ/kxtLW6eIzD9tpEGw4bqsP6H5FAWy3sU/SF7PZ7aOyb8Isu4UBt2Av15RgoFQf4g/YnkumTFHpb8s0YQ6FaPDPyqC/pXO4HU/qdcmQrSdsj+AnnMV7dazv36RI9axmJA/hu2ZBZwazD8t1rttYPu8v0Ic2pRHicO/lDfSGQlMwj+88xzh40zAP2Z2N8/qS5Q/ndYf+9LsmD8CZ5q9t+jAvwv/Kc2D84e/WaCdsQAqvj+ASuZKS+DJP0d2J8WKgrk/Xe3UwN6ZlL/QfCrh1+SRP5FGZhDBubk/ph+PISQnhD9uuvkLbLmpv2lufRjBgbU/kHbpFOz2nj/UfqSChmvGP7CiRGSY6Yu/Y0ku2hvolb9hkkb1g2GpP9bG8vqgIsw/tl9TPMtner+BneCBMWSnPz8gaAPy5HM/upw5FVGnsj+d0PukNT2fP9O0muLOn6A/1nlg0b+Sgj9n79wywRaYP3QcPdb8BH2/iUErZJBpqT/PAalrxvC/Py5+RMXccZA/bKcUb1O5e7+MuwdoY2TCP+DNBio0dKm/NnPpAa3koj+38kjy6tfDvxJLuSnnaL0/LGC85iP2or804gtS69y4PwJN0MhRjbw/ZnfJtro3oj9Q7a35gA+sP1Q0XrPK+Y6/GXceyWbtj7+TWc5b/3vMv/FeOLTRiYS/0CDLs4WFeb/qeJ5kJoOXP3cmyo6LHbY/tkvyq01Ipj90k/9LHPuwP5xtHsJaPqc/NFZ6VWyNqL8Wvrpx7EGuP+LV5v8oDL0/M6KtrsK7wD/tYS7lr8yQvzLCY85vg74/3DDNV0iShz/SfVrsM2rWP98kp/Rj4ca/nuztbLkKi78NT6Ruj+WdPyCuLWstoLU/U+J+RtdElb9q2XAaqMmrP6E4iK/Sp7Q/xoe1GTOPZD9kFZeT2qS/Px2Srt2TbqA/RoWexhu7cj/NARH2CRpWv1HQkl5qqMY/2Fv0Tp4XsT9XrMO4NFqsPwyOYEZNy9U/FBOk0y4Wwj9UzuIE0lfAP5Wi64IeWs0/vlFwbTbPIj87dQGdNLqpP2FM+1n7hbE/k182HQh5nz/H0jCTxveFP6PGSeJ3+o8/MTfpd/3DyL8SU5vBrurFvz6UOvQzMsw/rXYiNUkqtj/iZKZwFROcvy3nQDIL2Li/SRrZi+PdwT/ICe26992/P2wlUfN5eNA/mquChtJlcT8veivreY+NP8EFSO/3grq/7/gGBbadlL9NKKKQkGZDPzR+YvYW3o6/hXJAthjnwT/OYfpWSYmBv/K10H4n33e/p/I7/WZOpj+D9899zNt9PypmNfJLSIc/6dBI01HOYj8sxHqG7Du/P/8v2Sqvsr8/yvRcK0vxtT9JPMtpGWewP1USYrY5Ico/uwmK+oCDtr8D0m+II2NavxdGeF4f57C/Z1AVXkXXwr84tj9u9bupP5oC4w1IC7c/apQdeZzivz++tWHFUtK5Pww6dJamJ4s/JtSlaI7T0D9xh3zzQLeuPx4+Qhg8EaE/8MbFUcqSlr+9k9gnlfulP2s6a3ZJrGk/ajQ7Zc7Ulr90WAYOOr+nv1EbLCko/Kg/J1lz1HLdpz+1hDcPpsrCvzqzc4To3MM/HWO6GU6txj8I7xH5G6G6v4ocoJSi36a/6TnDgdlxYb/ndoKQJzvHP32hJOYfvIG/8pM6nylYwb8TgLyQXvnMvzExBBRrRcE/1LST5sWAkD8lqLuEPdSIP2SOzTIPpMq/TERIc3fGsj/kN+wTuMG/Pz5Nelx+yam/4GqGdCsMm7++TIrQ2NSJPyVlE/JY1Lq/FTkaYD9Fwj/JcAPHREqSv72ZnXiByHI/Pmp6Ddu4y7/djj5MZ5e6P2LW7kJ7upi/pVyDbLItwz/98xP7NL94P8XH3bcRPMG/ds/qfj04pz+CsGEvPqO0PxmDNF+O36u/E9YjKniLoL9LB2ixolTCPwywCTQxgrc/2BJg6ywClL/NfI10X1egv98vw5low48/UTP1mExZS7+0teuk9MS7v/V4GCy4jLA/rk4FG0izuL9LV3nSU+qyPxcstuKPzsG/RhJFLfXBnr+TAwn1vOy8Pya1TARleKs/DYaxFoPAyj8L3EN2XDuRv53tPkPqE60/b0R5b4rInz+BMAW4GN25P7ai7DzUVr4/UjP75q9uV79anYH2Oc13P7sAXrEUnI0/8hCpDqzamj9k4WS4Crenv0gQYzBoecs/DY6flMqQl7/M/4lYcKHCvzIvcx78F6o/KvXZjm2MvL8DuhXDV7Z1P0sB+ormxqU/d6gK5PVEsr+++CvEijOJP1MttcWJk5U/HP43sZcdrj8p9NRYkd2iP07NRb+m63c/H1cT2uFooT9QQlJHUnalP4981vLsIYO/YvqYE0g0kT+CYQznqLG2P17rGRiO9Zy/YWLLA+MWnT9vZyE930euP0qX+7xo9Kg/xRdMujlfrT+eiHTRnibMP/XuA7+4l5M/TQeZt7URxD8DA/TCZYGuP9AfqcOqrp2/3Gfd854W0D/gssE3/mKaP5JmIePaZK6/fAwlwGpgxj97Ry2TqgmWPzCwQdTYjNc/YmiVCik8ez9hoTYPk4XDP7pIO6daZ7s/9GAasQ9zsj/ksIoQx+2iP2ljpBF9BbA/I499k3Dpvb8EZsFoqqO+P4qmuKh7F6S/j00soOV0lL8cueQm30fCPyRyx4w0Ps0/kxR/UtOYqr/TEreeBaabPym6aW+9qdE/8E1Hsa1vZT+hfJZTaveqv2XVDb5xSa0/SBVqsSnlyD+DEVobv7SlP6XXCOBgIp8/1HM+W49hwT9Rjb8wGgekvxxG5NSJl7M/Go/4qCgUc78WdQxrKlXCP9+CMMP9SJK/r01f5qHcdD+dlrlQrw/DP2Opsrq2K7Y/btg/Zytsnz/ilYTB0hTBPzX12KfdWZQ/iOsZKhHYtD+abF5hfC2uP8pKCF/zQ2w/qszsw0V6zT9Fo3nfnrebP712Fx09W7K/qlHKeqoQwj/0acpe0Y9Ov35lyOrG3bs/SUlmj1p7xz/iCwXMQ66iPzK6Of5N5F4/4MHx9PQFwD/smh1y1aSgPzjVSzcRlI6/ImXOm9V7rz8V+n/NYmCRP/D5OXuANpg/MCVYnfhUxb+LsffjFzi/P3dt5TFG44c/Li0Kh/0Axb8y1vXqsTXSP4ynPzjhxZc/wax55BOFwr+pg6EI1zLAvyOQ3HjTj8E/eC2xSx2ikj9ufnbHKWKgP8slOWHZ6b0/4vVXlB39kj9NJptdd6CmP7kLpx5BhKY/d4qgWucgor8DP1ctHKnNvz4+chnywJC/Uuay+ZCesT8aNU3oJ+C2PyQkaqIM67A/LdERfKc2ir/1D8UNzpWgvwovf3KTKYg/YHV/dfHVrT9VWtUjtyHDv5da23yCzYK/ChXsFNFw1D9WfeZMoL2OPwlrZUIuG5G/pfopcwRgsT+ubxKRHZ+Rv5TDt0+B868/anH7OsO5qb9/ZGWv4t67PyivDEOpKbK/77vjruziw79FjkQk2EbEP1jkOmV1O8a/iYpI5tngjb8nljSYKECXPzqYXKtUEpQ/sfw8Nymhyj+Zpp2HJh+vP5K6MfLolJO/eFRZpRYOo78X2x/N9vKcP45SOxQv2NU/2GfljZwuwb/8PqT2G9KSP4NFCBUI/8Y/aFbiOEQHg7+a3nxUFsqsPyg6pE2IAsA/AQZpAfcurL9HpyhmqS6HPz2DDBx8p6c/adgNYkUSqr8ghshJma6ZvyE0yrFAcpc/ytVi2OPeuD8MlCd5Eyd1v0frTGaHZ6g/ImSRqospvD8spTdWr6fLv+/Wz+KjMrc/o8A5Uik+vz8jrygMYwtfv4xy0z2tlYM/v35ft4NJpD++LlPRNMuEP4ze2NDghJY/gv4S4S+cwD91U+IqWa7QP+ORLvfg/6Y/RYlOQrt6WD/+qmZeX86ov8w4EU/a+bM/u0wxS+iVoj+P5ZARHJ62P/pkEy29epM//cq1xaSCqj+OP2r8sxlEP73e/zFEdcQ/VoLtoB0MpT99NmnVg4XDvw3mwtqj8H8/vULKT3M0tb/dl455ohLGPy491TMkqZm/GBobbJWqer/OIPq1mtizP6arahM+HMA/cLyn0WtYzT/8hzmveBfFv/LbuvYy+qQ/1gqJzISpsb/ekl6ogMy5P0znYZPeGsa/LKUvbKjpyb++vMMHwOS1P52xJxZRocc/c5JMiNSJmb+RDY1DkQLBv2AgIXHaeKs//7K/jI97uj/061Kq1/GTPy9ff3+d47e/SXY0uc3HyD+xY+Jl7MiTvwqw76HgRrk/DNkncE3Ueb90NojnxbyVv0w0pGky1a+/x9j9nIjZuT83P4rEEdOGvzZfyqAdM7w/bkP4RrZgqj97929DkM7QP2SH4LGXUMs/UCzabKI9jT92rvdTjtm2PypwFIlkvZI/gXvZHwtrrz+P6nEW2ju9P83mnYjKeTM/W991yc9LoD+3ic3z68iyPzyqK3OaSrQ/g5sopiu9sT9n01jeLCzEP9u8HFDC2si/iPScdXBDiT/Ns0Ib1bvEP/KzFg+rkMC/EQM6blCGyT+W+DqAKjyrvyGWUencX1q/MukBlz9voL9VNFFD58R+v4foq8RNGb6/Ew5VW6djoD9+FWptUlapP6ARMvWNb6E/VsL0r8QjsD+qSxlaC0fGv88BUXwgh7g/H34bO0fhzT+5Q3YGACOtP2WptMDZoqU/FEGYd6RVkr+LunjFZ9bEP7NN5J2FZbU/7OCVbUYboj8NMG7XfzusvzfGz70bzcY/dEgnePIjxT9qYCmW0Mukv2sjMTxYGbs/kDP7W1IqtT/U47BvSvqYvzgBasHErq0/03kGeyxioT+HkATdbhygv35RhFlgXo+/3w6B2WpYkT+K12FCLLq0PzlK7dK+Oci/z5XHEOE3yj99/AAAml6qv/kjd2D4C6s/UUY33pqxoL+JDKbbVZXRvwrL9/vc19A/3xAEFx43vT8NUFZioZEvv3tWyjtyfLw/rAkU+pPYub8SxiRdkUmRP2xOLpTqP6e/t/KTiWsTwj/FotXW7UKxP6M8izYE/5S/chI+yuu0uj8y/tpjdvnAv9/srWQ6v4g/sJBK5cCYn7/uF8R3110wv3Fw+CuPapK/EWHWJ6Yubb+7vPXqLIWiP9NCcLwdD8E/ZmJv7rDRwz/6tepGX8aiP7P+rxfppMM/9cT5XOUxpr+k5cZohdO1P2VH8UEBwbM/GlME6iHqvj+yBc9wZL6bPwiY9hCSl7E/+T3uQfhOjD/peW6Rayyhv4LYykrFTbs/pEb4zsGsuz9RRbijUNGnP5NQA/l1I7c/Umg8Ekvqzr8RMAOp5Nelv6/m7rQc0mu/EYlnnb+7xT8w7uzLdvvYP6lJZy4uQJU/xH7vvDPb1T9QqJLE8k+6P6zkzS3RKZK/BkbCHzZ3lT/i99vwNgvWP+CCth1wi6o/+BjVPCJRsD+vgEJFmqWtP3t76K9z5YQ/cA62UvHbxb9117gYxcJ4P2nRswcRiaY/VqYD5b0GwT85pVT6AY+eP91dI1WdWKU/zoxFFMYrwj/q6Gar6yWxv02jSznW/ao/xueJFQlFoT/lGznaiiHEP8583cDFxow/GprJKL+RxT848Pm3mSqcP5mJEGiax6Q/NTfbkneAlj8c07Rrn0C3v3+MxLKdQa4/bicCe/BpnL/fEmXQAeXBv3bD0gpZhcA/mrZU0StmST94CTISuxaxv7cBpbPS2as/bTlqy+uiyD9Spgsi7LaWv2ag631uoMY/jE25p1nmoL9TvA7uAeGhP9SU8pJGEaA/8BM1TVH3mL8WpypdxjGgv1vH3l5SkIk/SZP5Ika4sD/pyBi22nPAv+uW+8Urf7A/F+NZ9qa7aj+n2eJcu4G4PwyBQWkMlMW/aX6LYUpbjz+wAEbVBuGzPzlm2kHVKKs/uxeS8Ru+qD+XnPqWVc2wP2Z9H+Ddg6W/5sL9C+cljb8zwhzU94Rsv9s0GZ4U9sM/PsiAP0Lgw7/LjirJ7AGKv+7TGp4X6oc/O5EjaXYQdT8as15PzPGxv413gfFTBLo/oyTGBiAEo79uQuCdahSIP1hK2YFnxZs/fEitnPDi0j+mox156hFtP4kimy1fvMU/AMlXT5I6gb8b3jwk8DbBv0GiYbvLaL2/gamZJXAQ0z+t6p60kkizP4cNmP+wn4O/RszSXdnXxj++jqGTbpy2PwO8JBFI76u/nx5PvS6QnD/L2eaMB3q7P82eRonN+5a/f3Pz5YpPkb9k8Q1EdgGbP436cfzPznE/aUmSM5TrwT8hV280C13BP9O733WT3oG/sfcm1nE/tz9984JuMoOMP0zfoVbEHLs/4kN6EJFmwD8tpuNgtIudv826CKVN1bc/VU+WksTinr8rM1snK66Gv4RnQagf25g/ixMPsXSshr8T4Ni5r/FzP0qySOsGebc/qFE6p3Kjhz/4QcnMtRp8vyNyNXpZKZ0/kGq5VIihuD/Uq5FtDR27P1e8nT8JLq0/atxZnqCrpT9IXXg9bfCzv+w31KzmDLA/eLLjd+4Ck7+2dJ9h97qgP4NJX2+aV8G/sPHRjEGEwT87m04mNYZOP9tR/qdkM7A/1ZvVHvuYwb+SCywH3QDPPy4rOj8T6qw/TPxEkxRDmz+FVmTpzMm/P2JATr2cP5a/4Y/SYLxk1j8L0zW0Re++v8Ck5Jq50Lc/YsDyqCA3qz97scHvkHvHP95/CJt/Qaw/mWvqTIIbpD9n+yf5MbC8P0bRvNwo78a/43ct+YdkiL+bGP27F7vBP006/48ba8Q/eZhpVMhLqT/IpWBBun6xP+Zk/fyI+bk/Y85UMHaHkT9cGK3NQv22v/gVawjujJM/IZPoNa+oeL+hj1vDsgfEP1F87qafK6M/XmIZUBB9mj/Y3gbVyIZ/vxSPwNHEjaa/6xJ7kGV/gD/JswcI03acP8T4Gr9qPLE/pFD7dDFlyT8PwxsCPBPFv3X+OkmgBcQ/p+d1iDwjoT/fnzc18b+dv17fJHp0m7s/n5Ftbymsxj8A0Kw3yyO8P1T8UZ8mGLI/HzNm17V1cD/YPXRjznaxP13iPHtRXbc/iXmBdjrIsz/LectNVtnFP2dqT2ygjHq/WlEiHalCgj/KdDQ6iVWUv4Oa9i29Eni/GbxKotWNqz9abxOUa0KzP54BfgekIpU/bcbzBpvmtD9bEyUHg3K6Px0JakgcgLI//WdANH/mzT+TD+fgyoKxvzI/YBdi7IW/dGwXL4CInb9F+RVRvgefv+grI3D/xcA/j4F9A/e8uj9IWueEXxe5P5jIlx2InJw/LhkAHFcXpD9DIy/yIVmnvwrrUYoBt5w/y20PoYIfor87ibqOdsyHv+JVorY2IbE/gI4kFFkQrb/Bu+z2zCvOv/QwvpH5I5Y/BCqiBtvBxj+yCNzPRTmmP5Rff0r549A/OqQKo2Y7mT8LFnGGyznAP6a1N5IYFqQ/+YXYL1o7tL88V8Mckv+rv4HYXZRB/dE/uPDB2LjkoT9DxyurHmOwP3a/Tefdd6A/ol6YflwyhL8lHpmkhhunP6pgA35wR5O/AXTFQ20zuD9jDCNO7HXDvwzlR5h/J7E/CZ1gIWDDpT/Srw8UVsDEP1ZLdv3Yhqq/IbdJBeP8pT/THhTFfBakP+m0Kpm95bE/y05Hxg+a1z+4Do26+ZDGv22FZZ+3+sM/nmLuI8uFkj8wThpBVKnPP6TQioTV3qI/kLsPW6H+xD8LG9KEQu+9PyRvfr9xrI4/ar3FOJmtoj+3DtmH/MqRP+qr1DeZRMC/ud1TP/nzwj9SRnfFeFapPzO3MFA06Jw/eBKZmR+fkL/K501vxOukP1UnDhyreMA/hT39z2lUw78SGzS4uVe4P/1TsXp/o6E/EWHF0oq/d7+9WTOcCrWqP/AVi1OR05C/If1UzX7pZb/UL0GpX6uWP8bczcp4Hpw/cFbXmUiaxT/sj58U/Ua4P/2Fo9C0C8A/JwkAl+jChT8pFaQ7i2V2P7kcxsNDi6A/Jl93YOuQcz+bFB/1sSmTv96GvFFrGLQ/PJamHInxwL9YN8hZZlmhPwNOLv9Y6ss/w5vcN1jStz/PPJIKexOhv8jnk5+oKrO/3pJWHvSXmj8ly+P0QobGv0oWF7wsjrA/0o/jqr6Nib/jrVziLzy6P4wsyaTScsU/e2sgdlMpuz8jTH7vdY2wP58kww/UTJw/ATsLF917tj9t3bUSUiu9PzBbqKsimrg//+lUv2Wjwz+YurfbgVS1P4616VLPtZ4/iGNelheoJb+N+yD7YSWqv7jmN7KkUYI/PQ9Ua5u7pL9LBmKPpSmCP7fVtO7NtKg/xhfrzWsywD/FLEi7uRHJv+bxOvo5CKE/1+/Zu4M/lr/0NQn1mB2Iv7l04xWa1r0/C+rV4xDwpz+tfcpoDm+8P/Cr0gx4nbI/yAOMJQZRsT/o7/AaSF+LPzrtNAuMM8E/adYD/67Ouz8GYoYjFOOlvzPfCeG5+mK/Y4mPwkN3tT82gHeaMdTCPzyEOUL6I7M/msdG68GMx7/KNhRFNJFdP5Sx5vply7G/17YOTdgxtj/FR1IWpP6kP8I4p9THjX+/avWxIz0Mqz+tBNv/WKKHPzdnuOXM0Ie/19k5nKlIXL+poAS9GUR6P1iWWoU0w78/SPEEogkjdL+ThySCt0WTv8cai9NOHWW/OmrMFoOwrT/41LMI9UqJPzDiZbTGUYm/be10gmLe0L/raGkg4M7KP8J/OUMVZ40/u8gqj7Er0b/bUAy+BEWWv5oB49m7QtE/LTxCJz8Kw784gbW5c2ayP5x8HJxBp7O/QDj8r6rFVr8IE0we+syAvzhis+SETJW/6xYO83Iomb/0SPdvHDmMPxODN/27x4W/PuaUFFT2wj9k2ObRiULLPzjovW+gTIE/Lao9tHUknj8EoKxEFba3Pw5ELn3ShLA/pMN1kx6qqL+kIO4m8sqXvzr25qyBCIM/v6fDH/UEmL96sfZlnwVzP1dongmr+7A/USg5+qBpnT+HjHEPLI6RPxuz3ADtEqy/6hKEZ6xUxj/ZakAL+oqzP9E1g7wmi6Y/6kBm/3P9kT/WUI03mnbWP4uK5ROpA5E/0jnwz+PceD/LeBu1hDaQP1ZWa6LYf7Q/nOrhV2xSwb8H5GXNShKfP7FGrNiNUq6/mTfyBTCLsD9+ZjKEDHavP76smQhk/4E/3JF/SmL70D/qPRj9so2Sv7rFsE/FJKU/uJk7iaHYpD9Ok5PvIihxv6q4w0Yzr7C/R0WNIazBqz/pjyeKKsu9P1/y1ZtS4MQ//rpv1qkBib9UIWpHshnMP9UIR9hw0b8/y7iZelT+wj8tPr2xxerEv0iQFa9FQLU/YXvl3ilpi7/ghblA31fBP55W98BbwqM/ZkbwvvLhnD8ecEW0IIeiv0XtfiLL2sE/Aao7vdJzWz9TS9ETUA2yPxvwUfpAD8a/eM9eb/Bmrj8W3abDZR3JP5e5kAjjYKM/781oUW3Qmz91ZwdXNiWuv3xP79bMCLo/lxDcY0susD+qDYc4BkeTvz9gWNwz0qS/YHjRjsmQeD/rK6yl28a8P313u2LJQrI/IT8oKYClsT8TEeTKTOe2P3QFs6Ull7Y/ls2aX+Vs0D/MswQoI3e5v+rrEVXj/pk/dr8juKA2sj8cayUataR/v6OX5DdgP66/+GemshUkrj/9Dmf7rwu3P7UJocNpd5M/QvN0eyDPwD+H1HDR1L7Ev13nSjbulJ0/VuPEnjyTub+XToVEIDuoP/GiaqqFUYs/l3UKtnVerD92vBuAdOmiP4RihUdd36c/wiSxk7zA0T/UAXSvKt6fP20Ae5ABIbU/1MXkkTG3zz9Ig/9v6pjEP3B6g54S0Je/VsUQhyT2uj/Sk/TslQvIPxZH6h0xal0/vD2S+vL7sb/SJ/0sIlK8P366sBl4XLQ/uykNtEUrqz8H6YOE7dyxP5sdV+NRQMI/mrZFAGXWvD95saHyQY+QP9LX9Knn/4I/TiicwIGHtj8=",
          "dtype": "f8"
         },
         "yaxis": "y"
        },
        {
         "hovertemplate": "class=2<br>x=%{x}<br>y=%{y}<extra></extra>",
         "legendgroup": "2",
         "marker": {
          "color": "#00cc96",
          "size": 3,
          "symbol": "square"
         },
         "mode": "markers",
         "name": "2",
         "showlegend": true,
         "textfont": {
          "size": 25
         },
         "type": "scattergl",
         "x": {
          "bdata": "aF8LBIjGtj8bQ7x19+KeP9/mnOQqfMU/3sP7ASr3qz/V9xxTHDuPP0g0HXlrtXU/e3E1w53ZgD+C/EGjTCKzvzXOiXqrZIE/5DdXbmFx0j8Qj+TOptCwPwdxxRYafJw/CWurnccyiL8tz3aiZOKCv3Owza/Rz6w/mdcaQksPh7+AATHAYVzhP31SzgC63LQ/4BKLdUispL/2YHBfeRGIv/4Qr9gI/6k/lj1vJNb8pD93ygCls5qFv2Qyel0nyLs/xllQMTgvk79dtsI7kGbBP4Ge06BvaqC/jVWlKlGXqz/p+5+Qerqnv2DUUVGv/K6/wWE61dkls7+AgBeWJ7W+P7xDEueq8IW/sCWfoTYs4j82HpeuHdDgPxtwHlkuhYU/W4W20miPp796RQVeCmGmP4EwUdZrhHE/kTJZaZXInb+MeVZAhqaRP5aL0K3wPlS/7IR/ymAkvr8kiXYtizbAP1grv/OhmWo/ai+ZkuPFZj8Mfp/mENC3v4U4XxK7lt8/PgdiN56grD/pdWp3N3uhP8/h1c9hNZo/MUHhMpqi4z+ik9oUSFOZPxezpNXT8NE/imGs2fhaqD+zeBfC8T6BP2WMw6b13Hm/uQTlf2gimj+JNsu9yuKqPyiU+GkxN7Y/wb1PY32DkD97I3fLqk+sP65XwyRFB7Y/rhC+/Yfleb+ukV1u+QiZP7paGaAwv6e/4JtnGlEQpT+g1h4df6mmv0RyPyqQEsE/jGLdCeK2rj9NIaOsyNC6v0G6x1oreOI/RodD+adgp78f93Q22P62P/0/YJHoZ6e/oMalIN+2fT9T4Y3YmwuiPxH8zwlh350/4cWLlfOCcz8i+e57KF+bP5tSrl5UjZs/SeySh2l0er/5COhvEeu5P0tLLKOHxps/zDnYWxYklj+3jz9yjEqoP0ev5H7VNKm/5M++dGhWtD9ltge8KgClv7ItCsaHAaI/sVLjmalBoj/RrGymrYOJv5A2X8nLg7G/uHWSMTm6rT9ug0tytUqgvxY5KUD8KKS/SyWtjTdKqj+h6fsWOx61P5XmIRw1U8o/uTk1oEHFtr/n8XEPmxZ0P7Ha+zWKMLA/z7QLDEDhpD/85i1TH92rP/oTIsM/c6K/VfvR8Leekz9i0WcastiyP90w/Za22Jq//g+GOSq9oL8skKmHdcmqv9EiwCr2JNM/XSQ92Qbwhr/HyVXM+BWbv/rv25qtzNE/f/kZpJKHrz8MfK0CxbdgPzcajA2ds4U/vNTW1Psb4z+9fIWVP/qSvw/x8wXkrbk/QJMTCkxejT++QsJn73iMv4yi2Ibv7Z8/lzQZDNHSkT/R7P1rX2unv4VxhuRdXH0/Dz5Bzx+Enr/fmRe7Hm6eP7BOb9cL1LA/PVyih2JLWj8PqH71rB3EP0aXIRaLibM/9ItBxWv4pD/uqSwhel6mP/ITEogJ6Lg/DsNzk0ujqT+yDe/1xhmxP8jFu2NzcKk/3xFMiEI/vT//VjCBPDiKv8uxrjf29K4/Kus4pLjmgD87Vsosm4S1P0vov6zULuU/ayIBWGyVkr9oxehzMM6tv7IKSmgORKe/6gVgui4rl78THQCmbVCoP4cHLbOmBbs/7bOAkp7Tlr8QEr9scgeyP82jFAwVk72/uQyCYQ/KkT9jbtysT4uuv5tmx0N9M6G/yVRcskv54D9ONY3BDE2Mv/+Pqa0aBGY/K+ghhU9zs79hkaBiHvZ/v8eA9uSH97C/tOhvXYBRg797Ax2wh/7FP6uR1uEXiq0/z9/LMW+soj8TI7h76U6PPylAJLmkiqI/V9YFcvJagz//1ewfm52xP2evku9iMsI/HkWQnUQTlD+qqLMgjjmqvxLTmjPzfsM/aErgmnmgqr/d5hwDypmCP+iMM8eFFnS/wdnbcaV5rr9/8Sq5LQvQPzXHPP/LE6+/oRT31a2TvT+vR7/qa2OgvwP6LArcw6M/29f2do+pl7/8I5VU2urIP6sPt1/erKG/U3HXNElOtr/R4L0VsZHAP+cK7rk51aY/jyrgP5w1uL9BQk5dlo6zP37+cY2jxHi/31VQHklhej8gYY6ZqGmjv0x4WVs7mnQ/1PF6hR3EtD+RXA96QbWfP+4SufM8aLg/bYytCYJBxD8xoMv40CtrPy/FtprU+LQ/K/LvilRzob83UE1YTXiev2oT65MAOsA/Y1ot47hjqr8qRQPd2Xhyv1Xm2Gs16bI/k549epHTsD/lCoShqxOsP7jfFxaCM5C/3J0gajtDtD/MNNc1BAnZP4YddaqghYu/gPhX8Biocr/7jO0Lc1+fv7+C5nsaPYg/0DdGL0Czo79A+XivrUWjv5uhFC9VE3q/08grLcFSrL/4PtKKynRJP2pfWxznCX4/IBHJ94wJkb+I4eSD246TP/moc+yKT5E/N41r/43Mbr/HrI76C8ydv6DCtYp8iJA/2ApGPjDdkL+QRZ0tuh62vypFlW03jY2/Wnl8u4jjrj+TKE0N/G2vP+WTN9hP7Ka/lr5EcBsPwj8q3MhS33ePv/f6tur5g7w/XGcF3QkeiD9wacg10NmMP6kGv8ypx6c/hdQEJ1likz8Vl47G17uhP+Qa7XzfLpK/VcVl2piFqT/WNthfbOnCP8zk0V2gPUi/h8RbSKdQnz+SOYw1x6qlv+if5f2kR+M/+wQJq6h1b7+nkDnGJEGOP8Ftltc5GcI/No0y+BsblD/4EKfxehmWP0fQKsXytqk/I6fo6Scvnj8LdQKJG52gv6CeFYmbIIc/CHVUvD5hib/Enxi4+Zmpv2vKGYLPnpc/GHqbG3m5oD8ZtAv1NM+wP84vHSWXKbI/UrOJRA4KxT9+/cYIppGwP/NYnDsML+I/gRNICCZWoD++kj/pWeyDv59rLkHG9qc/FHAw6MY9rj9ERYV/ePasv223gTsc3uc/vgo3CALD4j+sA5jJOpeivwG86Jlp6KK/RapIHemTcr8+Bz99l6qYP8T5fgpHBeI/yQhP7BF7nj+d4jrpA1ywv1yN15MLtJu/C4MiubLMoL+e6HsJqhCVv6Ebk7D6m6y/KjAn8Rn+sD/D24grdiCbP9rtMKsEcp6/6rf2tvIunz+CYNMXjHviP0cs59FZbbI/bpsm6Hvvnb8CjiWMHNWQv/tmqmdKO4A/99FnyfiYrb9toS8/+T6HPwZoWGKnHIm/4FAgHtiAlr8Er8jaWMiBP9Jd/PnEMLw/KU8dBl0Imb//IRjioU67P171M3TgLKW/GvfEKKRQ2D/hm0qP/sGYv+JvqegzUaw/0KaZLUwLwj81gBW7CqSXv9uqW94gpJG/KZFTQCb6vT/lipj7H0+3v7cb2lG+2Zi/Pp6Z0vmLwT9WJphX7CCiv1MZvxslgqW/RaAH67Gho78DzKfDLCu6P8xiWaeZFJ6/PtXsuUKfnL+6EDnAMfy1P+J+lagKCqM/tQwnX78prb8krT1En92ov+mKU+jTnKo/n6zZ0JiTnj800wyncim2P7uNSPayU6k/OplUEsNXrr92q61wg3Wzv+oCK0LPFZo/jBosvKubZL8fOKwvM/GMv/FNSw7iV4g/mlroRtssvD+iEagHHg6hP1zavPdN54Q/HH7JN4Qjor9/htF8TlyZv+UlyQUELMQ/bg55ScoQqj8LzLcce+eOP1zEiLFF/pg/PNlHmtkmob9Hiw4+G7igv9HGi9fphH8/HAbmuXJRyT8X7BzP+//jPyHGcVdfFOE/qfmUvZx9iz+6VqKJpIPhP4ntsCiTD7E/IwO2mewHtT95P1j0c2CqP/c7jvLLvcI/GtfesIhloz/L7ELBTVoCP589gn3N9Nc/96WXrxT0tz9Ocf04kaKFP+4jskbFYkA/lHs7h20DWD+dH1IOGHniP10v2oan02s//5Hph2FXpb9UP5RiAxi1vzPSrvYz7rK/sVgp9/bvrT+fCBLXLCiTP6ZKeQ/44ZK/EcyevIwmsT+higEjbfS7P2RWm7kIDb4/a1y6G5lV4j9eL7/wHS+XP2E3C3B8zY+/DimYY3ZLqz9Q2+4HXVSUv2z/KUiWQYq/y+46+CwsjT904cDV95a2v32YCq+X37W/vtUJpVmNQj8qMOMwBI7iP7a2c5HykLw/1sE4kK18gT+8EiGlyai5P1LZQkv7oaE/GPJgou/vkb9vwOA3O+iKvxTW31NISqO/m/rLmsdxhz/6YIGpRrzmP5npjdoPR66/ObhwN7mItb9yS+JmLTzgP37mNEN8GMU/4mJ5abMFqL8eT5Y6MrWdv/sOY0DBBbk/uifbzwZm0j94ZV81reKsv7j/OuecwJe/GZJlYbIFir8btrS1d07kPwTlNExoRpi/J0Z2W2EksT//YKZQ9zjBP13oMIZxPGu/jjX2k8yasT+dgivpCXeNP03oONyAm5O/JLdWUfe7p78jx2p43ISNP7y8B1/ai6o/Gnu44poTjD/LI8lc912GPzwN32X/OXO/xrOuM57Xnj+w7zzWzC2gP9TSNIPYUcI/csbw2++Lmj+xvMF/g76nP1jmbwvLAYc/bFyE590AtT8zVMHsju+bP+M9GVnizKW/Jz6brdN0hb+OXZPU1DOyvyf79UdLoaO/1FdOCt84sT9f7dFO1qTJP1VRdznPrOE/oGmT468XiD8Orq3XK5xvP1v7LSKL/Z6/kcSObWkmnT9QmbuZG1arP4EmIb448qK/S3hawW68oz+0WSIk57Wsv96HN37tgZw/z5gfeOc5e78iEqDQsdmRv4NjQIYFwXo/WgL6iYjkoz+Vp9EORXeWP6/jeh8jio4/wPapLPxRsz+tJUZLN3RDv6e/tlGNeIw/9sH7Cx9/rT+WdgceG8+RP6Crnv8CX9Q/a97Cdv3MtD8MaVtGq5+zP5D1zvdw3sI/xfUXLfnDqj9QGVKVr6ZlP+m5jR1zJ6k/VmERq/oyrz8RlrvfLAejP6RWlaoi7qe/lZK7xM4XpL/Kasq/+yWlv/Tjx8ejNbU/EpgFotYRdr+3ooIeHxajP8eG4VuUBbc/+6gLGb7YxD9cqQ/ajW6hv5DrPvnlL2C/FnPtSLjkrj9vt55ok8+EP5ywQYVMDqg/VHt+RJDfsj+SytWryWLWP3qO6jPzgJW/zBtp6SCotz8aHyTmI2yVv/0e/tSmfIg/+m9RxiNElz+v90dyzhigvxOBDB8+d5G/MxeFYs3Qor8h0UA1GjOwP9COi3CQx5w/VCw+j3tZrL8CAHLTJ5+hvylrYOoSRHq/FhugSuLlcz84TB/bRXCbv54fANtlTsA/MiwIpbm3qD8bjzwYgimdvyYGgqPMFrI/9NQYwqNJpj9iPgnoYrp+v/rpc4aJq4G/XJ2CIdHRsj+OmRc+ZY65P1D+cuoBfqe/2NOGgAqasD+UY3GUdoSav3/Qo4GGybM/PaA6H5Dc5T/BSzG518yjv1eGDCLLoeM/jdQSuXcRfb9bJD2PuHa0P09YYIlPq5S/45RUOF0wlL8XsA/K3JytvyQPGRhg37E/3uGSvpzBqr+J3tDp9rSjvwQdd2p9cqa/n7xJRkvNnD+nfsmqLtupv95GdLXAirc/b4iHzFZ2nD/PWQICPomLv3WuRpoJ56G/W2XXoVxFeb+JmDrzxcOKv+7uqlovtZU/YA23MUuJgT9WdABoIKV9v8MtuI82X5K/V8IuMW0I5D+Nu4rd8XaUv5zxldN4LKI/igOG2tCIhL9HxVeVGPRyP1lwmDYn31o/sBg8aGi7vD/EK8GxbZegvxZCfGpRz4s/LOh1iVOXoz8u9rnT2ox/P02r1X3C4KU/JJB9l2HMmr9US4vl8/2hv13zwj91fuc/FoiigdMSq798VDO6/Qyov/fkDWrIn7E/vR+4REGl4z9VrUqcQ6ipPzRuE0ACWp4/sTFFShTtpb9UE2Ma+3iuv1Y++qg9FKW/QoXuMcdkkD85tK0CGkiwP0+N8G0LL4W/Kg8BoYt1eL83bJZCrJaEP5WBkN25tKE/hGBVXQVBqz8xZ/akKnh6P6AT5n2Hj7k/T+8gF6L7hj+qKrr1IvW2P1/HFoWri6Q/gWABPNctor9I1tctU1mmPx+fjazJuIs/bdLx3eA5UL9XrDJytEGlPy4N+isIK6S/+9mJikxujz9pfVAYpNZ9v1NmQniShni/ByKcew8Vlb8VJ+AJa4ygv6vJ/K5Q7JQ/P/8g1qJgoD+iT+YWCpdwv/m1vF3KKqG/x7vq6fMNwT+LwE5E7Y+wP5Y3yG1ZH4q/DSHUEoKWq7+aT1/57JfBP9kOFi1Q+Ik/AA66j+am3D9qMquyaSegPy80SNbCIJo/AoBuTxU9qj9tGDl7wiS+P10+mf+wwa4/UgWH7CcMpD/M6ajNpbi4P8GMRAD6TZw/Hgt/Cu8ymT8b1kz9jo/iPyhe/nPSeLq/t2MxDFuVfL/tqlFbWZu1vxNLyF9AcaK/xf832IpDwT+v98IxJuW8P4kbdCbUBr0/6CKxnM7giT9o0ANhri++P6uJ6pIXepI/XIZTNE8dhr+oTwLv9xSVP3mvaztWU5U/WmcvlMjvsL/wBbKh60ngP03mwQKP3Z6/DjQy9xcbq79yWOELleChP3OeOugMRZG/x+2DTFewiz9H1KMXhJiQP/Kf1/CzMH2/gfVD9DKVzD+Djb78XLiAP/uWjG8evpK/YXFTyQ8Ruz9gb0bYSU+ZP3WuhWUrj74/Lh0GzqEBpj8oDCUC//LDP5sGz3ybSKG/DS6zxZwRir/dODgpw/S8P3DAaB+bE0q/+s5GVSmknT9CXCIb05i3v22METZ7v30/Plw6GwEuuz81U+1UQRmfP5ohdSk1M46/1+tS3SX4rT/uTU2EnuDBP4Y+S+ASYLo/yFROmsdft7/BF4Xa1CN3v/0OmxtxuuM/EapZJLa5nj+c22L+mUt8vxPMOtKUwaS/MDV65lcJpL/dvNsY2Farv3isJLhVWtY/Hj9zNcKisL+qg1dcaY+wP95AUgi6zbM/1vdyoFrLrz/dK7k8iVCaP7g4o0bUeLA/ANZrPvXYsD8HoGam8K2JP5ONoL3k5JM/Eibifjk6rD+i3HE70bKHv5tUrmySD94/KKil1G1Itj/tqrjrehXAP2og3F03kVo/RXMw2uczY7+SgQkT31KfP2eYRe7jtYK/XDiQjH6C5z/XioEE0jXAP2tr2WINIH6/EKEjMqkzgT93oKaQ97qvP18Vh76cdKQ/1vcRbfQdtj/wIt7NFl+HvxLqgGfFyZk/FS2isDgYvT9kqb8JMEWiP4vKTbfWJ7M/KBl5ffkttj+vgFtLR9azPw8AkSEpyaQ/lHMuzNclh790NY7z7aWlPwZep6kd3Ks/IltRVnSlzT9GgfudG9x7PwJROQ9P86c/UslEw2Ttoz//ZMYsWPSYv1LDWqqxQac/lRbNrSLveD+YR60HdY+RP6x78YyqscC/AXyQgqYkvD8vucOzS3WjP2z/yr9GeKO/UbqNAHSQuj9uyzg2wgG5P9mzm6vTIok/YQAFX5nAhT+qOu4lNne4Pwets1ifFaC/DPHrYqoemz9XXwiVSFyov8OmgWtTB8A/swl+pUmirT8kZ3dUSXW/v/s5sK3POrM/Yoq5JnvPdj8m8P6Q7O92Pxwqzo5OmlS/GC93KojuvD8k7L2eFE28P1Qg0UymcbM/im59OITeVr+1cy6iob+2PwSjGrN7D4Y/oGuujsfftj8Dk31dMJ6Sv/y5yE1W2rU/fRUTqx/8tj8k8Ty8bFGqv1+x9Z2/dMs/mN02cptFg7+11YtE7Ex3P1oeW68p07Q/05wBmpg6u7+zYm2MogOZPxKBKo60/c8/fMlXTCNplj8tpUDRJO/iPzWxN7+NG+c/bwaWFKPqiT8BkrNFGaWJP6QQxe9GDa2/nW1HfbR8oz/A/f1vI9GnP6Z6115i7GK/jSmv+6cSpT+z5DKwwkWyv9ugH+hZZpk/NcFpqAER4z+kjzL63NPDP0TOIOj7fZ0/R14KIloOsj+Czx9O0du1P0ZHPPj7T50/vx7R8kCuqD8yixLEiBbCP6tuSps/yaA/K9amvBCopD8HK88ZBgTVP3SqOD2qtcc/sbE3ZrSDxD8WI3F0Twm1v1vbS7OUprU/zmqieP+gqD8GuQ25zKihvzknXZtwQrM/hp1dd38qsz+u0F3jd3uhv7zrLyZakKc/a/99P2qOnT+uQGhdVuOiv8FHY4IM6LE/CFBSKKbpwj/LHyO6fk+Jv39dPym5tMY/QyzCRYv4qr8ZURJhtsOaP64YrYI+qZe/EvOc1lbEkr+yIWaBA9SZvz4KrTl3FXW/5SUCTmZ8v7+E038TzY+sPyY9fVayvaC/2RPlUJvqgT9wj8krm2+GP0MAugHpyrw/14AeiSH0jr/63hgXt1KeP7WYZrTtvl4/8AtMHCMptL8J70JoEDKYvwVHislHV6I/uypUpy9r4j/zB6ACJ1mzP7w8+8AJ1Xg/lxVR/QZk6D8HUB9rRMm+P2m5tcl0Mpi/pPhKdxFmb7+x5hXNNVSvP8TG93OcPIY/Me3NIPxNiD+w0LWEIQu5P/A6BQaNwWs/hvYLIb2rp7+Ob7B08RCJv26AYaS2iZw/4sm0TYappT9zqaHBBPXSP+pVSgjbDWs/AJr5mjDLpj8GYF5PZSKfvyzjhKXDMJA/WqQWPPiup78NeArHdLvEP+gfMwchGHE/zNE/65cHw7+Fo90g/FuFP9h7+skU/LE/RlWe3KPN4j8GqHf+JS6Bv7Efjys4MKq/th+nHNPtdj8dlKRQn4aqP961ZZ0++MU/GoIukjyKuz8+bifgmQyYP7XD/FoAR5S/vbXJHsIguT9H/pR/LuOrP4QMKAFkcqO/vXNx3TsXWD8/+uWacyynP9plrc1aeKU/DWVqEFJ0iL8IcytSBnmnPxwd5I03a7i/RSt9AGdYij+JfuMdPnikP5Ds82RjOsG/JIxRyRO4uT9xbi6Bvbiwv5ge4/l2Jqy/oE0eh74mjr8yBWm7PIyMP3NMDqrpeLO/2rrPMt4IeL96u//I2g+lP0Vww90mj7k/2KyNILauwT9Y0xq9JOd1P9yUATKbRbG/Q00lN1tdlz8ZZYUgxEOUP8WYAhdO96c/4HV9PzdOlD/WYGVBrOukvzMQXsRei8I/8ox72bKd4z/n2m4IGtm5P4+Fpl5FXHy/xpblpbYBsb901BuHSLq4vzUnJr/jloe/Rdu/CYocxD8KQBUC9/2xPzhDXGLXR5q/ciL5P9xTmT+amSvrJYGBP1k9C1st47q/f2LYcZpDkL+33WV3UZ9fP6FPIp6Vj4M/FpOQ4VIvuT+QeSoraZq0v+zjDEciL2c/nqTirTi6p7/IW9nD7/KjP96kOo2aWH6/8NZcn6QJfz+QAKJO6fvkP/sDTTgnwK6/AFl54vdlrT8qE8B8Fj/nP7IuUUh/OKA/n5mb2tx8mD//OtUuMzObP7oBEeNNxeA/oXiF2YFkrD/iJPOB7GSEP8vOeDK89as/JjuBiDu2lj8q/qLAph2bvyWIKX5oyKe/cuqqqXn5p7+ojE8IvFybP6Inq8mn86I/G2p256S2j79IbVHCThXAP8/iDPKbA74/rkvSSultkr+bTLg+oErgP07jMI8dJbQ/IgSQHG2Dsb8InJKC5Dxdv5ejGP7PULM/KQjAnp8ngD8JHF9Op72vv+wLIzFlGLQ/pMiTrHKcgL8nDZlQPIOVvw5UC2xJOsE/InnC3kEXkz8sgO0ma+ivv5wLokNwHrQ/ENTCiQkGcT9NkTkPKURPv1MkxyJwgK0/QsdI99/FtD/bB8rCG36pP4vmtmS2/LG//sqBubh/lD/yoSqjYwCcP08bqAB+3os/VMCHnDuzqT+yBdWIysygv46eyPtl6MM/E4csfiinkb9tuHgggYGQvwXoRjt8c6k/YzrOVjeFVz/SwxdgFVWYP+eJ9ZblWqs/6QLluOF7+r7Rn77dxHeEP0wCWW0H3Mo/y5vpzKbRo79Y09kty5Gnv1pHm2mw8rc/sm9+Op4+rr98mhk1FNuRP9hqa+eyreI/jmf8b1emuj+e0vsjppadv21Dq7BJdpi/tdkLZPNjdD+VHkGhqkHBPxxgMOhxkZe/cb3RhXhbnT984rMPOdSqv6UWqTvpM4I/DNpZjTZ4lz/0i5A4cPCpP8thK2cDj2m/1KYHiL7Ksz83ZYvuNf5wv2V4/AEzo52/cY/FWNvDRz/fdirz2bCpv0RAOpT1zow/hQ3nlJIRpT+LQq1XNl2oP6DDKEg7FZw/ic6+2XJWMj8yQ3/WiY64PwdheQDvTaY/iwve4MIMqj9TRWEAQEGjv/E+qjvnX7U/3wDE4A5dtT+U2y2RyXy9P/k10VVmLlu/x+UeStWHej82I9AkxSWwP+amiiFbeaG/fejCJfMJoT8Y9zXRuQCrv+9+JFjP4tY/5tkIJ/4ihT/RLtnpy2qtv5xf6HPf/6K/eeRb7S2kdz89yUa+hLySP6vx2nY6rbS/ZPrEeFiEuT9daR0NX+GqP/Zb38qMtYI/nH+VA2kDij/fgdZ2XMKTv5Q4t0hBSsA/rjZyNxCr4z9jQXjE7aVCP0gm50JTh7w/UvD0Mtu9fj9H+kt9z5+iP0g7HhPWIp2/0v5eYNCjnr+G306Vw628v38pgRiPLpK/TbPsoSOim792XUdVbPeUv/zoZSRdd+g/nMQJGJ/7mr87OahNjDFxPzQP7tdbFIO/ZxzEumcGa78=",
          "dtype": "f8"
         },
         "xaxis": "x",
         "y": {
          "bdata": "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",
          "dtype": "f8"
         },
         "yaxis": "y"
        },
        {
         "hovertemplate": "class=3<br>x=%{x}<br>y=%{y}<extra></extra>",
         "legendgroup": "3",
         "marker": {
          "color": "#ab63fa",
          "size": 3,
          "symbol": "x"
         },
         "mode": "markers",
         "name": "3",
         "showlegend": true,
         "textfont": {
          "size": 25
         },
         "type": "scattergl",
         "x": {
          "bdata": "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",
          "dtype": "f8"
         },
         "xaxis": "x",
         "y": {
          "bdata": "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",
          "dtype": "f8"
         },
         "yaxis": "y"
        }
       ],
       "layout": {
        "legend": {
         "title": {
          "text": "class"
         },
         "tracegroupgap": 0
        },
        "template": {
         "data": {
          "bar": [
           {
            "error_x": {
             "color": "#2a3f5f"
            },
            "error_y": {
             "color": "#2a3f5f"
            },
            "marker": {
             "line": {
              "color": "#E5ECF6",
              "width": 0.5
             },
             "pattern": {
              "fillmode": "overlay",
              "size": 10,
              "solidity": 0.2
             }
            },
            "type": "bar"
           }
          ],
          "barpolar": [
           {
            "marker": {
             "line": {
              "color": "#E5ECF6",
              "width": 0.5
             },
             "pattern": {
              "fillmode": "overlay",
              "size": 10,
              "solidity": 0.2
             }
            },
            "type": "barpolar"
           }
          ],
          "carpet": [
           {
            "aaxis": {
             "endlinecolor": "#2a3f5f",
             "gridcolor": "white",
             "linecolor": "white",
             "minorgridcolor": "white",
             "startlinecolor": "#2a3f5f"
            },
            "baxis": {
             "endlinecolor": "#2a3f5f",
             "gridcolor": "white",
             "linecolor": "white",
             "minorgridcolor": "white",
             "startlinecolor": "#2a3f5f"
            },
            "type": "carpet"
           }
          ],
          "choropleth": [
           {
            "colorbar": {
             "outlinewidth": 0,
             "ticks": ""
            },
            "type": "choropleth"
           }
          ],
          "contour": [
           {
            "colorbar": {
             "outlinewidth": 0,
             "ticks": ""
            },
            "colorscale": [
             [
              0,
              "#0d0887"
             ],
             [
              0.1111111111111111,
              "#46039f"
             ],
             [
              0.2222222222222222,
              "#7201a8"
             ],
             [
              0.3333333333333333,
              "#9c179e"
             ],
             [
              0.4444444444444444,
              "#bd3786"
             ],
             [
              0.5555555555555556,
              "#d8576b"
             ],
             [
              0.6666666666666666,
              "#ed7953"
             ],
             [
              0.7777777777777778,
              "#fb9f3a"
             ],
             [
              0.8888888888888888,
              "#fdca26"
             ],
             [
              1,
              "#f0f921"
             ]
            ],
            "type": "contour"
           }
          ],
          "contourcarpet": [
           {
            "colorbar": {
             "outlinewidth": 0,
             "ticks": ""
            },
            "type": "contourcarpet"
           }
          ],
          "heatmap": [
           {
            "colorbar": {
             "outlinewidth": 0,
             "ticks": ""
            },
            "colorscale": [
             [
              0,
              "#0d0887"
             ],
             [
              0.1111111111111111,
              "#46039f"
             ],
             [
              0.2222222222222222,
              "#7201a8"
             ],
             [
              0.3333333333333333,
              "#9c179e"
             ],
             [
              0.4444444444444444,
              "#bd3786"
             ],
             [
              0.5555555555555556,
              "#d8576b"
             ],
             [
              0.6666666666666666,
              "#ed7953"
             ],
             [
              0.7777777777777778,
              "#fb9f3a"
             ],
             [
              0.8888888888888888,
              "#fdca26"
             ],
             [
              1,
              "#f0f921"
             ]
            ],
            "type": "heatmap"
           }
          ],
          "histogram": [
           {
            "marker": {
             "pattern": {
              "fillmode": "overlay",
              "size": 10,
              "solidity": 0.2
             }
            },
            "type": "histogram"
           }
          ],
          "histogram2d": [
           {
            "colorbar": {
             "outlinewidth": 0,
             "ticks": ""
            },
            "colorscale": [
             [
              0,
              "#0d0887"
             ],
             [
              0.1111111111111111,
              "#46039f"
             ],
             [
              0.2222222222222222,
              "#7201a8"
             ],
             [
              0.3333333333333333,
              "#9c179e"
             ],
             [
              0.4444444444444444,
              "#bd3786"
             ],
             [
              0.5555555555555556,
              "#d8576b"
             ],
             [
              0.6666666666666666,
              "#ed7953"
             ],
             [
              0.7777777777777778,
              "#fb9f3a"
             ],
             [
              0.8888888888888888,
              "#fdca26"
             ],
             [
              1,
              "#f0f921"
             ]
            ],
            "type": "histogram2d"
           }
          ],
          "histogram2dcontour": [
           {
            "colorbar": {
             "outlinewidth": 0,
             "ticks": ""
            },
            "colorscale": [
             [
              0,
              "#0d0887"
             ],
             [
              0.1111111111111111,
              "#46039f"
             ],
             [
              0.2222222222222222,
              "#7201a8"
             ],
             [
              0.3333333333333333,
              "#9c179e"
             ],
             [
              0.4444444444444444,
              "#bd3786"
             ],
             [
              0.5555555555555556,
              "#d8576b"
             ],
             [
              0.6666666666666666,
              "#ed7953"
             ],
             [
              0.7777777777777778,
              "#fb9f3a"
             ],
             [
              0.8888888888888888,
              "#fdca26"
             ],
             [
              1,
              "#f0f921"
             ]
            ],
            "type": "histogram2dcontour"
           }
          ],
          "mesh3d": [
           {
            "colorbar": {
             "outlinewidth": 0,
             "ticks": ""
            },
            "type": "mesh3d"
           }
          ],
          "parcoords": [
           {
            "line": {
             "colorbar": {
              "outlinewidth": 0,
              "ticks": ""
             }
            },
            "type": "parcoords"
           }
          ],
          "pie": [
           {
            "automargin": true,
            "type": "pie"
           }
          ],
          "scatter": [
           {
            "fillpattern": {
             "fillmode": "overlay",
             "size": 10,
             "solidity": 0.2
            },
            "type": "scatter"
           }
          ],
          "scatter3d": [
           {
            "line": {
             "colorbar": {
              "outlinewidth": 0,
              "ticks": ""
             }
            },
            "marker": {
             "colorbar": {
              "outlinewidth": 0,
              "ticks": ""
             }
            },
            "type": "scatter3d"
           }
          ],
          "scattercarpet": [
           {
            "marker": {
             "colorbar": {
              "outlinewidth": 0,
              "ticks": ""
             }
            },
            "type": "scattercarpet"
           }
          ],
          "scattergeo": [
           {
            "marker": {
             "colorbar": {
              "outlinewidth": 0,
              "ticks": ""
             }
            },
            "type": "scattergeo"
           }
          ],
          "scattergl": [
           {
            "marker": {
             "colorbar": {
              "outlinewidth": 0,
              "ticks": ""
             }
            },
            "type": "scattergl"
           }
          ],
          "scattermap": [
           {
            "marker": {
             "colorbar": {
              "outlinewidth": 0,
              "ticks": ""
             }
            },
            "type": "scattermap"
           }
          ],
          "scattermapbox": [
           {
            "marker": {
             "colorbar": {
              "outlinewidth": 0,
              "ticks": ""
             }
            },
            "type": "scattermapbox"
           }
          ],
          "scatterpolar": [
           {
            "marker": {
             "colorbar": {
              "outlinewidth": 0,
              "ticks": ""
             }
            },
            "type": "scatterpolar"
           }
          ],
          "scatterpolargl": [
           {
            "marker": {
             "colorbar": {
              "outlinewidth": 0,
              "ticks": ""
             }
            },
            "type": "scatterpolargl"
           }
          ],
          "scatterternary": [
           {
            "marker": {
             "colorbar": {
              "outlinewidth": 0,
              "ticks": ""
             }
            },
            "type": "scatterternary"
           }
          ],
          "surface": [
           {
            "colorbar": {
             "outlinewidth": 0,
             "ticks": ""
            },
            "colorscale": [
             [
              0,
              "#0d0887"
             ],
             [
              0.1111111111111111,
              "#46039f"
             ],
             [
              0.2222222222222222,
              "#7201a8"
             ],
             [
              0.3333333333333333,
              "#9c179e"
             ],
             [
              0.4444444444444444,
              "#bd3786"
             ],
             [
              0.5555555555555556,
              "#d8576b"
             ],
             [
              0.6666666666666666,
              "#ed7953"
             ],
             [
              0.7777777777777778,
              "#fb9f3a"
             ],
             [
              0.8888888888888888,
              "#fdca26"
             ],
             [
              1,
              "#f0f921"
             ]
            ],
            "type": "surface"
           }
          ],
          "table": [
           {
            "cells": {
             "fill": {
              "color": "#EBF0F8"
             },
             "line": {
              "color": "white"
             }
            },
            "header": {
             "fill": {
              "color": "#C8D4E3"
             },
             "line": {
              "color": "white"
             }
            },
            "type": "table"
           }
          ]
         },
         "layout": {
          "annotationdefaults": {
           "arrowcolor": "#2a3f5f",
           "arrowhead": 0,
           "arrowwidth": 1
          },
          "autotypenumbers": "strict",
          "coloraxis": {
           "colorbar": {
            "outlinewidth": 0,
            "ticks": ""
           }
          },
          "colorscale": {
           "diverging": [
            [
             0,
             "#8e0152"
            ],
            [
             0.1,
             "#c51b7d"
            ],
            [
             0.2,
             "#de77ae"
            ],
            [
             0.3,
             "#f1b6da"
            ],
            [
             0.4,
             "#fde0ef"
            ],
            [
             0.5,
             "#f7f7f7"
            ],
            [
             0.6,
             "#e6f5d0"
            ],
            [
             0.7,
             "#b8e186"
            ],
            [
             0.8,
             "#7fbc41"
            ],
            [
             0.9,
             "#4d9221"
            ],
            [
             1,
             "#276419"
            ]
           ],
           "sequential": [
            [
             0,
             "#0d0887"
            ],
            [
             0.1111111111111111,
             "#46039f"
            ],
            [
             0.2222222222222222,
             "#7201a8"
            ],
            [
             0.3333333333333333,
             "#9c179e"
            ],
            [
             0.4444444444444444,
             "#bd3786"
            ],
            [
             0.5555555555555556,
             "#d8576b"
            ],
            [
             0.6666666666666666,
             "#ed7953"
            ],
            [
             0.7777777777777778,
             "#fb9f3a"
            ],
            [
             0.8888888888888888,
             "#fdca26"
            ],
            [
             1,
             "#f0f921"
            ]
           ],
           "sequentialminus": [
            [
             0,
             "#0d0887"
            ],
            [
             0.1111111111111111,
             "#46039f"
            ],
            [
             0.2222222222222222,
             "#7201a8"
            ],
            [
             0.3333333333333333,
             "#9c179e"
            ],
            [
             0.4444444444444444,
             "#bd3786"
            ],
            [
             0.5555555555555556,
             "#d8576b"
            ],
            [
             0.6666666666666666,
             "#ed7953"
            ],
            [
             0.7777777777777778,
             "#fb9f3a"
            ],
            [
             0.8888888888888888,
             "#fdca26"
            ],
            [
             1,
             "#f0f921"
            ]
           ]
          },
          "colorway": [
           "#636efa",
           "#EF553B",
           "#00cc96",
           "#ab63fa",
           "#FFA15A",
           "#19d3f3",
           "#FF6692",
           "#B6E880",
           "#FF97FF",
           "#FECB52"
          ],
          "font": {
           "color": "#2a3f5f"
          },
          "geo": {
           "bgcolor": "white",
           "lakecolor": "white",
           "landcolor": "#E5ECF6",
           "showlakes": true,
           "showland": true,
           "subunitcolor": "white"
          },
          "hoverlabel": {
           "align": "left"
          },
          "hovermode": "closest",
          "mapbox": {
           "style": "light"
          },
          "paper_bgcolor": "white",
          "plot_bgcolor": "#E5ECF6",
          "polar": {
           "angularaxis": {
            "gridcolor": "white",
            "linecolor": "white",
            "ticks": ""
           },
           "bgcolor": "#E5ECF6",
           "radialaxis": {
            "gridcolor": "white",
            "linecolor": "white",
            "ticks": ""
           }
          },
          "scene": {
           "xaxis": {
            "backgroundcolor": "#E5ECF6",
            "gridcolor": "white",
            "gridwidth": 2,
            "linecolor": "white",
            "showbackground": true,
            "ticks": "",
            "zerolinecolor": "white"
           },
           "yaxis": {
            "backgroundcolor": "#E5ECF6",
            "gridcolor": "white",
            "gridwidth": 2,
            "linecolor": "white",
            "showbackground": true,
            "ticks": "",
            "zerolinecolor": "white"
           },
           "zaxis": {
            "backgroundcolor": "#E5ECF6",
            "gridcolor": "white",
            "gridwidth": 2,
            "linecolor": "white",
            "showbackground": true,
            "ticks": "",
            "zerolinecolor": "white"
           }
          },
          "shapedefaults": {
           "line": {
            "color": "#2a3f5f"
           }
          },
          "ternary": {
           "aaxis": {
            "gridcolor": "white",
            "linecolor": "white",
            "ticks": ""
           },
           "baxis": {
            "gridcolor": "white",
            "linecolor": "white",
            "ticks": ""
           },
           "bgcolor": "#E5ECF6",
           "caxis": {
            "gridcolor": "white",
            "linecolor": "white",
            "ticks": ""
           }
          },
          "title": {
           "x": 0.05
          },
          "xaxis": {
           "automargin": true,
           "gridcolor": "white",
           "linecolor": "white",
           "ticks": "",
           "title": {
            "standoff": 15
           },
           "zerolinecolor": "white",
           "zerolinewidth": 2
          },
          "yaxis": {
           "automargin": true,
           "gridcolor": "white",
           "linecolor": "white",
           "ticks": "",
           "title": {
            "standoff": 15
           },
           "zerolinecolor": "white",
           "zerolinewidth": 2
          }
         }
        },
        "title": {
         "text": "pca reduction technique. Visualization of Image Embeddings"
        },
        "xaxis": {
         "anchor": "y",
         "domain": [
          0,
          1
         ],
         "title": {
          "text": "x"
         }
        },
        "yaxis": {
         "anchor": "x",
         "domain": [
          0,
          1
         ],
         "title": {
          "text": "y"
         }
        }
       }
      }
     },
     "metadata": {},
     "output_type": "display_data"
    },
    {
     "name": "stdout",
     "output_type": "stream",
     "text": [
      "Reduced embeddings from 384 to 2\n"
     ]
    },
    {
     "data": {
      "application/vnd.plotly.v1+json": {
       "config": {
        "plotlyServerURL": "https://plot.ly"
       },
       "data": [
        {
         "hovertemplate": "class=0<br>x=%{x}<br>y=%{y}<extra></extra>",
         "legendgroup": "0",
         "marker": {
          "color": "#636efa",
          "size": 3,
          "symbol": "circle"
         },
         "mode": "markers",
         "name": "0",
         "showlegend": true,
         "textfont": {
          "size": 25
         },
         "type": "scattergl",
         "x": {
          "bdata": "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",
          "dtype": "f4"
         },
         "xaxis": "x",
         "y": {
          "bdata": "chHSvfMdnT6gw6m+hymBvv3Ozr7YkuW9dRXovRm6jb3nDr2+8z+jPuR1IL4ygRK+OXb6vdUweL6ZE4G+bwnMvt+DxL5ccUO+l0KNvlSO97wZVKO+cqbyvnmrl77P2IO+Wd2wvg77gb381lg9bL+Gvml3lb55lqi+hrAavT9snr77Coy+2EbKvmNXrb7m2LI9yu6SvlzLt7wKoFy9lQI7PddAj759G/i9P6nEvjjbj77STya+skCQvl0Tmr4JuRQ8ta7GvsAijr1IEKW+H72OvVTLxT1wkAM7aqLOvR2phL4ul0K+sKfjvf8aor6GxRO9bfDGvsRhTL4CZTm+HbHQvtP4rj5RaUq+RkDQvmTOMz7ANFK+dAqgvl7woLsNbnm+87TcvhEuxz3W+qK+QdzCvoaWmr5FoTI8q/e+viD5t76LS/C+M0NSvgdYjL6pHrq+H99wvp1zir6V1Li+MsBkvUQ7477wfZ6+cHuWvuzmY770B7u++WWJvtxUK76UvU69fiDAvqIB9b2AscG+2uocvo6y1L7rhG2+Imq3vlT9ar52YOG7ZCQ1vlwfgL7Ko6e9b2GYvmncXr5bw72+9qhPveTZrr7Q+Gq9vI6GPdSN0r1q1Vm+UtZgvT9Bs74KNLm+H0dovg0JAzwdLZ6+2jOIvr+jvb7sHY++8GvrvYW2nb3Xrgw+BNJXvr0SR759xdK9K5WHvojnbL7M1j2+fCg/O0AIab7zDLa+hT9wvqyKf74ZIry+N8XXvihToL1yFYy+GDHUvlJxir7zL0G+W3Knvpv9ur6Gkz6+8OFYviAAh76uMiC+mXzrvchiUb7c6KC+ds9fvo9bPb7zKMS+ui2Uvr+Dyr6SYd09sKGTvo1/t76U/ha+PvgKPudXQL6aX1q++1yqvvI2kL5r45W+h3ZRvjDwCr2Y2FK+VntmvgEk176htrC+tX5ivjdI+b4BScS9FMw/vDmoqb5m15++544Hvuqcv75pU5S+K++zvgC/W752I8O+TOxtvpj6gr5aZ1W9DzfIvjHPpL6YMHI9CGrsve3zRb6ikv+9FpNZvlYH6r1+XX6+p4fLvv35o77HxbG+mLD+vRryjL40D2G+1zhLvWA3ob4MSwW+EJ/XvSA4q7yPLlO+r5WhviOixr6um42+UywDvXXXoL6nsZ2++KfGOkJ4zL1O4Si9TmQsvlSgfL56P4U8n2jWvoy2d769rQO+gg8BPmTKbb7qM6K+GCCivjwEzb4IIIG8m6pbvY27wr5wO7G+b8wUvgNXkL7Y3LG+Hn5kvuUmnr6Wq8q+yABOvsD/xDkjHKG+2ud5vpdsGr4LaUW+hO04vg6H17yEFn++Nug9vkbNf77Onqu+ehIJvmFFUL5yvkC+sXzGvjyeab7UqS++zCVHvn/Icr4HqFS+V0+0vmd+lb59cEu+6gWCvoUCvr7PQLi+44KGPulMw779Gry+LgrpvbNzqz4Scai+itcZPjMqlL4hbMG+zye+vo2bq74uBoW+cD0hvp33270yw5e+W6Qcvs+2pL4AaoC+XRSqvi0lj76eh9K+CQk2PYJkkb47B9K+Tpu3vZRktD1VssC+/QWTvsDscr5Oyvq+epzIvr7kBr7PRlq+lQthvv7Xmr70paG+uQ9lvmZJxL5CcuK+YZLCvoCWmj4c9uG+VUWEvqbbFr7O+Me+OUcovmyQIj4luKm+7kDMvl9Whb3YCnq+/M7jPOIyyrwPjpy+K7NNvCNuuL4LZie9dVKBvhyEhb7spZi+eHiavkd8hr74JdW9jbG+vlDgHL3F77q+AqKWvqhTRL7Z7cm+eAkRvuaLQr73IU++o4ubPaQTo75pLyO+duAPvtKElL0Np7q+E8nOvuNB1r6r+7i+QgzsvUGuCT5hFdM9I8a9voM8dr5+oc+7XGuZvt/0qb5um8++89ugvnQFOr7zUra+fp2Pvm3bIL7qlr++UOe1vetu9L4tAi6+ifzWvv5agr6V9qS+Lo2bvkc0nD78aia+CpTuvTtJur4hv9u+FAwdPg6Tgb6DDLq+hz9avqNW2r5rTDg8ciDevNRopb7Hdy0+CjdNvlgwrb7Xxt2+yt/jvVD9fr5XQKS+tbA2vptPl777+6m+ZxuSvpQoH766G5m+xmltvgNCkr4u0Se+6kWMvYF0y76P8yu8lEBqvok3O77LGJW+a7u9vYe+vr7AmGC+ILsEvi04k71vSMG+Lp+gvgJGSL4tnC2+sYnBvgREsb5f6q2+7xiXvo2go757vZq+8fGBvlSaIr7NsYW+JRJgPlG7k77nQZ++cc/DvllkvL5eocq+zNN5u2lAQb5PmrO+/cNRvujpE75qj7i+6BUrvqMPhL7ru82+74WjvoXCNTx87ZO+ayqnvvatsr66LMu9ezWZvQ7+mzz/dhu+5N2bvmOFEb6aBL87NeVVvj98cb761HK+fJskvhz6B748jDO+iy/JvRrER77wvse9UeyzvnBK8rxPH7m+pMHXvm/lpb70May+pcy7vkG5sb7DWOW+OLe0vSDler5ipYe+CoYivgZVir5RzbO+H9D8vXLki76K6ue9M/DgvnVXhr41R7y+knmtvnq8yb2mgH++49WjvgnWG750H3W+Yad0vhbNojzSjte+NXuFvguZor7Et7W9OCfDvtJ8sb7oCB+9qHmrvhGb1L7Aq8G+O7CdPSWhrL6na8S+iZCZvnKrT772CdG+xZlpvuDbir4oHZ2+mLpwPdLoXL0qzeW+S2STvqRRzb6YrSO+IEhtvgpxLb5MqkA+AZK5vq7VeL6EcM2+CQKqvuovE70Q9ZG9oLSFvnlgpb4WBJ6+QaCwvmIHYL6LXqS98fPfvlhEuL7gc6C+TMjsvqe4ub6k6be9bf49vi9Asr6QOQm+E1qRvqCGe77SCKq+WtEyvbblS75sWnG+ZnPRvUwHfz0r/6i+Y5PUvtdCub4t+8m+gnAvvmNttb55BTC+Jyymvjy8Hb2IaxU+4dC4vpsAgr70OSu+OPCvvZY1Db73CqS+mm1hvnoPpb51/9q+/pXVvtFhvr4BAaU+he3Lvji5AT1DhHi+qEovvktto77RB6q+hgKgvcGEQ77j3d2+W62FvT7N7buXGFC+MtE6PQdEwL6uLdC+u9C2vvbNVb6aSYG+bV82vl2yi76sOAI+O92Ovn5k47sozt+9xZXtvmY/3r47y6a+LKqMvCh9hb6slMC+9BUcPd06S74oQgM+LQZRvqun4r7/1LK+6GNDvgf4vb58NoS+2k90vn+vkr7FqXa8ZwrVvq6For2nYpC++/rNviRQq77uRVa9kxSPviPAir5vnAa+rh9TvquFur7DSoK9qCJOvt2K3r0tZhm+RhtcvlZl1r0RTbO+1HW1vrqUSr2TWK2+1xLAvssaVL5LhSS+szAGvie/qL7vrdq+x8nYvmogxr0+q4i+8IFCvvHNn77B4c2+ap6wvk+Bz74Yxti9/jeuPXsSjj4wsD++f7m/vg2RzL7aBEK+9s9svtftDb6EqHO9pdmjvsZFd7741HC+n+movkMmwr5gczi+ucJxvvCaYb7SgR6+bhkgvu4+jb7APLa++VOVvfvLODzHdca+sMm/vnl7ar4yD16+m2rAvjAQIb5Dmby+b6U3PgMDnb7uzAa+40idvnEVh74ADcu+1FZkvuKshr40uBa+N7TyvU5xob0XqJy+ycrCvkTXlL5U2dq+p0y/viDsnL5l14w9oJFMvhO08L51WrC+XR24vlxlCr443iE+QZXJvksuUb7OEce+YVqhvuiZzL5GG4a+BSCjvsI6pL5nB5W+x4/FvsNAFb7IqSm+H+9qvrWGt74esTa+8VOevmCyAL/m8lq+Z/ervkpoBD4ljZe+FIUzO9jarr4qNr++dCcjvq/WiL7Yt3e+QjdmvnE4x75Oj7W+4sOtvmhpPb65R8++gT2evvgnRjvT8s2+rdbovvM3Mb54h4u9w+LSvrArtL6JLJC+mD7HvX041r7iBYK+iMl1vfplUL79qKm9HVnmvpFGFr4j7ZO+AcYfvj7aor6RnRC+BaGsvoN3jr5VWwI+0t8dvrC8P74wJ/S92vF3vuT70L0v/J6+aYAAvnXAmL45rZG+ZW+3voqSXr40M4i+Z7DFvqsf2r6AcMi9Xx67vqN7i76J/8O+46uFvvEqyr5ip5q+0m7YvfJOzL5Kn4W+ZkajvmLS3b164m++31G+vhA0j71Qqnc9Q/TOvk2pv769xre+e3LUvnPkk75R2pK+32dYvo+/iL5bDt+9JzQTvoYoAz6iFTS+Ls2ZvvDJ4b2d4Ma+XFo5vqhqab5BbXy+YBpXvnADFb7wlIa+xBqVvkfYlr5PApG9t6mdvmD3iD2QKkC+C96rvlJhtr0fcM6+S9PUvg6Far658+C+RJO9vqmnz77e/zS+iLUfvvL7cj2TesC+IFLDvkElqr5rQOW+RpGMvrg3Kru+vCm+4Y1uvRfp0b6eK769sBlLvirQrj15yOC+TerovnCVOr7ZGMW+mJkevtmCjb7hNx++E2OavoMLKb6qS/+9wWMRvl0Rr74qj0i+voBQvXhbsL7Mk7a+WbGQvv0UGL4UBiW+L7pMvZ31pb4wjt69G5K6vhaJxr3CGDq9WhmwvhYMwL692rG9rrXzvEwsbr5Dv5e+7+qgvrs8mb5bO7y+FuWHvrBIAb4aw56+Kx+MvvctVr5NUFG+ZdgFvFuZhL5Fzca+yxpyvi7ZTr5/Ydu+hY7Cvtnwqb7HG4C++WHavUU5w74+pEm+BUWZvjbvp74wYnO+TCJuvqX8m77s5nG+H+GxvjIfDr51+n6+roE6vaS6wb4yRhW+SiFfvgOhpL7+q52+9We1vk8is74ik0y+avcCvwjRcL4JMBC+Ifzbvlt9ET5zkqe+iqYhvhg4FL4VIMO+qI2kvmu+jL70eTa9Rlkyvuz9PL2y3fC9EscBvqR0W73jsKm+ecHNvnkrCj5KixS+V9EAvjdsNT0Lm5K+hpHsvQBiZr6Gt4W+Jr1BvqZXnL1r1pe+LEttvm9Tvr5k5DE9atxQvjF+jL6q6J++0anbvvJon758bLm+5X/BvkpGir7KwGO+SGtEvmNQ176HCrK+EMTCvt0twb5Tk6m+xHyVvsRavj0W87C+IOkLvu4uk75hW5a+JMl+vi66Jb6lJIi+RIlAvlt6d74bCse+BHqHPAaXMr7Fzp8+kTrDvq5/F74Gaku+Fw3pvl9Umb7sh5q+GeXGvozZv744vBu+ieQvvWv+xr7fxK6+CnxlvvSzRr7LFKu+BzaavkP3n74xisu+791nvmv6CL4Vqam+Ou9zvoajvz1unb69UxeHPcn4lb7lv4S+Kyn3vQ==",
          "dtype": "f4"
         },
         "yaxis": "y"
        },
        {
         "hovertemplate": "class=1<br>x=%{x}<br>y=%{y}<extra></extra>",
         "legendgroup": "1",
         "marker": {
          "color": "#EF553B",
          "size": 3,
          "symbol": "diamond"
         },
         "mode": "markers",
         "name": "1",
         "showlegend": true,
         "textfont": {
          "size": 25
         },
         "type": "scattergl",
         "x": {
          "bdata": "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",
          "dtype": "f4"
         },
         "xaxis": "x",
         "y": {
          "bdata": "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",
          "dtype": "f4"
         },
         "yaxis": "y"
        },
        {
         "hovertemplate": "class=2<br>x=%{x}<br>y=%{y}<extra></extra>",
         "legendgroup": "2",
         "marker": {
          "color": "#00cc96",
          "size": 3,
          "symbol": "square"
         },
         "mode": "markers",
         "name": "2",
         "showlegend": true,
         "textfont": {
          "size": 25
         },
         "type": "scattergl",
         "x": {
          "bdata": "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",
          "dtype": "f4"
         },
         "xaxis": "x",
         "y": {
          "bdata": "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",
          "dtype": "f4"
         },
         "yaxis": "y"
        },
        {
         "hovertemplate": "class=3<br>x=%{x}<br>y=%{y}<extra></extra>",
         "legendgroup": "3",
         "marker": {
          "color": "#ab63fa",
          "size": 3,
          "symbol": "x"
         },
         "mode": "markers",
         "name": "3",
         "showlegend": true,
         "textfont": {
          "size": 25
         },
         "type": "scattergl",
         "x": {
          "bdata": "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",
          "dtype": "f4"
         },
         "xaxis": "x",
         "y": {
          "bdata": "3OOaPQASxD3BXZs90LZlOqCXBz7kdLo9zsO0PFxB9T0u1R6+IrbMPJY2qDu8mAc97FJxvWptkz0ZsoO9nGBpPUlamT2G7GG9NSkXPoBheT37e1K9SjaBvTPxPD6Cy9E8RPLxPTKZx73JXoY98vSzPWYuTD0lH7g9QmDDPXr4tD2mV/k7uoDIPZV8Xb7KBkg9v1guvWgpMD6Yc489ssDLPTAxBr6IKN48tpGePe2emb3qXqs9dlK+uzLFtTwEjqY9Itf6PZP9Sj26OT+9QLqIvf7VWj1gJYQ8zl0VPSVJKT39+YQ9MTraPRy5cTvFarI9EPoMPTqs3z1o7HY9R5ACvVPSfrwnmV093zZQPXSYEz6LApi99yuxPdJIWT08BmE9dT19vNJA0jyUBVw9nybvPV3CxbvaA3+9jKVCvXGtFb60NYw9FT0cPFaSMD5BO9E9XjnmPWJIjjs4bBW9uw5evujRGT5d7Bq+xroBPQw7uD3+sNg9zGaNPbjS9D0bKGe9RPjiPdkJHTwaKNO8xSEYvSNtlT1yA8g9CNPfPd//q72c4sg9CKqevY8asr05pza977CfPZLUjbz35Ok9J2kBvncfAj2YUw6+yCmyvMn1IT6iXr88QsQSvlubnD3Wyp+7JrbrPRMdjD2bmNw96SB4vuEX0r1lIEw9zPayPc8pHT0iupg971VDvJu2Aj4AB6g8F2ndveI++z0+3a09tArePbSecT2kDB09RgFKvkomHj66obg8i1M2PIYVvj0IGag9MEyBPn7taT1eMJg7gyL0vearYD6o0Q0+RHc2PSrrDD4vFwc82Dc+vudkpD3VeV49jJRoPVS4BjvKb/U9bcLEPUU9CL4+dQ29rSHfPbOG7j1aXUM9YdqZvamPHTyYuYE9MGK8PRzS4j2yBCc9+JFyvbJstT17byk9YP+UvKG4QjxrSr49EOWfPWr8ND6299U9IA/7Pa7G8Dwo75e8HwSUPfsKNzziaQA92BmdO3HkHD4M7Jk9TDEuPgQn8TwNNLa9yMBQPYLlp7t/dRM+hRV4PHsNLT1t3Js90WVVvCzDUDvYc2U916rRPRU0OjxrGlg8rBWyvanzvj1Dti89VhrGvH5TnL3AeqQ8tOztO0DLuTyYWrQ9Lp3qvTIFRD2YYtI9jA+0PePmFz7QCHq8kOFOvuIzlDz0MhA+rlWGvRRl8z2TOcE9pSvOPcbYa73IBNG7RosRvXndBL0avBI9x6AfPBUv4D2zgxI8yr++PJUNJL0E3sG9hTamPc0itL3wygY+iX9HPeFiHr33ALq9fnwdPsREKzs8IPo96NSuPDR25TxqtTY9Z4mpPb5cMj1EqkC9CDqzPazetT1o3yU70p/UO/IuZz0177Y9Y8uJvSkTJD0eksU9KrbNPaSxHj00De88gVKsPe6zUz4Q53s9avXhvTwifbwR9yA9ESBbvJeazT169z0+lX+mPVLPwj2abZu9goNOvCC2Zz7OqnY9QFKoPRJB6zwTn+29gJxYPX5eKz5smc89l5ozPQg8zzrtSr+9ZxsAvfS5uz07Wxw+mDzHPEqt8T0IeQy+bJSvvWy8n7yxF1S8SAnDPeKNNz3KuYO9nK0yPqhq7TpEEsY8dS4VPkDVpj0/VQU+AJUDPdhT7z1ygaU9QioTvUpbsj3kJUk7oiK4vWsgKz248PY9xJ5qvb9bBj2HTSQ+XFDhPTajAz5Wh7E92l/dPRRSRbuhyBc+ys+nPTrbjrx0Nsu8MKEJPqnIjD2KI/w8CGbLvUS+XL5ed2U9hFHJvSl8vj2kchY+pIOLPWEUML7yzRw9YKq8PXlGMTwG3bc9IJvdPEpX7zvTVLQ9p6oivQADsb3HOAy8zJHVPVL4wDx5WBM9TfGcvGa+qTzXDQE+/vAXvSnEYTze8BK9cFCmPewOrbwxDOo9Wk0RPs6Dgr2/Y4o9NmKCPRNzWbwq6mw9yokLvoPRpD3Bd7E91iKxvaEagD2E0Pq9IKX5PF1PQTzmSYU7lhsVvttuAj3af8K89lHCPQMjqT0PJUk8+BdLvsRmoz2N0jc9gFqzvXBdBT4qqOi9lP0qvF6GsTv6Pdi8kwlbPmgiJz52OeM8Nn/2vK6HMD4KWrE9pNC7PIemDb6ghSW9XLRhPWYXhDzg2OK6l3QRPggp6j02VyE+4bQ+vSdf6T1kiZo99FWOPXSNYT4Xlhk+4OOoPcZYfj2ehyI9vWEIPl6TW77qqcw9sX/DPRBIzjzJlC+8DbMXvZByaLqu6Dk9AgKbvXAPGD4akES9hjTwvES5nT0gdgc+nWY6Pj472jyYGow9cAkqPcl+2L0g1e28rhWGvGDHbD7wwlw91viSvtaORz0fnJM9Pa8IPsQi9r13T4W+O2q0vRaW+T1sGvI9INuDPKiQ4T0xsIw9VMOvPWL3Iz6z+pq9DU2ePadcArzbwNk9B1+iPTaELz30oUE9jvHfPa6KEr0Z2OS9uEcMPgNtNT4Gqa+9PU6evAp/1b1YKaM6qMRYPUcpq714B+g9LhmQPVYfdb0udDk9hzawPZDfBT7R2Jk9mKnxPX5daT2QH6g9y5GmPQmAiL3v9rg9dKbqPUZt2bwfvxC9a1aQvdb3Gr4vq589YQ/lPRsZoj1gyOG9nv0JPjuHET7erKU7wRMLPq49ID4a2rE9Cp+cPb1QI774GwA+BwI7vSZCbD3LhRC+kII2PTYkij2Q6aA6mnsLPlfKBrycWoS9NCzwPdP3iT3uqmm99eF8vZ4oXT2YyXk9hCiRPaxwbz3ioe09DGsTPotr1z0QMOM9MDGzPRhdtrps/mO91jbwPDan/T3BNrG8u6uSPXBsQT3uu6K9YN9BPZuEJL2tnNa99ryuvP6knzx6PUm9aJ1APTYC8D2rZeM9Ez0NPvigX71G+2091khmvTgXcr0SN4o9QW+TveYfkbxAkuY9Sd0gvT0+Dz7YTb49DpFEuzpQ2bsUyem8h2iDvW9zPL304WQ9N9qlvZCU9zx8mIo8dbkSvCFGArycEuQ92FdjPvAnUDrumAK9QPi7PaZ14z3P1wO9/DG8PWdN7D2UkYO8WKuePbh/gz1V6xs+quFxPZvRQ7y6ee893va3vBjh4D3Y+Bk9RZcRPcLkr70qPi09XmqjPZ83Ar1Z3HA8FNwSvbA4+b1ZlxI+4xKKPawfEL42cdU9Lj3YPalCmL2SzT29BRqPvbScIr0AqOO8ulV8PSUJSL3ftRk+aL37vJb0Jb38Z649JgYOvjJ8Dr0FUg08sFq0PTQXYz42hGS9iqFLPYQYE77Ef9I9LusCPkqDfr3iO/47TPAaO9vqlr3Wys28hIXcPExSQT4fsVi9qavDvSbMnz1fdy09qCLjPdk6X70WvjM98pI2vQpShj3/G0E8AKs1Pq7SEz08MhU+04WKvLpi1D1K83g96i49PSdfZbzBoHK9/DQMPuPWKrzc0jA+VWA2PvTmUj7IINE8hsUzPe6SNr1Fe4k9y4+pPQYksbwguW499R4mPP6xCj6S8zo9MMK8vSBCIDoJgsw99MjXPR49nTxykom9nGyrPW69O74aiJ+86qj7PLJA3byOMCe+qNVfPWnr571Pwiy9vLpYPbItJz31ssQ9g+9VPbkIs722uwk9muTQPcrhSz4SMa47MfK/PSZi/T0EcFc9mC+5POPrb7yIfKM9zuI1Pf5uW70+dyw+aBikPJATBj52UWa8Dn6bvOAu3b0t2YE9/J72O/Bnnj0OHh++wr25va+PoT3649i8WNPkPZpw9z0Sqgs+VuKuuywVsT2Schs+kBkFvV5BAD5IPhI+ykB8vTy2gD2ijd49SBN/PZ4CRD15WBo9XxupPRgq4LxZE4I9BFlZvbTrxD33C9g9ojB9vRgooD0FNje+CK89PjMoKr30+1s+C8BPPQZng72pD3+7TVauPULpxTyYHe+9y+rEPRgjZr0A7OW94jQBPoZO7TyFoAM+iQAmPMCx2z3KoMM8f+obvZQK5zxvilW8fl7LO6FrFD4i7E89UGk3PVql6z0GQ+E97KY4PTA4vTzE4qa7VD6HPWzjM77GhPQ9WQS5Pa19Wz0q+n0+dgiKPfRU8DxOdM68g4YAPmrkHj7kfoI9KaWMvV4lBT1i0nS+vuqYPS5f8bva7Pw9LkL6PN4fVT7aiqU9VNxYPe8f0z04Wfw9paECPlSW6r2aRQa9ASIrPjnPGz4wqb29FqQJPazPbbwSajW+8ZVovQ7f6D1KBRU+8nS5O9mo0T29yJQ9PBADPvMBKz78qnC9v7Y1vRfE4b340+E8typcPuY7m7zq1Lg9LrGoPKYfUz6Zmiq9QswFPmVBGj1ectE9I1oDPJlamL1ss3s9jhYUPfiUTT5cLEO9wJwNPeUdKr164tq9+GLBvRX7zj0USqI9UM3cPIj6oLxxKq89PJafPWRkGj5go/Q9w+SUPXkgCz7kw8o9eBUGvkGRkz3sDr49Kr+BPQaHHb7sY+u8I66RPbr1mz0Ekqs9wZwrvgleMT61Ung8wGckvo324L0bcR09Jorruyhd/T3SUrg8s0JhvXQZk71WrBA+JkQSPYcxAj0CizA+DOzqPSDxcTo6iGs9SPTGuvFLGz2HLWE9jX0bPkGZ0D3Kc4I8MhNKviYMiT1W7PA9cywaPoQnOTvGtYA9BVsavhhCqTqefx49uBpGPrYW8by1+oI9sobAPZCF+TtPUHg8y0R8vLWcLz607c49qb8DPcbuRT6U4DW8LM4TvmzYeD1yjlw93jjIvHyUID22a5c8ldhFPdkvBj5c4iq926FEvc4IsL1+wlG+xA+wPNhjOb2jCA89LHTCPML/1z1e6Q4+F4gmvmos1r2ALLI9ZF18PeUJz7302Z09yQdZvBJgaj1SA1A9GOsoPj4xzT1SIQu+wKnFPXQOHz6gu8s9mFjUPOQDpD1I0oQ68s+uPfA41z2O3us9jIN/vYLbNbtL80c8Dj2fvDd45T1E17m9WNnpPW2Qzz1wEK89hvIJPZgI1DxVYwK9AVZ3PFbYyTxp8oI98DouvaHMvz2c+/E9jwKou5f9Abx5/5a8xonmvb4Ksz0foVG8ZfQQPAYmjTwuj/Q7NGYTPX0n0j0g4p09+2cTPvaeDD4sfBE+AkjmvdLMBT3gtF+66h7jvJggvzyInkw+RmC2PfA1jDyZq9K9xKgFPjhhxLx08Zg9hMI3vTD4PT5GPGQ9sopOvoT7gz3IcJy9KKCYvUHWC75yWXe9wsedPa/qa7zUA/g8D4RCPJgpe71KLho9BBnRPUMgALyAFuQ9S1qsPXi8pbxgn8s8CueHPUpAJj6YcuI8O1WZPeDxFjswjNc8FnDMvHj5hT3NA1q8NcxPvg==",
          "dtype": "f4"
         },
         "yaxis": "y"
        }
       ],
       "layout": {
        "legend": {
         "title": {
          "text": "class"
         },
         "tracegroupgap": 0
        },
        "template": {
         "data": {
          "bar": [
           {
            "error_x": {
             "color": "#2a3f5f"
            },
            "error_y": {
             "color": "#2a3f5f"
            },
            "marker": {
             "line": {
              "color": "#E5ECF6",
              "width": 0.5
             },
             "pattern": {
              "fillmode": "overlay",
              "size": 10,
              "solidity": 0.2
             }
            },
            "type": "bar"
           }
          ],
          "barpolar": [
           {
            "marker": {
             "line": {
              "color": "#E5ECF6",
              "width": 0.5
             },
             "pattern": {
              "fillmode": "overlay",
              "size": 10,
              "solidity": 0.2
             }
            },
            "type": "barpolar"
           }
          ],
          "carpet": [
           {
            "aaxis": {
             "endlinecolor": "#2a3f5f",
             "gridcolor": "white",
             "linecolor": "white",
             "minorgridcolor": "white",
             "startlinecolor": "#2a3f5f"
            },
            "baxis": {
             "endlinecolor": "#2a3f5f",
             "gridcolor": "white",
             "linecolor": "white",
             "minorgridcolor": "white",
             "startlinecolor": "#2a3f5f"
            },
            "type": "carpet"
           }
          ],
          "choropleth": [
           {
            "colorbar": {
             "outlinewidth": 0,
             "ticks": ""
            },
            "type": "choropleth"
           }
          ],
          "contour": [
           {
            "colorbar": {
             "outlinewidth": 0,
             "ticks": ""
            },
            "colorscale": [
             [
              0,
              "#0d0887"
             ],
             [
              0.1111111111111111,
              "#46039f"
             ],
             [
              0.2222222222222222,
              "#7201a8"
             ],
             [
              0.3333333333333333,
              "#9c179e"
             ],
             [
              0.4444444444444444,
              "#bd3786"
             ],
             [
              0.5555555555555556,
              "#d8576b"
             ],
             [
              0.6666666666666666,
              "#ed7953"
             ],
             [
              0.7777777777777778,
              "#fb9f3a"
             ],
             [
              0.8888888888888888,
              "#fdca26"
             ],
             [
              1,
              "#f0f921"
             ]
            ],
            "type": "contour"
           }
          ],
          "contourcarpet": [
           {
            "colorbar": {
             "outlinewidth": 0,
             "ticks": ""
            },
            "type": "contourcarpet"
           }
          ],
          "heatmap": [
           {
            "colorbar": {
             "outlinewidth": 0,
             "ticks": ""
            },
            "colorscale": [
             [
              0,
              "#0d0887"
             ],
             [
              0.1111111111111111,
              "#46039f"
             ],
             [
              0.2222222222222222,
              "#7201a8"
             ],
             [
              0.3333333333333333,
              "#9c179e"
             ],
             [
              0.4444444444444444,
              "#bd3786"
             ],
             [
              0.5555555555555556,
              "#d8576b"
             ],
             [
              0.6666666666666666,
              "#ed7953"
             ],
             [
              0.7777777777777778,
              "#fb9f3a"
             ],
             [
              0.8888888888888888,
              "#fdca26"
             ],
             [
              1,
              "#f0f921"
             ]
            ],
            "type": "heatmap"
           }
          ],
          "histogram": [
           {
            "marker": {
             "pattern": {
              "fillmode": "overlay",
              "size": 10,
              "solidity": 0.2
             }
            },
            "type": "histogram"
           }
          ],
          "histogram2d": [
           {
            "colorbar": {
             "outlinewidth": 0,
             "ticks": ""
            },
            "colorscale": [
             [
              0,
              "#0d0887"
             ],
             [
              0.1111111111111111,
              "#46039f"
             ],
             [
              0.2222222222222222,
              "#7201a8"
             ],
             [
              0.3333333333333333,
              "#9c179e"
             ],
             [
              0.4444444444444444,
              "#bd3786"
             ],
             [
              0.5555555555555556,
              "#d8576b"
             ],
             [
              0.6666666666666666,
              "#ed7953"
             ],
             [
              0.7777777777777778,
              "#fb9f3a"
             ],
             [
              0.8888888888888888,
              "#fdca26"
             ],
             [
              1,
              "#f0f921"
             ]
            ],
            "type": "histogram2d"
           }
          ],
          "histogram2dcontour": [
           {
            "colorbar": {
             "outlinewidth": 0,
             "ticks": ""
            },
            "colorscale": [
             [
              0,
              "#0d0887"
             ],
             [
              0.1111111111111111,
              "#46039f"
             ],
             [
              0.2222222222222222,
              "#7201a8"
             ],
             [
              0.3333333333333333,
              "#9c179e"
             ],
             [
              0.4444444444444444,
              "#bd3786"
             ],
             [
              0.5555555555555556,
              "#d8576b"
             ],
             [
              0.6666666666666666,
              "#ed7953"
             ],
             [
              0.7777777777777778,
              "#fb9f3a"
             ],
             [
              0.8888888888888888,
              "#fdca26"
             ],
             [
              1,
              "#f0f921"
             ]
            ],
            "type": "histogram2dcontour"
           }
          ],
          "mesh3d": [
           {
            "colorbar": {
             "outlinewidth": 0,
             "ticks": ""
            },
            "type": "mesh3d"
           }
          ],
          "parcoords": [
           {
            "line": {
             "colorbar": {
              "outlinewidth": 0,
              "ticks": ""
             }
            },
            "type": "parcoords"
           }
          ],
          "pie": [
           {
            "automargin": true,
            "type": "pie"
           }
          ],
          "scatter": [
           {
            "fillpattern": {
             "fillmode": "overlay",
             "size": 10,
             "solidity": 0.2
            },
            "type": "scatter"
           }
          ],
          "scatter3d": [
           {
            "line": {
             "colorbar": {
              "outlinewidth": 0,
              "ticks": ""
             }
            },
            "marker": {
             "colorbar": {
              "outlinewidth": 0,
              "ticks": ""
             }
            },
            "type": "scatter3d"
           }
          ],
          "scattercarpet": [
           {
            "marker": {
             "colorbar": {
              "outlinewidth": 0,
              "ticks": ""
             }
            },
            "type": "scattercarpet"
           }
          ],
          "scattergeo": [
           {
            "marker": {
             "colorbar": {
              "outlinewidth": 0,
              "ticks": ""
             }
            },
            "type": "scattergeo"
           }
          ],
          "scattergl": [
           {
            "marker": {
             "colorbar": {
              "outlinewidth": 0,
              "ticks": ""
             }
            },
            "type": "scattergl"
           }
          ],
          "scattermap": [
           {
            "marker": {
             "colorbar": {
              "outlinewidth": 0,
              "ticks": ""
             }
            },
            "type": "scattermap"
           }
          ],
          "scattermapbox": [
           {
            "marker": {
             "colorbar": {
              "outlinewidth": 0,
              "ticks": ""
             }
            },
            "type": "scattermapbox"
           }
          ],
          "scatterpolar": [
           {
            "marker": {
             "colorbar": {
              "outlinewidth": 0,
              "ticks": ""
             }
            },
            "type": "scatterpolar"
           }
          ],
          "scatterpolargl": [
           {
            "marker": {
             "colorbar": {
              "outlinewidth": 0,
              "ticks": ""
             }
            },
            "type": "scatterpolargl"
           }
          ],
          "scatterternary": [
           {
            "marker": {
             "colorbar": {
              "outlinewidth": 0,
              "ticks": ""
             }
            },
            "type": "scatterternary"
           }
          ],
          "surface": [
           {
            "colorbar": {
             "outlinewidth": 0,
             "ticks": ""
            },
            "colorscale": [
             [
              0,
              "#0d0887"
             ],
             [
              0.1111111111111111,
              "#46039f"
             ],
             [
              0.2222222222222222,
              "#7201a8"
             ],
             [
              0.3333333333333333,
              "#9c179e"
             ],
             [
              0.4444444444444444,
              "#bd3786"
             ],
             [
              0.5555555555555556,
              "#d8576b"
             ],
             [
              0.6666666666666666,
              "#ed7953"
             ],
             [
              0.7777777777777778,
              "#fb9f3a"
             ],
             [
              0.8888888888888888,
              "#fdca26"
             ],
             [
              1,
              "#f0f921"
             ]
            ],
            "type": "surface"
           }
          ],
          "table": [
           {
            "cells": {
             "fill": {
              "color": "#EBF0F8"
             },
             "line": {
              "color": "white"
             }
            },
            "header": {
             "fill": {
              "color": "#C8D4E3"
             },
             "line": {
              "color": "white"
             }
            },
            "type": "table"
           }
          ]
         },
         "layout": {
          "annotationdefaults": {
           "arrowcolor": "#2a3f5f",
           "arrowhead": 0,
           "arrowwidth": 1
          },
          "autotypenumbers": "strict",
          "coloraxis": {
           "colorbar": {
            "outlinewidth": 0,
            "ticks": ""
           }
          },
          "colorscale": {
           "diverging": [
            [
             0,
             "#8e0152"
            ],
            [
             0.1,
             "#c51b7d"
            ],
            [
             0.2,
             "#de77ae"
            ],
            [
             0.3,
             "#f1b6da"
            ],
            [
             0.4,
             "#fde0ef"
            ],
            [
             0.5,
             "#f7f7f7"
            ],
            [
             0.6,
             "#e6f5d0"
            ],
            [
             0.7,
             "#b8e186"
            ],
            [
             0.8,
             "#7fbc41"
            ],
            [
             0.9,
             "#4d9221"
            ],
            [
             1,
             "#276419"
            ]
           ],
           "sequential": [
            [
             0,
             "#0d0887"
            ],
            [
             0.1111111111111111,
             "#46039f"
            ],
            [
             0.2222222222222222,
             "#7201a8"
            ],
            [
             0.3333333333333333,
             "#9c179e"
            ],
            [
             0.4444444444444444,
             "#bd3786"
            ],
            [
             0.5555555555555556,
             "#d8576b"
            ],
            [
             0.6666666666666666,
             "#ed7953"
            ],
            [
             0.7777777777777778,
             "#fb9f3a"
            ],
            [
             0.8888888888888888,
             "#fdca26"
            ],
            [
             1,
             "#f0f921"
            ]
           ],
           "sequentialminus": [
            [
             0,
             "#0d0887"
            ],
            [
             0.1111111111111111,
             "#46039f"
            ],
            [
             0.2222222222222222,
             "#7201a8"
            ],
            [
             0.3333333333333333,
             "#9c179e"
            ],
            [
             0.4444444444444444,
             "#bd3786"
            ],
            [
             0.5555555555555556,
             "#d8576b"
            ],
            [
             0.6666666666666666,
             "#ed7953"
            ],
            [
             0.7777777777777778,
             "#fb9f3a"
            ],
            [
             0.8888888888888888,
             "#fdca26"
            ],
            [
             1,
             "#f0f921"
            ]
           ]
          },
          "colorway": [
           "#636efa",
           "#EF553B",
           "#00cc96",
           "#ab63fa",
           "#FFA15A",
           "#19d3f3",
           "#FF6692",
           "#B6E880",
           "#FF97FF",
           "#FECB52"
          ],
          "font": {
           "color": "#2a3f5f"
          },
          "geo": {
           "bgcolor": "white",
           "lakecolor": "white",
           "landcolor": "#E5ECF6",
           "showlakes": true,
           "showland": true,
           "subunitcolor": "white"
          },
          "hoverlabel": {
           "align": "left"
          },
          "hovermode": "closest",
          "mapbox": {
           "style": "light"
          },
          "paper_bgcolor": "white",
          "plot_bgcolor": "#E5ECF6",
          "polar": {
           "angularaxis": {
            "gridcolor": "white",
            "linecolor": "white",
            "ticks": ""
           },
           "bgcolor": "#E5ECF6",
           "radialaxis": {
            "gridcolor": "white",
            "linecolor": "white",
            "ticks": ""
           }
          },
          "scene": {
           "xaxis": {
            "backgroundcolor": "#E5ECF6",
            "gridcolor": "white",
            "gridwidth": 2,
            "linecolor": "white",
            "showbackground": true,
            "ticks": "",
            "zerolinecolor": "white"
           },
           "yaxis": {
            "backgroundcolor": "#E5ECF6",
            "gridcolor": "white",
            "gridwidth": 2,
            "linecolor": "white",
            "showbackground": true,
            "ticks": "",
            "zerolinecolor": "white"
           },
           "zaxis": {
            "backgroundcolor": "#E5ECF6",
            "gridcolor": "white",
            "gridwidth": 2,
            "linecolor": "white",
            "showbackground": true,
            "ticks": "",
            "zerolinecolor": "white"
           }
          },
          "shapedefaults": {
           "line": {
            "color": "#2a3f5f"
           }
          },
          "ternary": {
           "aaxis": {
            "gridcolor": "white",
            "linecolor": "white",
            "ticks": ""
           },
           "baxis": {
            "gridcolor": "white",
            "linecolor": "white",
            "ticks": ""
           },
           "bgcolor": "#E5ECF6",
           "caxis": {
            "gridcolor": "white",
            "linecolor": "white",
            "ticks": ""
           }
          },
          "title": {
           "x": 0.05
          },
          "xaxis": {
           "automargin": true,
           "gridcolor": "white",
           "linecolor": "white",
           "ticks": "",
           "title": {
            "standoff": 15
           },
           "zerolinecolor": "white",
           "zerolinewidth": 2
          },
          "yaxis": {
           "automargin": true,
           "gridcolor": "white",
           "linecolor": "white",
           "ticks": "",
           "title": {
            "standoff": 15
           },
           "zerolinecolor": "white",
           "zerolinewidth": 2
          }
         }
        },
        "title": {
         "text": "pca reduction technique. Visualization of Image Embeddings"
        },
        "xaxis": {
         "anchor": "y",
         "domain": [
          0,
          1
         ],
         "title": {
          "text": "x"
         }
        },
        "yaxis": {
         "anchor": "x",
         "domain": [
          0,
          1
         ],
         "title": {
          "text": "y"
         }
        }
       }
      }
     },
     "metadata": {},
     "output_type": "display_data"
    }
   ],
   "source": [
    "# px.scatter(x=X_tfidf_pca[:,0], y=X_tfidf_pca[:,1], color=df[\"label_name\"], title=\"TF-IDF PCA\").show()\n",
    "# px.scatter(x=X_sbert_pca[:,0], y=X_sbert_pca[:,1], color=df[\"label_name\"], title=\"SBERT PCA\").show()\n",
    "plot_embeddings(X_tfidf.toarray(), 0, symbol=\"class\", reduction_techniques=\"pca\", color=\"class\")\n",
    "plot_embeddings(X_sbert, 0, symbol=\"class\", reduction_techniques=\"pca\", color=\"class\")\n"
   ]
  },
  {
   "cell_type": "code",
   "execution_count": null,
   "metadata": {},
   "outputs": [
    {
     "name": "stdout",
     "output_type": "stream",
     "text": [
      "Reduced embeddings from 1000 to 2\n"
     ]
    },
    {
     "data": {
      "application/vnd.plotly.v1+json": {
       "config": {
        "plotlyServerURL": "https://plot.ly"
       },
       "data": [
        {
         "hovertemplate": "class=0<br>x=%{x}<br>y=%{y}<extra></extra>",
         "legendgroup": "0",
         "marker": {
          "color": "#636efa",
          "size": 3,
          "symbol": "circle"
         },
         "mode": "markers",
         "name": "0",
         "showlegend": true,
         "textfont": {
          "size": 25
         },
         "type": "scattergl",
         "x": {
          "bdata": "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",
          "dtype": "f4"
         },
         "xaxis": "x",
         "y": {
          "bdata": "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",
          "dtype": "f4"
         },
         "yaxis": "y"
        },
        {
         "hovertemplate": "class=1<br>x=%{x}<br>y=%{y}<extra></extra>",
         "legendgroup": "1",
         "marker": {
          "color": "#EF553B",
          "size": 3,
          "symbol": "diamond"
         },
         "mode": "markers",
         "name": "1",
         "showlegend": true,
         "textfont": {
          "size": 25
         },
         "type": "scattergl",
         "x": {
          "bdata": "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",
          "dtype": "f4"
         },
         "xaxis": "x",
         "y": {
          "bdata": "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",
          "dtype": "f4"
         },
         "yaxis": "y"
        },
        {
         "hovertemplate": "class=2<br>x=%{x}<br>y=%{y}<extra></extra>",
         "legendgroup": "2",
         "marker": {
          "color": "#00cc96",
          "size": 3,
          "symbol": "square"
         },
         "mode": "markers",
         "name": "2",
         "showlegend": true,
         "textfont": {
          "size": 25
         },
         "type": "scattergl",
         "x": {
          "bdata": "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",
          "dtype": "f4"
         },
         "xaxis": "x",
         "y": {
          "bdata": "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",
          "dtype": "f4"
         },
         "yaxis": "y"
        },
        {
         "hovertemplate": "class=3<br>x=%{x}<br>y=%{y}<extra></extra>",
         "legendgroup": "3",
         "marker": {
          "color": "#ab63fa",
          "size": 3,
          "symbol": "x"
         },
         "mode": "markers",
         "name": "3",
         "showlegend": true,
         "textfont": {
          "size": 25
         },
         "type": "scattergl",
         "x": {
          "bdata": "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",
          "dtype": "f4"
         },
         "xaxis": "x",
         "y": {
          "bdata": "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",
          "dtype": "f4"
         },
         "yaxis": "y"
        }
       ],
       "layout": {
        "legend": {
         "title": {
          "text": "class"
         },
         "tracegroupgap": 0
        },
        "template": {
         "data": {
          "bar": [
           {
            "error_x": {
             "color": "#2a3f5f"
            },
            "error_y": {
             "color": "#2a3f5f"
            },
            "marker": {
             "line": {
              "color": "#E5ECF6",
              "width": 0.5
             },
             "pattern": {
              "fillmode": "overlay",
              "size": 10,
              "solidity": 0.2
             }
            },
            "type": "bar"
           }
          ],
          "barpolar": [
           {
            "marker": {
             "line": {
              "color": "#E5ECF6",
              "width": 0.5
             },
             "pattern": {
              "fillmode": "overlay",
              "size": 10,
              "solidity": 0.2
             }
            },
            "type": "barpolar"
           }
          ],
          "carpet": [
           {
            "aaxis": {
             "endlinecolor": "#2a3f5f",
             "gridcolor": "white",
             "linecolor": "white",
             "minorgridcolor": "white",
             "startlinecolor": "#2a3f5f"
            },
            "baxis": {
             "endlinecolor": "#2a3f5f",
             "gridcolor": "white",
             "linecolor": "white",
             "minorgridcolor": "white",
             "startlinecolor": "#2a3f5f"
            },
            "type": "carpet"
           }
          ],
          "choropleth": [
           {
            "colorbar": {
             "outlinewidth": 0,
             "ticks": ""
            },
            "type": "choropleth"
           }
          ],
          "contour": [
           {
            "colorbar": {
             "outlinewidth": 0,
             "ticks": ""
            },
            "colorscale": [
             [
              0,
              "#0d0887"
             ],
             [
              0.1111111111111111,
              "#46039f"
             ],
             [
              0.2222222222222222,
              "#7201a8"
             ],
             [
              0.3333333333333333,
              "#9c179e"
             ],
             [
              0.4444444444444444,
              "#bd3786"
             ],
             [
              0.5555555555555556,
              "#d8576b"
             ],
             [
              0.6666666666666666,
              "#ed7953"
             ],
             [
              0.7777777777777778,
              "#fb9f3a"
             ],
             [
              0.8888888888888888,
              "#fdca26"
             ],
             [
              1,
              "#f0f921"
             ]
            ],
            "type": "contour"
           }
          ],
          "contourcarpet": [
           {
            "colorbar": {
             "outlinewidth": 0,
             "ticks": ""
            },
            "type": "contourcarpet"
           }
          ],
          "heatmap": [
           {
            "colorbar": {
             "outlinewidth": 0,
             "ticks": ""
            },
            "colorscale": [
             [
              0,
              "#0d0887"
             ],
             [
              0.1111111111111111,
              "#46039f"
             ],
             [
              0.2222222222222222,
              "#7201a8"
             ],
             [
              0.3333333333333333,
              "#9c179e"
             ],
             [
              0.4444444444444444,
              "#bd3786"
             ],
             [
              0.5555555555555556,
              "#d8576b"
             ],
             [
              0.6666666666666666,
              "#ed7953"
             ],
             [
              0.7777777777777778,
              "#fb9f3a"
             ],
             [
              0.8888888888888888,
              "#fdca26"
             ],
             [
              1,
              "#f0f921"
             ]
            ],
            "type": "heatmap"
           }
          ],
          "histogram": [
           {
            "marker": {
             "pattern": {
              "fillmode": "overlay",
              "size": 10,
              "solidity": 0.2
             }
            },
            "type": "histogram"
           }
          ],
          "histogram2d": [
           {
            "colorbar": {
             "outlinewidth": 0,
             "ticks": ""
            },
            "colorscale": [
             [
              0,
              "#0d0887"
             ],
             [
              0.1111111111111111,
              "#46039f"
             ],
             [
              0.2222222222222222,
              "#7201a8"
             ],
             [
              0.3333333333333333,
              "#9c179e"
             ],
             [
              0.4444444444444444,
              "#bd3786"
             ],
             [
              0.5555555555555556,
              "#d8576b"
             ],
             [
              0.6666666666666666,
              "#ed7953"
             ],
             [
              0.7777777777777778,
              "#fb9f3a"
             ],
             [
              0.8888888888888888,
              "#fdca26"
             ],
             [
              1,
              "#f0f921"
             ]
            ],
            "type": "histogram2d"
           }
          ],
          "histogram2dcontour": [
           {
            "colorbar": {
             "outlinewidth": 0,
             "ticks": ""
            },
            "colorscale": [
             [
              0,
              "#0d0887"
             ],
             [
              0.1111111111111111,
              "#46039f"
             ],
             [
              0.2222222222222222,
              "#7201a8"
             ],
             [
              0.3333333333333333,
              "#9c179e"
             ],
             [
              0.4444444444444444,
              "#bd3786"
             ],
             [
              0.5555555555555556,
              "#d8576b"
             ],
             [
              0.6666666666666666,
              "#ed7953"
             ],
             [
              0.7777777777777778,
              "#fb9f3a"
             ],
             [
              0.8888888888888888,
              "#fdca26"
             ],
             [
              1,
              "#f0f921"
             ]
            ],
            "type": "histogram2dcontour"
           }
          ],
          "mesh3d": [
           {
            "colorbar": {
             "outlinewidth": 0,
             "ticks": ""
            },
            "type": "mesh3d"
           }
          ],
          "parcoords": [
           {
            "line": {
             "colorbar": {
              "outlinewidth": 0,
              "ticks": ""
             }
            },
            "type": "parcoords"
           }
          ],
          "pie": [
           {
            "automargin": true,
            "type": "pie"
           }
          ],
          "scatter": [
           {
            "fillpattern": {
             "fillmode": "overlay",
             "size": 10,
             "solidity": 0.2
            },
            "type": "scatter"
           }
          ],
          "scatter3d": [
           {
            "line": {
             "colorbar": {
              "outlinewidth": 0,
              "ticks": ""
             }
            },
            "marker": {
             "colorbar": {
              "outlinewidth": 0,
              "ticks": ""
             }
            },
            "type": "scatter3d"
           }
          ],
          "scattercarpet": [
           {
            "marker": {
             "colorbar": {
              "outlinewidth": 0,
              "ticks": ""
             }
            },
            "type": "scattercarpet"
           }
          ],
          "scattergeo": [
           {
            "marker": {
             "colorbar": {
              "outlinewidth": 0,
              "ticks": ""
             }
            },
            "type": "scattergeo"
           }
          ],
          "scattergl": [
           {
            "marker": {
             "colorbar": {
              "outlinewidth": 0,
              "ticks": ""
             }
            },
            "type": "scattergl"
           }
          ],
          "scattermap": [
           {
            "marker": {
             "colorbar": {
              "outlinewidth": 0,
              "ticks": ""
             }
            },
            "type": "scattermap"
           }
          ],
          "scattermapbox": [
           {
            "marker": {
             "colorbar": {
              "outlinewidth": 0,
              "ticks": ""
             }
            },
            "type": "scattermapbox"
           }
          ],
          "scatterpolar": [
           {
            "marker": {
             "colorbar": {
              "outlinewidth": 0,
              "ticks": ""
             }
            },
            "type": "scatterpolar"
           }
          ],
          "scatterpolargl": [
           {
            "marker": {
             "colorbar": {
              "outlinewidth": 0,
              "ticks": ""
             }
            },
            "type": "scatterpolargl"
           }
          ],
          "scatterternary": [
           {
            "marker": {
             "colorbar": {
              "outlinewidth": 0,
              "ticks": ""
             }
            },
            "type": "scatterternary"
           }
          ],
          "surface": [
           {
            "colorbar": {
             "outlinewidth": 0,
             "ticks": ""
            },
            "colorscale": [
             [
              0,
              "#0d0887"
             ],
             [
              0.1111111111111111,
              "#46039f"
             ],
             [
              0.2222222222222222,
              "#7201a8"
             ],
             [
              0.3333333333333333,
              "#9c179e"
             ],
             [
              0.4444444444444444,
              "#bd3786"
             ],
             [
              0.5555555555555556,
              "#d8576b"
             ],
             [
              0.6666666666666666,
              "#ed7953"
             ],
             [
              0.7777777777777778,
              "#fb9f3a"
             ],
             [
              0.8888888888888888,
              "#fdca26"
             ],
             [
              1,
              "#f0f921"
             ]
            ],
            "type": "surface"
           }
          ],
          "table": [
           {
            "cells": {
             "fill": {
              "color": "#EBF0F8"
             },
             "line": {
              "color": "white"
             }
            },
            "header": {
             "fill": {
              "color": "#C8D4E3"
             },
             "line": {
              "color": "white"
             }
            },
            "type": "table"
           }
          ]
         },
         "layout": {
          "annotationdefaults": {
           "arrowcolor": "#2a3f5f",
           "arrowhead": 0,
           "arrowwidth": 1
          },
          "autotypenumbers": "strict",
          "coloraxis": {
           "colorbar": {
            "outlinewidth": 0,
            "ticks": ""
           }
          },
          "colorscale": {
           "diverging": [
            [
             0,
             "#8e0152"
            ],
            [
             0.1,
             "#c51b7d"
            ],
            [
             0.2,
             "#de77ae"
            ],
            [
             0.3,
             "#f1b6da"
            ],
            [
             0.4,
             "#fde0ef"
            ],
            [
             0.5,
             "#f7f7f7"
            ],
            [
             0.6,
             "#e6f5d0"
            ],
            [
             0.7,
             "#b8e186"
            ],
            [
             0.8,
             "#7fbc41"
            ],
            [
             0.9,
             "#4d9221"
            ],
            [
             1,
             "#276419"
            ]
           ],
           "sequential": [
            [
             0,
             "#0d0887"
            ],
            [
             0.1111111111111111,
             "#46039f"
            ],
            [
             0.2222222222222222,
             "#7201a8"
            ],
            [
             0.3333333333333333,
             "#9c179e"
            ],
            [
             0.4444444444444444,
             "#bd3786"
            ],
            [
             0.5555555555555556,
             "#d8576b"
            ],
            [
             0.6666666666666666,
             "#ed7953"
            ],
            [
             0.7777777777777778,
             "#fb9f3a"
            ],
            [
             0.8888888888888888,
             "#fdca26"
            ],
            [
             1,
             "#f0f921"
            ]
           ],
           "sequentialminus": [
            [
             0,
             "#0d0887"
            ],
            [
             0.1111111111111111,
             "#46039f"
            ],
            [
             0.2222222222222222,
             "#7201a8"
            ],
            [
             0.3333333333333333,
             "#9c179e"
            ],
            [
             0.4444444444444444,
             "#bd3786"
            ],
            [
             0.5555555555555556,
             "#d8576b"
            ],
            [
             0.6666666666666666,
             "#ed7953"
            ],
            [
             0.7777777777777778,
             "#fb9f3a"
            ],
            [
             0.8888888888888888,
             "#fdca26"
            ],
            [
             1,
             "#f0f921"
            ]
           ]
          },
          "colorway": [
           "#636efa",
           "#EF553B",
           "#00cc96",
           "#ab63fa",
           "#FFA15A",
           "#19d3f3",
           "#FF6692",
           "#B6E880",
           "#FF97FF",
           "#FECB52"
          ],
          "font": {
           "color": "#2a3f5f"
          },
          "geo": {
           "bgcolor": "white",
           "lakecolor": "white",
           "landcolor": "#E5ECF6",
           "showlakes": true,
           "showland": true,
           "subunitcolor": "white"
          },
          "hoverlabel": {
           "align": "left"
          },
          "hovermode": "closest",
          "mapbox": {
           "style": "light"
          },
          "paper_bgcolor": "white",
          "plot_bgcolor": "#E5ECF6",
          "polar": {
           "angularaxis": {
            "gridcolor": "white",
            "linecolor": "white",
            "ticks": ""
           },
           "bgcolor": "#E5ECF6",
           "radialaxis": {
            "gridcolor": "white",
            "linecolor": "white",
            "ticks": ""
           }
          },
          "scene": {
           "xaxis": {
            "backgroundcolor": "#E5ECF6",
            "gridcolor": "white",
            "gridwidth": 2,
            "linecolor": "white",
            "showbackground": true,
            "ticks": "",
            "zerolinecolor": "white"
           },
           "yaxis": {
            "backgroundcolor": "#E5ECF6",
            "gridcolor": "white",
            "gridwidth": 2,
            "linecolor": "white",
            "showbackground": true,
            "ticks": "",
            "zerolinecolor": "white"
           },
           "zaxis": {
            "backgroundcolor": "#E5ECF6",
            "gridcolor": "white",
            "gridwidth": 2,
            "linecolor": "white",
            "showbackground": true,
            "ticks": "",
            "zerolinecolor": "white"
           }
          },
          "shapedefaults": {
           "line": {
            "color": "#2a3f5f"
           }
          },
          "ternary": {
           "aaxis": {
            "gridcolor": "white",
            "linecolor": "white",
            "ticks": ""
           },
           "baxis": {
            "gridcolor": "white",
            "linecolor": "white",
            "ticks": ""
           },
           "bgcolor": "#E5ECF6",
           "caxis": {
            "gridcolor": "white",
            "linecolor": "white",
            "ticks": ""
           }
          },
          "title": {
           "x": 0.05
          },
          "xaxis": {
           "automargin": true,
           "gridcolor": "white",
           "linecolor": "white",
           "ticks": "",
           "title": {
            "standoff": 15
           },
           "zerolinecolor": "white",
           "zerolinewidth": 2
          },
          "yaxis": {
           "automargin": true,
           "gridcolor": "white",
           "linecolor": "white",
           "ticks": "",
           "title": {
            "standoff": 15
           },
           "zerolinecolor": "white",
           "zerolinewidth": 2
          }
         }
        },
        "title": {
         "text": "tsne reduction technique. Visualization of Image Embeddings"
        },
        "xaxis": {
         "anchor": "y",
         "domain": [
          0,
          1
         ],
         "title": {
          "text": "x"
         }
        },
        "yaxis": {
         "anchor": "x",
         "domain": [
          0,
          1
         ],
         "title": {
          "text": "y"
         }
        }
       }
      }
     },
     "metadata": {},
     "output_type": "display_data"
    },
    {
     "name": "stdout",
     "output_type": "stream",
     "text": [
      "Reduced embeddings from 384 to 2\n"
     ]
    },
    {
     "data": {
      "application/vnd.plotly.v1+json": {
       "config": {
        "plotlyServerURL": "https://plot.ly"
       },
       "data": [
        {
         "hovertemplate": "class=0<br>x=%{x}<br>y=%{y}<extra></extra>",
         "legendgroup": "0",
         "marker": {
          "color": "#636efa",
          "size": 3,
          "symbol": "circle"
         },
         "mode": "markers",
         "name": "0",
         "showlegend": true,
         "textfont": {
          "size": 25
         },
         "type": "scattergl",
         "x": {
          "bdata": "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",
          "dtype": "f4"
         },
         "xaxis": "x",
         "y": {
          "bdata": "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",
          "dtype": "f4"
         },
         "yaxis": "y"
        },
        {
         "hovertemplate": "class=1<br>x=%{x}<br>y=%{y}<extra></extra>",
         "legendgroup": "1",
         "marker": {
          "color": "#EF553B",
          "size": 3,
          "symbol": "diamond"
         },
         "mode": "markers",
         "name": "1",
         "showlegend": true,
         "textfont": {
          "size": 25
         },
         "type": "scattergl",
         "x": {
          "bdata": "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",
          "dtype": "f4"
         },
         "xaxis": "x",
         "y": {
          "bdata": "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",
          "dtype": "f4"
         },
         "yaxis": "y"
        },
        {
         "hovertemplate": "class=2<br>x=%{x}<br>y=%{y}<extra></extra>",
         "legendgroup": "2",
         "marker": {
          "color": "#00cc96",
          "size": 3,
          "symbol": "square"
         },
         "mode": "markers",
         "name": "2",
         "showlegend": true,
         "textfont": {
          "size": 25
         },
         "type": "scattergl",
         "x": {
          "bdata": "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",
          "dtype": "f4"
         },
         "xaxis": "x",
         "y": {
          "bdata": "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",
          "dtype": "f4"
         },
         "yaxis": "y"
        },
        {
         "hovertemplate": "class=3<br>x=%{x}<br>y=%{y}<extra></extra>",
         "legendgroup": "3",
         "marker": {
          "color": "#ab63fa",
          "size": 3,
          "symbol": "x"
         },
         "mode": "markers",
         "name": "3",
         "showlegend": true,
         "textfont": {
          "size": 25
         },
         "type": "scattergl",
         "x": {
          "bdata": "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",
          "dtype": "f4"
         },
         "xaxis": "x",
         "y": {
          "bdata": "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",
          "dtype": "f4"
         },
         "yaxis": "y"
        }
       ],
       "layout": {
        "legend": {
         "title": {
          "text": "class"
         },
         "tracegroupgap": 0
        },
        "template": {
         "data": {
          "bar": [
           {
            "error_x": {
             "color": "#2a3f5f"
            },
            "error_y": {
             "color": "#2a3f5f"
            },
            "marker": {
             "line": {
              "color": "#E5ECF6",
              "width": 0.5
             },
             "pattern": {
              "fillmode": "overlay",
              "size": 10,
              "solidity": 0.2
             }
            },
            "type": "bar"
           }
          ],
          "barpolar": [
           {
            "marker": {
             "line": {
              "color": "#E5ECF6",
              "width": 0.5
             },
             "pattern": {
              "fillmode": "overlay",
              "size": 10,
              "solidity": 0.2
             }
            },
            "type": "barpolar"
           }
          ],
          "carpet": [
           {
            "aaxis": {
             "endlinecolor": "#2a3f5f",
             "gridcolor": "white",
             "linecolor": "white",
             "minorgridcolor": "white",
             "startlinecolor": "#2a3f5f"
            },
            "baxis": {
             "endlinecolor": "#2a3f5f",
             "gridcolor": "white",
             "linecolor": "white",
             "minorgridcolor": "white",
             "startlinecolor": "#2a3f5f"
            },
            "type": "carpet"
           }
          ],
          "choropleth": [
           {
            "colorbar": {
             "outlinewidth": 0,
             "ticks": ""
            },
            "type": "choropleth"
           }
          ],
          "contour": [
           {
            "colorbar": {
             "outlinewidth": 0,
             "ticks": ""
            },
            "colorscale": [
             [
              0,
              "#0d0887"
             ],
             [
              0.1111111111111111,
              "#46039f"
             ],
             [
              0.2222222222222222,
              "#7201a8"
             ],
             [
              0.3333333333333333,
              "#9c179e"
             ],
             [
              0.4444444444444444,
              "#bd3786"
             ],
             [
              0.5555555555555556,
              "#d8576b"
             ],
             [
              0.6666666666666666,
              "#ed7953"
             ],
             [
              0.7777777777777778,
              "#fb9f3a"
             ],
             [
              0.8888888888888888,
              "#fdca26"
             ],
             [
              1,
              "#f0f921"
             ]
            ],
            "type": "contour"
           }
          ],
          "contourcarpet": [
           {
            "colorbar": {
             "outlinewidth": 0,
             "ticks": ""
            },
            "type": "contourcarpet"
           }
          ],
          "heatmap": [
           {
            "colorbar": {
             "outlinewidth": 0,
             "ticks": ""
            },
            "colorscale": [
             [
              0,
              "#0d0887"
             ],
             [
              0.1111111111111111,
              "#46039f"
             ],
             [
              0.2222222222222222,
              "#7201a8"
             ],
             [
              0.3333333333333333,
              "#9c179e"
             ],
             [
              0.4444444444444444,
              "#bd3786"
             ],
             [
              0.5555555555555556,
              "#d8576b"
             ],
             [
              0.6666666666666666,
              "#ed7953"
             ],
             [
              0.7777777777777778,
              "#fb9f3a"
             ],
             [
              0.8888888888888888,
              "#fdca26"
             ],
             [
              1,
              "#f0f921"
             ]
            ],
            "type": "heatmap"
           }
          ],
          "histogram": [
           {
            "marker": {
             "pattern": {
              "fillmode": "overlay",
              "size": 10,
              "solidity": 0.2
             }
            },
            "type": "histogram"
           }
          ],
          "histogram2d": [
           {
            "colorbar": {
             "outlinewidth": 0,
             "ticks": ""
            },
            "colorscale": [
             [
              0,
              "#0d0887"
             ],
             [
              0.1111111111111111,
              "#46039f"
             ],
             [
              0.2222222222222222,
              "#7201a8"
             ],
             [
              0.3333333333333333,
              "#9c179e"
             ],
             [
              0.4444444444444444,
              "#bd3786"
             ],
             [
              0.5555555555555556,
              "#d8576b"
             ],
             [
              0.6666666666666666,
              "#ed7953"
             ],
             [
              0.7777777777777778,
              "#fb9f3a"
             ],
             [
              0.8888888888888888,
              "#fdca26"
             ],
             [
              1,
              "#f0f921"
             ]
            ],
            "type": "histogram2d"
           }
          ],
          "histogram2dcontour": [
           {
            "colorbar": {
             "outlinewidth": 0,
             "ticks": ""
            },
            "colorscale": [
             [
              0,
              "#0d0887"
             ],
             [
              0.1111111111111111,
              "#46039f"
             ],
             [
              0.2222222222222222,
              "#7201a8"
             ],
             [
              0.3333333333333333,
              "#9c179e"
             ],
             [
              0.4444444444444444,
              "#bd3786"
             ],
             [
              0.5555555555555556,
              "#d8576b"
             ],
             [
              0.6666666666666666,
              "#ed7953"
             ],
             [
              0.7777777777777778,
              "#fb9f3a"
             ],
             [
              0.8888888888888888,
              "#fdca26"
             ],
             [
              1,
              "#f0f921"
             ]
            ],
            "type": "histogram2dcontour"
           }
          ],
          "mesh3d": [
           {
            "colorbar": {
             "outlinewidth": 0,
             "ticks": ""
            },
            "type": "mesh3d"
           }
          ],
          "parcoords": [
           {
            "line": {
             "colorbar": {
              "outlinewidth": 0,
              "ticks": ""
             }
            },
            "type": "parcoords"
           }
          ],
          "pie": [
           {
            "automargin": true,
            "type": "pie"
           }
          ],
          "scatter": [
           {
            "fillpattern": {
             "fillmode": "overlay",
             "size": 10,
             "solidity": 0.2
            },
            "type": "scatter"
           }
          ],
          "scatter3d": [
           {
            "line": {
             "colorbar": {
              "outlinewidth": 0,
              "ticks": ""
             }
            },
            "marker": {
             "colorbar": {
              "outlinewidth": 0,
              "ticks": ""
             }
            },
            "type": "scatter3d"
           }
          ],
          "scattercarpet": [
           {
            "marker": {
             "colorbar": {
              "outlinewidth": 0,
              "ticks": ""
             }
            },
            "type": "scattercarpet"
           }
          ],
          "scattergeo": [
           {
            "marker": {
             "colorbar": {
              "outlinewidth": 0,
              "ticks": ""
             }
            },
            "type": "scattergeo"
           }
          ],
          "scattergl": [
           {
            "marker": {
             "colorbar": {
              "outlinewidth": 0,
              "ticks": ""
             }
            },
            "type": "scattergl"
           }
          ],
          "scattermap": [
           {
            "marker": {
             "colorbar": {
              "outlinewidth": 0,
              "ticks": ""
             }
            },
            "type": "scattermap"
           }
          ],
          "scattermapbox": [
           {
            "marker": {
             "colorbar": {
              "outlinewidth": 0,
              "ticks": ""
             }
            },
            "type": "scattermapbox"
           }
          ],
          "scatterpolar": [
           {
            "marker": {
             "colorbar": {
              "outlinewidth": 0,
              "ticks": ""
             }
            },
            "type": "scatterpolar"
           }
          ],
          "scatterpolargl": [
           {
            "marker": {
             "colorbar": {
              "outlinewidth": 0,
              "ticks": ""
             }
            },
            "type": "scatterpolargl"
           }
          ],
          "scatterternary": [
           {
            "marker": {
             "colorbar": {
              "outlinewidth": 0,
              "ticks": ""
             }
            },
            "type": "scatterternary"
           }
          ],
          "surface": [
           {
            "colorbar": {
             "outlinewidth": 0,
             "ticks": ""
            },
            "colorscale": [
             [
              0,
              "#0d0887"
             ],
             [
              0.1111111111111111,
              "#46039f"
             ],
             [
              0.2222222222222222,
              "#7201a8"
             ],
             [
              0.3333333333333333,
              "#9c179e"
             ],
             [
              0.4444444444444444,
              "#bd3786"
             ],
             [
              0.5555555555555556,
              "#d8576b"
             ],
             [
              0.6666666666666666,
              "#ed7953"
             ],
             [
              0.7777777777777778,
              "#fb9f3a"
             ],
             [
              0.8888888888888888,
              "#fdca26"
             ],
             [
              1,
              "#f0f921"
             ]
            ],
            "type": "surface"
           }
          ],
          "table": [
           {
            "cells": {
             "fill": {
              "color": "#EBF0F8"
             },
             "line": {
              "color": "white"
             }
            },
            "header": {
             "fill": {
              "color": "#C8D4E3"
             },
             "line": {
              "color": "white"
             }
            },
            "type": "table"
           }
          ]
         },
         "layout": {
          "annotationdefaults": {
           "arrowcolor": "#2a3f5f",
           "arrowhead": 0,
           "arrowwidth": 1
          },
          "autotypenumbers": "strict",
          "coloraxis": {
           "colorbar": {
            "outlinewidth": 0,
            "ticks": ""
           }
          },
          "colorscale": {
           "diverging": [
            [
             0,
             "#8e0152"
            ],
            [
             0.1,
             "#c51b7d"
            ],
            [
             0.2,
             "#de77ae"
            ],
            [
             0.3,
             "#f1b6da"
            ],
            [
             0.4,
             "#fde0ef"
            ],
            [
             0.5,
             "#f7f7f7"
            ],
            [
             0.6,
             "#e6f5d0"
            ],
            [
             0.7,
             "#b8e186"
            ],
            [
             0.8,
             "#7fbc41"
            ],
            [
             0.9,
             "#4d9221"
            ],
            [
             1,
             "#276419"
            ]
           ],
           "sequential": [
            [
             0,
             "#0d0887"
            ],
            [
             0.1111111111111111,
             "#46039f"
            ],
            [
             0.2222222222222222,
             "#7201a8"
            ],
            [
             0.3333333333333333,
             "#9c179e"
            ],
            [
             0.4444444444444444,
             "#bd3786"
            ],
            [
             0.5555555555555556,
             "#d8576b"
            ],
            [
             0.6666666666666666,
             "#ed7953"
            ],
            [
             0.7777777777777778,
             "#fb9f3a"
            ],
            [
             0.8888888888888888,
             "#fdca26"
            ],
            [
             1,
             "#f0f921"
            ]
           ],
           "sequentialminus": [
            [
             0,
             "#0d0887"
            ],
            [
             0.1111111111111111,
             "#46039f"
            ],
            [
             0.2222222222222222,
             "#7201a8"
            ],
            [
             0.3333333333333333,
             "#9c179e"
            ],
            [
             0.4444444444444444,
             "#bd3786"
            ],
            [
             0.5555555555555556,
             "#d8576b"
            ],
            [
             0.6666666666666666,
             "#ed7953"
            ],
            [
             0.7777777777777778,
             "#fb9f3a"
            ],
            [
             0.8888888888888888,
             "#fdca26"
            ],
            [
             1,
             "#f0f921"
            ]
           ]
          },
          "colorway": [
           "#636efa",
           "#EF553B",
           "#00cc96",
           "#ab63fa",
           "#FFA15A",
           "#19d3f3",
           "#FF6692",
           "#B6E880",
           "#FF97FF",
           "#FECB52"
          ],
          "font": {
           "color": "#2a3f5f"
          },
          "geo": {
           "bgcolor": "white",
           "lakecolor": "white",
           "landcolor": "#E5ECF6",
           "showlakes": true,
           "showland": true,
           "subunitcolor": "white"
          },
          "hoverlabel": {
           "align": "left"
          },
          "hovermode": "closest",
          "mapbox": {
           "style": "light"
          },
          "paper_bgcolor": "white",
          "plot_bgcolor": "#E5ECF6",
          "polar": {
           "angularaxis": {
            "gridcolor": "white",
            "linecolor": "white",
            "ticks": ""
           },
           "bgcolor": "#E5ECF6",
           "radialaxis": {
            "gridcolor": "white",
            "linecolor": "white",
            "ticks": ""
           }
          },
          "scene": {
           "xaxis": {
            "backgroundcolor": "#E5ECF6",
            "gridcolor": "white",
            "gridwidth": 2,
            "linecolor": "white",
            "showbackground": true,
            "ticks": "",
            "zerolinecolor": "white"
           },
           "yaxis": {
            "backgroundcolor": "#E5ECF6",
            "gridcolor": "white",
            "gridwidth": 2,
            "linecolor": "white",
            "showbackground": true,
            "ticks": "",
            "zerolinecolor": "white"
           },
           "zaxis": {
            "backgroundcolor": "#E5ECF6",
            "gridcolor": "white",
            "gridwidth": 2,
            "linecolor": "white",
            "showbackground": true,
            "ticks": "",
            "zerolinecolor": "white"
           }
          },
          "shapedefaults": {
           "line": {
            "color": "#2a3f5f"
           }
          },
          "ternary": {
           "aaxis": {
            "gridcolor": "white",
            "linecolor": "white",
            "ticks": ""
           },
           "baxis": {
            "gridcolor": "white",
            "linecolor": "white",
            "ticks": ""
           },
           "bgcolor": "#E5ECF6",
           "caxis": {
            "gridcolor": "white",
            "linecolor": "white",
            "ticks": ""
           }
          },
          "title": {
           "x": 0.05
          },
          "xaxis": {
           "automargin": true,
           "gridcolor": "white",
           "linecolor": "white",
           "ticks": "",
           "title": {
            "standoff": 15
           },
           "zerolinecolor": "white",
           "zerolinewidth": 2
          },
          "yaxis": {
           "automargin": true,
           "gridcolor": "white",
           "linecolor": "white",
           "ticks": "",
           "title": {
            "standoff": 15
           },
           "zerolinecolor": "white",
           "zerolinewidth": 2
          }
         }
        },
        "title": {
         "text": "tsne reduction technique. Visualization of Image Embeddings"
        },
        "xaxis": {
         "anchor": "y",
         "domain": [
          0,
          1
         ],
         "title": {
          "text": "x"
         }
        },
        "yaxis": {
         "anchor": "x",
         "domain": [
          0,
          1
         ],
         "title": {
          "text": "y"
         }
        }
       }
      }
     },
     "metadata": {},
     "output_type": "display_data"
    }
   ],
   "source": [
    "# px.scatter(x=X_tfidf_tsne[:,0], y=X_tfidf_tsne[:,1], color=df[\"label_name\"], title=\"TF-IDF TSNE\").show()\n",
    "# px.scatter(x=X_sbert_tsne[:,0], y=X_sbert_tsne[:,1], color=df[\"label_name\"], title=\"SBERT TSNE\").show()\n",
    "plot_embeddings(X_tfidf.toarray(), 0, symbol=\"class\", reduction_techniques=\"tsne\", color=\"class\")\n",
    "plot_embeddings(X_sbert, 0, symbol=\"class\", reduction_techniques=\"tsne\", color=\"class\")"
   ]
  },
  {
   "cell_type": "code",
   "execution_count": null,
   "metadata": {},
   "outputs": [
    {
     "name": "stderr",
     "output_type": "stream",
     "text": [
      "/home/cezary/DataMining/.venv/lib/python3.12/site-packages/sklearn/utils/deprecation.py:151: FutureWarning:\n",
      "\n",
      "'force_all_finite' was renamed to 'ensure_all_finite' in 1.6 and will be removed in 1.8.\n",
      "\n",
      "/home/cezary/DataMining/.venv/lib/python3.12/site-packages/umap/umap_.py:1952: UserWarning:\n",
      "\n",
      "n_jobs value 1 overridden to 1 by setting random_state. Use no seed for parallelism.\n",
      "\n"
     ]
    },
    {
     "name": "stdout",
     "output_type": "stream",
     "text": [
      "Reduced embeddings from 1000 to 2\n"
     ]
    },
    {
     "data": {
      "application/vnd.plotly.v1+json": {
       "config": {
        "plotlyServerURL": "https://plot.ly"
       },
       "data": [
        {
         "hovertemplate": "class=0<br>x=%{x}<br>y=%{y}<extra></extra>",
         "legendgroup": "0",
         "marker": {
          "color": "#636efa",
          "size": 3,
          "symbol": "circle"
         },
         "mode": "markers",
         "name": "0",
         "showlegend": true,
         "textfont": {
          "size": 25
         },
         "type": "scattergl",
         "x": {
          "bdata": "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",
          "dtype": "f4"
         },
         "xaxis": "x",
         "y": {
          "bdata": "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",
          "dtype": "f4"
         },
         "yaxis": "y"
        },
        {
         "hovertemplate": "class=1<br>x=%{x}<br>y=%{y}<extra></extra>",
         "legendgroup": "1",
         "marker": {
          "color": "#EF553B",
          "size": 3,
          "symbol": "diamond"
         },
         "mode": "markers",
         "name": "1",
         "showlegend": true,
         "textfont": {
          "size": 25
         },
         "type": "scattergl",
         "x": {
          "bdata": "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",
          "dtype": "f4"
         },
         "xaxis": "x",
         "y": {
          "bdata": "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",
          "dtype": "f4"
         },
         "yaxis": "y"
        },
        {
         "hovertemplate": "class=2<br>x=%{x}<br>y=%{y}<extra></extra>",
         "legendgroup": "2",
         "marker": {
          "color": "#00cc96",
          "size": 3,
          "symbol": "square"
         },
         "mode": "markers",
         "name": "2",
         "showlegend": true,
         "textfont": {
          "size": 25
         },
         "type": "scattergl",
         "x": {
          "bdata": "E8HCP5WIU75qx64/HfQuP/GRiT7Trck+gJJSOwThGcC4nmQ/34UgvwrNTr8M8ZQ/IPaKvzMrmcBtwpU/cqI8v3c2gUAf3+s/BHGhPc/Qsr9tvE3A8YoGQKjIpL6Va8o/s6VcwDYorD8AgLy8z5m6PuCORD6cBfC/y68+v/fLvT+Tqjm/0DGAQLnxgUDEekk/EJsfPwVlxT+gDYW+qFmSPUN1CED4OyG+vQw2vxAinT9Zj8s/YAfkPycsIMAjkn1A9Qm+vklnnr3qhOm/duKAQPahob5oukG/05ECQG9Qxb6B0OI/ociMQOBGVD4C8ApA4GOLP2FEvD8gY6A/Z6Owvj3d7T8EHgTAoCUAP2rVtr9MpNs/EbTcPyaPpb9p6YFAWWspwOZHmj/ZENG/aWLlvhPqBMCWFck+R4CJvrOdFD4KyR3A9xaMQAnVLT/ocoW+FdIdwKPJkb+FE72+RDrZP31Vt76BU+O+zFHPPk4dY76QBQq/m4iVPzcBvL8I6Li/9qlbP9wI3j9V38E/idS3PtIvxT/drdo/wwEvwCW0LsCUAdI/eDcnwKNR/T4Cw+Y+zl5dv9r6kT8JAj2/TLEBQCVO+L/7pNY/WingP/oz3r+2s4nAUEOCQDeJqz5Y/ANAuNQnv2mTET6OFNc/5poMP913IcBQfBNABEmqP/aOaL+pRd8/Gu3RPnjXqz8qyM4/xr8dvRA1qj65Spg/UV6APsX/sj7rjB2+xfuOPz9oLz9FYfK/iHTPPztn8j+fKn9A5Ou6Po9eyL/OiDk/al6WvYdWSz5RquE/rhPRPYdm3z95Xru//+PFv6wx5T5WaCvAftp+QHdqIcDa1R3AlcqTwFV7jMCpmx+/k/PpPSSluz8ikEA+9vnMPyAKjEDa9ynAOxVVv0UnIsD6wq0/7bu5PvQvKcDXH/I/wBulvyyYisByVsY/ezuivlYoQb/e/+y/+2cRQKCyAUCWtgdA+A8rwJduyD9Hrkm+6zSwPoAW4j8HvxnAIeQYwBWg3T/ZmSTAdz8WPUvaBL/KRas9RRqfP1/s6L7AtY0/TVGWP5F2XD+xTqY/IMomwNolKcDvTeM/fZZ2vxyVQr4FqYE/hm88v5UTkT9NnkHACEKgPx1+L79zuw8/AG+Wv+pxLMBHYKa/MBX9v71AEj/z4zTAZ/q8v+hKBEDg5oNAMGcvvk4IfT/EYRnAl6yNvvryOsCrl3Q/opwAvwOrSL+ze4O/nPHmPyiuqD9WFIxA4SuuPy4kIj8Srpc/VkyZP8tbFcCIEoS85ZcfP4Mn2T6vPh3A5Yv5Pz/VxD97Mx3ALLLFPxkigb8JlIFADyMqvyjTHr/+wcc/W5C8PsAWM75RLwQ/og0KQJbVZD/jwGC+0KCwPOcJNL9gqY8/SkJDv8rCRj+GSh4/2QPhP0m6jECIuYJAWVIsvezoZT/mfNs/B8OQP4pP+b/c+4BAu4iBQEWki0DZoo/AvufSvwxH+76aX4FAykVCPwbIgL+a4+W/cYYEP/3kqL9qv/a/+r/lP6dAA0A5OdW/I/mLQIqbgUDOn1w/vMyLvzUd5r691sS/Vy67v0yVOb4qpjTAN6GXwJmlbT8Hsbs//4R0PUzUwz/Dcbm/bfc3v2nfA8CNkv0/nySYPyji1r52x9O/nPqVPwF6Zb6PLzzAS9vQP1ocU78Cn7C+GyMWwPkM5j8ntOe/dU1Wv43Amj/KPwvARTROviusvj8ZP1a90PxbwGiO7D9UdyA/DS/UvriHkb8Y3rC9HlkIv4qfSL+hJpY/cj+lPzGekj8RMN0/xULPPspfrr8g0pY/ImwQQKyfxz194aU8l8i4PzR90b98S/I+X+jtP9ZFgUCqQH9AHAsOwMK3fkAfSkG+2fvHPxeuvT41Xt4/z2lXP1MgSb9awUG/y6XpP7ivcL4Z8U29FgAgv+0dhEBBaQPAFyncPA6Ftj6D/o/Ay46rP4X7Ur9EUto+pq9jPy+rYT8FdOA//h2BQHt2zT+MV6u/crh3vtrG27/keJS+o20iP4lSCL/RSwvATWEIQEiagEDHELw/X50NQAWjkL9bvay+pHyYv9pE9T+Gv18/hT6Mvu7KgEAj6Q2/hTDIP7HZgkBn+MY/44Xrv/degsCCMI8/iikkQLKGDr9KUQdAT64tv5w1gkCrrrA7JNzQv6B2xT8YAIxANPIFQAZmmb/AdT6/gMWLPt6Uoj+wPeA+Y7q9Pq+09rzh0RY/rKtFwBq/jz9KiXQ/9Tncvidk0z5CG2G/tlSQP93rZj9zdhq/2I8Mv6jovb4GsQvAi97PPsyPuT+gC4FA3HxgPwjnO7+Mpx/Ae6wywO3YQT8dJwlAE5GQvhDNTL+MX4Q/uAGHP5smi0CPVVu/kSLUP4w9eD/Hn+4/04dFPw1khT+JsSi7MMX0Py15n76Hajm/pyR0vx3kxD9MMvM/aa3EP9OVrz5XtK8+I3Sev6wpT74NYPu/+SoGvzt2Wr9x39I/7GfBvwbf/j9k1aE/kI6uP8V0hr4XALO/dEYBwJV9A77snDe/CTOrP3yZpj9Egt2/euvZP01zab7AsEbAoZu8Po20ZcBpEAE/pBejvzXGYj5MBw9Aijq0PmHZjsCDsiw/Zfijv5uWdsAcZqU/2SusP7p7675TzJg/s9yAv3A+Xj9T6Xg+7zDxPxFtmT+JGJO+4K+bP0lax755lNY/rQ6CQHWKJb+rUYJAXk3ZP4umfz+yBM0/bxWLv6I+Jr+hTJk/P4kbwF+tyj43ddy/g7ByPCntF8DUk58/+zKdP3lBBcDn+E29ASK6P/s5kcBJwaA/RjkrwEzYjEAI6Iq/J/18QLJY6r4oZl8/drhDwIgUqL6gMnE+aqSPwAec0b96gW6+Oz6TP6CWTb/qjMS+aqA3wEp/yr/S3X5AxMPqvzHaw772z54/tLSBQAlROD+n/hBA6I0bwAB5Qj+KGfs+qZ6ev1+t5T8sWOY+zxspwDA5x74kDto/y/OyPdFHCEBXxiTABWmcvm0B4T8NkwBA3yqKvnUEmT1aDU6/jslSPX7Mtj4qUKI/j65ZP8sLGcCRn52/p4A3wNHIub/xb3o9YdjuvUg6775ozlK/n2AOQE80wT++9Qg/cIxWP7fJpz901w8/3zqCQIeVRr7O+5E/BJ/aPktXDEBzs2c/l1gKPz74BkBGbgVA8qC+v/3zgUBezM2/NYc0wFJUFsAy3Ie/D8ukP4wKsD8KWeI/q0SLQBMdrT9FZaa+wVTQPpIaDsB7AJw+NFPGv0zANr/tgia/oHJ8v9ShxD9lI6W+DaEkPzj0gz9bL4vA8oKjP1oJCT/wZwRAbY6WPyqVlT+Z9JY/Jq9yP1yAmT9kFQfAykSDQByp4T/mhYw/vMjjvGKaA8DGUxs//L/rP3DSnD7gMZi/e5ZdP5H92D/pZ5I/kRSrvzupYj91KYFAyRIXwBEdQcAqOZC+2lFPvyt+E8BZ9R2/Hfw5wInsoT86muQ/GgmaP16uBr7MHSA/K8RWP/+rHMD5rirAKBOgP7vnHb+Ad4FAxA2lP2ifmz9sMVc/j7lWPy9jpr7Cb9A/BfyBQLspfD9op7+/UpuMP/oL+j7pKZc/weZWP2ZEPD4lwuK+rlt2P5CnNz9jjr0/UyXuP/Cyuz+cn+g/AOyPv0PgkD+Kwrg++SjJP/WHrr+fjeQ+XBpYPw1Zxb9SMg9AtWWLQFKgkz/XqxPAbEelP/n8Lz3gq1zA6gWVP67hhz+3iJ0+pH44P+25CUB+Mq+/2u/DP9zoer+ropA/AMrCP508IsDndY0/j5v2v6D3FcAUs9U/XU6TPvTmgj+5OPw/7+1NPxqufD/T3sM9GhieP1Uakz82GcI/EI7hPz+OIb97KNA/t5eGv9QP9D83Q7Y/IASwv8TFQsAhaTW/YieMQH4Tf0C7rIFAMujevafltr45HKu/SZYFQDX9wT/w6ItApJZdP8GQhMAU5V+/5HtDv2q4qT8lU4U/4rSVPkSwxj8H7gi+acXeP2dZoT8TJ44/k12OP0SINb/aZg/AMlClPwMsFcBmf/A+xmKEvsZMxj7jWRTAj02gP7eiJr9oook//gT7PnEgKz7N3Z8+5YDTP+1Ztj7IVMc/MGySv+8btjwgDw2/qnKqvz7Dvr8rpiE/BTIAwO73bj8+A8O/p30nPkOMTb59FMA/9pvevwXAU8C8daU+4xIEwLaC2r/2XB4//pt/QAvcbz9ZitK/1niCQLP7nz/dqYG/RRoawHJiJMB9bc293FuUP4lP2T9wPpDAIOccwKzVx7+6Jok+NK/XvvDcOb9j6o6/JGGMQK8PIEDY+HbAjKvavkVvyj95WLq/d9fkvjPRUr87w2S/22Z+QHsI6D4tszC+FVuNP1LAuL4f2w5AW0q+P0rMJsAUgsm/3VfdP8qHtT/rJAbAxdXWvv96HcCTGrY+TwsKvtAzij+NPBHA0R+/v8HzND9CqR7AwnZGP9JNsL++a0G/Ch0dwHsj3jyE9UDADpYePqnPFL+WlJw/5euuP150lr8GCCjAZbLEvwaMnb8Yv9k+su9gv5FhrL8rzsE/9h6CQH4AsT/KCZU+rCG6vo1nFb7lvg5AeB4WP03dQT8g9AZA/lcHv22w5L564QTASEQqv3b5l76AUIu+JT0IQITsMMDKJWU9JOONv5hEnr9K9YnArf7FPzwchUBfHjm+853gv25wgkCYNl3AjFj/vxLXhj8pEHpAUe2gP9HZwj+xMd8/YgMFQPjxqD/GbBLAmZ4LwJ5C+T7bZac+0o50vqdTB0Dt7Xo/BsCeP5figEA6pMY/NnfWv5Knsz6hxsg+apmSv7SwecAebRBAd30NQEdsxz5CFqY/O2Mnv30B3j5XX5o/hvhEvy072TwPIb0+1Df2PwUKBUBLkwnAa9/3Px1cvz7ApAhAmGRGPl9/jD675cA/Gh6QvirLIb8mms8+Wh+MQIlRuD7SKke/UYjgP1jkEsDVDLg/yUPfvzKqOsBCoZ8/7HA5v2uBt79lh4JAISOiPy+WScDK4ey+kC/nPzaUmT8glsu/ukh8P9FfRMBtD6M+QKfwv4G/ob4Whie/PzgkwNam5D/va07AQ0mMQDs41b+Xz5Q/DFmMQOnV5z7mKrg+DdkNP977sj/6CBXA3ddFv1b80Ty5KDu/9XWFP3frnD8BPuE/WcDDP0EEtT9OSoG/nhONvnQB1T5+NKQ/7CeJP8DPCr+9i0Y/mrGJP+TOxL7cR8W+76SqP6dJW8A/nLG/PJ3xvCUXm75GAa4/79yCQBezhz+/G30/pKNUwDzeaT+kOVi//aWiP+842b+1xuo9Fg9aP6kwvD6Ad4JAYQHpv/fBkMBz5k2/cBN9Pw==",
          "dtype": "f4"
         },
         "xaxis": "x",
         "y": {
          "bdata": "UcievA+joj6j0RbA/lamPVT0UT4A2D4/MrljQFccdkD9noG/13SLwJ8dQT9QCdS+GBSZvvo+Ijyc8hHAsB3mPppWRL/D7dE9nWr2Pni60z/CzOA/Zt34PlYHvr8JF9S/ZRANQEA9EsANlcc/rpl6vlFWM0Amn50/1vJcPt7Fsr8hu1c/xQI6vwV8RL992Vu/rvhKvh0zib+vg5M/sd03P0R0Cz/a4ra/IQzEP5GUHcBJUJo+7BrlvhkBn70s5jK/YObIvfLeMT6Sqk8/1H06vxMOID8aJo7AkxepvJk2CkCzOlc/T9wAQD59qDz74WO8/U8HwHUZt764DxPAuGW8P1Pi+764mcy/tz8SPsxCsj8zFAW/LBKvv1wNGr9Tfz+/jzpfQGbDHcDgH21AOAuDwPW7q75SHEQ+1j/SP2lQqz0nVXhA9gwBQPhJPr521Sq+UlZ6QBfBAT9gZlxAQK4BvzOX7b0CEHy/RUJzQNghnj+93wo9c/PUvte1Sj6oeb6/uDfOvy9PF7/hVALAFUd6vtjghb8d456+yjt1vo/DLkB9JKU/SYJLQEOvdb/SFXO/Fx1CPYuzwL9MAYrAWMwcP4dOMr7ws70+ChwBv6p/U0CpgsG/U1pBv6CP5D/ujqC9VVOAP2OclT/7Ifi+HuoivhpLbUBj6itA+FbNPl5qVT/3F7O+xl4bP9MfG8Du6cW+ogY+QCROX75a4wrA1ixkQEIsaL5Wiy8/bpUQwIahjb8xAiC+crHSv2wCOb6ywzW/hpgOP3XXWr3LYiFAbXoNP4dwaz/WRdi/9OCovtsSmb5cAlg/WTwcP/PBhr+cpoq/GBMtv3fNLb5+zdI/MbBlvJAkr780JMo+toFXv+1gDcCzeVI/0C+lPtyp/z/+5k1AdqK4PS9TSkBFIwnAuaN3vt86TUCKZL6+KklePwBewb/gMRO/Aj8lPsoWjMBad8a/3eApQHibM707ShC9rPBPQIS4z7+cz9s+hOaUP7ng0L8yTHlAO7VtQDt/lL4Wc0xAcswIPrhm5761HGRANiUiwJu0Y0BDcgK/yKgUwLLAAMBdkRnAWpRLQG1oLb6599e/bomOv+wFwz+Nraw/8WAcQGiGBb9cqIk/FnwcwNqfjMBpKa4/AITUv3jMhb+B0jpAwykMvVlylL/Zu46/BT6HP+t2Ez83rfA/CYC9vw+ktj4OXn9AVNXeP+Dtb78C1NI+ZXaIvv+Hoz6GZCi+si/IvnZjz79EMwBANK0BwEqmLT9/tMq/MZwJvwHvQz5Va3G+MSmov25BGD9rl3pAsZcavkkg0r+7Fr6+miadv5qHkj/TxDy/rC0NwK/CPT5uRaa9bT1YPgQTFz9Sd+4/hokuQN0fxT/14bu/5TxPPyzTG7+OIAW/85oVPmsZHb4coh+++wq4vw4W+z/B4jy/M2yWPmzaD8Dyywu/U67Bvxdccr72/jW/fcxJv6Go/j+p4Si/+FW/vy3QIr/WtEC/bo99P1S1NEDeahI+eXjJv5anRT749GE/PXvIvqSuE70vvms/FSr/P8muR7/L8MI+Ga3Lv4oiDT/wSt0/WsX6P057Ez/HiRq/ftpqvFTSxr+P18m/swaVvDSW8L/3Grs+P56MwHoUl78X+/G9tycAwB+J2r1RCok/cogFv88KXb8xebO+2tngv41bAr/b6lxA3n6pPoLG0L8gsi0/wA8Av1VJG8Bp8jdAlf+7v4f/mr/6zj6+6WEKQCMZx76Kpca/Oix4Pc3oAz8xqDY/VyEJwM8gCcC0J1c/8d0EwAyDGL8nKMM+ZHyMv49cyz9HeBjAgvIpQPYUlD9EKhfAnpH2P8iS2L7o6wc/8Q2JvjifOb/a+z6/FzoLwGfjL78YO009/c+Jv/FDjr/XpuG/l2nTvzszCr91VozAi6lZPhxWVD/WPJE/KnhjwP0PNr9Pvii+tb5WvnonjL9QMZ29idkjwIsGrj7PEpO/sSKhv/ar0r+KaNO/35M+v3U9hj4QLbE/MCvAPiL4yL/bWLm/jOK3P4dU1T+M3Y8/nJgLP4u8R7/gom6/wActQCIMJ0DTBCZAX3KiPzkBYj2Yhqc+P3MmQKcuN7/dCZk/8s+wPjSbX767neG/ntCOv+9XVT91ege/MpJsvulppLyi0wY//6kLwDvxRb/3c4o/wTexv0VDYL4a7/8/oeSHvMG80j/wnOE8sGOKP4y0H8C1tHJADw92vmYlyb5tG7M/YmLqP6q0yr7vgqm/Qr0xPyaWfL6XNQm/DUgIwO9cEEDeqIc/cnLCPhL5zb9KzOg/EwWWv+TsCMBF2Ti/IWLQv51qnz6oQea+u2QjQN4frL9Cpw0/nDKhv22NPj7jAcI+C5rbP+KzAkBQwxdAEwEiv5+Jmj7Zcq0+lrE+v6UV1D5kTyQ/aUkxPpK96T9LeorAiIGFP/U0mj+ZHk2+AmWXv3rbir7ZtB8/ELiLvpX87j5VMJA/ggMlPrgljEAEFAC/z5KVPrRyCL7vfse/I4QWwEjGmz/b/8o/IsbpvWDz7z7DPpE9YXcbvpo/D8DlLAw/G87Uv0yQJ0DQlGQ/VZWUvj71H0BVX6o/Z8kMP4t+FsDH6CtANvWDvzZfIEAVPoC/1MPnP0ilsT61jyLABqrLvtBZwL3bGQjAOl4Ov3x6179ietk+38ahvt6zFsDOL5k/wVzUvs5HST8DclS/56A4v2+pIT/5Ljq/pDhTPi2Ydb5nKJs+JJ72vtYXDsB9vR7AyUuXPTWwj7+MQpq/FlGvPzxlpz4ihBbAqV4TwLszLEClO4c/H/6bP/LcMb9ZLRXAUPQ+QJ9oAUB6O8m/6gEnvyw2sD7Jcc+/cyisP9BR6j+ioCk/AeEhQGiIckDUWFM/TVRwv4tGNz8p1C0/02Jov1LDcECN2i6/HxClPygy7r3VURTA2uM/v4nKfz8+ZyZAUoR8QJ6iD0D+hX+9eHveP04RsL4VgX6/qMBMQKy/Uj99ggC/BpZHv4jXCD9DaUtAvGq6PtP2rL/1lo69g0fEv45KvD4aPvc+HYkWv+P+rL9G3SBAACzUvwYldUATlQrAKGRnv4EuxL//r8k/3gMfPt/+xz80lXU/haT/Pbjnlb8hh5M9ORMxQMUREsDrAbA/GPZAv1alCj+txl0/EWtfPqLgAj7+rfW9Ak35vuRz1LytIAU/AgOCvs1ZQb+iHIk/f/9dv32MtD7UCh5AJPAdwId0HcBuS4q+40v9P3+tzb3rwxa+WUaUvyBVkz7opRA9XIRdP4VAjMAqYRC9chDUPhhwnb+TfMu/X5KRvsvBtj4Ocbm/RqnYv3Q7SL+WWwA/r3AfwOmP5L4zAB3A8VvoPvVsWL7bRhS/ZbCZvSGg179G7Qi/mv+iPrOkMEB5lW0/dFNNvlxiUz6VJqI9xVbVv5jLbL9ppw/A4EqOPjuA874/O1C/FYTAvnB4I8CuoV0/uiUIvyUgPT+XIIXAnh+MvnKaFMAIWdq/hicVwBYNPj/8XFm8WorTvzujRUAM7zBAwqogwLeCL73Bczu/oKccwNZaBr//D9W/SWzQvxYlBUBsMuy+sQU9v9Xldb93A1G+7EpSuvP5kj9ljlU/ztnpvlg6pz4Grv8/qt2rP1kNgT/XbAXAoRylvWEQob9MhLy+Gsr1Pxs2Fr+aMDA/h4vtv+taEEBwJ1k+MFyfv2Dck75gjCdAX1D9P1JFWD+ZznE+9AchwCeyVj/hfQi/ObgUwPx3FcBhOWJAky7Pvzev6T3YPDq/eBKev89yuD/SpsC+VKqZv1XKZEBzQzW/lduMvw3z+74xKZA+JDcvPxXpp79w6Zy9jSKsv5CiH8CDEkq+16AIwDs7Wj8cguq/z12pvsSrJUDSLO2/nKPTP+gEsj72KEG9enjDP9FrVEBByn7A6AkAQC76Mr+58ji/St/APosNPr3Ooss/qJMQP5kdnb+IkP8/lK2tPiBSxL8pQqE/bwOLwBvw2b++rLI+7VGBPm9tk7/KhEA/VnrWvzLnD8CxVxm/Jk4ZwMUhisBcQ35Af+8PwFJ8R0DH9O49OIwwP5yDoj/UjR9AN4kIwMYdyz/NosI+dTyPP5K0HUDUK0o+n8bcvxk7JL5yZfy/f6z0PE7etj/DJdk+7BIQQG9BZ7/7FoW/vLmYvm89sD7YDw7APBOdP7Lh4T4d6oW/UtNBPaPtVEC4V4a+OoMhP+UXzL/mlaO/TN83v2x4FECpRRxAtc06v7TddL+5ekk/dNlcQNBCT0AY4eI+MlUewG9pj75jQjm/x7h7QFvPIkAtWse/BTGGPrwNjMCvSaQ/1j0AQGRdoj9dhh5ABdmpPtEK9r86E6W+5Tx2v9QLjUAGUZo/Hzorv8Mt3z7CCkU/EhP/Pwo1gL9dNEW+XYeQvRQmTEB048y/Fj4Sv6Cpsr9UhmFAncJDPyckekCGlQA/FbJHP31ZBj4xwrs+D9dcvrzxgT62e4k/8NRuPzj9QT7cr1I+AmWlPGZ6TT9ShYQ/0zrPvWfeXsB/5B7A/f3rv0GF6z2nHx5ACSQVwA0/3j5tZhc/gjoTQLwEmz8XUp2/67RFv2Vcyb2yq5o9KAYlP9BJKD8XGpO9P94Ovz711T+TBAU/2eEfvynpur0zRRK/vdqoPq3Faj9WFM+/05zbPJPvFz9Gwum+doQxP4bpmT/nh7i/xwSJv7AVIb8SELC/6RLvvohMP7/4BwxAZGn3vefY4r+yLiy/BQKPP/79n78unu2+Baj2Pg3MHcDBKbo/BTfSPq7eLz+1sk0+jiMVvxbXWr5Dq5S/szEbwMvfPb+Nm9m/HsoDv4LImD0FQzA+TYsXv5+yaj0WpCpAs2YnQH23YD//byPAyUiEPB1aOUCIvxrAjSq4PtF2hT9V5FG+EMElvm9aGj0mNOc+krnyvVBlgL550wo/HZo7v0Fr8j/PhhK+nRVbP2/DfD6XHYm+7ub/P2MlUD4kOiQ+p/U7QBntoD5BmMO/AL11QDMacL9CgiDATnA/PiowD8DvykK/sOMDwNNrnD8+xDA/E1XWvgzkB8B42V6/QEjIPj6VyD6DB909NETCP/zOcT/opOm+AsVLQBe3n76kZ1BAbQYAQApjbUC2jFs/iv0AQKAd675373W+jSaov4KYnz/3RjS+q/EAPiMmxT6lY18/IknMv6HdFcAmQQlAL0Gdvy4htr+ijIC/3JW4P1aylL+Fog/AU57Ev+5ItT/KTtW/GT0iv4VaHr94nso+qcPGvwhAGb775nC+24SAv49jQD+1yyHAo01Gv2vktz5fm2C/IC5SQBpaKUCOC5I/fYQhQC5lhD+f6cA9VZOfv+uWk79EFDa/xuChP5xPM7/CK00+bBB+Pg==",
          "dtype": "f4"
         },
         "yaxis": "y"
        },
        {
         "hovertemplate": "class=3<br>x=%{x}<br>y=%{y}<extra></extra>",
         "legendgroup": "3",
         "marker": {
          "color": "#ab63fa",
          "size": 3,
          "symbol": "x"
         },
         "mode": "markers",
         "name": "3",
         "showlegend": true,
         "textfont": {
          "size": 25
         },
         "type": "scattergl",
         "x": {
          "bdata": "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",
          "dtype": "f4"
         },
         "xaxis": "x",
         "y": {
          "bdata": "Tx4tQDmhEECnmS1Au60CQLQasj+IEqe+0r7lP472OUDfTqe/l4Y0QNqHi8AfYeA/jahVQDaePkBU0CxAvArEP2XXVz8fjbI/lFQBQPewH0DkI4fAkK0tQNTEsT8kEMM+0BY1QKN4VD9cpjJAhAeOvp1SoL1xXyJAH9IQwGAkRkB4tgFA7kIOQA2yc8AMAje/ShESQPQqBUAz+VtA0/o/QPb6wb+EapY/whkjQIoKXEAd7RJAMqdDvUXsKkA3kjJA8SWOPvSCXkAfzStA0WZGQKRM6z/ojIzAoGA9QPilyD/yGQJAAxZ0QI0nHkDOcXJAv4KJwJ+tgj8SeG1ASowvQMGPK0AS8Wy/DpcwQL8lM0D7sgRAwSGlvbccC0BUMhRAD7QWQDeoyj+vCExAX6KoP00dTL+DNCxA+EQsQD37NUDZijtAVFZIQG19BUAPiNw/8L89QO6fpz833VlAyRc7QEFspD/aTQrARxI1QLL9H0Cp07c/ZooRwBLJUUDy+1FAnXskQFlPHEAUamxARZdBQBJmgT8Ug1dA3yw4QN/fmT+zKENAIkdmPwgIoz9oEsI/dZuPwL9cDEASRlNADN39v4KRMkAjjg5AOrusPqXEAUAZMAk/dDMbvyYCA78Avhg/B8ZuP3cqJEDVy1RA14kgQCoEMz/L9Zg/a2nTP04jjMBq3to/HkfCPdSkBkDmv80/OSeqP6jdM0Dd4ztAKzZzQEogC8DJM1hAmbYzwJMSwz+oxTJA1oPuP5J9c0A8fWBAV4lOPTpSpz/NOTxA/K3LvhjKFkB87qW+6KR0P+1rE0B9BhNAEAQfvze6zT/ndfM/ocnQP0NPQ0Acvt0/c0WMQDQO+z/TGoy+AP4Fv43+rT91r7o/kWVcQMinVUA8ODVAyBB2QGj/ikCqfDlApQz7P5SsHT9Xqz2+kyYYvmVrIEBQ2Ow/f/1aQBHgIkA7wOI/s08WvbP1QUBzglk/92JcQPcQmD9CTwNAYvHuPwdYjMDw3Zg/k6guvshrBEAY5hxALTcIQNgpDMCTGldAXENSQAYg/z9h5LE/F2WNP/HlAT8FUT5AOgZbQCtlsT8sK3VAfrgRQGP4pD96a01Ai6e/P36e/D+qMr0/f3iwPzM5/j+C4D1A2SYtQGQwbUDBJhZAZFmrP95QGkBxxgdAyXASwD7Suz85xbU/5XQJQOJpEkCeSz1AbWY7QGKRK0BJjlxA5YAIQGgKfMCwDug/MCscP/JiCUDlLozA54sHQCPPf71zmsk/s8igP0Vh8z7NRqc+MbPBPxq1Kr4LNTlADqKyP28vQj+humBAGVVrQB91hcCeI+0/RqJtQGZ0rz8/nlRANqA5QBoaJ0BSV1lAf+IuQDvYQUC0ZqE/BWorQAQFTEByL1lAkoCuvRzCAL9HgCVAKi0XQGkMdUBHxhpAyhotQJlOFEAa98M+NLJVQJJjTT8Z+GlAWDuKwL8xmT/+1Fm+KhX2vqZBgD/0lPE/gMpCQNPALECuqo3AGp8oQPjJBkBkRMc/+oJ1QLZ7UT+0gxfAdf5Jv+O+WECgGwdAeyUIQM1lLkDiyztAZgnPv+erKEAMW5g/1kYNQLipAj6XLXVAzEujP6ewA0AZ5lhAUjNQQNMQM0Cf8rg/X1J3QKJ+S0D53itAn3EaQJ+GV72bmd0/OCBaQA8YjD9tjSO/VsyPv0BkST9f9o1ApjdxQMXCeUDRTIu9SzHqP+DIzz/cqiFAImpcQD2WUEBEaTpAwlyoPpUgWD+Z+oDA3ox4P4PtC0DlyFRALVHlPwxhK0CIfQW/J4AuQBfVWEAsLTRA8JkmQIDZ4L/9b43A0u0JQN8iKkAvmytAYV8rQHweLr82lFhAdoK9P0ad4D98jzNAAluWvswoLUBREPo/o+P8O2y0TUBAjCZAZxc6QA9QAED3k11ATIoDQCE8hT93HmpAQOzUP2o57T/a2o3Aibtmv/Q6GkDZHzpA1gZtQK/GyD3DVqO+6haFQOjHjsCHVvI/WMVIP8c6W0ChJ4++39J3QMf2MEAIu4rAkcuOvtcRfj8nnitADch7P3KBLUAX2VQ/uPKcPkhfqD8Qnrs/0ZCbP+akqj+qe1xAZtUTQA5ZOEBH0CdA9vj1P87fib8hPzBA7Mb/P+6v6D/23QS/FF2ZvuL15z+6sc8/Ld8SQIFtMUAfY1hAYbp0QHUtckC9HT1ApU1nPyUs8T+tfZk/IyKjP8Xfuj/4iDdASFL5P67Cc0A0RxpAXZJ1P/TYAb6HSvI+1t4HP/GbjsBBXxRAFqA4QEhwUUD0I1xA+0lVQNf98T9NYw1AoKt9P6rs0j/tzixAwp0lQOigdEDE7P0/s806P7y2B0CaDovAk/p0QKvPkz9Dfbk/Z5MnQOEdOkCkMdE/q/r7P0Tmej8++llAuLL/P084mj/enhZAnH+PP4Z3bkB/EpI/fbUFv4thKkBPJjpANqD0P1+FbkD0CSFAztIcQBaWWUBdvg1ARsf0P3MFaUAS0ChA9VAsQIYTVT9DdNU/mVS0P3i/iMCmmsg/mhI5QARA/j9aO1e+04zwP8e4HD+y3Q1ADltGQBAMKEBaExlAgPcyQJr/CMBHeEpAg8tvQA/OF0D7lgi+Wim9P5h4P0AdnCFA7tqsPxqTHEAFyGlAC/thvJ2ijEAxOhJARKB/QPLNjcC2sIxANlgMQK2dIkA+qYm/FdhUQH3xNkBm+Rs/fHLvP53wUkDi1uU/FDr3Pu0CL0AArx5Aeq1WQA+hREDoFApA1t8EP7YGnD/uw84/c/KMQLHzOUBmwjVA2LbJP/2TckA9PFpAySqhPzchBz5L51RAoSj1P1KpGUCgBY3AqoAtQNHhCEBRWDI/TrfVPz+njcBafcQ/ax/yP+Ni8j/cJss/NrAeQMcbvD+BS8A/Kp0SQI3nCEBFRThARWtwP1V38T8eTbM/lUjYvA7ROEBVQzlAJSBfQDqVCUBvpkg/H5eev8a6Tr1rQDpAuOixP2USdT/grTQ/GlX7P7UWDkB+NidAn1UhQPNrekCpHOY/bMIsPTZdWUBfPA1AYSt6QK4UOEBXLkO+4xY9QLRRhz/MXy1A3nEwQBl0g79ooP4/L86nP2vEXL/p7Ic/rFRmQMpcb0AM5+Q/ZNZ+P2d/JUBeVwI/DuknQKsxB0ByLOg/ryQPQPnuZz//iixAdAMIv3LM8T/SgkG/pUR3QOIfDEAd0S0/NWAkQP88IUAOXLE/PH2MwH4AIED/5DJAvuo8v/PZ+T/AL82/QJ1YQKSAmj92caM/UegsQHyuKkD56wRAKCn7P7c2pD9kQRNAxCv7P51vEkBe+xpAAM04QLtXNEAznma/tXWBPu+Tqr/xiyxALg95QKuPAkAm6FU+B08BP7OQckBEEts/zCNjQPlFLkAmI5s/c4whQJTsEkCMDN4/sgJJQOf9I0BhxCFAiRVsQBZ1VEBb6uK+f8Q7QDUOOEAB70xA7ZC5P04qYD83DWhA9uP3PyDzA0CAxy4/B2pxQP2NakB04IrAUE0MQH4zLkBOlcg/h5cnvjhPF0AqVVxA14CAP+DQrD59dP8/iRAXQOs5nj8o828/b4AXQAcbSz606fw/yjg6vZSoGUD1eis/H8MRQA1rbb86KKm9f5tyQIfjWj/2GFZAAf0fPWHnM78Mszs+ifctQE/f876C/6M/vDGjPryApz+oOuQ/5ggLQDx5+j+rY98/sB9CQF4/bj/8uEJAv9sPQHotoD/ffCO/y7clv7msLD8+iAm/FQY9P3z6YUDfvV4/UTtxQMmX3L4Tes0/cot6QImGjMCKVK8/9xEBQJenHEAVEVdAWYDrP3dlj8D53khAPZcTQGkz5j+I0GBAwaC/v8ICXUDf8g9AqPP8P9SISkDFRru/amhuP6DbsD9FnMs/Xl3UP+3w0D85Ok1AZMOJvodBwz/mrVhAfaOXvnzsOECJPhdA3RqPwPoOAD9NJP8/MTiDv6lTO0AW9so/gY3KP0TMX7516Ok/f3d0QOdhoD9vmRdAr5r2P3bGBEAPzKk/9HMxQHwrLkCqGipAcPy/Pk7vjsAVP50/LB1aP5LUSb8FlVVA6KQpQLcyFUCUreo/itzhPx4NFj/xaHNAR/RdQORiKkBUDvI/iDRCQKMBBkDaboxA/1s7QMcVMUBdJhlAtv8iQNqe/j/4/tY/sZQeQJC4BsDpVmu9nm5AQOjAZ0AuARRAGegSP37ayz+mFP8/C4uOwP3Ovr7bF7U/c4mRv+XDWkCsnwhAqj6BPzU2LUBkkBJAFnNhPxIC3j84xxRAEUBkQKTBdEC1K9E/LKmevsjlaEDus1xA6/GRvefCeb1w+A9AooBIP3c8jMDlArk/kaZhQKAcjD+X4VpAhUQhQIaxLEB9lAbASvtvQL0xoT8tE2dAnfimP4G4DkAznTZArDZZQF7vKUDKoQlALXAcQKxKX0BlF7M/yKe8PzF6AEC5mzFALGbvP6imLT4hwwy/nLUlQKLIJUDe75Q/uHSOP+gK8b7pEbQ/7uhnP5GBtj+3KmxAzrhCQLbR6z+237g/DXFAQOmfKUBp6DJAgTA/vVHZhz41yDZAn0RnQO36XECurj5ARTfBP7kv9T/K/zRAsQYyQIU24z8JpwI+QzgWwAUUnz6MjKQ/AGytP9jELkAM8ow9aXH6vqOwdECyQVxAdLrsPhzhF0Df8E5A7nE6QEuBlD8WuVhAs8kGQKjvCkAEATFAzX+NwFq/WECLplpAZ6YgQJ3JO0DH0h7AhyUhQK9/K0DC+kZAnNAjQCW8Tz71Uw5ANLNFQJ8zkj9lCfq+l05pPvWfsj+2fjy9XQNaQMFaY0B3cu4/SAruP+KJUb96eZs/zx5uv7aVFz8LayBATIl6P8ZqpD8mvi1AKY44QJEG+j81JqG/oumNP3tZxz/OAi5AjwghQBh/Sj9WNgBAVQE3QD5SPECreQZAV8RfP0UQLEClRPU/n7IuQBNr2j+y7ss/h/n6PxjsPEBlqQi//r0oQM0yDEBBkkZALlv4P3KkNUAulrg+GeY+QKAw3j+cjm4/5HUIQEdzS7+kKS1AFQIkQG0uisDRZBJAnG+EP1PQkMBnXtA/otihP8dapj9Nefs/sCAzQG+tLkCA3TFAfbfxPwk+K0DaxPA/Ok/PPwrnQ0Amty5ASauXP5ttNEAoGdI/YikRQIkpTEBSo6k9rqRwv/1cpj9JDuo/XS1Yv86ALkDAMRVA+6LCPwHh2z8mBRdAWCMdP2WPGz+m4sU/lYU2P8FACMCoiCZAlw67P7S7NECiWV1A91amP0zHrj/bs0q/IB8ivwbI/T+VMllA2P5JP9k+EUDFS01A4CI9QHw4uT9sUv0/MStdvw==",
          "dtype": "f4"
         },
         "yaxis": "y"
        }
       ],
       "layout": {
        "legend": {
         "title": {
          "text": "class"
         },
         "tracegroupgap": 0
        },
        "template": {
         "data": {
          "bar": [
           {
            "error_x": {
             "color": "#2a3f5f"
            },
            "error_y": {
             "color": "#2a3f5f"
            },
            "marker": {
             "line": {
              "color": "#E5ECF6",
              "width": 0.5
             },
             "pattern": {
              "fillmode": "overlay",
              "size": 10,
              "solidity": 0.2
             }
            },
            "type": "bar"
           }
          ],
          "barpolar": [
           {
            "marker": {
             "line": {
              "color": "#E5ECF6",
              "width": 0.5
             },
             "pattern": {
              "fillmode": "overlay",
              "size": 10,
              "solidity": 0.2
             }
            },
            "type": "barpolar"
           }
          ],
          "carpet": [
           {
            "aaxis": {
             "endlinecolor": "#2a3f5f",
             "gridcolor": "white",
             "linecolor": "white",
             "minorgridcolor": "white",
             "startlinecolor": "#2a3f5f"
            },
            "baxis": {
             "endlinecolor": "#2a3f5f",
             "gridcolor": "white",
             "linecolor": "white",
             "minorgridcolor": "white",
             "startlinecolor": "#2a3f5f"
            },
            "type": "carpet"
           }
          ],
          "choropleth": [
           {
            "colorbar": {
             "outlinewidth": 0,
             "ticks": ""
            },
            "type": "choropleth"
           }
          ],
          "contour": [
           {
            "colorbar": {
             "outlinewidth": 0,
             "ticks": ""
            },
            "colorscale": [
             [
              0,
              "#0d0887"
             ],
             [
              0.1111111111111111,
              "#46039f"
             ],
             [
              0.2222222222222222,
              "#7201a8"
             ],
             [
              0.3333333333333333,
              "#9c179e"
             ],
             [
              0.4444444444444444,
              "#bd3786"
             ],
             [
              0.5555555555555556,
              "#d8576b"
             ],
             [
              0.6666666666666666,
              "#ed7953"
             ],
             [
              0.7777777777777778,
              "#fb9f3a"
             ],
             [
              0.8888888888888888,
              "#fdca26"
             ],
             [
              1,
              "#f0f921"
             ]
            ],
            "type": "contour"
           }
          ],
          "contourcarpet": [
           {
            "colorbar": {
             "outlinewidth": 0,
             "ticks": ""
            },
            "type": "contourcarpet"
           }
          ],
          "heatmap": [
           {
            "colorbar": {
             "outlinewidth": 0,
             "ticks": ""
            },
            "colorscale": [
             [
              0,
              "#0d0887"
             ],
             [
              0.1111111111111111,
              "#46039f"
             ],
             [
              0.2222222222222222,
              "#7201a8"
             ],
             [
              0.3333333333333333,
              "#9c179e"
             ],
             [
              0.4444444444444444,
              "#bd3786"
             ],
             [
              0.5555555555555556,
              "#d8576b"
             ],
             [
              0.6666666666666666,
              "#ed7953"
             ],
             [
              0.7777777777777778,
              "#fb9f3a"
             ],
             [
              0.8888888888888888,
              "#fdca26"
             ],
             [
              1,
              "#f0f921"
             ]
            ],
            "type": "heatmap"
           }
          ],
          "histogram": [
           {
            "marker": {
             "pattern": {
              "fillmode": "overlay",
              "size": 10,
              "solidity": 0.2
             }
            },
            "type": "histogram"
           }
          ],
          "histogram2d": [
           {
            "colorbar": {
             "outlinewidth": 0,
             "ticks": ""
            },
            "colorscale": [
             [
              0,
              "#0d0887"
             ],
             [
              0.1111111111111111,
              "#46039f"
             ],
             [
              0.2222222222222222,
              "#7201a8"
             ],
             [
              0.3333333333333333,
              "#9c179e"
             ],
             [
              0.4444444444444444,
              "#bd3786"
             ],
             [
              0.5555555555555556,
              "#d8576b"
             ],
             [
              0.6666666666666666,
              "#ed7953"
             ],
             [
              0.7777777777777778,
              "#fb9f3a"
             ],
             [
              0.8888888888888888,
              "#fdca26"
             ],
             [
              1,
              "#f0f921"
             ]
            ],
            "type": "histogram2d"
           }
          ],
          "histogram2dcontour": [
           {
            "colorbar": {
             "outlinewidth": 0,
             "ticks": ""
            },
            "colorscale": [
             [
              0,
              "#0d0887"
             ],
             [
              0.1111111111111111,
              "#46039f"
             ],
             [
              0.2222222222222222,
              "#7201a8"
             ],
             [
              0.3333333333333333,
              "#9c179e"
             ],
             [
              0.4444444444444444,
              "#bd3786"
             ],
             [
              0.5555555555555556,
              "#d8576b"
             ],
             [
              0.6666666666666666,
              "#ed7953"
             ],
             [
              0.7777777777777778,
              "#fb9f3a"
             ],
             [
              0.8888888888888888,
              "#fdca26"
             ],
             [
              1,
              "#f0f921"
             ]
            ],
            "type": "histogram2dcontour"
           }
          ],
          "mesh3d": [
           {
            "colorbar": {
             "outlinewidth": 0,
             "ticks": ""
            },
            "type": "mesh3d"
           }
          ],
          "parcoords": [
           {
            "line": {
             "colorbar": {
              "outlinewidth": 0,
              "ticks": ""
             }
            },
            "type": "parcoords"
           }
          ],
          "pie": [
           {
            "automargin": true,
            "type": "pie"
           }
          ],
          "scatter": [
           {
            "fillpattern": {
             "fillmode": "overlay",
             "size": 10,
             "solidity": 0.2
            },
            "type": "scatter"
           }
          ],
          "scatter3d": [
           {
            "line": {
             "colorbar": {
              "outlinewidth": 0,
              "ticks": ""
             }
            },
            "marker": {
             "colorbar": {
              "outlinewidth": 0,
              "ticks": ""
             }
            },
            "type": "scatter3d"
           }
          ],
          "scattercarpet": [
           {
            "marker": {
             "colorbar": {
              "outlinewidth": 0,
              "ticks": ""
             }
            },
            "type": "scattercarpet"
           }
          ],
          "scattergeo": [
           {
            "marker": {
             "colorbar": {
              "outlinewidth": 0,
              "ticks": ""
             }
            },
            "type": "scattergeo"
           }
          ],
          "scattergl": [
           {
            "marker": {
             "colorbar": {
              "outlinewidth": 0,
              "ticks": ""
             }
            },
            "type": "scattergl"
           }
          ],
          "scattermap": [
           {
            "marker": {
             "colorbar": {
              "outlinewidth": 0,
              "ticks": ""
             }
            },
            "type": "scattermap"
           }
          ],
          "scattermapbox": [
           {
            "marker": {
             "colorbar": {
              "outlinewidth": 0,
              "ticks": ""
             }
            },
            "type": "scattermapbox"
           }
          ],
          "scatterpolar": [
           {
            "marker": {
             "colorbar": {
              "outlinewidth": 0,
              "ticks": ""
             }
            },
            "type": "scatterpolar"
           }
          ],
          "scatterpolargl": [
           {
            "marker": {
             "colorbar": {
              "outlinewidth": 0,
              "ticks": ""
             }
            },
            "type": "scatterpolargl"
           }
          ],
          "scatterternary": [
           {
            "marker": {
             "colorbar": {
              "outlinewidth": 0,
              "ticks": ""
             }
            },
            "type": "scatterternary"
           }
          ],
          "surface": [
           {
            "colorbar": {
             "outlinewidth": 0,
             "ticks": ""
            },
            "colorscale": [
             [
              0,
              "#0d0887"
             ],
             [
              0.1111111111111111,
              "#46039f"
             ],
             [
              0.2222222222222222,
              "#7201a8"
             ],
             [
              0.3333333333333333,
              "#9c179e"
             ],
             [
              0.4444444444444444,
              "#bd3786"
             ],
             [
              0.5555555555555556,
              "#d8576b"
             ],
             [
              0.6666666666666666,
              "#ed7953"
             ],
             [
              0.7777777777777778,
              "#fb9f3a"
             ],
             [
              0.8888888888888888,
              "#fdca26"
             ],
             [
              1,
              "#f0f921"
             ]
            ],
            "type": "surface"
           }
          ],
          "table": [
           {
            "cells": {
             "fill": {
              "color": "#EBF0F8"
             },
             "line": {
              "color": "white"
             }
            },
            "header": {
             "fill": {
              "color": "#C8D4E3"
             },
             "line": {
              "color": "white"
             }
            },
            "type": "table"
           }
          ]
         },
         "layout": {
          "annotationdefaults": {
           "arrowcolor": "#2a3f5f",
           "arrowhead": 0,
           "arrowwidth": 1
          },
          "autotypenumbers": "strict",
          "coloraxis": {
           "colorbar": {
            "outlinewidth": 0,
            "ticks": ""
           }
          },
          "colorscale": {
           "diverging": [
            [
             0,
             "#8e0152"
            ],
            [
             0.1,
             "#c51b7d"
            ],
            [
             0.2,
             "#de77ae"
            ],
            [
             0.3,
             "#f1b6da"
            ],
            [
             0.4,
             "#fde0ef"
            ],
            [
             0.5,
             "#f7f7f7"
            ],
            [
             0.6,
             "#e6f5d0"
            ],
            [
             0.7,
             "#b8e186"
            ],
            [
             0.8,
             "#7fbc41"
            ],
            [
             0.9,
             "#4d9221"
            ],
            [
             1,
             "#276419"
            ]
           ],
           "sequential": [
            [
             0,
             "#0d0887"
            ],
            [
             0.1111111111111111,
             "#46039f"
            ],
            [
             0.2222222222222222,
             "#7201a8"
            ],
            [
             0.3333333333333333,
             "#9c179e"
            ],
            [
             0.4444444444444444,
             "#bd3786"
            ],
            [
             0.5555555555555556,
             "#d8576b"
            ],
            [
             0.6666666666666666,
             "#ed7953"
            ],
            [
             0.7777777777777778,
             "#fb9f3a"
            ],
            [
             0.8888888888888888,
             "#fdca26"
            ],
            [
             1,
             "#f0f921"
            ]
           ],
           "sequentialminus": [
            [
             0,
             "#0d0887"
            ],
            [
             0.1111111111111111,
             "#46039f"
            ],
            [
             0.2222222222222222,
             "#7201a8"
            ],
            [
             0.3333333333333333,
             "#9c179e"
            ],
            [
             0.4444444444444444,
             "#bd3786"
            ],
            [
             0.5555555555555556,
             "#d8576b"
            ],
            [
             0.6666666666666666,
             "#ed7953"
            ],
            [
             0.7777777777777778,
             "#fb9f3a"
            ],
            [
             0.8888888888888888,
             "#fdca26"
            ],
            [
             1,
             "#f0f921"
            ]
           ]
          },
          "colorway": [
           "#636efa",
           "#EF553B",
           "#00cc96",
           "#ab63fa",
           "#FFA15A",
           "#19d3f3",
           "#FF6692",
           "#B6E880",
           "#FF97FF",
           "#FECB52"
          ],
          "font": {
           "color": "#2a3f5f"
          },
          "geo": {
           "bgcolor": "white",
           "lakecolor": "white",
           "landcolor": "#E5ECF6",
           "showlakes": true,
           "showland": true,
           "subunitcolor": "white"
          },
          "hoverlabel": {
           "align": "left"
          },
          "hovermode": "closest",
          "mapbox": {
           "style": "light"
          },
          "paper_bgcolor": "white",
          "plot_bgcolor": "#E5ECF6",
          "polar": {
           "angularaxis": {
            "gridcolor": "white",
            "linecolor": "white",
            "ticks": ""
           },
           "bgcolor": "#E5ECF6",
           "radialaxis": {
            "gridcolor": "white",
            "linecolor": "white",
            "ticks": ""
           }
          },
          "scene": {
           "xaxis": {
            "backgroundcolor": "#E5ECF6",
            "gridcolor": "white",
            "gridwidth": 2,
            "linecolor": "white",
            "showbackground": true,
            "ticks": "",
            "zerolinecolor": "white"
           },
           "yaxis": {
            "backgroundcolor": "#E5ECF6",
            "gridcolor": "white",
            "gridwidth": 2,
            "linecolor": "white",
            "showbackground": true,
            "ticks": "",
            "zerolinecolor": "white"
           },
           "zaxis": {
            "backgroundcolor": "#E5ECF6",
            "gridcolor": "white",
            "gridwidth": 2,
            "linecolor": "white",
            "showbackground": true,
            "ticks": "",
            "zerolinecolor": "white"
           }
          },
          "shapedefaults": {
           "line": {
            "color": "#2a3f5f"
           }
          },
          "ternary": {
           "aaxis": {
            "gridcolor": "white",
            "linecolor": "white",
            "ticks": ""
           },
           "baxis": {
            "gridcolor": "white",
            "linecolor": "white",
            "ticks": ""
           },
           "bgcolor": "#E5ECF6",
           "caxis": {
            "gridcolor": "white",
            "linecolor": "white",
            "ticks": ""
           }
          },
          "title": {
           "x": 0.05
          },
          "xaxis": {
           "automargin": true,
           "gridcolor": "white",
           "linecolor": "white",
           "ticks": "",
           "title": {
            "standoff": 15
           },
           "zerolinecolor": "white",
           "zerolinewidth": 2
          },
          "yaxis": {
           "automargin": true,
           "gridcolor": "white",
           "linecolor": "white",
           "ticks": "",
           "title": {
            "standoff": 15
           },
           "zerolinecolor": "white",
           "zerolinewidth": 2
          }
         }
        },
        "title": {
         "text": "umap reduction technique. Visualization of Image Embeddings"
        },
        "xaxis": {
         "anchor": "y",
         "domain": [
          0,
          1
         ],
         "title": {
          "text": "x"
         }
        },
        "yaxis": {
         "anchor": "x",
         "domain": [
          0,
          1
         ],
         "title": {
          "text": "y"
         }
        }
       }
      }
     },
     "metadata": {},
     "output_type": "display_data"
    },
    {
     "name": "stderr",
     "output_type": "stream",
     "text": [
      "/home/cezary/DataMining/.venv/lib/python3.12/site-packages/sklearn/utils/deprecation.py:151: FutureWarning:\n",
      "\n",
      "'force_all_finite' was renamed to 'ensure_all_finite' in 1.6 and will be removed in 1.8.\n",
      "\n",
      "/home/cezary/DataMining/.venv/lib/python3.12/site-packages/umap/umap_.py:1952: UserWarning:\n",
      "\n",
      "n_jobs value 1 overridden to 1 by setting random_state. Use no seed for parallelism.\n",
      "\n"
     ]
    },
    {
     "name": "stdout",
     "output_type": "stream",
     "text": [
      "Reduced embeddings from 384 to 2\n"
     ]
    },
    {
     "data": {
      "application/vnd.plotly.v1+json": {
       "config": {
        "plotlyServerURL": "https://plot.ly"
       },
       "data": [
        {
         "hovertemplate": "class=0<br>x=%{x}<br>y=%{y}<extra></extra>",
         "legendgroup": "0",
         "marker": {
          "color": "#636efa",
          "size": 3,
          "symbol": "circle"
         },
         "mode": "markers",
         "name": "0",
         "showlegend": true,
         "textfont": {
          "size": 25
         },
         "type": "scattergl",
         "x": {
          "bdata": "WIhhPzajCEGHBhtAjKCNvqwZ0T/Ui4I/aSRcPkYjGD8d5sQ/5xgHQb2ZAT+CxM0/Zc9YP2IOC0Bucqk/6M7tP8xwwj8QMTZAY6x3PgkCvkC2AwVAbG+yP3ppuT8ICxRASRbRPlB2Lj8nTvg/UQIcQPnBITxlQNY/mdLdvw6HKT5hS7Y+F4AjQIornD7madNADac6PzTiMT+Z+JU/1cy1QC03lD/fllY/vj5EP7y6Fr7N6gs+/tJ8P6RK3D8Ms1Y/SPOAPznlOkCLHa0/6QStQBW6gT/T42e+1NWzP2nIPj/3xco/DzCQPzX68z/tRz49SdwZQARwUz8mT4c/CxYRQH4rCUGR3Aa+KcwGQIpszECX7S2+r2cvP5lrTj9trvU/LAB5P2Ly2EC+hwNAKTMLP/2K8j9QaBM/DgkbQARVxz7jZHI/QBIdPlpwsz+IRJU/mxg4vUqu8T/23D0/FGU5P7t5GUDiAOw/9eVnPxLBOED5Y5M+cjY1QISr0z9RVSA/8eIBQHDkC0ABa/8/XUVsP+ASrD4nRNm+0v8QQKDV4r4JTT0//CX/PxL2yD9kWQQ/dHF8Pm1Yij6PPx5AtK8lP/GtZT/fRi0/4SLOQMFiRD+CNUc/J75hP2Fg9T83FydAnqNMPh0C3j4FkQ8+4GdXPzaoLz/9OL8/qiSFP4JKvj2VE8tAuGBEP2sEpT8pGjs/8RwiQJ7A6T+S6yVAUJ5HP7pvCkCLjhpAEIhvP1CJoz0Dz+c/RyCAP5iENz/apa09ZZqsP6tMuz8PYRY/CVr7vjK7CUBUusA/+Qg7QEfqHUCnooA/iam1Pg3i8j8g1BpAf8daP9bKHj4eVxxAUBYVQIgSE0CLl/I/OJSdPzly7D88IKg/p5LKQIgUoj+D2wFAsFniPxRVMkDZTMQ/CZhWP+TQPT9w7sq+/sRIPhujCUA1ah9Aezl7P5xotT+a9QRAahaJP+cP+T92jz4/AvziP/j/AUCNLAlA74k6Pz38mT//G64/HBdiP4VcCT9xbpe9eO/AP5mHB0AbgUi/BXxWP6lh9j/tjuE/jYs8vrx/Ij+tdyBAOQC7P3dINj9zYKE/pfCQP6MbCL/UAIK+9lULvdSgIz/XaaY9D9sPQMzFuj+ynwlAN560P8/C0T9R/lY/y/QCQAQDJEBaohdA5lBFv2XnYD8nLb8/3uGBP8mIzz8GvzI/vKMoPir+EkCPqoK+TyvNQAx+Oj9DPwVAmAEjQAV3tj+/MD8/LWwTQPYI8j7+eh5AskMbPyzaAkCWjJg/aVYYQNEp2b1lHjM/3gigvleEjz9Jw14/kbXnPbuXRD+6VNk+XA8tP5GIQz80Nd0+efPUP8jhDj5CFQFA5rCQP3Vlqz8dHv4/XRnQP2tVNEDWPIo+4AHvPwMmKUDCmmg9t06/PyRdGD4u5DpA99M3vqu7iD6ljjs/S6L+QAnhvD/+ZMk/JXbTP6rxB0Ge/h0/YenWQEJxLD7i/QlARaQIQIE0JkD8gsg/lvuWP7VuELsOse4/MdmtPiPLhr6a/aA/wTuePzvbvT+UDOw/gafYQGad+j53IZQ/yuRKP4DS+EDowRlAFPWHP70Itj8iQ60/wBb/P8QxzD/Lavc/3xcDQIsWwj4JZ6U/tjIxQOi5EEC4TAFAW+IHQDw5BUGjb3++LQyjP4iMJEAG8q0/yuCSPR3zx0DS5rI/ISD2P02AAD+d8Ow//gmcP2zAgD+F/b4/XQp2Pcyhrz/4CxBAlvloP7gGiL7MgR1AhqMBQJnMj76qBiE/zC7SP63AbD8AhAVApd0nQHOwCkDnYBpAu0S6PivSEUAXBUo/GGMlQFbcBEDKzA2/SWjmPgL9gz/Z6Gk/L5+6P58UtT+m5RlAdlcmQK8y00AlYO5A442XP/zHZL6LyR/AF6QIv+OogT9VIBFAy1XsP7admT/LzeE/Ec4QP35Hbz/82QxA6K53vSr8C0BCOhFATTizvj8u8Tz0q2E/iQ3HPxdR80C2eXE/RyVrP2GkqT8bGZq+NN/LQFmaDb85D0I/LpXdP2ClsT9zSrhAVkPjv9oQ9j/vy9BAFVB9vrSSxj+TTPU/zhAKQHcKjz9R24s/dwdaP1jmH0Aht5e+B5EkQDvzdj9A1LM/1ZwwP7D8bj9nx7Y/NZo7P0634T7BJxpAwsaDPvrSsz71NihAr3VRP8iMjz9/rLs/HLUTvcD5CUAYmiVAxlP5vZqDiD8HDmk/Z5YEQCaHNj67IpW+JmzgP5XFOr5vwwVAitvwP3i5aj/rzYc+T+6yPgTyzz96CXw/81L1vtNd5z8cXC0/9TqPPxDK4b39EwhAJiIpQGfpBkB/ZuY/SaIXQK8ctT+m7SRASDHNP7UxIUBqGjq8L4PWP6/CGD8SYAJAuaHgvy9YJj8V9mw/NDYHQChzNj+cFo4+AUsgQGpCWj+/Az8/E601P9newD+VCdI/TxYIP2cWAkA/jcw+1p8LQMgTNUDeXyZAhgPrP2N/7j9ERxVAfSB/PsUlMz+ECLc/6m8jQKu7Tz9XCZM/EvY6QE278T8bIAZAfRY7QN3qsT5NpFE/1AYLQCzMMUD6nxhAli8LQHRevT/0Olc+TQXGP1evMz4tFAa9Szy3Pb+VoT9mm/U9YwiuP5qMIEBkbrRALvE1PvpeWj82MTtAK3fnP//0wL4rXDQ/ReoSQLnGmT81xQVAMOmaP9zAxD+WMAZA1KzaP095nD97l5g/dPCQPwosrz+J+rQ/AciGvlEdB0AsURw/qusGQIQtxD+Vdf1AOjGVP2ZPPz9tYMM/GMG+PwXGfr/uacI+C6bKPq6HBb8o7oc/41D0P6ulkj+fYKE/JKq+P+i4+j8ZzTq+6q8UQNOH677+lRFASmAdQBC6175r8zdA+rT/P4xfOkAGIEO+ZxaMPxh0Sz9dQ7I/LselPzE6t0Dq1wdAsADmP5TCuD+iPpi9lrrVPy4utD+gOLg/kQjmP/yINr8GEj5AC423PwmXGb7ftMU/RCYPP6DgfT9j0YA/DLIdQItUAUBkteE/5goxP3/Pzj+mIf5AaXKOP5db1kAm4hs+cRqgvhrtLD8OrAq/5qwzP6jtvT8vTgZASHtVP9axyUAhBAJAGJiTP5s1wj9pX7c/pYn7PUim5z86Sjw/DtAfvhIBLUCSLhRA6KUHQLMjPD8T3w5APcGIPzn2tT9qBFm+0X10P/T48L4eO+8/1DHtP1L1tz9eC60/L/MHP1AWBkBEA/E/f2U3vtP5bj6N+4K+ZB1bvibE9r20e/A/cb6WP32XNj8rH9o9P5IGQDohvb7w6CVAb7oPv1O2G0B4BbVA0qjIPiM23j66uQFAcBYRP7VNlD96NTpAy95MPx9TdT7N4yBA3o2yP9waDcCXigNAg4SqP0YQLT8RMT1AhCIRQHIdNj9UH6M9xG3oP/FiD8BxghJAEp8avgJR/L6vcQJAsWzEP1KpRD+9kro/AFyxQD1ZB0FhnANArQEGPZGfH0D8oXU80CjTPgeOwb+QrARAg8wbP5gYQD+woMg/Bh4XP3e5E0Bn3Ry+7iLyPp5MLEARDsA+YDoCvmHd+T/xSjk/WZhvP5VPYz9+DRQ/yoe8PyVW1T8J3h1ARqXyPzkp8z+pHDY/ZK31QC9/Oj/gpJy+XHzRP0DoK0DffIc/3wiMP5a1Fj+DoDNAkDFSvcQv8D7fhSVANt7lP2u/rj9f6BNAHOu0P/kP9z/gHspAX0xZPzw2Zj/16+U/ocruvlYohT5cGspAgekeQIc/MEArcShAbKIHQArBtb5mB7M/5vu9P5r59D/Ca5E/X/m2P7e3RT9UroO958ykP6ZAtj+q3BxA6I4Tvxc8tD8EXJ4/T3DDPmb02kC2eq8/uaxGP/QvHz+9d+o/6xt8vXRqgz2CudQ/EvqAP0wOmT52bB9ACqA0P+1E6T6jRhlA5PWbvd8vCUBzZ6s/Go2nPy6tO0DYrCFAA5YdP0UlG0AVlF4/IWzGv/s0HkCgb70/kMY6P8dQQD+GULU/7ZmvP1JDSD/MEh5AYa/WP75IA0Dv/TRAjIYfQE8OsD9z2MRATaZDP9x9sb8iGwJAvSABQL1Rzz8hUeW9nMy2PjEyIUAav30+CnOKP8LkHT6b2Wg/zO/yPzwcrz+wn/o/ZQkXQK3QqD2zML69w7MDQBD0sj+zEMi99KRIvtl9Oj9rIN09N6CyPyeHCkAui2c/K8O9P/mWoj/xm7hAhYQEQOhr/j//UBJAOq/rP4YBpz6vTjo/h/BtP2GT+T/rht8+n687QI1Qoz/ZWwVAEv6Pvrm1iT+h0Ok/FjJXvGksOUAE5BJAFqnFP9AvZj8rnRG9im+5P9JxI0CcLN+/wr6UP6BVqT/oxz0/ydC9PzvA3j62/u0/ZKTiPz3zgz8McfM/60ISQB59CUBJC1w/P74OP3sM2kB+XwK/WcSgP4sABkAyRKo/7joEQBdk3z+ub2Y/lMI5P4QgIEApRXE/vCOXP6ILmTyDGBxAjB8AQNBgtz+SfbI/qouxP7FqE0A6uuw/io0/P5M8OUBh8ja+MKJuPy665D40Jkg/ZusGP7PbKD+tpME/PEyvPz4oST/JPYc9SegQP27hUD9Grjc/IDz1P5sRsT/RWqA9VkUiQPRXH0Ck01w/fitQPxNcEz/BJANAo9EQQOZaOj/u4qw/yK+lP9eoLD/1ORZAlA8mP1s+NkCkUxpANYkKPzof9z9h5b0/Z7Y4P48eJUB9yc0/tuEeQISlWT8nQcs/Xo5MP7W1rj/d6cM/H3knQJI1A0DSO58/rCQIPiH1+T9Ze0Y/lHCkP9QBvT8IIvi+m7YVvoprPj8cUMM/zH6tPychB0A9y5I/dZvtP8I1FEDk+5g/wigDQA3EgD06aYo/1lULP+G7yUBSZXy+sVNFP7eXEj+u5Zo/tvzZP0i1XT8tmVI/IgI8QKol2bwGtSNAkB6QP1sbPj/qgqI/nBYcvdj9hD8us8o+A7OEu4fQvj+mGh1Alq7yP5a3JECTPAw9EgSGPzCYJD8OyBNAsHzLP6FjcD9eQuo9NW8LPdnjQj+W5l8/YGknPrOwmT3MZRRAcGy3P0ionT/hkeM+01XuP5lsiT/jUeA/TEUAQJsfPj8QMLQ9NJtAP/9uPb+lCEU/WoBgP4R5sT9czPo+0tQ1vVXWTTzouCA/GeF3P41JCL4RxwdAWe7dv9vHLkCrrwdBWejjvg5wIEBwmiNAGmKyP7DFuj5e3h1ARssAQGvV5T9NVBm9KosIPw2z+T4E4P4/y+61vSkKJkB0Ff4/vbC2PTJTGD+GBQdA6DfsP1XBKUAnYiRAgIJLvgcazz5lDD1A3UhPQDCOAEAa+Yy+2ftWPg==",
          "dtype": "f4"
         },
         "xaxis": "x",
         "y": {
          "bdata": "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",
          "dtype": "f4"
         },
         "yaxis": "y"
        },
        {
         "hovertemplate": "class=1<br>x=%{x}<br>y=%{y}<extra></extra>",
         "legendgroup": "1",
         "marker": {
          "color": "#EF553B",
          "size": 3,
          "symbol": "diamond"
         },
         "mode": "markers",
         "name": "1",
         "showlegend": true,
         "textfont": {
          "size": 25
         },
         "type": "scattergl",
         "x": {
          "bdata": "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",
          "dtype": "f4"
         },
         "xaxis": "x",
         "y": {
          "bdata": "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",
          "dtype": "f4"
         },
         "yaxis": "y"
        },
        {
         "hovertemplate": "class=2<br>x=%{x}<br>y=%{y}<extra></extra>",
         "legendgroup": "2",
         "marker": {
          "color": "#00cc96",
          "size": 3,
          "symbol": "square"
         },
         "mode": "markers",
         "name": "2",
         "showlegend": true,
         "textfont": {
          "size": 25
         },
         "type": "scattergl",
         "x": {
          "bdata": "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",
          "dtype": "f4"
         },
         "xaxis": "x",
         "y": {
          "bdata": "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",
          "dtype": "f4"
         },
         "yaxis": "y"
        },
        {
         "hovertemplate": "class=3<br>x=%{x}<br>y=%{y}<extra></extra>",
         "legendgroup": "3",
         "marker": {
          "color": "#ab63fa",
          "size": 3,
          "symbol": "x"
         },
         "mode": "markers",
         "name": "3",
         "showlegend": true,
         "textfont": {
          "size": 25
         },
         "type": "scattergl",
         "x": {
          "bdata": "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",
          "dtype": "f4"
         },
         "xaxis": "x",
         "y": {
          "bdata": "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",
          "dtype": "f4"
         },
         "yaxis": "y"
        }
       ],
       "layout": {
        "legend": {
         "title": {
          "text": "class"
         },
         "tracegroupgap": 0
        },
        "template": {
         "data": {
          "bar": [
           {
            "error_x": {
             "color": "#2a3f5f"
            },
            "error_y": {
             "color": "#2a3f5f"
            },
            "marker": {
             "line": {
              "color": "#E5ECF6",
              "width": 0.5
             },
             "pattern": {
              "fillmode": "overlay",
              "size": 10,
              "solidity": 0.2
             }
            },
            "type": "bar"
           }
          ],
          "barpolar": [
           {
            "marker": {
             "line": {
              "color": "#E5ECF6",
              "width": 0.5
             },
             "pattern": {
              "fillmode": "overlay",
              "size": 10,
              "solidity": 0.2
             }
            },
            "type": "barpolar"
           }
          ],
          "carpet": [
           {
            "aaxis": {
             "endlinecolor": "#2a3f5f",
             "gridcolor": "white",
             "linecolor": "white",
             "minorgridcolor": "white",
             "startlinecolor": "#2a3f5f"
            },
            "baxis": {
             "endlinecolor": "#2a3f5f",
             "gridcolor": "white",
             "linecolor": "white",
             "minorgridcolor": "white",
             "startlinecolor": "#2a3f5f"
            },
            "type": "carpet"
           }
          ],
          "choropleth": [
           {
            "colorbar": {
             "outlinewidth": 0,
             "ticks": ""
            },
            "type": "choropleth"
           }
          ],
          "contour": [
           {
            "colorbar": {
             "outlinewidth": 0,
             "ticks": ""
            },
            "colorscale": [
             [
              0,
              "#0d0887"
             ],
             [
              0.1111111111111111,
              "#46039f"
             ],
             [
              0.2222222222222222,
              "#7201a8"
             ],
             [
              0.3333333333333333,
              "#9c179e"
             ],
             [
              0.4444444444444444,
              "#bd3786"
             ],
             [
              0.5555555555555556,
              "#d8576b"
             ],
             [
              0.6666666666666666,
              "#ed7953"
             ],
             [
              0.7777777777777778,
              "#fb9f3a"
             ],
             [
              0.8888888888888888,
              "#fdca26"
             ],
             [
              1,
              "#f0f921"
             ]
            ],
            "type": "contour"
           }
          ],
          "contourcarpet": [
           {
            "colorbar": {
             "outlinewidth": 0,
             "ticks": ""
            },
            "type": "contourcarpet"
           }
          ],
          "heatmap": [
           {
            "colorbar": {
             "outlinewidth": 0,
             "ticks": ""
            },
            "colorscale": [
             [
              0,
              "#0d0887"
             ],
             [
              0.1111111111111111,
              "#46039f"
             ],
             [
              0.2222222222222222,
              "#7201a8"
             ],
             [
              0.3333333333333333,
              "#9c179e"
             ],
             [
              0.4444444444444444,
              "#bd3786"
             ],
             [
              0.5555555555555556,
              "#d8576b"
             ],
             [
              0.6666666666666666,
              "#ed7953"
             ],
             [
              0.7777777777777778,
              "#fb9f3a"
             ],
             [
              0.8888888888888888,
              "#fdca26"
             ],
             [
              1,
              "#f0f921"
             ]
            ],
            "type": "heatmap"
           }
          ],
          "histogram": [
           {
            "marker": {
             "pattern": {
              "fillmode": "overlay",
              "size": 10,
              "solidity": 0.2
             }
            },
            "type": "histogram"
           }
          ],
          "histogram2d": [
           {
            "colorbar": {
             "outlinewidth": 0,
             "ticks": ""
            },
            "colorscale": [
             [
              0,
              "#0d0887"
             ],
             [
              0.1111111111111111,
              "#46039f"
             ],
             [
              0.2222222222222222,
              "#7201a8"
             ],
             [
              0.3333333333333333,
              "#9c179e"
             ],
             [
              0.4444444444444444,
              "#bd3786"
             ],
             [
              0.5555555555555556,
              "#d8576b"
             ],
             [
              0.6666666666666666,
              "#ed7953"
             ],
             [
              0.7777777777777778,
              "#fb9f3a"
             ],
             [
              0.8888888888888888,
              "#fdca26"
             ],
             [
              1,
              "#f0f921"
             ]
            ],
            "type": "histogram2d"
           }
          ],
          "histogram2dcontour": [
           {
            "colorbar": {
             "outlinewidth": 0,
             "ticks": ""
            },
            "colorscale": [
             [
              0,
              "#0d0887"
             ],
             [
              0.1111111111111111,
              "#46039f"
             ],
             [
              0.2222222222222222,
              "#7201a8"
             ],
             [
              0.3333333333333333,
              "#9c179e"
             ],
             [
              0.4444444444444444,
              "#bd3786"
             ],
             [
              0.5555555555555556,
              "#d8576b"
             ],
             [
              0.6666666666666666,
              "#ed7953"
             ],
             [
              0.7777777777777778,
              "#fb9f3a"
             ],
             [
              0.8888888888888888,
              "#fdca26"
             ],
             [
              1,
              "#f0f921"
             ]
            ],
            "type": "histogram2dcontour"
           }
          ],
          "mesh3d": [
           {
            "colorbar": {
             "outlinewidth": 0,
             "ticks": ""
            },
            "type": "mesh3d"
           }
          ],
          "parcoords": [
           {
            "line": {
             "colorbar": {
              "outlinewidth": 0,
              "ticks": ""
             }
            },
            "type": "parcoords"
           }
          ],
          "pie": [
           {
            "automargin": true,
            "type": "pie"
           }
          ],
          "scatter": [
           {
            "fillpattern": {
             "fillmode": "overlay",
             "size": 10,
             "solidity": 0.2
            },
            "type": "scatter"
           }
          ],
          "scatter3d": [
           {
            "line": {
             "colorbar": {
              "outlinewidth": 0,
              "ticks": ""
             }
            },
            "marker": {
             "colorbar": {
              "outlinewidth": 0,
              "ticks": ""
             }
            },
            "type": "scatter3d"
           }
          ],
          "scattercarpet": [
           {
            "marker": {
             "colorbar": {
              "outlinewidth": 0,
              "ticks": ""
             }
            },
            "type": "scattercarpet"
           }
          ],
          "scattergeo": [
           {
            "marker": {
             "colorbar": {
              "outlinewidth": 0,
              "ticks": ""
             }
            },
            "type": "scattergeo"
           }
          ],
          "scattergl": [
           {
            "marker": {
             "colorbar": {
              "outlinewidth": 0,
              "ticks": ""
             }
            },
            "type": "scattergl"
           }
          ],
          "scattermap": [
           {
            "marker": {
             "colorbar": {
              "outlinewidth": 0,
              "ticks": ""
             }
            },
            "type": "scattermap"
           }
          ],
          "scattermapbox": [
           {
            "marker": {
             "colorbar": {
              "outlinewidth": 0,
              "ticks": ""
             }
            },
            "type": "scattermapbox"
           }
          ],
          "scatterpolar": [
           {
            "marker": {
             "colorbar": {
              "outlinewidth": 0,
              "ticks": ""
             }
            },
            "type": "scatterpolar"
           }
          ],
          "scatterpolargl": [
           {
            "marker": {
             "colorbar": {
              "outlinewidth": 0,
              "ticks": ""
             }
            },
            "type": "scatterpolargl"
           }
          ],
          "scatterternary": [
           {
            "marker": {
             "colorbar": {
              "outlinewidth": 0,
              "ticks": ""
             }
            },
            "type": "scatterternary"
           }
          ],
          "surface": [
           {
            "colorbar": {
             "outlinewidth": 0,
             "ticks": ""
            },
            "colorscale": [
             [
              0,
              "#0d0887"
             ],
             [
              0.1111111111111111,
              "#46039f"
             ],
             [
              0.2222222222222222,
              "#7201a8"
             ],
             [
              0.3333333333333333,
              "#9c179e"
             ],
             [
              0.4444444444444444,
              "#bd3786"
             ],
             [
              0.5555555555555556,
              "#d8576b"
             ],
             [
              0.6666666666666666,
              "#ed7953"
             ],
             [
              0.7777777777777778,
              "#fb9f3a"
             ],
             [
              0.8888888888888888,
              "#fdca26"
             ],
             [
              1,
              "#f0f921"
             ]
            ],
            "type": "surface"
           }
          ],
          "table": [
           {
            "cells": {
             "fill": {
              "color": "#EBF0F8"
             },
             "line": {
              "color": "white"
             }
            },
            "header": {
             "fill": {
              "color": "#C8D4E3"
             },
             "line": {
              "color": "white"
             }
            },
            "type": "table"
           }
          ]
         },
         "layout": {
          "annotationdefaults": {
           "arrowcolor": "#2a3f5f",
           "arrowhead": 0,
           "arrowwidth": 1
          },
          "autotypenumbers": "strict",
          "coloraxis": {
           "colorbar": {
            "outlinewidth": 0,
            "ticks": ""
           }
          },
          "colorscale": {
           "diverging": [
            [
             0,
             "#8e0152"
            ],
            [
             0.1,
             "#c51b7d"
            ],
            [
             0.2,
             "#de77ae"
            ],
            [
             0.3,
             "#f1b6da"
            ],
            [
             0.4,
             "#fde0ef"
            ],
            [
             0.5,
             "#f7f7f7"
            ],
            [
             0.6,
             "#e6f5d0"
            ],
            [
             0.7,
             "#b8e186"
            ],
            [
             0.8,
             "#7fbc41"
            ],
            [
             0.9,
             "#4d9221"
            ],
            [
             1,
             "#276419"
            ]
           ],
           "sequential": [
            [
             0,
             "#0d0887"
            ],
            [
             0.1111111111111111,
             "#46039f"
            ],
            [
             0.2222222222222222,
             "#7201a8"
            ],
            [
             0.3333333333333333,
             "#9c179e"
            ],
            [
             0.4444444444444444,
             "#bd3786"
            ],
            [
             0.5555555555555556,
             "#d8576b"
            ],
            [
             0.6666666666666666,
             "#ed7953"
            ],
            [
             0.7777777777777778,
             "#fb9f3a"
            ],
            [
             0.8888888888888888,
             "#fdca26"
            ],
            [
             1,
             "#f0f921"
            ]
           ],
           "sequentialminus": [
            [
             0,
             "#0d0887"
            ],
            [
             0.1111111111111111,
             "#46039f"
            ],
            [
             0.2222222222222222,
             "#7201a8"
            ],
            [
             0.3333333333333333,
             "#9c179e"
            ],
            [
             0.4444444444444444,
             "#bd3786"
            ],
            [
             0.5555555555555556,
             "#d8576b"
            ],
            [
             0.6666666666666666,
             "#ed7953"
            ],
            [
             0.7777777777777778,
             "#fb9f3a"
            ],
            [
             0.8888888888888888,
             "#fdca26"
            ],
            [
             1,
             "#f0f921"
            ]
           ]
          },
          "colorway": [
           "#636efa",
           "#EF553B",
           "#00cc96",
           "#ab63fa",
           "#FFA15A",
           "#19d3f3",
           "#FF6692",
           "#B6E880",
           "#FF97FF",
           "#FECB52"
          ],
          "font": {
           "color": "#2a3f5f"
          },
          "geo": {
           "bgcolor": "white",
           "lakecolor": "white",
           "landcolor": "#E5ECF6",
           "showlakes": true,
           "showland": true,
           "subunitcolor": "white"
          },
          "hoverlabel": {
           "align": "left"
          },
          "hovermode": "closest",
          "mapbox": {
           "style": "light"
          },
          "paper_bgcolor": "white",
          "plot_bgcolor": "#E5ECF6",
          "polar": {
           "angularaxis": {
            "gridcolor": "white",
            "linecolor": "white",
            "ticks": ""
           },
           "bgcolor": "#E5ECF6",
           "radialaxis": {
            "gridcolor": "white",
            "linecolor": "white",
            "ticks": ""
           }
          },
          "scene": {
           "xaxis": {
            "backgroundcolor": "#E5ECF6",
            "gridcolor": "white",
            "gridwidth": 2,
            "linecolor": "white",
            "showbackground": true,
            "ticks": "",
            "zerolinecolor": "white"
           },
           "yaxis": {
            "backgroundcolor": "#E5ECF6",
            "gridcolor": "white",
            "gridwidth": 2,
            "linecolor": "white",
            "showbackground": true,
            "ticks": "",
            "zerolinecolor": "white"
           },
           "zaxis": {
            "backgroundcolor": "#E5ECF6",
            "gridcolor": "white",
            "gridwidth": 2,
            "linecolor": "white",
            "showbackground": true,
            "ticks": "",
            "zerolinecolor": "white"
           }
          },
          "shapedefaults": {
           "line": {
            "color": "#2a3f5f"
           }
          },
          "ternary": {
           "aaxis": {
            "gridcolor": "white",
            "linecolor": "white",
            "ticks": ""
           },
           "baxis": {
            "gridcolor": "white",
            "linecolor": "white",
            "ticks": ""
           },
           "bgcolor": "#E5ECF6",
           "caxis": {
            "gridcolor": "white",
            "linecolor": "white",
            "ticks": ""
           }
          },
          "title": {
           "x": 0.05
          },
          "xaxis": {
           "automargin": true,
           "gridcolor": "white",
           "linecolor": "white",
           "ticks": "",
           "title": {
            "standoff": 15
           },
           "zerolinecolor": "white",
           "zerolinewidth": 2
          },
          "yaxis": {
           "automargin": true,
           "gridcolor": "white",
           "linecolor": "white",
           "ticks": "",
           "title": {
            "standoff": 15
           },
           "zerolinecolor": "white",
           "zerolinewidth": 2
          }
         }
        },
        "title": {
         "text": "umap reduction technique. Visualization of Image Embeddings"
        },
        "xaxis": {
         "anchor": "y",
         "domain": [
          0,
          1
         ],
         "title": {
          "text": "x"
         }
        },
        "yaxis": {
         "anchor": "x",
         "domain": [
          0,
          1
         ],
         "title": {
          "text": "y"
         }
        }
       }
      }
     },
     "metadata": {},
     "output_type": "display_data"
    }
   ],
   "source": [
    "# px.scatter(x=X_tfidf_umap[:,0], y=X_tfidf_umap[:,1], color=df[\"label_name\"], title=\"TF-IDF UMAP\").show()\n",
    "# px.scatter(x=X_sbert_umap[:,0], y=X_sbert_umap[:,1], color=df[\"label_name\"], title=\"SBERT UMAP\").show()\n",
    "plot_embeddings(X_tfidf.toarray(), 0, symbol=\"class\", reduction_techniques=\"umap\", color=\"class\")\n",
    "plot_embeddings(X_sbert, 0, symbol=\"class\", reduction_techniques=\"umap\", color=\"class\")"
   ]
  },
  {
   "cell_type": "code",
   "execution_count": null,
   "metadata": {},
   "outputs": [],
   "source": [
    "\n",
    "\n",
    "def cluster_embeddings(embeddings: NDArray, algorithm_name: str = 'KMeans', **kwargs):\n",
    "    \"\"\"\n",
    "    Clusters embeddings using a specified clustering algorithm from sklearn.\n",
    "    \n",
    "    Parameters:\n",
    "    -----------\n",
    "    embeddings : numpy.ndarray\n",
    "        The embeddings to cluster, shape (n_samples, n_features)\n",
    "    algorithm_name : str\n",
    "        Name of the clustering algorithm to use (must be available in sklearn.cluster\n",
    "        or be GaussianMixture)\n",
    "    **kwargs : \n",
    "        Additional parameters to pass to the clustering algorithm\n",
    "        \n",
    "    Returns:\n",
    "    --------\n",
    "    labels : numpy.ndarray\n",
    "        Cluster labels for each embedding, shape (n_samples,)\n",
    "    model : object\n",
    "        The fitted clustering model\n",
    "    \"\"\"\n",
    "    if not isinstance(embeddings, np.ndarray):\n",
    "        raise TypeError(\"Embeddings must be a numpy array\")\n",
    "\n",
    "    if len(embeddings.shape) != 2:\n",
    "        raise ValueError(f\"Embeddings must be 2D array, got shape {embeddings.shape}\")\n",
    "\n",
    "    if algorithm_name == 'GaussianMixture':\n",
    "        algorithm_class = GaussianMixture\n",
    "    else:\n",
    "        try:\n",
    "            algorithm_class = getattr(cluster, algorithm_name)\n",
    "        except AttributeError:\n",
    "            raise ValueError(f\"Algorithm '{algorithm_name}' not found in sklearn.cluster or is not GaussianMixture\")\n",
    "\n",
    "    model = algorithm_class(**kwargs)\n",
    "\n",
    "    if hasattr(model, 'fit_predict'):\n",
    "        labels = model.fit_predict(embeddings)\n",
    "    elif hasattr(model, 'fit') and hasattr(model, 'predict'):\n",
    "\n",
    "        model.fit(embeddings)\n",
    "        labels = model.predict(embeddings)\n",
    "    else:\n",
    "        raise ValueError(f\"Algorithm '{algorithm_name}' does not support required methods\")\n",
    "\n",
    "    return labels, model\n"
   ]
  }
 ],
 "metadata": {
  "kernelspec": {
   "display_name": ".venv",
   "language": "python",
   "name": "python3"
  },
  "language_info": {
   "codemirror_mode": {
    "name": "ipython",
    "version": 3
   },
   "file_extension": ".py",
   "mimetype": "text/x-python",
   "name": "python",
   "nbconvert_exporter": "python",
   "pygments_lexer": "ipython3",
   "version": "3.12.3"
  }
 },
 "nbformat": 4,
 "nbformat_minor": 2
}
